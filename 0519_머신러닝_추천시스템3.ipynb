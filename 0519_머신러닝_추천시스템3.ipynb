{
  "nbformat": 4,
  "nbformat_minor": 0,
  "metadata": {
    "colab": {
      "provenance": [],
      "authorship_tag": "ABX9TyPQI6S4gffGZpRUXVR2+2c9",
      "include_colab_link": true
    },
    "kernelspec": {
      "name": "python3",
      "display_name": "Python 3"
    },
    "language_info": {
      "name": "python"
    }
  },
  "cells": [
    {
      "cell_type": "markdown",
      "metadata": {
        "id": "view-in-github",
        "colab_type": "text"
      },
      "source": [
        "<a href=\"https://colab.research.google.com/github/20KMJ/ESAA7/blob/main/0519_%EB%A8%B8%EC%8B%A0%EB%9F%AC%EB%8B%9D_%EC%B6%94%EC%B2%9C%EC%8B%9C%EC%8A%A4%ED%85%9C3.ipynb\" target=\"_parent\"><img src=\"https://colab.research.google.com/assets/colab-badge.svg\" alt=\"Open In Colab\"/></a>"
      ]
    },
    {
      "cell_type": "markdown",
      "source": [
        "# CH9 추천 시스템"
      ],
      "metadata": {
        "id": "C18nagS0HFTF"
      }
    },
    {
      "cell_type": "markdown",
      "source": [
        "# 08 | 파이썬 추천 시스템 패키지 - Surprise"
      ],
      "metadata": {
        "id": "ZiB_wcxFHRIM"
      }
    },
    {
      "cell_type": "markdown",
      "source": [
        "## 8.1 Surprise 패키지 소개"
      ],
      "metadata": {
        "id": "ZMbpGGuOHWb4"
      }
    },
    {
      "cell_type": "markdown",
      "source": [
        "- 파이썬 기반의 추천 시스템 구축을 위한 전용 패키지\n",
        "- Surprise 패키지 주요 장점:\n",
        "1. 다양한 추천 알고리즘(사용자 또는 아이템 기반 최근접 이웃 협업 필터링, SVD, SVD++, NMF 기반의 잠재 요인 협업 필터링)을 쉽게 적용해 추천 시스템 구축 가능\n",
        "2. 사이킷런의 핵심 API와 유사한 API명으로 작성됨 (fit, predict, train_test_split, cross_validate, GridSearchCV 클래스를 통한 모델 셀렉션/평가/하이퍼 파라미터 튜닝 등)"
      ],
      "metadata": {
        "id": "ns8rhib4Levt"
      }
    },
    {
      "cell_type": "code",
      "source": [
        "! pip install scikit-surprise"
      ],
      "metadata": {
        "colab": {
          "base_uri": "https://localhost:8080/"
        },
        "id": "Bfz29WWOIR34",
        "outputId": "e02adf7b-4f98-472e-baed-74ff1c1242f8"
      },
      "execution_count": 1,
      "outputs": [
        {
          "output_type": "stream",
          "name": "stdout",
          "text": [
            "Looking in indexes: https://pypi.org/simple, https://us-python.pkg.dev/colab-wheels/public/simple/\n",
            "Collecting scikit-surprise\n",
            "  Downloading scikit-surprise-1.1.3.tar.gz (771 kB)\n",
            "\u001b[2K     \u001b[90m━━━━━━━━━━━━━━━━━━━━━━━━━━━━━━━━━━━━━━━\u001b[0m \u001b[32m772.0/772.0 kB\u001b[0m \u001b[31m9.8 MB/s\u001b[0m eta \u001b[36m0:00:00\u001b[0m\n",
            "\u001b[?25h  Preparing metadata (setup.py) ... \u001b[?25l\u001b[?25hdone\n",
            "Requirement already satisfied: joblib>=1.0.0 in /usr/local/lib/python3.10/dist-packages (from scikit-surprise) (1.2.0)\n",
            "Requirement already satisfied: numpy>=1.17.3 in /usr/local/lib/python3.10/dist-packages (from scikit-surprise) (1.22.4)\n",
            "Requirement already satisfied: scipy>=1.3.2 in /usr/local/lib/python3.10/dist-packages (from scikit-surprise) (1.10.1)\n",
            "Building wheels for collected packages: scikit-surprise\n",
            "  Building wheel for scikit-surprise (setup.py) ... \u001b[?25l\u001b[?25hdone\n",
            "  Created wheel for scikit-surprise: filename=scikit_surprise-1.1.3-cp310-cp310-linux_x86_64.whl size=3095462 sha256=a934ef82b7825d0c8ce3dc02607b1415317d3fed32454beaea56efb2886ada56\n",
            "  Stored in directory: /root/.cache/pip/wheels/a5/ca/a8/4e28def53797fdc4363ca4af740db15a9c2f1595ebc51fb445\n",
            "Successfully built scikit-surprise\n",
            "Installing collected packages: scikit-surprise\n",
            "Successfully installed scikit-surprise-1.1.3\n"
          ]
        }
      ]
    },
    {
      "cell_type": "markdown",
      "source": [
        "## 8.2 Surprise를 이용한 추천 시스템 구축"
      ],
      "metadata": {
        "id": "NQEJjAgwHens"
      }
    },
    {
      "cell_type": "code",
      "source": [
        "from surprise import SVD\n",
        "from surprise import Dataset\n",
        "from surprise import accuracy\n",
        "from surprise.model_selection import train_test_split"
      ],
      "metadata": {
        "id": "EvM6OjiMIWpG"
      },
      "execution_count": 4,
      "outputs": []
    },
    {
      "cell_type": "code",
      "source": [
        "data = Dataset.load_builtin('ml-100k') # 10만 개 평점 데이터\n",
        "trainset, testset = train_test_split(data, test_size=.25, random_state=0)"
      ],
      "metadata": {
        "colab": {
          "base_uri": "https://localhost:8080/"
        },
        "id": "cyz_HzM_Igpu",
        "outputId": "966a9ccd-e4f3-4341-ac4d-d48f0731839f"
      },
      "execution_count": 5,
      "outputs": [
        {
          "output_type": "stream",
          "name": "stdout",
          "text": [
            "Dataset ml-100k could not be found. Do you want to download it? [Y/n] Y\n",
            "Trying to download dataset from https://files.grouplens.org/datasets/movielens/ml-100k.zip...\n",
            "Done! Dataset ml-100k has been saved to /root/.surprise_data/ml-100k\n"
          ]
        }
      ]
    },
    {
      "cell_type": "code",
      "source": [
        "# SVD 잠재 요인 협업 필터링\n",
        "algo = SVD()\n",
        "algo.fit(trainset)"
      ],
      "metadata": {
        "colab": {
          "base_uri": "https://localhost:8080/"
        },
        "id": "HbVqOqK5I2pL",
        "outputId": "835e974d-8f21-45ba-8d77-73e4ad9f3ef6"
      },
      "execution_count": 6,
      "outputs": [
        {
          "output_type": "execute_result",
          "data": {
            "text/plain": [
              "<surprise.prediction_algorithms.matrix_factorization.SVD at 0x7f5615ceb070>"
            ]
          },
          "metadata": {},
          "execution_count": 6
        }
      ]
    },
    {
      "cell_type": "code",
      "source": [
        "## test()\n",
        "predictions = algo.test(testset)\n",
        "print('prediction type :', type(predictions), ' size:', len(predictions))\n",
        "print('prediction 결과의 최초 5개 추출')\n",
        "predictions[:5]"
      ],
      "metadata": {
        "colab": {
          "base_uri": "https://localhost:8080/"
        },
        "id": "rAlzPPNRIsW3",
        "outputId": "fea4446e-56a7-482a-a7f4-de160f529fc9"
      },
      "execution_count": 7,
      "outputs": [
        {
          "output_type": "stream",
          "name": "stdout",
          "text": [
            "prediction type : <class 'list'>  size: 25000\n",
            "prediction 결과의 최초 5개 추출\n"
          ]
        },
        {
          "output_type": "execute_result",
          "data": {
            "text/plain": [
              "[Prediction(uid='120', iid='282', r_ui=4.0, est=3.5174109320028846, details={'was_impossible': False}),\n",
              " Prediction(uid='882', iid='291', r_ui=4.0, est=3.818951355297434, details={'was_impossible': False}),\n",
              " Prediction(uid='535', iid='507', r_ui=5.0, est=4.367399735739253, details={'was_impossible': False}),\n",
              " Prediction(uid='697', iid='244', r_ui=5.0, est=3.400038290489974, details={'was_impossible': False}),\n",
              " Prediction(uid='751', iid='385', r_ui=4.0, est=3.2337845696882663, details={'was_impossible': False})]"
            ]
          },
          "metadata": {},
          "execution_count": 7
        }
      ]
    },
    {
      "cell_type": "code",
      "source": [
        "[ (pred.uid, pred.iid, pred.est) for pred in predictions[:3] ]"
      ],
      "metadata": {
        "colab": {
          "base_uri": "https://localhost:8080/"
        },
        "id": "1KlSAaJdKB2Q",
        "outputId": "d6aebfd3-397f-4b31-e160-a05d686c8264"
      },
      "execution_count": 13,
      "outputs": [
        {
          "output_type": "execute_result",
          "data": {
            "text/plain": [
              "[('120', '282', 3.5174109320028846),\n",
              " ('882', '291', 3.818951355297434),\n",
              " ('535', '507', 4.367399735739253)]"
            ]
          },
          "metadata": {},
          "execution_count": 13
        }
      ]
    },
    {
      "cell_type": "code",
      "source": [
        "## predict()\n",
        "# 사용자 아이디, 아이템 아이디는 문자열로 입력해야 함.\n",
        "uid = str(196)\n",
        "iid = str(302)\n",
        "pred = algo.predict(uid, iid)\n",
        "print(pred)"
      ],
      "metadata": {
        "colab": {
          "base_uri": "https://localhost:8080/"
        },
        "id": "KK1eGlgjKX_6",
        "outputId": "9e7150d5-8591-4373-cb70-ea39310a7ca8"
      },
      "execution_count": 14,
      "outputs": [
        {
          "output_type": "stream",
          "name": "stdout",
          "text": [
            "user: 196        item: 302        r_ui = None   est = 4.36   {'was_impossible': False}\n"
          ]
        }
      ]
    },
    {
      "cell_type": "code",
      "source": [
        "accuracy.rmse(predictions)"
      ],
      "metadata": {
        "colab": {
          "base_uri": "https://localhost:8080/"
        },
        "id": "97L79t3GKxvm",
        "outputId": "de442e7c-e13d-4b30-a338-1a71c9c8ed98"
      },
      "execution_count": 15,
      "outputs": [
        {
          "output_type": "stream",
          "name": "stdout",
          "text": [
            "RMSE: 0.9501\n"
          ]
        },
        {
          "output_type": "execute_result",
          "data": {
            "text/plain": [
              "0.9500673213280812"
            ]
          },
          "metadata": {},
          "execution_count": 15
        }
      ]
    },
    {
      "cell_type": "markdown",
      "source": [
        "## 8.3 Surprise 주요 모듈 소개"
      ],
      "metadata": {
        "id": "bw4RhlIDHjTY"
      }
    },
    {
      "cell_type": "markdown",
      "source": [
        "### 8.3.1 Dataset"
      ],
      "metadata": {
        "id": "mbNkI_p2HnYp"
      }
    },
    {
      "cell_type": "markdown",
      "source": [
        "1. `Dataset.load_builtin(name='ml-100k')`\n",
        "  - 무비렌즈 아카이브 FTP 서버에서 무비렌즈 데이터 내려받기\n",
        "2. `Dataset.load_from_file(file_path, reader)`\n",
        "  - OS 파일에서 데이터 로딩할 때 사용\n",
        "3. `Dataset.load_from_df(df, reader)`\n",
        "  - 판다스의 DataFrame에서 데이터 로딩"
      ],
      "metadata": {
        "id": "1_HEBrTjMo0m"
      }
    },
    {
      "cell_type": "markdown",
      "source": [
        "### 8.3.2 OS 파일 데이터를 Surprise 데이터 세트로 로딩"
      ],
      "metadata": {
        "id": "DwwDaaiYHqsJ"
      }
    },
    {
      "cell_type": "markdown",
      "source": [
        "`Dataset.load_from_file`"
      ],
      "metadata": {
        "id": "NIsgkM5ZNaoM"
      }
    },
    {
      "cell_type": "markdown",
      "source": [
        "- 주의: 칼럼 Header 제거 필요"
      ],
      "metadata": {
        "id": "i7UScKK0NdB9"
      }
    },
    {
      "cell_type": "code",
      "source": [
        "import pandas as pd\n",
        "\n",
        "ratings = pd.read_csv('ratings.csv')\n",
        "# ratings_noh.csv 파일로 언로드 시 인덱스와 헤더를 모두 제거한 새로운 파일 생성.\n",
        "ratings.to_csv('ratings_noh.csv', index=False, header=False)"
      ],
      "metadata": {
        "id": "tl70vXNZNlKc"
      },
      "execution_count": 16,
      "outputs": []
    },
    {
      "cell_type": "code",
      "source": [
        "from surprise import Reader\n",
        "# 파싱 정보 제공\n",
        "reader = Reader(line_format='user item rating timestamp', sep=',', rating_scale=(0.5, 5))\n",
        "data = Dataset.load_from_file('ratings_noh.csv', reader=reader)"
      ],
      "metadata": {
        "id": "cVvjgcxAPCuR"
      },
      "execution_count": 18,
      "outputs": []
    },
    {
      "cell_type": "markdown",
      "source": [
        "> **Reader 클래스 주요 생성 파라미터**  \n",
        "> `line_format (string)` : 칼럼을 순서대로 나열함. 입력된 문자열을 공백으로 분리해 칼럼으로 인식한다.\n",
        ">\n",
        ">\n",
        "> `sep (char)` : 칼럼을 분리하는 분리자  \n",
        ">\n",
        ">\n",
        "> `rating_scale (tuple, optional)` : 평점 값의 최소~최대 평점 설정"
      ],
      "metadata": {
        "id": "2IR1RBZrPjsk"
      }
    },
    {
      "cell_type": "code",
      "source": [
        "# SVD 행렬 분해 기법을 이용한 추천 예측\n",
        "\n",
        "trainset, testset = train_test_split(data, test_size=.25, random_state=0)\n",
        "\n",
        "algo = SVD(n_factors=50, random_state=0) # n_factors는 잠재 요인 크기 K값을 나타냄\n",
        "algo.fit(trainset)\n",
        "predictions = algo.test(testset)\n",
        "accuracy.rmse(predictions)"
      ],
      "metadata": {
        "colab": {
          "base_uri": "https://localhost:8080/"
        },
        "id": "3C7W7IznQe81",
        "outputId": "714e22f3-b893-4ace-c98d-02ec147c990e"
      },
      "execution_count": 19,
      "outputs": [
        {
          "output_type": "stream",
          "name": "stdout",
          "text": [
            "RMSE: 0.8682\n"
          ]
        },
        {
          "output_type": "execute_result",
          "data": {
            "text/plain": [
              "0.8681952927143516"
            ]
          },
          "metadata": {},
          "execution_count": 19
        }
      ]
    },
    {
      "cell_type": "markdown",
      "source": [
        "### 8.3.3 판다스 DataFrame에서 Surprise 데이터 세트로 로딩"
      ],
      "metadata": {
        "id": "fNu5yTf9Hu9J"
      }
    },
    {
      "cell_type": "code",
      "source": [
        "import pandas as pd\n",
        "from surprise import Reader, Dataset\n",
        "\n",
        "ratings = pd.read_csv('ratings.csv')\n",
        "reader = Reader(rating_scale=(0.5, 5.0))\n",
        "\n",
        "# ratings DataFrame에서 칼럼은 사용자 아이디, 아이템 아이디, 평점 순서를 지켜야 함\n",
        "data = Dataset.load_from_df(ratings[['userId', 'movieId', 'rating']], reader)\n",
        "trainset, testset = train_test_split(data, test_size=.25, random_state=0)\n",
        "\n",
        "algo = SVD(n_factors=50, random_state=0)\n",
        "algo.fit(trainset)\n",
        "predictions = algo.test(testset)\n",
        "accuracy.rmse(predictions)"
      ],
      "metadata": {
        "colab": {
          "base_uri": "https://localhost:8080/"
        },
        "id": "BNfOiLmZQ72g",
        "outputId": "cdd8e794-55f1-414e-fdd1-14ddf74346ac"
      },
      "execution_count": 20,
      "outputs": [
        {
          "output_type": "stream",
          "name": "stdout",
          "text": [
            "RMSE: 0.8682\n"
          ]
        },
        {
          "output_type": "execute_result",
          "data": {
            "text/plain": [
              "0.8681952927143516"
            ]
          },
          "metadata": {},
          "execution_count": 20
        }
      ]
    },
    {
      "cell_type": "markdown",
      "source": [
        "## 8.4 Surprise 추천 알고리즘 클래스"
      ],
      "metadata": {
        "id": "yRMs0lhlHzts"
      }
    },
    {
      "cell_type": "markdown",
      "source": [
        "Surprise에서 추천 예측을 위해 자주 사용되는 추천 알고리즘 클래스:\n",
        "1. **SVD**: 행렬 분해를 통한 잠재 요인 협업 필터링을 위한 SVD 알고리즘\n",
        "2. **KNNBasic**: 최근접 이웃 협업 필터링을 위한 KNN 알고리즘\n",
        "3. **BaselineOnly**: 사용자 Bias와 아이템 Bias를 감안한 SGD 베이스라인 알고리즘"
      ],
      "metadata": {
        "id": "8aJlCAyHRjU-"
      }
    },
    {
      "cell_type": "markdown",
      "source": [
        "> **SVD 클래스 입력 파라미터**  \n",
        "> `n_factors` : 잠재 요인 K의 개수. 커질수록 정확도가 높아질 수 있으나 과적합 문제가 발생할 수 있다.\n",
        ">\n",
        ">\n",
        "> `n_epochs` : SGD(Stochastic Gradient Descent) 수행 시 반복 횟수. 디폴트는 20.\n",
        ">\n",
        ">\n",
        "> `biased (bool)` : 베이스라인 사용자 편향 적용 여부. 디폴트는 True"
      ],
      "metadata": {
        "id": "IQiBbkWUSHuq"
      }
    },
    {
      "cell_type": "markdown",
      "source": [
        "추천 알고리즘의 예측 성능 벤치마크 결과:\n",
        "- SVD++ 알고리즘의 RMSE, MAE 성적이 가장 좋지만, 상대적으로 시간이 너무 오래 걸려 데이터가 조금만 더 커져도 사용하기 어려울 것으로 보임.\n",
        "- SVD++를 제외하면 SVD와 k-NN Baseline이 가장 성능 평가 수치가 좋음 (k-NN 자체는 성능이 상대적으로 뒤지지만, Baseline을 결합한 경우 성능 평가 수치가 대폭 향상됨)\n",
        "- *Baseline은 각 개인이 평점을 부여하는 성향을 반영해 평점을 계산하는 방식을 말함*"
      ],
      "metadata": {
        "id": "O1Ibu1LxS0CD"
      }
    },
    {
      "cell_type": "markdown",
      "source": [
        "## 8.5 베이스라인 평점 (Baseline Rating)"
      ],
      "metadata": {
        "id": "kXz5ONZ7H4IC"
      }
    },
    {
      "cell_type": "markdown",
      "source": [
        "- 개인이 평점을 부여하는 성향을 반영해 아이템 평가에 편향성(bias) 요소를 반영하여 평점을 부과하는 것\n",
        "- **베이스라인 평점** = 전체 평균 평점 + 사용자 편향 점수 + 아이템 편향 점수\n",
        "1. 전체 평균 평점 = 모든 사용자의 아이템에 대한 평점을 평균한 값\n",
        "2. 사용자 편향 점수 = 사용자별 아이템 평점 평균 값 - 전체 평균 평점\n",
        "3. 아이템 편향 점수 = 아이템별 평점 평균 값 - 전체 평균 평점"
      ],
      "metadata": {
        "id": "5iOUro9FTXu9"
      }
    },
    {
      "cell_type": "markdown",
      "source": [
        "## 8.6 교차 검증과 하이퍼 파라미터 튜닝"
      ],
      "metadata": {
        "id": "kGz641sKH65U"
      }
    },
    {
      "cell_type": "code",
      "source": [
        "from surprise.model_selection import cross_validate\n",
        "\n",
        "# 판다스 DataFrame에서 Surprise 데이터 세트로 데이터 로딩\n",
        "ratings = pd.read_csv('ratings.csv') # reading data in pandas df\n",
        "reader = Reader(rating_scale=(0.5, 5.0))\n",
        "data = Dataset.load_from_df(ratings[['userId', 'movieId', 'rating']], reader)\n",
        "\n",
        "algo = SVD(random_state=0)\n",
        "cross_validate(algo, data, measures=['RMSE', 'MAE'], cv=5, verbose=True)"
      ],
      "metadata": {
        "colab": {
          "base_uri": "https://localhost:8080/"
        },
        "id": "0GDgM7VaUUtY",
        "outputId": "a0e034c2-e9e0-4621-f96a-54f869bd0b54"
      },
      "execution_count": 21,
      "outputs": [
        {
          "output_type": "stream",
          "name": "stdout",
          "text": [
            "Evaluating RMSE, MAE of algorithm SVD on 5 split(s).\n",
            "\n",
            "                  Fold 1  Fold 2  Fold 3  Fold 4  Fold 5  Mean    Std     \n",
            "RMSE (testset)    0.8706  0.8798  0.8688  0.8783  0.8714  0.8738  0.0044  \n",
            "MAE (testset)     0.6692  0.6765  0.6647  0.6762  0.6683  0.6710  0.0046  \n",
            "Fit time          2.38    1.76    1.57    1.71    1.58    1.80    0.30    \n",
            "Test time         0.44    0.14    0.29    0.13    0.13    0.23    0.12    \n"
          ]
        },
        {
          "output_type": "execute_result",
          "data": {
            "text/plain": [
              "{'test_rmse': array([0.87062063, 0.87978585, 0.86879056, 0.87829694, 0.87141276]),\n",
              " 'test_mae': array([0.66923692, 0.67647479, 0.66469423, 0.67615606, 0.66830813]),\n",
              " 'fit_time': (2.377865791320801,\n",
              "  1.7557728290557861,\n",
              "  1.5685608386993408,\n",
              "  1.7095577716827393,\n",
              "  1.5844125747680664),\n",
              " 'test_time': (0.44184255599975586,\n",
              "  0.14372467994689941,\n",
              "  0.29402709007263184,\n",
              "  0.13045215606689453,\n",
              "  0.12713170051574707)}"
            ]
          },
          "metadata": {},
          "execution_count": 21
        }
      ]
    },
    {
      "cell_type": "code",
      "source": [
        "from surprise.model_selection import GridSearchCV\n",
        "\n",
        "# 최적화할 파라미터를 딕셔너리 형태로 지정\n",
        "param_grid = {'n_epochs':[20,40,60], 'n_factors':[50,100,200]}\n",
        "\n",
        "# CV를 3개 폴드 세트로 지정, 성능 평가는 rmse, mse로 수행하도록 GridSearchCV 구성\n",
        "gs = GridSearchCV(SVD, param_grid, measures=['rmse', 'mae'], cv=3)\n",
        "gs.fit(data)\n",
        "\n",
        "# 최고 RMSE Evaluation 점수와 그때의 하이퍼 파라미터\n",
        "print(gs.best_score['rmse'])\n",
        "print(gs.best_params['rmse'])"
      ],
      "metadata": {
        "colab": {
          "base_uri": "https://localhost:8080/"
        },
        "id": "aTX5DQ28VC_t",
        "outputId": "bb814ed0-54c0-4b57-abff-84ff5734e14b"
      },
      "execution_count": 22,
      "outputs": [
        {
          "output_type": "stream",
          "name": "stdout",
          "text": [
            "0.8788131854699582\n",
            "{'n_epochs': 20, 'n_factors': 50}\n"
          ]
        }
      ]
    },
    {
      "cell_type": "markdown",
      "source": [
        "## 8.7 Surprise를 이용한 개인화 영화 추천 시스템 구축"
      ],
      "metadata": {
        "id": "94XCPdTXH-p9"
      }
    },
    {
      "cell_type": "markdown",
      "source": [
        "> Surprise를 이용해 잠재 요인 협업 필터링 기반의 개인화된 영화 추천을 구현해보자.\n",
        "- Surprise 패키지로 학습된 추천 알고리즘을 기반으로 특정 사용자가 아직 평점을 매기지 않은(관람하지 않은) 영화 중에서 개인 취향에 가장 적절한 영화 추천하기"
      ],
      "metadata": {
        "id": "XNbZpFUOl1oa"
      }
    },
    {
      "cell_type": "code",
      "source": [
        "# 다음 코드는 train_test_split()으로 분리되지 않는 데이터 세트에 fit()을 호출해 오류가 발생함\n",
        "data = Dataset.load_from_df(ratings[['userId', 'movieId', 'rating']], reader)\n",
        "algo = SVD(n_factors=50, random_state=0)\n",
        "algo.fit(data)"
      ],
      "metadata": {
        "colab": {
          "base_uri": "https://localhost:8080/",
          "height": 290
        },
        "id": "UJcXEV5cl6Ht",
        "outputId": "0546b26a-adae-44a2-f781-99951f4a5e9b"
      },
      "execution_count": 23,
      "outputs": [
        {
          "output_type": "error",
          "ename": "AttributeError",
          "evalue": "ignored",
          "traceback": [
            "\u001b[0;31m---------------------------------------------------------------------------\u001b[0m",
            "\u001b[0;31mAttributeError\u001b[0m                            Traceback (most recent call last)",
            "\u001b[0;32m<ipython-input-23-19cc995237b4>\u001b[0m in \u001b[0;36m<cell line: 4>\u001b[0;34m()\u001b[0m\n\u001b[1;32m      2\u001b[0m \u001b[0mdata\u001b[0m \u001b[0;34m=\u001b[0m \u001b[0mDataset\u001b[0m\u001b[0;34m.\u001b[0m\u001b[0mload_from_df\u001b[0m\u001b[0;34m(\u001b[0m\u001b[0mratings\u001b[0m\u001b[0;34m[\u001b[0m\u001b[0;34m[\u001b[0m\u001b[0;34m'userId'\u001b[0m\u001b[0;34m,\u001b[0m \u001b[0;34m'movieId'\u001b[0m\u001b[0;34m,\u001b[0m \u001b[0;34m'rating'\u001b[0m\u001b[0;34m]\u001b[0m\u001b[0;34m]\u001b[0m\u001b[0;34m,\u001b[0m \u001b[0mreader\u001b[0m\u001b[0;34m)\u001b[0m\u001b[0;34m\u001b[0m\u001b[0;34m\u001b[0m\u001b[0m\n\u001b[1;32m      3\u001b[0m \u001b[0malgo\u001b[0m \u001b[0;34m=\u001b[0m \u001b[0mSVD\u001b[0m\u001b[0;34m(\u001b[0m\u001b[0mn_factors\u001b[0m\u001b[0;34m=\u001b[0m\u001b[0;36m50\u001b[0m\u001b[0;34m,\u001b[0m \u001b[0mrandom_state\u001b[0m\u001b[0;34m=\u001b[0m\u001b[0;36m0\u001b[0m\u001b[0;34m)\u001b[0m\u001b[0;34m\u001b[0m\u001b[0;34m\u001b[0m\u001b[0m\n\u001b[0;32m----> 4\u001b[0;31m \u001b[0malgo\u001b[0m\u001b[0;34m.\u001b[0m\u001b[0mfit\u001b[0m\u001b[0;34m(\u001b[0m\u001b[0mdata\u001b[0m\u001b[0;34m)\u001b[0m\u001b[0;34m\u001b[0m\u001b[0;34m\u001b[0m\u001b[0m\n\u001b[0m",
            "\u001b[0;32m/usr/local/lib/python3.10/dist-packages/surprise/prediction_algorithms/matrix_factorization.pyx\u001b[0m in \u001b[0;36msurprise.prediction_algorithms.matrix_factorization.SVD.fit\u001b[0;34m()\u001b[0m\n",
            "\u001b[0;32m/usr/local/lib/python3.10/dist-packages/surprise/prediction_algorithms/matrix_factorization.pyx\u001b[0m in \u001b[0;36msurprise.prediction_algorithms.matrix_factorization.SVD.sgd\u001b[0;34m()\u001b[0m\n",
            "\u001b[0;31mAttributeError\u001b[0m: 'DatasetAutoFolds' object has no attribute 'n_users'"
          ]
        }
      ]
    },
    {
      "cell_type": "code",
      "source": [
        "# 데이터 세트 전체를 학습 데이터로 사용 -> DatasetAutoFolds\n",
        "from surprise.dataset import DatasetAutoFolds\n",
        "\n",
        "reader = Reader(line_format='user item rating timestamp', sep=',', rating_scale=(0.5, 5))\n",
        "# DatasetAutoFolds 클래스를 ratings_noh.csv 파일 기반으로 생성\n",
        "data_folds = DatasetAutoFolds(ratings_file='ratings_noh.csv', reader=reader)\n",
        "\n",
        "# 전체 데이터를 학습 데이터로 생성함\n",
        "trainset = data_folds.build_full_trainset()"
      ],
      "metadata": {
        "id": "4yjP-hJKmZOL"
      },
      "execution_count": 25,
      "outputs": []
    },
    {
      "cell_type": "code",
      "source": [
        "algo = SVD(n_epochs=20, n_factors=50, random_state=0)\n",
        "algo.fit(trainset)"
      ],
      "metadata": {
        "colab": {
          "base_uri": "https://localhost:8080/"
        },
        "id": "HJbN_L4tm2I7",
        "outputId": "05858c7d-1f5d-451f-bbc9-ae341ce3be45"
      },
      "execution_count": 27,
      "outputs": [
        {
          "output_type": "execute_result",
          "data": {
            "text/plain": [
              "<surprise.prediction_algorithms.matrix_factorization.SVD at 0x7f5614756aa0>"
            ]
          },
          "metadata": {},
          "execution_count": 27
        }
      ]
    },
    {
      "cell_type": "code",
      "source": [
        "# 영화에 대한 상세 속성 정보 DataFrame 로딩\n",
        "movies = pd.read_csv('movies.csv')\n",
        "\n",
        "# userId=9의 movieId 데이터를 추출해 movieId=42 데이터가 있는지 확인.\n",
        "movieIds = ratings[ratings['userId']==9]['movieId']\n",
        "if movieIds[movieIds==42].count() == 0:\n",
        "  print('사용자 아이디 9는 영화 아이디 42의 평점 없음')\n",
        "\n",
        "print(movies[movies['movieId']==42])"
      ],
      "metadata": {
        "colab": {
          "base_uri": "https://localhost:8080/"
        },
        "id": "TlsxMaCum82v",
        "outputId": "5ea9bd74-0d0c-47eb-bfa2-8a5daf1e5bf8"
      },
      "execution_count": 28,
      "outputs": [
        {
          "output_type": "stream",
          "name": "stdout",
          "text": [
            "사용자 아이디 9는 영화 아이디 42의 평점 없음\n",
            "    movieId                   title              genres\n",
            "38       42  Dead Presidents (1995)  Action|Crime|Drama\n"
          ]
        }
      ]
    },
    {
      "cell_type": "code",
      "source": [
        "# movieId 42인 영화에 대해서 userId 9 사용자의 추천 예상 평점 구하기\n",
        "uid = str(9)\n",
        "iid = str(42)\n",
        "\n",
        "pred = algo.predict(uid,iid,verbose=True)"
      ],
      "metadata": {
        "colab": {
          "base_uri": "https://localhost:8080/"
        },
        "id": "r3qD1VBJnfCZ",
        "outputId": "e511a249-27ab-4b67-d47c-f1026710174c"
      },
      "execution_count": 29,
      "outputs": [
        {
          "output_type": "stream",
          "name": "stdout",
          "text": [
            "user: 9          item: 42         r_ui = None   est = 3.13   {'was_impossible': False}\n"
          ]
        }
      ]
    },
    {
      "cell_type": "markdown",
      "source": [
        "> 사용자가 평점을 매기지 않은 전체 영화를 추출한 뒤에 예측 평점 순으로 영화를 추천해보자."
      ],
      "metadata": {
        "id": "EJJ-tkRDnr1c"
      }
    },
    {
      "cell_type": "code",
      "source": [
        "def get_unseen_surprise(ratings, movies, userId):\n",
        "  # 입력값으로 들어온 userId에 해당하는 사용자가 평점을 매긴 모든 영화를 리스트로 생성\n",
        "  seen_movies = ratings[ratings['userId']==userId]['movieId'].tolist()\n",
        "\n",
        "  # 모든 영화의 movieId를 리스트로 생성.\n",
        "  total_movies = movies['movieId'].tolist()\n",
        "\n",
        "  # 모든 영화의 movieId 중 이미 평점을 매긴 영화의 movieId를 제외한 후 리스트로 생성\n",
        "  unseen_movies = [movie for movie in total_movies if movie not in seen_movies]\n",
        "  print('평점 매긴 영화 수:', len(seen_movies), '추천 대상 영화 수:', len(unseen_movies),\n",
        "        '전체 영화 수:', len(total_movies))\n",
        "  \n",
        "  return unseen_movies\n",
        "\n",
        "unseen_movies = get_unseen_surprise(ratings, movies, 9)"
      ],
      "metadata": {
        "colab": {
          "base_uri": "https://localhost:8080/"
        },
        "id": "UEWPyk2LnwVJ",
        "outputId": "71ed5e1c-fe6f-49f6-d9f5-9a2032924b05"
      },
      "execution_count": 30,
      "outputs": [
        {
          "output_type": "stream",
          "name": "stdout",
          "text": [
            "평점 매긴 영화 수: 46 추천 대상 영화 수: 9696 전체 영화 수: 9742\n"
          ]
        }
      ]
    },
    {
      "cell_type": "code",
      "source": [
        "def recomm_movie_by_surprise(algo, userId, unseen_movies, top_n=10):\n",
        "\n",
        "  # 알고리즘 객체의 predict() 메서드를 평점이 없는 영화에 반복 수행한 후 결과를 list 객체로 저장\n",
        "  predictions = [algo.predict(str(userId), str(movieId)) for movieId in unseen_movies]\n",
        "\n",
        "  # prediction list 객체는 surprise의 Predictions 객체를 원소로 가지고 있음\n",
        "  # [Prediction(uid='9', iid='1', est=3.69), Prediction(uid='9', iid='2', est=2.98),,,,]\n",
        "\n",
        "  # 이를 est 값으로 정렬하기 위해서 아래의 sortkey_est 함수를 정의함\n",
        "  # sortkey_est 함수는 list 객체의 sort() 함수의 키 값으로 사용되어 정렬 수행.\n",
        "  def sortkey_est(pred):\n",
        "    return pred.est\n",
        "\n",
        "  # sortkey_est() 반환값의 내림차순으로 정렬 수행하고 top_n개의 최상위 값 추출\n",
        "  predictions.sort(key=sortkey_est, reverse=True)\n",
        "  top_predictions = predictions[:top_n]\n",
        "\n",
        "  # top_n으로 추출된 영화의 정보 추출. 영화 아이디, 추천 예상 평점, 제목 추출\n",
        "  top_movie_ids = [int(pred.iid) for pred in top_predictions]\n",
        "  top_movie_rating = [pred.est for pred in top_predictions]\n",
        "  top_movie_titles = movies[movies.movieId.isin(top_movie_ids)]['title']\n",
        "\n",
        "  top_movie_preds = [(id, title, rating) for id, title, rating in\n",
        "                     zip(top_movie_ids, top_movie_titles, top_movie_rating)]\n",
        "    \n",
        "\n",
        "  return top_movie_preds"
      ],
      "metadata": {
        "id": "YKqpUTnWoXUv"
      },
      "execution_count": 31,
      "outputs": []
    },
    {
      "cell_type": "code",
      "source": [
        "unseen_movies = get_unseen_surprise(ratings, movies, 9)\n",
        "top_movie_preds = recomm_movie_by_surprise(algo, 9, unseen_movies, top_n=10)\n",
        "\n",
        "print('##### Top-10 추천 영화 리스트 #####')\n",
        "for top_movie in top_movie_preds:\n",
        "  print(top_movie[1], \":\", top_movie[2])"
      ],
      "metadata": {
        "colab": {
          "base_uri": "https://localhost:8080/"
        },
        "id": "8bH2hALyp9Em",
        "outputId": "fad79bf5-6408-4d40-c6c4-2416c03f3b57"
      },
      "execution_count": 33,
      "outputs": [
        {
          "output_type": "stream",
          "name": "stdout",
          "text": [
            "평점 매긴 영화 수: 46 추천 대상 영화 수: 9696 전체 영화 수: 9742\n",
            "##### Top-10 추천 영화 리스트 #####\n",
            "Usual Suspects, The (1995) : 4.306302135700814\n",
            "Star Wars: Episode IV - A New Hope (1977) : 4.281663842987387\n",
            "Pulp Fiction (1994) : 4.278152632122759\n",
            "Silence of the Lambs, The (1991) : 4.226073566460876\n",
            "Godfather, The (1972) : 4.1918097904381995\n",
            "Streetcar Named Desire, A (1951) : 4.154746591122657\n",
            "Star Wars: Episode V - The Empire Strikes Back (1980) : 4.122016128534504\n",
            "Star Wars: Episode VI - Return of the Jedi (1983) : 4.108009609093436\n",
            "Goodfellas (1990) : 4.083464936588478\n",
            "Glory (1989) : 4.07887165526957\n"
          ]
        }
      ]
    }
  ]
}