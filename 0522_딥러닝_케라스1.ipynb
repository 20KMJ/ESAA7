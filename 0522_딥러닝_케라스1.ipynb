{
  "nbformat": 4,
  "nbformat_minor": 0,
  "metadata": {
    "colab": {
      "provenance": [],
      "authorship_tag": "ABX9TyNX4NkuAnJpB6QaW80Ip5Jc",
      "include_colab_link": true
    },
    "kernelspec": {
      "name": "python3",
      "display_name": "Python 3"
    },
    "language_info": {
      "name": "python"
    }
  },
  "cells": [
    {
      "cell_type": "markdown",
      "metadata": {
        "id": "view-in-github",
        "colab_type": "text"
      },
      "source": [
        "<a href=\"https://colab.research.google.com/github/20KMJ/ESAA7/blob/main/0522_%EB%94%A5%EB%9F%AC%EB%8B%9D_%EC%BC%80%EB%9D%BC%EC%8A%A41.ipynb\" target=\"_parent\"><img src=\"https://colab.research.google.com/assets/colab-badge.svg\" alt=\"Open In Colab\"/></a>"
      ]
    },
    {
      "cell_type": "markdown",
      "source": [
        "# PART 03. 케라스(Keras)"
      ],
      "metadata": {
        "id": "zwjWLGJFruq8"
      }
    },
    {
      "cell_type": "markdown",
      "source": [
        "# 01 | 딥러닝 준비"
      ],
      "metadata": {
        "id": "jc1c0V9BsU-6"
      }
    },
    {
      "cell_type": "markdown",
      "source": [
        "## 1-1 주요 용어"
      ],
      "metadata": {
        "id": "ofeUeFhhtKIp"
      }
    },
    {
      "cell_type": "markdown",
      "source": [
        "### 1-1-1 하이퍼파라미터(hyper-parameter)"
      ],
      "metadata": {
        "id": "jFtO2sBHtOCK"
      }
    },
    {
      "cell_type": "markdown",
      "source": [
        "- 딥러닝의 하이퍼파라미터는 파이썬의 파라미터와는 다른 의미를 가짐\n",
        "- 하이퍼파라미터: 사용자가 직접 설정해야 하는 값\n",
        "- 하이퍼파라미터 튜닝(tuning): 하이퍼파라미의 값을 조절하는 것\n",
        "> [Tip]  \n",
        "> 딥러닝 프로젝트를 실행하는 초기 단계에 많은 시간을 튜닝하는 데에 투자하는 것보다 가장 마지막 단계에 진행하는 것을 추천함\n",
        "\n"
      ],
      "metadata": {
        "id": "bYNPOx2c2dTF"
      }
    },
    {
      "cell_type": "markdown",
      "source": [
        "### 1-1-2 과소적합 vs. 과대적합(underfitting vs. overfitting)"
      ],
      "metadata": {
        "id": "NZn8ut0ttRs-"
      }
    },
    {
      "cell_type": "markdown",
      "source": [
        "- 과소적합: 모델이 충분히 학습되지 않아 예측 성능이 떨어진 상태\n",
        "- 과대적합: 학습 데이터를 지나치게 반복 학습하게 되어 과하게 적합된 상태\n",
        "- 모델을 학습시킬 때는 과소적합과 과대적합 문제를 최소화하면서 정확도를 가장 높일 수 있도록 해야함"
      ],
      "metadata": {
        "id": "rTPiaPe43mtQ"
      }
    },
    {
      "cell_type": "markdown",
      "source": [
        "### 1-1-3 에포크(epoch)"
      ],
      "metadata": {
        "id": "uyhSALOLtTFb"
      }
    },
    {
      "cell_type": "markdown",
      "source": [
        "- 딥러닝: 데이터셋을 학습하는 과정을 여러 번 반복(iteration)하면서 최적의 모델 가중치를 찾는 과정\n",
        "- 1 epoch: 딥러닝 모델이 반복 훈련을 할 때 데이터셋을 전부 학습에 사용하는 1회의 훈련 루프(loop)\n",
        "> [Tip]  \n",
        "> epoch는 중요한 하이퍼파라미터로, 사전에 설정한 최대 epoch까지 반복 학습이 끝나더라도 모델이 과소적합되었다고 판단된다면 epoch를 늘려서 다시 학습할 필요가 있다. 반대로 모델이 빠르게 과대적합 구간으로 진입한다면 epoch를 줄여서 최적 구간에서 학습을 조기에 종료하는 것이 과대적합을 방지하고 시간을 절약할 수 있다."
      ],
      "metadata": {
        "id": "uckRw7z84PDg"
      }
    },
    {
      "cell_type": "markdown",
      "source": [
        "### 1-1-4 손실함수(loss function)"
      ],
      "metadata": {
        "id": "LN2NSWSptbMA"
      }
    },
    {
      "cell_type": "markdown",
      "source": [
        "- 예측 값과 정답 값의 차이 또는 오차(Error)\n",
        "- *오차: 딥러닝 모델의 출력 값과 실제 값과의 차이*\n",
        "- 딥러닝 모델에 적용하는 손실함수는 사용자가 정의해야 하며 분류나 회귀 모델에 따라 손실함수를 다르게 적용하는 것이 일반적이다."
      ],
      "metadata": {
        "id": "WdCa5_2P441u"
      }
    },
    {
      "cell_type": "markdown",
      "source": [
        "지도학습(supervised learning)의 분류 문제:\n",
        "1. 이진 분류(binary classification)\n",
        "- `binary_crossentropy` 손실함수 사용\n",
        "- 출력층의 활성화 함수(activation function)로 'sigmoid' 사용\n",
        "2. 다중 분류(multi-class classification)\n",
        "- 원핫 벡터인 경우: `categorical_crossentropy` 손실함수 사용\n",
        "- 레이블 값(예시:0,1,2,3,...)인 경우: `sparse_categorical_crossentropy` 손실함수 사용\n",
        "- 출력층의 활성화 함수로 'softmax' 사용"
      ],
      "metadata": {
        "id": "PXufvofx5HkB"
      }
    },
    {
      "cell_type": "markdown",
      "source": [
        "회귀 모델:  \n",
        "MSE, MAE, 후버(Huber) 등 사용"
      ],
      "metadata": {
        "id": "TLicVI-A56iA"
      }
    },
    {
      "cell_type": "markdown",
      "source": [
        "> 손실함수 목록:  \n",
        "> 1) 분류  \n",
        "> 함수: `binary_crossentropy`, `categorical_crossentropy`, `sparse_categorical_crossentropy`  \n",
        "> 클래스: BinaryCrossentropy, CategoricalCrossentropy, SparseCategoricalCrossentropy  \n",
        ">\n",
        "> 2) 회귀  \n",
        "> 함수: `mean_squared_error`, `mean_absolute_error`, `mean_absolute_percentage_error`, `mean_squared_logarithmic_error`, `huber`  \n",
        "> 클래스: MeanSquaredError, MeanAbsoluteError, MeanAbsolutePercentageError, MeanSquaredLogarithmicError, Huber"
      ],
      "metadata": {
        "id": "UkDPph-y6KjU"
      }
    },
    {
      "cell_type": "code",
      "source": [
        "import tensorflow as tf\n",
        "\n",
        "# 클래스\n",
        "tf.keras.losses.BinaryCrossentropy()\n",
        "\n",
        "# 함수\n",
        "tf.keras.losses.binary_crossentropy"
      ],
      "metadata": {
        "colab": {
          "base_uri": "https://localhost:8080/"
        },
        "id": "UXbAzat_7Evu",
        "outputId": "6a2592a9-281c-4057-f11b-2c0ba5be7b2c"
      },
      "execution_count": 1,
      "outputs": [
        {
          "output_type": "execute_result",
          "data": {
            "text/plain": [
              "<function keras.losses.binary_crossentropy(y_true, y_pred, from_logits=False, label_smoothing=0.0, axis=-1)>"
            ]
          },
          "metadata": {},
          "execution_count": 1
        }
      ]
    },
    {
      "cell_type": "markdown",
      "source": [
        "> [Tip]  \n",
        "> 딥러닝 문제에 따라서는 텐서플로에서 제공하는 손실함수로 해결하기 어려운 경우가 있다. 이럴 때는 사용자가 직접 손실함수를 만들어서 사용해야 한다. 기본 제공 손실함수와 같이 함수 형태나 클래스 형태 모두 가능하다."
      ],
      "metadata": {
        "id": "w1RghycZ7LOo"
      }
    },
    {
      "cell_type": "markdown",
      "source": [
        "### 1-1-5 경사하강법(gradient descent)"
      ],
      "metadata": {
        "id": "QdNwTJ03tdTl"
      }
    },
    {
      "cell_type": "markdown",
      "source": [
        "- 딥러닝 모델을 훈련할 때, 모델 내부의 가중치(weight)에 대한 미분 값을 구하고 목적 함수 값이 낮아지는 방향으로 차감하면서 결국 최소 함수 값을 갖도록 하는 방법"
      ],
      "metadata": {
        "id": "BUoYsPqd7lfc"
      }
    },
    {
      "cell_type": "markdown",
      "source": [
        "![image.png](data:image/png;base64,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)"
      ],
      "metadata": {
        "id": "iYIX-_pf7vO_"
      }
    },
    {
      "cell_type": "markdown",
      "source": [
        "> 경사하강법을 넘파이(NumPy)로 직접 구현해보자.\n",
        "- 단순 선형회귀 수식(y=wx+b)이 주어졌을 때, 손실함수를 최소로 하는 w와 b를 구하는 과정을 경사하강법으로 구현"
      ],
      "metadata": {
        "id": "cfXl8gQ27230"
      }
    },
    {
      "cell_type": "code",
      "source": [
        "import numpy as np\n",
        "import matplotlib.pyplot as plt\n",
        "\n",
        "# 샘플에 활용할 데이터셋 만들기\n",
        "def make_linear(w=0.5,b=0.8, size=50, noise=1.0):\n",
        "  x = np.random.rand(size)\n",
        "  y = w * x + b\n",
        "  noise = np.random.uniform(-abs(noise), abs(noise), size=y.shape)\n",
        "  yy = y + noise\n",
        "  plt.figure(figsize=(10,7))\n",
        "  plt.plot(x,y,color='r',label=f'y = {w}*x + {b}')\n",
        "  plt.scatter(x,yy,label='data')\n",
        "  plt.legend(fontsize=20)\n",
        "  plt.show()\n",
        "  print(f'w:{w},b:{b}')\n",
        "  return x,yy\n",
        "\n",
        "x,y = make_linear(w=0.3, b=0.5, size=100, noise=0.01)"
      ],
      "metadata": {
        "colab": {
          "base_uri": "https://localhost:8080/",
          "height": 617
        },
        "id": "pZ3WBrD275zH",
        "outputId": "61af659c-e3e8-424b-cbaa-1351aa911ce6"
      },
      "execution_count": 3,
      "outputs": [
        {
          "output_type": "display_data",
          "data": {
            "text/plain": [
              "<Figure size 1000x700 with 1 Axes>"
            ],
            "image/png": "[encoded data removed]"
          },
          "metadata": {}
        },
        {
          "output_type": "stream",
          "name": "stdout",
          "text": [
            "w:0.3,b:0.5\n"
          ]
        }
      ]
    },
    {
      "cell_type": "code",
      "source": [
        "## 최적화 과정 구현\n",
        "\n",
        "# 최대 반복 횟수\n",
        "num_epoch = 1000\n",
        "\n",
        "# 학습률(learning_rate)\n",
        "learning_rate = 0.005\n",
        "\n",
        "# 에러 기록\n",
        "errors = []\n",
        "\n",
        "# random 한 값으로 w,b를 초기화\n",
        "w = np.random.uniform(low=0.0, high=1.0)\n",
        "b = np.random.uniform(low=0.0, high=1.0)\n",
        "\n",
        "for epoch in range(num_epoch):\n",
        "  # Hypothesis 정의\n",
        "  y_hat = w * x + b\n",
        "\n",
        "  # Loss Function 정의\n",
        "  error = 0.5*((y_hat-y)**2).sum()\n",
        "  if error < 0.005:\n",
        "    break\n",
        "  # Gradient 미분 계산\n",
        "  w = w - learning_rate * ((y_hat-y)*x).sum()\n",
        "  b = b - learning_rate * (y_hat-y).sum()\n",
        "\n",
        "  errors.append(error)\n",
        "\n",
        "  if epoch % 5 == 0:\n",
        "    print(\"{0:2} w = {1:.5f}, b = {2:.5f} error = {3:.5f}\".format(epoch,w,b,error))\n",
        "\n",
        "print(\"----\" * 15)\n",
        "print(\"{0:2} w = {1:.1f}, b = {2:.1f} error = {3:.5f}\".format(epoch,w,b,error))"
      ],
      "metadata": {
        "colab": {
          "base_uri": "https://localhost:8080/"
        },
        "id": "grfMvnmi9GgN",
        "outputId": "9ed83b96-4080-4954-e3fa-0c2bbb096c31"
      },
      "execution_count": 6,
      "outputs": [
        {
          "output_type": "stream",
          "name": "stdout",
          "text": [
            " 0 w = 0.16406, b = 0.74707 error = 12.02830\n",
            " 5 w = 0.12323, b = 0.60225 error = 0.14703\n",
            "10 w = 0.14995, b = 0.58604 error = 0.10562\n",
            "15 w = 0.17286, b = 0.57284 error = 0.07614\n",
            "20 w = 0.19226, b = 0.56167 error = 0.05502\n",
            "25 w = 0.20868, b = 0.55221 error = 0.03989\n",
            "30 w = 0.22258, b = 0.54421 error = 0.02904\n",
            "35 w = 0.23434, b = 0.53743 error = 0.02127\n",
            "40 w = 0.24430, b = 0.53169 error = 0.01570\n",
            "45 w = 0.25273, b = 0.52684 error = 0.01171\n",
            "50 w = 0.25987, b = 0.52273 error = 0.00886\n",
            "55 w = 0.26591, b = 0.51925 error = 0.00681\n",
            "60 w = 0.27103, b = 0.51630 error = 0.00534\n",
            "------------------------------------------------------------\n",
            "62 w = 0.3, b = 0.5 error = 0.00488\n"
          ]
        }
      ]
    },
    {
      "cell_type": "code",
      "source": [
        "plt.figure(figsize=(10,7))\n",
        "plt.plot(errors)\n",
        "plt.xlabel('Epochs')\n",
        "plt.ylabel('Error')\n",
        "plt.show()"
      ],
      "metadata": {
        "colab": {
          "base_uri": "https://localhost:8080/",
          "height": 615
        },
        "id": "k9oBXDa_-lNG",
        "outputId": "c3f0188a-b10a-4321-cc7e-c71fe64a6865"
      },
      "execution_count": 7,
      "outputs": [
        {
          "output_type": "display_data",
          "data": {
            "text/plain": [
              "<Figure size 1000x700 with 1 Axes>"
            ],
            "image/png": "[encoded data removed]"
          },
          "metadata": {}
        }
      ]
    },
    {
      "cell_type": "markdown",
      "source": [
        "## 1-2 딥러닝 프로세스"
      ],
      "metadata": {
        "id": "NHt1N0M0tg9Y"
      }
    },
    {
      "cell_type": "markdown",
      "source": [
        "데이터 로드 > 데이터 전처리 > 데이터 분할 > 모델 생성&컴파일 > 훈련 > **검증** > 예측  \n",
        "**검증 --> (하이퍼파라미터 튜닝) --> 모델 생성&컴파일*"
      ],
      "metadata": {
        "id": "hU7SIf7J-4qn"
      }
    },
    {
      "cell_type": "markdown",
      "source": [
        "### 1-2-1 데이터 전처리"
      ],
      "metadata": {
        "id": "vZBXnP-Htmw2"
      }
    },
    {
      "cell_type": "markdown",
      "source": [
        "데이터를 모델에 주입하기 전에 데이터를 가공하는 단계  \n",
        "*(예: 배열의 차원 변경, 스케일 조정 등)*"
      ],
      "metadata": {
        "id": "_HccgKUn_RaT"
      }
    },
    {
      "cell_type": "markdown",
      "source": [
        "### 1-2-2 모델 생성"
      ],
      "metadata": {
        "id": "o8kyajoRtpEF"
      }
    },
    {
      "cell_type": "markdown",
      "source": [
        "모델의 구조를 정의하고 생성하는 단계\n",
        "1. 순차적인 구조의 모델\n",
        "- Sequential API로 구현\n",
        "2. 다중 입력 및 출력을 가지고 복잡한 구조를 갖는 모델\n",
        "- Functional API 혹은 Model Subclassing 방법으로 구현"
      ],
      "metadata": {
        "id": "UsbLNLVe_cxo"
      }
    },
    {
      "cell_type": "markdown",
      "source": [
        "### 1-2-3 모델 컴파일"
      ],
      "metadata": {
        "id": "LnLB_F6CtrMT"
      }
    },
    {
      "cell_type": "markdown",
      "source": [
        "- 생성된 모델 훈련에 사용할 손실함수(loss), 옵티마이저(optimizer), 평가지표(metrics) 등을 정의\n",
        "- 모델 인스턴스에 compile() 메소드를 적용하고, 앞에서 열거한 여러 가지 속성 값을 설정하는 단계"
      ],
      "metadata": {
        "id": "7vUWYdWk_sgo"
      }
    },
    {
      "cell_type": "markdown",
      "source": [
        "### 1-2-4 모델 훈련"
      ],
      "metadata": {
        "id": "uydtljAkttBs"
      }
    },
    {
      "cell_type": "markdown",
      "source": [
        "모델을 훈련하는 단계\n",
        "- fit() 함수에 모델 훈련에 필요한 정보를 매개변수(또는 파라미터)로 전달\n",
        "- *훈련 데이터셋, 검증 데이터셋, epoch, 배치(batch) 크기 및 콜백(callback) 함수 등을 지정*"
      ],
      "metadata": {
        "id": "KG5Nd75d__In"
      }
    },
    {
      "cell_type": "markdown",
      "source": [
        "### 1-2-5 모델 검증"
      ],
      "metadata": {
        "id": "7nHTvAN3tvw2"
      }
    },
    {
      "cell_type": "markdown",
      "source": [
        "- 훈련이 완료된 모델을 검증하는 단계\n",
        "- 검증 결과를 바탕으로 다시 모델 생성 단계로 돌아가 모델 수정을 하고, 컴파일 및 훈련 과정을 거쳐 재평가하는 단계를 통해 목표 성능에 도달할 때까지 이 과정을 반복"
      ],
      "metadata": {
        "id": "GmuCbZ5qAOEw"
      }
    },
    {
      "cell_type": "markdown",
      "source": [
        "### 1-2-6 모델 예측"
      ],
      "metadata": {
        "id": "635yvKqJtxE6"
      }
    },
    {
      "cell_type": "markdown",
      "source": [
        "훈련과 검증이 완료된 모델로 테스트셋에 대하여 모델이 예측하고 그 결과를 반환"
      ],
      "metadata": {
        "id": "7lYY9MANAgXK"
      }
    },
    {
      "cell_type": "markdown",
      "source": [
        "# 02 | 단순 신경망 훈련"
      ],
      "metadata": {
        "id": "ArD_glcOtzAy"
      }
    },
    {
      "cell_type": "markdown",
      "source": [
        "### 2-1 선형회귀"
      ],
      "metadata": {
        "id": "gsrE8vost1_q"
      }
    },
    {
      "cell_type": "markdown",
      "source": [
        "단순선형회귀: y = wx + b"
      ],
      "metadata": {
        "id": "lyMFl_i3A7yG"
      }
    },
    {
      "cell_type": "markdown",
      "source": [
        "### 2-2 뉴런(Neuron)"
      ],
      "metadata": {
        "id": "9fTtTw0Yt57v"
      }
    },
    {
      "cell_type": "markdown",
      "source": [
        "- 인공 신경망 모델을 구성하는 하나의 신경\n",
        "- 노드(node)"
      ],
      "metadata": {
        "id": "qjxejgZgBAW9"
      }
    },
    {
      "cell_type": "markdown",
      "source": [
        "- 신경망은 여러 개의 레이어(layer)를 가지며 1개의 레이어는 1개 이상의 뉴런으로 구성됨\n",
        "- 뉴런의 내부에는 가중치가 존재함. 모델이 훈련을 진행하면서 오차 역전파를 통해 뉴런의 가중치가 업데이트됨"
      ],
      "metadata": {
        "id": "f9usHoQmBd1T"
      }
    },
    {
      "cell_type": "markdown",
      "source": [
        "### 2-3 Dense 레이어"
      ],
      "metadata": {
        "id": "7IzP3pQKt8dk"
      }
    },
    {
      "cell_type": "markdown",
      "source": [
        "- 심층 신경망 모델을 구성하는 가장 기본 레이어"
      ],
      "metadata": {
        "id": "RBqRN-LvBZ08"
      }
    },
    {
      "cell_type": "markdown",
      "source": [
        "![image.png](data:image/png;base64,iVBORw0KGgoAAAANSUhEUgAAAkAAAAEeCAYAAABi9qosAAAAAXNSR0IArs4c6QAAAARnQU1BAACxjwv8YQUAAAAJcEhZcwAADsMAAA7DAcdvqGQAAP+lSURBVHhe7P0HnF3HcaYPvzffyTPIOQMESDDnIFJiEhUpKtoKVrAk25Jt2ZLX9q43fb/d9XrXaXf/tmXLVs4iqcgcxZxzAAkCRA5EHky6+X7v02caHIKQAJIgBYi3Bgcn3HM6Vle9XV3dnWqa1KIWtahFLWpRi1r0OqL06LlFLWpRi1rUoha16HVDLQDUoha1qEUtalGLXnfUAkAtalGLWtSiFrXodUctANSiFrWoRS1qUYted9QCQC1qUYta1KIWteh1Ry0A1KIWtahFLWpRi1531AJALWpRi1rUoha16HVHLQDUoha1qEUtalGLXnfUAkAtalGLWtSiFrXodUctANSiFrWoRS1qUYted9QCQC1qUYta1KIWteh1Ry0A1KIWtahFLWpRi1531AJALWpRi1rUoha16HVHLQDUol8Laowezebofw0fnPiRZ/GFFrXoVabAgsnlGArcmVwe5hSbUqs5tehwp1TTNHrdohYdlgTWqaWkukVyttlQrgZLp9Q0vK9m5GdG+jXe9E3KL/46UKru7OzddMmb8xgf/5pk9ZAnVwXUSDfVSDUCMEiFvmUq8F6KF+p+mnaFNLLh3cOV6s5CzSxGHrP+L0fjS0WGc57hOX7M0OC4b/WxW3ToUgsAteiwp5r1S2VUKKfNzu01rvzcCqeaSfuZVLA8Rnjr8NY/gdLOb8pAT2mOsc0XZTMKgDhauue1IXQ95Z2tmccMgsLDFPAn4IAU6Nv1VK+7bsyPhzORNw7jPOXqdecxMpspnSPbCSBMVf2f85ttMWGLDl1qAaAWHd5k9m3Um8HSU8O6Y27uQCGZsAoBjPwvAUA+H+Yd8EAYftKgObRQllxFGgVALXrtCDQQqgBUSn00EzjQBAC5jmoZNTN1NQFAmCQPc1QKvkm7vaWbZDq0KJ44z84nAMjsh0HIXQ8/56YFgFp06FILALXo8Cb3QtUoWwY3rGuyajQzyo8CoCCtIx4Y+2wswf2H07Nw70yFnjU3MWNQCwC95vQiAER9+Fw30m6k1UhlVcsyCNZUoVkL1rs9RPVBe9cvdKg/CxlPbhpyu0tn1MgkL/J/tl4zmx7+gK9Fv97UAkAtOrxpFADV3cMeyRRUMwAqoofM1ViAGuABX2MooQPujvlLlvWH0rMIe9KpYF9QLtxFEJQAIJ7Q/8bY1VI/rzKNAUDNTCNYeqiXFFVihqsZrJYMgAzRVXDNjHXbivU75tFh8YwsR+I6cJ/5EV7j9zxHtRFwutItDmzRoUstANSiw5qajUbwAdo0XNWqkaZqubwKRj7ZRtPgp6lqkOKJM2pChze7p61yZrQ1Nbkrb+xXNwAaBTmphs++MgD0vxYAeq0IdjICaJjP6ua3RqrpcjfQqRkMufSH0hmt6x/StlrOXJi2wI2w4vCnmJMEEDnfzaqm9+Y1Pp9xG6wpGISyvwZjzi36taUWAGrRYU10vod83Ld2QNev2K5djTblGwZBFsaGP+5980bGCgkHTV8f5von36joXUeO14kzO9W04s0Y7ORx+s6QT2eumTYASrcA0GtIuMNgbayCP31f8JExAKi5LgbSad25fKPuWTdoPm1TPfXrAAjgNQB3wl8YerLO77h8WacvmaOjp7SpyxwYmhp+QS1q0SFKLQDUosOaEMVD5uC71+3W1St3aoe63RPNq1ivmLvLKqfdK7cSytSKfrOhLH4ahzEVmhVdvLBLJxsAZcA91j7MxkHzppiXnGJeTrYFgF5DQoJiaTTHBSr6HgDEHKnBbEY3PvWcbt8wrEqqwxwIXDh8idZTC9Ammf/FGatkm4H5uNSwzls6XcdPKaizWh4dAgMOtqhFhya15GOLDmtCFOctlXONsjL1apgZjkZCPIceavTJ8H/4y4QZKvweDq7jcXg881XwYyJzTRAO1gc/CLlttJrza05gzlo9gFFKP/Bas+EzFhKY0VVk5qs2C+HJ/ur34D4be39wnmXgNXco6tm0ygZ3Q9m8SgY51Wwx+DuNrj/aohYdFmS+Nme3qEWHKWEBqljP3Ll2u360ckCbM+OUr2fVrqqBQkXVdN0977ylckFFS+fQb0WSQwFJcBw+z4r1mt67KK9TZ3WGX3IMg/mnoHzD4oh8lmlZgF4rYj0mAyBAQQVznCnPDKgGNZBRfzana57ZrhtWV1XLtLmS/M6e+o2183z9HtRne/gHOjjP8GHKqKxGtqFa8EDzO82Msu6AjK8P66JjJuuEyXn1VCujFiBcolvUokOTYotpUYsOSwpi2jrIfXBzc0FZ97ZzqZp72+6DN7PK1XMq+Pes3wizdIwW6umUyumsylZYTZSGBXiq4d6538u5P5BjNWnO3I8+SzWrYe0TVprOGmhk01VfV/wtyq6eHDjl+B16y6yLkmpkfe1zUBzuNaccp+OtBkVpRTIaByNXYRzFYfOlr0YP/l78LDjT+hr3JiZYM+8LYNdMc+WwHVaGdKGcW/SqEpa3JvXpCsmaB3C+R/M3Xc+JDdL8U2+o4HeotxfWJXW7d/02wtpV5Yz5BdbkMGMGqxJ86CoNB3XrD2oph0m9m6cbfsZRNc9VzXtlp6PM74EXagHTwP9Vv1Pm2r+N5XnCfD4t/O2dvuRZ0uacPvjQ3+frvnJCmfIP6A5eTphcWxbJFh3i1OLQFh3WBAMHgYxAtxAuuDfe5h5q3kI93Sz4nFa7FRBL9octCdxvZWgib6BS8C0rR0dgU/R1dq8jMf0bUFhZpK1kmlhZLPQbFu7DflaxomtkrexY88RpSIWwmiHOoq+Tw31ln1MNK4+6ww2KsuY0JCCK+MP0aeJxOjN+Jxxcx2P0WTLYFeZ7BctPmAaPGSgHsEMhJuXBNyS1Ra8uMfurypCQyz7jOqeOqmbGBnxBnfr3tOsCMHBA9evrrPkhE/g0gR0AZfiZIwEryTMgSE4V13M1+IG1pZo+zG8p3/tgIkABviMR/tdw2PBfPpNyGzHvBR70s3AwU3JMWmK64jH6LGkX7nA08yGFZjsfVZIZ0pqcTQZlrSnwLTrUqcWhLXr9kIUzlvxCrRmAUqFRFWI8F6wo7nlbSZQstzkqfsJRGz1wci3525J71iWDqoqPaiavUjavIQOhYTelESuakoEQ7q+VdN1KkX2h6EEnobQZ+LRb6WStrLK+J0FWTypbUZStMNhjqUWvb0Igw5/tPgBO8CtWQohBtXiAbQFfIC+sjw0fzUbZHGXwY76GtwN/Nyrm67QGUgXVg5WTvfIqwWqTDxYfmX+z2p3JudvQYsAWvb6oBYBa9LqhtJVFW42hpwSQMFk8OWpBEaBnmMrMMFUFIINVxwAlWF2sjPI+t6Ua7mEnvey+elk91UF1VoZVbJbUYdCTTldVzRlAGQwNcuQYGiB2XGDde/dV3tfBFwnybwyJhUnF9NRb9LomOI4hJHi0WG+EVc1ZRLHkH+pmnsaYo9LMqGzg0sgVlEqbq8y3DE3BZ/AqB87YRQOezmZZbQbkafgRsO1YqviK+Uhlk+HYFGirRS16HRHtrUUten2Q5Ttwp7mPni49avaqrPj3ut/D2yFTxzpUUVEj6m0OaYKPmZlhzStUtLijruO7RnR6V0nHd5d1VH5E0xoDmtQoqbuWzEgD5lSbaSsvAyr3sktYiIxxym51Y1UNdqAWteiFBJ8yyGX+yBjGZKJ3zShINmDpSFfU3hhRZ3VYvakRTS00NaMrpdk9Gc3pzfnIaEGXdFRHSUdkBjWx2a82g/WmwxnO5jRg4M0MtUK1ps5GOQzXtqhFrydKtWaBtehwp7J7ybdu2KUfryxrsFlQGztRN/IMBrgXTP+5bhBCfzgTLDkW+1YtyTTlOmrGiqBU950BEHahvN/JuQfe1sBHp6y+XFPzpvRoQkdO4zoy6iw63FzGwIhdkJJZaKV6XQO1hjYNVLWpv6nV24e128lgBlrFPesaM9EcNsNjWb6zsik0kiEInLHpieNAy3TqX0bk6gOLOnXqrGJw/QlDaWGZ68SmxRU+Imr4edMZau3G/apSAM4+gCrZKpWXUcVljjs6dTBk4HLTE1t0w8aMRlLY//ZPWTCOPydcc6AaflCp1dWeTytVTRzv8e/pqw9qUjGlyeP7fHSou5j1O+ZL4h+15pjFVKtWNVKua8tIXav763pqW0m7qub3fLt/rJnfa8qY8bCL0gGge5CoBRLyQqsk3JTzmyNuTyMGZl3me4bcqv6qxx2Fdy6doBOm5NWBv1v4oMV/LTp0qQWAWnTY04EBoIKYHh70go9mOnFKblo+AzrYNoM1ToAo7fWqOlM1jS9KcyZ16qhZveotyIDHAKTZ8HtuOP6G9/nD8ZhWVA4WpMRHY1fZIGjTbq1Yu02ra23a6XTVMgxTOAZ/V3AAWZxXcYDmG6ctzEjbD7UA0KFFrwYAosZYMBFeoQqhgnmmXhtSMVVRh+Oa1F3QCVOLOnJimzoLOUfFzEVXtxF5su1LXJaRfdmB/Ax5ye1DMv7RMxsG9KT5c3clpRK8Y95jRlnCjTj8+xvzUYKjngdBpK0FgFr060It7mzR64QaStctlBvNsGcTTsclawt2kWDCSsa95Fx1SN2NEU3OjeiE6Z0695gpOnV+ryYZIXX52/ZaWQUfuXrZSqYSFB9KJY3i8XW7H/RY8PdVa5ptbXTmrC698/iZOm1Gu2ZkSuqujwQHVGbmgFvYuR5FB4hiNg5htKhFwKhGKpXMDKwZmNdwbB5RV3VA0/NVnTa3VxcdPUHHTO1WVy4TZoC1m0fzmbpBuXnL9826wRNHgCEG9g60vV7TJHcOFrXV9ca5HXrXsZN0/LR29fq7tAF5JpNWKsO8wkZwqk4/j3ta1KJfS2oBoBa9bggbSd494wzWEYS8RX3TiqZaK6knW1OfyprdltV5R03T6Yt6Nbszqy4Dk/ZU3aClZtBjBRFginvcPrPMCUYbfIeS6emJAsqnGaIoq80gaUpXRuc6rLctHa/5xbImupdc9LtMq6f5MRiXwCfAUItaFAyUSpmHmC2YNh/l4KXaoBaOK+jNR0/VG2Z3aU4ubf4yB6XTASxVGimDefNy2qA+lwubAlc50nk/TyyfLPnAFh2F2rB6HebMNumsRT06Z0mfphlYpSojBuXmYxyq/QEbDY+1/rSoRb9udIgCIERA6AeNHqOnMG0zmVocXuFoUYsOgMKQVRgkwmTfCGvvwEBpg5tO81OhNqK544s656hJWjQ+r24DHobCOhr0vhtWIHUrhUYYqmLF31rWqMetJ8OCiAy5pSKo8v8pK55MQWUfrAnT0SjrqL6Czj9miub2sCJ12eHxPnN0soZdnPdweosOZxrFC4loennggYGynD/Fylgwz04wfx05tVPnLJ2i2d059Zgn2xtDBtIlgyQDpYYBOkOq6XpY2wc+D0Nwo2R2DT5BTYeJ51uYH2a+bMtm1WMePnZym9585GQtnNjpF2gXDb/PQo4vzEVL3Lbo140OSQDUtLJp1is+hlWp0ysx8Kn7sNKoWV1UUR4MIfiPJ4fqH+u/hC279zrqFloc8b7GztE+ojtWwwq35Zp1cAlrTVj9GWWhijrNT2ymVffB0NiirpzOXTRRc7tkQMR097TyWTeQTDPZvSDj97I5pfCpYWzACoSTf0pmr3MRxtJ80Kr8PQsn0vPGV6hoXpjZkdUbj+zTfMfRWx8MFqKmX8D3YtiBtGr8cCVqznDBVV/PJj5hlVFwmwxBASK4S2x9+zpgHwjW4ag1mqpm/U2jpCN6Mnrj/G7NaldYagGHZb4g5LR5J7Ckr+Gg5EgWyozhcg7jtIE//YvBTTqb93spQyEDdAe0aHxO5y/o0JJOg5/GiCoG9HmDfNbJSt50XtK50AmIwKhFLTrciXZySBFNu8wwti9qVlbAiHKTXgtzdpilgJNp0mNGq6XZbmDMwf3+nsX7V/NZdvSsmo/6mMP3GRaG4YjPTJiyw4qte1236OAQPV+sMplcsit8na0tzEQsMjetp6BTF0/R9CK+PhWLer8dnDfdF2c363DQL7ey8f/M5+JwDSfvcODgauXCdxx5/0RMbT5QVYTm/rWmt6d19oI+zepoKlMfclLM0VZOdb9fw7u6RYcVATCoW4BHGA4NTxPimt844BvO+yM4ILFNmj8s/2aaN886crJm5DLqarBwZ1U1AjIvp9LFhE/hTR/csx5QElPCcyF95q3Il2neM7Dh15xfKPqAR9v9zvzOjN60oFczisyCrKheKwF7/CZ87hwYyEen7Ba16NeBaCOHFAFsau6p1610Gqmi21xe7gy58blnQyeGFkhD9B8OrSztnh5zcL+/Z/H+1XzWjAd/TvueI/xZEPkvPsu4Z4ZwwvKDJahFB58YEmjWquYp1so1WHWZY4GZWKjopHm9mt6dVc6996Z7xswWO2iEr08GBWKCf63dpvZldcyC8RpXaKibHj1WQRRZUDQtOtyIWVcZ12vabZflEwDQzBbM+poFBqFkyc1khuC+jgiceJtOX8F8Ot245oz549RnJJ0KCAoeSaBUDdCMVecgEkBpRm8uzHochwXIYInc4KfGsFrKB3O7QuezRS36NaBDDgBBWGmz7onjSNreHFFbfcTCpexjUMXakNpqAxY4I5YWw26Mh9+h1Avva/VyAD8QgChet+hgEkDTIAhnUYYALNI7GsM6ZnKbFk/IGgzVwigB1kZE/UEjgnJ8DQMhLsFCBcezYGJBR0zuVLFeUqFRU4HhiZbV7zAl11vwiDc8qNfDNhPBN4c9sky0ZoADm5yOXck5HliOIgG9G2YSZhoundShI8blgjN0o1lX3cA8Xc8p7Y/whUymrB8cIl4sTliCjptS1MK+gp8xvR0AxA7wgDty4hdafNqiXxM65NYBwv+nXhnWjmUPq755pVtl3Y0wr1zVQsFX9awPv5evtamWcV/pcGuLTjy9uXqdKdlOfKFNE45/o7K9k8OwFxYgrEEZfEladEB0YOsAWdO4XNl5nZkuGSuYOR0NveOY8VrYyf5Lfi+T01DTvGaFVDiIfFWtGXjhpBpMmekwdb5qlL+2v66rHt6oVbWM+jPd7oGzT9Mvb47kqrUO0KFDlHfd/2UMUlKjgIe6GP1FQ9mirnp6m67ZYDhhHkwz7spPWHICj1FPPvkxrj1YKmuWeYvbpPce3asZBRySywY/8G/BctDvukqraV8YEOUPYh+2VkvSP2Iw/nR/TZc91q8tlWLg1w6GjJ224WxGBeeVBT5b6wC16HCnQ28hRDcolbZpxVWXavCpeyzDS27sFvbVjBta2b0jAyADhVQz5waGQ55prLKKuTlEnyH/kkXGcHr2g7ZeHfEbn1dx+qI9zs8AIUBQyw/owOhAARDKJeO/aq0RZtCcN7dNb5zXqT4L7rQBQzPTpmF/wUq8BxUAUa8+hx2/uDYP1LNZ7Wyk9XMrx7s3Dmqbeg2MDdDQpr+EWgDo0CI6Yxy0axa2TIi5hrUw+jmQzuu65Vt17TrXHO3avzaDE30EQP7QB+v9QHlmcjVLumDhOJ0/Na/O+rCr1jIwi2s+cjD5rOKO4MEGQCL9jZJqBls7LXO/++iQHtlRM9hJq80dBiw/lXTWAMjPWgshtujXgA497hxVPPSoOqoj6izvVnt9p4V6vxvhcHjW7nN7dUj5+pAKGlShOTB6+Jr7Q/hZpjmsVH3QgmvYv5F+3zNnxMLlUMOiv25E+bLZaSPdVHe+oYVTOtVphZNuoMLCIEDAC9Fl52BRCiUwegRw6wP+7kw1NHdSh8blM2Gtocx+wE+LDl1iGKvJUGcmG1aCZsZUzXWcMtqlXpnS3ma+A+CwKUvaz4NPGvjHEmCPJdsPphayWtCTD4tjyjwCpQLMaoQZZgkls8AOHjme4FNk3nR76DKAXjTeoMZgjDWwsFgC4+l2Oqfhixa16HAnN9tDjBAkmYKbO5MvswYMfhaAAQ3PvSb3apu+rmYzquMs3cyNOfa+P/Se4QvCWH7d+WB5+gY9QXrqLXoNyDzUaKrdvfMpHTlN7ogWFyss9upy3WA9iY6rB4ewOuFVVPdfyuArUVu48eMsO7G7oAldBYMupkknyq5FhyM1WVVBNdcva+w0jGjCjKtqQ+lKSb0GPu04RdcNeurs51VVWErKVV6HB8174A/Wm5rRkdGkdkQzYWUt/ooGJRm4NIiKYNjzHQtzHjyCIzlwSrLkdZrm9eU1pQDX1txFS/uwTGYYt8WmLfo1oUMPAFldMN6d9DVQFhYmWEfce2aVU9RG6ENZYeXdHSqEIz3mOLSfFWs5tVmC5WtZ32fCMMYhWQ2/hsSu2gxOuI+umX1t7pGjcAAlBQNqPMxcE7WyhXwcyjgYxFAA8/4SrcESdVDyrKm2XFp9nXn3spM1oVt0eBG1SZcMK2I4fA/3sLFuul7XPbfcojWPP6Tc7m1u80OWXImjMZIsTHYwAmLz3UTW+doAamZXXt0OqGqZxx52jUxRzbC0BgipHiyYacsNXx40gkurBmE1x9lM55U1eJtcSGtWD0s/lFT2/8zOzWDRGv2mRS063OkQlLnu5QRlwQRMvBqqbnT0oJOJpCiNsN+NlVgzg3Pp/g+mPseld17w215/LyTuMfr6cO+cg0XAwkJgY8P4JQcbbDayTdXHHmn2kKr7d/+fIbwktpDlFr0ioihjcVJ/+IhF4oqtAAAebVYyfV3MynIdu9deAVwndyb8IPbmhVdOe5QGPOj4aHoZ9+BZh2hyT6fTxgpXL2YCUkU+kuMXpIvHoz/tyT9jKgc/Gy16EQEImO5umRTGsxrYUJThulHTri0b9G//52/0nS/+re6/7QZtXbtS9ZFdBjDDyjFTbDSMpLLYzysbrJO5Wi2AKFYdr9Yz5g/zTLBM8i69Jl8fxPoNQZlnmsGqbinruFgfaFKX/3deqk5LNVgv2eqFt5PIY8qhFyTnBTctatGhSYcgAGIoAKFfCbO8aimmY2bc+6mpbtBQNWigp0WvK6QeCfJLDtYZLGcz4ahmDaP27r4Y0CTbGDANGnBl4eVeTtqgKwganA19VLNlHyM+cEhshvUN93WEdQ3jgcxy8MiCBBQxay3cBf3E4nc4dFvi+CD+8FMgYke4BOLZqMx7vVPdvWqI3nO1WtXAwKB29A+YJxrqqJXCMANVmjP/tGvY1eC6S7n+USQBHqTcuy2qI5tVISgsh+XHWGhyFu5hUcPRYaqDQ8+HlViB4EGrTIMg/EPazQ8T2tLqMk8XzR8AfYZJGRrNmDfaXPHt7n+Tl4LPOGszTEKorJBeM882an7fSc/CroFH+HWUAUfZuHW8WofLOlSry5pp6i57Sh8eZDf3E088WePaMxpa87DuveyfdOvX/pce+sGXtePum9W+c4N6a7v9/ohyKXOn5UAh16ZCIRt8xahBwFQqk7IsZPkGhFc84NWEfw8GAbABcSnzI8uQhFXqGbbrbAtAvd3tDsvViPnSXU/L44ry5NE8iGWe6fLVNFDQn5GseLSoRYcwHXqzwLCODA9p5RX/osbyOxMhw/h4o6SKlRbSJVtD2iMa9k+IiaobLEIpmKotZMJKzBZVgBDaaBhK97Xbe7gwPOHCzx057/h4YSExAr9vIuQ9GCuOpPAwaCacHvmVtTx8x2WxTwve+wUVZiwILybZTYWF8VCAISw+5QckImG9jikCnyy8YNqwaZP+23/7H3rkmXWqTpmn/MS56uobr4kTejS+q13Fnj7VCz3uSbcFJVMyQp3e3qZLjurW4m7zVbahisuZ+sy5nFM4clDGANODRGzZwtAbXIiiCErCfJgzmGH5mNWD0mX3rtauisFMrqBao+i3U8pbi7IZZuAbK6aqIRBq8d0LO3XitPYAmDEmBT85QDxnx0SYnAGFezFui14FCvOd4JcxQoF+TsNyqlwa0l/8xX/Q9ddf5wfMpMqY39pVzfWq2TdRE+ct1OITT9WkmQuV65qgno42ffD4CZrfZjnEbEYHSycp+As6XOSB+4Wuc4SL71iz4aAQoWObdph0MOsVdxoLengwpcsf2KLdBtkszz+UyqmIQ7RBz5Df7YIJayNhw9W+dFUXH9WnEyfn1eZ3SVnYOqZFLTpE6dAFQFcaAD0NAEK4GAwYAJVzAQ68JABEeFaZliNWKSCZerIMfIBE7olXQm8/GSzhiMRKzfTmggSihBxl/LLphp4Olpx9kIVV/CWRXwgyP3kRABq1RhkALXzv55VvAaADIgAQViDWSarVamHrrZ9d9n39Z4OgLaWMhi2g07micvmC2tx77ejs9jFOHeMn+OhT+/gZWjR7oT5x7tGax94UrptSUCIpwwugCtPlX6DLXjGxsi+eazAYACiMZlhB0ItuuNe8akD6wt9/Q6tXPKUOK4xqyr3uYrt72kzib6hkfkgFS2U2LIp3WteI5nYBhayIrKyywRmE3+E9OBSCe4NqbtGrTEkpv7CkWc+sNFLS0OCQHnv8Ua1bs0qFWsWANRU2yR02EAprRhtI5Is96pu9QJMWLNU5b3mbfuvMhZpdpLFbgLgyLbIMgp7nygQAUeeO86ABIPLB3ormG7cxFmKsui09PtTQ33zvdqWKbZo+eaJK2XaNpNs1mO4I++p1q6R2H/QSu8yxb106OUyDxzpEiRzE5LWoRQedXgcACORALxpyWOSWPbpG5RVm21gAiZcFZuw9P7unjkAAiKBQEEoIHjf4EO4LqYk2NnAhPH5N1uxoAaCDSYCeuG0IVqB6taLBnc/pP//7P9cN19+oZqFNpUrTSsP8wWGgwZYk2UJG/S7XocIE/ckf/Xt9+l3naEa7C9a92XKW/ZNYY4fVdQ0yfH0w5XZSdeabGtPwEwCkKuqvGmYGrhmp67f/6z/qsZsvVXFkl7o7Jqlz6lxNXnKSshNnWdnkjG1K6nBInbUhnTa9V3MndMJZTidWIlSXyfzSokODAOlZt94rrvyprr7u+lBXBeSWq6iUM3+mcIe3RKmZM2oFVTp6NfGYk/X+T39Gv3n6Is0qmAtxxqdKzS+JnEq4km03go8Rt2G86uAQNiVETQKA6mHdoicH6vpP/+d7uv3hh3Xswnk66axzVOucrC3sbJd1J6NZMv+NBBnZY7n49qWTAgAqGhyFTqTbXItadKjS6wAANcOYNefEqsM1ICYSA15xaIztLaM1CMEC6Bl1j20CRoJLtDs7yTj/3hQKkl64FTNf5UflVwsAHTxCscCylUpFpVJJO3fu1HPPbdHlP/iOrrviJ6oZWNBbTuXbXdpsSNtUvm4OaNQ03NamcUeepk995o917jHzdERfweXpnngw00cfIEqc+j04BZ3UOqHWlakaqGSYTYPiA7iUVDLfra4U9e3bn9RtV/9Ij996tXqbNfW2FZXvmajclDnqWHCMJs1dqL7OTk3MZ3XBksk6eua4EDhJD0O3mAUY0yX9gWlMPCcBLXp1KREVsFBycMI/yzz36GOP6Qtf+DPz6HPmXWQLkyhKriJ8ubAo5zTUaFffgqP1pg9/SlMWLtT7jp2shUV4F84xuT7xC0t8gEZxj/mHFTSSu4NDTq5qjgLftD0AaEi6/NblWr9+g+649Qb3HXM65eQzNX7+kaq29TmPrE2UUslpG28A9J4ju3XGpIzbXMlyzAnMuI21qEWHKGX+q2n0+hAhS+xqVTufeUDN7eto+W6RFhRWCvXR3k6aWTruEe2LsAygILESBIdZCyTuc+5F1wOYyqmRLrrRsqZuwWKIiak5C6WCj6J7Wm1WUHn30umpc1gVBuEGAikrbSDTzPk5dukU4swgxemDwv9cY6HgueNOnvkISSdtQXwF4Rd8NbJtGn/k6cp0W6H5ReRnWBSRPHP4PhA/cJNE9WtBWHOgfa14TT1C/BbfGxoa0lNPPaVbb71VV155pX74wx/qZz+7Qpddca3uefBRV5FL3XWddf2Uqi5LC+Vm1QCI8N0jbfSM0/HnvUt90+dq9pTx6mk3EGXVQ/+eMU+l61ZKLuMAeA+SYiEXSWgOP8wuMz+Zpxki4VnNCmXLSFqPbhnShJmzVSlXtX71s2rPZDR9xkz1TZ2lVdt26fZ7H9S6tWtVGuzXMTPGa870CSH0JkNgDimFI9AeZzb/gwetyJhAwMzF0BGHn5xByrR1HNhB54UzQ94++XCtuTw58wzxRJEzJAvfUOZxeHxgaECXXnap7r//IZXKFVUsgwgE3y/2g5M7SgMZy5u+aTrr/b+tjplLpHyHjpiQV0/eIHkUjFDPpAGwzmcc8GuQS0R+MMjRpMxLjLQ2Cdv8WcnktLq/qSefG1b3xMlaMP8I9Q+Xtez+uzSwdYMmTpqsgjulyEmGzoqWjUsmFjSzy3lkaxkAGyCoRS06ROnXDgCl3Muqh9kMiQDLusfN3jWNWlUZg41hA5dKvkfqnqb8xNlqn7tUExadoBknnKOJR52ivsXHq332IlkbqdLWq0auQ8NGKpksjqkGT82sqnUrl9D9aipjZVuvV4PiTYSUj9cpAAK0kHYAC+CT6whkOHOgmMcCH57Fdznj4Dw4OKht27ZpzZo1evTRR3XzzTfry1/+sr74xS/qvvvuC7/Nnj1b73jHO/SJ3/6ULrjoLVq9er3Wr33W9W2ASjwu55R5hJ52E95x+MVZx2jxhe9XvW2cunvaNLs3H8ArDums1hvsbwkCMu2bv14qRYUFzybT8LFCmjf9lP/LVhIrd5b02LaGBooTNf2IY0N6tjuPu/t3a7BU1imnnq7TzzwrWLaeeXKZbrn6R3rq3rspVCvetPLFvHLWllgyXZDhTLlmmgY/PocnzlPCOsR6CDPRIUS4BNPFSWoMMocASEYLE3twsCm7zKtYpalf/zywe5dWrXpWd911t27++W3qHxpJAFDKEqQ5oo5GRUW/Xm1kNNI2Xsdf8huadtypqhV61ayxAGFBEzstIyz7AK7IFlZZTLmuk9Zk7mTGYEBAB6suHXK9EtoM0TlLKjn8x7dUtXJ3010/dxLzRU2ae4QWzZqqlU88ptsfeFDdhbSm9hRVdEeiq1nRgnFFTenION0Ge27rAO4WtehQpV+7IbC6f8MCwJneGOIhZ0XA4or1th51TJunnvmLVZg6V4We8Uq3W+i4oTpAR2UhQK/LdxksPpWyqv07Vdq6SYMrl2vr6pWqDe1SLj1iZWZhUS27jbsnHwRfEhfC8PU6BBaHpwA5kQKYG8NigB9+jxY6hrEAPdu3b9eKFSv0zDPPhOvNmzeHd8aNG6cZM2Zo+vTpmjVrliZOnKi+vj4Vi8Wg3DmqBr3XXX+d/sOf/bkqI0PKZejJOi0urAyWPyuskvI66r2f1fQL3q9mLqeTJmd1yZIudTtpObMTSx8g5o0knEoUXsJrr5QcdDjY+gK/DXzMGM5wywu/9BvUXLtsu258LqOt6S6/V9aUwY1accsV2vz0Qxrf26PNgyOaueRELT7pdHUU2rW0bUja8owee/Qxl9VzmuQyWnLUEp1moDRpyhQVigUDo0LgS8AgU5uJjSPj+FoA6MAose9CQB2gh+8MlM2Y/hE+dxt2Z6tp/hq2rFi9coUeefghPfHIwxoYGtaMWXM0f+GSMLPvH/6/f9DadSvUIQMg9v0yzw4UutRz8rk65QOfUqpvukZGapqQz+sN0wp6w+JO5c04OQOdnGVFqDPHy47yEMt2Jjx6sACG82d5FrbwcLiArq2O90dPbNd92/NmnJyKBm4M2fY0Bt2QR/SYwfjyh+7SpO52nXzm2ZoxYZzOO2aelk5PZigiv4otVmvRIUy/dgAIatQT0z/Ao4pwyvSpc8oszT3rbBWnzZYKfWLjy5qBEfNzmlmUdBLVqMQLYiVnoUBcqXrJYKii+sBOrX/0YW17/BZly/1qWlllaqVgqmb/HD59PQMggAygBZbaFxDid3x3du/e7R7yqjCctXLlSi1btiz8NmfOHB1xxBHhfMwxx6i7u1ttbW3B2ZkhBsIMlg1fxzPPduzYpf/xP/5KP77qOpUrJXW6rDN1NjituhxzGkm1qWv2EXrTJ/+z+ictMB81dWRuWJ8+bbrGuTwLlK3rmsUpWS+KXn3iFv3KaV8AqMrUmFDR0uZSXT98bKseLOPi7Co28C5aFxUN5O6+8QptW/usTjvpGD3+2MMq1xq68PwL9eE3Hadj509Ro1TV0FC/7r3zLt1x121a9vRyTZs2XaeddprOPPMNmjRpgtoKLGeH9SmxXjAU3KIDJUAP9UfbTvgCv54I3mv1arD03HH3fbr9jts1aL4+6oiFOu/cN+moY45Vd5c7V7m8fn7HnfrLv/obrV2xzGB72O2aVe2L6px3jN7w4c+oMXWJRtKFADp63LFa2lPTBcdMU3fBvGnmKdCRQwbQnoJAIF2Bq3jIg4NA5k13TvDnYei44bSsHKjqx4/t0vJqVyiBDrePWpDFNd62bKyq0L9JD95+jZatfFbnnXySfu/9b9WpCyeHVaqzltetWWAtOpTp8AdAMfVBQvjw+3ULjIx/r7uXluuepN5T36neRccq3dVtcJILOxmzV4//JZiCRQjdpJMhCgsA93ZCL93BNdzDy+JDEdRTWe6mqbzqUW2571bt3LxR6eqIchZaGfeOwCYRANHJyzktyTPfvA4AEKAknmsWpgCdXbt2BQfQZ599Vps2bQrXIy7Drq4ujR8/Plh3lixZoilTpqi9vV0dHR0B8ES2BDhBhAfF6e9xHSDCv+XWu/S1716uUq5TA6VhrX3qEeXLu1zkFVWaBkCFcTrjnR/U/HPepS1tE1R2fc6rb9dvLB2no8b3hvV/KOSmu61DGdxSmyqEQucx8fvYb7nz/ug30Oh3YbFLXz0PgKz88JtwUZHFRzb066rlu/R0epKKzWErDPgwD4eo1r9Dj9x1g3aueVJnnXqitm7bqmVPPK2PnHeyPv7et2nSxInmEQdkYDRYHtDO7Tt0730P6EkDSixoWM8Wzz9CJ5x4vKZOnaq+3vGhPGOZtmh/FFqj/6eblFXFnZ1du/q1es1qPfLoIwbwT4fh2lmz5+nYY4/VscccpUnj+pTPs5dhSpVyRTfecbe+8f0f6OGHlwVr3tbntmhX08C8q09v/c3f06SlZ2ooxfwpy5tUxTwwpDnpAb3l2OmaNa5d7U5Bvg5sTuQVAiHIIpgnyCgQhn/4RVU6li15x0fSShMafRTCY6JAmdAdLl4G96zcqhvXDmmzeZOJH7n6oNPgcsD6VWh3O2yotzGktsourVq9Wo8bhJ86Jaffv/hNOv7YY5QrtiuVawHuFh26dFgDoKBYEr1o0IGYYm2VtJpGFtV0lyo9U7TkoncoP/s4pQruxRiIACxQSkgB5Ac2oLTBS4beFQFChJG1ovV7SeEAgDCH18JqrWkr2ebgdj3tns+2Jx7UeBRXtRQUKKAmnc4me/UkouWQAEDRzyb2XrmOVc8zQEtUjDx/qc8grDsbNmzQ3XffrSeffFJr164N/jqTJ0/W0qVLNXfuXM2cOVPTprl3290dAA/fx3SNJcIkfI4IenIWptzzG3kATP393/+9gcFOHfWmS1Ttm6lK/xZ96x//WpVt69SRMc+kCmpMmKd3/vbn1THrSG1Odbrcs+p2nZ3eV9dFR03WJEfNkCalUckUxdYrhmCjCSGvLnj/g29Gn76AqCPXmP8fVS2cOEKezIsEgbNyKDuHw1o//qK/mtYNj23SfdtrWp8dH9ZTyTrudKZd9UpdXQ64NrhN9998jXZtWqW3XHC+ebuiVXdeox4z/p9+4XM6cuFCN2JH5jDpubPzfM31sHH9Bj3rXvldd92pe++/Tz0GnOede74uvPBCTTEYivWfSWfcUXieH8bW8d730OHm00HeyONYis8YIofIJwf+gpFCmVCrPmP52bBhnX744x/p/gfuN4Av6YzTT9dxxx2no5Yepc7ecSoa9KhWdjiWFZmCwX+//uGf/kGPLl+t2SeeqZU7G5o7dYquv+InenLdeh37pvN0zlver3K6TaVUmxmIuqu7rAc1pT6kk2d26cyFE13POE2bNw08wurhThuDVOlqdZS/YF4fSfW8mMhiEHhJvYU1hZIVX02JR1o28muz7N+kQeW13cLv+kc26KndKe1IdQRZWWDtKpcbnbt+ysZyihmLuQY7hTn7/VvVseERPXn1d3XJW8/T+z70EfWMm7CnLce2Hu9p17Rjzi1q0a+CDmsAFBLu/+hXs+ogneEsu66nuqVJCzTnwkuUmbXIOijvBko4+1ZgFvWjV6PELQoguRslrEPhlEwIS9VUH9igLff9XP333aFCbZcb9rAaWfyPGIJjM9cQ5SEDgBBAVHe8HnsfFR5HtK6MFVZcM0yFsIpOyv39/XssO4CdLVu2hG+xNuCkDOhhSIthLHx2ohLlHK9/GcV0AqwAP4AgaMeOHbrqqqv085//XCeeeKIuec+7tKI+Tpfdu0r3XfdTrbznes2f1K3t61douFnQ9DPfovPf/XENt3VoyOBiWG1q1ivuaY/onUf36oS+tArmr1STlYAyjnO0rgNxlQ37Mu0NgPiFAxCd1NwoBWXisrNyaZp3UTdpM2eyp12ydcBua6Jl2yq62gBoh0FZf9rAK2VlECyZSURZKxyGXzsd9l03XqOta1bqHRedq7eduEDrHr5XP7/+ar3h9JP0zosv0fgJk8wzTidtxXHkrIgZ8sJRFp8qnMkpr/Xr16u3t1fHH398sLzNnz8/3EeiXqjvscQ99X6g9XYoUeRpCH6CYj7ibzFP/B55H3C9evVqPfHIY3ro0UfM8wM6cvFinXra6Tr26OPU3dMd6t7MYr5w7VfLKppvSqW6rr/1Nv30pz/WrBmT9b6Pf1pPD+d0w7q6ipUR19kV2rF7RBdd/B5l2nsMjrNh2DUyFvzRacAzxbz55qOnaklvVkXzBX6Kdb9LDgpYhMIaQf4IZGJ5QWJgu4BgAg9FyOPrMNtiz51fGY3MhGXHEDcsA0InwByoXemc7t1U1Q3LtmrY4GzEdc/XOG5DTfPjSDqvEo7PLrOc01Jx5H25ut66qFeTK5v1zS/9UyjDD3zgN3XyyScHHkOWcNCmoSh/KP/4rEUtei3p8B4Cc8prbuys9MzeNbl6XrVMpyodk3Xk2z8QQAWzuNLZtoMmuJEBFXeBchkLodqgGrs3aeNNV2rb0w+o2By0YjWYcC+J3eoZKwfoHAoAKFZzFEII+iiMOAMuUHIcvBvfL5fLGh4eDsNWKFEsOyhRlCplir8OzskoUhyUGXZheAvQEwUc56hwIK4PpD5IU3wP5cRBGr71rW8FQPSe97wn+Aq1FbK6ceVufeYfvq/Ujue0cFqvlsydqbtvvUFPrN2k8z/0+5p61Ekqk08L93K6YIDQVE9lt46ekNJFS6doYhZBjjIwIMwCXEK0Ji6c9lAJUFAz4WnWYSSvmQd9gfJIKH6TUN11lwfc1EZCOKVCp9aXm7rmiX4t31lTuen4rASrjDuMznTkY/b2ymdcBlauKg/owVtv1ZY1z+h//tGH9NYTl+gpK+bvfONrjiqlD3/0Y1q89GhlsvngAM7QWNp1ieKj3ChHlhEAuKLY77rrLj399NPBEnf00Ufr/PPP16RJk14AVGP9QZwjODjciPyPVbyRIuAB2EPwOo74d955px588MFghTv+uGN1zLHHat7ceZo8eZJyeRYdSNoI1rBa2u0p5ftaVTuf26xvfPs7emrlSr3znRfr/HPPVrWtUzcte043bUi51Tf0zDOPadz4qeqbOMXAAldmpynU+SgvubiZIdpZGdQp09t03sJe9bmz1eZX4ElWDg/D8/CK5Uro2HH4X5KL5ymEFwhrlqMxEGKW7FhqZBqWNZa5/mOLoLIB1Fp487GtWjVsnnEHopZzZ8lsHwEQwggANDIGAOFE0JWq6F1Lx+u4SRmVLB8efOABffe739OCBQv0G7/xG0FOQJQ5ZR9lDzJn77ppUYteCzp8ARDOnPWsatmSXykn/juNbpXbJmv+BZeo8+iTLTAMNPxOGtN2UAavnJgYW3WjZTZIgaTVK6ptX6enr/++quueUEdtKAioaiZvocGCYocGAAJMUNUotwh+uOZAGEGcseqwuCAWHaahr1u3Lgxrbd26NczEij47KE2GsvL5xF04CjQIgUb4UekQx1g2i8/2R9GpmjPxX3bZZbr33nt13nnn6Td/8zeDssbasXPHFv35v/1U1zzVr3de/E51F/OOu6bHn3xEz6zZoFPe9hsqFXtdX1Z4WGFc9plsSu21so8hnbJgok6e06E+C/Si08xChfSMn+cYQE9SRuRwDwyIGscP2HDVKjG8+SJR7rpju4p0Y8S9+Lw2K69bVw/plrUjGkoX1Wawki0PB+VWyo26X7u4GN5NN4FVVRWtgZrVku64/kpNHl6nv/qjT2vRnOlOWk3f+ObXdON1t+q8N1+kt118scb1djufKGbnYbQuIK5jXUPMwGOJgfvvv1+PPPJIALFHHXVU6LFTz4CjWE+EAd8cSL0dSgTfkWfSHcF95FXaxMDAQHDEB1izxALWTayXF110kU48/kS1FRNvMLeUJDy3ezdM17GBJRZJg5ehUln33neXLv/Ot9Q3YZJ+7w8/pxlTpzmuugYdz03LtujmrTnVyrXQbytbBpSNZtLZQtiHDjaCp3KuJqzYw/6G1cmma0BvnN+tM2a2qTN0pip+IWOZV1DJ6eGbA4ENSJVgL2cFfMujyAGBv4PZHDdv/H8K2lZN645l2/XIxt0ayvVqKJVYP5FlCQCiNABAhRcAIFZeLxqkX3LMpGQvML/T8G/bt+/Q1772tQAoabNvfOMbgzUoygP4qgWAWvSrosMXALHOhBt0PV0ywOBwTy4zXlNOfrMmnnKBKt3jrRuaDHaE9TNSB2n2C6KiUi8px7g96wFZMWWbQxp65l6tueGHatu1yYKRjQRzdNBUOIQAEBQFDcNKWARwIgbkMBMLRYC1B8WI3w4AB2WAMpwwYUKw7OC3g/UlKlUI5cIRAQ+AZay1ILJYfC8e+yPSTFquvvpqXXfddZo3b15Y+wdFHf2BBnbt0L/+8z/qymeHNPetn9K4ceNVcvk3rSSGdm7VcLWujmlzrXSyYY2gtEFPBzCFcUyXM4vSdboOz140QcdNzWtcHP5ynQVV4aQnm40mx+gpIYrUvzUMpmrmP+j5V92jRlk6jPh+xXw8YJV17/qqblu1SxsbRSvCrDoNjvK1YesmK0bzKezSTFg9WKrcSP2VAWvN5VrapfKjN2lwxYP6j3/6Bc2fMyO898SyZ/SDy3+kIdff+959iU456URl82yhkcQez5QZACCCAeqMcgZgYhGCD7DyUX+AoVNOOSX4bqG0qNsDqbdDicgj+SO/EHwP6GG5BaxgnPmNoVqGBeF3nPMLBWZlAXSS+qQGoFrdIMbv4z/koLVm7Rpd9sMfaeUzy/Xed79dp51+tgo9PQa8/sbvDrnzdfOyrbpxc1Yls1PNdc3igDWclw14IcBUOsxcDYP5YcNRhmF76yOalh3RhUdO1JLxOXWqYrzSNG/kVaIu/Bdhw/Pc5/oNKX7eApmsOu4781/dzBxwjIm32FMMWYQH5Tbz8F1rBvXIszu0vVkwEGu3HHLIaYfo9BXcbBKIX38RACo7jN5MVW9d0qfTphSUr9N5oZ2b513eTzzxhC699NLAex/4wAd0wgkn7GnDhyOwbtGvBx22AIjpzWiJdMX9lhzDCFlVJi/QEZd8SplJC1QKfj/M5gmQgq/Ct6+cAgSyMio4/rTjIXlWYIMb9NzNP9Huh253WoctIOihpZUzSDpwAJToVIYumI66LwAUnDIt/FBcY5VaVE48555rnsUeP4IfcLNx48Yg9JmCzlAW4IeZV4CKI488UgsXLgxAo8dCfKzC4zqySgQ6MV7OMc6xv0FcR+JZTHf8NoYfKfbOOTNV/jvf+Y4ee+wxffSjH9W5554bhCUHSg2g9eUv/5tWPLNMJ3343+n+oV5VXK4Y9Fl7JV2vWMA3VTIYIjnMbmF4qKdZDfFbdLsm3bN1XU0vlHXuEeN01ISc2qzcEOooJmuxUP5hhV+UKGmzDmgGKwD5JS/Ob6iohFgTCgtMqulKQ1H6PTY23WWF9+T2mm5+epe2V9IabqLosCQY2DAVDbA8qrjQj4TJ9HWsDqxSXXT8LKR30UyHc/2PtXLZI/r85z6rOXPn+IuCdg4O6NIfXKbrr71Kl1zyLr31rW/b43sR64Ty5qD8YvmPrQPeYXjzgQce0C233BIAETP0Tj/99HBgBYzO64Qbv4EIh2sARaxnjvge37wcioBtLMVnkb8h4orPY16Jm2uGcBn6YxVxrF3MkjvjjDOCDxlnhmzHpjfkDx8slz9GkueHQEPtqOz29NDDD+sfvviPBogL9clPfkwzp08x8Cmo5A9ypCECoCc369oNacuvoqvY5QOMcJFTbA49DHUCfsghJcVwUtV8U3BxtTWHNaetoTcumaAFvTl1wIf+MFgp4UDK1HnOhSp0gAQKkX7nxRdhQkaS/Kpv8fMJEfsanyILFXcOhv3TA5v6ddvqIe2sZQx+Cgbj+fAZvmkpgyg3H8s2/MteDICqTj1z2d6xdLxOnMReYPi7ORqngzKlDrAsX3755br22mvNm2/VO9/5zrCmV+SZWGecqQOevVyeaVGLDoQOWwDEFgLYZou+xll0pK1Tnaedr6lveJfq+R43XDc8Zy0XWj9N8eABoKAUa9kggABAPqmtslva8JSe+MFX3EvfYQVWDiAnzYyy/QGgSz6n/OwjfJPgnIwVfAVB595ekFPOP+GU62XlC/mgvBAUEIICQEA1RuGPsMdRmCEshrIAPDgoY02h18VMLAAPY/LRusNQFmHyfQz71SLSiWCLQ1ykPbIh8ZPWH/3oR2Fohpk29BgRlFBQTM4zQxVf+cpXgtXqj/7kj7UyM10/fbbEjHCzS0GDzkN707DDgCfMnnF5DmaKoUy7GuVQrux2PWwFhU9oR21AU9MjeuOiCTp2Woc6rfgYfkpKIgFBLhjXqxWP0Ukj7B82Wk78liTfypJl5HxD/aWsVRwfOz/tTrfp3vVl3bl+SJvLBsZ+xaGED8tWREOZnNrNy1h8UOkE14hGSz8gjTwrqqz3zWvTiVNy+vbXvqx777xdf/bv/0wL5h/p5mCedJqfdX1/46tfDWX0PpfdmWeeGcqV8uYMUY4RBMVjLPEbB0Oi9N4BRFiI+H7x4sWhXvC/wioIv/B9rMfIkxD3/MY7L5evYpgcMQyuSQtp5MzzyEMxLkAOAI5ZibQFnjFdneFbHPQBcnwbyySGHalWNp8wBFR1HFg9/ccsr9UO69vf+IbWbdioj3z4IzrGIKqru01p3jNoqBgY+J8TmQCgm57Yohs2Zsx/rtAkqkBZs4dTbcmUtPNQ0SbnNsgWOAkrSqdBy6R0SWcvmKSFBuhdrqq8QVaAGOYdQD5gO21eH+0yPc+a/r7kziHMk3d60gZUKRCdX6ulitptED7kmwee3a0nNg5os+UawLzhDmbdgD1YH/nOYdUdDO2nYGBX2icAGtE7l04Im6F2UFckYC++oiNGm/3ud78bOl8MiwFAGc6m/qgL5EPkn73rpEUtOph0WAMgVEW+4ibfbFOpe6oWfuhjSk1ZoGq6I0ztzLrnnKJ7RWun+3JQyEIKEwDAxmIBENOwkMm7YaerA1r1029q97MPqlDdZWExKpj3B4De88fKz1zom+eHwDBJo/TC9Hw+ZSYH2zxYAFNl8UCp4bwJ6GFGFn4MnHF2BfDgpIzQx7KDkyuOyggbgBAUqz8qwKisXk2KAAjlFcpnNA0IR4Zf8BlAwX384x8PVil65/EdiO/+9V//VQ899JD+y3/5L5owdYpu2tzQ1SuGXDUsfmkQmCuoYMHcZuFNAWIXGs46HJcjz7ivWsiXreBq5pPOdN0AJAFBx03v1tJZE9VVMG+5qvMuGhyeo26Blyq+pZhCUfkdRjagTBhiQIX5sX/jvLtS1wOrBnT3xhFtanaplnEP2WCW9aP4vRQAULvjr/lZDQ5LqnwsZh+tkoK/+8Dcgk6f1a3SwE5d+r1v6f4HHtSf/el/1PR5c/1aUo8D27fpxptu1KWXXRamvuMwjlUPGlvmnFE6sf4jjQUcnKkzeAogccMNNwSfGcAP4Oqss84Kw6XBJ2uMAot8xP2+4jhQ4nuI8GKYpJvn8Z40whe0B0B/9G2iXbzhDW/QqaeeGoa38GuC92NaYh5JXwwrUqPqMK3sWbiQoZzB4UE96LL+16/8q5YsOkIf/NCHNdudibpBTpiE4TSh9hk2SvyaXwiAhg24qVPEQd4VT/uGDx1TiA8arRUfWA0hh+VkdTSr6s6UdcaC8TpqUlE9lifIH7KBaGGGIQCIaJMtMkx+zgy1YSw9ftTm8sk7P8SHy8CI07Oh1tRda3br8Y27NWLZVDLENnx1Oi1f3ZZY4BVAz2riFRaM9ddFh1NJvdAJ+kABUOQr1gjDGvftb387AOnf/u3fDh0x6oW6Hcs/LWrRq0WHLQBi/LzpHna9mbcS6wu7fM9+2yWq5XutUBj+QjBYEAeTgO8YlD9YhMxK1YxJUHUAIaellnZ8FW1feZ9WXfkt9e3e6Ibsxu9GvF8A9L7PKz898QEKh/OJoTo46/LEYTQq9PhqoVePgGfqOTNWuOYZgp4ZWFh2sPAwjMWBUvpFhCBC8EMoDoROvH81KSo0iDRAKNaf/OQnYXiCGUnvfve7gx9GFIgQ5UBeEZoo4D/5kz8JeSz7+c/XlXT10/3KZDMasLQfyjKtvGHAgIupgYPjGbEiYFo6vjnkkvV5LOMTZWgFYigUHJK76iVN7SroiFm9mjOxoL5cKlhsUFpZf5BOW7hb+KNK/LX/sEJyTb0Z0PgoO8hd1abWbCvr6XXbtX5XRYPZLu1y79qlnMwKs1Kjvit+MmKlnMdnbRQAJWEnBPaNQ2wAoN+Y12YA1KGUAWPKYXz9a1/VvQ88ot/7gz/U4sVHug4Ng6yk4M7ly58Js+bw9frkJz8ZrB/kN/awI1iJgCBSBBeUfTwi8RzLEAAUkIFlCD5jtg8+Q1iI4hAq370S8AORFsKAV7iOYZEOQA/KFAsVPEFaIBz1WREbPyaAWiS+IYyYLugXlUHDwJXmWHeHZ+OGDfraV76itevW6/3vf7/OeePZYbHVbNZA3jwHkMlUXOY4GReoYX9q+TMWAAE4IFo5ru4R9gTWGW36PGNJVZyO4UfCAdbUDZqZ+t5jObigL6fjXf/T+wpqz7Fwp/mSw+nMWdYkuSAkf+cbd80CmAng2NVY9tFv3nx6S1mPrN+lVcMGNGydQv7NbCwU64Jyh45hOQMch1V3uyi7jODvrlcAgKivyBccDMP/4Ac/CLzEkNgFF1wQhm2pJ45XwjctatH+6PAFQH6WSvlZukM7ilN09LnvU9+Sk9QoFA2ADC78XtE5K4Tv/d1BBEAYFeph4cWSBU9D6XqHSszOcFHmBtboqR/+q9rXPhlkUJNoOQBAVlYNazK8gwA3CQAa90InaL/GcvtVh1UaHtbQwIC2bNmmJx97Uo889qC279gRBDZCHTM+vSecNuk9YdIHNCDYo4CJwoYzwoffECyx2jlHYQO9FgIHsIUyIy4ADb4mDHnhbIuvD9YEFFJMG8T7WIi+8Y1vBOfV//gf/2MYwqM3z1IIN64v68ZnBlWplV03berPjPp0mJ+qBqLMSuEf254EcvYzZiPAKcNGjaAMLe6dphwKsTKiSe1pTW5r6KipnZo5Lq9e81+HX8sYVOHjgXIhNHbmdkfZMaU04oc7/f2KnVU9tXFQG4aqGmgU/K5BgJVLPfTOUXC8nQx3YY/CMsBoLYqMlCS1Y+Xl1wFAISITAOg353foxKltKhqA45MxXBrSD77/Q9182+36kz//91q8aL7DstrLJj4cDIdSxjihMgsHcAlAiU6o+wIokT8iz3Afn8V34UPqBHAFEAeEUDfUHQ7F55xzTqgjeJW4Yl2+VCJe6p/vucayiWMtoPmmm24KPmL4sUV/Hhz4sfSQTo6YfiiGE4+xedo7fQ3z6fDgiG6783Z989vf0qknnqxLXHascxUWUjTv1A2mmwZB1FnWdQq0ZggMNts3ACIOwIjLbzS6Pf5jvgf4DinZx62nhj2G+Vnmq1TR8qKgosFGR3W3pmaGNaMrrUUzxmlKr3nB8bSZeYoOi2yEoSt/h/xhaK7muhpyB2Brta7Hn6tq5dZhbRpOwFHNPJuy/Eplwm54Bkvwp3nCAozlZoH6WJIAQIB7AFDtZQIgyhuegihveAh58PjjjwegDn3mM58Jlmt4Bl7iPeoN2ptPW9SiV0KHMQByg3VvGQhSnrJYSy74oDpmLXGDd4/agoBR66xbfyFYi9xogoI7GNQIvamag7ToC8IhZ2HBEvKIikJ5m5699nuqPHJLUIxpCwlmivkr99AsXtyryjo9TBsd8TfNrsk64r1/rNT42dq8ZbM2bdys1WtXa8XKlcEXBkGPSXvWjFlaeMSCAA7oYeMTE6egR6GAkBhbnfsS6vzOeygFhA/Ee/G7gy1giCMqGs6ET/w8x7cEp0isWRdffHFQzp2dnXuUVEwrhKKlp4g/x+///u+HHn5UbBWHdcv6kq561gAIcOlvS828hTZu6OTRNWXhnk6MQcHB2I/CEETIrf8rW3k13JMPKx1bI7GJaMEKjM1JO127fcWsJvUUNbm7qN58Vp3FnJUgZdZU1UqwVK5plxXNlv6yNvVXtH2EXnV7GGarWaE4x1aKVrqUM2iJMkdBEf8YorbG1gDsjxKLVGhU9BuLOnTqrHblrMzCzCHzV6lc19e+/i09/Ngj+txnP6slixca2D1f3pQJ1rWvf/3r4f5jH/tY4COAA3VBWfI81hMUeYFnHPGa5/EdvuE+voOj64P3P6g7774zOB2jxPAXOumkk7Ro0aJQv8GnLdRMwhsxnljXMY54jzMy32zfsV3Ln35Kd991t1atWq2RcklHLz0qDPGefNKpau9sTwrQFMOECI94YppRwGPTTDzRAjS2DHDCBzQue2KZLn7XxXrb298WyilrvqLtR6o6Kha6zLpto/ZrBkdhCMwdmX1ZgCKZLfakN/Ckr8mx4TVP1F6tGArBvwZAOCX7d15rd30VLT1SPmdd9+M6zJfj2jW+I6ceo6A2Rw70xXqDA/3AcFO7aw1tHBjRmv4R7aywOXBODdcNiMtNI6xSTkwNl8FokgLhaACnMiWADhvvtNfN23utA3SgAAiC32L5j+Ujhlhp4yx1wbAlQD3OPuR3zvGaMCI4alGLXi4dvgAIh0IDDHr3mZlHat5FH1Vu0jz/agHm15hOTC+qQG8jdMfoWx8MCmLCcgPVE6RcWLPDciYc2fKANt91lTbd+jN1pEes/CwImkWnifVELCCxFFlxbhkc1s7dIz7X9FzHLK3fVSblGtfTp+mzZwYFj88Cw1ocCF4ae3RWRogfDgKAdJJGBBaCi3wg6H784x/rjjvu0Nlnnx3AD4KOvI1VQJy5p8cPUKK3/6d/+qehbMYSm9retrFfP15Z1qCBT1uqZgCTB5r6D4dnZq0w7Bh0zD5pbCNIdBGKzEI6yG8rAX+bs5LLWRkXHH6WYU0/pxfPlgB1a7MKwx+kO8SCb5qBlK+o17HhvxLKW9V8YFGnAVDRAMj8hgbL0as2zxuEfevb39HNN92g//Sf/kyLFx5ltk+AblQclCU+PKyphJXmt37rt4IFMZY7PAVR/i+Xt/CdqbuN7ty9Mzgi33HbbXrksUc1tKtfRx19rE4/43QdfWyy2S3+bsQ7FoQRL9c8g1eWPfakbrjxBq1bt0bdXT06/bTTdPyJJ4Sd73t8H75rmrcAsAF5/HKCJ2P4Y+PknrRgkWA49sorrwxWJZzw8Z+DeJ+yjIQ04ADOAYCw31WCRcg1vh8ANJb2xR9w0vNS64V1AUdhTQT8gqeRQU5aMDRjtWFF8bTLpO78sPBnADx+TgeRAbqGAVENcer38XMzVg7Xv6zGSSM5ZysO3AxeLgDamyIgpdw50zH64Q9/GHwZP/GJT4ShTGRD5JMo97jn/bH10aIWvRQ6fAFQ1g3aKUfptM89TnPf/lGpe4YbKFourRLC0Fl7NQAQQAYARN/IrTDMrqgxjJLOWgiWtOPRW7Xq+kuVr+8ME8YGqwVtH6yqv1TTum3btbV/l4YqI4yIqdjeq8XnvVOLjjtdc+fO05Qpk9VOr9x/NHIad6wihC8UBQG960OdEG4xvRwMV3z/+98PU/JxfGQYD4EW84Yyikop3tMLZ+rsv/t3/y5YLSiTqLC4rjbSYwBQwQDIBWsARE86H4z6dQvsXJjO/MsEPIQojbNyUGwsRwDI4VuUHGqEmsf2hnXHnWnHw5uuK/+W9yXforzohfNX9hVDDQeDXgCAYG0AkLUevif4lw2XRnT5pd/X/ffepd//zB/qiKMSsEgdUJaRn1AyOJtT1qzSy1Aqv3FPnb2SISsAEBT8Tsy6+I/s3rVTjz76iG6/4049/dTT6hvfp6VHH63jTzghDH0yJEfccXiLmUIsnodvSMPpOdrpO/O003XEkUeqq6MraGPSSwQsTgrUdcUkFbgfohwoAxRutKJGHmUoj+FYhmSwQOCPxjvwaCyXsUTNc7xSAPTLKGn9LyR4rVAfUd7oBY5sGIzULSsB46x2HgANhWEEzxYXGYMhwCb37PSe4hxCSSjM8IJ39xXZGKJ4AUB7rwT9SgAQ9RF5LdYNQ+Nsd3PFFVeENYMAoQxtUg/8HgFQlJEtatHLocMWADFLoVa3mLFQ6Zx3vOa8/cNqdExTOswtZTYDDf/VAEBOkv9wUYSYHYS/BYvhla2Is77e8sgduvpLf6O1G3dow65hDdbLyhXzGl/MaU5Xm2b19aivK6c2P8uOn6gj3/vHapu6MBFadTdqCxZZWNGbjQKBM4SSoMEjrCGuX66iei2IGWooDYZDvvnNbwYn1fe+971hNWeGX6AowMgT+YtnHLuxVGCx+MM//MPQGyevsUx4h+uDCYDgsKy/TCirsusCoE3dMJXe8CG8w1EnHdwnbBl8dZrsNulf8fGKsQXLX7h65fTLABBDcbQVev7f+OpXdMvtt+vzn/98mEmH4qCs4pnyo3xRMhy8g/8VvmSU8StRLAxXMkwUNmk14XhOfBwo2HK1HMDQw489GgAxPkQ4UOPAD38w9ITFBQdmev+zp89SZ1dXKMekIKkT14WLOhPa4WitUvQHkGT4izIYmz/SjMUHywNDdljGKAtAT7Q+cPDN2O9eDQDEW4SUtHCfx2QxErycrOLjC9c771LOrjg4wgcfMJzVDLMeKRp8lhD2LAoLf8IuY+P4VQIgyjbWCdcQ1/ACMgA+YXXud73rXckilc4n9ch1i1r0cinzX02j14cImfndM9v5zANqbl9Hqw2NOs3smFHzNmtR4FTaxHM0l1WBvXUWHKNGodONxgLBggABQANkbBswwbODRYlwCc07ERqIHAtkemLsBL91zbP62pe+pAfWbNPOZl4zp03XEdOn6uiZUzRvarfGd2TVZSCUyhWVLfZowpGnKNfJMIQFrPOIE3QQZIC3UYqCgXNUUAiAeH+oEjN0cMD9p3/6pzDk8YUvfCFstRAtDDHtMW9RCGIJYAVolBLfMHuJ33h/7LuUAYB37UBZT+1kicpsGKpiHJT6wA8CnqoFn7FYa7+Y+N0qLvyPGEaMM3EP3wjWVMGfB/8yZsMw5T34ePkdhsBqRkA1oyHAVsX8iZ9ExfyQWI/830EgcrV0fF4zerJh6CKE6+Q+P+OQd1JasniRRgw+GTrEahZ9KaJyoexQHgAPwM9tt92m2w2YeA/w8UosQJQzvIxNLIThf0nrQA0zzJZTT2+Ppk2bGiw/y5cv18MPPxysPgBlhn6ZEQTgxYm6va3dIfFHSTtM5yPw/ejfnlql2g4wyRE8Q8ymZFkFHLiZKcdq45QDxHuxHOL12HKhNDkAGsglEoEVJkgby4Sq07lq65CeHTBvmAcPhJJSosx8JP0sR0CI8ReTk1AyyB8yHIHHmhnW7Ul4lvRlg8xLwFSod9I12iaoC8APNRQJHg3n5PQLid8JgbywGGPB/IR1ia5B0S3jiEntmtqZUd7PQ1hjyuoXETxJmiNvck3dUN7wB0O1+DwC1LEIYgnCsT5a78bWR4ta9FLosAVAaWZhhG65G1vfNHUvOFLNIgCIRvTqAiCcnSMlfiUMizk9ThOiprztOW1d/bRWbtmhiiVNpjziLuaINj+7Qk8uX6a1m7Zp/W6cEfOqFSdp+jEGBJ3dwfITBD3CwFGghBBeUXEhEDiPFRTxgHiO4Bj7ThTyr5aQGBvf3vGj2AA+TJX+yEc+ove9733Bn4nf9k57vOY3QA2m75/97Gf67Gc/GwQglotYFvE9yoP7ugvrYAEgSo3v8P8pOVyGwACllXqiNHDGzWYdv9mp4h49B/uA8T5rNtGzhtVYQRjFgDUmDD84ZCxERPBKaoJc7QsA8V/T6SCtOfN7PpfRwkVHhBlgrKYN0GFF51jelB11BQjC0sE6OQxL4iSNRYZhKaa2j+WfCLgj8RtHqAOAqCnUPc+cljCMS84dJWe+3Lpjm+646w5ddull+vFPfxKmQQOIP/jBDwbLINdYDQHN+HyxiGetUtP4cX3KFfIOC1UO6ORMXTk+nwmf+KDIg6Sr5k5EzEM8hzT6wALGFiv/8i//EoDW7/7u7wagTb7j9xBn7iOPjiXiTuL3+wcbADkqs7EDJzQOP2D2oLMBL1PfxMUaPUx/Z6YXz9n0lKn0OGMHUO6jkSkEcI5cxA8ROUO9JHXjs4PnW65/GfE7PHiwARDHWIBJe+fMc4AO/IgjPSvZ4ygNj7K2Ge/xXeRNznwD7c2be9ddi1p0WPsAkfKa8srNWKy57/yEUj0zrISQDu6F+5tXawiM5o4VAMrWLPiY3u5r9sMpWCttvPfnWnbDT3T/M2t0y70Pq+KGuHDeXJ181CL1FLPavXWzVq1ZpR07d2u46kzMOlYLTz5NJxx/wuhihZPV3de9Z2G5KBSoKhp0vI5Vx3nvdyLR+HlOOAeTUFJjhwZiGjg/99xzuv7664P1gd40i/Ax+4f38bvgPQQXymlsujlI74033hh65H/xF38RwE+kmAfeH0tlV/GtG3YdlCEwlA51C7hGhLezsKGVDivvonxTYSE5K1XzU8VhAnpRCDm/Axhh3alMJgxMOS8OI4sATmINo2O+ZLr7/tLxi+gXDYGhlkg3VyzIx/ALzaTq9FIP9J5ZNBJFAkUeoczjmbJnFtdf//Vfh+0wAJ8MQzFUGUEFRPlzvy+e4jccoKGm20bN9b11+3NavXqtAc2NevSxx9XZ1aFzzz1P551/XgBfhBP5nDQQNnzCLMif/vSneui+B9U/2K8zTj1NZ515luYazPV09wQeYl8uc04AXTh8c03eYlohrjl4TtjEAfAC7AHSGSYE+LDgZsxnLJ+xbWlfRE45XMsHfQgM0ZdYgFzLRt+sTM6inDg4O5EqGZRnzYPwQL1eCd8h5uAtVhAD7ATA08yqipwyrxYCP/p95BcdQwC6gVssrf3xJaVxsIfADpSoN2QGlkI6VvAIHSvqLvIofDS2/ngGRf5qUYvG0mE9CyxsSOjmXx83Rwvf82llJywISgjngJJ7ws5cWLX0YDtBIzTiLDBWm0YwIULAMrnasFbfeoW2PXCDFXNadz35jO5a9oyyHQjsnI6eNVUnz5+lvnxDpd3bLSzzahx1odYOp7Vi5TPauXu3yqVyGCJgKID1MFjsjy0rAETRKoTPwthhpL3BBMR1FARcH0wiPmhsnAxbsRgdTs7cs8w9zrVYGbhHgJFmzvEblFgUUoRJjxyFzTRt9p5CcJEHvolCbO+8vBoACB2TTtfDnkYFA9xco6z2vHu2ZsGc+am90BbW2cEBt1GxAqiUVS3XDTgaGjTgGTHPNvJtBr8oY2JNwElYB9O3LxcEvRQAVLFCzuSywbLDrDt8qf7gD/4ggErKnmNs2cZnDFtec801ATSxlk/cs4l3Yx3wDe9CPIO4py7Z9Xz3rt164KH79fgjj2j5yhUGwF068qgjA8ifY77u7RvnJpnwJ99wEG68j/XM9c6tO/X0U0/ooUcfCT5C1VJNCxcv0nHHH6djli5VXy+zJP2dC5SZYFBsD2OJZxysEg2PMZvwkksuCb5HMS7yAE9G2juMvem1AUDOk0FKxrwFpMHag9WFzXMbqbraDL4LZu4Og/XOYjpMg7dQCjxcM+/trmY06DKrGZxj/ali0YQvHZpDUs33YZd70/548lcNgKgfzjjKYyHGUggAwrqMhRP+4YDG8hEUn7eoRZEOXwBkYdK0UkLwDbbN0ty3fUQ9C0/0r27UZvgSitU56+Bd+H5USL9ycnisLm2QxcweDE6sOI0ggtKDW7X86u+q8vTtVrgVJ7+oux9fpSdWb9OcY47TMyuXWYD368LTT9TccZ3qKvZo1gc+r+L0Jc6PFXV5JOzovfLZVe4tPxr8E/CLYFYEgppdq/HpoCdPg48m4Ni4EQ6AjKiMxgqEg0nEgzIhbOJiXx+GWgBA9MpQnIzTk4ZIvBeVJd9zzZkw6M2hmLD8sM4P30N8E7/jXfK7t1I6mACIxoBvT6pZUYeP9npVUzsKmjUuowl9Xcmic8nOkw4d+E36mInmdJgFNu8e0br+ip7ZNqzNflByeoLvRRjLSMIPww0HkJZ90UsBQIxvMC0fonwZOqCMKV+AKWVK2VKesR4grnmGleQf//EftWHDBv3RH/1RmLEHCI/1HpULYRA+wxJsxXL7bbcbsCzTrNlzdPJJJ+tNb3yjxo0fr2K+iFYKvlR8g16P/BDBx9h6Jh6IsgJSNAxEa7Wm1qx5VrfdcXtYL2bH9u1acuSRetM55+qY445W5+hWFxBh0VGI+WSG1//9v/83ALzf+Z3f2TO0CsV8xLLgTB5jmfwiotVzvLoAyOFTzb5Pp83V5sm8yyaXqmliV7vmTCxqSk+nJndl1OH3w9Yt8Bhh+DtawKATuWXHsDZu7dca8+Yug/Rh8yZ7etUyBVXMKwyv7U9KUhq/agAEcaZusDYzhMmeb3S4WEkaHuW3WJ/xXa5b1KKxdFgDoHRt2MItra3FCZp82rs0+8y38GsQsKVgIWomAIhmHaxAowqIQEaJJhGbBUIHGvvsxeTwqhU3bPw/EumUd++pYRHQtCAobVmlZ37yVXVvXeYGZ6GXLmpnNat7l/n55q069vhj1b9jp55d/oSmT52u4088Ted84gvqnDLfitICyHkN6bPcwMKFnwLbDtDQWReDWREsHIi1hSElFkbEKRArETt142iMKT8KgahMoIMpAKIwQunhq8GQF9YqZmmw4B2/jVVmsTcWlSdHJJQU+wJ973vfCzORWM03CqyY5gikCHPvfIwFQEMW6kXqovnidYASRfp8/RPKC3mB/jDT10dktaDZE9o1t69dC8cVNKEjrXbHm3Z+sDKGYYiG0xdUBva/ZrKKdzbjNKS01T3uVVY0z24b1JrBtPprWMGI8YVpH5uWA6GXAoDo1KcM1KkLDniGGTWUNavtsoAgRP1QT5HGljX1i+UIyxzvYw2C56gfeuEMlWGVYco6gImhzsWLFoctMdiSpbur03lL6hrgl/Z/8DXrQ6QcL+VG3BG0ULekNaaHNJBFiMkBvJ9zXdLidrldrFj+jO5/8H49s/xp80EttANmceHzxL53tJGhoaHAoyylQCcCXyPaSgjbRF6Ik7jJ+1je25vX9iZSSUcLHmP406pWVQAQFREB0JMAoLQBEAsjPF/XXO9N/EZrpQYQfexjyotMtgjbp9RHgqVntsH4sROz5s+COgrMhaubNxyvQQmUlB4czbfJYFjVoGXYV1tGqlq+paQVW6vatNvAtZFTPYffk8MPfkzP09g7QqYmf5UAiLpBhkTZwj2dQxz4sVqyphU8CljnN3gbcM55f3X5mtHeFX+IJOtVI/LrPHLaO+tjiWJ4rYvisAZAhWo5/Lyr2KX0nON1/CUfVyPTa+Fh8JOzkvVVWLy97p4nQxLI0tESRkAkobmNugQ4WN0Z4nkiwMLtHqITj/9PhrEuV6WvHKYD9C0Li2WtbDc/fJPW3vA9Tas+p2rTvWUDtLIj3m3FfMsjT2vrtn5d8MYzNTQwqGUrV2jVlp16/xf+u86/+DcSges0BP1gBYvwBhxEAR3PDGmgfABFbAfAwbouOAgyawIhz/AZq6ni3BmnjfItR7xGfaNQyDaKnLzFZ/yfKHcKwYph9BkikN9rtWoAY//HPep6pabf+uhv6YQTT1R7R/sesEMcEGfSPvaadzi4Rzn98z//sz796U/rTW96UxBWMa+R4jec9xZkCQAa0JUrKwYfeQOAmmvCoMvKP90sK2/Bzl5bCd+kLLitVRx03uGRPbYuIMRuC/a20k7NLFa1dPZEzZs2Tt3FlNr8GyURNrDEBwizXygX5ymMaY2Sw26E+vZj/1R2JLtHGnp684DuW7tbmyoFlbOdwdKH46r/N09ZkFvpsDVGAlN/Ob1UC1BY2dfp4qD84B2GfwA0cXYdNUMa2N4h1lvYvy4oGMfg84pnVwQLEiCcKeIoHeoNqwpgAyfquHhne7HdfAzsIeSknAAvWWYr+S+0ocBT/sXlFRVZjDvyT0zz86FwRdWRy3CR8Igrb+euncFSxfo9d955Z+gkYC0FjDNziPZCutm4lbjGUoyPM4qVA6XJexEk/UIiYQnaMPg1yHC5WdUq4+Kn/Addpjc9tdUAqO7f8n6dfBO/z+QXxgtRUGduY+SJO8746Jjc1Qs8nKsNakZ7WsfP6tHiKW0a5+/aQmgkYiwBx/wUYeJ/8H1YkoA8mldYtb5sYbZxuKFlG4f16Pod2l5xnvNuu0ZcSXkkIZGNwJgUs/OZdzjmWAOgl7cb/CuhwJc+9vCFw+bMAW3dujXwNjMasQR96EMfCh3B+E3gFRPXkfbmhVedxvBLKCCS5CTgwI83IVKBEQxegxfCj4c50fFEZrIMA3IRnnJr9/F83nhGM3itFzU4rAFQroI5vamhQk4j7RO0+ML3q2vhKarl2E7BQijtZunvWIkZMYITKvs3Qaz0QmjhSHRF4qRq4pWgU0LrHyULATbPDIXlj+lxUYEIY3xcGZNvjvTrocv+VemNj6qvvMVJp8Lds820qeQ0sE/Urfc9HHrNbzrvfGULea3ZskP3b0+pc8YCffiDHwozd3JZviGu54EDjXxfvRgENc+wFMUF5FgzA2UAQOJ3LERYZ+iRo6CY4otPB0MSKD0IpRTyg0+TlVJoiH7OEdYMQdBl6XXVtMnhXnPdtfr5z39uQXO+3vbmt7nnNcFVYqU1KrQjET9E2iOrcSY/hMlq0F/96lf3DJuN9RE6kF4bsoSd2W9dOxgA0IiBJgAIH5yy01tslFVweCPmnWKVIcmcBjNuZg626PcyTffMfRP2WKrv1onWKmfN7tbscR1BPkVBGw7SQh5ikkJ2Xpi+oNDGEOkbrjW1bqCuG1bs1jO7nJaUAZ7LmBmCDI/VXW6kMYDu/dBLA0CuW8ZCxlDNvWfKHzCDRQQH4KVL3Ft2eQVgYT42FlPaHQiAGvwwXB7RRgOKhx5+KCgYZpbBb2wKipM7e2MBsikrQDu0v3p7pQSPkI+9FRj8hoM+Vqm//Mu/DG0Aq1TcJwyQRnuITrMQYUTeJNwIesjD3uG/iMYotLLroZqqKeynjuwwmBhIZXT98m26aQO8x9YsBhiuK7aWACKgBhr0vpjSFwLj5DP+PU5TyjIjm66ps17RURMKOmNel2Z2ZNSJJdViIgWYTxhxL7LCH72CRbhmuw42wHP3RXX39qqpgnb7bs3Osu5ZvkXPDmY0nO0IlsMgK10WabfBPeTnBZz8neFfBQDaF8U6hOgsQnFfMdLPBAyskZE/Y33yW+xovaZEckf5ZQ+5oGh7cEPNMgnZAPvQSWDT7D0UK3Rs0zosnvGfZR06bbS4WSQVIs8QuQf4FcZ++xrQYTsNnp4zQgQ5y+gWqyrjmtMzb5FqmbxBkBUuwsMljpChqMP/fpczBndkTphKbMEAowVw5BdA3sikpPJMCAP/9nxT8yOHmyB13KErSlWHtXPV49ry+J1WtANWaCXhj1m1Qq5lux1WWkULx8njerS1f7eefHaDps2YpelTJ+nc9/6WdhvMff/SS8N+R0cuXhKcOaMA5hwb796KJSoBGjM+NwxPMF2UHjmLyDFsAdhBYQGMmFUDcGHIAgsOPkcsMpc1EAoCd7TnHhqklWLK0pBiIA72XnrQvem///u/DcLmYx//uC4893wrk3YLzQQ47Z2+sUokKi0O8kNPnZk4ODBi+YnDIPyOEuLbvcPbm0gbAHRVv5XeTmBbMvW9ZrmdsRLBQT3j8GrpbLKTOw3OKIV94pKF36pqN2/1GigvntChMxZP1PTugvUEIsi85XTEMg5pCekZPcL987fh0QtvExbye4VCWhMcbr1SVv9wxUrP6XSYeSu2vF/CUsPLfPPLCDvdL5oGP6pyYFeHBbf6h70AKURe8CGjDr785S9r/oL5mjhxQvgOy1TairpWqWrHzp265vprden3L9VPf/ZTlUZKOt+AF9BDGIBtrI0MO8UyigBif/X2SonwIx9F/uKadoD1B380CF8f0su7DJOwxQX+IoAkZqBFCwFHTHu831Pnv4yoYN53EpgWjqU08BZyy+ey29DyXcNaNdRQ2XVeNx9m/Jy+fjyyWFXoQDkoJm7knQ6WT2C9IzbQ6ayP6ITpHTprQbemuy/Xxjfk2eElyeO/vY/nr4A8KJ8GDB+eOT53xcHNpLO3PafeznYNjtQ0MDySyFaD51rejYi0hK8gZCPywe3JbetgTYN/JUSdxXPsMCED8e+CH5iQgWWczh/yMdYn53i8puToXIShadLgsIiEuvFD/L3Cb/xEs3bdJH/hs8P2gAOdQ7cnZIsP809wJaC9mgeRz7SJ0I/bh7x6NemwtQDVsjnDjky47kJJu0Hu7pqoOW99v9qOON7CptsFTC/fIibri1TSkAE3AV7vTeFHcyAVgO4Yi9IdLQBo7CPeoaeMp0law6rvWK+V112u4dWPJ0vU+20aYNVgrN50bx2U5uepVE79BkU/ve1ulQ16LnjLRTrzQ3+swpR5eviRh/Stb35LwwYrH/rwh8IS8OzwThXRUPclkIkDQgCMbdAIcp7Fb6Nwr7nniFM1a/M8s2y51qxdre1WdFMnTdGixQs1e/ZczZgxzUJkhro7u9Xh+PHZWL9pg77zzW/qCfeuPvLRj+u88851bz8xWBJjEIGjoG1vIo0xfQgpfFEYlvh//+//BfATFSoUFU887yu8sUSd0O/7+ZoBXbGyprJ73blmWSWWSXBZZ0YtQPgDQUl/FmXDWik55VJVdVf6dfyUok45YoLGMYvGTJJzmomftHNE4fpSKaaPxk4Ot1RS+tnjO7Rs+4h5uOhGX5PZwOltC7wZ+POX0Cu1AFEPkRc4s+3DDdder0996tNacuQSbdm8WY898piB7v167IknNW3mdJ18wsl661veot7xfQGYUzd8C5hg5WQsK/jV4HNDGVFusT5fLYKPqZNoAYXwlWNYDl8yLD6f+9znXjD8C6EMGf5j0UP8m5jmz1AxIA5LFmFixYpltF+i+dE5cxzVYE2tq+C6dl/Hv6XVX8jo6uXbdN1mrCTFADzYLgU7UMId+yIDO353toqWbSfObNfZ8zo11XKMbXcYLHXqwrphuQMoZrZqIcRIpDKDFR3+CClJqeJw1o3UdfUjG7V+OKMtqTaVMzmzD1tu1MJwMVYe1hICoLH44qFgAaKeoCjnojyMMgS/NIbX2ZOOLV/oGOIjye90uF5Om34lBBcmNvF9E0a6HFnwi7wLQDr8CZ5N2h9EiefoIIx5xkrk+MzS+X4t6bAGQCg7gEbbCDM9UhrMtys992jNveASZfrcw80UXahuCKOaJTR3BFOA2THbbkCUOQdmAxrE2BLhIz/CyjBWXGEgoORwuE2Xt2jLPddp84M3KTP4nPIWHBULl0zKAo/kV4bCeH/dDY79mlBUO8s13XrfgxrO9uj3/+armjx3iQFETrt27gpTO6++/prgv8PMBs40WATy3g0WAbB3FSIExiogrnnGt2O/r42UNTQ0om392/Xcxs1au36d1q1dp42bNobefmd7h8ZPGBeADo6m8+ct0Pvf8z4dceRiZYPpPaGGkWDYiHIfACgKKOIn/ViOAF/M9mKvpQsvvHCPIIrfRiG2r/zuTYT+PACqBN+GrEFNtcGiebnEB8hvVX3NpqmuAYv8iqsYu11e7bVhHdFV00VHTdC07qQBhoU2R2ubso3p2F9a9kWEgnUsU2M/JgO0dF5PD2Z08zM79OyOint/iSpk1ejgJP3CqnwRvVIABGCIvEE5s+7PV7/8Fd1x+x3BKrR7aEBzZs7WUUuO1JHHHKWp7k2z9xbOy+yozx/lQL1yZh0dAAfDugw3YHWMW5y8mgQAol6oH9LCTvcAMkAQ6QAARfATeY9v4DWsP/hC4TtH+uFHvmMNLjodWE1xksY6dCB1HoaULCQcS7hnllaYFOou/fZCKgyBXW8ANKQO1xcACJCEY/ILKzvhOsfnf7m05Vp1WAsmtOvcI/o0s9BUsVFxuG7v6YIqAZA7rBdW7z6pYb4L/he+TmKk42i5gJUpPOH/poYM4Biivf6JbVpZzWq32pwOgy5/nwAgdxoyBYMyABC+dIfGEFjk6bH8EDss/I6/GtZmloIApNPpYiYtvDBWTr4WRB246AMx5E0Zcd8MjjJNZd3TTrlH1CjVglUxqKrDnl7I5yFLzm6KiRAwcN4dGRcGdtFC6ES8dnTYAiB8a5jmzK7cmeqg0pm6UHXl3ET1LTlFc867WM22cSoZBDXMXCkrtZyZPW0kw/DWHrb3Rd2NHJCUqZn5xnIcL3H4URXBwyWNyhdck5psbUSDz9yn5dd/T4WB9WEKNrPDqsJyUlDBvxct+twyQ1rqVnTMIGJxxN31vH5y5+Oaetrb9MnP/ak6u3upEEeX0vrnNuprX/9acG6md/0W98DpuYwlGm9URDT0KKw5U61jFR3XPIvVHd4NOh7BiOgNT9WsW6A4zE2bN+nKK34axtI7urpVsLDosmKbN2++5i+Yp0VWkHOtKJl23NFpwW7hA9rbm532jhfLz9/93d+F/NAjQ2jFfEC8F7/hHPP0i4ivDCP081WDunZNTQOWJgVXcKXBTCHcR8v+HwtQQbsdVJePVGPYLJUxMMlqcq6idyzp09F9aRXcIIFHOYOGUDxOU0wL6dhfWn4RNRx/cJ6ul5ymrIF6hx55rqTrn+rXJoNu8gBvYlEcO+CwLwIAvW9+u06f3R56itmUlS++Om4jYYNgpznrdDL0tzcAgg8glD9+PNQFw0JPP/mUurs7tWXrVv3xH39B7NPGEAtDvABCLIApvnVYgFwo8hugAgXEyt0MN5x77rmBXxlegii/+G6s572f7Y8o/5j2scQzwAxWn2984xvBwTlumhnfRxFyHfkvxh2veU4e8JljaBhFibUAAMVQMv4jzKyMvk28D8/GdgcxPb9Bh8CdG3KTrNcDL+W004+vW7ZFdxgA7TQAYo5hzuiIYS+sORGAAF5rrkN6/A1rvi4D9znZYb352Cma35NVm9PIgqth/TNLHrKTziIp9lN+ZNXpQehVnF9WNucRRnHSkKyUTxrqfi2t/lRe9z83ouue2qGdmU7n0+85vXkLPeRaOZ1Vux8eSgAIim0U4szzWL/cc962bVsYcofncYiHz/GHjPwRv4diPb8aRHsH76RxtnJtWAyN+pemlK+k1L/6Oa2+/zH/Tmfs+TQdrkQOOKipeLZCV916cPzcqZpx7BI1Ci5rs8qol8trRoctAMIJmh5WE6e+VMn3sJUbeLNddYOgqSddoPEnn6pGe08AHWne59vg6GMa5asaQY5eo1BCMKP31lUvEHSBc1E2/mPThYwbztCGlVp2w+XKbnvWkGeXe+UWyln30HxH0Nl6xUKG3j8wAydJh2VhWU8V3Zsqart7WtevLik3eZb++E++EFa49WuBGYj7nnvuCcqFa6aYI5TpmcZ0xQNCkNPoabhjG/MvomqlauE2OjMHNO7GBhzavOU5XXb5ZXr8scd09tlvDI7OBSvXjRs3a9Xa1Vq7aqXWr9+gnbt2h152Z0+nZs+apbnz54fxd4YSsALEdHDAZvS0v/jFL4Zpqm9+85v3mKJJNxTfgzgfyLATb5dcJzc/26+r11QMd4qW5xVVmwyBFVyMzwOgYd/lLPkztZLyFt5Zg5KTZnXq/HmdmtQsubqxFBUDmDt4Q9GBaVy+PvnADYPhkm3mjmtXDOvuLXUNOvs584hrzm/+cgkQANARBkDT24PhJ8OaR6HMEgUKUCGEpvkDUBQcKl2+WN5YUwpLCb5g9IoBKWw9wTDQpHETdfU1V+sqg97f/8M/DosM8i1/gHL+AgDaS6FFPgQEYVH57ne/GxyP3/72t4ehJYADPe2oqDjDF/G8d3j7IuLgPc6RL8gTzq7f/va3A6Bj+QT2NGPIOPIU6eLdAyHChigXABC8iq8QwAhrEDPKWJiTtbfgeeKIacKJmSoIJnxfpGmHbu/1bFH95rNbn9mqW1fs1kih13LBnSPe8fMwbIzMge9jORi01q0YJ6bLOnd2Xm+Y3WEwxOT1nGosvGm+BPbka1XEoqs9kWu/kCj2JGvh2zI4zdeUSojR6UTowe5Zp5uZapsMhH7u9N6/fsj3lmXuLGCtQHaRx3y9HCyWhwIAOlCK/AdgZq2ySy+9NAzFYw1CpsKL8Cn1yTV8FuVRrOuDRcgC1nUKAgH7jwuqivXcuinrutr+5Fo9efVtah9JK189NMrvlVDA14EbkrygCWvO6HCuqslL52vBhWeoiTeFmTLw9GtIh60TNLMkaLwUGDxCc+MvZ+GRqtbVv327C7Sp7knj3eOyIvUfFYFwwbTI7u1hBnNopaGGAmDBCZiO82hdBUKZBMsQwsKEgs02hjWwcYWW33ylUjs3qVAfMCACHFmAuZdEsLnaSIirHvxR3PdrlK1DrGStnKtYpmpOX3tBZ1zyEd35yBPaaGHLGiphwTjidyAMf7GuSdzTiTOL2NEgaaDxiAoFis/2R2xVAFE2/NWqFT3wwAP6X//7r3yXDn4hZ591tkGZe8BO53grTKY8n3D8yVYGZ+iMM07TnPlzw9T7VVZ+V191ta659pqwzgybW6KYmIFDup588smwCB0WAgAQ4AfhEgVTFDjki2u+OZB88GvTvLHBKGL5dnriWEGqLm/AsevB5Y2TXcX8kqyR4vjMCFm/M6WQ0pkLuzW1mFKB4QUr+LBPEmUbQj8YlICHuhmVNJEWlCRpSRdyWrllRCVAvu9RQ/z9MgIiHTUup6mdWD/JiiVm4FWEteswKHLXq583rfF27d4VVnTG2ZkhAIAQdQCYBoQCGsb1JsOcC+cvtD7N6Ktf+5qOWHyEJo2fFNpDqBesqCiBveoj1hsHa7BE51N2/mcrC8IHMMR3qVeUTAQm+6tfiO8gwuV9+IqNcv/hH/4hKC+WT2BfKOKJymssDx0IxXwA2MgH6QYc0vYgplazhhLtA/6IW3jwDTEEC5yLPkN5hQv/72SX/c6mTbu0euMOFZ2+mv/IeVgM0t/gnM8+ckxZxz+IYQGmd8zuyOgNC7s0KZNMsoCXsb4kcs6iDStTkBFJm/+FRNElxRcaCxYmvg+fhmf8T4pdXn6Pds9sx2Ihr7Wbt7lz4Xgz+ZAP7FthtqLfZkbboeAEfaAUeQLCITryKUPxDH8yOzAOxfNe5LXIFwcLAJECgGgo/5AcwwHfs5FtcDC3eCpv7tfA0+tULFPi6BLk0WF6mOHyBnbwdsa6nCPtfML7ZQuwzknjNG7hDNXyLgOz8n64+aDT4WsBMqiwJA2CAwHiIvU7jeD/UDeyYbip5B7T9KXHa8rJb1Gmb7K/NNulC+7JWI3s8VehoUYXWQsiV0FijxglgzGrraC0AvvSOEY2aHDlk3rmzuuk/ufU3hhCp1qoWTQ4SN60ulPGSjbx8UDkMe4/wkn1XIdBUN6Cw4DNgmbWb/65+vPj9Rf/6S80Z/YcffZ3fk8dPZ1B4cQeCWl96qmngr8FjpwMM5x99tmh0UalAtFQD1Tw1w0U3dJVcc9vzZrV+r7DXrturd558cW64IILVcgxdZTe92h4Bp5cQ7U6PWyXlnugvAOMYQonPiWkk00smSWEEmR6Pr1qzM3stk2PGksRPheEyxEFTbxGAB2IBYiI2e/q9rWsAzSsYfdgLZeD3QcHdJQJMyoqrgKcT4PV2S90Vgb0pvkdOntuj7qb9F+dBxzW3QoZ5SGMg0GUC0NgKC64lF42DMI2BjvNu1c9uUP3Pjes/nRXUJ6ZUVD6i2jPENisdr/vMquxqgvcnw15GykPa93q1Xrw/nv0+BNPhenrLH2AbwvOyrHModj08e+pN5Lp8eYeXX75Zbriqiv0md/9jE46+aRgCSL1nH16AUX+rI1aXKKiwBoE6OKMdYahpLE+NcTFdweiWAib9zjDW18zQAPI4R8HAIp8wu+ECe9AtI0DJfJBGLFMxp6Jm99YAwkAxDBZ9BliqOzoo5YG/6mcAU4zdJJcJua3isuVFcjveHCF/vc/fV99M+dqsUFVI1vUQKag4XRe2B1dsAYSll2WawV/iyXlTQt7dNKMTvW4s5Vplg2A/K5lF60caWIp5jqBDtwCRK87jqikA9hKwBQilnplSAYJWHb5DTtNVz/2nB7aWtPmfK9lYj6An05kmLntUJkGf6BE/cIXkT9ivTITlmEx+JQh+TPPPDPMFuN3vomg6GAR1YF+AeiwjRJ3gFIAJnWSr0oDj67TiituU67CMP6hUX4Hg8iJJaD/pxvQ1ECxpvHHz9aSC0/XUME5dTG3jXL1a0WHrQWInY7raTOP/7IGPGGil9/lCTKhURsKK6cObd2i7dsGlbfQKXR2AfmCyTrp7iQNnqEE0Djg5XkfDD8w8RvvuDUEA9DIzq1ac+9NWvfQLSr0b1B7bafaRh1O6c2BbOkRMbxSwwIBSLCCDVYAC41y04DF8eQqJfNByT3ubnUdeZq6Jk3XMUcfFzYC3bhxvY486igVrDCgKJjpdcZZDDh8YqbHQjR2nyYadxTY+6Om0zg8XNbPfvZTfdXKau68Bfrkpz6pU0442fgyFxavYyp5dCR3ySVpcSkhOnleZzDbT7jGEZpeODNqsFKRVnZ/x6n7rW99a+hNk2ZWFmZLBixFCB7yNjbt3Eeltt98mBf47tZHntKjG/qV6eh0GFQo/OG0Ot2MelrWGwAhpgkvq14zzHmLejXFPWyGyHhGr9ZZCePQB1B8B0SUDjzl3IWZN/AZ/RzKD/ecfC6ldduGtKXZHgQAYA0i+n0lgXCWTsxrRreBJ8Mg5rXhkWHzzCZdf90N+sq/fcVle6NyzsQbzj5H73v/+3X++eeHBQ/xZaE8Ka9Qjy5niBrNkHcTvf958+e7/rP6+le+ojm+njxpisE4DWHf9cHwF/UXf+MeqyC9bHgWBcNWKSxKGP3Y4vv7Cm9vIp1sX8ESDl/60pcCmPr4xz8ewiOcCMJ4L/ISfBTpQOPgPc58G8sIBcg1z2lnxImSBFAC6OHha6+6WrfecquqtYa6ursMhOjKOjw39JqZb8eOAV137c164J47LEPKGm/glKZtWxbQQQq86U6EdYB5saK5+bJOnT9OHWaQnMOgbdEJJBvwDXCUHHHm/19KfqWJnLTGxREaBmfQGz8lOnXB6kAC/BOKGCFHlw0ZVfKDVbvK2qV2VVK5YNUpYP32y1hUsQDxjOE+LEDYt7AATevMuCMKIx9Y/b4WFNMR6xieoZ6pU+oSPmVtLPziALMM4SPLANpjefuVEjUQJKaDozoYCGXEgeFFdAd6rLxlULueWmdZwNvJO7TRFx4v5xlhxWfxOt6/nPDi/S97RjzkGz5DvqGv/QAyX3ZN7FHf/FlKZ0c71P57LenwHQIzAGIskcIFAIUhKm4QOgY+WZ+xBtHIS7v7tWXNM9LwLsulmoVwYjUJRe1eWliDwWGb1UerjebMzIeKQdWQgcqgas+t1I4n7tWqO67WwKrHVKz2u/GXfMTqdtocRlhHJaTR4biBhenPWFECWMg6eX5Gz8LpD4I236neY85StmucBWq3lhyxRD/44WXasWuXjli8OJjNEcCkFjFDo6SB0vPFRwH/ICws9PL5jYZKj57yCILbZUVjB77wD4XZBCi6t/zQI4/oi//yRT3x5BP62G9/Isye6R3X57JxGE5nGDKiYTpDhJthaM/5ww8A65RfCe8Fq5CvESwAF+Ilbyg9lB/OqQxTIGhYoRXnwzgLA8sQ05JxZMUJlVk5+F0wzEF4eb+Dn1LID2n3s3hwz7oSKdf3448/oX/+ty8Z5NQ0dcL4JE0W1W5ZqtLT8pmZLAxA5AxI53c3gn8FAj0AOWZhgUDgIR9cHgxyzAFeWT2HtIZ7wB1PndZMMa81/YPaWrVCBMi7nFPmUdd6GOKizuEoypM6AMQdPaGg8bmaVq14Vrf8/BZ95zvf1TVXXaWB3bsC6Pnwhz+kd7zjXVowN9k1vVgoOj4HRuQUhf/gC1ZmTijJNOVAHIDfhfPmK+/vvvHNr2va1GmaPmPmKE/huDvKX4GXmlbSCUggXJ6HMBx2IZ8PvHrMsccGXzZA+8RxEzRl8hRSAFMFXk3S5f8cXsN1Rfg8o46xND697Cn90z/+o5Y/84w+/tGP6uJ3viss0RB41PUc8kG+Ru/Ja8hv0DSOxmlK4vjFR4MhJb/H9+QJ4M/Bb4Qbzv5j9mNboU19vX2a7zK64PwLdLLbImKKqfU//smP9fRTT2vHzh3K5Irq6urT9ue26Paf36zta5/R+tVPa3BoWJMmTVWx3WDJYeeC/51r2XHji7d0XFrHTO1yp825cLmSLuofngR8IKGcoiSP4fjlRNqS15wv/x++DfmOoRA+PySghX/cNgs5rd1R0q4KPUqDNCcAJUYrqvqiSrmk6Qw1ggLPpataNLEjACAsqpGfDgUiHZRhvI7WQa6RmwyhAtixWgOEIJzp8SmLFOUa8hTi27HXL4Uofn/kOvV3lKnLk1lQwVq9tV87lq9xJ9rlt+fPr7/geOnPklplYgjhjv2NuOM12gxW8H1oy8m3zx/xvbH3+3vmfI7eB/5xMmA9ZEDnlD51L5ppdW4dF6onaOXXjA7rIbBEnZAJijah5HL0ebhCaGP1YXGvvFIdvcr1Ttb42YtUnDRNhQlTlC92KlVod6W4UWDRsJJpDO9WaXC7KhvXqX/DCpU2rFe6tFv10i43AlcmleWiez5mU2wEsUT3jKU5pcHM5J4YYM1iDAYL/m3FPi38wJ8oP21+eLNeT+mplU+HTSjpbf7e7/2egYjf93OmIeOTQUOE6Gnj0EqDxbmPna0Z5sDnKdluISkvBBEz4RLzvLRl8xZ963vfDsMJ+IMwIwuzbwCFr6C3E4UB6cPh9q/+6q/CMB0rBkdnWN4hfI6g4AzESDtrsjCVGgHEwfod7OFESubNnquFixZq0cIjNHXKNPfWxoeZE4hZeg3wwS133K1Pfu5PtLOWVs/cpTr93Ldq6pJjNZzuUI2VuB1OwcJ6xM1unHse503P6i1ziwawdQNrfLSoF6Av5/0OLBwwUSIcKIQEsrveHHoydNUMQyG3rdylq9fUVEp1qOLn7QBP1xVm4kTp+v9ySY3qgErr16hjyxMaWv14mK02a9ZMvfGcszV3zkyN6xmvQht8bD5xnQO+ydPLIVapxkkecHrZD76vP/r853X8cccH/oPv4fwAEJzKF7MLjB2kmd8j/oaGBkd0971367vf/66mTZ6m3/vs72nSxMmBJ7E+hZJ32PgxAfrqbuOlUlnfv/S7uuv223XmOefo7W97h3r73H5dX4mgfnl5O9hEWdRc1uVyRVu3bw1Otg8/+phWPLvKuLsYfOduu/VWbdu0yQCnqbI7PR2WP+e86yPqm3eURgrdKrl9MzTfaRnxnnl5nTmjaCnBcGzSgYk+U5RlwlFQhDMHRkmtjVIourEV53BpC8gKP8e3bMCN7Ipl23Xv1kxYxZ56Lrl+iu4qVp0chpuZIo+1B9vq+MaI3nnUBJ06mec8ObAhzkOJWDAW/0VmNCKXPvaxjwVrNuWPbEReRRlJ3rhHjvHsQPNqqecahIMpIddi1dyfqQVXjmw1o12PrdXqn92uQgkpdPDKj65LAoETeTTKBKOU6AZ4CyCWCuDY9KK2nbzJ4338tB8iPoNn/x9kt+PqPXauZrz7VAtcP8VUPzrL9LWiw9oCBKYMuDLWxp7L0eej/yNAYE5Yrl4dUm1wp3atX6Gda59W/zOPaGjloxpY96T6n35IO5bdr51P+Hj0Lj330H3asWKZKls2KzU8qFSlrKKVDj1EAFAACmOPSFxymFNi+tAVxJ/0umAw36FMcm0af+QpSneP93OH7WcTJ03UrDlz9MPLLw+Na8GC+aGXi/JhynNsaJzxp2G2DavfMrMB34SZM2eoq6PT71rhOgp6sHGdidvvuFP//C//rCGDTKwyACB8Mwgr9nBeLgDiew7SwlR3elUf/vCHw7AHAoK8EDbXENcIFsARwwnMsAH0YTECOB27dKlmTJ+h/p27dNe99+imm2/S7bffpnvvvjvs+zNSMihwthoGw1u379CVP/2xNfewBrdu0urly5SqlzR5/Di1593rCb16gwKD3KKzt3hiUXO6sy5X14MrB0CaTF9muCpJ28EgmjwHYIcDFYSthPDDTCGnazhV0PJNA1aABoguDxyZm6MWzGZ1RANb12n94w/oiVuv1NoHb9bEQlNvv/B8ffDDv6m3XHShZs+crZ7eLuXyWJacF/PoKBYN+SH2l3w4+/lMXnPmzgl+at/8+tc0Z96c4PcC8wfLW3jXL9IYXvB90u64RuRyx6bFc+fM05LFi3Xfg/frumuv1YSJEzTVvewAkigP/wF+6LA8u2K5/ulL/6wnn3hcH//EJ/X2t75N7QZ3WdcV5QnAe2Gcv7oDWJt2ugD4ADQst2eccbqOO/o4rdu4XpdddrkGduw0rwGsDXANFMo7ntP6NWuU7+xQx4TpGkm3Wfbn1WUAdNLMNk1rd6fHGcUKu0d+BZ6MHAUR/4HzaZSJ4SCsMbdBUOAD4A5acNJ3HbCP4eZ6Xsu3jRj4NN2x8jO3NX5LN/KqNwsq+n1WMs8ZLFnihHY1q8gztyVkHWD+MCLKmFmszPjDfxEgxPArw/pYisbKrngg15B78X5/hASgVSTdG9ciOs6VzVpx+AGVtvRr1/K17ugHSRS+OSjkegq7HowBP8kVf8koQcJddJiRi0GF7WGRSHvfvzSihcO5/DXVNmWcuo+cbj5BkLs00ImvIR3eTtAHSA2GshyMOzUudDMpCoIw/CydcnwuAfYOswZx7FRAguZ5nx4pwg0AQT+H4iIVOV7bHxnUInTCQoxYgPwACxBiMFiAuMQC9L7PKzN9rtPG6Lu/seChR7lixTP6y//+P3XmGWfoE7/1MWWL/s6/ja0yGl5IkxsmKzwzLfiZp5/Rm9/yZl3yzneF4Qx66k89/ZS+8Y2vaVf/Ll188SViJecM24WMhkXDJSyE+IE04n0R3+NU+N//+38PQ3Q4PMeeURQQCHOexfggfo/Pofg8TL92OYU1mpoZ7ezfqS3btoQNOJ9duVLPrFihbdu3adjl3HB9LnvsQdeZy9igoZlq00i2Q23TF+jos9+sJSe/QZV8uwYzHerOZ/SuY7p0Qi9gB3FkBe04M6AGso556YAq+MAI0cIMQUQLqwUHKMSeSvWywVtWqwYy+uY9K7Vd3eZN9/pHdmnXxmf1zJPs6bbeZVDTpGkztWDOXC2YPVUXHzdfx82b6rqrBytBGCbJmHOtcOBjrH2hzFn/5WVS4Fv/wZAMdf3sip/pB5f+QJ/99O/qNPNjFmup5VUiNJ/nRygRboj25ykRsLQnN+l6LViWfvyjH2rajBn69Cc/rZnTpzntch3v0qWXXap77rxdZ571Bn3gNz4YFuRs1CswSmgfOO/nCliADw2irPgLhYVvoc811y/g/tln1+hTv/M7WrfK9eg/N2FppN9tL61+tWugbarmnPV2nXjhxSp0j9P4vPQbx43T/G639ZrFhlkRKwP1yRHicFkmRHt5YTm/bBob7OjNkCN/YFdDlz+4zbAN3jK/povmMyaKtKtswN7WZDlRFhZNq1cjettRvTp1Qi4464f0HchS1YcQIXs4kIsc7CnHaudYpZl48sY3vjH4ByG/kvpI6IV1tD9KLEDYhKnBjIuqmWFY0R3CV9EClEXmmD2b1nlhYV7f7N2GGLQIGi50MBIKQHz0+pURsT1vAQKI9R47T9Pfc4r5xE8BfPQSXkM6rC1AB0a1oGzww8F/BezNYn9UMENETfwHfOZIM4PIHEAPJ1NvBi99FgBjwTCmvqOIMu6hsYdTIvD2Q0TDe7wakk7D4iJagHyZbdO4I09VrntieBfRw/t0yHDQmzd3bnD+zFhpz51nkOS4aZixodEQueeM4ynAY/y4cfqZv2GdlPG9fcFqwoaj02dO1x//0Rd0zNHHBGsI8dDYAR6cEdiEw/FyCCHBVHf2h2Jz07iNB2GTXoQEcXAfBQi/8zymIRK/gRvD8IgveD9fyGrC+AmaZyBw3LHH65yzz9ECx3Xzbbfr0Ycfkiolg4GK2oiP4ULXfWVwQGueXqbhnVs1qbdHbR2d6jGQXspu2vhYkFcOp4Mp6qOxE/Ho9SsneCowQ6hz5qXBY2AszOfu8ZnHn1yxTtWNT2vDAzfogWsv18oH71TBwmDp0qN13Mlnae7io9U1fqqTmtWM7qzGd2RVL1uYVMqqlMsqVyoq+Sj7noMyrVXcZir1cH6pB86frAZerVXD8ggzpk5TLpvXt7/7HS2Yt0AdXR1hH7lG1cp+rzhKroexR80Hw2mkkXC5njmNtXUW6cGHH9ZPfvoTdXf3atdAv/7li1/U4488qk99+lN6w5lnuaRSKjt+hiOqBj7VqpWw22SSr5eXt4N9UO4Vl3m16nJz+iol10GppMHdu/XQww/q+quvDXWEr2EdsV83H1iWAb7T9RHt3rxK/RvXaNak8Zra26tjpveoi/ZtzZO08qSdJ+0SHh3DpzTig0SwP+KW8AP8tULeXpaWrd9uMVpRu/mVlaxpLzhA19xGsk1mySbzHHOpiuZPatOUbuSpGdx5CD4uhxEhgzhiZwznaHwXsZKzjASdzOgbFGTUaL3E6wOjvS1AyX+vtgWoYeCDBSgY+hwxw/6kwbH61+QY5crwPrHHXw5iKpCEISZKoIgPUMsCNJYOtgWI4rYG8j+uUgY8YaaxGRwmRJhSAgnDuxHjo2OllAHs+AeGFJqNqphxhm8Fvjw8xYqzX7KmA9QciAUoP32Bb1DZpNGC0nEDtByZHnzwYf393/2t3v2eS8ICczQ2LDUoOYh7Gm0EFyy2t3nLZv23//bfdP/994XNTv/kC1/QeedeEIAUQiz0xx1PeJ94TLAC5XAgDRmLDe9F9mFq/t///d8HgcEeTAgMiN9JV3wvxrd3HIQHxbzwPjuR55hmD4gNvybf0ETr/qMXgej9yRVX68///E8NNFzgARw73jrf8HvGwJmFJ7PKTJ2tSUvO0HkXnKePXnicZrc5hJzLzGkJK4X7m/Ax5XEwTfcwnJUHAKjqsrBOCeu4sC4Us4Q2ltL6vf/f3+nxO29SeceWsAZL17gJ6hg/Q7szBVUMzJvueTNUV3A4R7QNaUqeGWAWXyTTijf0nMYk2UXoMk6OV0LUQ6grB1gxcHns8cfU0d4RHIDb2ovJMKvf4x3KMFGgLyYAN/yK4MPhE2dvyrrfIOHxJx5T3u0y39am/v6dWnLEYo0zH/EG1iec790IHZez6XySJtry2Pz+qol2TgcLCyRlgUMz/kCrnnlWI8MjBkkGo+ZBZq8i+N16jW/MCeQlW9CuVJd65i/Vb3/2C/rwm5ZqKrvxWz6w9QVt4vk2Q85fBQuQCbsE1lD4Klc3UM3k9Piuuv7in36qzdu3a+b4HvVNmaFOd0Ia7kjUUoWw7QepYJXpggHQ24+crJOmFcUeiZZyyexcpzu0Zx9QBBcQbR0if1GmROLZa00xPaQ1phO+JV2AH9aCYvIJMytZSwtrUEx3fD9as8fm7YX0q7EAIfPxI4UshZN26wMAFjqb4Reu3eaddlLPs/CFXwwd9lGCA+H5BMIdKBHSoWUB+rUHQIEFqWCXK6ZzhpfMrUGwJlXo/32JYabp3gy9rgCAgtNfyj06gyKm4+RwXUssSAAIYMR+ycERw34B0HsNgGbsBYAcJUqDRRhpRw/cf7++9K//EhYRfNvb3rZHIMbqi8AC2rxuo66+6gpdc811Ove8N2r58hXaPTCg3/rYx3TKKSerLc9+0jB00tOJYdDQAVYHIngiYOFbfH4Y9mIm2mc+85k9lh/CiVal/VEEc6RnjyB0FAzzMISXTOGlwXEmzVQar9R1xc9+rP/w5/9e1jFu4FYyWPxchkwFxyKEI2nFP+4uTlBh7tFO4+/rA+ccozntjsMNrpbKBQGQA6iAKMj+/pN84GQgR8OPAIi9yzLmxQKmaD9bN5LSF/7ua7rzhqvU2LFBvW0dOv6YozVj7jxleiao2TFBw+k2f5c3cGjoTbM6tGS6e6AGHGEtoMBj5kzAHwmPaeeW4yAR3I9DPrz4rW98Qx/52EeDnwuFF9YIcvxJlC8uPPiTuiWtzESEeyrVilY884y++a1vBkXSbmDFOlTvfc97dfxxx6m7s1MN1yUAleBdVA7HMVBHtOkD4KvXguDz0P4QMpYh9LRDObgNPHDPA/qbv/4b57UuixLnHr7FcdicaznDhqODuS6NX3S03nDhu3TkcSfqPcdN1bQCAMj5dhgxn0m79Peh9CAECM9eOQF9aEtYqHCQxYm5qoKeHGjq3354tx554kk9t2KFSpa95cqIipOnas68RZo2eYJ6e7qVKnaqqy2rtx49wwCo3dLRaTRiZVV12jZpj/mI8iaChHjPmWe8z5njUCDkUZSvrB7NxBMW+iS9n/jEJ7R06dLw254OqK/JA/dQUm9j6VcEgFz+NcuLMHsztFLH7yqhw5yywgEbhR3bQ+MyJ6CEHD2yEfkbF6WG++DCBMS8lPRRzy0AtB86uAAItdpwGCl8Oqg1/5eiYYZsmw2pYK5gCjMhjZT1GFioLs06HQYqABLCgWlwXGXdjPyBCN9XAoAMTmCuwCYwqNN740036Ovf+HrwrcFJj4aFkIhghFlhd999t37wvR+op7dbH/7gR7T4iIVh2u1V11yta6+7Vscde6zee8l7NX36tMBsUehEQcT1ixvsi4k4aeTM3mJXdyw+v/M7vxOcmaMgILwDBUCRDTnzbfjG2QIAUUEoF4tQ3wOBGDYr+1p69PGH9Tf/63+HLR7KmB+yxVB/TcLwwW7W9WrJYCiv8sTZetP7P6njTjxe5x89U0f2OEIAUyofGjmriLNCOHSwmiG5QtyEIVifow9Qo14Li98x8+PZgbR+/NB6rVv2qB64+VqtWfawJna2qaevW9neSeqbvVTjFx6r3imzgyC6eFG3TpzJwokuokpVRYNWI3bzpR9gNojYPGHag0aAThZMrJjPrrn6av3wR5frd3/3s4EX6S9isWMtKHh+b8FInbKuFHXoyg3LHFx59ZW69qqrdPJpp+iSd71bXZ0duv6mG3X5ZZcbqJ+q97z3PWHGWKNRDXUKT2BloXb2FceviurwqPOegnew9AHQeG45s2XLNn3uc5/X/fc/QAGqw9WTqQ1TBBrKdGlLbpxmn/lWnXrB29XVN1ETugp6/7ETNLuIcIB/Q1CBknb5agEgvLRQzMgcNkCtGHAX9ES/9KO7VjsdbtOlYe3YOaDh/q3aun27NmzZof5dO9y5GFYj16kpE/t0yXHzdM6SqVp6xFy1d3Y7iS+0jJAHjj2dHFM8x7Yf3zkQufFaEGmK53jNivwsSgsYYjFMFlFk1Xvk3VjAt28Q96sBQDQdOvthHTxfoGHIT9b3Wbr1/g3Lec0vsi94znqOTg3sjA4DQEFwH6XQAkCvCh1cABTIYKbu3iZbEQR/Hys9ck1FI1gx+zJUkg8cEj6wsHZjdNxsXJhyL5TZGzn/7KfBWhQWadkfvRIAFO5MoVcPu5gprUDuf+D+4GfD7KqLLrooNDSqMK6QizXmt3/7t3XmqWcG0AdjExCL5u3Y3a9vfP3ruvPuu0Iv+6K3XBQWxwuNwA2XcPbdYF9M+GQwO+I//If/EGaiff7zzkM+vyecRFkxFHBgggzwFt/jG6hZdXpcFqxUjVBhzSDM0MufeUrLlz+j5U8vV7GtEIZRVq1eF3y0AEc4rtO/wRrEnnFs6tksdOis3/xdTT7hbHXlc3rHsZN0dE8z7AlWBwC5nHPumbOVBnSwmiH1yEGvGsVCuvCawKcixTBDvkOP7ajrsgc2a9AgjecrH31Id956g46YNMllO0XPbdmg7WueVcES6rTjluqd556hN512koFP3vVF5VocWaDBa4E5QxX6zJjRQaRk9e8EeFQNSm68/kZ957vf1qc++Smdhb+Oyx3e5dibsC/gsI0/z8rly/W//u5v1d3VaQD1GS1ZtCQZXqZ0HMb27dv05X/9Nz3w8EP6nd/9tE4/9fSwKCgiMwjuGA/5PQQoSQlt162XKvAzNqXdPVzSdddfZ4D+d9o9sDs4BjcNFnLmyyHLluaURTry/Pdq9tlv03CmXWw0Oy5d0YeWduuoXvNhsKAkcUBJu6BO4SiIHw8Wp7p+UYAhOFwB6hqyvHxga1U/vHeTxAwolz0LILa7nbCNDkOyGfNwZXhQOwYGtXPDanXvXqO2rSu0Y9smFdradOQxx4Q1v7AO4xvIjFBkRJRb0FhghPxBFsTrQ4EiWIvpJN2cuWfFeyaesKArMjmuzh/fRya+WP79agAQG98ig9h2o0rH0Ae+aDAtjtEBFzmplkxOodMG+EE3mK0tsWDtveil8h/13QJA+6GXAoCSpKNUnieE6Ogl5ApkqIBpszUrN1Y3TbX3Kt05QR3jJqp9wlQVOnt83600CtNh18tDGhnarcruHRravkm1XdvU3L1VBTdM94Pca7ekGAOAkqsxkVpABwryEObyb3sBoLBqNZe/CADBrAgAf9ZwmmHcsKu9OZTFD1lUjjUqECoszc/eSGzYyPYAOOnRY6thhrWQotdcxXJFo61UdNc99+iyH1yq3vF9etcll4TNMKPPDu8cCOHzw8ampBHLT9yBm/RFAIQAONBZZTjHIhgRflgH6GFt2bRF6zes0+q1a0J8PC/mCurq6tCiIxZr4cIFmjR5igbKFX31376qa6/8SVAwWecXKwtbYVTS7RrJtuuU89+mBRf8hna2T1J7qqq3zG/XuTPzKpBerAtOe1i9FkARGvb+03wg9GIABBfQ23KDt5IZMPi6f3NVP3pil0qZNqXrVRXrQ9q9ebUeuOUGg7+KTjnpZLV1tGnnjp1a8dSTmtHo16JJXTr1lJMMHhZp7sxZ6uhqcznDL64/kk/6w9DbwSPqNSwBEerY7dTB//SKn4VtMz798U/opJNPC5a6UN17gSDe375zp66+4irdfPMNOufsN+mtb7tI4ydMDjI0TAqgraJg/Fd2Xd966+36weWXhq0m3v2ed2v6lOlhrzL6rskaRIcGheF0irta187dO/X4sif19LKn9cgTy7Rp8xbnKas1a9drcOvGIAuq+W4VJ8/RyW/9gKYvPVFD2Q4p36ahSlUT2rK6ZEFBJ00y4HCZuEmEGatY1hI55zaGxSkQBXeQymEUVzHqQfm7G2NAntL1K4Z14/qyhvwz8bJkQy6NAmdT11SYBdZWL1sOZNXTLOvCBeO0uKOs7RvXue1uDAuUsqYXQ0fULT6CTCmn08QRZJUzyTpkEWBA8NiByqJXm0hXlGHwaGgHPkgfBxvoMlGF1e1Z+oPZYqzQz2/IxxfLv9cSAFGbyRmAXnOQuc6i2iZ0qW1cj9r6uqz/zH9FM5qjqo6UlRppaLh/WAPbrAP7fezYrVTJYM5pJichNyFQp97t/cCJj1oAaD/0UgAQ0y+ZkklzTQARPZJsqhIYNeNn9Ivdn1DdSLyS7dWkRceob/7R6pg8Q+mOcS5497pjZYYGR/U6/GDWLqtZGlB5+0btXLdaW6x8hrdvUZt2GE1XnSz6tCauHSeL8jlh/i5vAFNwkOzj48AD1/js9+g1AYCYrsxoBQBogQFQ4UU+QGa2UYHA6rT8UE8bnI02xuuvvz5Ygthqgs0b2RqADRwRJkE5EKeTkwiRxPKA9Yr+O01i184duurKK/UTN9wzzjhL73//+wwmJgdfDgYxMImHHjeB+Bx8LwLnSzt3btf/+uu/Dtd//md/nph+cVT164Q9VkAkyjJhMYTBWJAUFR7DaOyzxIapTDtlBWkWQWRdoBkzZoSZXgiUKU5fV09PWN04xOE/B6qKASJDf3/wyd9RutrvMhoJ4CeTKmqk2ampJ5ylkz/0u6p1T9BIo83l2dDpk7N67+J2dcvCm3D8P87S5JPyO1izV1DWlH4seyjMYnQ9wm873cu+5oktuv25pgFQe1AyBQO09lpZ9eH+YC35+W236oi583TamadrfFtRx/RJ7ZXtuue2W7TMZdZt5XHKSSeGVaDnWwCHcg86GctmUvYvFsIvpOC/cgCEsg/1NxouM85YxfubX/+6fvf3PqM3nPWGEH+of4fJulUQQwX/8E//oPF9fXrfe9+vY084LvAM4ZBO/pJSot3i40X4Da218vzed7+nhx56QB//xCd09jnnhO9oIwnYSoATxPWB5mNvIp20s+AfQdqdhxguNDbs+E58f9i8+tDDD+kmK8AnnM+JU8aH1a+PP/kUdbuTtWbjTv3t//2SHn/onrCh6cylp+iEN1+irjlLkr3AfFBP9MhzllYXzSjq3Pl9ljPswOWGb/5mtirr8lCjQf7hr0g7zyYbzR4IkZvnc7QPcrDwDTZxHF63Gkxf/uhW3b0rr+F0zh2Eigqh/UrDGfYlS4f0dbKcg4VZT2pE71gyXidOzamN8vQf5RitxazdBRjCaoIll3ZOJ43NSQEOdODYsgWQFCnWQ8IPiQyB9vUsEs+jbOGaI9Sf718OjeWvseFyjvKYezpp+AYx+xY/Tfw18W2DXpgPly9tw5c5f+vm7kzUVbPyfzkAiNXZs9ZvlGUYknI9YjnHColaHG5UVDewzk3v1MQj52iCO41tvd0WIv4RscBBNJyT5CVH1aBpYES712/R9pXrtXXlWuVLUluNereWcLrrTnMFX8bQcXQwxO3Agrpztfh2T/BJ4C0AtB96aQAIccnGAWwPGJwL2ayvWbJswALB7J92Va342qfN0uzjzlZ+6myli72q5NiTKKk0i5ZQcaF+QlX5SH5ywzZ8QuBZqZYHd2n9449o9+M3KzW4TTIqbssgEIAtJffuOBsn1/ApabMSrpjxMSaaaIRm0HporI4RfxVfYo1a8O4vvAgA1UIDc6N1Lys6/PIcYpVlLD7XXnttsLD8/u//flifIjbwffc6XkylkRFtWL9R//LPX9TugUG9/304n56ozi4DGodRq9aSNZNGGzmNCyvE//mHvw+L9f3hZ/9A09wrj8qj5vyPFTRcR3M2bAaoYaFGBCGLjIX1fAx8uCYfACnM5Vik5syZE5ypecb3MdwoRDh4xj09529ddqX+z9/+o4oWwpWRrQHWVJtFzZ5/gk5538c1PP94g1ZcPfF1SGtue1MfOn6cZmRKQek0UlY3FvLJ7DvXosM+OBTjRMEns2LYCgVlz9oq6yoNXfHIc1o+mFUpV7Cic+TkzfXdhgAzoB/Z9pzuu+0G7d6ySeefeYp+6y2n66RFM+muaWj3Dt1797268657tGnzNk2cOEnHHrtUJxx7tAHkNHXioOq8cECxDLmnDGPZxt9fKhEG1rtrrrkmLMTJ4posxcCicdQ9io/pw+ymzoKdYbuV3t6QBviU+PdHWP7Yc+vyyy8PQyksscBmujEPMe0Hyvf7ItLDEctjrDUCijwHkS94GP697777wvAz/j6LjzhSF5z7JvPuNLV3UZfJBqb3P7FW/+Vv/9kg7lEdfcpJOvlNb5fGTdFgvsvyKRkOZ78uHE8LjbKO6W7o4mOnq8982Q7nOF3MAqy6LWLNzVmOWEg6JZZ5ucRyeyCETkPM/SKy+EwcYf0mW10s21XTD5/YqRX1To24bXSYF/sag34zo93ptrAZaqfLKe+OHVKuWyO6eHQz1Ha3tQBr96pfypiyhWewnLDtDYAIHz46Qmzrw3IeWInYRoVOEFYinmElinUSz9RJrKtoQYaoQ/iB+KBYr68mAUDIF9u+fOtb3woWLvZAjCtJkwaOMFTvc80AM+cySjNj1boAgPtyAFC9VknkhrOXMyBuUAbwSDFlcNJQfkqfJh89T92Lpyo/odOSJym3vYEjFHgE9uInhwcgzloPNEbqGlqzVVsfXaWBVZuVGbbuC4th1sOq4GUElo+C+SBf9Ye+rTr5CdiJuSDmFgDaDx04ADK7ucLcG2ywOimZsWBPuzH6zPYGtVRRuZ5pmnbSOepdvFTpth6/1O7eTTGg7VDBhOeWjw9IqH1XTMPMFEaqTDirhtk2WHncA1KzrOFNT2vTPXdo57NPqaM24ufs+m4hRWAOMWeEnLNQq/oZ4YSgXMwvAkBmnACALnkxAKrQqEmfA81m8WFyD8ENBzMrzncIB3oYCA6A0H/+z/9ZCxYsSCxA+2DsfRFhAl5GhkZ0hxXMt7//Xc2bO08f+8THNWfWnLAGTNbAhim9MPpA/27925e/pC0W/p/7gz/S9GnTLVTMxg4j5C9noeP4YSkED+fnnntOTzzxRNgeAGFHrw9gw2qrgBwUGcN4WLFY94j0QwgKBBvhMI7OGQHGmd9Cb8dndp//weWX6WsWGNOPPFVd2Zpu+v6X3PgscHpm6h0f/l1NWHy8NmcNBMK3meDo12NwevFR43TixJyFtUGahQ8m/eCpYtZA9BwMgqWoU8ipN2/4CcLBzX/YEd2/cVg3PrVF29SpCv5Hsf37nbw/pNfdZnRe2rVdzy5fpofu+LnedcpC/cfPflQTuszf2QQYDg6WtGnTFj355FPmiQf0lMs8bPR48slhtW8saJQfR2zyY68J4+UQ9UA9oXgAOf/yL/+iP/qjPwqrecOb7AhP/eEkyl5LXMd6jUphfxTfR1Ey9As/AYLYV47n/E5Y5Ofl5iMC9Vgm8aAtceY5wzjwMZv7YtHit9NOOy1YLWiPkyZNDu2Aoc2skS6AupTO6rZHntV/+7/fUdukiTrG7zc6+lTKd2i3BX4ey0odqysCzN9ZlkxID+ni46dpXhfDSubzWtmyoqi6w6q7aePLkTYYCYxqkHVQyNHTjCm9kltBye3k58/u0u2rd2tTts95yarodtNhOQyNWIa+nN3gqavIc7F8qUMO2jIHwJIDvxqsKnHnfUBR3LMLuRGJeuP7sdexLuFPKPLHq0nkBwBEPGzrQ4fgjjvu0Jvf/Ga9+93v3rMifrCvO33Vekr5jNNFRzPHBImXB4AYZQgdZl/T3aLMGeoq5WoaN2+65px6tAqTe9U0XmYUIZZ7pL3bjNVMYGMUF5ZAfICClcrP6tuGte3J1Vr7yDJl+mvGWIm8r7oDENiRWjewAw8xGt8CQC+ZDgwAsSR7wvLuERlMZGowgAWxey5ldl0vdBntztKicy5SccZRajDOjgryR80wW8No3CcETxhTpxR8n1iUXAm+DjRaPKzkyyaVcEdwGBvaruduvVI7nrhP6fKw686NDSdrV29bvaSCG3rZwqnhCg2pdjgvBQCR7eC75Pt6vamVy1foO9//djAd4+SM4MVqQvXhE8Rqpay/w6JdezP0L6Jaib3zsU80LYgzGnCP7Mtf/6puvOFGfehDH9S5Z79REy14KIL+3f36+7/7G23dsUP/8y//KumN+Q9hg/Kg57ZzYGdwwiaNHChABBC9OIQX00XZSTv25BAUHAhFiLzE+yAoRn8fK9x4hzCxJj344IP6xte+FvaUOu69v6P7d/uboV264v/9F+3YPaKT3vVbmnvWhUERpZt584ZrmyEmh1cweF40LqcLl/ZqerYZ6ixlYVRrWCm7JR+Ij/uBEDlDZVAjBffUsCYCr3anMtruOH50/3N6eqBh8NPld+nJ+mcItvPB6tRwOuv/sE757q0btOWuq1TfvFyf/71PWxkcHbY9YbNXi/0wcovj7Ijr47bbb9d1N90YNpilDi688EItWbIk9KgBR5FiWb8cigom1hEb2rJjO3z4wAMPhHWrPvjBD4bfotCNdQ8dSLyEzXsxLgDIv/3bv4UhE4AQQyj8fqD+ZvsieBjeGtt2iA9Fxurm8BrxokiZ9UO+iD/hWdLHxG/zK3XmThipYCbpTnel73h8rW5ftkWlvimquIc+7DSWrVny2byyxjGF0JJo65RhzbJmRMfNaNO5i3o12WG3GeyERVstMLACEbgFd+CpzAHkF4XDW0nXAuLJXhSihltZoTqn5xzuj+9ZH9aoGnZHsmr+Qk4UUHTO6Yhl7MsBQLH9Rh6IgIjryIfxGWXNNW393nvv1f333x+AEcNovHfccccFQBQ7UlgW8WXkiPxImDH8sXX7atDecgwCxLEtEFZMpsxjDWpvb3MZ+B341XogrGkefIBeGgBKcuj4XG/M2KJ+0G2lXF3D7RnNOf0YTT1uvlQ0d1kvZsw7o8naU8aUzwvKhUCTbJCqAKRCfkhi1TxHPL7euXKjVt/+sEqb+1WopNSJycjfUeuJY3VChAEl0YYQWwDol9NLAUD+zckvuFedRfKbyu75D6U71D7rSM0680J1TJuvsnv/VQscesuJpc6NzeWMLzMP4uJQxM3INYokEg2Jg0UJ2UkeMw+Myk7x2rFWux68TesevMs9MvfSEIRWd/lmWflqxcLOAMggKKQaJnLDP1AAVHdYrLI7aEV21ZXX6aYbrtfxJx0XxpbpbcZGhjAhfd/5zneCH8wf/uEfhiGkA2nstbKFPoLC7yKAiX9kpKyHH3tYP/7xjwyQynr/b/6m45un7//ge3pu03NuxL8drDX4PaxctTIMx21av0Hbtu/QwPCA+saNC8oWgZT0iicFZQvoIb1RIEUBBcW08ox3IktyRgjGexotBwqJmRcMQ2BiPuvMN+i+wawuf3ZIjZER3f6V/0+Tpk7XMW95t3a1Y/VLu/eacb25NbsX2x7mOTTVYeDzxiW9OnlSTuNqw0FB1BoFZfMI4hDlKya4EgCED3zePXlquO7e8w6DsQefK+uGp3ZpVz2vEj1UevvUA74do8TQrFnOAs6cCXirlXTu9IxGnn1I11/5E82bOUMf+eiHDWqmOZv5UJcpg/UAtBzUULkUetEM07DJI8oDRYHVgqEqfKzwU4jg5KUSdUadUIeACIaEWBYBRQU4wTcNYBLrMfIs70eFtz8iDr6NB/ERPqAfoA0PnHfeecGyeCDh7YtIE+mhB4/CpazIC/GQfqyUgDqG4ACQUIwrhQ+Ei5sZhExeKFqepNxpYXPTAfPezU8+pwc3lrTFIHcIIGGZE/yJyhV1micTYAJHxh5zXRPzNV1g3jx6Yk69BufMxgE414xu8R+JdCD2n+cBEGFwOCYYkwj5garncaVs3sxrh2XrfRsquunprRphEU535RniQu7RlvIGZBW/93IA0Fh+ofxim+cceZDreM978X2e0dFiqIxhcyyCzAzlmkkTAB8sy8ge/CGxejKEvsfy8jJ540CJdMYz8XGG75FTWO7xlaMD8ra3vFmz5y+wjKejlXX5+bsMw457AyDKbmyaKZ/n76k+Ygw7F5in8PmpWXaVuzKaZfAz8ejZqneZ3/wZy7ywt+DY0GIdvKBc4IMkG4EAQHSRgw+owwj7KbJemsHQwNptWvXzB1XevEO91azT7nAcWSln/eVvCfWFUoUUtwDQfujAAVC9iROyG2ClpJzfofxH8p2q9kzTUe/4iIqT5loodbi34uJ2wQJ4wgrPVE3ItRuVQRFRQAFS+Z2awwKfvID8nApLOawR34LN85UBNQe2a/Pt12nz4/eqwLh8fbfrEHTtRm0hYfZKmADmGwVATK9vhB6VA+3s06L3/olyU+eZEZ2bkF3DKAuZJx59XP/0D/+kfL6oP/zMZ3XEUUfsYViqDQaO1cd4OgqBXupf/MVfBPBB44Niw4yNMl4DsCK7hX2jyLPDlJl90HVw9dVX6Rvf+maYrkxP+O1vfbtKpYqeWfG01lupTpwwQfPnzdO8eQt0zFFLNXvBXLW5dxOFDecQ9qiQi9djKb4TgRzKhjTGfPIsCkFM4cy24MCawUqsKKO6G93PNw/qByuGVK00tfOxRzRz3kLzQa92Zd1onZ9ivd2Kx+lqVlVkBV4Tmw/P787onUf3aX6uFla1DYB1NE2UbUw7aXg5RGk7SVYapAMo1DTYadM64+efPbZNyweyGnBC8nmXV5i11bAcSOKHQnVZ0QBq6PV3WdlePDenM2b1avPaVfrO17+qFc8+ow9/+OM64+xzXH4FF2YlDF0m260keSBPlDGKAmsGAhmHc3rPZ5xxhk4++eSgPOJswMhXsR7GignuIZ7F5/AHfmn46cR6AZRjrcT3Z+/y47vInwdCsR7ggxgWYIV84HiK79hHP/rRAOhi/UFj+Sd+F8sjPuNM+2Fo7a677gqWBohyIe1YGSiXGG4MM5SD2TmsOo7VNsZrGcNK3xXLp0HLlxueek73rm+oP9vlZ/7GPMmQe5vfSyw5oeGpYrkz4iCQA73VIR09Pq2LDCim5LC8mGf9TcOAiYU7Azk7Lx0AmaHgKcIyL7IwrLk7ALcwy8ttaZUV75VPbNWqEXwZHU2wWuJPkg1O3O0ur4rz+3KHwCDKbyz/RKKMKV+I32I58x3nWIeR4Gl+A7TSMcLqDCiGt9nZHT6kQ4gFmo2W6ZABlPFRi+FzjnUa00NcL6hn09i0Q2N/57sYTsxD/I53uMcFAOvo8uVP6iO/9Qmdbt7q7ex2u7fcod278x4B0Kqf3hYAEGGGfMM3dIysmFggcyyxPAUrpFctI2pmiDlnH68Jx89Xvdv15Z4XPqR51xfcSVc3EmmCYn4CjbIIRJSsB0SJkPe4MW/BZ2wBaad1YPkGPf3z+5V7blid7mSyuGfFPBXWUPSHoy1ilAipBYD2Qy8FAJn53ADaQS3+V2ZmQt8MzX7DRepafKrBTZc/d8/aPTKzUkCuCTaFYCL3+CjwUX7KGRAkl36bevDNKI8EtnEywtes6FrzNcNiWYY1+tdpzTWXamjtY0bZQyG+kRoNoRB6dyHVMLLTyto0dVaZNpOwG3yjaOX7/j9WfuIcP8uGsVxWw/3Rj3+kp5Y9FcaPz7Zim9A7PmxjER2hI8HE9LxRJggBLCMs1c7UdEz0CAhABURVx8YIYX4NDcx/iMPhgUFt37lL23ZsDevsrF2/VrfdcpsGdg+E77q7O3T6WWfpzFNP16zZs9TT0632jk7l3PMlVSnXz97pO1BCmY1tiKQrChJ6fVi3fvaznwXrBb5PmJLjGhsVV9ZtmwZ1xcp+let5NcoWlrmOsM5SKj0crC/VZocBsPlI5aAIYHr8M3rTZZ02Oa/z5nepgx6OgQMVzzASYdPgSQvlGwXaS6HQ5K1s0laILnk3/rT6LVlueXaX7lk7aAXZZbBr4WRpQTqZ/VclHqJ6vjiCZRBeKhgYf2Bhh06b3qZU1T32akk33HC9rrrqOvd45+k9732fQeks5xPBaZDtMCjDsQqfsuYafwusHMxaiZYhlP0pp5wSHDi5D/wxJt+JIEzaIURYKB12zaY+ACFYSyAAEVsHYPoHTPBd/DbW78spUwi+jryMYsHpFGvNW97yFp1zzjnBaTbml7jiu8THmXQDBtm/DqdV8s9zLAcM1aI0CSO2nV9INCUrIMbTy6N5ywAH/KhhALTLAOj65dt05zo8FttdrdQMtWnwQx2FL4LU04hlUdlKLt0wALJcmZId1gkzunTa/B51+I02a51GyEshONDS1MaMNvxCehEA8gPc8vnYtWDwA1A2gLM822Z5e+PynXpkW1k7awZ9bggANUJg+YaKZVTR5fpyAdCrSdQzfMHBkFOcdcYQMFaibdu2hfrHGh0t1AyfRv9DQBEUeTzyCufYDjgg7seeeQ6Pxd8j8T3pITyu8SO7//573F4uU5/B2MVvf6dOOvY4pQ2KGTjNGQT0P75Oz/7sbnfsDV5cT4AFKzvrG/ABes+3VP5oVExvL2fqahQymrBwpuade5LS3fmwpzOdPDqAIJYAgQ5gc1ryRK7gToAMxAndmbGMdB+MH0PK0iMN7Xj0Wa244X61lwBqyBygTaL3XlgahHpoAaDDdjNUNpW0Hgk+EpiTyy74UrFHk5eepvHHnaZGvscKMFkEL5/2O1TcKLMmFUHVoJJ8Hi1zzIj0ePiNc+j9+I4jVCT3PgDg8B/737CoVL5YUHtbXoMb1qg6NOjkWrDghDvmewgn3CB0HADTZ5k5kil2afziU5TpGhfeueXW2/U//vJ/qM+N8lOf/rROP+10dXR0OWq/a+bYVwOjccG0NGB6wgxL/eAHPwiLcmECjo2UBhobN9+xzcDg4G7dcc+d+tGPfhS++d6l39ctt/xc1XJZd99zr8ZPGK//+l/+q856w1l69InH1bDiuPCCCzVz1hz3ilnULBfygnMxM+/2Tt9LoaiwCCMeKKm//uu/tpK/Icwg+sAHPhCcvSHeBTAyLLBxV0krtpSCv08jh4NmznVEL9uQw3mtWmmwzg92t6T+Mek7DCuvgd073RNrU293m/OSdht0PVFXvDVatvsSbgdCYHPAD8KkZEAy4DJ6cN2g7l+9TQNpgzX34eHBrHnGMThVjsPJS2rMNBpl5CE25j1qXFYzu3OWZeZtC7RFCxbp2OOO12NPPqlLf3CZulznCw1CUKox3WP5BKUOr7AIZgQ8WIC4xwqCRQXASQ8aIMQQQsw7Z8IgLH4H+NCrZVFO1qVCsQAWiZd6YjiU5RrogTN8NJYXoZdTphD5id+SboanOLMYKBYAevvwPkRckbdQQCy3AGDCjwg/JUAPezu9//3v16mnnrrHenpAoDewkyvZ7yELLKWUtXxCWZFDAO+KHcNaPQAPUMcJ6HGNxKoNhCwDsDuV5lPXGfznY/euXerqKVq+FMPWLqwpBODi27ih8f4ITuY14g4JJminlaU4Gq5HhmIYkh9wHu5fP6RH1+7QULpowJbYl2hH5AUITyhAuGRbhZQK8ILzz29F5/6ISe2a2plR3s9D0vZXfq+QqFeIeuKIfEXdA+CxcOKzxXAvIJxO4cSJEwMgwlqOozJnOgIMpwHiAUOEA3CBB+DZGD58x33kYyj+Fo+xNFbecibc2e48Hn/Sidq4fpO+8bWvGJtUtWDRAqXyjGikNfzcLvWv2BT4avvwbn9Le3O5+1v0AAXL2mWx7tEnVQMgjS9q0TmnKDexA/GW1Hmoh4RfAkeivPZDbOUC8Anro/mejlfWwSMWw2ShUWJoDctn0R2FUv+g+rfvdrT8uR78+75jgldICWG3NkPdBx2YBahpxQs1zKS4kY3ICm7qAh3xro8o2zfNiLjDBc0vVnoGQIEv6cjsqRafYShLnjDyEMrejB1qJ3kniW0vor1VLebcMErmDLBypllRcWS7nrv3Fq2743oVGzDCiBmJNXkQGCYY0WltWjGzMWK+0KZqs2rUPk7z3/05rR1q6Ctf+aoGhob0oY/+lk487WTlswUrRqwQidDKWNnt1b5CA6PRjW2U9H4Q8Ah6HKMZFqC3T6OnRxQdCbdt3qqh4UFNnzY1DH8sOuJILTlqifrG9enfvvglPbt2lf7sz/9cM6fNdGmltHXHVl115RVhBeA3nH2W3nLRWzVl6rTQsOsWyrlC/mVbgGL6o2Kjt3bVVVfpuuuuCwr6fe97X0gjFIVeUOiuQ5xK710zqKufHtRwpk0Vl2spm1feZdbRKIc6GsoU3HNFTFsJ+n3aGtu049TZ5gbf4+PU+b3uvbarN2swuVc80N7C7YAI3zTXe9khbjV/Pby5rDue2aZBlmjIFFWuIiAN1swlLFZJRZM0hA61GVjWxOwfiKGQDyzq0GkzOtwm8BnyYR5meI99mm64/nr97Cc/1pwZM/U+g8W58+eFckWQkx/OUOQbBPJY/qH8Gc7C6ZQFNuET1mVh5g1+QwAZABTDaAAlQAdbswAaCCfUicOJiojwWLOKd7EOxZVyId59WWVqirO2YroJi7jgG4ANnQAWpGObDtahwcrFAcAjTiyIzFRDIZKeseUwVlntN31Umdsn/FSxcqE3XnQYWbq5fthvcH7Nym26YaPTW09Ws674XfZkyqFUXMlULcGUfVF2fFnXJ8OhefNkzvw7tVjV6YsmadHEonqdNgYpM8g0vhwt519GL7IAIU6s4RiOL2OpcrpH3A4e2FTWzcu3adidmWoqLzbhDRYnf0BaUWyEwDSR0sv0ATrYBB9TX9RVbKeRtyF+i9djn1HPEIAYXyJ85LAGIhuRn4AkwDt8DXBn6Ix2gL9cDId4Ig/H8CLfRyKuCKS4hlgUtOLOZ8rt/umnlunbX/myBi2H3/eh39QpR5+sxprdWv7T2w1Cmrrl3rvUHKnqDaedoaJ1CTOMk0VAk7xCDk3ljqamvuE4TTttiSpZc4aTmHOdhvp2zWMJQrAciNN8YqF0fsyHVnSjRoGE8F9LttKoGzS7ndBhtI4e2Tikh392q7LbSmp3Gun4QUHOmpJYCag1BLYfOjAAFNYBMvDAfyyd7rDi69b009+sCadfoHq+K0zjpLefNZOGMdM9FZ8UMHdBFVAboVk3VLWwwmIU7+MXY4kN4jJOE5tPsv5BhWdmiGKtovqmNXrgsq+q2P+sepqDwVEQIZP06hMARM8pTWNAATp9rKz6cHO6bntyTZjWe+75F2r85Ilhl3L8jRIA5EwigIJz7gtTReOKRFVyj8BHif3/2fsPQLuK6+wfXqffc3tR772DEF1UU0wvtrENNhj34Br7TZzif/K9JcmbxE6xk7zYsWPjBqa50HtH9CoQ6r2jenX7afd8z2/tO9LhWiAhLhg5rKutvc8us2fPrFnrWWvWzHzrW9/yuBn6wZmPhYbNMUIfRTZ82HBraWq2+roG7xfH3d3Z3WnXX/tLm//yy/aVL37ZJutehssnVPbMAlws5G3xsqV23XXX2tZXt9pnP/dZm33obKuuqvZh8HvK+c0RXRIIEwQSSgolhjV26aWXepcEXgiI72cL3x1HiEvozFvbbXctKVgXE8OV26RMaIRpgVHuKlm3JLj0iEo8Y22AANVfhu4wcT9daFk15uHxvJ00rtpmCwQ1pFF+elJlnxKvqcb9fbtp92eGg99tRpENLAEtYUeczxPrO+zR9V22uVBFDKGAl97hz0l562XBuMIv6SNDRPwfHUXfy5xFH5yStbmjG4TfiPWRMOdBurskGOlu27xurd1w7TW2cMlS+6hAEKCDGJYgnAMPwS+VCoLrfC/nOcbDE4JN582b5wqC7gM25m/CI4fnhC4E0uCZkF6oI86xZx6fq666yrtmAR68g/o9UCKfvIv0gwjjNzyE1xDwxpB8vACcR3Hh5cJThFcLBUceK/MblFT4/nD+DalPx6BgehJAbQEgpcHQYetNWqfa1B0CQHdtLqhuUqppGUBKsqyN2sgwZYZ+INl6lVBe513hUG68WnmpLnfa8GTOTpo8xKYPyQpoxIwRgRglkcKIOO13KTrrAEhpInHge5Kn+ahVe+Btl+Tp/GUb7bFNJXs10ah8ylDTPXnl0EEFyejRjL41ksBF636XACDqqpJnyS+/2QOSqb9wjuuBwnOAX/YQsocwAmQmfI9HiO5dYot4Fr7HmAxeQngrBN6Hd/fnF97DBl8F6iWeT20fbx/gsnXbDpv3xCN23a9utGMPOdIumHOKtT693DoEfm+8705bu2SFnXnyqXbE9EMsDeCQ7tDbvI54Pq7ST4+utzEXnmTFoTUe1lElY4quSm4qx1KqK92rrO3frFEwBw/qsLynCxgeZ1oXTjNciIWm4xj54mHCX1c/8rJteWG5NXbGHDBzP6CeUo9Kniff6wLbB6mQ9qMLjNosyRoG2xQTNVaoH23jmWCsulmCQwpFzY9raTGexKJ7CoJAgDjy1KgTl2J4BaJ39Z3UdURMvz/dgyuQwDIfTq/f/ifGTNXUWq51k/Vs22DpfKd4RyJNt/SW6CZSlUvAYiHSADr1/NItO+2O516xzswg+9Tnv2rvP/NMn7guk854Q2IleM8H3X192jE0KDYaHY0Vq5egP+acuP/++32uFAKFIYQ6XQLEYXzhC1+wD37wg64E6CIYNniY1cmCT+medCbtAuC6X15rDz78kP3lN79pEydN9PckAWPKD/ExcRXqUFlGxx1/vAODn/7kp7Zs6WIbNWa01ffN0Bwtyqn8UkYS7nSRuVDX5sdKKyieIHw4xvqiC4NAWsDgl7/8ZQdqQVHyvWyeJ+WZZ/Sfko3buracLdqBp4WaZJSXyqzsS/zpjKwwCRwsa+7F+uYoKd5iAU/vTtVWECrZ3Nru4CRRWyVABweo3pTnOHNAkVcQN14dbSXS41sRBn4OrYdiZqoEfDMx6xGvrJT0eWxthz0py64tXi01kba40o5qVGXBEd+ym1CkEVey5wqLoALOEXvTW6psdCMzXcN3UrYIXuXfm4WOW5oaba6EdK3qlkBkwArAF4GNkA78E+oBi9KPZTGypxnQPZtJZTwOZvLEyT7Dc01tjc85BZ+QDs8CkqiLMJIspE8ANrmnbVBnxIwNbhlsV/3kKgdjUydP6Wt/AkrepUNZwid6zjeKmpKhbHSsd4V8s0Fe/317rgP6Gb2F1xAABN+gtABELBFz/vnnOz9VdguT95Bn9lBIF6o83iuRDJs+JiGr2I0q8QTxZmScgNCV2zpsbRvRHIBUgURdIlW2BPJtNykP+h+Vw9mcKgKZ5AHWAtGbtu5QPpNWVZ/xqRpc/ohL1Ir0ergF1RK1p4h74C0BO5VNNIpMm/JakNIqil86dW1tR8meWLbV5m/qsJ0yIjsZ9aXUANOoZ/82UtKet0VfRXsS2Fa+ft9dYM6vLtuj48rf1CfHQdaE+g11D/jhmHu4HviYLjBig+gaPeWUUzyubPbs2e7tRN4C5vFOYxTAb8xtRpwi7QKeYyM90ka+sWcLYCtJ3akqWNaF0qyRcTdj+jQ74ogj7dmnnrHbb77J19qzbMLufOoh21XqsbXbN9uYESOtMVtnKdWfO3fgF70nly7ZkKOnW/34ESZ72sucqRmQd9RfScAcMEIbi/y/+yI95O03qu2wgzn9tU7IUxwT4j4xh3fR6bHt6zdYvENwmOf5pw25xeMRvdcFtg8Sw+yXB0jFV+xRIUrJJEdazbSTbeK5H0WiWVHXephhVZ9WLVPHvTo635+8qCu+3g8ryv91q6IPrBIIDeFFYIhyzLpsx9KnbcVdN1jTjs26rspOpATCBICEhKj4nLKxuaPDnnhxkW2V0p48+zj70Jf/yoZNnibw29dA+DYxFGCr2OfpoPGibBDmBH2GpSOwVKhCLBEsWwJQ6SrCXcvG6Jaf/OQn3jiZMRpFCAUhAQVFRrcZ3heAErFE5CU05v7ENTZAC0qR0TOnvu8UO/+88625OfIIUKL8Ya2EguZ/YoUAQhDvxjuF0iIdulkY1hwmddzbu/sTbvxHNrTaTSty1lHOWJZZu1TmBamStPvomNiNOTeiOg1VHlL2PPmGAipZdazbhlTFbPa4RpsssDE0E7cs3gzdBNBxNaUfKAkejPu5KFVGiJakXBjw3pYr2YrN7fbUq2bLO/a8BVCMog9K5c0Q33PxlFo7ZkzWUvpuILUzoPJEhxhHDHdlJBKss27jegfEdFkxGRsBwoCC1yiFPp1ZdnCH8ouUF/CDmtu2Y7v99Bc/d5ANMCUNvIzwChMC0t0E/6EwuDZqxCjLZqtURICy6D2kV8zn7OGH59nPf/ET++xnP+dLsMSJa+Odug/wxp0+szhly9foQeYwYUZh+C3wA/mH4H88UwwxZrg/sU0oK4KYsdLh3xdeeMFjPQCAX/ziF92Kp83w7aQJcbw/vNafeBpjOQ74YXSE6gALHGVAHXQmkvbAwi1238Z4NKSch/pR5Vs5DjZ3Tk0Ui5t6YOmdjNJr6M3ZyNqsTR/bYFMGpaxRQBrHK9MkhHnDMBodl8voYn4yRqlRF8qa57dTmdjeVbDFW3ps4cYue1VWQ5uAFR6hSDHtoZDfcI5kmYL23eIBeicIXmGD5+AXPOkAHoKskcUYmHiJOM89LE+Elz3MuRVGngWejTl6Eb9JzjMTm+s3pV/M5y3X0WO/veE6u+rKH1pWz2zSOxgUkSjE7fCRE+yjJ59rI6pa6L23TDxjJTXyjiFlm3XRKVYzrEXJonNU5ip8ZhjHKipLUACNkcORQbgfVMmoFQyx+zTZRlxwmJCOpRF0Fm3hHY9afvFWq+6JYmCpf29hzgeceK8LbB+0vwBIzbAo61MF2ZkcZhPO+oQ1zDxG59XoJRFY4ABFkEELoLkkiAaMqCsl58abSo8Ze9GuJdlU5V3rbdEt11hi1VIxdYRykz7JHqN/Mvbixu326IKl1twwxE6eOcMmDhtmEy/+I0sOH+dCC69VSUzLPEA+ueDOnR6HwQy0WBoIeUANYIcGhieHQD8sFiwMBHlorAHkAJr+/u//3hvhX/7lX+5ujEEB4CpmhNW1117rM0oTH0EaQSGQTiVggniejXsAaQCgXwhoNTa12Gc+/1mbPAEAQ0cOYhVvAd8lQaz6KZSiUWs8j1LF64O7mRgRukf4Dq6x7//evdHeARBrbwOA8Am9FgC9EdG1SdB8qtRtdUphVG3apo1otDEt1VYvIJQWC3qLUbZQVPgawXKIe0BPt67t0OuXrG+3Ndt7bHNbt3WwzEYCrx5KXHfJgnNZcAAtj6+KAFDVPgGQPoarDm4Z6cTitQDMT3/60y6YqQPq+TVKT0yNR8bXEtLPF+e/aL8UMGaEEN2drHEFwTfwD12XKAK8j/AAgJjA6uPmHmeHH3aYDR0y3FJp+CBSzpTVI489YldeeaV9/St/bMccM9fTKcb0TilpAFDURSChr/KC8H7RhuEz8hyMAGaeJoiZ3wS4Mskm3wd/wzeBN9nTbuAzuvPgM+4FHMFngb/3h9f6kwMgbQjzCABFI0vx1O0GQK8AgGTAhOHr+yDKyXUX3y+BAIRPq82ky0WBoLxlBXaqVV5j6xM2eXCTjRhWa43iTYBQkHLwQSCmk4EPcspem5TUmi3ttmTDNtvek7BdxpI9Vdap9uHf4Nrq9YkS+u8GgCq70tjTZiqBM78xMPHEY5gi08LISrruwyzWdOUDypvq6iMjhDZGevCeyqtcKFkmmbZX5j9vn7/8M9YmPUgXJd7/bCLNol524pTZdulJ51t9bzTvDktd2KRGm3XJKQJUkqkCVcQLoindE49bWIICHkIOAzsGhGB1JQpALzLkUTyZyids3WMv26vzFlt1t9qfQJG3be53PoAr3wNA+6D9A0C9Uq7OhHRf1I+2ied/zrIjp3kLBQDl1EyT+jQHQGIKYiQGiiiyooSyK3cpmQRoSL96WRA1v92W3/tba5//pETLRiPLXYV6W9jaYw++vNjdxkcItBw+fIRVF3qsqqbORn/4K9ZZM8zWrlknwb7WlkhIr1i5wtfb4l3EWGBRAHKY3IuRNoADlEEQ9BDlwTF7zvNsEOooif/4j//w33QtYQ1zjALAQ4TyAhzhQeI50um/VRKKhefDO6GOtg4PeL39jtts8qTJdvknLrcRw0eqoeOCVyNHoFNu2m1+dbMvk4CwwMWM1wehENJkz9b/vXujAQVA2tyhLx5iCYKsjrNFJqwrW3Nd1hrraq26yrRJ+Ceof71fgqgjX7IdPb22o7NkW3qK1lbKWGcvSyGkHaQQzOpv1z8EHsLhQOjNACDsBLGnlyF1ClDBGwRYYUJNpliAD1Q8eg6AIh4mX3rmVdXPdddfZ68sXOij/s4793yrqs54+hBpwjsIuAAi4AlmAl+0cJE98+STtnrNWktnUnb0scfanNlzbIqAUTolq1XCki6qH//ov+zjH/u4vV/pA4w9cTxBjHQS9VJhnrOIf4nH4DmsbRQLMwEzugdvIaAnKCg2eCjwcSCUFKPbGJpPd8bll1/uYI3nAr+9WUINsg0UAOJbUSrUrLMLFcgLxGhplUdMQIiFUJk2gcWVs5InWRlXzam4DWnMWn1twhf21k+1OX2z6rNLMnS7+LK1rcvaxJudKpt8nLnQxU0xtRDqTmVFXBGxG29ElNB/NwAUZFzgq3AM3wfid+C3cE+IoQMI4aVkY2kg3WA14texY8baxGlTbezECTZK+qClsdl68wV7QDL0f/7VX9mWjnaxgYCtXqPTkvksjZKyD80+xU6ZfJg1xqssJx3QNHe8jTnjSLVd8bwDIMku5YkuqgCAAB1w5YACIIkegDprXlLXqZyM2/Wt9vwv77Uaoe5kkfACvU9l4Ztz93sAaB+0fwAozASN/ZoaMk0A6JOWbBmvWhYskQBA+dEF9nYAIGZsUKpe6b5OipjSqzbOBGi7bO3j99uGxx8Q37VZm6yHl1dutpcWLLeJQv8zp02wrBRoT7HLutrVQASMNlaPs1c7JKi6u6y6JmuzZhxis2bP2j2jMv3SwbsDUWVBWIfGBrFnQxFxP/fRSMP9NL7/9b/+lysMurlIj64nhjIzWozRVkGpBQrP9lcOlQqGY79HrSEvAb1y6TKleZ2v5P2Jyy63I6SkwuiJ7q4uH3bPqCCsIUZ34cXincEjEd4JhW97IxpIAOQNmgPtfUV4CRAfdeMjcqSctccSj/IVCXmVuvLcq2/HIktKAKWsIJ7IS5Ox+n9CQCnt3UpwSa8VyccBtro3A4AY0o/+rCRAAF4TQC/8BR8QC0acV1kZy8OvL833Lq8aMeqnP/s555e0vomuKDwx1A8EnwXwEECQ8wJ8kM8L5L5qy5YvszvvvtM9fIObB9mZp59uh8w5zBrqGu35F561H/3gh/bFL3/FjjrmaMk+tVHqnzJSOiiQlSuX22MC588qz7yX7i1mfWZkDjwFOe9pC7xD3QS+Cb/JF3llD0ijuxfwfdlll/lIMdIKPPdmaKABECmUEVWqu3hJQNk5jN8qFUaNCgihI/Jxxv7QpaE7BCirShFYxyMJr4UWzCguYtXgDXyxDMwoKB+qJTEhMgJpJhkiPqeDzrvu3oAoof+OACjwPBT4KFDgm9AGAs9VAiTu57evir9lq61ft9bmv/SyLXhlgdqcDKyaWh+UwpJEj9z3gG3ctNHyVKLam5CNlRNpgdmi1Yg5xsYa7ZMnnWczR04QwEjY6FNn25DjpqnmZZjLcCOnvD9NFvsAkPOV6mggARDdXvAOMUYkmyHieVevPfvjm6yqU7zIPEaUDe3RuYGcvQeA9kH7B4C8C8yDpjIWGz3NplzwGSvXjrAEPlwpnR4V79sNgKgqH+0hZUe3bq8UXbwsBn/5aXv5ztts8cZN9syCRVL6ZZs0epw1qHJz29db286NsniVRlXWMoOG2WFnfcrGzTrKxo8Zby2DmpV9MYesOg8OhXn6GhONK4CT0AA5FwQ8xDEUqjX8hkgDi+Q73/mOj4LBs0TQNJ4f4je4N6QXlBvpAkz6E+cr88L7fLZSMTpxH7ke4j0etltuvckGNTXZBz/yUef/G66/1toFgghIZQX7EGNEGoC28N7wvZX5fz0aSADkpIrFEVLUu5m2ABc0xcmMPRkBIAI/iZfZBQ9KUdF/TwSF3iA+jRQ4woZyK/SVTRT3EwlEApZdMB0AvRkAVC4DwPa8J5Ql+QEMA3yZ9fjcc861c886xzpkcd5y08325DNP2TnnnmvnnHmW1dTV+zNUHtVL3VI//fnL61/1Rb0RvM/oELVAPUWsWNlWr1tti15ZaE88+aR4cLPVKt3DDj3EWtvb7bFH59mll15m5517nm3bsc0WLnjZnn3hBVuyaJEDk4mTJ/vad3gn3WMlCnkIG/kI/Oh56MsfxDXOVeYVfmPdMrp96UImSBqgxz3hOwJV/ua4kmh1bAMFgKAw5QGiLCpFCDDbKz5mrUMvVX1HwnkagB6lrLaj/6ly5j2Dfx3Eix/pTmMxVYLymUC2jDxUOinJUnhaJaS09J37aCHk5b+rByjU/evxAnzFNc4Hvgw8CXHN+dKfj8At9YhxQNfxgpcX2P333Web1q2z7dt2+PxABC8DGAp4pFV/eIOqumI2oX6oXXb6BTZ28CibfN4x1jJzrAx/6hh+hA+Sby8AEpWLZRl50ezTpJ7p0Vd1xO2ln99p5dZuSzAhLbIOfsT7z4Hy9h4AekPafwBULqoItU9NPtzGn/Vx660dbikkgiRIHh+wPi0jEOGBNW8zAGKyKkYXxa3D1j87z77/N39t81aus65y2iP3a9NJGz+43ma21NiEpqzVp2RvaYu1DLOZH/681Yya7CCKZsE/5loIDSk0KrYgxN8sASxCerhi/+Iv/sIt7D/7sz/zwNVANNgDfQfu22hV4j4QJQWwZfMWu/qaX9gdd93p7z/v7HPtsk9+wgMFuScIlrfybQMJgLxOvYlGSxMwWobROBAclJIwZDgwjaY9CcCAz2R16wQzg2do7H43jBER1jbgZCDozQAggmD7CxSEOfxEWRPbQIDwz3/yc8sVctajdjd8xAj7469+za1RsoxXBkjndSpDgli2fRGCkTIBMZEfCh1PA+sRFbpz1i6gxaSa9997jy1eutS2iUdoo4fPOcI2bN7ooOf4uXPtfSecbIOHDbFqvDMq66BMAr9AfAME2Nxf/gmKiI0Yu5/97GcOBJlkk1E/ld4g7uGYPRT4NdBAAyBSYCZ5lk7Rm7S99pty+kmPO19do3IGfHNPuI/nyQ0TMDro1q+Y2gOeoYLKj9mG8QQBkjhXJbkQ+YOA7Ulj6PsbEVf/uwGgASeVObjE64o66uPbzo5O+7d//a7d9Nvf+HHGu5DMulXfTJ2AoyWte1Fp9fGsHTJkvH3y/R+wwz5yujVNG+3gR9UgplXtq+0n/YQekqB4W2KAxPjwWI+UIDKiuqA22N5ri66/37o3tlqmoLN8m+TAuxUAvbNvG2Byi1oNjXWP3NKJ+EgkwKD/na/QWrvPDwwxmJAk4YGov16kEzBBTJKlV8h9x8ZtluxMW6IgoRfL28jhNTZzZI0NrS1bc70EREuDZbO1VsXcIIzWkJUMk7g+LSNS2UfgBzpQcBAIxQcIYiNQD4WBNU1QKNcg3vFW3gOzpyUYd5O+aZkU3NpVa232IYfalEmTbc36tR7DAQXPUvjGdwPx9dHW62CGyROr1FDZkgI4YYZfqr1Wkqiu1KOtaFmVISAIYi4XXzZAoDsvAIEyercQPBWABHu6IYeNHGarlq20tl27bNaMWTZ4yGBfEJYgdkpCVpL0GLy9f99BDBU1SnHQJviBd5BpFFg6ZdCgIXb0kUfbeRdcYBPGjBWIyVvL4MH22BOPeyApgfCnnXKajZs00Rqbmi2VTrt3MPBJJb8EHoKv95ePKtsVXlBGhhEPxEAA4uSI2QjAB6I7750ieI84HABJH3x8DQVxhnWPAmGDV1kHkVwycoyJDLsEVru1dUmhMMlA9BTgpSyZI36VEVlTZB7y6ErSa+w9emeIWozAbZC38BrTTJx9/jkOeqQMdC3UmupNrMBTTPzLyfZity1btcIWS34nBbL9Pvcqqx6lT4j/ChRJ93eAECuuQ3h/ZLSTJ2awfrfSwTsPENatdkTSJwYNtfqJ082yDZFFBB+oEiRzVSdwAuwxQJWg5GJFiSYlyXBhiLV7CgItMVniyViPlVu3WW1np5VLSevctt0ycR0nSvbCpo12z9LVdv/KLTZvxRpb1dVqW1LdlmgZaYOGjPX5XBDMcTE02UUII+CDIK60PN8s0dBQeCx5wZDgb3zjG758Ab/XrFnjo2eCFX2gIKiMC0vlwDDmFctX2Lf/5dv23LNP20c+fol96pOfsrPOPNtS+raf/PQqj0MhsJvAZ97Htx3oe3ntmvYeW7yTuIhk5AUUfxARkfDmT9B6ZPXu6w19Nap9X5mz8U197iPs2ihFBJIAkeoIa5/OA+4G/NCFgRDzUR7a4BXhhwEhvmpWS9pGNST7wJj/J9rTfeHwBuOAC33eq0DwFBtKncB3JsskNuev/+dfC5QcY/fef489cP8DNnLkaBsyeJC+EAND4EP5p1t2nwUIeZb4broO/EjPl6115y578pkn7YYbb7Affv97tnzlKh8Z841v/Jl97JKP+YSaL7z4gr08/yV78umn7J677rbujjZLVWWkHGqdPwPgCQAl8A6/95d3wz3sAU4MnWeUDiPDGNLPBIoALuLvmLOI+7xd6j39+ZRqZeMbXS7py1mnyasEj5fuX7W101a2C4iIB/dFpOx6hHS0If7gKRzhbLwMDyQKMa984G0q9PEZS7tEW6/KnvqPuNUd4EpI1eFeUJ4F2noeneAdIBBQipe8PnEVHny3zAN0MBLyEcOA8sdTQxc7cUAYorfddps99fTTlpMRTX17KerGwDkJPLIyLBviWRtTO8hOnHO0jZw1yWqHNMIarpMcDqmeVeP+TK8EBddISFLQj94y+cu0kZz4DW7zJVx6zDa/uMzKnXnXi2o4UfvU9Yiie92jrLO/73mADl4ApAbo8Raq8EJNgzVNmWW9VY2R8NBlV0vOOBS31xKPvnUiOaVPdDtChopluDt1zeRVKeuxzjWrrbh5nU0cWmXDhlXb9o52q2kcZLMnzbJjJk2zKfX1Ft+1zbrb223+oqX2yHOL7NHHnrF5T86Tkmi1rdu3eSNBMDPfSqD+wvfNEMGvjKDB3c8wYAI/sX6Jq2BUDHNYMHdKAEEHQr2yKnfs3GG33nG7/eKaX9jYUaPsis9fYYcdOseDbBnWPHnKJJsppbdk6VKfTAxQFlYhP9D3vhEAiixk8QjKB7bpe2ZvRF1CUSgpm9QHdRyPNAcCxYUK/xBcSp0YG9aAijb4oi8Rp+iFZCckfmBfuIfI1VsFQMT/EPty++23+wi8Sz92qQ0fOtQV/pGHH2Gr16yym267xYe+jxo9yifmdE+OEt6fOkJAc1ehULKOtl0eVH37nXfatddf6/MGNdQ12CUCxR+66CI78YSTfOK5bFXWRo8do3wMsYVLFtspJ55sTA73zDPP2YMPP+hddczSS/7DMHeI/LC9mbYRus0ANcGzRLqAcQwBppjAMAAMcRwWReW5txsARekBRAA25jPpskYYx8gzH01Z8Ue3CKNd6QXFA5lRHjJSpFWqO98wzJRfgmXJD/mKOuKibyBaJOJ1WorX8m56vdKE094DQAdOYVJbMZ2ViiyQ2m07WqNRjg88+KB1dXdbeycrCURyhTUMaevMO0c3Mt6/oYlqO+eoE238qPE2aPwwqxEAipYhUk04j3Aclf3bCYCoXkb58jOJ8Osq2fpnXrFkTgY3oSq67t1gu9/77gJAB28MkBpgsthj+USVdY2cYtPOudySw6Z5+SEMaJCAksi1S7OPnn3LJGFJ105RYAyri/wSHFvkkgRPKt9q6x6+zXY8fZ9lbafl4mlb01NlLy7ebKtWrLZZY8baUdOnWEN10nIq+q09eRt2ykds5c5Oe+nlV3z48TOyfqtl8Q6RUkIAI5QHDx5ixxxztIMFqgyhhsUQFAHkgo789VGloGZ4OiN/vv71r/vwYZ8DhTiDcswWLV5k//7v/25zj5trl1xyiWUzfbPBOnqn3GTB6w+xHqwKRKWLS+ceFEjMHnzoQbvm6qsF+obaBz70ITt8zuHePQmHcW9YJ4w85/I590AQiAvoYiFN8gXxfcHS53v4jsCmld8L8bV5scPD6zvslhU5lSnhf1JwZSZCVBoye/G+dIl3WBsHJRU8Mrwh8hDJkta3UadERGBRsxYTq2CzyhzLQlb15i2tV9dkkiqfrNVUp3yKA6xr6XnrUj3u6szZzp6C7k5ZKZW2br3I11Miz2rcqBmUFXmgJMg7G4oNAihFJfT69HoxQL1idl/gUt9FLBLv6tX7WXYFovyKxaIH/gKCGf7N4p944ahDBBIxWxBudmJ0mDeH2aABK3MOm6M7QvmTS+oDy057pR26xwiSZqTL8y88b488+ohPljikZbAdNme2zZ7DUPgpVi+gQRrMmO3ezj4iLXjy6Weetu9d+T374Ic+aBecf75t2LjR02F9MuLXAEAAeOb+4TsCf5C34KkJe85zDNDmONxbeX8g7qGMuIeRYjfddJPPNcQEkgBFYoMq25Tzpp7x5W3ER/sTA8TTXo6qn77S05N9fkpdxN7jN/ekxXPM6IsIpCs135sWuI9ZVryZgmOVfg2xgmXBfpV7czZhDVVpq00LCKlYfYRXIW/bxRuvdhasowdAlpYizZBbGWxRnUV54j1ML9InJ/Up6CSUL/mk9XtckRg+UxKP/4HGAAV+gTeo6yBjA89wLvBA4B34Zm8UQgsC74X7d+1qtVUrV9mSJUtt5YqVtnzlauvu7rDm5nrr6Oi0ZwX6O2X49lapdQt015eZ7S5unXqeWaCHltJ2wWEn2amHHGOxZJUNP36qjTp+pupPvJDsA9+Vxa6KLJZ0Xt8RxeIMAPEpaqt6oxWQP3p3Ji8uerXTnrnqdquR3R4Xn+7JDBvc/l4Q9D5ofwFQXA2RSeZS1tk02aacebE1TJ4ja0mtX5WBWAVhRqwa/RoY0rsl6IpialdsegddIQxVBBjFurbY0juutuLyx6U4O9UIEtYRr7dcst5Wbm61F194RXIxZ8fNPsxGDKm3uvomm/ThL1li5DidL1uuq2Bbtm+xnWokKKuVaig7drCQ6auylBu964LVjdmwnBkOzJwobMGLwhYaHI2QqdtReiwOed555/lX0Bg8v5K4uWLeQdC/fudf7bzzz7MLzjnPqrLVEb+qLH2WT4ECxCAzyqIoQ0Mq5Ys+d9ENv/qVLVm+zGcKZo6Z/vOyVBJ5CoqmtbXVV6FnfhZiP5gPCE/E3iikV0mIGGIfHlrTabev6BYASsrqRSCnfH4Tz7+y35NIWVWB5goVnSPYXHTrW4oSLDkphKJ4DFDI6MFa6zHVnI2ojdmYQVkbXp+xIbVKX0qNfm0fNiwTHB9Tj4RBh6y5Hd0lW7k1Z6t39FirrKCd4t/ueEpKJymFFQlYPFQpB0HRsyyiCS8l9Py+uspeDwAV9R68nr1lgTalhUIrqW7x4lBuTAT4m9/8xj0pjMBjDa+g0F0wUlYVRB0Rj0PdMG8QIICg5GbxIOnBW5Qmc/WU1B63694N69bbM889YwsWLXTPJUPWqVPijOCH0IVFGZA+6eztvfAG3krWg2PSRsAOz+GBIWiZlbvhF+Y1gleYuJPlXfBo4q0JPBIUWaWI41rY9kV4nABdgHRmVcdzylxcYQJF0mCJiliKbmqB230AoC7JKr4WvgNqRw0MQhXoOYk3RmgVxA9J8VNtb071XdQ1KT8W+dXzQKiqQpdVxXqsWfe3ZOM2clCNjW5J26CqhFXr3Vnli3mC6J7FY9Au3kB5bu4s2aptOVvTVrCtXQKqQu6pdEbZjALUS/oO4tb4CmKD0Em8v08QOAjrUZ3VqH7ykgN/iAAogBTqFl6EdzgOfMpxkK2Bt8J94XfgLSasZWOJFkZ6MZEtQH7nzh2+DEZ9TYONHTPBZfmoEcOtoanKDYBf/OJa8f5V1lUCRUhW+DxzUWB7XSFpZ0w9wj4w5yQblKx1D2N6+nCb/sHjHYT0AkYQNHoEbYmH0Ik0VF9KYmCIYpJeQIrlfRJTycSesrW+tMqW3fW4ZXP00Kh96DrtHP6J+Og9ALQP2n8AlJTl0ymB0VU9wkYf834bcfwZYoAaPRIF4tL/zdwt3IvHaGBI6WHyy1JilFCguIRCothj3VuX2bJbf27JHSvEuORTgEH5YTRRbyxjOzu6bfnqlbZo4XIbMWqkHXL0CXb8p/7UsqPGueLtlRL2xoQQFePk8wUpou3uGdq8eZPPXYIyQ5HRsFAACH28REzxz5w6KB4UBg0TAU5gJ/OdoPQ4Hxp0WYDAi0asiLfn+Reesx/88Id29pln2HkXfsCSYmo0sjs4KUb9MRcM6hXW7+rusltvvtnnEpoxc4adK8UahhKH94f3VRLnoSA0AHXMnEpXHAqO9cpOPfVUf5br4X6I35Xp0Q5zqud5azoEgHLih7RlBYDwwvSk1Pj0XXSVYrHysUxDny6jbuA0Pa/vdxFPmZSYP6lsVfkeq9ErRg+qtklDsja2pcoa9HiVzjEMlZggfGHKDIXimSAtGjZpsdr3Tlnbr+7K2dK1rbZmR6ftigsOx2qkZGoFKHPuXQLMSIxaTuXckUxZBvDCCKo3oNcDQAyJhi2hhAQhQ0WoKbwKAGnivpiRFg8fPELZU74I8tcDIhCgg24rwEh1JuOxXDOmz9Kzaned3fbiAiYnfMxeefkV78aaPecwmzFrpk2aPMnfx3sCv7HxvpD23niD+9nosqVL4B//8R/ts5/9rHtgAr/wPDxDO4BvuI9gfqZ2YGJERjUCVCrv5z38hkJe9kWhq4ygaAKkAV4YEABI8u5AkPxSfgKC+wJA1DFVw5Z2zwr3kyeOkCcRPybhT12iZFjDLifZwSCJrB6sEbfXFjts+vBGmzC01oY1Rh4f+BKeTushnwnEOVIEz+vb4Q3OsBTPlu6yrWsv2Cub2gTUO6xd8qknmdF7yTXeUKWnPKUFjGgrUT5ZxV750LdmZDABxv4QAVDgTfgDfuE39cxx4KfAw/AAFHiLc0uXLnUZDdiBJ5nAE/APb8KTTLkwQmBnyJBBMiYGWzaVVb0oPfFKErSiMl+xZKVd9olPS1fs5IoyRRtNWaKUtCmDxthlp5xrY6qGWNbHvPdaYUSNHf6xM623PiXw3Gu9YgawTppq43N0W6/LciT9wJFY2OVdCbnVq/bQWbRl9zxlu+avkHwTU/aKX3Q9iVcR17Tz+nsAaB+0vwBIlqSQJ4tYdparLDNqis360Oest2aoGnOVFzUDeH0YPF0vMMAAEUIvRkShKrWAa1pNPS0Jky532sZ5N9urz9xnqdxOMWGVM7TP2spyGMpHQd9SSmZt3c5ue+ylhba1o2Qf/pO/saNPO9tqZRGgsViGgKDqoKDohmIuFdzhQZhjJWNlY52zKB/WOmvSoBhQHgwzx5tCnM2FF17oXhksfrxGoVGzcBXl5I1Z74ATnnr2SfvOv37HLv/UJ+300053axf5R0PEU4KA7Onutpdeedmuve5a6+7qts997nO+7EFMjB4UDsQ7yCtbJZF32C58H8dhI78oa7pmUNYIDMiVje5l/1rlVbac0ntkAx6gaBh8SgAoJwHNtPAAoLTyg6Xky1FIYDAKBgXBhHCdPveQFIuspqwUS3Vvm02oituMccNs3LAaq1beq1QfdAWkEyp77b3qab5K34G1+ABeIy/MpFxWOdDI4Yu82G/55l327KrttjRfZbuSTWKJmARE3mqlMHhG9ry1pzJvCQChq1HEjEstSyHF9I2bt2yxG278lS+D8fGPf9xBBLEsgShv6oby7F9H8FGoP8rd14r7xdV2600324UfvNCB+YMPPmis+XX4nDl23vkXyIodaVWZtPhA71AVASCo46BMIPah/vq/E4I3wnmOATcAeCbMJGifa867ItIK7YFuN8D+nXfe6e2ArmPuB+xhJASPJPRa/nl94rtDOfAeABDdggA7umzxvjJCzXWM2vi+AFCnDKBykntE2iXFN9QGJcPwdKgsJZgtdav4YgImWT0feXWryzlrKbbbmOqCHTluiE0ZKpmn83wJAB8PFN6hUKIRdNNV3qMXMJKPH3gIAVk5KdQt4pXnNnbZCxvabGOP0qJ9CwyVtCeWLgPPS9Yycgwi6BodhXf0D7ULDJ6rJOoePkYOwgNc5zeeHTyQxNMBkBnUwehaPPF4IvF60kUL/4UYsojEs6or1D/zLmG4wCt0Hcekz4rdebv/9vvs//7//tYnxGzLdUpeSGZJz4zMNNvFZ37ApjSNUL3Qpa9UlN3umpJNPn+u1U0baxIx1pUoWFalX4XnHnZTFeTFh+IC9+wNBJEsk8GwbBPfklR+cut32JJbHrbE1h5LCM0jBwriMZqdpJKeYHsPAO2D9g8AlbGmqFk16JyUWik7yCafc4lVTz1Wln+998vTcAcaACHs2BJKF+VaFGP1qJGn8R60rbMFN/6XFV9d7MGBRaHilPKeMTGEnuqV5UTcUC5eZV3xWmuTQFy8Zou91Jmy5nHT7DMI1THjjUUh+TSI2IpCQe+SsKGqghAPxDk2GiSNEQ8KVjHdXqwfhuBnuDsBnsz8y4SHuPNxuzbXNVomk7VEWopOf65M9PfMM0/bj378Q7v44o/ZqaecojyIWYl50vVNr26239KVMv9FO+G4490abmkepIYgEZiOAkorFczelCsALQgErvMMFPYEn7JkAxYUniAUGfnn2383vZIAUK/NEwC6tQ8A4QGhTnDTZ5UvgkIBQN0CQMyvQjwPDbIQT1mb6g9Q1yj+arZdNq0pYceOHWRD67K+7hcWVlqIh/j7eG80h46au/MkSotnAUWCZzpi62tOyqL/Kuu9un9dZ8nuW9Fqy9sT1s7MYUqnKk4KUrLiVKa095XdI+z4uvR6AKgka9DXkON5tYlHHnzAbr39dmuWMAb8IJApt7AFXuJ72PevI86HjTXpWHj3CYHtBx56yHKdXdaTy9tnP/0ZB9lDxVcobMoEs7Dc52r3suqrX97HO/rz7+u9F14EPKFsAPgADwAx/ADv8Bz3kR5ph/cA1ABAWOIoJdoE1jfxZXSTAYxoE/3fuzcK+Q7pQ4yYpFsw8OYFMi5SUnoYOfvuAquSdc57uU+b/glTv4bgh2rJC9TKrmS1sYAq6381lzrsiOaEzZ3U4F1dHguEN5ZyJY96DlCvEvZ68KB8jrmid9CxRbcb0IYXl5BKMgBkptm6tqI9s2ynrW3LW4dkEl1deKxLaj8pfUNaipSUGGqvV4kHi2pff5gAqLLO4REAMIYmMWFM3wFvsQ4dBie8h1xCnjKYBA88vMbvykEd7AN/xt24xVrROcmGpFCOOF61VLJOgfgH777fbvnFjVYfq7ERo4fbb+69w3pkbNTJaP7wsafYsRMPE1ZQJQjAyrTwuXZ60mVrOGS0jT79aCs0SZYkIjDM1BxeYaqCtwMA9UjOwHmZUtKSObNNTy60DU+8ZNkODE+8P+JmfS/FEHEBsvE9ALQP2j8AFC2FwXnZKlJ4WPOpcXNswjmftnL9cDXQaDRQWgI0xnMDCICowJQsgYSssl4p3KKYO1XIWeuCh23NPb+0quJO1bCEiBgcZdxb6HEBBLOX8AYlstYN+k9WWSldZ0Pef6nd/cR8u+Oeu+wD53/Izr/gPKtrjGIZogU0JWTon1djxBJBKXAtOh8BCY6DQkPwf/vb3/a5TU488UTvfwYQMQs0FjVdB26Zq+qPOuZYmzZ1qqzZcTZnNsHRKR999tjjj9mV3/++femKK+zEk94nhddt99x7r/3mt7/xQNbPf/qzUnzDxeKRoKCB820ckwf2UFB45A8KeQxKJdzLVsmKnGcFcwK3oU984hMO2sg3FBQS96kW7LH1XXbzsm7rSdRaqZyXKBb81bsypZwUiECSBEYvPNEHgGiMBZ3rkpAngLSp3G6HDEnYKZNabJjKNKNsxyXYmZPJVybndWgSZRG7nQB7B+D+v8QB36e8RKIhIqy6uBQYXWLEIL3a02tPLN9lL23qEACusy5Zf6SGDwGFiXrqUxuvSwCgjwCARlW5YkrKaiRwliBoyVTbvHGz3XD9Nfaiyu6Sj19qp552auTFE1WWc9igUEehzqgrADUAmkB16gGeIKgdpT9SgOfOe++xm278jZ1x1hn24Ys+bA2NTc7rfA82NCCedCrfGeqO41DvoR4DhWcChXzS5Uug/kUXXeTeTPIcrgXiXHiW8yguYsyY5BBvFaCFoGliiugqY0HYymHuPEN+2FeeI13aXMgr5/A20S04ePBQ++RnPmNTJ0+0pNc/sTJq9xhduwHQZrt7Y1KGT1ayQmWjSzHxEvVFkUlM7a519kkB7pJ4I095if9aSl12wrgaO3Z0nTUL9VKbeL6Z7TnGO3WPmN2fVwlqi/iVUbMlFszkp36zojy8DpDnHklHbaonXdskEPTQ6u320vYeAaOstozOU18qE91PFxu/XPaphn8fEyFSH9RBkCUcc67yuJJ3Kq9D4Vnu4RgKdQxxDRkLaAbo4tEhZodZmnkGAxKQQ7gBC1EDdCrBdJBt/K7MB+kGnqKr3UdNSYcxWislvQVvLVg03378gx9aViDgwpPPtp5N7T6q+Nqbf20r1q6xEw47yi466lSr7Vb5Sz71uJwRCMoLZqTK1lkbsynnnWTV04Zbd1K1qtdnJOv8K93oJj8x9xq+Fdpdnio/ABADJqpYe2pn3hbf+qgV1u60qpy+S9zSTVA9fComj0qbcn4PAO2D3gQAYkXckgRCXChd1m+hboyNP+3DVjvzWIGLamc8j9fQczEx2kAQTS+vd8WKeXcRU6mMgCru3Ggr773RiquetSoBI32F98dGUkANAn+mqhyXp2x9PU+D0JXqOht78dfNhk2yxx9/0m6/5XZhtbhd+MEPenAnAprnExKkpb5V1HHDQqFBcy5UI+AHwYyQx/IPACkwLpYLyg1LZpEa946dO6XoXlbDz1lVOiPDImmHHXKoNTc129oN623x4sVu5a9bs9p27mi1M84+U4DoJMukq8SrsimVblIAgREnMC+eIi93XasUPpVsRn4rBcTrEd9JnBPdYgS9InjwBtGXvlvYoJzEH4+u77Sbl3a4dw3RThdYt/gkq3KL41pWueOl8JggNUI4CSuZLoF0uduOHF5rR49vsFHVcVngQBys6T15jo483F3HUd7530tX/IA8QqEJ8zpxf7jXV8GXIKDhb+/utQeWSNFsLVhrotEVWUIKrk6WOWs7sUDlG5EDoMk1dvSorMVLjEzjTTHVaZc988wLduONv7IRwwfbJy69xEaOjrpoIMqfMqNuKHvKjnPUBcdsAGWsXAADe+7Dsj3qqKN83ySQ45OuEdyodve87rvltputoHr68Ec/YofMnGmZqqynS1Bt4Mvwnv2p870ReYMXAPF4gpixGSAGKIPgNd7Bvv87eBYgxHdjxdONtWjRIv9WFBoxa6yBxzELpAYivUqqVJiBtzEofvnL62zp0hV22mkn2eknn2DNzUNVhyhYbVIAHQCgxVvsng1SGFJ4dBPTZlKSX3nv1la+9SriVsk5LaZXbQhMUyW+revttGPH1NncsXU2NEHwvhReXM8CTvStzqP6h4eZY8egET5wgh8L4jFkj9+ol/j7+u7jnXiOGEG0oiduDy7bbisEgjrKVdaTqvF6JL6JBb/hdZL+fQEgeID6fSM+ot6oG3g9yMlKPoR4HhmIt5AYHbqwiNlhD/jhPjw7eM4BzHhP6fbkN4An8ELYvxEFYzXIKy92lSc1F5dA2LR+o/32lpvspcUv2clzj7ezTz3bkltztvDuJ2Q4F+z+J+fZ9vY2O/fk021Ib8ZqBDZIA6yAlGK0akLypSPTazVTR9ukc48xqxOwddCh90goFQFcej90oAAolGvgfw/LkOyMlfQlPZJr81fZivuftWoWQZUxhmezKIaJwE7Efc5/7wGgfdH+AyDrTUkJSHELASOEsaqTI2fY5HM+bOmmkap+CQlVfDwpJYAVPwCEAGDz8K6CVBaSqpiz9Y/cYa+++LBV53dYSucQcrFUXndJmLnoYFN+JASBQkkBKBdmAkAjPv4XlhgxVUwWs5072+ze++/1gOA5c+bYH//x113QeyCZqFfWWGjQNHCOISwXlNbf/M3feBAxwZpY/twXBDZ7GiPKwIWE/pi7Z/vO7VbU84uXLfVV2lcsWWq33XmH0i95dxUzAldXZ+2C8863Sy/9uI0ZM9YFWyR+UfH6HzcEn0e6fYo2aih7lFJoRJXn3ohIg29EiCCcrrnmGrfi8QYR0B1R3AoCbY+s6bA7l3VJ2KctVuhQ4xNwTGX9WcRObzprKX0jQoERV1jdDJev6e2yCfVJO2P2MBucBfyExrqHyOneGgnnqVUoatqvvY9jGrs+3LsSEnopIznWdMXs9le22+J2lVO6zsr5Lu/2kCrR9ZDi3gkA9OFJAkAj0r7oZSrBvD5b7aqrfmbPvfCCfeGKP7IjjzjcmhvqrICC7SvrIIApT36zUQ+UD54eJmAj2BnATdkCNhH8KILAR72FKFasKKXoilZluLN1u9197z32q9/82k4/5RT7/BVftIR4lXmsSJ865N2BFw6E4G34nD15/Kd/+ifx4aXO43wTxDug/u/g/RDfyzewBcVHVzGjzfh+vEGsTccoRmI4uD/wMs9A4V1cC5RXeT7/3Hz70Y+/b8OaGu2LX/maDR0zRi1L5asa3SUE8uDSLfbIxpRAuc4I1ND1QfdS3sEFMkoJKWmUBs2IOatQcw1FvJIZO2tasw3RxWhZF90Qq7I8fbJ7suHElyNt4HGPUCW7nmVewBXxqG4CFElv9Z1lsghGmgmslattVXvJHpy/ydZ09Fpnul46KfIshvwBp6VSfy8ACAr1WUlBpgSivvgd6tB5V3uAMHWOR5NAZbqykG9MgskGyB+juqP+AcO0hSBfA39B5CG0n30R7Yv7Au95dZCkDubd/5D9+IdX2aQZk+1DF19kk8dPsawMt/ZXNtiSO56QJEjYwhXLPJ5zUL3Al4RJvIhWU60pO5FeUd74tnjR8nUJG3fCHBt82EQhHeVN9xQlczCcWZOLfGC0HgjxzZQh3+1lwofkxVGSMZ1rt9krd82zxI6CpcVg/O2dnAPFK2TtPQD0OrR/AIgYoHKvmi6xNzqHTCIepzOWtaaJh9qEMz9osdrB4pisrC44zpvjWyYUPq5JVljGgRzPtdmu+Y/bmkdvt2SXwI9HyKJ4dKckRlTlVCp5Vx4k4ah6RhwhkmLZOht1yZ9aasz0yJNdjgTu6jWr7brrr3NX7AUXXGgnn/w+Ncra3Y0vNCiOOffiiy/alVdeaWeccYYPWQY0BYEdhHioahqCCwYCtMmTW4hkTcpK37V9x06757677dZbbrHhI0ZaiwT77XfcrWcKHu/T1tnu3WaHzjrUBg0abFOnT7VaKcqhw4Z6ECDpB+EQ8gCR18ptX4TC476Qf36zwCrDubHYL7jgAps+a5aVUxl7bG273beq2+9Z9PyTNnbiVEs1SpElMmKhhMBx2jIEouuvS+eUsBRMl41Pd9hZM4fYhAYJO9UbyzXQvdWfXfb83PM9kZKLrkT1vHeiDAA/zNtCAH1XosoW7yza3a9ssY05hh5HAIO3kOIbEQDoQ5Or7bjRWcvLin36iXl24/U32Nhx4+2yyz9lI0cO9xnFi4Vu5S8jEB6BEIiyJC9YuQBJlAF8g0BjRmaCNgk+D4I/8MtuPvJuFglUnWdpi8jKFC9J2S5Zuth+9vOfWXt7h3304o96WvAAdYcSwBMZeOLNUsh/yAfdcnSNAtTg9eDl5F39+Sq0l/BsuM4eMMh5vKJ4GPEO4dWhawOvEAGsBOEHq7+Sp0mXMvK4K9Va284d9qvrr7bHHnnSPnDJxXbSCSfYoJZGa1P5PLR0q921Tu1PWSj3dFq8SumRZyk7vMl4ImEjB0D+hrJlyzmbWlu09x8yzMZmWb6CrljyrnvFo8xV1Z+i2opILUZJKjUUkl+I7uewIHEIqInOBNguY6Og/Ai8LtjYYw8u2mKvljMCOVXGzOYk9fsGQNQX9VZZn6FO4FXqBF7Du0MsJEYT3f3IUDx+dIcyCARvDp4dvH9higZ4Bz4inbCFd4V2EIh7Ia7ti/qnR/4WLV9sV//sGuvY1mof/tBFdsxJx1uylkWh4zLSEtb24npbcecTvpioTroXRwn48z4jkE4zl1gxVfKRgwm60vSuQqJo5YaMTT7jWMtOHmaFtMpEQJllohilDL/uT573RqENUt6eBsWfky7c0m7LH3rWdq3ZaplOIJne4bwZ8VS0p7yoJ47fA0D7oP0DQL4YqswYXLeYMwQhslpuXszSnczaiKPOsGFHnWyxmsF9HiB/VIS/Yg/tPu0nwxXe+ZpfFaT8FdXg9S5GFLWtXGAb7r/BstuXWznXrXcxH6qUHcWqfO9JJXJRozSIR1JT9oRL1Y02+cPfsMyoSS4gPXTbhWrJh5k/+uhjdtNNt8gqabbPfe7TPvKEBsgWhDsN/G//9m99+C8xErW1tS4gQqODOOZ+9lj0fr2oMsOSFAUGRzHecN21tmHTJrvwgx+w9x1/kiz6pN177932/R/8p33y8sstIUGxSxb0/QIjG9dtsEw2Y9UCPmMlTBAwKA9iLFCkALGQX97Ne/e3IYb8hu/gNw0QYcZMvSit959xpp129nm2uEOKZnm7BEzOfv2T71uqocnO/eAl4g81yeoG21aKW3WioPfHbGe8WsAobiPLnXbKyLSdNK7WGogL0jvKNGBJE5ZxqCRy6zlW3Xjjd6UgTUJnO0Q1c1557TvQFlFB53BYlrAG9e1M1tgqofXk6nZ7bPUO5QfVkfGh0e5RfANKW94umpi1KTIHf/qD78uSXWCXXfYxmzv3JKvK1qqcJSRVpb2y+ogLgd9QHGx4T+hGIq4BHgjzSREYjNKnXqBQT9RZqCf2PnEmpcCnaaMu4FMTkOaLd7XtsnvuvNPuvv8+O+bYY7wLFg8SxL1BWb1ZIi+B1wM/MLLte9/7nnuCAP0h/f7vCM+F7yAttnCOY9LjOWZDxytAG6CcUKAEtZ500km+Gj2KM/BuaC9Y1gzcSyZkhbe12ysLF9t//vSn1lzfYFf80WetedxEe3TFdrt3rd4hEPzk4/OsWtdmHjJb79WzjLpSOug4RAO5J06nvtxhp09tsTkjq60xQRCy2q9/QgS6E6rP3cR56lxA3+VKP8LbqZLQRh50qzZ9Mg/wARjx/nJGk/UooW36PW9Zmz27qcunb2BUGBVMj34EgAoRAFKZOQDyebcSVi8uvvAdiAEKhhEEX4fAd8A8we8AWjx81B0gB88OdYfRRDcW8pF0ggyt5Hs2fof65TfE/eGdlef2ReSP+3hm165d9utf/1py8wE78YST7fz3n2mjRo7x2EkCl/HWVgGAXlhv6+5+1mICQIl8yTJxJmc162Fce4GFculmAgAVrRMcrazWsCA39RDLW3J8i40/6XBLTxzm6cI7LKyK6Y1B9BqKPqUfhZNqb9En7yZ4FGLuL9tVsFUCP1uWrLN4h3hWuq+XqVW8nLgx8Oh7AOhN0P4DoIKYFKvIxbKEM65BNRHr0bXuqgYbfdhxNmLOcRarH6ESh0F0r4QE/aG63Uf2eNWoCBjhxDBzhiZyluh1LB+Yi/ZPH72ah65JCfd2KV8F27ZiiS1/9G7LbFtudbkdEoL0t+IXyuhmMQKIxp/RJuZEADJNPt1xxHvAXL3Vg23qRX9sVaOnKE/cHzVGFCsNnkdpzD/96c9s4cIFLuzPOvNMaxTQ4DrK7J//+Z/ttNNOs49++KPugYEBqVYX1CorQM7u3+5mgs8AJBL+lJ3Ob9y80R649z67V8pr+owZ9oU/usLqGupVmvipJBTUOH/xi5/bnffcY3/x539h06dOd0GB9U8eHn9snm3dsd2PEUDE7iBssNJx4RI0yCzWHIcuhiBAghJCIIXfEIKOc0FYYT2F57ifWI7/+H9XSipX24Tjz7Rc1QjraNth133v29YpZXTM6efZ7LM+ZFvjtZZP10lIdDCHpXXGqq02VrBpqW47/4jBNrw6ZdVFZtZVPlTZrDweSe9K6qtHFZ+Tt/G9ACAYhnvQOn2XGJHIHzxU0k0lNXLqf3tnyW5+WtZeqcbWJOqk9KRMdEdRzElJVPEf4EU8wzweWPKJnh02ZNvLtvTBW23G5PH22c98wga3DPX0XZCrSOl+Khai+KmVq1Z6ADGxYZQfc0Sx4jmjorz+9M2UKcQ+/K48DrzDN1JjDoRUHxHsobWoPemPrh3mk1q8VCDgBz/w40suvtiOOubovndF6TCdAon5031lxHmUDnUb+CJQADHko5Loyvjud7/rnkA2ADf3sAUeYc93sMFDld/bnyrfy314ygBCjELDk4B3jG5pvGV0lfC+iFCOsr5V71jbW3e02tVX/9KeEEg7+yOXWGrYRFsugJ7LF+zWG39pazdutgs//ilrGDfNumMYTGqPyAaVa1xyqqHYaVPry3bmIUNtZLXqNZe3sowOYnkoM0BIkrYQvToivknXVVK7WTFQxLLwlJS9jvwRTnITXXB61v1AJRkBqqcO3bGxs9duema1bSlmrSNRrbJkEkYm8CxZOp6zLj0DaM/qo1FkjLisi+XsghnNdlQFAOIVod5CufObY8o71Hk4xwZogOCZACC4j6kOABEYQMTsEJwMSGVD7hEbSFcWsgY+B+iEdwciPW8nIq7BE+yp70CcCzxXyROcCxR4KaTBcbg3nOd5jul6o/2FWe8v+8THbPbhR8jYIYZHvKn7csnI2MsIBHS+ssFW3PS4ZfLKJzxFmiq6Aq4f2rnOMMtyGdCti8ymDlCCARPJmORb0RKjmmzq+9XuRjSKdyQ//UmIfPGMvtuRr86T+GtIaQnplCV36DKlNlQSAl1qu3nqVby8s93WPLHAdi5Y5UPeqwTkewXYCNXQZ4gCF7Lxdr6Cc+8BoH3Q/gMgiQUVo2yPvrKmIhm5wORh+VjGetMZGz5hmrUcf65lmkaqDtJScFIxavTEgbgbv6wGoYqOmCDitpJAkONmvS6G0NaVOA0CZtNbezu32PZFL9raZx62VMd2S/XskgDDKkH44oxkECKNLGrIAAhxj//u9W4EWZF6B/VtVcwE/SfuAYLNnNkAXzQ+qgaUpH1XR6e9/MrLdtPNN3nk/UUf/LDVNtbZj374I5s2bYpdfvmnfIkGz6s3RI72UF7CjYZKVlTpSlKCMrmnW4kYEKx1uhQYKo9wDw06sAgWclge4Ktf/aorgiAUuIe0GDLNDLp4pehOoK+dIdTcF1zQdCvgcWDxSfZYZ8yVgbDgvtClgQAhXfac5xgBEgQL206led8j8+yH191smZYxVqs6f/L2G9UgpSBqW+yky79stbPfZ9vL1VadyFte1hTOkVG2084YXW2HTBokoKEGLCCXspyKOxKOeOJeS1EZ/C69tpz33EZBO0f5lsBLKRZAaCHIuK1YStmjC3fYw5u7bXGmUQApZtV6KE6AvUArM4YnXRJ4NKgAANr2SURBVFopqVyPdbVusxceussmxLbZJ88/zU6ce6w1N9ZbQYo1JcHBrMTbt+2wZSuX2UMPPSKlvcGFHcO/Ud506VDHwSsXypTjSkH/VqkkYdymernrnrvsvvvvtyOOONwuuPADNmLIcCq1D5SrbpW3WB/Q5/3Ua9j2RSgyKMwYzVxXzHPEt/FNpEe6QdkdCPE8adGlAi8TKwTAR/lSjvA/cUN4GmgvNC89IhI4UJ0899ICu/r6m239jg5L19XbaPH93Tf/2lplIIyccaidfNnXrbNmiCz5tHhDil6fzcjREQLqp01tsiNGVAtUqKz41mTaevoAkEsYABBVJuW3h/aUm2ejHwGNXlOyzqtUQsSjRX0rp5ANMujt/pc32Etbi7Yj2WIdZZbh6BWw6REAy+kvHnUru3wsCRAlrUHA6AMzGu2oIQAgZIxSfZ36pGxDWw/1H85T5iFOC7CDRw7PDgAIGcR8ZszthDccowr5gWEVeHsgefn1CFlH3uFDvi98C/vwfr4DOQjwIT7zTBmueOlbWhp88IPgiusuAsx79R+GTrKQsNaX19rqW+dZpoeafuNvcTmizVkhqtDoXErlP7jKRh8905qmj/ZlNTDw0Xm6UYYwQKZPvuoEXsWIohQxT9BBLA+k1uT5TDExtTBybuN2W/P0S9a+cquDNJ4krb0T6b027fcA0BvSmwFAFKSgioQH0ehQrwRCURWHxexjJhIS9kMm2ZgjjrKWCTMslqrWs1UOcFjMQCyhCtH/qmiGgyI4KBA6oXibz/dDtLuUUUxKtWfbZtv09GO2bdkiS+c6LFNqd/BT1j2AHMYX9YLsBXAAMDCcrxrPbGS8yQNMUq7sCGQDAE0WAErvBQDF1JiCoiJ4Gm9XW1ebN6i77rzLvS90N339a1+3KjV8uiIYZQJC78+QWOt8U7jGEgnrNqzzOU2wTlgmAyuaRhyUEMIoEGxCXhBMjMQhXuIv/uIvds/87A1J+6B4uDd4bMg/XiEsdqw1XNXM9QNQIj1GGWG5AYzoOkPAIdTCt7MPxHvCO/y92vI6/r/f+lf7z59dY9lktSXzPSpupihQ8Y6eYsd/4stWHnu49Yg3culqWSx5mxHfaZ84fJgNq48aMHzEGC/qjzI6cLX5WkKxsBE/EQGgsgAQtaw6EQBa2dpjv52/zRYk6qwrkbVsrmANyjvKI5fMRt9Q2GnbFjxhLz9yt41prrdvXvFJO/GI2UpMeY5LQe9qt+Url9jjjz1lLzz3gnik3ebOPUEAc64dcsgs7+6izEI9AQooP8qWc5Qv+4GiIrM/ogD1t2bVCvvuf1zpbeBTl15mh8yZIz6O3pdQe44mgIt4JOQxKJA3IhQP38KeWKZvf/vb9rGPfWx3YDTfFPhmf9LbGwXlFng7lBmeIYwAuuHoMps2bZrHPOF1YIbflH9X3HpKCdve1m7/9v+usutuvtmyAnvF1s2SX10OxI+/+As2/uQP2BbVPXNS4WHJSJZMSBfsg0eOtiFp1qPLi5dVkpJPhbiMOuWLr0kV+wCQnhsoIrbLuzPdgIzZi1s67O4F22xTusnaJStVElbVSxh/NHdVt5R4tWSvuAnxZA2lLjtvWosdOzRt1eRZnA+vUWaBKMtQnlyjjAETyAImFmStN0aeBs8OxNBzvDrIB0AngJM6DfUa5AQUeOjtJngB4r28n/fyXcg8vgvQzNQLyGpkG5PFAta4BhAp634HQEojId1fFgAiruvNAiAIaYJ2Ia1wN/I+V6X2UR2zIdPH2ahDplhqSJ0bvRjqTAmCvmOEKjFo/EVESoAjhz3cYEmMNwKeu3utddEa2/jMQsvvaJO6Q1bij9xfIu33ANA+6M0CIG1YIQEAUcgIGgGMMn3iagw5CQ7L1NmgUeOtcdw0qxs7ydJNg3V3UowYMRnNp+wz+0bp0MhZZNAKAj75dmvbvMF2rFxkW1YssdSObbJ8ZJ0jaHEngN6l2IpSRsqJP08KKTFIXFx2oABILco9UAS1cqGgd8GoS5Yvsm/94z9aOlPljMosvHRr1GRr3K1JzE5/IQCil/iW0i3bzu077aZbbrKnn3vGvT0sikm3FFZsABbhediDc0GpQFhhACeCUb/5zW+6YApCLbAT+0phFAQDvwE9pIeAAwgBjgBhdNlwzMgM8oW3iKkASB8LL8Q/kQZpByFE+V77y1/aP/zfv7euHn1jSpag6ieTzIkPklY361g75tKvWXvTJNuVqbGsANJJzQX7xCGNVhuTkqPN9RUX8wfxldEA67dO8BXb7wAgFVOsmLSdOnf7om32xPai80pNIuXddATZx0o5a9200V549lHr3PGqHTf7UJszbaK9b8ZIAbeELXjxJYHKZ23d6tWWrorZjJmH2pGHHWnjJk2w6up6KWLKH5beUy+V5RbqM9TRQBEAiK5W5jiB69o72u2BBx6wO2693Q47fLZdeP4HbOToUbu9P+QN3gi0P/lBcYZvQQkByP/rv/7LrWxGQQYvYuCXA6FQToF3IdLifWxcp2uM2CrA/aubNlltTdYB/fRZ4tuJEy2WrbaX5i+y/+9v/q8tX/iy1ZW7LavGXFL+i40jbPaFn7HhJ37YdiTrjIlSB8Xb7NghWTt1ZovVquyyGF7alwXeAUCBiLsBqNOdPmAEW6rekGI9MiA3Sfb85oUNtrAjZV3Jmr6bGInGaMVq8XXM6tRiqkp5Ab6SNQu4X3DIYDtiaMZni6Z8qKNKou3TzgGOdGHhIeY33USUMaPxiNlhj3FFu+d8MMxCekG+wAdBrgQe5/hA63x/KdQ//BX4hD28Aj9ce+21ni8miiV+jPsCv8JKgMwBBUD6XLw04W66nzHHCzqZiwtoDGmyhknDrXHSCKseNMhiVQmXm3SPEZZBrfMEGpQlN5BVkh6SQeKFrbusa902e3XBcsttabV0l75BQoq14+hR2X+ift4DQPugAwFAumU3AOo7q4LEenYmY6+KyuuZkhpysmmoNYyeZEOlWDNDJYhlyfhIMcaHoglLsi7z3dL0u6x13XLbvnaZdWzaYPGedjGHLLJCj6w5CQEmOMTjpMfyekkUOKuX6R/iMlZkRZ0DBECyjOmnBQDhkqb7l9iOnTt22v/5339lkyZPs0sv+4Q98cwTdvXPf25z5hxhl3384zZyxCg1tN8V+iikstA8Mzj/7CdXqTzKdvknP+lWa1AW/YVVEDJQUDgQadPVdfXVV3v31je+8Q0HKUEgBJYKe86HZ8MxG2mSFnsEI3tcxoAghAgWVDjPSA1GbITRXwTuAthwebdu22zf/c6/2O2332bdAhUFwZdEodvqkiwX0mPdNYNs8hmX2KSzPmYd2WGWFrA9Z1yVnTcBQS3AR9ZUF9g8OW+YUZzFQBAcQXxMQuCGxQEDAHJhpXNt4ocn1u+y21e1WVtMgLac8kUw60pttn7R0/bYvMetfvAoO+bk06w2I0t361rLr1lg21culSCN25FHHGYnn3CSjZ0wyhqqGz02x9lYXxF1yUZbJHgjRYHwZh+EN8ehfgaCSn2LkjF6RW/39HNqK3Qdff/K71nrzlb76te/5lZ9VTYC3ZW8tj954f7wHex5BhDNZIl4ghjOHr73QL+NfLFBIY3A0/Ak5cdWVBvtkVHw6uZNtmjxQrvrzrtt0+aNNmLkaKtvaLbaxia7/sZf2Y4tWyybSVm5p9uYvJW1BJPj5tjcT/+lFYbPcO9tU2GnXTi10Y4dU2VpvTvNgpheirLYU3isI1IqSCrRa9v5WyHWBmQWcQlTn1h2u77t3kXb7fGNXdaRrEUyKxdIKDrBsvplVtfbJX7tUQGVrb7YY2cdMtzmCADFBWhCvRK3QxcWk0cSrAzgwetDG8aDTewOXVp4dojlCd1YgAn2bNQjFOqE36FuuS/wT//73y4KfADvQeE7CRG4/fbbd49QxIhDvpJn8hXlU/Wp44ECQBFsiXRh+GpCEMmhT+SqdJkLqIAV1pix2qGDbfD4EVY3crjFagQsAR10SZMv8XIsr4elRnOvbrMNK9dYx4atVmjvsViPeF76GK2GmRj5id5MOZOj9wDQPuitASDci8xT4sDD2SKaLQHPCEM884m0KjrrE+Ux3XsiU2NV1bWyoFOWwcIq4lbPW76n0/Idrd71lZZCIkYkhtdH6bMCdoFh7H2xRKwk7ivDexZwGRYtpSwKDpChAwNA/kub146+RtW0avUq++d//rYUxwwfYdPc1CLhW7Q2KRSCpBe8/JKdccbpdubZ56rhNfMgFSwgWPZg2Bt/dYMtX7bMR04xmy5BzlR/YIEgNGjUQXkEIRaUZTiGcPMyEgdLju4whFh4FqFEw6+8HyINiPP9hRTnEBJBwLEHACE4GdZK0DMAidgAPEcMZR05coStW7HIXnllodpPlYoqo/JXoxfIieGul9LoxBOYbbHZ537cJp9wrlVnM3bazGY7plkAyl3CUaOjQTKpArna4494a0Q9escabmTVfQBAcVzLvUlfJOWl7Xm7YcEaa08N9nmZShuW2KIn7rPOTats6tQZVtM82Bat2WyrdrRZRgLtoiPG2Yffd7TNmDrFGutqpbjE70nVDUKPtkIQN+9VOVCO/cs1/IbCufB7IIgYnwB+IhFPW6BNlq1T9fnAgw8IENzgsUkoCbo4yAMbeQ4KI9De8sZ9lTzEnmfwBAGC8ASxdEYA91B4Rzh+M8T7IPISyo9znk8dAzyjmaBLli8WjIWLH354nl31ox/b6rUb1Ab0PrV57zAC+OhnWmCDgPxBx55pR37oc5ZoGGINyR67eGajTR+UjtaskyyJSO1P8k+c47/4n5J9c1/x+uQ5l4z0NiNFSB474il7ap3qa8mr1iHAgxxJS9gSL0mMJTFDtaUuq4p3Wk9Oz3S12axas4bcZlu9fJlt2rTR4/4oLzzMtFe8uBgy1Dld3YFHIe6rlDOcD3Ufyp/rHIf7AlXeVylvBoLCe/aWP94HmLv//vt9wlZiGZmnDHAfKHxHeC4hGaCv1jYwAGivRHEpcVWlywVSUZNk6jzxkGQMxwJF2fqspWqqvNcAPcWSRqXOouXbc1bKi9v0MFAFg02ZdPmCfuVeusDeXO5I5D0AtA86MABEhUu8cbmPsFci4ZHSF3KNX0xA1qtChgGJHxEb+z3sGJYaUuEKYiHZK+tSggHLJzonIKXb6D/F1OaKEQHvT5GXoq+iDOtS0Zw+EACEcCHmh1El1NC2V7fYt7/1bRsydIh98YtfkqXEFP40fMYE4FrusQWLFtgvrv6F3lG2z33q0zZp6lQr5nrsgQcest/c/FubOmWaXX7ZJ2zwsCF9i1YeePcAFjCsg9Xz85//3K37P/mTP/F+7kA0etI/0HcgWIhfAUyRBl1juMoBRcRhAIp+dcN19uLTj9quzrx1lLNi6IRlCq2+lAXz/3SXCXpXvagOMoNG28kXf9amzDrCTj9yvE1ukB2D4FTaDD1OSZi5Szc6NSAU1foeANQrSVLEAyS+QvDRrbGqu9eue2aptbYXbMvypfbwPTdbtQRSVV2DdfQIyCmRCVNn2tDJh1pV81C75NBBdsKkZoF61CnCiQ8U57CHhx298QG8/fdAQWdXEG1RJeDH8M6KVSvsuuuvt/Ub1tsn+zyRYQ4p6hreCqJpfxUayohn8B4yOoy4NkZHki7XKtMOCnMgKHwusTARlND3qg12So49/dTT9nf/929t/dqNRuRhrpy0zt60GwnZ3i7lpde6qgbZIedcYrNOOVcKtM4uUv1OgjcdAHlykQajy1BliKzhLVTzQH0Fr3HZoyM6LuGeNr1h8bai3fnsGutJ1DkA6pVhGCt2WYeUeXeuaLldm2z5koW2fusOS3R12Zh0jx06uMqOOuJwmzJlsg0ZMthHg+LVYQvxaAcTBV4MfAP/wkcAGoKbmaAVI5BQAmLBwrxC4f7f/V4gyNsJgDA9oEiIRf+LHAgp354k90R/e5gsOou8CbqUW8mfNJGeEwDXCVQyl92L7XftL5Gr9wDQPugAABAnqTSvmUB9AAh9phupUBdNfbfgGVGyokh8CY84IMFO3Vu1hjMAJmcaP+MdXdpCLiRk1SjSRYdFbwkAwZKkXCoUbdu27fatv/t7GzZ8qH3xy1+2pvoG90AlmYsIgc47JODV0mzb9q12y29vtkfmPWJHzjnCXfE729rsog9fZCcdf6LP4cNkfwjoODEieteBUBACbACRb33rW378ZeUPEMQxDT/ccyCE0gqEsAnCJFhk7EuFnP3kP6+0f/5/37fuZJ2l9F3Z3nZvXEWpnO50tSxWgIKsGrX82vGz7eOf/6p95PQjbHRjJIwR9xklmXJrWzUXqnVAiJ74koC0DktJr/NyXL+l+AgFYubnNbleu/LWB+yFh+6xRU8+ZLUSArXNzdY0dro1TzrcBk+eaclsnZWKeavXs2ePb7LZI5skZCMuZHg9oxnhTrgsKh2EZ3TunSby1L/46M4tMJO0eEH2ozIZs65cl915913eZXDMMce4AmEG3kp+oX7gg/3hIUAFfMk+DJEPs6IHy510Bl7k0ZD3lDzfzzvweq1bvca++dfftIULXvE16BKSWz1W4x7jdInldPKWUzvuHTTOjr/4k3boMSfZRYePsTEecrNH6uypR8oh6bJvoAFQjzZqR3DR39KlN6zYXrLfzltsq7d3WuuONsmiTda2Za292t1lu3qK1pwxGzVssFUPHWVjmprsslMPtxMmDJZyjOQD5cCeOgn1SJ0eTBRkXfgWvoOg7bvuusvuvfdej1liPqrgyYTC/XsH728nAHJB4+kzEAi2CSlggEiT+tWInyJ+fW0OkSG0UCBP9CThF1FMkHKuz2PprwMj3vkeANoH7T8AKrsYoGJVaL7WViVRySUHNtG1PsZECHJN//p4VY2V+4RuBVIiDNV3YTftXdQ4AtYGG/EegA7AKiVrPyllSw5I6sA8QMqn0np186v2H/9+pQ0bPMQu//Tl1lTXsDvjWGTcy6iaUI0w95qVq+w/vn+lvfTCfL/+mc9+xj70gWh26LijPolmGFrl+VYAUFBO7Bmi+sMf/tA9M3/1V3/lfd/kiWtBKLxZQmEFpRXSCGmGa3zPA/fdZ3/0xS97N4T1FrwrQjpFgEc1Hcv6jO08k0tnLT1iql140cfs65eebmOycR8+jruf+mBdHbyCKs7dvPHWCSBOXeqQ+CTva5d4wuMkZiuU47aio2SXfeMvbPPjd1sWEFbdZNUN2qqzzpcd+oZcMiO+z1t1qcOG1qStubZadZBT8konSQuA9+AJnfK8w7NwYMQX7yTtzTJkYK2P/nKvqUqEeAP9US8EEuNJhGfw1rBR3yjNwNf7I6bgB57BY8ieIHu8hgTUkibnAu1PevtPgVmiNPnl6esbWH8M72gawZ5ndB/8rHYTS6nq4GPdl83YrnjGYoPG2Jf/6m/tMydOs7EZyaIEPiVMNwwq8Yz4kzR9hKtesnepdGAEp/QttGFVHmBt1q33rGjN2Ze/9TNbvmqTD7KoHzLYxg8fbGkB9Ex9i9WmE5ZUhRcSWasjtm7WcDt8UMrXMSO2MgRph/KubMsHC8FXQc7hgWb033XXXefD7gHtDNQIXa18Z/D+sPGtPPdaGlgAFJUsdccRGmTPOQx65ajv1x7y686oHABI9rwpSA1+7357333IGMAQRrfPEP6miETeA0D7oP0HQB6pJRJrqqL3CLc9VFCR83nR/KVQxCTaEDx97ZB4BV+UMLoS/ReB4z7qV9O6l0exvB086YES4EkneBQhnyISVRzi4guu6QeAfEFJDgWA9jYPELNJt7Xusm//4z/pTNy++c0/t4aaOuUN0KMGpj+s/kQ85XFAPnu0LOxHH3nEbrrp15bOVtknP/lpW750md1y6y122JzD7KMf+rANHj7UFzJllMBbBUAIBhp7EA7MlcKkjPT3f/rTn3bFw/kDFXh0gQWlxTug8L4gXPCO/c+/+Tt74N67PFYL0FhOZq2gvFFJJZVzvpy2mmFjbfyRJ9voo0+2SaPH2AWHtdiETNGqUgAg1YdAsi9qK7Yit5E4Gwgi38qL7yIAxOrwrGGXFV8VSnFbX+i1f7j2JlvyzNO2eekqa+/psBHDh9mEyTOtdvBw8X2NHqgS2INHS3bc8KzNGC5e0HGCcoBXfR0F5Xx3F9jvkcTEsHwlMdydZoSjijmAGDVEuw4jwSBGBN1yyy0eR4HnhhFA8A91vr88VMknpAtP/vjHP7aZM2d6XFDllAADTXxy9Ha+s1fGy0aBnw1233332MJFiyQjZID0lqxahcCkrG3JBkvWD7WmkaNs3IxZVjVinE049HC74mj9zhC0ioCI8slQeJZSAaDjz0S8DDQAYnNRxRB7HXeq7S1vK9pP75tvrXpburbBqhLRFBG5WLV1xtK+DAb8nVeGWlJFu3Basx3ZkohAFHNZqdKDignl/naU/dtJ5B9QDVC/8847fQoE5jAjxozuPSh8U5BL3A8P8s1sr6UKAKSi8d7ruICB2sKBACB0BiUcAWV+9SfyBi/RzqK64P++WvEj7ghd1P2Jp6IW+lriyTfHf7xxDwCiBBpnjxcAOsYBUOw9AAS9CQDE8gUi5jGg5/p3iesqUPfZgcRJSyBFgtEZllp3whIjBTGCBBNWlxeKGrBPkCgrm1uj0DVd49UScGn9sSZLWbaTWN56BeVJpcRs0L0Zjvw5Jzhdv1mKAfXKnoBYyzbapI98w9LDBYCUJxdCumXLtq32L//yL9bY0GhXXPEFa2lEGei9AB3ECpaVHidyn4eefe5Z++U1v7AeNTxGgx195DGWrFJGdRmvzA033uCTxl30gQ9KEZxtdfV1/p54sND6/oLbMxBufEDS6wmtYG3DRigcLHm6w+gH/9rXvuZdGggCroeN3/2JZ/sLinAuKDWeZYQYlj3zhRAIzSi0pStX+KyvG1etkABhqoCkz7Dbk6y1Ql2DTT3iaJt18rlWN5Sp4eutNhmzsw9psKMaYgJNUWdCKZmWVR59I7n73RweKFGCKlfxEJ3vBfFUDktP35IuSRjIyl6TL9svn1hpreLTYk+nbVuz0oPWl63frGdiNnH8eJs4dZq1DBtuNSrrC6co72OaHPgITimvCFnKC+8A/AOvUdbiMb2HumP/u4L47SFKsf+bmLU9lYhUNiMSvW5pXxV8RR6p21/84hcOhgBBBOvDX9zPFnip8ls4D3GO6/1BEBMY/tu//ZsxPP0LX/iCP1/5DMcHXjYAUNoNNY3HUW2Bpqm6Tek9ra3b7H9845t2zxPPCSRkBWB6rS5bbUPHTLSRR55kjWOnW6OMEhWGdSkfLWqXnzyk3iZVS6KIT0g3ih9TPn0kD600YRl9o1+V0hwIojS8ROApeFXv6Vb6y3aV7FfPrrHNyXrlJ2nV+Q5L6hs7rdq6JYMZHJIQ2CnJsBuU6LELpjfakcPSVlXIKaG4vjcCANRzZZm/myjwA3kMbQUin/ASMYd33323d9UyAzgxa+zDvey5Dz7FMAzykHOk8bvybg8ASopVMaQ5x+oDGM2tC94cAIq4PbQ7Eovyz+89R6oD3Ulq4f6IAv9w596l3p4UX0tRqm+eMAAxVHtjRWs5fLwNv+AYGeORjkWWvZOU+N+ivuN3CamopcR2LnvOytvXqfRVLGKwuKwmFnaDAB0IDBMI4XasyEgEVRINE79Q2VIECtMvQC0SfKpnoxmjZZGz1k261uLV9QI2VdabrbFiusbyCSnQMnhaQlRJ09VCTFE8psYeF4ZVcngOCJxOpHSDFClYBO8PAKdczugW5U8yX4/2cRBpQDQc7QBA6Yw1zjze4rWDlDWahRrAzp32vf/8vntAvv71r8vKoNuLL9L9aiQ0Lv5YCBZwc/OtN/vCqbMOPdS+8pWv+FIWqUzKGx8bYIfVvWm0v/7tb+y555/zhUub6ps8CJiV9H0ZA/KLpe4b36I8SolStDTyvRGNu1JwAHwYAYGVxKgt5vMJo8HYyA9CgmOETtjCb/aAKvrYATt0HzD7LrNVE2yIh4A1wLDG8DSdddYZdvknPmrjZx5q9zz4lIR3TIpHsKCqxaomHWlzPnS5jT7h/dbRMkKfRANXmcjKGN2SsRFZWbB6H4okr3xhXdNDnqSwfXvrFAk6FSBVJ0nnS6z4G6nKkvjPbGOnAOyGHh9pU87UWaphiI2ePN0mTphsLQ31tmnDOlv6wtO2YelCS3fvsvEtVTa0qVbWeFK8rZwmen3eIF9UUxutgS42viaAVzbKPQjkwBtvx8aaRjp4zeZKAAHvP/fkIeSNjd+MDAKosGe9N4JM8SRiaQdFwn0oF56BKnkwpMMG8c08z5BrFtGFGIUET3IP/BaeObByoZ3QUOAYlbxkVBDwKQG9JYsX2U+uudFetTqrHTLKZh5xoh11zkdt4innWdW4Q6zUNNg6kpI3MppM8qhaeZk2KG1NAkAOnIsyMGiL+qOrNqcX8tWMdPRFMgcIAJEKsXIe6Kxy4F3MpbZ5V84WbMvbznit7qiyVElyzuUmo2h1RvI0TbC2rhLPNG1ItQ2rTViaMgX89NUNFOrn3ULwUAA+UOCFIJPo7mIWajyIjERltnFifRiuz32BBzgOPFjJi4Gf+pNSdxlAY0AFRN5S5UP1qVSte9sua12y1hLeRbDv8uKOsEX/807kebQPV/gtqN93rvJaeGbvFO7Y27Y/RFuIQJ7KRPsCDgT/1WtVw5usfsooGfIutQaKnfebDm4PkAet6roYDfIyhkDV/KfGCUu5KNFXljO1Puy4kKixumGjrHroCMsOHmWJ6gZLVGWM9a5g/JKETrGjw4ptO63z1TW2c/MaK7dvs6zAT7zQKebGYkxbrJiOBAXv1DXvzFU18vZkCYtN1ioNges0LgljhEv0UznksLrRJn7oG5YaOU1PYjHutO9+57s+D9Af//Ef+1IREI0pNFCEOvv77rvPF9cjdoKhlwwzfT0Xf3iGLgGGaz700EN27NHH2kc/8lFr1vNejiC4vvzTVKIUVM6RA22fFN6BYAGg/NM//ZPPD/RHf/RHHn8Ekb9gGVUSgGflypUOmpgkDQ8P53iOMiCwOgyf5Tcb8wCh6HsLeXvw+SX2yT/+c+ve1WrDBjXY5GPfb2O0WdMI1VHCiglG6jE0niBPsxMn1tnpo7NWS2CqrhSTGd2H+AEABcHw1glriw1gxXvgSKk0/a8ykDLJWdqeFvi5eWmHtTMCTXmlWyspwE9e0gJJsXzO2tq22/p16239kkXW3L3eJjVm7NS5R9qRRxxqUydNluISkFXVoXDirDun4xgAXZ8CT0OBL/rzxruJ4A0IEMwyCIwwZIQNyod18GgHUFA08Fz4DfX/Nm/PSpONuWj+/u//3tO57LLLdt9LuYTnD4gwGDDGlFxR1j/BxPGC6k0K9LobrrG7n15kiYlH2JDRE62qptFKmax1y9jKWca6vJs8YRk0ofihQfV94fRaO2pE2nkGmZGUkRUTz2AAOrhS+hnxh69b2GcUDgQxOSO8x1p1BYEfFjt9ZOl2e0j8uS0mI0wGYVVvJ+adrrFS/Du7GvxAEzwBDwQeARTDd/ADw/dvvvlmn4uMuYo+8pGPuAziPuQwXp4DbUeMCkXZIxXw4uIFYi25XuZGoAts4VpbffM8S3SrpKVfDmbyLlWXevrikgw2fW93EhimTQZC4xHjbPgFx1EUEWOja95BOqgBEBYSZYYLWpzp1wIhVEC8ABAXHGq8icbBVj92sg075BhLNQ2zmACRkI/uwU0jJanEYH48TFhDMb2z3LPTSoU261j0kpTPy1bcxdpfUsyydhLSOHQzFJSvnN5TlPDSm1SHPZZWsdJJxmrPWHCs5wMTsBCrk3eHaF/VaBM++ueWHDHJ2nfssu//8PtSdu32p3/2jd1WbwA+bLhjsYp/+ctfunXy+c9/3odeeoBzn7AJiq6SaNic4xqNGM/Kf175Pdu6eYv90RVX2IzpM6yuoUH3UHakE9kp3uPvM2RH6bwRkS4bwoE9U9v/4z/+o4OWL37xiy5gmEUaYIOAIUCUb2HuFu4F0BD3wQywrMANeOIcoAmiLMI3IrQoF+xhRilce+c8u+KfvmfDx461959/ptmgUdaeqLdUvNpqdL2s8u5OqU6krGolsOcMydiFsxqsoYToliWYUJ7jSX1txFP79cH7QXAlWwBANDZXDco7OpOhxne9ssUe3yLrPiXFmKNLUQpOFYEnq6y88sXAJpZVSZW67aShcUvtXGV33nKTbVq3SsBwop122uk2afJUGzJ8mNWkAVjAaT2JFa4yCzwUyu/dSvANlje8Qn45puuWWZ4ZKk/QKXPJ8B3wQOgegzjuT6QHhe+ny/Q//uM/nL8+8IEPOH+R1oGWi9cv7Vsyg5F+JYEC5IgYzdt8h9rdw4s32RM7ktYmEF7AYJKsKZXw6FAfMliUQBW8rX1KcuXE0WU7bWqzzwSdKkbd+GWf20kKs09aF6Q5sZb1VHRiAIjlfHzeIb1DNWCvKp+3vrDJFrdK7sSyVqTMxVmMZsMD9IcAgCD4h/pHRnIOecRyP3iz/8f/+B8+USPXK3ntrfAM40LRBvQuUKvoB86hqzwG6JUIAKV7SJ9SpNK9NCvo3XKO39Drn0MSQRhlqZJAZkJf7uVYsKbDJ9jQDxwrRuYelQYu7XeQDtouMBaTg4n4Y5JA3GwUd1TkNFTiOvD2pKwjO8QGzTjKxs19v7UcOtcSTaMEfpqsN10txYegRV5JZajBR3ttSh/hZKwlpvsyw8dZ8/gZFs80+izIPd09egMoNpqp1acT1/Pk0L0IQrdl5gfSOR2ofqOG41yAQNM5DDiTJdg883jltdYF8+Ytm+1ranRhLSwEN42OY4abs2gpVjHdWTROura4hnBn81fspWFyjuukxR6vEcPkU+mU/frGGwREVtj4CeOtKptRIapxayPWyFMivSjpN6QgSIKQCN4buq6YwBDlQxcWHihWKMfTwz1z58712Z2ZFO+iiy7y30yqCPBBQQVlSNqhPDiOvpPfcXtmyXorDJtsh77vdEsPGWGtqTprL2cknBMeAp+WFZ1TXRBAnpAAzxRzNmForQ85p0rYmDE1mhRxPz52P4naZqPOmSIBBRa5g1FiCdvUVbKX1rXbllLalWmaOBnqSd/pAEYbqqTIki1M4qlnjhjVaMcdMtlOOeFEWadHqLnkBRKetHvvucdeeXmRdXR2WIvqN52ssqTqtxIEQIFP3o1E3VLfIa/wAAroiCOO8DW/8HgCkmkf8EYRD0mfYqId9Ce+lY302Oi+YDZx4ozgH4Ywsw/3vVny+tVjPEv9+gLLNBfqWf8V9S2rWvP2ckfK2lI11i6pEZPBRTcSD2NbEA/m3YYkpmey5Q6bMrjOqlX3QDp670soCMlCZhMnbbqfAFBRd+3AkLcryVkduTGwoq1o8+ma1Qep5fl3MjIsrQNkJIt3ZpR3ZBuSgnXtpw6ptuF0gfFNJHoAZfpOUeAL9nw78WfIKuQTXkKMS7pPIXiSdlTJawfCLyqoKMaKd7usEZEMriAdxFXWuVd3WeuitQLUeofKNdr46398cJzD/0P3vMsz8YwbCIQDJHotM6LJamaMFH9zDr3zzvLLQesBKroHKPLzgCZZOBRyayyViWYqlXioahlhY06/yLIjJ1lZQIaJ7piCnsasupDFJWZ2K0vPw5ACWb1lMTkCxvG5TmkjPgd2VVOx0pZVtvH5R23r/IesutQqK421wGTd6X0oqIRAUaZckMKV6qVSxdsp1gxDiEjTxnVvN/0VfEN1kw074zP2i9sfss2vbrE/+cY3bNiQoR7XVNJ3UT1YJgy9BPhglbASO4I7ACQaYmjEe1MCEJY0jTcCDfoe0sZK1R+T0d14w/X2+GPz7NJLL7NTTz/NGmob9KUIXaWfxmItveZ9UEirqO8nXokAaGKSCE6mC4vuLLrcyDPXECJhAVWGkHI+pFWZ76Cwg2IKRJ7Dt+4mlS3zyzy0dofdtSovKzujLBesIy6LVQCgRhZtta+hlrBObQkBjHS+1VpKHfb+w4bb7OHVViOwyiSInqwEP3U2UIRYKxBEL75iYrsEgo7ZxvW97XrXE6vbbN7yNtucyHqXqce3ifnounJeFqMC8Hv1vLIpMJe3SyZn7djR1Q7sGBmUkAnZ3V2w1l0d9vDDD6oeH7V1q1bZtBmz7PgTT3TwgDcxdI9Sjuz31vQr+SlcD/X8ThDvDPVcSZyDxwhoZn4fVran2xcvIXxNGwndq6QBPzmP6zh8K3t4lWt0h9FFy/xDjFgMiq3/t/bPR3+CU9mimb0jvlUiXvGM0mxTG793iXhzc8LaBBGUO6tRmslefCaYaZInsIT4ktIG7g62bfbhw0bZ9Loq764t0PWu5sHSKShFqAdkpKxV+a+BIW/jeL0lB9vVfu5c0W6Pr+02SQ4pCiksybZWyS68PgwYOJg8QJU8H47ZU78YtMznw9B2ZicH+ACyQxsIz/E7PLsvvnhdQiDgZdPzPspPyTAPYS+TgulcMq+yf3mtrbr5SfcG9ZXiQU3wtX+FDvB20Y3r3bvJXqs/bKwNueAYK6VYsYGlVd9ZfjloPUAeX6MC40zwAFHQvVKyXaWk9cjaahg5xSacdIZVjZ1qsUydLJakB7uSJACIShFrK3mxGR4ad8NFwj8aSUNu1Ai4k0bAs3pvLFtnDbIiYwI67Tu3WDzXI1BGX70qUJZ6WQouLsGH5UbeSSp4gNR8vH+9lEhZTsKsR9V+69MLbdXWVvsfX/+ar+XlXwJSVpqACawS4n1Y3+hTn/qUW8ShAdIYQ4Nk/3oU7qEBh0ZNY8R2a6itt9mHHWbDR4y0e+65154U2BoxbKjVVNd4TAkrx6MgeA4hyZw/BCgzUoeAZBa6xDOF5cQsvKz1w1DmE6V86Wag/xwlDCgC+HAc5nrZnRfR3r6pkvjd/xxlXJAlsbajZEt2MTNUhpXAxBMpgVsBTwEEqUcJa7x0al56H79T8ZL15ks2fHC1ZfSutCqJevJFSN0T9Nr3HCiRCpNUwkPEdUUzT0uBlRO2VTLvyRW7bFNBwrA3CshGicLZ8JL/KU+eEx1QSmldO2RQ2kY3Jn3kOwqUC0nxW1aActqMGXbSiSfYYYceat09eXvq6ac93gswCj+h/PGchO8L+0rQWUn9rw9UubwekX6o+7AFggfpTj1MvEr3L0OSAT14dfAkwktslRR4KaQZgBEB9HiCbrjhBv82gFS4xr2c6//+vRFXeSMTW8bce6JfqjtaFnIlr3a+YkeXLWvDC5y0rC5Tx3hIkAkxoVpkTUlWEqO+inompXRSkoGjBqn96Q2MXsVY82BoTxvvi+9U/wNHLhv0InzbW8STjy7faa0FIjjwbCO5dE3yL618H2weIHgfkAx/UM/MD0Ud44n+0Y9+5N5pZCuyCtkV+CXswxZ+HzDBLCovKg9vM0HBbMRfYSm7B2hbh21fst5DSvHy+SMH6QbBt8B2loeim5jQDx8Vq2LMDG20hmnSZypX93e9w+xyUI8Cg428+4LfEhyAk3wsbblUnTVOmGkTTzrLUiPH6iuxo+j+4D4xnv95+ftvvDbE5jDBGFZOxHS4l9VYwiZz3Odc0SM5vcdSGWsYPlSAJ2Y7t272e6lU1aOnxZDRyK3Je3RNwoV3SYpL2KXcY1SMpez+J561XclG+8o3/j8bM2K0PouUZNH3dHsQ3pVXXulC/0tf+pJbqwz3DkLa0+Z7SHcfVKkYuJ80esmvcgfz4Z0ZM3K0HXnkUdbV2WU/+MEPbUdbq8+fwrNLly0VOLrH83T99de7tbR48WIXIiggVjw+66yz3HUMUKMbK6zqjKeHb+A3sUt4o2bNmuVCie8I33MggoWvKqmcV+7K29KdUiSCCDU6h2+Q+sIBi4TpUT2VsS/0TgKLsXI7uvPW2FBtTXVJS4uHqGe6JplQ8QCy8jpEGTPaRO8U38BrRaE2FMnC7Xmbv77LOrHjEYbi8T695htqBwXH5l102uNnnNGStJENaRecKCYegr1IA8qkUyr3IXbY7MPt2OPm2rRp01zgA1AZWcWoOuqbugnANvATx64Ita88Dx1oHQ0EkSfeTR7wZh155JEOYojVYIQOk9Excox72Mg7FH5XEtc4R/csYJwJPFnXDmDFe6Dw3f2f7U9c5U3wWlBsLsU5KWDDLM+rpNDW7KKlARIA4PoWv5P7MebgYTYdc5ee7e7MW0tdjTVWEyeCYQWA0v28R/XMM8QA7amdt058OyNjO8SjL2/qtpc2dfp0EqyZyKANBnwAbAjQp7v/YOsCg9cBP9Q/MYh0gyLHTjjhBPf60E4A0m8rwRfUo/OleCJiNxnMjDFGLsese5sMzKXrBIQTu8HDwbohn3AuYHjSHpC7wtSqDBmExYLVjRpkjZNHRTKOsuChd5AO6iBoOq5QAkkpcuYUKNC1FKu11JBxdsgFF1u8eaQKvE8oIin0peIpnqIXQhTXdfZ7J6xtZYAsocd2Ux4AJIr3dlmsZ4dtevxe2/b8o1bd0yEFm7dSJtY3XJU/f4sYGVgjbMfosGSV7ewu2nMLl9r67V325e/+xMbOOkb3xa29Y5e99NLLdtMtNzsIwiqZOnWqA59KYUy17a+QhrB+ggILCoC5jNizeCWLxbZ3tNkugZ4tr261e++72+66916rzVa752LY8OE+CoIAVIa2040FsMGjE2I2QtqBEDYApABwIDxExDqdfPLJvlYTniCuc+/+fEd/omryqqOH1nTYrSuYkC1jNRLQdDhGBDAuWod4oyzTg06IlK764rWicXVxu2BmvU2QaZ4t5QUKBTsEIA4kL3snlW0xpxwmBXqZGUr1pW1DW8HuXtRqCzoS1olnQBLAFxmUUnFQL41ISaa0RTmNiHW4PzSl2o4aIz4XazJRA1ISwYmlrozrGSmoQjFSpgBq1Qn1APBkpB1TFNCVBKH0AbkIfyxfPCqBt5w3KjwhoQ7faaoEyiFvEKAOb+ONN97oYPzss892vmLuKYh7UXr98x3aAt8G37344ov2n//5nz78/uKLL3a+5jrbvvjA27Q2RrS4HNKrorg/LpasU+X/wKItdv96Jg8UACc5QLZzAYBHz4fb/VW9Ag8J1W2PA93TpzfZqKq4Vat9xiXjPNZQte7eIN2/j+y9KSLurE35WrKraPe/vM225BLWDuRORTxEXGMVw+B1b1e86qDrAuMb8F7j9QH4AKTpRkW+widBTvXnlwEl1RsBz5QOJhdeEc6VYnnLY+Cr7juWb7aVdz1rVbloGpeDn0riD74DUzBh3RJqAOR4vmQjDhlnQ953mC/LhMZ0gfcO0sE9Ckw7d+pIcZQSEvBqlL21Q2zq6edZ9aSjhTTrZWmnBTbLltIGUQWONB3QIEz8pEjKuoLvqQxQqZqNb9H9ekL7uBo9zxZVaawWH2vbamvvucF6Vr5g6WKHFHKP3k0KVdqw+2D1SFmXxOAFy9jDz7xgazftshPOPN/ef8WfWXbQaNu6basa5rU2/8UX7Kxzz7WTJMxx04cqCoooHHO+8twbEcKe+yurO9eT8+HqTz/5pK1ZvcbWrV9v23Zss7raeps0YYKPKAIY/faW39oE/f7TP/1T9+SQBoojEO9HaFSmz+9K8MN5fiNo6Db7wQ9+4DOpnnLKKa50DxQAUS35UtEeXt9tv11RtK5y2lLM0yRiEktivCj5zmRGPIQFK4VelrBR7fZIsDeUuu19IxJ2xrgGaxSaJtKLeYJCXiIY0o/8FHzpv/ZKu58Sk8ZKAkBx1oASUBSPdavhP7Fksz2+KWcbUkNMcs6alGfmBMJD5E/rHMnTzcWeDX58IwDExgDbtBoFgZbOdcQOVdQ5dQGgADgQmP7EE084KGV0IQAAAAHApT64N9xPeVB3vw8KfMT7+ZbAUxDHACFA3a9+9Suf7+dzn/vcbu8WVMmrUEiDPemQPl0gzGKO9xK+5HtDGbwReZv2I+XJ/6cOALFKu7cskBC3B1951e7bWLYORnJxU1kA29GOV3gkj5QKHh0/ignCii+HplUnIzJ2zoRBVs09cSmSvm76lFCTs+gbVklfgnuqvw9kVZwQkRfO8IqNPb12p4D5K9uLAmzRmNacDBx8k7VqZ7W9MvLEV63x7EEHgBj5ypw+xH8xmSH8zmCQwFvwwYHKof0lypgxYJQOXmoAEPXPUhhdqgW64FPtvVZY3y69pQuMkT+oSZxF++1rgoyMZnAb4QlJiel0nXhrZL3LaaYfiftox3eODm4AJMZNCFD0qmEy2qI7UWsTTzrHmmbPtXJ6sPUkMlIqcZ9dm2bIBqImcNQ5MRBSgYu7y54GEP3QnU7hdgdADJHHJewP4dLOW9emZbbo1mssu32F1FyXKrxg+XK9UlKlSuGCv/Ac7SrG7flXmOl3g53x/vfZ0MEjbfjpH7EXVm22X8oqmTJxkv3R5z9vw0aOsIQaJYGfQRFRVTTO0FA9P/rNxrVQlZXKgXtx7zOCjHlVCEpm6DlCYNP6jb4W1tiJEx3YHHXEkTZj1kxrYL2xQEpy89bN3k1A3AV95O973/vc80MeeCfvCHmofHflMfeGPffPnz/fg1DxAp1//vmvUa7909oXFcQPj27oshtXFGyXlEdW4jiysOKWFRCAp5hvh07TFDM/Kw/wRoequbFUsObcNjtj0iCbM6bBMoAfvVZZ8Nr12byV79cQ/RXkDY0l0PEa4pTKzEc6aKObIylrHqXWntAmQPn8ynabv2aLbZXK2JnMCg4j5zo9Rqnk3kUloFd6EmL1vqScIwFAH55SZ0ePyb4GADGsuqSMe3emyq5XoAW0xZpblGOoD/aUdbHPqwLhGaJuGaEHGKIriW4BupUAvniGQv2FNEIdQZyjTtlzrj9PhvccKAX+girzEN4HkT94nOHyzz33nPMVS1/gYeQaxL2B/0gvlAVtjPOUAbOYoxjxvIa4Iq6xD3kIewj1FFQUXVvwnVr76wAgmbdeFOSHNPRDsoelEEglGL+MDiyqOVTnd9ngUoedc+gYmzyoyqqTujcuSCJQ7TEUeqMPG46KYM/e36Ey4j065/aA9mXdXhTIL3qOyal4RUeJEnF+cXtV+X1sTYc9vbbdussZ8RPGWkxyN2pLKZVXVa9akr6NIOl3EwCifirrKByzJ17x/vvv93gv+BrwQ5Bz4CHugyeo58q6fTuIWqP8qRvexLw4TONRdgMeaVG2jOojEc1+YC4cDmbigyXzIoEWtcO8dhh2bCyJ05UW6JNiTUl+8fdO0kENgAg2Rlnlxby9mVqLtYy3aeddasmWsQIgNXpUgljX0VPwNQzH5tLAtz4CAHElurhXoh7DnoHvaQktUCzplKSJent22YanHrItD99tDaXtAl1tsvjrtJcQLfXI6EtaazFhjyxYYivWbbNTTjrJhjbV2Y7Nm+zZ7jrrSDf5EPBDDznUWhqalPc9iio0ZIjj8JutUrng2meeHUY14NmhW4ChnQgAQBDKgG4srGMmFeSYrjWsIAJjob0JAQQFc/c88sgjPlqCdLCScR2H+7mHY4jf5Jv8h/xWEvnkHJOMXX311faxj33MQRXP8z1cp1stCKd9UU518ciGVvvtipx1SHBXx1hzDas1KfmB9C/J6khZRsBVKtP5Ip8g3gvhU7Im3TOk3G2HTxhsh46uthoxDIY2MTkER8d9BB/5iEAaXhxdNeZ8wXrGggMYwwsIN/LMKBlAL8Gi+iLLCaDsiCdt/uYee3x5u+0UEO4RIIJYEkMqVrxFDFtfferZvX05o8AunlJrx/QDQOQn+jr4Uv8D8unvBf3vgxD+EEAAzxDDzfGIEIBPHdLdiWeIqRfgF+qFLfBg4M1AlTwRwEZ45u0keA5vEB5GgvIBcswbhEcrvLsyr5wjf4F3uUbX4Pe+9z3/XqZlgNc5zzdUboEoOTY8y0kmdqIOBXq8JlQHdIE9+MoWAaC4dTEqtH+l6ra9nHKGSoqxMvkuG5lN2WGTGm3GkCprihctW+yUTFO5ixsY1VqWEoH4HryeOiVewhMlflViACw85SzDUVLbYM1CAq/pLCW2hyLplFB7+NWSPbKq2/Iqj7J4u4xHUdfcMx41bQrQMirn/LtkIkTqDnkRZA9E/VCv8PPzzz/vM4BznaVV6PKli5PnuK/yuXeKgi6BvHR0AhXEBiE32Jze3uJ7Zyh8S9/38f3hG7kUydPfz6ce1EHQ2CXidEn8KsvFqnxtnboJh0jo13qD5B8GkgMgPddX/qLwq29DoHH4BhTupsJQh0Sz03T47XN0iJrqs7Z5wcuWLHRICRWsSkq1LIuppEy0S+EteGWNrVq5xU498SxLZKrtuaWL7J758+34Mz5kX/rqn9jE8ZOstiprviSGFFdQHpVClz2NF8Jyp0+buA6WigCc0A1AkDLD5hEMzKfDwn1YxMy1gwVE4CejXgA+xEsANirfE94VCAWAImSmaYJPmZn3qquu8vfjIcBSRviSL/bcX7nvn164j9Fs5A+FgweK7gvuRSix9X/u9QhjeE17jy3ZSV9z0q0JFjeVClEdoRwAPaothL1qMQ8oUNrKhfaycpUAjXH7tla9N21DahNWJY3BbVHgKfnoe0YnGU3Ikhak5YLL74MHgCDcWXbwBKhhdGIuJvCrvDy3eoe9sHKr7SimrCue9pi1Xr2Y53l/pDJU/v7/3gkv1qyWjI1q0Lcpa9j5/lI/ip5yke5df7rgQSdvTEEZUCeABoAtXhBG8QGM8RbCU0wQB5AGBHE+KA/qGQp1ze/Kcxxzfn/r80CJ95AnwD18ysg32gPn4LX+oDrcH76DawT0oyTpoqVbkGVdwjO0x8rnIb6SDW5gIkPKnDgdqoSueTzQq7Z22sr2aAJEnuy/VRK1RhyYBxmLuVg4tlsIv31Xp/gxIRmT1vszek1SIEXGlfKOD9onc9XrY7wD4Csg7QpGLyjK1GZBZniZu1moOVGiyydlHXrfFt3/0Jot9uzaXdZTyuhRtRraqOdHCZBJ5zGRvp14xndLEHSQJVCoT/Z4uxk9e+2113q35mc/+1kH8vBAIGTa74MokbA56YBi2n1+94G2PwTq9y3+s+9c5Xf/Pujg9QC5mSMoIubvZM7U5hE256Oft1jTKD3CooMIf+YWwNsgRg+W9Vsk1Gm3toxKDQucwiukBFQKOQmWTlt3929sx0uPW6a0U3no0v1V1tZTY88vXmcLVr1qhx0z1zrzEohLX7S6bNKOOvo4O/0z37S60VPUmJmvpi/sTVmmYdPAi7K4mEcHFz+zJ2OZ4+FhJAPeHpQRQIJ4IYKUOWaEC9Yr16jioIBIz5Pv8y5VUlAElQIeQvBDIR2AFR4CLCvydc4557jFHLxIvINngnLpn16w2Hg/x/PmzXNP0Mc//nE79dRTdwupkOd9UfAA3dTnAWLJEutlvFTKu4yoNTxAdC8BL7CNaXEojpx4qVrAOl3IW1agtSmWs9nNvTZtTIsNaq7FxjapGUsQV8Of+Ei1rTPUkpSedmzAKfq+isTeUI5KH5zeIw20sr1kz69tt7Vb2qxDlrNqzHoEfgiUj3IhK1pKhO4u5v15I+KrIg9Q1YB6gPrzCLwXFD5AFy8iniECSAHAWNHMmUI3GaP7Qt2TDrxFGhwH5bS/dflWCH6CrwJ/kW88AIAg8kf3LaMPyVPIF3kM3865kG++lcBoZp9m2QzaUrgnPAvRMtjcA1SgbSUcYAM0ggfoAfcAJawbmbUPwt6DT33EYFGARbxco3OJYpe1JAo2cWiNHTqm0Zprkz7DuXefakO8eWC0srCnlAEqah/JvL6p16pkhDGRIpHavGOXvmdxW86eWN9qS1s79L4afVvWitS/Uon3ASE95qwUyD1AsfS7ygOEzKDeduzY4Z5lFi8F8DANB3vug+DNSr6srMv36L8fHbweIAdFJW/IuUStDZoy25pmHSnBUaP7pOhosAhwCSHmdQn9j2+V9GbfkOVR8KKy6PlSg1ceCVzbsXqFFWQ94onoFRh7dtU2e2L5eptx9FxbtmyhrV/ytL1vziSbO2mMjR3cYM2zjrdYTaOMdQk9NdRSb9568nkHO8x1wuy3bDfddJMP+UWY06jx5jDyheHnHM+ZM2d3zAaWfFBEKAMafTj2PPcdB4HOtjcLFwoKgmcCsAFgsUYObmaGtgPIyBN5471BsIR9JZEWabIRAI33h5gi4oxQOGEJEO7rn5e9UfAALd5Z8qBNyh2Jjb27xwOUEuCI0iQ+I+bWOqBG3y1+8oUmdYopCrZ35mzTri6BpoylagScVL9c92GreiZBGVB+AFYi8SlS8VhB6TPvS5fS7NTv7aW4zV/bZY8u22GrO3qts5xy71FB9/SxtR4FVpG+J7Gbp16PIg+QymwAPUBeJhX1HuqG3+xRLtQPvMVUDHhIqCO6ROFLupy4F57AG1jJW/ALFPju7STyyrsr847nh3YBaGPYM+0CfgvDnckXCjTwaSgDuonxeDJaCCAVutG4Hu6BdssD/e9ySWUePEDUQX8P0P4Q03AIklpS4Kmg4ouWoNDzAsc7O4u2cVun9SZTVluVMP3TR+jtug+PT/QV1D3lLo7wk3q+l3nJ6LZlJfeYbRX/P7F2lz2+vNU29AicJWp0Dx7TvrzrmbzKhR904/Yl7JREDiitd4MHKNQ19U4dE8PFqL7PfOYz7vGmmz9QAD9QeK6yLt+j/350EHuA4pYsRUPfO2pG2qT3X2QNU4+yYqbWWJcLWyuu+5igzOebxws0AIRokW3thALiRElJl4njkJUWb99kr9x6vXVvXGvlnpI9t2yN3fPSfKsbPspyndvs8FFD7bjp46xBFmVRAmdXOWstJ3zAdsiWW7Vila1fv862b9thu9p3SQSW3bpGiKN8EMgsAYAgpsEHoR0UTmjM/O5/DuIc1R2UUbgvEAJibxRATwBIlb95HqDGfCyMKmIeoPPOO283EKpMn7zwfs6RDschPc5hudG19oUvfMG77YJVF+4Nx/1p/zxAGYETKWW9p0qgmMnmolgglYWEOWAJKQ9gdpaRRqm2HmvOJGzq0Cqb2JK0wVUpa8xKuCsLUvMUoCsGlYZ1SzkBoHbov609vVJ6PbZ2a5ft6CxYVyLrAfAE/emLPM+unvRKLHQn9jrpPPUG9HZ5gCp5hzIOdRUoHPevA7oaGEnGxizgxAkBOFiiBW9kAMOV6YXnAx/xznB9b/W7vxQ8P6QV0gzfA4ghJg6vDmCOuDO6twJgg3g2eJFCXvG2sp4d38OivgAo7g/vKQr0UJcJIdeB8ABBzAJPN3ivwHKR7ioBcALxmX8Hb2GynDdJDxubLdrk5iobMqjemmqrrCYTd96kBPe0epWzsgKQ2im+3NiVs1U78rZ6e5vt6EGW0eUuQO7lThya5IOO+LaCxxZJ1igxumk9YdE74QGi/AM/hLoM5zkOvIMBhncS4/Cxxx6z0047zYEPc0Rxb6jTkE6o23DtPfrvTQcxAJJg7c3Jwspad8skm3bWxyw7ZrruybhiY5mAJDMyS2gQL8Rw4IEiBMpuxdVXemU1MgJUrdBqy+6/wzbOf949P/c8/rzle0s2fvRwO3LGWBtRq5tzHbZy3Wbb3Jq3VzulhFuGW7ZpmE2bNNmmTZ9hQ0cMs5bBLW5l43pHSKNIghB4NxBCBYJ9EC7EhhB3RHdD5er0XKsUNAiuvX0L5wngZrK+22+/3f78z//cY1EQWgChIARJr/+z+wuAGGKeRGDrilSMP8tX5OOCJZ7H6CxeJA7SpZxVJ4pWF89Zne5s0OlBAkC1VWlrrK+2NIBR+erMFWxXd863nbmY7SrEtYkVxKO98bQvwYEnJi0Fyaiy4JWC4CM8R6gLvD8Y7G9EbwcAeisU+IBYNLpD6XKiSxNgBAAiuJ14nOCRpP4Cz/As9V459xDbQBLpwjvhmHzhVWVUEECdDUAET3E95CPcz7PMeE6cGnFRdKPRJsN1ZAt1yBInAwGA4GzC9/ELytwQQFe+4I0S/MkZBhJTy72WKXdadUw8qnKtFjivFW821WTFn1WWSUeKvluAJ9eWt07lbYcMsq0q8+16nIk483pTsjdlVbLg8PwwPizfx5eVRJ78jX32URQE/fYDIMrey1gUZAi/A6BhYAajFhnazqiuSy+91JdIgdfeTbLyPXr30sEdAyRLKBevtvLoQ2zquR+zZNNoKyZRdDE1R/SCRAfCj0Y4UA0CGafXF/UCJj1DMjAiDCdwbzknnNVhKx590O74yVV2/bMvW5sU4rjBo2043To9HVbq2ao8ddmgpoy11NXb0JFj7dhL/8RGzzrSElL0CYm4EkpNeaaRB+H9brNWgnBC0KDEgtJgVXe6DRiKHGaGBhBxnfsDAAr3B0KokRbpMrEdAd1f//rXPWaDZyAU5d5of2OAYpLgadUTs5tEIp16i3vXGFiBGJyy2MRHD4rvUDYAFgLpSYMaIN4najKR4odQa5zxqhKv0jXAkHT9sHxJ9SleBWClSkXdKwULAyltiOBUfuWTzFKtJ6JsvS69GwFQqDcoKB5AA0CImCG8L3SPMls4XpdKLyZlyQZ/85t9f954KxTSj+qMOoq8ns8++6x3iQFmmDeI/AWgzfvhuZAvvpFlXP7hH/7Bu30vv/xyj4HydOEVPUedDgQA4ssBQBFHkSpD0ZUU/KlTeAhpBfBMV1LlXhaPcl78FNOdMg/EoyX90pOqf8CTrxknqw2e7KELVvzpBqEEWExbNGM6gF310c8J3J8nQ/6632YARJkjJyq7JwPPUDd0dzGsnVnNifMhDhGvM88hJ94DQO/R/tBBHAMkm0UNt5DIWGrIGBs0dbbF0jXGel3wPooGFeZNlhMD1R6QceWC9JwEqUsGwJlfMRlTaoDdtnPjBvvpD35gW7sFxPTe8c0pmzUsYUeOSNuJY5vtxMljbMbo4TZuVLM1DGmy8ceeYpm6Id5oe0sFF6rkl9+h8dPo+f1uadhBobBHUIVjFANxPHh/sLKxthk1xAgvviVse/sOvpFrKCNG4ACE8CIQ3I3gqyyPStq/GCD4JVJM2NSQQyEpBYb8QnEpE4bKp3tLltFzUof6k+LQcwUJ/JzS7NLZnliV5ZJZ6xDvdcWzAlBpnRO0krIrMfrMv02bXsOkiioY/Yo62SipKAdhE4QBgEkpke191S5fNdAxQG+FKusl1A31CMghQJqRZPAD5+jiZHg6MUMACxQW1jrHlXU7kDweusVQjKRP2mzwI4AMLwKLDBM8S3czvMz9/b+L+CZ4mnXviHejSwzAlKDu9B5ibQYqBggYq1yqPvfUKV1QHAHASYXahR97BKpYAojV24tCSTkB/byOcwnxqM/VQ9cvoCeaFoIOLtpBmnifPr4kNdbT80z3K/syP/XOcJY9PMi3vN0xQAGMBn6gDvESA3zoKsfbQ6wP9Rhiut4OHnqP/nDpoAZAKNxiLGPpwWOtZfJMS6SrdRHQgUUj60xNkBE7tIUBaw/IODV4DPyoG0zvk+xgGvmSDwcqWKmtzdrXrbfGTMJq4wVL5nZYV3ubdcsy6840W2e63opSoKlY0qpl+Q+aeowlGwa5KErgqVAyCDy3MBEkynzl9m4g5ltBWQRFQT4DIYQIPiRglm4RgqQBNACZMI9M/+/wuuyz+lBAeApQNEzOx7B9XNyVZVFJlQCIlav3BoAK7jHs4x+e0f+sxkxXAJYxygDgg3Ih9fAGgj2dm/QQAAmiuwDFwGr6gHBHLrqLwNUSlnaSYGeCTlFgUqC6R7Xqz5IbPExFga6SyoG9A17RwQiAAo9C1Euo27DhYcEDSBAxgfrEswE2GEEIENqwYYODZqz2YLmzDRSRFvmrBOlQyBseRvIUBhgQa0fXc7i/kr8JjCbGiRGLeLUATOl05HEeSAAUAR9At+AJCTnfqlxhNT/q2+u/Kr0jLYOMASFJGU+pmIC77mdmDqbqgD+BJyXtPVfEEylPeIng7AgSISVLEXBHsPWj8N7o6yIefLsBEOVOmVP2gGeOme7ju9/9rk/LQBf7ueeeu9ubyBbuD9t79B7tiw5eAMSU2bJ4sGzSg4dby0RWfK9W+40sMr8T655nSYLfA0EkToNHOCltRkTEJIDwFBSVv4QES26bhPqujTZnVIsdNXmUTR8z0ga1DBIAStiSzdtsweq1tmj5cjXklbajtd2664f7OkF11fUWT/cpW6xiNr0OAaDW7a+noQeqFBLhOGyc6/97ICkEKJNuyBO/K4URFj4BsSyMSpAsQAhwE+ZkCXkLWwBUIQ08CAzzZ7XmEAAOVX6bH+uZde05Wy4A1KU0WK2aQgQQIKyptLz4BcUUzhelIcrinQLP6zfB8mzRl1CbqARZzjpD+AWqwvlP/OUAGwXCMxxTBtoSQsQx3eO/e4v+LTiAIiWj9yll3uexFFSHTrBDwezvjPfvNgAU6ooNCvXHPvAcv6lbrPTgeSFQFQDBzOSAXAAIAcfUKYCJezmuTI/flUT6nK+k8M5AlfkIaYV0OM9v8sT0C8Qx/eQnP/ElE0KAdKU3CCK4FkDO6DeCqo8+9hiLibfoao+mAxsAAKRXFYTX8eqwrhjygG6mjACG4It7LQuSFxhgZRldDnb0rqySj4uZvOtf3MDbkCBEFJUTdNOJ8eBRXS+xILBzJOWnciEtf46Dvs2PIyDF97C6PaciAITncmAAUKhbf7/u7/+bIOd///d/94V8mW7jy1/+8u4uSyjIDeoKWckzob7eSarM9+78a8M4jo6j8nzt9Qjgsac7Uy1JN6ic/Xp0rz+DzvN/0XPRQtZqF7q3KMORtoMhQRlAnrbKYPd7KA+qWmlUbkyPsPse5YG9/uv7rUcqfkfX+Bnt2cI3hY38uFHov/vSE1E2DJYhaB1Dh3bXn7jHn/N8egJ9v9nr/fwRgMsr+d23BTqQOj+oJ0KkoIqJpCUbh1nTxOkWS1cJmEhRuaARe0hyeMPloTdfNnsn0pEgQDghChgO7fPKKG9MfZdU3orrV1jnimesurfHqiRo6iShhlSnbHxzjU0f3WIzRg2ykUMarb6pwTZ2dtmTC9favGef98kMF73yig+B78n1WL6gFPl2MYtDIQkcmCRsgcIx+8BYlfcExhhooUB6vI/96x2TByZbZOg0k8wRJM0cQsEbFCjkvbLBINhYpBNPEN1pYRbXSsb3vRrdmvaCT4TYrXoBAJXdA9QHPFRfxPkUpDgwcGOqE3faqIVTIj5IUM8QSqMcwIGRqoGPUkqhzNgbalsP62KBctW3kTZeoaLyQLcC4AfFQ5ZSsaLyIdUjy5wUUVa+6CWoxVu4BLbMe6bC573U7/5goHcbAKqkynpnX7kFCtcQgnQrUafE1VDPCHG6TOkqY84r7vFuJgl16jnwU6h/fgeFF/iH40oK59jCMfv+G+/CS8UkinRzEdCPF7NyolDu472c4z7mmmHm7EkTp1imCsSCF4W8KU3PxgECIN2GlzAKeaY+8epoU4UTEplT+gXAkcrFXyMQ5Dxc6rGUjtn4DW+i4Jg0UblXwpQZCapd6B540o0CEYoOiQZ46lXbYYZpeBpZC8zQ25z36CoDcA0kAKJMK+s11C3dk8jEK6+80sv+iiuu8C5V6gNwSt0jI0LdQOz5/fug8B1QyAMLTj/+6KP2vSv/n919x112773325133CaQvd6mTZlmCYHnCNz0Wk93zgeT0M3X09Ot79e+u9vyubxPiQA47S2W7Lc3/dZy3T02dMhQyZeYx0PdfMvN3pYqDcuQh9350r/fBSziMt6va6WS5JWuA3xcfpCGNgfDfBbP+2kMcu6Ltsr0SqTnz4h3aQ869j/tWWqG+sS4CG2qksq0ZfS98tqtsvjpT6+ya66+2u6+6x6786477a477rSaqmobNWa05HjU9kk30IHUu76vIoV3Bemj9icIWtY7Q897ErWWGjvbJp/9AYs3jbRSssbvpyiSQou7g6D74jzeOik9KTWP21CjZ7h0TAgcgdWrxhjPt9uOp++zzQ9db5liQczAe1GCIkASvMHM1TqflxAp1zTbjPM+b7ssa6tXr7Y1sj4XLlls23fttLyYvL6u3q2dSeMn2bgJ42zU6FHuWQkNnurjOCiAyga4uxHqXBAU7zSRv6LKB+L9WAF0f6BgmKEVTwBAiPyFe2DsSsubCR+J08DiZnQYygcK1wEk8zZ2ehB0ayxjteWCFXsZK5OS4M6plkrWrgbHLNEZ3VuF4FQ9AjjyKrPQBZUSvyDkmbkZxQXexqPH6KxUL2BU7+Nb4kUpmUglsORFQW9iDhXaLn0WTMMAz5UltFA6CYEhFyRcr6gCgq6xriM7VgBJW1R7r0/vtiDot0L9BRjH1DXzuBCkDCBCUBJvEwKog+Kr5P/A15wL598skU4IuEUJEWcCEGKxXmZRp7ssBNlC8CddMv/4j9+ymTNn2xeu+KzqQiAlVS2wHRNYUZ4OIAia0gAAgVeYb4ovY0mKkurRlY9O+EKS4sukZGK6nLcasVlDNmNNtWkpSoFqnhfYoju2R/nt6ClZW1u3dSjrBY8NSlkekLO76JWwtF48Hs2rJmmhc5JlBdoDgftwJe2F2CKzjOTuQI4Cq+QD6pJ2TVunDuguZa4zRhMGryCygv3vU67tjSp5iDzxuyRdtW3zZlsh2c4nBt4d3Nxik6dMsURKcoM+fBEjKK/+5dVWlPIH1Hqp61pjc7P9/d/9ndJU3QhQ/fk3/8yOO26uXfSBDyu9XvveD79nM2bOcC9mJf+HMqINOcG6u+s8oqJ4FG2p3Aqz8D/8pjalY2BtSn/kpCRAFAMo6bvCtaTzyWvLvpf0lAelQIr+fmYzxzhkBOa//Mu/uAePXoAg8wP15gneR6oK4Et3LnjlFZcHxUIkP5MyUiZNnWTDR4zwb4NCWYfjN0sHLwDymA41RAGeYsskm3r2RVY1crJ+V7ul78PgqQxcZggjKayBIb1bTFgWcqd7BK4mZdYjYyXbZOc22/jIb631uTt9dmFYC67C4nIshCdCeSpJUTPpXm9tg0394NetasQkXZQylXApIDj1bHd7u61bs9ZjJRa9ssg6VS4wFYqAriWAAC55vCIEkwZm6C8Qwu/+598JogHQ6EO+2IgHQnmw3AACg0BGYjGwwqHQMMKz/KZ7gokScYd/5StfcW9SsCIKUhCPbuyw36zIW1s5abXEYfUBIDUlbWXrFO9grWSUHsuUcC5qpMgFgSOxVuQVguUYO8Z8QSWr01GmyFzjJatOx60unbCsUEsci6yK2VhU93kBLvFEZz5mHUqjo5iwTgGh7jizBbHgpISHj3GP5A+voaliabFOU1jvkPOAoDeiPyQARP26gOwTXIAL6jPUOx4ARl/hFUIh4nkBkOAxCsu4IL6CQqwUhm+WKt8NuCHGh3mtvv/977vbnpFieKng0fBOaMnSZfYfV37fpk2eYJ+69FK1w3qPLZMoUP3qG94kAIIHGIlFTE9adYh3mZD8btU8E66mBTbqe7ttSLzHBlX32oShLTZqaI1AkMCftqS+QaLGudsZjjT1Td2Smet35G3Jpl22tsNsp3ijh4k5MRYF+FE9vD0qP2Ue74+eSTtXYSrIYBO3McItK+XE1BEDDYCoA2IGqe+77rrLYwiZr6lyFGmlNxBifyCK7+0g8hWC7tkzPH/hywu9HOga6sp1UzFW1Qfi0wmBC1XW//4//8eaG5qsu6fHWtt2WSknvYH1pQdffHG+3XD99fad73zXHpn3qHtJrr/hRrvwwgvs0ksus5dfedn+87/+0/7mb/5m9wKvbKFNUD6Br6MekdeWFR6bCGrBrzH7p3/5J9cv5593vl4vgxrgo79eCUcAT1E6F7+jbuWJ30mP98CA8BMi7zv/+h2bMGWinXf++X6dkZcAoT/7sz/zPIb8QQCdLRjIv/2N7RAfMCYaQJUXMFLW/X5hL8/tlKlTVAYX7m6PlHlI583QQR0EjbooC9j0lNPWPHqCZQaNFKhgfaWoILDRXakBgNTQB4b0bkfIiIUob9HMrXoN3oKOLbb1pSet1LrJPQbOH6qgiGFgGbGGmBjPkJ60ZCptLTOPt2TdICWlilT+k+mkpdIZq62usVF9MRNnnH66HXHUkT7yAQBBNxJdBffcc49bywhr0DKgAEspKIMAPn5fQoL3825vGCKEHExLPA/zw6BcsPSYRA9AF7xblUKOY74LkMTwetyoKEGsck9bhbymPW+LdsrilYCmZFH+LIfCL9Zqw1NDCeDix8aNoE8fAEKowh/wl/7hCq4Re9WUO61e2+SGjB0yssEOGd1os8c226wxTTZ5VL1NGlJt07XNHF5rM4bV2ZShdTaupcpasklLl/KWKuTEq2zwBvlUtpR+TjnAe+hsqc3xC9e0RaX0+kTe361dYG+WqNewQUG5BcEYRg8S90HcDb+pf0aSzZ8/30Exc/gw83ngswMRghDvhUfD86RFFx08Srtiagd4lVmkAV4Q72xqabbxEyfYdb+81jrbd9qMWYc4ryVV7nDXm+0C4+3ICjgEXuUMXIxVzHIpzbG8TapP2vGTm+2oCYNsUkvW6sVINZIdDdpqxAVZfQfB0dX6XS0mqVFaNWKFweLjscPqrbm+SnJR8jQnQ0HgnW8Farl0wnOkd+GZdC+TSzb4UlBM9zGhZ0YZ5BsHOgYIzx/zLdHlzWr8LA5NGw/8EPiDPcTxW6nzgSZkW8gLe/I+dvxYmz5zutVUZz0OctmSJT6/2Uc+9CGbKV6ZOWOmjR87TjJR36l6bKhvtLr6Bmts0L6u3rZv3WpPPfuMe3eekiG8bft2W75oqR0lXTBDQOX2224XcOqys84+28uxEgiEcgteqcRe+A+gTDnCrdzz69/8yuobG+yw2XOc7/ya0iDFYol0MCT1I3xnVMu7yetE17iFlQ1uvuk3ViXjnHZEOshxwiD4TTvytPvSIr6nKMN/s765oa7BamoZIRq3X1xzte3Ysd3mzj3GWppb/LlBMoDRF+iSoONCOm+GDu5h8PpwpH2H7qltGmq1o8bJSlKBUHFqwNH6SjpwNB09+9aJd0dbWVY+4MetduUpWeqxnq0rbfP8JyzZ1eYCw13KeH+08RgMx4KbVGyZkRuZrDVOP94SDYM8bcfjZB6GFTMntcWV96SshWYJW0apMCEbSoE5dsLIGvqB8RTRvcTwcRQF7mPAEkxCY4B2M/TrMEtQAgGwVN4XBNWbZTSeCUKLRgaRFsoLUINye/zxx72bC2VGfBB5DnkIQo5zeL5QfizDgCBhxA7Ce3Vrjy1s7VWZCxhQfkIarkhgH5U9lm6eJi1Q6kth9DXcXrq7dCPB835NNdAQ67aG/E47dGjWTpw21I6a2GCTmqtsaE3KGlMS+voEvDbVek+tlES2mLNsOWcN8YINrUrY6Ma0TRtWY+P0TFW+y3pyOR+FA0BmoUpKgC/zvIkn/rsCIOqXug31y2/28Av8ikIJ/IZ1S33TbXrSSSe5EGSeIQLr8RhwD+AZnoL4HdJig0JagcK1cD0oj8r7UGLEViCwEdxM0gl/Bg8k3afNAkrHy0i5RcJ+4cJFdsQxx1gKD6EqN6+kV2/rEABK7AZAJO0Wstf479YPZwEXdJEziw+GVKq33SbWxQR86u3EiXU2qi5pdSo3eKdKSeBlJOYH3gb08yaxvYNveD2h9IhXzIrXWex34uCsDRIQwtPFZIk8x6hFchO1UNWBS9KII2kx5B9Al5asQ+7tCwD5c317yjO053COPcqLkYAEOVOPjOxiJnimv6A+4A3uYx/4JexDPVXW6e+T+ucNHu7u7LSnnn7aHrj/ATv5xJPtkosvsaeeecrWblhvo0aPtImTJ1uteDaRStj8F1+wv//WP9hdKofbbr/D7rn3HnvssXmW6+qyT3zyk3bYoYfa4bMPs+fnv2gjx4yWMTzV/v3fvmvvlx6YOm2qlxdthtGM9913n08SyWhdYtnIC91nzz7zrLW0NOm3OIa8ikdXrl4lHuiyDevX22133C5wHLPJUyY5sNokMJoT8L/51lvskXmPWPuuVhs0ZLBkcUayK6Z3PaX0mr0twAXUxMrVK6yro1tG7Sa7+ZbbpM9Ku0dX4s0L05sQ2lFZtxzXVNXazGkzbaLu7+zusJtuvdWmTJzk8pOuufPOPc9OUPufPCWaZJdnQtkfCB8c3ACIe3WNdZ6KUiyDJ060WErWma4hmHA4e2BVUs8NGADSWyWQiN+AUXxVcGURayld7rSdLz5ubasXWkZK0T1RvNfzo8rqO/bzAk++tlSiyhpnnmCJ+sFKGxaKKpP5jMLoIv/Tu+L6/tDgYXYAAUKfxU/xEtFPzhISBHNyHS8RjSEEdeIlAhQh9LgOVQoVmIk9xDvCuUrGCvdUbiFPeyPOB+ZkHzbezzn2NAxAHUqNkR7km0bLea7zzrDxvSikRx991IfDAqBS6SpbvStnyzukcGRFxAnmU9o+uzNdQRIKeZW7TkY9QvpE5UjiPYrhcfBTZDFUKYhSziZXFW3upEF21LgmG14dN1Qq8wKlBabdeyS2Q6HQvUqMmTjQz6sUpQzKHqOR0tmGbNJGNNdYJpuxQi5v+XyP7sBaUf164VCeygubfnIuKv3Xpz8kABT4ImyV/BF4gy38Dnu6e8eNG+fgnwVZ4RuWQYDPX3rpJQf9EF3DUEg/8BBKlz3noOA9qnwPG7wNccw7GM2IFwggRFdNCOSn3mrrqm3C6FF21x332tad222yhHs6FUWgrW3N2bJdYkN4UORsqaqBhwAW/SmaHNN9QPoVt9pY3qY3ZeyECQ02Y3DaGvW8jz6Fmal7z7PS8eAhNk72beI1RqcyV5B7dWSuEVCd0e21QvKDGhlUYNbe3qH3Kj+SrcR6YHThqWYQBjkknz6tg7YqXd8fDxDKmPIMe4h9KH88eChquoqoK4AP3V4oUxR2ZX280f7dQoFf2OPFYtkVvD4AnI9/7FI7/7wLbOq0aXb0MUdbR1u7gNDTNk+GHDw+Sbpr/isLbJ74+Jyzzxb/TLax48cJ9My2uccd5/X4z//6r3bPfffa/Jfm27FHHW2Dhw6x22651c4652yPDSV4mtXv4U/Kj1g2Bo/gwaT7tiAZ95d/8Zd23PFzrRGvqeqtqLq49pqrdc9Oj7u5/577LFfI2fSZM2z9+g1eN8+/8Lx1tnVYSmk+9MjDtmTJUps9+1DVedn+/M++ofSOsybJakA9XpxrrrvGtm/Z6vV8//33Wk8+53F8eHPJF7FOfDNGBQQvUGZx6biVa1bagw/cbzfecKM9LoP+5BNPtM9fcYWdMPd4W7Zsqd121x0++SVtnLaHwcPzEPzwZumgHgYP87sA0b9cd6dVNw61qsHD9TPtYAE1g1pQyTgDDQShZKTClJzSVj4Y8UFQGN6feOcWW3H/b7VvE7MgMHgiNFDlVXnwyHnlr+x7nUtVWdPM4wWA8ABFAMi/i29m82dFXOBHSK6PYCS/X0wAcwEa8Agx+RyACGsZrwnufGZpxjOEpcWwYxgRzxGACGbC2oVgpNCYKxVFYLTwPigwXbjnQInvoHuPvNIdRsOjQePm5B1BIPJehCVD5B966CF75plnBIgOtR2ltL2yXaAznpRwJ28S+CpvPaYiK7gCYJ0k+AvAivAuMQJDSolYsYxUVbbYZoeMqLb3TR1s0wdlrVaFXqX7WXsJtUKPJkStEDBIGozEMax9IA+TIOpOOiyoKzgwIz5oqUvZkKasFXoK1tPRGVna0oB4pSAAEOnT2RCV6uvTHxIAeiuEcIXn4GsAP7wOGIJvAUNYmcxCDQ9xD8A58DQEv/EbfuJ4b8KT67yDPfxH1/LMmTP9fXTD4m0dI0t20KDBKmnlpbnFjpBQ/8W119u6tWvsqCOPsJKU+aot7baKLjDxIFVCNojxAGxQTf3bDla5JZERJatN5O2QlqSdNr3BJtQKDPX2OL/6avF9eYafMap6E3vZVP8+9YLuwyBkwWaieRIyEqoSaatOx2yYeBOead3V5gqM7n338JB4xE2iCAAlJY+JNuN4XwAI+YWCrSxrNsoaL+6//du/ubHDnD4XX3yxA0qIeyjvg5H4TuIUFyxY4Dw3deo0Gzt2jI/kWrt+nYzQ1bZl6xZrbGp0L0hL0yDLAJSl8wAs69avty9e8QXJt8PcywEQGjd2vNXV19n06dMk62b7YJkxo8ZZfW29PfHkE3bmWWfoer17fIix+eu//mvvPiRMgHmrKGf4dtiQofazn/3Mzj/nPOmJZtUxHr6YPSJjEs/MOTr/zPPP2cnSGWefdY7H3/34qqvsj7/yVQG4S+yEk052QPbTn//U45imT51uP/npVXbBuRfo+YY+2VW2J+Y96sDknHPPsxfmv2DHynA4//zznQ9ot8wSz+hJDBh4gTLz9idGXr5imS1evMiOOPpI8cQldowMe9Kiq/n4uSfYzFkzHJivljHP1CgYJjzLdiA66KAeBt+LF0aXacwUCgv+NY6bYol0jfVKGRFvQXpY+G9VQQdCkACAHFwhvHRGcsZixU5rXfyM7dSWxQPheYsaPBHs/nb9h7JDhPjwQ34ks28JABVlXQUmYoMCM7CnEcIkNDa8LHiIUBYACITMqlWrvOuMNbjwEgGImJsF12lQDkEYBQEGcb5ScQSFdKDlHNKG2bEWaLhYL3SNMQEdwI58hHfwXYAlFNHy5cusbuQUW9sdsy4VQUrlLrhEr6QEel51UVA5C6AUVVfiJ/8CL0sJdwnvmnLOGns77dARNXbytBYbUhVTHcpS1j3Unc+FwXcCJrRFCiIqByqE2sUyZmLDXu8WFXeIVx0w9eWHkTpDmqq9u21Ha5f2ZABA11d+2kKKb0TvAaCI4AH4JfAb3lD4HBANj+MRZQ4peJuAWobgwtPcB5CBd6HAv1B/3iV9+Jp7K9sW3XF028KPKJwd23bayBHDrL6mxmprGmyyrO37ZakvW7rMJgksbewo2qrOpM/fA9vwFq/rvuPK9/p5+LLQYy2xbpvRlLRTpzXYMAGVKmIw/CEBbeSfnu6X5deQp63NPYzaGL7uw5YFhWgh8K1anWWTcRtah48zZtta8QSZ9Yghy2md07Hzs7a0ioAniBLCm7U/HiDmMwtlTHkyCvT66693Ty/eWwY0MB9UGN3HPUHe9K+PdzvBI+QfXsPAxJBbu2qNlPpyW7FyhT380MN29333WJuA5oqVK23N6rW26dXNtkrKvFQoumeTLi/kPp7MhYsX2jPPPmNPP/W0QMoj4rMddoJAwCMPP+SxaIOaB9m8Rx+yU0491WNibr31VudNlgUJspnfABlk+pHi2V/d+Cs7/4LzrFZtBe8eQdBPy4ik7cycOcPuvvduGzFsuM2Zfbgtk1x9ddNm+6PPX2E11dEiwHV1NdbWtsu9MEcde4z99tc32QUXXmA1jXXiAORp2Z5++jnL6r7DZITfdc89NnyE0pOshigfDG+8UixcS52TT+KUHnrwIXv5pZe9/lkQfOmypSqH+e6BwnB/6cUXVFarrV1AkWfo0cBbSDwpvHIg/HLQAqBouKaghBpfQtcSssLbuwtW3TzEsoNGyvpJ6+t4jscPDB3ujZScsboUb0cBkSpKMt+60VY8eb/FW9crf7ojltK+aExQRh6juJNIiLrKJF98TuKtASAYKghnmJ5nw2+I65zjWhAugAesLQQQYAhLAQalsYDMsSSY4wTFwfF6WSW4/rESUCAh3ZB2+A1THmg5Iyx5Nmy4S8kXVhGT09GAsbyDoOQevFbEhdx525328CsrrHb8LPcAEcfDiAfCv3Kd7Wq8GZ+FO6N6iMbhAFiUT/1jVfjq3rzNGJa1E6YOsuaYfqucKXuKkSB7S6R0v2qcCtPmOEjoOxG6wMSPdBlwQSUQVZHeRzcYcRRY7HRZpGTp1TVkrTVXttbuvKqU5QkAS7yHZ36nen+H4Lv3AFBElbwG/0HwIDwOrwJSjjvuOLcUAUN4DG+++WbvOuUeRlAiQEM6lelB4Tdph/YDcYy3FMWNhf/44zIg7rzdRg4b6t0SjYNabOrkKa6QNmzfYdVDJ9jqHsbriXc8LXFFIU9mLaGtkgAfxBTWxEs2ua7XTpvSbCMzvR5vBmexrhyL7ArLS7wpLbfigR+v3eAT90eK7xJ03fI8bQI+Vv4LYrpo0k6BR7Un4ojq6qtsS0/Z2rvyHn/UI/5E5hK/mBIgApaQLnJsf+YBAvwEQibRbU23EB7nT37yk75WIN5c6gD5EoAP9FZkye+L+EZ4A75iviL47/DDZtsxc+faEZKvBYGcXTt2CvR9yY4/8QSbc9gcO/qoo+3cs8+12YccKtla5cPi2zs7JLtKXk5ZyWoGw4wcPdLlHzKaQS8YiMOGDxMwmmdzjz/OjUTi0+gaxril/NjIDyMokZ9HH3WM3XLbzXbueedZYy0ByNIdyvfjjz3mBubMGbPsHgE05tlBrq5cvVJAZJudevqpSkd8qupIyJCkJ2HhggV27DFz7fa7brcLzj3fu9TgT5rIvCcec9l86CGzPT3yhq4J7YiuanQQZUQds/Gtr2551drUTqn1mmyVRJhkp3iDROlORj7SdpjbKgTH09sRQiUOhF8OWgCEBVRWIyQ4iuBVJrIrqCHvauuwZhV4urZOlRtZXVgxAAo0mntjdJ8ejECFb1zzN7siApyYD7XHDGI4MSeE7pUGVpLOipQnKc54uUfmUqute+Z+27n0RavROfra6VpBUCDwotsBPRFg4I9RYMQBlAWAmmceJwDUopsihuSeNwOAQuWHBujv4Nm+RhCESWWjqDyGmUDRCHS8RAw1xoog5gHGBO0z4owlAAg+xopjojr6YQEjMCJCDPK8K09sHO+NwvVwTwBs7MkT6XEN4YjrFose5cVIHCwVwBv3cG9tbY0ddfiRdtsDT9iiDdtt3IiRVic+YbjwxtWLbcmLT9qosSOtkKhW8WGjiAdUF8yDQj239LbblCaz02cMtUalV5+QFaqGx5wbMYGfgu7BSg7fwv9eJ+I3GCb6LR5UfXochoAPSg1+9O+DY2I9UlSR1Z5OxmxwQ5UUcqe19hR9zqHIX8WLuH/vZRboPQAUEYA58EDgo7DBR1yDN7GqEcDEjaFw4W+CbvFAMJqMY9oA/MsW2k/gz0D9z4V3DB06zOaecKKX94+u+olt3LzZAzhHjh5lh0vpXffb2+2ZBctt+OhxFs8IIpSKPkKwY+NyAZMuS2drLIexpvqvUg2KaywredYS77ZTpw6xqY1xyZRO1ay+sw+8KDPiMQESZSURB3pELAD4jvbwUR+RXWSYH4hHknRdKf/cKCJmLak0GLLPoq71dRnbtqPDOgoJ68BcUPniLwLs4K0EVGX0myHxyMJUjCWHozZDl/HkQQJA9dwVGWZ45r0r5cc/doOKeb+Y0BDFFeQQ9wUgygZx/mCjwHsQMpV4nB/914/snrvvtQcfetBWrV5t3fkee/yJJ3z07h133mE3iQ8/evHFlq2tdtA+c8Z0axk0yIYPHW7jJ4y3YQLUQ4cNt4bGBrXrhG3fuUPgZIp3kVVL9v0GT9ohsxwQEQ4Af9IVDJEf2gkym/Nzj59r199wg50t2d7Y2CS9KD6R3HrwkYespanRpkvW3nbLbbs9NqvXrLYXX5pvZ77/TIGzjPMd/Dt//ku2Zv1aO/mU99mvf/Mbj0Gi+1ca2jkQWd3U3GSHzDrE7mDQgNrf4QKD5Ic2Sfc0AAvZThviPLzAN8yZPUfnZ+nbav1d6JjWtjbX7Q0N9GSMsSNlGGPYEOYBICSN8L1vlg5uAISop6HoOrP7xrWVerqsu6PVGiVwSgIXzPHCYzzpXVYoN3+LSwbO6v+o4BAMHMVxHdB/4bwMEHI1o8rTU3oXiz7T7ZUU2LH8Ltv54hO28bnHLFvslFAqOlNFKZIggoubtSUQoOREla57XKikqq1lBgBIWlhP8R4qcn8BEIKC+9mC0Ai/92eDQhqVewQSyJruKAAIsUR0K+B6xUsEKKJhseHSpF+aeVsCwdBBYYR8Bc9NUCLsERjhd3h35XXSwZpAcWE1EL9E/AACFDCUUPnW6XpN02C7+V7cxFttbEudhHSPLXrqQVv+wuM+2iDeMMzy8Yw4RoBNn81CkniEJqS77JTJg21QTdr5hIkSsXZi8Ugg++gZ8qX8hE0lp/90BLjg2/yYsmMX7ekmw/PI3eIs7aQmxLNca0jFrEblu6O127bnZf2QF2717+b+16f3AFBE8EUgyjxsXme6VrmvvI6SQbgzipKRKVizBOLSlUp3MPcDmiqFKs8FxVb5Xq5BeDomTZ5s06fPsOefe9buvesOa2qstwmTp9mEaTPskXlP26Z166UIhtnaNWutsdRhKx+91crtO6x57ETrStSqunqtJiYZp/qqsW6bM6zODhuVtXrJGGJu8CUy95jHEeq1gB/kg/Oe1zv7yo1zEViiy0wZj+6Fn3XFxZE2QDt8ineTeKGsTiYkX9fv7LE2GQ0ebI3B4J6nlFXLsMCjlFe6jHJl7TGMDeZZY/wtHqBhWQEbvYMRQ7cLZGI44RVhAjxkSCXYCeXb//fBSPBIZf4ZKXiUlPUJJ55gJ4nfCBZmODuyFO8HvPjKwoV20Yej4f7ErW6R/MLj/ehjj/q0AM9Jtj73/HMuY5/Vnq4gQM+EiRO8u5cYILzigAEGuACCSJ9z5IN4pGuuucbLHc8QXXMYtoOHDva8dnR1eJfkmHHjbM7hc3zkGbJ15qyZPlcb959z3jlWL/DB6GRWKPjF1b/wyQjRCyxjg6d++MhockICqK/55TUOZg6dfajdd//93j0HKOM6ge+M9iUmCF1CHig32hV70r/hVzfY1ddc7dq5RrKdGD6M4faODu+uA0gzSIZeAqiSf94sHbQAiPkIymqIDP304cU6x3BRBElbW7uVCnFrVCVlJMgSQjas0wRk8gJXY8WSKmljAry8NAlrQ7GuE0tZoFlKEgTEcXiwoYRDSYAFBUMqTDSXUEXFe7ts18rFtuLxByzR0yoRlZNg6lNiOEQkM5Vzz79LG52IAJAEM+mhnJJZAaC5AkDN/hxiljzuLwB6JwiBBQPSoOlOwLVLIzv99NO9EZJf+r3vvfdeDwxl5BndDDC7f4vKhDTYByERKFzvz8RBAUFcB/zwLt7Nu4i9AFCNnzjR4um0tZaT1l1Vb88++Zi9/OxjVl0u2FMP3WO9na1Wk8zY2MlzjHXjXF8IBMcTKVmsOTtiTJ3NGF5naVUbMT90bbkAk7UNkZv+W0QVZ8jzngt7yM8pYcCI+MiDYEXY+9ls0tr1jk0781bgRq7BOvug9wDQWyfqF4WDAEZ44/HkmJmnWeOLrgTAPDwI37NHQMOHEDxMGuG3G1OSFUOHDLGTpNgKpW778VV02263Q6VUhkq53Hb3fda6eZ1tW73Eljz9kG1f8ZK1b99i42bMsWKmwae7KONxFlgZninb+6Y02WAZ3RkMKmcMXU8wuWdETJTobcUZmjp+g83vi7aKs7s3/5/r4iDkaU1Nxja1F62th/fAVQJALgfNu4vz8ZJkZlryTpuyTNdeF5O66vzUoVkbX5W3pVLM3/v3/2cLly11j88HP/hBB0GV7foPjYJ8g6gbuvtYvBXQggedLkA2wDbdQMgx+IuyoVx4FmMP78aZZ57pYIlpH5CzYSNkgZFlDA5hZBdB/sRucg2gAO/iocdLTpwN00TQ/fWlL33JeZ6QBjxyAAjAEfxOehgFACQGEDCCjdF4rImHgUsIBF7UYrHo3bp4eL72ta/5O5DzpAkYYWQk3h3iNkkPrysxeKTHMeETdN/xDBNcEu8ZjOLQnigTJh/96le/6uVCOnSf0f2HEUzZYIBjCFMWpMlzwdh5s3TwBkHLak4QFKgG6wKC/gxRWfcx4dMOCZdSR5s1DGqwmCw6ZlFl1ARWS073MsG0p6tnUSpq3thYkifRtZJ+hd513aiNDpSYDyGNF9qVh3bb/vJztvzJh6y8a7NEQY/Aj/Ija6hMNwoKVG3BRU70uKg/ANLhQQCAYDAYlAYajgPT0TCYORTGDA2UhkjAKSM8aOg0KkARCgbFQn8/3wioCUSagYHZExQH9be4acSAIBqcCxWlnaqrtXxVnU/5P2JIsy1+4gFbveBFS3a1WlWuy4pd3TZx9lF+j8XUYMQ3WKvDs2U7aXKjtaSi4fG8HYGvF+nfnve+JYIvVdfwg09toHIj7ojXJLNpW7+927rF43lt+1O17wGggaHAb2woH/gYyxhgj8eQkSrwLgoLBRCUE0A+PIvw5ti7PPW7V/WMx3DaVEYzHmFPyVq958FHrFA0t7DXv/K8bVr8jPVsXmOp7p3WvrPVsg1DbOikqRJzWMDKj6pszpAqmzU048PNo44meIeYmz08mRDYiOTewPApkidRlAGnPcZlUQBn9eZd7nsiuD+v76KjFm8P3bldMXys8JaeE4/jJarrzVlDx6v2xG3X2/1332pzjjrSPveFL7mnjXILyo7tD5GQifBJ+D7kE7KOWY+Rj8hGRj6FY3iN3wEYUkY8HwB3CNhnHzbegccS8AMIogsIrw9dSoAaPPbIWkAW4AOQwfQCgBXSZDAMAdYACIALdYM8JS08Pxi5eH5oD3Q/kX+8R8TO8T2AoM9+9rP+Hoi2QjrkiVGXpAd44j1seOlpP7yfvJIORkfwCFFWtCHShT/QD7Q55oMjP3x/KE/AHrNI0y5JFy8aZcXz0IHwVUyZiJDDu4YEHvZzKQwHQPrNLWWGOOifVLSkQ5VADh6erDWMnWJj///tXQeAVcXV/l5/+7bTpIgUQTooIEVBQFFj1CiaqLEm9mhs2HsMdsWS+NtjNxYEQRQUxYKFLihI773tLttff//5zt3Bx2ZFokAWdr5luPfdO3fanTvnmzNnZgadDG/9ZkjQ3sIdVE0AweKiENFhKz4ngdFeiMTHWdnFESbCZ1TL5NE1ZSqB8GZsmfstln07Ba6wCNkYyU9Y0yMSjtxMevUB+KipkgC5rofqrDkdW9fqoIG0CHmeBvPR9vdD4d/f2QqDo/W60RsbVnmhmmM+yhvsPP337/hXgx8lYaoKPySes8ISrHh0pkLzSEcSRC0QZ0PwI2DPgx8rVbVU/1Kjw54BPzD+ZmU2cfDcrGBKMFx+JPxtGhnaIX3wwXiMGjcBWa064qAefbB59XK8/7LUHalDAVccfmnMY55M9DrzauT3Plq3TnEnoshwRzG4dRb6tsiUhlvCk3CZGx+FmpS6S0jRroGUnYTJWTNJiYME2iX5YI0r8fkxYUkJJq8oR4krW8m887J/GvvSVhj/KxhBbOp1ep019Y11jfWUpJ0NMnvZHBKmwKJ9HBt0Pk//nK7OMLgGlfPNkgzFUBGOYeyET/HsyyPQuPmBaFUvgJFvvCD3uJecxOfLQar5wTj64huQyN9PXqEIPPm2zmgfQreGXmlX2ArJu5SqGPc675e1kjWVRMWpoU5b9ushZREPa/WrTAWwNuHB6JnrsbYihTJvEKUe7qvnQjaNtyVVJdK+VUi9y3VVICdWpm1ywbw5WPXVGPQ5qBHO+dM5aNX6QHil3rNs+D2b79eU8b4GUx9Yv3h+zz336Oxa1hXWLdNusf1kWfCcx5tvvlnrlamHBumdPwOSkmuuuUYXjGQ95PPU+tDI/6yzztLnabfJySM8J1Fg2ZNcEfTPdplkguFzuJdg3IaA8T7PSTSozbn11luVCPE6CQmfMflgHAyL8fMZc4/xsLNq0kO/1ERxpe+hQ4cq6eM9k0eWGX/zSPLGbY8YlyFOlAWUJfweSdJuuukmHY3gMwY1ldfPYa8nQLpehRIGjjtzOEwqmbxE6WNXkR3p69drgeZdD0WDNp3h4oKDviy5R4GkzYs2KPwnPx3baImPPXaG545RB8SGIYZUeTEqpPe2edZkbFq1QO5xM8I4Ahw2kftskDhjIkZtkzRM+woBYqVMb7T4m+A1VnbCHAlWKfOxm+umghNUYbKXwTFuTmWkipTaIFZ0GmKT+bP3wF6I+YD5PCs4w6UzccdiCcyeuxDX3fMwFqxaC29EmubyLdLwJoXMSB1wxRCWBj3z4CNxxHnXIJGzvxZjfU8FzunbBM09cVAPxf40y9zPCiCkIT0/vxqSb6GGUkhSJtIwaF2SN8thg+UVSbzz7WasTebomik/JxosAfr1qF6fTV1l/eR1/jbgdfpnz5SaTKrwWXep5aRqnr3nAw5oilAoBx7WU/FPuxkaw1P7ViHt15gPP8Owex5ErHC9tBVliMj7p9YoEc9ANLcJep76ZzTr01/anQBa52bgtG71pF7KOySxkjRwqJxrRpl1f/jOnZaL2NUEiBrwELZIzJ8uLMKMteUo8GYjLN8eu4Q5nBUgyaDdGg2gsxNFKFg8R3r/36F00wbc+Off4/Rj+8EfkHRJOWRIW8jyY5kaIbxLv61aBNYf004R7KBRcJu6ZdotcyR4j5pFkgX6ZVtn6mFN5cRnOYREEkAtCf1wqIt2Mdw01lwzcZq6nl6veY/n6eSD9028Jh2G+HO4K/3d0Z/JD/2l54fgvfSjCZO2myRmJHuMm2ERjN+cm3Doj8NhZosn3qd8oOaLssGkhzDPmuN/g72XAEmPBPEYaMeTcFOk8R4FiLw8KVCCo00kIkhlIukNIbhfC+S164Kcth111pVLelxcLExKTpz8E8LCnZcdtbK81EREXqKkJ1qO8Nrl2LRoLopWLEKqbLPIHO7oJJWIFZ4VQEqR1UvthTRNwqj3EQK0q8HeAcGKz94Bx47ZO6B6kx83hx9Y6Tk+TmM6GvhxxgBVvKz45sPVCi9lE4sk8fZ7E3DLvffBHS5GZqpU7pIMsyGQnrjLj6Ksljj6zMvRtMcgxOV6h3zpaXfPQ16CwkTSwqnJUricEkx7Dq0TuwjMLesH66YybP3kkvL+vdiS9OK9uZsxq9C/U8NglgD9b0EixLrKOsohhnk/cNXyhhg44Ej06tsXOdJIh/x+nWnKv+/mLMBTz72EjydNhidSKm+JNl9CgKV++VIi9FJB5HXpgaP+dAn82fno0iAbJ3ZuhFy+PwXbE3HSJhjwTe8OApRSAiS11B3QjU6nrCrBhIXF2ODNlU4m7ZGSCEm+/MlKFW6p0nIsnPolFiz8Hs0OaotDD+2B04/ohm4NsxCU5PEzSpOLFrsJJCDUwLC9ZJtoXDop+W/Adplgu0ytC+3jSHR+KQzBMVonDuX9mvTtSuy9BMjrfPhsJkTU8ar+oibGKwKWooSNDGcn6H5g8gIrRNjEvNJTy2uA+q3aI5TfGKFGDRHIyNTemzAOJRhclCoWlp5aeRnKN61Fyaol2Lp+hU5f9cUj8vLC4jjJXvr1UnouplHBNAjTlt5bQt4td/rm9GhLgLYHPwhT7fgRmHN+HOaerjUxb54KGvYESI7YS6LtDz9IM+bdqH4DZAdD+PybGbj8musQKy9CyBPWdVIo/zkzMJZ0Y6MnH60P7ofBZ1+JRDAXR7bLw7HNfQgIAUq6fbohKsvZvxvKWYPUNkUEH43r5d1zuw6iREj41ysq8MHKiNRP2obp5Z+EJUD/W5C8s87yyEZ886bNmPzlJHwx6QsUFJeiectWOLxPX3SUnmpGKIAnn3oGS1eswpTps6QdoiYwjKg3Km2CD6EotdhAQSCEIy+6FJ0OOQyDWjZB75Z5CPD9Sfg6YUNfId8p9YjSLshvkisOiPH3rgHt+6Tdk+8mmZKOoXwD8zZXYNQPRVgdC0k9ciFX7nukDcyLbMWSJYsw6dvvxX8KgwYMQu4BrZDlTuKEzo3RuxHtl6j5kLRxW3yL3QpTFw3M+a8hQAyD4bJNZnucrrH5b8HnzXdjfv8aQrUrsZcTIA510Xzvxxftj0UdISKPUROjhoMpRwVLIcEl5hMJHxLyvM/Dhae4oFIGXIGgkCMJS4hNMhpBPFZJ1QIQEdaaENKT4q7eCR1iS0qrZciJQ4B4pr/ESXTs7vOndPgdIia/LQHaBuddODDn/LhMVUz/cPnhcNybjrMbOFxGeyJqiqgmpc+8oB+LV27AzDkLpZijUraVSmp0ATepNy6XF8VeIbm5DXHkudeiaYceOKZjPRzeyCv3Y1JHAlpX+Jp2BwFitnTtKak71PpwSMMd5/opMUQknbMLXXhzdiEqhN6wPu8IlgD9b8H6agSEcXGpm5FIFGs3bMSixUt1D6PCzRvg83uxYMFCrFi5SiqA9Hp1AkQYFT5qgALIDnsQlHpQEHQjdEgfnP7Hi3DO4b3Qqr5fXltC3yfbPr5Vr7Q9qj1kG6F1SJMj9WFXwRAgt0TjZb8Rq0qiGDF7C5bEgxJ/HHnyXRWs34CFk7/Aii0F2P+Q3mjVtTNCmTlweTKRH6nESR3z0LMJZ8pGRWhKIEL0LHYvWCdN20miwjbz1xAMU8dN59TU819KqNKJFGHC/KXh7UrsvbPA1GBHehki5NgL4uwaNhKcxk7SQDse7gzOaaXCaUCbVmpsaDcUlEaIgtGHSnjCJYhVFCJWugnJ8kIkSzbBU1YAX2Uh/NFS+KIVCIlk9Eo8OpNdksB+XErlFMkXbYUkRkkSyY7Cec8/Xqt6zmlkeEJhy96dnO4Fs8B2NfhBMI8EPwbzIfBo7pnrdFSZcpycm77S8I2G05xxxtkG+fXqobSkELMXLURRWbkamHImToICR964JxZ3CIE06i6pV4lgNtp27YkO+2dj/0BSSY9Z1Zb1hkbxu7qcNSjWWR6kIYjKBXJkGt+TpJQLKZ61oRwx3UtsxxFz2NXOAvvfIl3gsHR98k5psMldslu1bYN+R/RHl/adEK2swOYNG7Bpo7QtCamHwmHcHALzynuX9ikUl7otHS22a2ulU5ffqBmG9O2BUEDeJb+Jqm9Evgbo2mRVv3jPaX+q3vUuAfOTkjrEjpd8d5JHDhUv3lKOgrAQPmkn182brVslJOV7HHjiaWjcrgt8br84L2Ly3QY9KbRvHESzLBIgaeNYOsyHxW4F7WtoGpDemTTt6y8B22DTJpuwzO9fA6PdZ1i/No27CrVUA1SGpR88rRqgZII9IBFOiaijAZIy495fXBPDJb0SNg76kZFYkGnKT1YDEginp+RTo0Su2kzjaI9IHl1vVQQE1/mhJIqL4IH4U+HH4OhPyJTu3C2sh9NTnWnMHiTkXko8Uqvj0BP52JlslmLV8wo5agOgp2z5xMkZp7vyGTd7WsyOPx+tT7sK/v3by/W6oQFilWPl5wdLZ4a+zEfBazzyQ+F13jfX+Kz5rdfkd7SyAMPuH45/jxoPd7wCQXnXlamgFLMPfi5WKe8y7g2hUso81eRAXDr0DpwxuAsOCvF5l9Qrv24YSRIdrBpa2FXTixWsF/z4JciY1CG+ShrOs05HpfasEkb0+Ogp2LKVy8CnVyK+bDr+dq6xLh/eIgcHNXBmGXIbGOFvSMl3QnJFXyRJ0CE2ibCq02Cxa8A6ZxpxHvVcrvMtSQ2W/2mvw09VvmF25AoL8Owzz2DRwkUI0B7QHUHEmwAXYsgWAhSUdqjEFUdxVi6at+2Mj19+GZlZAQnGqQkMm9SWw/o0nmfICWn7jE3QrtMASV6kjnIIzK0G2Cmsj3kwZvpaTJyzDNOnTJb8lOqGmPVatpFvpr50HNzIkbR5kjHpSnIRxShObF8PfZoGkR1j+yjYZbMpLX4Kpj01WhvWUbaRvxQMj2ERpp4TvzbMdDC9tQG1mgDFFspHJ5+/T1LojQkB4kqo2lPnNGLpefDFs5UwZcletsmOtBw0SOZP3lYveq/qPg+8SH9y4uzO/hP+CFX/iJPf5tK2d2guEOaa1h/zg4mUfLlJnFiJpHdE9Q+DC+ajlRCgQB0iQL8G/LjZQ+HHyKpLUrtw9jdCam7B/PUlyBLhEkhWIOLKRKU3Q0iHRxeZ8wZDwjrykfAGcOapJ+MvZ52AFplekTMpROR+TEs6hZCcUejsStGi26oISFD0NbKhovZH6kXYE8S6ihjOv+YuzJ8zSw1Nd4ykpjHL7WxBwBrjk/rCoQtlQpp6KR/x5wjkOl5h9ghY5iznqvcs58m4EAqpUsloFGXc3yhOm0GSpzhibF+ECJM6ceFWtml8MicvD/947FH06cddspXGasjbEyCJR+pMVNoH3uMb3xVgE5MS0sJJHx53pbS1Qswr/Bg/czVeGTkBgWAQXbp3g79BfUSTXok/hApJd7bUZZ+ki99PttCg33VugJ6N/chMsMMigUo6LSxqK2ofAZKvPlVZgaXjnkF44dfSMHjl0xK6E4sgzk0ppWFgo0/S4lcbm9qLSA2ExRFvHDZjsUs/MZSLNkOuEQJ0oPy2BOjnYDRCVPuyd8KtBR577J/48LulKA81RHYoA41zgvBkNxSJki//6qFBZhaCuXkI+TPgCfiQKx3sEw5thbaZQqKlhsU9XOhN3ol8CsFkpTTaUtCuXUmA5OXJu2Td5Wv0KyGSM5EN5W6/EKAEnnvrY6woLJH6oW/8J0GNT5/9M9G2flAomgjPWNgRliTWaQSI+gN+I3W+wuwB/FjK1C0TKSFACd1m4LVX3sAPc+eo+Y6nyiCY2/NwyUEeub6PapJ9bnTt3AVPPHI/DmxST+6YtsIQIKkzpqVm/Wf7IKe7il6wRnLBRq8SoDDCUv8XlwFjZ6xHQVTaKYkzLOQ84ZVz6SyGXc5MMSVASYcA5VYRoO4kQELstEwsAbKoxah9BIjTzlUD9Azii76Brq4qH5MvEZYGw6/DVlyQMOF1yEJtBjXJirQ2IKW2INRkyTm7iMF8tPk9CZDVAO0MzNAXqy1dZTiCVZu3YurGGGZulntSX7J9LkQ4ldfH/XU88MW5u7ULXpcbfqlfee44jj+kATrkeJDJISQJl+SadjmehBAgGhDuAQLE/8s8fqwpS+H9qYuxjrod14+rY9eEQCKGIe2ycWjzbARcCbgSUQlbaonUpbgaPEs++UnTaFbKYteJSIuaQZpSJewFziefQkLaKK6QO2r0aIwYOQaRhFverVtIhBve7PpwZ+ahdeceaNRkf3j8zr5NOVlBnHzsEejfMgc5Ui9ZX7jOGYmsrm8mNUb11PK+HXLLt71rwLoYkcT7OTQrjot8fLc1hvd/2IoNMaFgknYP66/EzaUiItJJsATIYm9H7aud/L7F6Ro6/OD1w+dlt05pJvlRuwfel4aeG/fVVqd7ltFJOqnxoXOaM+nRSZfQx6Pc31WNWF0AyQ/BMWRqgjJCIbRosT+aNWsCV2Y+kqF6iATrodybg1JPCBUieCql0Y55gjrLqkwIRqmQm0Kq+2kfw/olzifBqg2Y9r138RsR4UHSy2DJYR1I/CJEaKtWIZInLPdjQoYqmE4vV9kVx3NPxnbXwt4MEYwijCQ4lgWnGrMsjGMc6b/t3574q4KWvTjpwNCOrGvnbujRs7eQCT9KU3546h+ADv2Ow6BT/4zTLrsZhw35M5r3/g2aHjIQzXsMQHarziiIJCF8Q8Ni+8fVqaSmqL0NNyPlava86ZAhoyPaNaBdI2fBso1ifd1alkBJPIVyX1Ac4/YgwaE9nchhYbH3o/bVZNoyaG+Wc7X8uigXe/MRtx8REQQRTwBROWfvyJ2UnlMyWGsdXAEkJb1J0JHucNDCOedctCjzl9abs/h5UKhziieP7DWTwwSl0fbFIghJj5Qr7FK3EpdrfiE2fo8QTbdj1O5xc/pxQlX5FeEqTZK8DUIuSeNPWiIBJn6kKbsENQgMxsOhtwqRNYVRChphNAkXMhJxZMQTjuN5IrbdNT+nF6uAMnDCVnsTHqucgtXKut3rnP+q3qcXUZ14IS9DXEW4At9M/x4dew3AKZcMxRlX3Yr+v78QjbsPRKxBK2x2Z6FQSHqJOwOl8u6TvhA2lSZRVin1UoJ1tJxCSKjNqwLPnF982z9e//WQVigl34e0TPJhaLYKSuLS7roQliqmsck1n5Aw3YXewmIfwH+2zP9rSOudrPrgVf0rDUpCSBHXT+F6LXEhP3ERgDp1mUde59E4/q4l15AS0iOOJqlxkjop7qQcky7u6kyJ5ZOGzi+dLTmvwrYz28jUCDMTgUeSIBIgagQDQnLi0oCzkSbhoB6Hps26t5e03tzt3R+P6vL9XCOnsKhSeuqs/k45kzTEhQHxXXGxwt0BxmY+OBq+cnYhzVrXl1RI/Q5IXeBdI+J+ypG0OWfbwCJJSzLD1Ih4nVzOut3opI0Sl+BeXVIfuRUGp5KrHsXrx+nnnoeLrx6K5p17IZG/P4r92SjzZqJE3nelVF7a8rAuqB2XENzKyhiKKuNC0jkzUsKXa445NI3anXpq3K4FWyROOZG0S1pKwilsLi2XK5zSTnoXA9cCchZq2PWxW1j8L2Da41oEaT5cIqgSZcjgOjyRUunhxxBkTzhViUCqQj7IMPzJiAi5Snjd4lxpjr9rwzVJqydZiVA8jKxYGJnigglxqXI5liGQKEEgWY4MTiBNSdNGuw3Fj2TIYmdAyU+CrHRHt70Ic2iJ0kkEjNNP9qDUx0EJalAcbrm+pAyFEQ4tUDMnQovByCO7v2lnDCklP7QH2loex6otlQiLUORQCWt1RNKkjufVrnHaPPO0QzAvaYTIYjdCy5o2MrTqqiKm8oq5AnxGIIQDDjwAiYwsFMuXXuoKocQXQLnPr7O4dDsMtzMsThUkqW1pJIKlm8MoERJPbRLD4323tBGMyqFCux5sdbg4K421K6Vzubo0jHVCxrjNEHleFofsJQ1RF3dZZE4tLPZ+1EICxLaA6lj2oNjf4Ei40zfRISMRAAk6Dh3FpedUW11CBJw0cBFptSLSQHKqdVwavZjHp9qsiM+HuI9Cm3Yg278GtXPZRogsdgwOebmkblBY+MBp787leNXicc57YDnHpEceSQoZEmFUGPNhyfoSfS9Jua7FLd69arm+O8tewhahR3sLxrJ6cxnKo0kn/VIvknQidNTpb0lf+jWp95bd1CawjrF1UurjQCoT7cq4Pg41lDG5xWnlUa+jy/FKjQ1IjaTjMC3XM9NV64UEV7iDWFpYic3hpBBfcisPXNL5oxE0W4ndVzOlzXIF5OjHVknkDwWlKJTf4RS3i3FLh9OlbTJHarWzYGGxD6DWzQLj8oOxcAQbvngP4ZXTpWuSpapgrpsS9Tgzc7wiLrTPItdqJYMTsFB1Ek4VnIn7dFVNJUmPECKXNHrtB5+BQIMmvCg+pJF0J7VBpKhTcc7A2OliV8w2Pv+BSDyOL9aGMWppQsiNH5nUDFLSKJztUop9GcjgzBohQOXSw81LhtEtsxQnd2uCRgGnrFnRVL/ilUJWY9NdBJMWlWDyIoXgk8BvFAk3euYyLApnYYunvgpMTkPeEagPOv2gIHofkAVfnLROoJorkukfvwa/1jJWltr6hewrkJcr9SbJ4Sx5B/xUA7EkUrFyKXqP1ruJC4swcV0KlZwGL2ScNj26e4mAw7i6LpBLyLu8SNL43GQJ+h+Qg8NahVCP1D1VKW0Jh/6D4sd5n7QidJqCXbfVBKfBs8P23aYSjFu0GYuTDaSZCiE3FlFNNZugLULkOPOLK63bWWAWeztqHQHiRxZJpOCvLIE7yUZESI8IDCUM7E4ptkm3vQRMb3qamQ+TF7e0EUG4PNRqkR5RnZ7Unj99bCNAlGf84bR6FmngMvxfri3DCBKglBdZLu4H5pQvB8NYp4p8QZ1+HpdebYWQj5D0qpu7inBk+3x0aRxCjpRrMBGRnrawEhFGOrVc3oeyC2nozdvjFc5A5AkHJdTmqAakvyq+OqbDFXNMrrmKb7ncnLOmDJ8u2IjNQvKLEAK3WwnumP8oAfr9QSH0UgLExfXkgf8gQPL9aK6ZCnPNYvdA3ig1ja6UTmhgeXv5OxWV9+9GsRCGTxZswaergUofJ0GwXsR11iGXXVDb9ySHYOX7l99uCYMDn01cFTjl4AZomwWpzzFwodaU1GFqwwkOm3slNBcrII3seZmBE2wvCK4Sq70wqQs8CBlhPHGeO1VYuD6JinTPJA3lcm9NZRIfz16FJREvVqQy4XdnIFe+G07Z4BBdiYSRIQSOtpiWAFns7ah1BMh8w1zhl/oQ5zPdx6ENkjQUPNaB7O5qRIQITFpbgneXRlGW8iOkhs4cKmWPmibBCVS6fZRRSlhoWM+NbTMTUbTMTmFw1wZoEXAhR3q6vlSFvAoh3SRB+jKEXfgoIuSXPO/h8IY0+irwJBzacWwP8aRfFPvzTm3WZ+WU+5KlhOhWeD1YWZLAxPlbsbS4ElERjBEJl/F6uI/CDuAXQeRshpqx3WaoJEDUhzJqZ4V0xipScVunwWJ3gHyVb1kH6rmPhJR5zKvdGLmRQLnUkU9/2IRP1nlQqXVKakZVlWF94rke9QKPLkSl8xOKV6Jnfamb7fLRPJDUITAd0WXdrDLS54CaW64reEkDqQFC9p0nfA4BIlliwuWiO8Vd2x399IZkAF8sq8ScVQUoFbJVoEPzPmQIM5MkSJ4IxsfvyS6EaLH3o9bVTiaITmfouOVL1eM+7nQ4jJlmCVj892DhsfjYjBs4s3EMeF0JjBxpUUbeQsKwuTSKmfM3oDjGIQo/Ep4MJNxBxLg/mM8nzpmpRdMg7sPl0j22HInFBTrdIgA84rg4HBeR88t9ddJrdsdTcj8Fn0gut/yGCMOIxFksAc5cUoQVQn7KvdxSgHs7qRpnJ6A5cU7TYK5ud3enwrP4tWAxpxe1c/6f78iA9ZDOnOvRnAt51c17pZ4s2VyBb5YWY1PcMYj3u126DIJfiDvt2xLCnri3XEzIPdcI0uN2jveAsJCZmC+kdYzG1KybXBCUw628FnUFUCTk5/t1YXy/vABRLjsSdyEj6dGtWaipMlDtkYXFPoIfJYSFxT6Obe24nHAvNtpTVAgvWbmlEt+v3opiETylXGzQ86NJq4sCSUgMe8oUTimXF0ka50sv35WMCimKCBGKSMdYiJEIJfboabQcFT/q5DzJnehd1AC4UCphTltWhIWFFSh3Zyj5iSW4XALXjrKfY10H+YVbCA4X6SzxZmH25hgmryjDxqiQHak/3Fg5JXWNGiFvwgWvMByvVE3HpaqckJtYrOooz0i9okF1QhkWa7b84orn8jssJL4w5cb01aWYsWgjwtIJiEod57fBiRzeuEfIkrPYIzsCUWFD5tuwsNjbYVtci7qDtN4r1/rhQoQJX4YQkwzMXVmEWcuLUCJChrZYqilKJoT8xITohJXcUP3P4YOI3A8LoaEdhDNURpsh2gpJeNKj5qwzrmHF7TfoYnK9Qq6XSI961hoRNGsLUSi97LA/Q0KkAbYLARE5tnNtQQLtDLO6UJ7yodgVUnLy+YJN2BDzCmkO6IxB1t2kEBhVIsszXCWftN1xju7TOKmCTt3if0qCxIfXhwoJY6ucTxWCNXVFIYo8QZS6PSgl0RfiTgNtv9Rz0h8+FZfA6GxFtdhXwOpsYVEnwNWSHbA5T+oCdBGRIBXyGRTEvZi5sgJfLShGYWUCcfGilIde9SyuGiAKJ+dpIOzxoNzjk16zOA43iLCgSQbt1zg8FhDHfbkqRWCsiyfx9fJSTFq6BVtcOShBUHvlXiFZXMmaizluv8KzRV0E+YlHSXQKfmoQk24h5SF8X5DEO99vxqwtSWwW4l3u4jpBUn+lTkfFxd0pJD1SN2kPJlw86eFECh5ZZzncRe2lEHePH2XeAAokjEVFCUyYuwWTVxWp/U+xPMilFkj/OeWdRtzcHZ7fC2smz6gFshogi30FlgBZ1B0IEaGtuQNSGA6D0WiVw15BFMGPuRvKMWneRqwojohAcKPURbsdzt6hwbM8kYgiGI8jIIKBw2OcGcPdmigkaFPhS8ThTUSqnIiLeAwrtkQlzBJMW1WKQncetroCap/B3nrAFYM/GYY/xTlclgBZCKGReucV54tFdemGqFS8rb5s/FDqxwcLt+KThcVYUZFEmVSXqDhapVHvoyvOsz5TO6nm8c5v2vCkhIAzHA7BrpKHvllZho/mFWGO1M2tiQx5JqRaIaqL4lzZWjoGtDFyvhOnXqr2x8JiH4Kt0hZ1C2zT6RQiOuTcLFBJQ9PCuB+zC1J4Z2YhPl4axuIKl/SWfSilrY6QFk59d6XC8MVLkSUuW1xmvAzBRAVSQnhibpfuQl/gzsCSCje+WFqMj+ZsxA8FESFYQem5++GSsHzy5WUkhUglKbos8bFwQM6RFALCP4e+sI5KnZJ6QxK0XMjK1HUVGDN1NT77TurVylKs2xpHkbCTMiFN4SQXjBUndTUs9ZorShfLvU2RJBZtLsMXi4vx9uS1+FiOS8MelHhzEXEHJRapkFzhUPiOlwnhis8e7qrngJ8MZ4JxQGybItXCYi9HrZsGb2Hx3yIiMmLS2q0YvTQiQiCADJ0G76waznVz2D8OC4n5cQjsR7jiju0N/09RK8Mp7iILvPEEQt4k8vxJtKyXgdb1fWiU6UFewI0MCYdr5rqF8Lg59OASAiWBV4rwKYoksKY0iWVbKrGpLIGC8rCkwKN2G9zJXVc1j8WRKSLHJ0KG1hWcMBzh0IN8iRx62BGYK2cafHC7afAUTenT4NUomxn22j7O7gQJAh21ed6qafBRKXMdzpR3UNM0+B2B74+h8XnSbcJZSZ7vVq67OCtL6mYygmAyrBsA5wS8yJFKmeX3wu/zyit33nk8lZRvI4FEeRThaByF4QQKYylUeIM60ysmpCrBaewSqUfC4WxF5iAm1Yazx7QuyQW/80kgKlUzIfe4OW/ULoRosQ/AEiCLvR6/iABJtfdJI02jnZTc4BYTnN0FXhNHqwdOO6aNDhv4YCouggaon+1FbkhchhAWrkwuDXxSCE15JIKikig2lIRRKkSoQoRduaSFKz57UmF4RYCFhTZxM9xsN2fwRHUYLSxignZENG4NSRwBTpffASwBql3Y1QSI4BsjIeeCmfpbwuEAV0rqNe1yXK4ASoUwx4SwZAgBp32P1nbxJ0/p82Qfum1KkhTbpxv9kpIkuLQDmbYQf4+Ez7tc+Jx1nkNlXMEoJr/L5VNgvqSGwyPZomOWEnI9YAmQxT6CPUuAko7NBD8yChiN2vnG9ePi58h/vM4ZCCl+RPoBsTngB+wklc8bsM/C3wkRJh4Ksarf6fccEz6G4oRDmON24KUaLu8sdA+vKmj6ayhaXqdLB59zev5OefAxt/T6UmpRa1LKe3JW7dm6DpYwCdBna0uFAEVRIoIhOxmVQnX2jKNg4FspFaHEhQl90qpzHy6v1EX+TooQSEo5c9d+nvM9cHVlCgMOd+lCh/paeI33uP2E1CTuPi+hi9iT0GNyj3XLSQ9X8ebKvXEhQtybzAumR3riQkjcbr8IEwoqigx9UoSkH3GJOyh+/JIuU1/1zfNUD861YCqGU5UAheCVfCvtoaBMMS5+I3KNFciRyqxIfMxiN2EbAWJ9EjLA5RGcFbmFYMjLKJeX/JkSIBrDB+R1mFoir7VK2+ccnGse+UFSomRF3m5S3iltyfwkP64EUgkaPvuVMHvknbMOUSPEGYt8+z6p25oeDY5XaOQv9ZF1kkRK6rpP4ksI2Q5SqyTPsp1iSI7hs5MfaoHSwfDIm5Lih7mrpNG/PJ9BEibh8i/XFcHvOjUUAiRkXkiRkjXxZ2FRW/Ejk9gDSMaFwoiLS285EU0gLj1nHnmdX10yLj2LSBSVFZUIl4fVb0p6xPGofF5yVH/Sc+ExLn6TMfl4xTG80pJSVJaXi5wRYRaNobCgECPefBPRigoNR75PVfem5Hl1XHfetF7G/QowPRq+NCbGzZ07F7Nnz9Zz3q8JvMe0Mf6y0nIUbC7Alk1bUFhYgALJQ+GWQsmn5EnyRa8W24MC34EzK0annVcJGen3aoPOYqMmhud+KURjy8BBBq4H5El5xa9j48D7jvCgH0e5Qoqjk9UpOKQXH5HebzQVFGEgDbzcdwmxcegUqZFXpzALP9Lec0DqhEd+Mw6/xEmNEmNmqCRPJOjsLedI/Q5KnSR50TjF8ZxpSL+mnEZi4nWGQt2ALhiqWxpUXZeE0pCVhM5i90JLmC+CTl4F6yOnp5MOkyxUsRuF1pD09yvX6NKvGd/stnFfOq0/cjUhBD2eDEr9C0gdciFLSFGIWkRxXIDTqaNOnCQyjJ9JYngceKXfTCE/IfntlxsZEoPwKamn1FBy+NWJmc+wjgXkXrrjUBjTxzpNupSq0uyQYPEJUiePi3s0OmAHIeWuuc2zsKgt2KMaoGQ0iaLCQnzx9SSsWbMGoUAQPXp2R6dOXRxBIr0UfkjDHxsOf8CPKy+/AqvXrsa8efOk5yT3pEGPRiPai2rUoCG6dDlYNaxbS0rw0PCHMKDfABx/3G+FLMTx0isvIpSRiVP+8AclWR6/9MRFUDjZFQElDzr9nTSwFal2aWdB8uOR9MeF6PDI34sWLcKLL76IW2+9FVlZWeqP95gGowWiPwjBYd4/GPcB3n//fbnGIRz5J/46d+mMiy+8BMFQUFsmr1caK3mWWiPmoc5DyolDAV+uK8XIpVEUSTlmUiAkpJy0cabeMIEyH+mH01TvzaDAO7NNEH0PyHSIs8DPeqs/mDeSMWqWnOpsa8juh/Sn1GZMS11IeMwtNEEIBeU/h5Imzt+IiWtTOv0cbn1Zey24Dx5XPY9JL4FLSISE3NOGiINgee4ynNixCbo34jB0RDsMbrWWs7ConfD8TVB1vtuxft16PDj8QUybNg3169XH+k0b8O7o0UoKOnbs7JAC+Tf+w/Gqoenf/3B8/933GDniHcxbMB/z584XUrEQU6dNxcL5C3H44f1UM1JUvBUfTfgILQ9oiXYdDkJxaQlGjxqFk04eguKtxXjyyX+iRauWyM/Nl/DZM3KGwqoPRam0qHZpZ0EiQ1dRUYHi4mIEg0Hk5OTg22+/RWlpKdq0abONvNAfj4bIFG8tQamQuPx6eeh5yCHo1bsPDj/sMBx2+GHo0KGjJEkaz7IyBDKCWlYmPiVx1fNQ5yCCRwjPuq1hLNwaQczl1h4u7V/4ltmTllKWC06v2J0QIi096L3Vcap9l/peNM8VIctsCTzKcpw8GsrDX7+iOlvsJFjV5LXItyi1i0OvcoUdNLdUS9a4qHyjywrLMb+Cg55eh5hXe6d7k+OwXlBy4nLFVLnl4bAuy0D+aNTfrmEWmoWoUZU2TgrHxQVCLSxqKfaoBuill17C2DFj8cjDw9F0/2aqCRn5zgi8+vpreO7Z59Ewvz68AT/+dtffEApl4LprroXL6wh8NuQq1+RvzJjR+OiD8TjtzD/i048nCukoxXdz5uCvV1yJk086GWPHjsW8uT/gyquuQpmQjy8+n4gBAweiUaOm+qGSNHDoQT5pDXsb+K3+QokRjUaVkHz++eeYMGEC7rrrLgQCAcyYMQPPPvsshg0bhnr16sHnk6ahigCRzPC5Jx5/HEuXLQftSBLiNm3ZrETqgKZN4fX7Vd3MPaVuuu1WNG3WVOMzBMgQoroLIZ7xOL5aXY53l4dR5Aqq3W9UBA2Ho2iLwNk0/J+v9he+3loDGnWfdlAIfQ7IshqgWgDqfejUCJrbS3DsU+qgbpqV4nYWHny0aCPGb/AgnvAhWEVa91awM8FJ85VSsbi6uS8ppE5c1BVFtrsMQzo0RJ+G3JDY0QDBZTVAFrUXe7R9XL58OQ4/vC+aNW+mw1lejxc9e/aCx+vFypUrRZh7kYzHQKPUWExElseHoi2FWLBggbpFCxdiwfwFWLd2nfgBOrRvj/P+dC7OPPscNG0ixECuVZRV4OtJX6Bzly7IyMhAvQb18dvjT0T9+g2d4S9pgGhDVF5Whk2bNyEai+p1GhxTG0NHchEOh7Fx40YlIvzt+BGCIufGH38b/yQjPOcQmPHD+4cccoiSnBUrVmwjK0b7w/vEOeeeh5tuuhk33HAzTj/tDMTFf0lxMTp27IJrr78eN914I26+9Rbk18vf9gzB8/TfdRG0R0hKL5Nr9KRSASl3v5BIaZC5GaTUpzJppGkhQTJEauBY6vAKHc+N21uuOTSHUFlKOWvrwf8UfA903L+LW6LwPCHvJcnWlU0OVSVyNIb3O36/u/Ja+u9dc43diJjQ8CgCagtXIW00rZTiOrRHo2o5ONlWZ2FRm7FHCVCDBg0wT4hMMk5DUxFcqQTWrV+HSGWlakc448stZCiRdAgFZy1MnjYFNwgJePjBBzH8kYfxyGOP6BDYfk0aIVwpPf6iYhQWFKjdTzKewMYN67Fk6VK0a99WhQNJzrPPPYPNWzbh+7mz8e83XsWXX3+JW267BTfecAOG3f03LF6yQIRmAhs2bMATTzyBhUK0HnjgAXB08Pbbb1e7nEpJI0nRu+++q2SGMMRoqcT35ptv4rvvvtP7c+bMwb///W99hvlo1qyZkj+SHgMjtDgsxqEyDtVMnjoF/3rpBfTs0QsXXnghJk3+CmPHvq8G3Xl5+QgGAvoMSRafY9h1HTT9jVGTBp90uD3wirCh0TENNtkC85pjSkxwVo3UO/HvOJ4bt3dcoyzdDlIFHLJd9dtij4MaIJrbx9XsXoi31DOSAg7DuoQNcePSgLwgeX3bvcua3u+uvZb+exddY8dNqJBu+8JvTdpxtl0ZUv+CUjdVAeYUi62TFrUee9QGKC8rFxM+HI+vp05GWUkJJk/+Bq+9/AoGDhiA4445VqfxkiR88dkX8Hs9OKx/f8yYOhVenw+33nY7jj3mNxg8eDB+85vfYMCAI7Bu3VpM+GgC5s+fj5UrVqJHr57ICITwvpCGiy66EH5/EOvXrMWId95G38P74btZs/DYP/4Bj4Q95OQh6N+/H+YvXICJEz/DwIGDsHHzRjzyyCNYvHixxnPcccchPz8fzz//PEKhEFq3bq3E5oADDkCjRo2UhJCQfP/99xg9ejROPPFEJT20ATrrrLOU8JGkLFmyBJs3b5b4+m8jTdQG8UhD6fuGDcPo98dqy3HmH8/CqX84FYd0645+h/XD4gXz8O7oMRjz7ihpVFPo0KGDxksSxLCNNqmugm0stwNYtTWCVVvC8KXiyEqVw5+KiIsjlKzQXbf84pPqexqWa8u8lzqK1071/GiSE9DJX5S+Pi/rgdxX0eOQYmoheFZ3a8aeAUudBMixMJNODbUh4tQOSF5Cygts2FKMlUUR+UGtr7yRGt7r3uKEAmkd9Lq42UYMOYkIMuUbC4jLEtexYTaaZPngcXG2o5SLtQGyqMXYowQoJzsHvQ7thQXzFmDmrJk6xHTSSUPw+1P+gEAo6Kzjk4hjihCjgD+A3n36YPHCxVi/bjUO7dVLF+6SLwrxaAwVFeUqzLoffAiO6DcAM2fOQrt27eRaEl99/TXOOe88JRkFRQX48quvMaj/AKxZvxZLhNzcdPPN6Ny5M/Zr3Bitm7fEx598LOnqgZiQE2p7jj/+eJxwwglo2LAhWrVqpdqpkSNH4tBDD8X06dPRvn17JUEESQyH7zjlnQSIQ2arVq3CKaecokSF4PAdtUsDhOgZ4kMXiUTUuDkvNxf9+x2hBKl+Xh7Ky8MoKSuR591o3bYtDu52MJo2a4YmTZuqtogG1gyHPf+6ToBU6KQSKKlIIhpPooE3gSa+COoHk6ifIb8DSTT2JdHQ50Yef4trKPf2VtfAn0D7/BDqZ/v4KQjTEfErdUn+q6oHlgDtSbDkHZ2IMyGcFIGin/Z8XO+Jx9LKqNTNOHKDbjTMQI3vdW9xDcTt54ujYSCBRuL25/fmTyI/Iy7fHNC6XhYaBX3SOaMqiG2T0b5aWNQ+7FEj6EQ4BpdHCEwsiXAsjMxgCC5tr6UJkXac5MUtQn/K1Cnw+/zo1rUbxrz7Lp557mk0b9ECPhH6HMZgS0NyEfT5lCQdeeRg3HbHbTj6qMGol5uH+x68H++PG6er7y5evBR333M37rzzTsycMRMTPp6AJ//5pPSaaRcClJYUq33NJRdfAm/Aq4bTr7/+upIfkgxqbIqKinDFFVfodPaXX34Zp556KnoJISOohfnss8/w2muv6bAZZ319/PHHuPfee9Xgmfdp/E2t0t///nclPgSFFWfDPffcc9JI0iDapXZPHAakIbSuCSJ+OInbXTV9n0vbM94LLrhgG7kyWqA6CyEAqUQlCl0ZKJfGliaXIdpleV0IS7mwenFdH9qM8YcjpBykl9reco3p90Qlj3z99CDfjfa2uUWC1AV+H/RrjaD3FETQSxvBsS4usBnn9hJS6lwVmhvnUmNSnvKhyO+V9ki+86qnCPN+zbslavs11ider7K/h1eyz8VFw1LZOAcuS86z5AEXV+mUxp1/Fha1FXuWAEVi8jG5cM+9w9ChUyecMmSIfiDST5CvzPncktKQcE0fn8eHa66+BqVlpSgTl0zwSfqRnpUIfxpRu4XgZAQylEyNGTUaXbt2UeJ07bXXYIQQp9zsXCxeuhj3CPG4jQRo5kx8+umneOapZyRWEooUykpLcMttt+HiCy9GIBjA5X+9HGPGjNF1e1g01LJQS3PppZfiuuuuw1tvvaXanb59+25b3HDSpEl49dVX8dBDD+nCh5wFRsLFWWAEZ4FR23OVkCuCYZJccbiMYbMNlReB8ooKdZFYhHsRCiHzITMjpGsAed1cqTipQ3HZ2dmaNjqGU6cJEJlztByVngwkpIx8XKckFUdSGmQuiEiRw9V16Y3UQFfT1eEiljnrHU9Y/faea9y8NZGUL0dki9yCW0ggh8B0RegqAsSaSWFrxc/uRhUBIhMVps2FCpUA0c5Rp8VLffMEUC4viysw+5QsVb3LJN8X3y1/7IZrclJ1axdfk/on35d0MyQ/cjPl0c4G9wnTvcNYJG4u0ck6amugRe3FHq2dugy8fEBlZRVYOH8Bvp0+A1OnT8OU6VMxZcYUddPk97Jly3QIyCW9+FBWCB6fFx998hHGfDBG3HsYNWYURr47EiPeGYFXXn9Fh6ekG4wG+zVCdn6uuHysW7dOcxenrYzPp0SBUL4n17lKLkfsdfFFSRcFDAkV73NIi0depysvL9ffnFXGo2pqmBcBjxz20jDknrnPD9+QE4bXuHHjbX54JAkiQaKmKTMzE3O/n4tnnn4aTz3zFF568SW8+OqLePFf/8Kjjz+qWquUEMP9Gkn+hPzwWcI2LgIpS/iyEPB6kCHF4acdmZQ7F870yYv2CUXgXkdShXQNOhd7pXJPF9aUcy7Vv3dd80p+JF8UNsyXONYzt87Cceo4ayZXtra1Y09ASpltC/eFE/Ijb0jfAjXd8Mpb8AblXDpqUk+5ijK3uNn2Lvluxe2+a1X1Z5dfk9/yx3mVrI/sjAYk0xmSP58UB81+vFIfbftkUduxR2sod58QBiAfDDBt2lS88vIreO3VV/D6a69u52g0zEZdyYt8RIZw8DzdkUwQ1KJQM0NjaNrmHHTQQWp3Q6Lg9/u3aWr42zzDI++lT1nnkfG88847asjMa9TSvP322xrufvvth6ZNm+Krr77S68TWrVsxceJEJUkc8jJgmhmemQLfqVMnjYvhGyLEPDBtTz79JP7vySdw7LHH4tabbsa9w+7F/Xffg9vvuAMXXXQxFs6bh6FXD8XGTZv0WcLkw0IqE+uD/KngYfHIbw5+SZPNu2mQm3JPKyAdz6k12auuyUFyonnVPFn87yEvZZurIkB8Ofr+0q7xjW33Lvl7N17jcbdc03/itp3ogXnk0cJib8EeNYJOJbmOTgxffP4FDu/bF1ddeRWOPuoYDD5q8HZu8dIlOhx12GGHqcDPzc1Ft27d0KNHj+1cz5491TCZs7M4vEXjZBpCk1jQvob3uQozDZf79eunM7FWr16ts7tITuhIVCZPnqzr9TAuGkFzphUXMKQx8/jx43WWF+1uaBBNA+T33ntPbXo4g4sLH3J6POM85phjlORwmI0E7sADD9RwOE3+pJNOUg0SwXskMIyP2qPnn3lO8tEDv//DacjJzoXP74NPeo8ZGSE0arAfsnNz8JaQsP5H9FeNEe1/DAFkGIYUWVhYWFhYWOwc9igB4jA51fmffD4Ra9evQ3lZORYtESJBMpHmpkybolPIBw0atE17Q9LgqPod7Y9xFP4lJSVKOjizi1tOcIo67XBIZJo0aYIWLVqgZcuWOqVdZ3/tt9+2sAhqdXifmqQPP/xQbXkYL4fR9t9/f5x99tkaLjU89evXVw0TNT8kICRinJbP+4yLjvc5VEXHvcB++9vfalqM1oZpZvwGnA338SefCLkKoF5+HoKhDOloeVBcVoIp06fg32/8G7n5uWp8bex/jNbKlIGFhYWFhYXFzmOPb4bKmV5vvfOWThvnGDJ3Tq6uy6dAp/aGmpp0olAdRvgXFhbihRdewMCBA3HwwQfrMxy2IqE577zztiMJJrvmaEgQCQWHzTjbi+SJ4DP0x/B4n7/p32iPqO0xw17GHzVK1NDwHhdE/OCDD3D99ddv09qkp4Nh8JnyrWX49PNPMemrL1FWvBVRE5e4QDCIdm3a4hQhP42bNtkWTzpMmBYWFhYWFhY7hz1LgESwG8FPDQuP6aTAwFynjQ5BMkECUZM/Eya1QJwhxWfoj79/+OEHnTZe07M1gUNenJZOpRjD5DM1pW9nQeNnEiJqoBgeiUtN4aVikodkSu2ISkpLEIlG5Tfz7EZ2Th6yQtnw+uU5L40Of1laLCwsLCwsLH7EHiVAjGpnoqOQN4Ke/kmASB6qC39Dfng0WhH6JckgwSLx4b2dJUB8xsRFx7AZ1i8FyY+BCacmApQUApSQPxpJSsy6FYhqxcQ5PiWP8v/O5sPCwsLCwsJix/ifGu0bAlMdJCEkI3S8/1OCn8+TUJCs8BmC53yOQ1N8hs/XFEdNoD9DfAiGubPP1gTGbwgPw2F6f4rAkPiILyVC+lbEGw+kdYYYWVhYWFhYWOwa7NmFEKtISjoYfXVSUF1LYohDdX+8bjQ2PE+HeYZHMyy2M2B4Jv6findnwSnwTBvBsHheU3iJmKP9cdgoXwefMa+FpMg55yrZvzQtFhYWFhYWFj9ijw+BpYOkYEfRU/NDpJOSdPA6rzGcdNLCc0M+zPWdIQ7UHFUPj8dfCkP4GA7DTk/PdpB7DqrIkhAe+kjKn/hWasRBMrNoo4VFddT0HWlNkcvcM4/1hgt/Otd/rEN6Lv/MvXTwGfMtELRT2xEYBteG4aKiTI+pqxq3/E6/RmjcEiSfS0/TT8PE/xN+eXkngjFlZdJlzv8DTFtVurkIoPpVb056nd9yQf7xnGHUGI6FhUWtxB4lQBYWFrsHtDcjweaRw7/aOZBPOxmNIyXXk/GEbiHj8TokOyXERqQ23B4vEinpYHjc2zoU6STdEHfeo6aS9/ib5CCZjGPa9Blo1bKlbixM4uORYJPCl9zix5AC08TwSKfPCxKSJp/Lp+TeIUEO0dIF9rYDh4/ZOXEjnpRn9HknjO3ASzvRX+ESFl988QWOOuooXdeLeTIkLx2puMSbktRJOqORsOaJCwFy4mo0FtVtargyMuPkasgECSPxU2FaWFjUHlgCZGGxD4CfsSErJEFcZmLSp59h7Zq1qIiGqY5EwB9CXn42Dj+8Hw7vfwR8KrzdWLV2FTZs2KBLT1DrynB4ZJgU6CQxJA3czPeM085Ar9694E658d13s/DeuPdx1RVXITszGwkhKR4Jk0tbcDFPhkPweWpkSQhIzhiuEjVu3yF8QblWlYaFfqprg0hChLEpASIScs54/kNrtJMEiKu4P/3002jbti2OPvrobUtZVCcsiYgzNL1k+RI8PPwhXVbD55LylUS3aH4ALr3kL2jetBlSVFRLJgzZY5nxPVgCZGFRu7FnF0K0sLDYLaDQNSSIW8Lcc889aNX6QF2Ec9CRgzDgiIHo3KWzanJeevlltYtr16697lNFbQj31aNGxCw9YTRADJPCnCuWjxgxAj0O7oFWLVpKPBE8+6/ndWHRDu3b44n/+ydaHtBKF+qklkQ1OlWkgOTqySef1P3wuJCoITrcol9Jg0T13azZGPvBWHTt3HXb0LcBw4oKYXrt1Zfh8rqxXyNnX73/IEDkG9Uu1QTmJy8vT1d95wrw3IvPpDUd4YowSspL4Jf0dOt6MPr3749+hx2uZdn9kB7IyshENBmT1EFJlCE+24hctfAsLCxqF2wXxcJiHwIF8ahRo3SLmD+dfZ4I+B5o3bIlmjdvjg4dOuK035+Bk4cMwQfvj8XGTRvhEekdiUTUGYFtCIj5TYHO81TCGYpKiKBftWYtFi9chN7deyIupOrbGdNRVlYifh2CYezf+CxJFffS4zpd/G3CY+hKY+S8oLgQP/ww11kCohroz+1KYsGSxdhaXExGpKTol4LxMz0E1wqjdqomjPtwHG674zb8fdhd+Mc/HsdD99+PW267GQ89/ACGPzoctw+7A3+/++/4dta3Sn4Ihk3yw6OFhUXthiVAFhb7AChwSTwoiKnR4KKa1KzQvkdE8ja6EI5G5F6FkBy/CGoOV/1Icgi19alyvKbER478TfshFfPJFGZMnYr27TugcZOmErobcX2cq6QnUFRUpISKaeHz3Mvv5JNP1m1iGBYJAjVVFRWVQprKNWzVYDlJUZDgxBNxITxbEY6EJXyJQPwo0VCzG2dF9nC4Uv2QOPEZDUf88kjHeDh8x+ErfZZhy33uy8d9A7mxsRmq4vV0R83ZtdcMxTVDr8VFF56vlkqrVq9B46ZNcdllf8EN19+Aa668Gl06d3EInTgTJ88tLCxqN+wQmIXFPgAKXkNWOAw1ZswYzF8wH14R7iQ9RUWFWLRgMd4b+y4mfPyxbq1ySLdD9P6cH+ZiydIlOOGEE5RE0ZmwjGAnoeI+eYf27KEb8r73wfvo1KkTunTqgqiQndESX4eOHTDinbfx5ltv6gbD1EZxLz0SkFdffVXPOfTE4bS33noLb7zxJj755BOUlpfCk3Jj0dLFOGbwMfD7vKoNeu6F5/He6DH4duZ05Deojzlz5+Cg1m3QulVrVIQrMG78B7rlzUcTJ2DxksVo0LABcnJydHPid999F4FAACNHjsTLL7+sw3wkZdynz2hoiouL9fnTTz+9qhQdo29DiPw+v9oaLVu+HO+IP5KwP5z6e0wX8lewqQAHtGyBli1aICsrS2fa8R1Qe2aetyTIwqJ2wxIgC4t9AEZrQfLCzX7VoNnlwZQpUzD1G3HTp2HlqhVo0rgJLjj/AvTq1VvXlfK4hWzM/wHff/+97qNXWlqKTZs2Yc2aNVixYgVmz56NWbNmKXH57OOJ6N27DxoJAXrjrTdwwoknoEGjBogmYnjppZewYO4P6NfvcBw1eLCmg+SChINDYG+88YamiaTk//7v/7B48WKcfOJJ6NOnF+bP+wHjxr2PTCESNEqeM3cu7r/vPrRtexBOOvl3aNCgEUaMeAtL5Jk+fQ9DY8nDM08/jVnffYeTfncSjujfH2vXr8Xrr7+Orl27KgGhzdHHQvRatWqlmxXXq1dP08iyad26tZITGkNzuPD444/ftskwQRLDjZD/+cQ/8ebrb2Dp8qVq+3PZXy5Dj0N7YNCRg7FxywYhWaMxauQ72LRlC7p166b5JIFSbVkVibSwsKi9sATIwmIfATUQFOoUwNRKtGjRUghDHyEl/TCg/wAc3r+fGhnnC5mhLQ+1FikksWrVakyZOgXffvstJk2ahG+++UbdtGnTsHDhQiUUNHb+6stJOKRHD+Tm5WDs++/jhONPQH5OPuIS1ptv/BtnnHYaTjvtDDRu0hjtO3RQ4kRSwb3wqIHp27evGkRTI3PbbbehR/fuaLBfI7Rv1wEzZ86AV0jDYYf3w4svvYgG9Rrg8sv/glYHtEJLITH1G9TDhx99hAH9+qM8XIGRI0fgphtvQecunZAv5IbDUMuWL8OyZcvQvn17fPrppzj88MN1M2TGTyK0ceNGJXpHHHGEEhRqgLjx8YABA9Q4m2BeOUON5ci0cy/BY489Bm0ObKtlRe2SW663ERLVXcpi//2bo0mzpsjPz9cp9SQ91W2oLCwsaifsNHgLi30AHN6ZMWOGDv1QC0EyxGElzhxPiRymAbPLQxsVxwbHK+I8IZ/+IT16YvDgwSgrL1OBT+FNckAbGdoSGaFOu57bb70dZ559Jlo1b4Wrrr4K9z9wH1oKyYoIKfjzBX/Gnbfdjg7tO8Dl9yq5evzxxzWuE088EXfddReuvfZaTJ8+XYe9XnvtNccAWlofznJ/6523hGB9iRtvvAlXD70al192OQYcMQBezigTPyVlZRrnn877Ewo2b8bI0aNw/rl/lvyQaDh5XLZimRok33nnnUqwGF/Hjh21fJiHN998U4nYI488onkjWbrgggtUI9VBCJux36EW7I477tB8cVK+2+VhAWp5sWxolc38uaUsafvkC/jUwPvWW29VeyfmmTBHCwuL2glLgCws9gFQcG8WYrBq1SoV5BT4FMAJ2rSQIdAJ+D9JEP94Py83Hy1bt1StUUFBgfpJh9Fi8H5JUYnOJuMK5TfceAMuu/gv6HbwwagIl+PCiy7CnbcLAWrXCQmXs2DiP//5T03LkCFDlJDccMMN+OCDD7B69Wr84x//kMaHTIJpTanGZuSYMbhu6LW4TMjPfUKuaF9EP1xkkDY/d0j4Jx5/ghKdt0eM0Gn8JCQeSWNK/LAMmjZtij/+8Y8aH9ct0vRWlQen8X/22WcYPny4EpZFixbh0ksvxejRo9V2iGC66X/t2rUaty6EGI0iHOZMuahqhwIZQfi9PiGHfnh9ATXKJho1aqR2TywrHk3ZWVhY1E7YLoqFxT6CBg0aoEePHkoKaGvTvXt39OrdGz179ULPQw9Vd7BcO7R3Lxwq13r07Ik2B7VRrc/SpUvx6KOP6vpBdHffffe2ozl/4OEHsHLNSl01mrY0S1YsVeHvqtJ0cKuWlMchVuxXGQLAc0MsSFBI1EgkVCMlj0bl+rpNm9SPL+BHbn6u2uCwdXL5xI9LSEgygS2FBUKuUmggRKNN27Z46OGH1N1z/314+OGHNf0kWSQ3jJvxkYzQNoe/GT6PqsURcEiMQ4VGa2MMmHnksFmTJvuhrLQMo98dg2dfeB6vvvYK3n7zDbz8yst4Xn6/P36crgjdrFkzdWboy4RvYWFRu2EJkIXFPgDVhJCACNmYOHGi2u9Q+PN3uqOAJ3gkQTDXOSWc5GHYsGE6XMWjcdSkXHPNNTrMxhldJA1dunRRGx+zwrOJKz1MnhviQUJGkKDRvobDdSRB9Eejaw6L0S+NkXsLaaOmiESJYNiff/65GmUzj7RHKiwsVK0R7zFsTnMnCeLsN4ZJf7xHTQw1Q4TJM+PlOe2bjjzySPVXE7jNx0233IR6DevjisuvwPVSPjfccguuv/56XHDRhQhLeVw39Bq1nWLa6UyemQYLC4vaDUuALCz2AVCIU/hSsBvywSN/pzuC143QN9dIGDiEw9lenOZOR40SjYN55BARnzNCnsbBHG7jbDGGRZshgvfN0ZAykxaec1bYKaecgmeffRavvPIKxo8fj3/9618aPp+hFoX3SVKeeOIJncbOKfQkQFy8kOFwWIvrCnFmGR3JEofbSJCo9WIYZo8vxm3A8JlOkiKSuZUrVyrZSi+bdHz22adoLXGecvIQHNiyFRo3aoz6+XloVL8R2h3YFpdccBFKSsuxYP4CLQOmjc7CwmLvgJ0FZmGxj4ACngKYM7ioleAwEjUtNDxOd5waP2fOHNXkkNykkxYjxOn4mwSCwp2E4aOPPlLiwxlVJCycUcXrnHXFRQ4PPPDAbVtp8DmSJ5IWrv/D+3yOBITrB5FsMX3U/nC2FrfsaNOmjQ4lcco6p8yTBC1YsEBJ2dlnn62aH/phGDRaptaK9kS01yGxoh8OsTHdJHCc7p5ui8OZWkwD/XC7ENoAHXfccVoOhPFnwBWux0ueSWkyQyFNh1vIVSwewfwFCzFq9LtYumQx/nDaadi/+f6aZ5IvQ4JqIlUWFha1B9YI2sJiH4DRslCIc/0bEh2eVxfq9EO/1JBwzR2SinQtDcHfJD08EhxCKikpUY0MNS8kMATJydixY3HJJZcoiWBcFPoMJz1Mc43gOcOj3/RrRHqcPCdMmOacz9IPn+VvxkHwmvlt4uTwHAlZul9e51R2bobKYbxBgwbp87xu4jGIVoYx6fMvMWHixygpKkYScXjdQoCYTr9XN4A944zT0aVrV3h9Xo0jHdV/W1hY1C5YAmRhYbFDkHSwmaD9D210jLEvwYUSW7ZsqVob05RQ8FcnE7UJXNV66tSpOlxmFkA0BCodibgQnZQL5ZWVKCgqQEVpKVJJIZWS/azsHNTLq4dgIAjI79qcXwsLi5phCZCFhcUOwSbCaGQo6I2mhoSB5+Z3+vBPbdZ+GCNoOmqF6Jj26mlOxVNI6l5qkm/5E+oDya3eo0/qqlT/5KnZhsjCwqJ2w361FhYWOwSJQTpB4NEIfB5pZ2OGpYyrzUhPK/NCV1Oak0J2mEuP/JEAGfLjlT9e4RNSEvJXe8mehYXFT8MSIAsLi52CIQ2GQFBzQu0Pz80w2d4AptuQHpOPmjU41PlwVesk4okYwNW0JYskQvKkECSXOOZ578i3hYXF9rAEyMLCYqdAkkBH0mCIjyFDRkNEMlHbwXSadPM83aYpHdT8ULnDlbTd4l+dS8qA+4sIE/K4JAw51v4cW1hY1ARrA2RhYWFhYWFR52A1QBYWFhYWFhZ1DpYAWVhYWFhYWNQ5WAJkYWFhYWFhUedgCZCFhYWFhYVFnYMlQBYWFhYWFhZ1DpYAWVhYWFhYWNQ5WAJkYWFhYWFhUedgCZCFhYWFhYVFnYMlQBYWFhYWFhZ1DpYAWVhYWFhYWNQ5WAJkYWFhYWFhUedgCZCFhYWFhYVFnYMlQBYWFhYWFhZ1DpYAWVhYWFhYWNQ5WAJkYWFhYWFhUedgCZCFhYWFhYVFnYMlQBYWFhYWFhZ1DpYAWVhYWFhYWNQ5WAJkYWFhYWFhUedgCZCFhYWFhYVFnYMlQBYWFhYWFhZ1DpYAWVhYWFhYWNQ5WAJkYWFhYWFhUefgSgmqzi0sLGohzCfqcrn0uLOo/mnz+f/mc68eH5+tHsbOpik9D9Wf39Fvnrvd/9lPS/fzS2HSbsKqKS3VwfvV/RHmevXznUH6cwY1xVET/pt4LCwstoclQBYWtRiJRGI7AZlMJuHxeGokBdVhnuUz9G+e5zmPBl6vF/F4fNt1HumqC1f6MX4J429nYOImeDQC3sRDF4vF9DfvmzzyGuOsHk963ujox5zzWXONaeVvxmX8m3gNzD1zTtCf3+/X83SYeOmPjv742zxP0A+fZdzmXnocJo0mLsJcox9znv5OjH+GzXNe473q5WJhYbHzsF+PhUUtB4WdEbjpgnRnYPxTcBIUmEaw0pmwKFSJnxOoJg0mHKZtZ8D4+YwhECZuHhmGuU5nhL0hED8Fkzc6nhMkPelx8TfvmzI0fs01Huk3PSz+NiTj52DKzYRHmDTwGmHSlo7qaWA4jJeEj79N3nnf5MWA18xzFhYWvxxWA2RhUYsRDoexdetWFZA+nw8ZGRl6pFD8OfDTNgKUR/425MIIUQprwghYEy6P1QWsIU70a8KpyV9N4DP0b4Q6j8aZ+wT9lJWVobKyUuPIz8+vMb8mD+acz9MfCYRJmwmb5+YawbDM83TmnnG8b+KrHm96PnhuwkqPk9f5m2D4LDdqhEy+08HffI5gWHyW/nhuypv3mTdeJ/iMCad6+iwsLHYelgBZWNRivPnmm3jooYfQtGlT9O3bF9dff/02rcbPgZ82hSYdSRSFK4UqwTBIFurVq6ekatWqVfj0009x7LHHonHjxhp+deFqhH80GlWBbgTxzghhkw6TbtPs8GjC4HHz5s34+9//jqVLl2LdunV45ZVX0KVLl/+Ig2kgUfrqq6+wZMkSJQht27bFYYcdpmnbtGkTxo4di9/85jdo1aqV5pVkkjDExTgiGAxqeO++++62cIjq8TIPpaWlmjaG06RJE2RnZ2/zx3ieffZZHHPMMTjwwAM1T4bImLwTDIfvgPn//PPPsWXLFpx44okIhUIaLgnUrFmz8Prrr2te6Y9u0KBB6o/hMc/pYVpYWPx3sATIwqIW46233sLLL7+M4cOHK1lp1KgRkomkCOtSJKs+XfMJCx3hf9sQyggpGdi6tQiPPPooFi1a5PjVf45Avfmmm9GlaxfMmDED99x9N+6//3507NgJLneVloFB8yB+V69ejTffeBOLFy9CEyFkp59+Otq3bw+P27MtXqaBYZvnzLVE0iFPc+fO1XScMuQUFeIkAmvXrsX0GdNx/PHHw+vxCgnahKXLluFvd96p6e7apaukxQTpBFpeUa5l8s3XX6Nly1Ya56qVK/FbCePCCy+UNC7W47333ouBAwairLwML7zwAr799lspv0QVyaD2K4VDunfHBRdcgMqKSvz1ir/i6KOPxiWXXKLxsAzSScaKFSvw+OOPK0EzBOi8886TMuuo/qi5GnLyybj77nswePBgrJQ0PfLoI0qumFeWAR1J1qWXXqphPvnkk1gm+X1k+CP6jmOxKCqFrG3YsAHz58/XePiM2+WWvLZEq9atlLSStJm08Ug/5tzCwuLnYQmQhUUtxttvv43XXntNNSF5eXl6bf3a9Rh259+wpbgIwoJE4FFT4XEIUZXCIhGN4pprrkXfvochKsJ0xsyZ2Fpc7AjJRArLVy+XcF/HYyKc+/TpjSlTp+Puu+7E/Q88iM5duimh0HCEuJCorFm1BrffcTuys7LQs3sPLF++HDNmzcRtt96G3r17KwlKyp8HXklHUqIQguFyhoFSLsYJrFy7Eg8Pf1i1Ua+++IrGUFhUiKeefgoL58/Dk089jdzMHCFfwPwli3DtVVfhQSEFndp30LBJfxg+MX3WdFz2l8tw97C7MPjoY4TUpDB69Cg88cQTeO3V17G1ZKsSkwclP4MGHolINIKvJ3+NDes2YMGi+Rgz8l2cePJJaH9QOzQ/4AD07XMYCooKcNlfL8NRRx2Fyy+9HEmXM+RkhrcqKiowbNgwJUEMm+9j1KhRmD5tOpo03A9unxA6IaeLFizAA5LPo444EgWFhRg3YbwQmkp4JWPUcL333hj06tUL2Tm5WL1mDVZJeI2bNsETj/8fcvNz8dlnEzHinXfglTKNCBlyK+mTQpE0eH2SlkQcvfr0xR/PPkuJEAmS0TAZZ2Fh8fPYXr9rYWFR65GXm4cLL7kI1187FNffeAOGXnsdhg4dimuvvgbXD70WvzvhRMwTIRwRoUskhJCUlJZiw8YN2LxlE7YUbFISQl5CDQg5USopFINC1C0EhmSDsl9ueOSPhGnevLlwywM33Xwzzj33PIn3euTn52HsB2Pl2bgSBJc0JwnQeLdq6EiOSSFCxFPPPoUrr/grvvjsM/hdQmIkTeM+HIfzz/+TDjtVCEkL+oNUX6j/dCSVKjF0IRiasKT84m9ByiMEL6pDT8yDEjFJZzxOAgaUlZWgsLhQiIMXAwYMwOlnnI52B7UHhEg0b3EA/njmmQwEV171Vwy9+mqsWLJUwmDak+Jl+9l2JD6zZ8/GGWecoUNcHJK8+OKLkZmViU6dO2j5/+Uvl8IflHykJH1eD+o3qI8zzzgTF51/Ec465xwhW80RzAjhN7/5Lf5w2mk4/4Lz0b5dByE7XinmuJLGjh064eILL8KZ55ytQ3HThZxOnjxZyE4Ivz/1Dzj/4kswcNAg+Ly+bUOaTKfRFFlYWOwcLAGysNjLEAgE0O3gQ9D9kJ7ofnB3HNrzUPQ4uAd69uyFHnLtoIPaUaYjv14DOSRRWVmO115/FW++9SY++/xzfPH1l1iyZLEI2g7Izc1XKpFMxIQQuZESsuNKCnMQQeqWMKjJoUaha9eDcd2NN2L/Zk3gFmbB4SOXCN2YEJc4nzHkhMM84twMS4mLcgl069YVZ515Nnr16q02LS4hQa0OaIlzzj4Pvz3ut/B4hXjFY0qaqkNoiPxRm8TwHELVtk1bHHXs0fjnP/+Bu+8dhttuvwVPPfcsfvu7E1BPiJnbI2lLpvDs08/gnnvvUbsdn8unxynTpuhw1KRJk7Bxw3rkC0lp274d2gkRCWVma36pa0pVkTFnuOxHI2c6njMMQzzWb96MZUKQOEyopETKRDzK0yRC4kcI2ZzZ3+G1f/8bRw06Er0P7Y1FCxdh+dLlKC8vRyweVY0Pw2L5MIxJX0zCO++8g/4DjsB5fzoXcxfMxej3x2D92rUIl1eqTRPTRWfSYrU/FhY7D0uALCz2MqRoTyPCnQKW8o7UI+WR3/I1R+MRrF+3FnnZ2SLMQ0I+OIDiVc3IYBG8tKu55eabcfutt+PKa65CcfFWfDvrWyTIXYSppIT1UIR6hEBwSM3n9pELoXHTxujQvr0I3QgmfDwBDw1/CIUFhTjplFNVuzR/4TwsWrAICxcuwcJFizBn/hwsWDBPDZRXrV2F3r16qc1Q27Zt4Av6dZiMtkannHoK+vTphUCV5oYUpzqYImqWCOYlIQni0M9N192IodcNxfezvkNJYZHaMP314stVw6IkRcrphBN/hz+fcy6yQ1lqaHz/vfdi3tx5GHbHXZrPoUOvFeKVxFV/+SsuvuRi7Kc2VozRIRKGUJCYtGvXDv369cNzzz2HMWPGYNy4cXjwwQeVeGQFMjB12jTM+na2kEh5zk27p5iUbxGmfD0Zdw27E3fceQeGnDwEl135V8DrwppVK7Bq5XIUiR8fZ4lJTkmEPvxwPP7xf08IKfTglltulTgewrVXX4uXnn8BvYTojh//IV58+QUhcyVKfghDfqwGyMJi52EJkIVFLUa6QOM5ndvtVYNYfrx0HBRypURQ017H68XaDetRTwR5VihTbvBuAsHMDHw26QvceouQHyFBd9xxJx584AE8/uhjGDd+nGpgaF3jEcFNm52EMCLaFVGDRHLlxOXB1qISNczmjLGGjRqiSePGmPT557j1jttw80034qabbsAtt92MO267AzfeeBNuvOF6vPTySygrq1BS4ZZ0MmwXx98kUApuSTZiqjHxVNGO/wSf47AS81+0tQg/zP8B84R0eYUkZGQEEZC8VpSV46NPJ+D1f7+Omd/OhFdIRbuOHdCxcxfMX7wAN95yI2bPmokLLjwfx590Aq684kr4hYw99vijWLl6FbxGk8KohKARjM8sFUCD8nPPPReHHHKI2mSRCDH9d0lZ3nPvfbh32L24TfLN4TZVWEkGP5r4MZ557llEolEMvfZa/PGMPyJDyFLAH8BFF/0FV155NY479lg0bdIEPq8fH7w/Voe2Du97GJo0aoKVK1fgvbHv4Y0Rb+KbqZPh8XnQq1dPtGp1IL786iudjcY0kqARVgNkYbHzsEbQFha1GJwGT8eZYJmZmSrgyGlq6rlwCIpk4s5hf8PmDRsw/MFHkJmTpUMqS5ctFRJSDo8Qj6SQpwx/hgh8NwJZGcjLzlUtxMRPJuK3xx0vpKYJGQfpClUfwks8iFcNPSVicZQUl2DF8hUY/thwNN9/f5x/4YUoLiwCOQN1OCkOm3GGlRAd0giu5dO2dVs14L3/oQd0ZtPL/3oJSSFWtDEa+94YvCak5YV/vSh5DGneli5ZgiuuuhIPDh+Oju07OsbYtI4WTJs5DS88/y/VPLkkUhIzj9+nQ4PUeuXl5mB/Sdezzz+P++67DwOPGIjlS5Zh/Mcf4vDD+qKzEKKApC8phGpzwRasXrcandp3QrEQq0suuRS/Of44XHTBhaqVqV7Q8biz+OPGjRv1yFl51K55hQhx2KssXImBgwaopmnQkYNRXl6KYknnhAkTsGbFmipC6gyjkarQPisWjaNF8wNw7nnn4qFHHkK0IizlRw0SyRj9kZFJWcqjLiFX8URc4+Q0+LPOPgtt2rTZNgRGmKOFhcWOYQmQhUUtxogRI/Dqq6+qxoHrzag9ikhl2uekQ8Qyx7BQWlqModddhwNbt8T1192o2gQKXQrat954C+PHvQ9PIIhY3Nligp+/WxzJSygrEzffeCNatmjtBMohFYmPpGbytCkicP3o2b2nDl9RKL/40gt465238ZKQmWaN90PCTcsZ2srQENpTRVqEPMlvimS3y4v7HrwPixYsxL9eeEGFO9P10Ucf4dXXXsWzzzyL7Mws9btgySJcddVVOtVdp9ozXCFh1HRFhIRVVJSr7cyWTVuwX5P9EApmqq0N7ZNoULxw8UKcf/6f8dCDD2HggCOFICQQS8awYulyTPz0E5xz3p9UQ+YiqdL8uLFu4zops+tw5KAj5dkLdJiqOplg+XPdHtoPnXPOObrGUCouRI5DeEJCyipKcfJJJ+GOO25HfyFezCNnoH00/kOsXbNKySQ1YB7mXXhNNBbDpxMnol5uPh79x+PIzMgUghPDhnVrMVeIIpcN2LJxkzwTR736DXXKf9duXdGmbRudBk9bJxIhEjOm1QyJWVhY/Dy2/7otLCxqFTi7iUSFwo0ClmvDvDd6FN55563t3KhRIzF6zCiMEEKyZNECbNlSiFHy+8tvvkKc9kLyb936tfL8RvTq2QtHHnkkBg4ciCMHDMAAOd+/5QE6JbusokJJkWNnJIRDBTswefIUPPXUUygRgkXtRSwW0WGjnKxsZAQCErwI35RjxJuU+9RuUDPDM8eOyBla49CSh9OzqgicPhONKtEiWaDFkmpI+Jw8r37kKkkYr3OYzOf3Ii8nD2tWr8Qj/3gEhQVFyMnLQSAjgJAQCG/Aq8Nzp5zyeyFmzfSxlLR0fo8fK1atwqiR76KivIwjakKpEpoW5rlBfn389YorMVAIEO1xfgrr16/H1KlTVbPmwCkvHkOBEO687Q50bN/JGZYkgZTyK6sUwhaJoHBrsa4VVFpeqesOlZeVVWmVHALjC/iwZMES3HTjTRg9ejQCQnIO6dEd3Q89FA0bNsD0b6fjhptuwBdCmjhcyWE5ljmf5XthHbGwsNg5WAJkYVGLQcFGEkRQSNOQ99Mvv8S4Tz7Zzo3/4COM/+gjTBOiQo1JWXkpPvlwAubMno0ktQMuIRESVoP9GuOUk4fgjD+chtNP/T1OP/0MnH7Kaeh/WH/hCSl4xB+nrpPEkAKQsLg8SZx6yhAOsAlBuALPPfcs7rzzdkya9AXOOOOPyM7PFZJBipJQTQhngMXjMSU8NKwmydCFFfmn4Yt32hoxfA61SbpIfnSel9zkcFtSjpyM5hAiAxIhR1tDg+lILIEtmzahoqwYpVuLEK2MorSkFGXFpcgKZOEvl12K5kLsqIlSEiVB+X1eHYqrKBVCIi5cVo5SnleUoSJaqQsacliLad2Rcpykg0SGCxyWC2nkQosVQmiKJS09eh6K7NxcJ89C/khKxr33Pr7++mt07dwJrQ88EG0Paos2bQ5Et24H48ILLsAll1+utkGxcBSTvvkSK1avwdVXXYWrr7gK55x1Ds47509qpH3bLbfq4ovjPhyPrSUl2zQ/jIPptTZAFhY7DzsEZmFRi8GFEGn/89hjj+nCe3SV5eVCFLbv6aeEdCipoLpBhTftR9xq3BwMBFWgP/ToQ3j/vbHo0b07PNxGQXxS00HSs2HjRhQWFuDhh4bjoIMOUq0Jh51IXmiATA3H8tWr8LGQrMXLliIrM1NXWO7Vs7caEm+bjSR/fMYZsqLGR4SyECqSL2qEvpryFQoKCvC7409Q3yQ8i5ctxg9z5uJ3J54kAjylK1cvXLIEd91xBx55/HF0bt8Occ2Wi6NSPBGSlMLkKZNx5623Iq9+feRkZ0shSDrlPjUvXLOIOpmePXrisssu0/zHEjF88+XXuONvt6NF85bw+L2aTwmqahhQH0abg9rg+utvVO0KbXHSQaLBqelcDZpbhuTk5DjkQwgRV7GOSzlx2G/wMYNx5mlnIuFyiNIVkoZNGzer5s3N9yTBJoS8cM0h2iLl5+XjhBOOR6P9GmH6jJm49957lIhxlW4aQ5PYlJaXYO6cHzD3hx/w5z//CUOGnIJgKLiNBJGU0Z8x2rawsNgxLAGysKjF4Iyrv/3tbypsueLyPffcs2244+fAT5vCmY74/vvvdVp6dZiwuA8VF/ejrZEZdqsOHeKqCo+2J7saXCmZ+51xKwtqu0aOHInOnTtX3f0RFPrFxcWYM2eOpt8MA1VHgwYN0KFDBz1nugsLC7Fw4cJteTBQolZVDrm5uRony6B6OTOeNWvW6ErYfIZx1tSENmvWTO2DCGrwpkyZovuTVYdJO8u8T58+21b75uwu7gXGLTdYDvSTlZWFFi1aoFu3bjolnzZAFhYWvxyWAFlY1GJQW2KmOlPbwNlNFLo1CfvqoNAkKOx3tFie8cfrjIfHmvwRvE//O5uG/xbUlnBjVmNfww1F1di3WlzMC51JMwnRT2k+mF7eM6SnpnyZcOjS815TvMYfnSnX6jD3zDnTUBNhTC97gn5NWgiGzbzxGsNjenb0Li0sLHYelgBZWNRipA9v8FM1Qr66YK4J5lkKSyMwKTyrC810f+nh7kwcuxokPsyn2emc2hMORVUH/RgiZo70Xz3NzBP98mju81i9DBhGehnxtyEw6aAf3iP4Lkzc1eNlnCaNhrAwzuph1lT25pxHhlE9X7xO8Fr6dQsLi/8OlgBZWNRiGGFnPlMKVEMOfg70SwFr/BuBWhN4z2hJKFTpf2fi2NUw+TVHk47qgp75MkTF3K8pbyRQJv98xuSpengm3zzS0V9NGhtDWAyx4e+f0jwRDIfh7aiZ5T2Th3T/PKczMHGnx89zCwuLXwb79VhY1GJQGBpQGO5I2FYH/VOIG4G6I2FJYWqELf3uSGBTEKena1eDYaenpaZ085ohCYYQ1IT0/Jswf6ocTJ5ZxiyPmvLIZ036GOdPhUXQn/G7o/LkfZM2+jPx8tzki9cYl4nP+LewsPjlsBogCwsLCwsLizqHn+6+WFhYWFhYWFjso7AEyMLCwsLCwqLOwRIgCwsLCwsLizoHS4AsLCwsLCws6hiA/wfOZCE0OmArBQAAAABJRU5ErkJggg==)"
      ],
      "metadata": {
        "id": "x6xnq9y4B1hA"
      }
    },
    {
      "cell_type": "markdown",
      "source": [
        "[그림 3-11]\n",
        "- 4개의 Dense 레이어로 구성된 모델\n",
        "- 입력 레이어 1개, 은닉 레이어 2개, 출력 레이어 1개\n",
        "- 입력 레이어: 3개의 뉴런, 출력 레이어: 1개의 뉴런\n",
        "- 모든 뉴런들이 정보(텐서)의 흐름을 나타내는 화살표로 연결되어 있어 **완전연결층**이라고 정의함"
      ],
      "metadata": {
        "id": "X7xzhG86B2I3"
      }
    },
    {
      "cell_type": "code",
      "source": [
        "import tensorflow as tf\n",
        "\n",
        "# 10개의 노드로 이루어진 Dense 레이어\n",
        "tf.keras.layers.Dense(10)\n",
        "\n",
        "# ReLU 활성화 함수 적용\n",
        "tf.keras.layers.Dense(10, activation='relu')"
      ],
      "metadata": {
        "colab": {
          "base_uri": "https://localhost:8080/"
        },
        "id": "bsZCI-bcCJ5R",
        "outputId": "ca227650-be0d-4bef-ec56-5af9dad1863d"
      },
      "execution_count": 8,
      "outputs": [
        {
          "output_type": "execute_result",
          "data": {
            "text/plain": [
              "<keras.layers.core.dense.Dense at 0x7fd000c80880>"
            ]
          },
          "metadata": {},
          "execution_count": 8
        }
      ]
    },
    {
      "cell_type": "markdown",
      "source": [
        "## 2-4 데이터셋 만들기"
      ],
      "metadata": {
        "id": "7hLWu7DTt-OM"
      }
    },
    {
      "cell_type": "code",
      "source": [
        "# 샘플 데이터셋 생성\n",
        "x = np.arange(1,6)\n",
        "\n",
        "# y = 3x + 2\n",
        "y = 3*x + 2\n",
        "print(x)\n",
        "print(y)"
      ],
      "metadata": {
        "colab": {
          "base_uri": "https://localhost:8080/"
        },
        "id": "T4Pd4PTdCivA",
        "outputId": "9a6d7cd9-299b-4cad-9f61-001729365940"
      },
      "execution_count": 9,
      "outputs": [
        {
          "output_type": "stream",
          "name": "stdout",
          "text": [
            "[1 2 3 4 5]\n",
            "[ 5  8 11 14 17]\n"
          ]
        }
      ]
    },
    {
      "cell_type": "code",
      "source": [
        "import matplotlib.pyplot as plt\n",
        "\n",
        "# 시각화\n",
        "plt.plot(x,y)\n",
        "plt.title('y = 3x + 2')\n",
        "plt.show()"
      ],
      "metadata": {
        "colab": {
          "base_uri": "https://localhost:8080/",
          "height": 452
        },
        "id": "B8bp9JofCuEd",
        "outputId": "d73e2856-058d-4a7b-cdc4-62881b899f86"
      },
      "execution_count": 10,
      "outputs": [
        {
          "output_type": "display_data",
          "data": {
            "text/plain": [
              "<Figure size 640x480 with 1 Axes>"
            ],
            "image/png": "[encoded data removed]"
          },
          "metadata": {}
        }
      ]
    },
    {
      "cell_type": "markdown",
      "source": [
        "## 2-5 Sequential API"
      ],
      "metadata": {
        "id": "_kSsZ2IUuAYz"
      }
    },
    {
      "cell_type": "markdown",
      "source": [],
      "metadata": {
        "id": "BST1zygCDBQl"
      }
    },
    {
      "cell_type": "markdown",
      "source": [
        "### 2-5-1 모델 구조"
      ],
      "metadata": {
        "id": "Fq1Jn_Y-uC_G"
      }
    },
    {
      "cell_type": "code",
      "source": [
        "## 모델 생성 (Dense 레이어 3개를 갖는 모델)\n",
        "# 방법1: 리스트형\n",
        "import tensorflow as tf\n",
        "model = tf.keras.Sequential([\n",
        "        tf.keras.layers.Dense(10),\n",
        "        tf.keras.layers.Dense(5),\n",
        "        tf.keras.layers.Dense(1)\n",
        "])"
      ],
      "metadata": {
        "id": "RPR3NjpoDC-y"
      },
      "execution_count": 11,
      "outputs": []
    },
    {
      "cell_type": "code",
      "source": [
        "# 방법2: add 함수로 레이어 추가\n",
        "model = tf.keras.Sequential()\n",
        "model.add(tf.keras.layers.Dense(10))\n",
        "model.add(tf.keras.layers.Dense(5))\n",
        "model.add(tf.keras.layers.Dense(1))"
      ],
      "metadata": {
        "id": "wbOW0ZdQDUyG"
      },
      "execution_count": 12,
      "outputs": []
    },
    {
      "cell_type": "markdown",
      "source": [
        "### 2-5-2 입력 데이터 형태"
      ],
      "metadata": {
        "id": "yJ1GFLwsuFPV"
      }
    },
    {
      "cell_type": "markdown",
      "source": [
        "- Sequential API를 사용하여 모델을 구성할 때 반드시 첫 번째 층은 `input_shape` 매개변수를 지정해야함"
      ],
      "metadata": {
        "id": "GtqiXgBRDwds"
      }
    },
    {
      "cell_type": "code",
      "source": [
        "import tensorflow as tf\n",
        "model = tf.keras.Sequential([\n",
        "  # 입력 데이터의 shape=(150,4)인 경우\n",
        "  tf.keras.layers.Dense(10, input_shape=[4]),\n",
        "  tf.keras.layers.Dense(5),\n",
        "  tf.keras.layers.Dense(1)\n",
        "])"
      ],
      "metadata": {
        "id": "_1LzUgLCDsln"
      },
      "execution_count": 13,
      "outputs": []
    },
    {
      "cell_type": "markdown",
      "source": [
        "### 2-5-3 단순선형회귀 모델 정의"
      ],
      "metadata": {
        "id": "oytzckG_uIBl"
      }
    },
    {
      "cell_type": "code",
      "source": [
        "# 단순선형회귀 모델 생성\n",
        "model = tf.keras.Sequential([\n",
        "        tf.keras.layers.Dense(1, input_shape=[1])\n",
        "])"
      ],
      "metadata": {
        "id": "TilqiriNEPiQ"
      },
      "execution_count": 14,
      "outputs": []
    },
    {
      "cell_type": "markdown",
      "source": [
        "> Dense 레이어 디폴트는 use_biase=True -> 상수항 b 포함"
      ],
      "metadata": {
        "id": "IamzJEYgEbPE"
      }
    },
    {
      "cell_type": "markdown",
      "source": [
        "## 2-6 모델 요약"
      ],
      "metadata": {
        "id": "SCP0Z0pMuKL1"
      }
    },
    {
      "cell_type": "code",
      "source": [
        "model.summary()"
      ],
      "metadata": {
        "colab": {
          "base_uri": "https://localhost:8080/"
        },
        "id": "a4OtcuB8Ekt9",
        "outputId": "853d468d-c4b9-4450-f7a5-e3f9e96ae026"
      },
      "execution_count": 15,
      "outputs": [
        {
          "output_type": "stream",
          "name": "stdout",
          "text": [
            "Model: \"sequential_3\"\n",
            "_________________________________________________________________\n",
            " Layer (type)                Output Shape              Param #   \n",
            "=================================================================\n",
            " dense_11 (Dense)            (None, 1)                 2         \n",
            "                                                                 \n",
            "=================================================================\n",
            "Total params: 2\n",
            "Trainable params: 2\n",
            "Non-trainable params: 0\n",
            "_________________________________________________________________\n"
          ]
        }
      ]
    },
    {
      "cell_type": "markdown",
      "source": [
        "## 2-7 컴파일"
      ],
      "metadata": {
        "id": "Jckx1yuwuL1h"
      }
    },
    {
      "cell_type": "markdown",
      "source": [
        "- 모델의 훈련 과정에서 적용할 옵티마이저(optimizer), 손실함수(loss), 평가지표(metrics) 등을 정의"
      ],
      "metadata": {
        "id": "2mfphQ1ZEttw"
      }
    },
    {
      "cell_type": "code",
      "source": [
        "# 방법1: 긴 문자열 지정\n",
        "model.compile(optimizer='sgd', loss='mean_squared_error',\n",
        "              metrics=['mean_squared_error', 'mean_absolute_error'])"
      ],
      "metadata": {
        "id": "8IuGIUI6E2py"
      },
      "execution_count": 16,
      "outputs": []
    },
    {
      "cell_type": "code",
      "source": [
        "# 방법2: 짧은 문자열 지정\n",
        "model.compile(optimizer='sgd', loss='mse', metrics=['mse', 'mae'])"
      ],
      "metadata": {
        "id": "vXDjz6a1FHJs"
      },
      "execution_count": 17,
      "outputs": []
    },
    {
      "cell_type": "code",
      "source": [
        "# 방법3: 클래스 인스턴스 지정\n",
        "model.compile(optimizer=tf.keras.optimizers.SGD(lr=0.005),\n",
        "              loss=tf.keras.losses.MeanAbsoluteError(),\n",
        "              metrics=[tf.keras.metrics.MeanAbsoluteError(),\n",
        "                       tf.keras.metrics.MeanSquaredError()\n",
        "              ])"
      ],
      "metadata": {
        "colab": {
          "base_uri": "https://localhost:8080/"
        },
        "id": "gBeJGOObFMQY",
        "outputId": "fa81c6e0-b7bf-49d6-b6cb-b5929dff0211"
      },
      "execution_count": 19,
      "outputs": [
        {
          "output_type": "stream",
          "name": "stderr",
          "text": [
            "WARNING:absl:`lr` is deprecated in Keras optimizer, please use `learning_rate` or use the legacy optimizer, e.g.,tf.keras.optimizers.legacy.SGD.\n"
          ]
        }
      ]
    },
    {
      "cell_type": "code",
      "source": [
        "# 컴파일\n",
        "model.compile(optimizer='sgd', loss='mse', metrics=['mae'])"
      ],
      "metadata": {
        "id": "YRXwS0LOFjzY"
      },
      "execution_count": 20,
      "outputs": []
    },
    {
      "cell_type": "markdown",
      "source": [
        "## 2-8 훈련"
      ],
      "metadata": {
        "id": "KgmtlYc7uNQc"
      }
    },
    {
      "cell_type": "code",
      "source": [
        "# epoch=5: 5번 반복 훈련한 뒤 결과 확인\n",
        "model.fit(x,y,epochs=5)"
      ],
      "metadata": {
        "colab": {
          "base_uri": "https://localhost:8080/"
        },
        "id": "7PsdcgmeFrH4",
        "outputId": "4c531d4d-5b9d-485a-a6f9-22e5744c50b8"
      },
      "execution_count": 21,
      "outputs": [
        {
          "output_type": "stream",
          "name": "stdout",
          "text": [
            "Epoch 1/5\n",
            "1/1 [==============================] - 1s 676ms/step - loss: 301.0217 - mae: 16.0383\n",
            "Epoch 2/5\n",
            "1/1 [==============================] - 0s 8ms/step - loss: 175.4524 - mae: 12.2691\n",
            "Epoch 3/5\n",
            "1/1 [==============================] - 0s 7ms/step - loss: 102.2767 - mae: 9.3917\n",
            "Epoch 4/5\n",
            "1/1 [==============================] - 0s 8ms/step - loss: 59.6333 - mae: 7.1950\n",
            "Epoch 5/5\n",
            "1/1 [==============================] - 0s 12ms/step - loss: 34.7826 - mae: 5.5181\n"
          ]
        },
        {
          "output_type": "execute_result",
          "data": {
            "text/plain": [
              "<keras.callbacks.History at 0x7fcffff7d060>"
            ]
          },
          "metadata": {},
          "execution_count": 21
        }
      ]
    },
    {
      "cell_type": "code",
      "source": [
        "## 코드 종합\n",
        "\n",
        "# 단순 선형회귀 모델 생성\n",
        "model = tf.keras.Sequential([\n",
        "        tf.keras.layers.Dense(1, input_shape=[1])\n",
        "])\n",
        "\n",
        "# 컴파일\n",
        "model.compile(optimizer='sgd', loss='mse', metrics=['mae'])\n",
        "\n",
        "# 훈련\n",
        "history = model.fit(x, y, epochs=1200)"
      ],
      "metadata": {
        "colab": {
          "base_uri": "https://localhost:8080/"
        },
        "id": "5AUUWOxFFzzq",
        "outputId": "e1c7c218-7058-4d81-dc7f-4641e270df33"
      },
      "execution_count": 22,
      "outputs": [
        {
          "output_type": "stream",
          "name": "stdout",
          "text": [
            "Epoch 1/1200\n",
            "1/1 [==============================] - 0s 446ms/step - loss: 77.7200 - mae: 8.3005\n",
            "Epoch 2/1200\n",
            "1/1 [==============================] - 0s 20ms/step - loss: 45.4210 - mae: 6.3884\n",
            "Epoch 3/1200\n",
            "1/1 [==============================] - 0s 13ms/step - loss: 26.5979 - mae: 4.9285\n",
            "Epoch 4/1200\n",
            "1/1 [==============================] - 0s 14ms/step - loss: 15.6278 - mae: 3.8139\n",
            "Epoch 5/1200\n",
            "1/1 [==============================] - 0s 15ms/step - loss: 9.2342 - mae: 2.9629\n",
            "Epoch 6/1200\n",
            "1/1 [==============================] - 0s 15ms/step - loss: 5.5074 - mae: 2.3131\n",
            "Epoch 7/1200\n",
            "1/1 [==============================] - 0s 10ms/step - loss: 3.3348 - mae: 1.8168\n",
            "Epoch 8/1200\n",
            "1/1 [==============================] - 0s 12ms/step - loss: 2.0678 - mae: 1.4378\n",
            "Epoch 9/1200\n",
            "1/1 [==============================] - 0s 12ms/step - loss: 1.3287 - mae: 1.1483\n",
            "Epoch 10/1200\n",
            "1/1 [==============================] - 0s 11ms/step - loss: 0.8971 - mae: 0.9272\n",
            "Epoch 11/1200\n",
            "1/1 [==============================] - 0s 11ms/step - loss: 0.6447 - mae: 0.7581\n",
            "Epoch 12/1200\n",
            "1/1 [==============================] - 0s 12ms/step - loss: 0.4969 - mae: 0.6290\n",
            "Epoch 13/1200\n",
            "1/1 [==============================] - 0s 11ms/step - loss: 0.4099 - mae: 0.5302\n",
            "Epoch 14/1200\n",
            "1/1 [==============================] - 0s 14ms/step - loss: 0.3584 - mae: 0.4931\n",
            "Epoch 15/1200\n",
            "1/1 [==============================] - 0s 11ms/step - loss: 0.3276 - mae: 0.4714\n",
            "Epoch 16/1200\n",
            "1/1 [==============================] - 0s 13ms/step - loss: 0.3088 - mae: 0.4545\n",
            "Epoch 17/1200\n",
            "1/1 [==============================] - 0s 13ms/step - loss: 0.2971 - mae: 0.4413\n",
            "Epoch 18/1200\n",
            "1/1 [==============================] - 0s 13ms/step - loss: 0.2894 - mae: 0.4417\n",
            "Epoch 19/1200\n",
            "1/1 [==============================] - 0s 12ms/step - loss: 0.2842 - mae: 0.4434\n",
            "Epoch 20/1200\n",
            "1/1 [==============================] - 0s 10ms/step - loss: 0.2804 - mae: 0.4444\n",
            "Epoch 21/1200\n",
            "1/1 [==============================] - 0s 11ms/step - loss: 0.2774 - mae: 0.4447\n",
            "Epoch 22/1200\n",
            "1/1 [==============================] - 0s 12ms/step - loss: 0.2749 - mae: 0.4446\n",
            "Epoch 23/1200\n",
            "1/1 [==============================] - 0s 13ms/step - loss: 0.2726 - mae: 0.4442\n",
            "Epoch 24/1200\n",
            "1/1 [==============================] - 0s 12ms/step - loss: 0.2706 - mae: 0.4435\n",
            "Epoch 25/1200\n",
            "1/1 [==============================] - 0s 12ms/step - loss: 0.2686 - mae: 0.4426\n",
            "Epoch 26/1200\n",
            "1/1 [==============================] - 0s 12ms/step - loss: 0.2667 - mae: 0.4416\n",
            "Epoch 27/1200\n",
            "1/1 [==============================] - 0s 11ms/step - loss: 0.2649 - mae: 0.4405\n",
            "Epoch 28/1200\n",
            "1/1 [==============================] - 0s 19ms/step - loss: 0.2631 - mae: 0.4393\n",
            "Epoch 29/1200\n",
            "1/1 [==============================] - 0s 13ms/step - loss: 0.2613 - mae: 0.4380\n",
            "Epoch 30/1200\n",
            "1/1 [==============================] - 0s 22ms/step - loss: 0.2595 - mae: 0.4367\n",
            "Epoch 31/1200\n",
            "1/1 [==============================] - 0s 19ms/step - loss: 0.2577 - mae: 0.4353\n",
            "Epoch 32/1200\n",
            "1/1 [==============================] - 0s 10ms/step - loss: 0.2560 - mae: 0.4340\n",
            "Epoch 33/1200\n",
            "1/1 [==============================] - 0s 10ms/step - loss: 0.2543 - mae: 0.4326\n",
            "Epoch 34/1200\n",
            "1/1 [==============================] - 0s 18ms/step - loss: 0.2526 - mae: 0.4312\n",
            "Epoch 35/1200\n",
            "1/1 [==============================] - 0s 10ms/step - loss: 0.2509 - mae: 0.4298\n",
            "Epoch 36/1200\n",
            "1/1 [==============================] - 0s 16ms/step - loss: 0.2492 - mae: 0.4283\n",
            "Epoch 37/1200\n",
            "1/1 [==============================] - 0s 15ms/step - loss: 0.2475 - mae: 0.4269\n",
            "Epoch 38/1200\n",
            "1/1 [==============================] - 0s 13ms/step - loss: 0.2458 - mae: 0.4255\n",
            "Epoch 39/1200\n",
            "1/1 [==============================] - 0s 12ms/step - loss: 0.2441 - mae: 0.4241\n",
            "Epoch 40/1200\n",
            "1/1 [==============================] - 0s 8ms/step - loss: 0.2425 - mae: 0.4226\n",
            "Epoch 41/1200\n",
            "1/1 [==============================] - 0s 17ms/step - loss: 0.2409 - mae: 0.4212\n",
            "Epoch 42/1200\n",
            "1/1 [==============================] - 0s 11ms/step - loss: 0.2392 - mae: 0.4198\n",
            "Epoch 43/1200\n",
            "1/1 [==============================] - 0s 12ms/step - loss: 0.2376 - mae: 0.4184\n",
            "Epoch 44/1200\n",
            "1/1 [==============================] - 0s 12ms/step - loss: 0.2360 - mae: 0.4170\n",
            "Epoch 45/1200\n",
            "1/1 [==============================] - 0s 12ms/step - loss: 0.2344 - mae: 0.4156\n",
            "Epoch 46/1200\n",
            "1/1 [==============================] - 0s 11ms/step - loss: 0.2328 - mae: 0.4142\n",
            "Epoch 47/1200\n",
            "1/1 [==============================] - 0s 14ms/step - loss: 0.2313 - mae: 0.4128\n",
            "Epoch 48/1200\n",
            "1/1 [==============================] - 0s 15ms/step - loss: 0.2297 - mae: 0.4114\n",
            "Epoch 49/1200\n",
            "1/1 [==============================] - 0s 9ms/step - loss: 0.2282 - mae: 0.4100\n",
            "Epoch 50/1200\n",
            "1/1 [==============================] - 0s 9ms/step - loss: 0.2266 - mae: 0.4086\n",
            "Epoch 51/1200\n",
            "1/1 [==============================] - 0s 11ms/step - loss: 0.2251 - mae: 0.4072\n",
            "Epoch 52/1200\n",
            "1/1 [==============================] - 0s 10ms/step - loss: 0.2236 - mae: 0.4058\n",
            "Epoch 53/1200\n",
            "1/1 [==============================] - 0s 12ms/step - loss: 0.2221 - mae: 0.4045\n",
            "Epoch 54/1200\n",
            "1/1 [==============================] - 0s 16ms/step - loss: 0.2206 - mae: 0.4031\n",
            "Epoch 55/1200\n",
            "1/1 [==============================] - 0s 11ms/step - loss: 0.2191 - mae: 0.4017\n",
            "Epoch 56/1200\n",
            "1/1 [==============================] - 0s 14ms/step - loss: 0.2176 - mae: 0.4004\n",
            "Epoch 57/1200\n",
            "1/1 [==============================] - 0s 12ms/step - loss: 0.2161 - mae: 0.3990\n",
            "Epoch 58/1200\n",
            "1/1 [==============================] - 0s 12ms/step - loss: 0.2147 - mae: 0.3977\n",
            "Epoch 59/1200\n",
            "1/1 [==============================] - 0s 11ms/step - loss: 0.2132 - mae: 0.3963\n",
            "Epoch 60/1200\n",
            "1/1 [==============================] - 0s 10ms/step - loss: 0.2118 - mae: 0.3950\n",
            "Epoch 61/1200\n",
            "1/1 [==============================] - 0s 14ms/step - loss: 0.2103 - mae: 0.3937\n",
            "Epoch 62/1200\n",
            "1/1 [==============================] - 0s 13ms/step - loss: 0.2089 - mae: 0.3923\n",
            "Epoch 63/1200\n",
            "1/1 [==============================] - 0s 11ms/step - loss: 0.2075 - mae: 0.3910\n",
            "Epoch 64/1200\n",
            "1/1 [==============================] - 0s 10ms/step - loss: 0.2061 - mae: 0.3897\n",
            "Epoch 65/1200\n",
            "1/1 [==============================] - 0s 12ms/step - loss: 0.2047 - mae: 0.3884\n",
            "Epoch 66/1200\n",
            "1/1 [==============================] - 0s 12ms/step - loss: 0.2033 - mae: 0.3870\n",
            "Epoch 67/1200\n",
            "1/1 [==============================] - 0s 11ms/step - loss: 0.2020 - mae: 0.3857\n",
            "Epoch 68/1200\n",
            "1/1 [==============================] - 0s 9ms/step - loss: 0.2006 - mae: 0.3844\n",
            "Epoch 69/1200\n",
            "1/1 [==============================] - 0s 9ms/step - loss: 0.1993 - mae: 0.3831\n",
            "Epoch 70/1200\n",
            "1/1 [==============================] - 0s 8ms/step - loss: 0.1979 - mae: 0.3818\n",
            "Epoch 71/1200\n",
            "1/1 [==============================] - 0s 9ms/step - loss: 0.1966 - mae: 0.3805\n",
            "Epoch 72/1200\n",
            "1/1 [==============================] - 0s 10ms/step - loss: 0.1952 - mae: 0.3793\n",
            "Epoch 73/1200\n",
            "1/1 [==============================] - 0s 21ms/step - loss: 0.1939 - mae: 0.3780\n",
            "Epoch 74/1200\n",
            "1/1 [==============================] - 0s 15ms/step - loss: 0.1926 - mae: 0.3767\n",
            "Epoch 75/1200\n",
            "1/1 [==============================] - 0s 41ms/step - loss: 0.1913 - mae: 0.3754\n",
            "Epoch 76/1200\n",
            "1/1 [==============================] - 0s 13ms/step - loss: 0.1900 - mae: 0.3742\n",
            "Epoch 77/1200\n",
            "1/1 [==============================] - 0s 13ms/step - loss: 0.1887 - mae: 0.3729\n",
            "Epoch 78/1200\n",
            "1/1 [==============================] - 0s 21ms/step - loss: 0.1875 - mae: 0.3716\n",
            "Epoch 79/1200\n",
            "1/1 [==============================] - 0s 16ms/step - loss: 0.1862 - mae: 0.3704\n",
            "Epoch 80/1200\n",
            "1/1 [==============================] - 0s 8ms/step - loss: 0.1849 - mae: 0.3691\n",
            "Epoch 81/1200\n",
            "1/1 [==============================] - 0s 14ms/step - loss: 0.1837 - mae: 0.3679\n",
            "Epoch 82/1200\n",
            "1/1 [==============================] - 0s 14ms/step - loss: 0.1825 - mae: 0.3666\n",
            "Epoch 83/1200\n",
            "1/1 [==============================] - 0s 14ms/step - loss: 0.1812 - mae: 0.3654\n",
            "Epoch 84/1200\n",
            "1/1 [==============================] - 0s 11ms/step - loss: 0.1800 - mae: 0.3642\n",
            "Epoch 85/1200\n",
            "1/1 [==============================] - 0s 12ms/step - loss: 0.1788 - mae: 0.3629\n",
            "Epoch 86/1200\n",
            "1/1 [==============================] - 0s 11ms/step - loss: 0.1776 - mae: 0.3617\n",
            "Epoch 87/1200\n",
            "1/1 [==============================] - 0s 9ms/step - loss: 0.1764 - mae: 0.3605\n",
            "Epoch 88/1200\n",
            "1/1 [==============================] - 0s 7ms/step - loss: 0.1752 - mae: 0.3593\n",
            "Epoch 89/1200\n",
            "1/1 [==============================] - 0s 10ms/step - loss: 0.1740 - mae: 0.3580\n",
            "Epoch 90/1200\n",
            "1/1 [==============================] - 0s 7ms/step - loss: 0.1728 - mae: 0.3568\n",
            "Epoch 91/1200\n",
            "1/1 [==============================] - 0s 7ms/step - loss: 0.1717 - mae: 0.3556\n",
            "Epoch 92/1200\n",
            "1/1 [==============================] - 0s 11ms/step - loss: 0.1705 - mae: 0.3544\n",
            "Epoch 93/1200\n",
            "1/1 [==============================] - 0s 8ms/step - loss: 0.1694 - mae: 0.3532\n",
            "Epoch 94/1200\n",
            "1/1 [==============================] - 0s 7ms/step - loss: 0.1682 - mae: 0.3520\n",
            "Epoch 95/1200\n",
            "1/1 [==============================] - 0s 7ms/step - loss: 0.1671 - mae: 0.3508\n",
            "Epoch 96/1200\n",
            "1/1 [==============================] - 0s 7ms/step - loss: 0.1660 - mae: 0.3497\n",
            "Epoch 97/1200\n",
            "1/1 [==============================] - 0s 7ms/step - loss: 0.1648 - mae: 0.3485\n",
            "Epoch 98/1200\n",
            "1/1 [==============================] - 0s 7ms/step - loss: 0.1637 - mae: 0.3473\n",
            "Epoch 99/1200\n",
            "1/1 [==============================] - 0s 7ms/step - loss: 0.1626 - mae: 0.3461\n",
            "Epoch 100/1200\n",
            "1/1 [==============================] - 0s 7ms/step - loss: 0.1615 - mae: 0.3450\n",
            "Epoch 101/1200\n",
            "1/1 [==============================] - 0s 7ms/step - loss: 0.1604 - mae: 0.3438\n",
            "Epoch 102/1200\n",
            "1/1 [==============================] - 0s 7ms/step - loss: 0.1593 - mae: 0.3426\n",
            "Epoch 103/1200\n",
            "1/1 [==============================] - 0s 7ms/step - loss: 0.1583 - mae: 0.3415\n",
            "Epoch 104/1200\n",
            "1/1 [==============================] - 0s 15ms/step - loss: 0.1572 - mae: 0.3403\n",
            "Epoch 105/1200\n",
            "1/1 [==============================] - 0s 8ms/step - loss: 0.1561 - mae: 0.3392\n",
            "Epoch 106/1200\n",
            "1/1 [==============================] - 0s 7ms/step - loss: 0.1551 - mae: 0.3380\n",
            "Epoch 107/1200\n",
            "1/1 [==============================] - 0s 8ms/step - loss: 0.1540 - mae: 0.3369\n",
            "Epoch 108/1200\n",
            "1/1 [==============================] - 0s 7ms/step - loss: 0.1530 - mae: 0.3357\n",
            "Epoch 109/1200\n",
            "1/1 [==============================] - 0s 8ms/step - loss: 0.1520 - mae: 0.3346\n",
            "Epoch 110/1200\n",
            "1/1 [==============================] - 0s 8ms/step - loss: 0.1509 - mae: 0.3335\n",
            "Epoch 111/1200\n",
            "1/1 [==============================] - 0s 7ms/step - loss: 0.1499 - mae: 0.3323\n",
            "Epoch 112/1200\n",
            "1/1 [==============================] - 0s 7ms/step - loss: 0.1489 - mae: 0.3312\n",
            "Epoch 113/1200\n",
            "1/1 [==============================] - 0s 7ms/step - loss: 0.1479 - mae: 0.3301\n",
            "Epoch 114/1200\n",
            "1/1 [==============================] - 0s 9ms/step - loss: 0.1469 - mae: 0.3290\n",
            "Epoch 115/1200\n",
            "1/1 [==============================] - 0s 8ms/step - loss: 0.1459 - mae: 0.3279\n",
            "Epoch 116/1200\n",
            "1/1 [==============================] - 0s 7ms/step - loss: 0.1449 - mae: 0.3268\n",
            "Epoch 117/1200\n",
            "1/1 [==============================] - 0s 7ms/step - loss: 0.1439 - mae: 0.3257\n",
            "Epoch 118/1200\n",
            "1/1 [==============================] - 0s 7ms/step - loss: 0.1430 - mae: 0.3246\n",
            "Epoch 119/1200\n",
            "1/1 [==============================] - 0s 7ms/step - loss: 0.1420 - mae: 0.3235\n",
            "Epoch 120/1200\n",
            "1/1 [==============================] - 0s 7ms/step - loss: 0.1411 - mae: 0.3224\n",
            "Epoch 121/1200\n",
            "1/1 [==============================] - 0s 7ms/step - loss: 0.1401 - mae: 0.3213\n",
            "Epoch 122/1200\n",
            "1/1 [==============================] - 0s 8ms/step - loss: 0.1392 - mae: 0.3202\n",
            "Epoch 123/1200\n",
            "1/1 [==============================] - 0s 7ms/step - loss: 0.1382 - mae: 0.3191\n",
            "Epoch 124/1200\n",
            "1/1 [==============================] - 0s 7ms/step - loss: 0.1373 - mae: 0.3180\n",
            "Epoch 125/1200\n",
            "1/1 [==============================] - 0s 12ms/step - loss: 0.1364 - mae: 0.3169\n",
            "Epoch 126/1200\n",
            "1/1 [==============================] - 0s 12ms/step - loss: 0.1354 - mae: 0.3159\n",
            "Epoch 127/1200\n",
            "1/1 [==============================] - 0s 8ms/step - loss: 0.1345 - mae: 0.3148\n",
            "Epoch 128/1200\n",
            "1/1 [==============================] - 0s 8ms/step - loss: 0.1336 - mae: 0.3137\n",
            "Epoch 129/1200\n",
            "1/1 [==============================] - 0s 8ms/step - loss: 0.1327 - mae: 0.3127\n",
            "Epoch 130/1200\n",
            "1/1 [==============================] - 0s 8ms/step - loss: 0.1318 - mae: 0.3116\n",
            "Epoch 131/1200\n",
            "1/1 [==============================] - 0s 7ms/step - loss: 0.1309 - mae: 0.3106\n",
            "Epoch 132/1200\n",
            "1/1 [==============================] - 0s 8ms/step - loss: 0.1300 - mae: 0.3095\n",
            "Epoch 133/1200\n",
            "1/1 [==============================] - 0s 8ms/step - loss: 0.1292 - mae: 0.3085\n",
            "Epoch 134/1200\n",
            "1/1 [==============================] - 0s 8ms/step - loss: 0.1283 - mae: 0.3074\n",
            "Epoch 135/1200\n",
            "1/1 [==============================] - 0s 7ms/step - loss: 0.1274 - mae: 0.3064\n",
            "Epoch 136/1200\n",
            "1/1 [==============================] - 0s 7ms/step - loss: 0.1266 - mae: 0.3054\n",
            "Epoch 137/1200\n",
            "1/1 [==============================] - 0s 11ms/step - loss: 0.1257 - mae: 0.3043\n",
            "Epoch 138/1200\n",
            "1/1 [==============================] - 0s 7ms/step - loss: 0.1249 - mae: 0.3033\n",
            "Epoch 139/1200\n",
            "1/1 [==============================] - 0s 7ms/step - loss: 0.1240 - mae: 0.3023\n",
            "Epoch 140/1200\n",
            "1/1 [==============================] - 0s 7ms/step - loss: 0.1232 - mae: 0.3012\n",
            "Epoch 141/1200\n",
            "1/1 [==============================] - 0s 6ms/step - loss: 0.1224 - mae: 0.3002\n",
            "Epoch 142/1200\n",
            "1/1 [==============================] - 0s 6ms/step - loss: 0.1215 - mae: 0.2992\n",
            "Epoch 143/1200\n",
            "1/1 [==============================] - 0s 6ms/step - loss: 0.1207 - mae: 0.2982\n",
            "Epoch 144/1200\n",
            "1/1 [==============================] - 0s 6ms/step - loss: 0.1199 - mae: 0.2972\n",
            "Epoch 145/1200\n",
            "1/1 [==============================] - 0s 7ms/step - loss: 0.1191 - mae: 0.2962\n",
            "Epoch 146/1200\n",
            "1/1 [==============================] - 0s 7ms/step - loss: 0.1183 - mae: 0.2952\n",
            "Epoch 147/1200\n",
            "1/1 [==============================] - 0s 6ms/step - loss: 0.1175 - mae: 0.2942\n",
            "Epoch 148/1200\n",
            "1/1 [==============================] - 0s 8ms/step - loss: 0.1167 - mae: 0.2932\n",
            "Epoch 149/1200\n",
            "1/1 [==============================] - 0s 10ms/step - loss: 0.1159 - mae: 0.2922\n",
            "Epoch 150/1200\n",
            "1/1 [==============================] - 0s 7ms/step - loss: 0.1151 - mae: 0.2912\n",
            "Epoch 151/1200\n",
            "1/1 [==============================] - 0s 7ms/step - loss: 0.1143 - mae: 0.2902\n",
            "Epoch 152/1200\n",
            "1/1 [==============================] - 0s 6ms/step - loss: 0.1136 - mae: 0.2893\n",
            "Epoch 153/1200\n",
            "1/1 [==============================] - 0s 7ms/step - loss: 0.1128 - mae: 0.2883\n",
            "Epoch 154/1200\n",
            "1/1 [==============================] - 0s 7ms/step - loss: 0.1120 - mae: 0.2873\n",
            "Epoch 155/1200\n",
            "1/1 [==============================] - 0s 6ms/step - loss: 0.1113 - mae: 0.2863\n",
            "Epoch 156/1200\n",
            "1/1 [==============================] - 0s 7ms/step - loss: 0.1105 - mae: 0.2854\n",
            "Epoch 157/1200\n",
            "1/1 [==============================] - 0s 7ms/step - loss: 0.1098 - mae: 0.2844\n",
            "Epoch 158/1200\n",
            "1/1 [==============================] - 0s 7ms/step - loss: 0.1090 - mae: 0.2834\n",
            "Epoch 159/1200\n",
            "1/1 [==============================] - 0s 7ms/step - loss: 0.1083 - mae: 0.2825\n",
            "Epoch 160/1200\n",
            "1/1 [==============================] - 0s 7ms/step - loss: 0.1076 - mae: 0.2815\n",
            "Epoch 161/1200\n",
            "1/1 [==============================] - 0s 7ms/step - loss: 0.1068 - mae: 0.2806\n",
            "Epoch 162/1200\n",
            "1/1 [==============================] - 0s 7ms/step - loss: 0.1061 - mae: 0.2796\n",
            "Epoch 163/1200\n",
            "1/1 [==============================] - 0s 7ms/step - loss: 0.1054 - mae: 0.2787\n",
            "Epoch 164/1200\n",
            "1/1 [==============================] - 0s 6ms/step - loss: 0.1047 - mae: 0.2777\n",
            "Epoch 165/1200\n",
            "1/1 [==============================] - 0s 6ms/step - loss: 0.1040 - mae: 0.2768\n",
            "Epoch 166/1200\n",
            "1/1 [==============================] - 0s 6ms/step - loss: 0.1033 - mae: 0.2759\n",
            "Epoch 167/1200\n",
            "1/1 [==============================] - 0s 8ms/step - loss: 0.1026 - mae: 0.2749\n",
            "Epoch 168/1200\n",
            "1/1 [==============================] - 0s 7ms/step - loss: 0.1019 - mae: 0.2740\n",
            "Epoch 169/1200\n",
            "1/1 [==============================] - 0s 7ms/step - loss: 0.1012 - mae: 0.2731\n",
            "Epoch 170/1200\n",
            "1/1 [==============================] - 0s 7ms/step - loss: 0.1005 - mae: 0.2721\n",
            "Epoch 171/1200\n",
            "1/1 [==============================] - 0s 8ms/step - loss: 0.0999 - mae: 0.2712\n",
            "Epoch 172/1200\n",
            "1/1 [==============================] - 0s 7ms/step - loss: 0.0992 - mae: 0.2703\n",
            "Epoch 173/1200\n",
            "1/1 [==============================] - 0s 7ms/step - loss: 0.0985 - mae: 0.2694\n",
            "Epoch 174/1200\n",
            "1/1 [==============================] - 0s 7ms/step - loss: 0.0978 - mae: 0.2685\n",
            "Epoch 175/1200\n",
            "1/1 [==============================] - 0s 8ms/step - loss: 0.0972 - mae: 0.2676\n",
            "Epoch 176/1200\n",
            "1/1 [==============================] - 0s 8ms/step - loss: 0.0965 - mae: 0.2667\n",
            "Epoch 177/1200\n",
            "1/1 [==============================] - 0s 7ms/step - loss: 0.0959 - mae: 0.2658\n",
            "Epoch 178/1200\n",
            "1/1 [==============================] - 0s 7ms/step - loss: 0.0952 - mae: 0.2649\n",
            "Epoch 179/1200\n",
            "1/1 [==============================] - 0s 7ms/step - loss: 0.0946 - mae: 0.2640\n",
            "Epoch 180/1200\n",
            "1/1 [==============================] - 0s 7ms/step - loss: 0.0939 - mae: 0.2631\n",
            "Epoch 181/1200\n",
            "1/1 [==============================] - 0s 7ms/step - loss: 0.0933 - mae: 0.2622\n",
            "Epoch 182/1200\n",
            "1/1 [==============================] - 0s 6ms/step - loss: 0.0927 - mae: 0.2613\n",
            "Epoch 183/1200\n",
            "1/1 [==============================] - 0s 6ms/step - loss: 0.0921 - mae: 0.2604\n",
            "Epoch 184/1200\n",
            "1/1 [==============================] - 0s 7ms/step - loss: 0.0914 - mae: 0.2595\n",
            "Epoch 185/1200\n",
            "1/1 [==============================] - 0s 7ms/step - loss: 0.0908 - mae: 0.2587\n",
            "Epoch 186/1200\n",
            "1/1 [==============================] - 0s 7ms/step - loss: 0.0902 - mae: 0.2578\n",
            "Epoch 187/1200\n",
            "1/1 [==============================] - 0s 7ms/step - loss: 0.0896 - mae: 0.2569\n",
            "Epoch 188/1200\n",
            "1/1 [==============================] - 0s 7ms/step - loss: 0.0890 - mae: 0.2560\n",
            "Epoch 189/1200\n",
            "1/1 [==============================] - 0s 7ms/step - loss: 0.0884 - mae: 0.2552\n",
            "Epoch 190/1200\n",
            "1/1 [==============================] - 0s 7ms/step - loss: 0.0878 - mae: 0.2543\n",
            "Epoch 191/1200\n",
            "1/1 [==============================] - 0s 6ms/step - loss: 0.0872 - mae: 0.2535\n",
            "Epoch 192/1200\n",
            "1/1 [==============================] - 0s 6ms/step - loss: 0.0866 - mae: 0.2526\n",
            "Epoch 193/1200\n",
            "1/1 [==============================] - 0s 6ms/step - loss: 0.0860 - mae: 0.2518\n",
            "Epoch 194/1200\n",
            "1/1 [==============================] - 0s 6ms/step - loss: 0.0854 - mae: 0.2509\n",
            "Epoch 195/1200\n",
            "1/1 [==============================] - 0s 5ms/step - loss: 0.0849 - mae: 0.2501\n",
            "Epoch 196/1200\n",
            "1/1 [==============================] - 0s 6ms/step - loss: 0.0843 - mae: 0.2492\n",
            "Epoch 197/1200\n",
            "1/1 [==============================] - 0s 7ms/step - loss: 0.0837 - mae: 0.2484\n",
            "Epoch 198/1200\n",
            "1/1 [==============================] - 0s 6ms/step - loss: 0.0832 - mae: 0.2475\n",
            "Epoch 199/1200\n",
            "1/1 [==============================] - 0s 7ms/step - loss: 0.0826 - mae: 0.2467\n",
            "Epoch 200/1200\n",
            "1/1 [==============================] - 0s 6ms/step - loss: 0.0820 - mae: 0.2459\n",
            "Epoch 201/1200\n",
            "1/1 [==============================] - 0s 6ms/step - loss: 0.0815 - mae: 0.2450\n",
            "Epoch 202/1200\n",
            "1/1 [==============================] - 0s 7ms/step - loss: 0.0809 - mae: 0.2442\n",
            "Epoch 203/1200\n",
            "1/1 [==============================] - 0s 7ms/step - loss: 0.0804 - mae: 0.2434\n",
            "Epoch 204/1200\n",
            "1/1 [==============================] - 0s 7ms/step - loss: 0.0799 - mae: 0.2425\n",
            "Epoch 205/1200\n",
            "1/1 [==============================] - 0s 7ms/step - loss: 0.0793 - mae: 0.2417\n",
            "Epoch 206/1200\n",
            "1/1 [==============================] - 0s 6ms/step - loss: 0.0788 - mae: 0.2409\n",
            "Epoch 207/1200\n",
            "1/1 [==============================] - 0s 7ms/step - loss: 0.0782 - mae: 0.2401\n",
            "Epoch 208/1200\n",
            "1/1 [==============================] - 0s 7ms/step - loss: 0.0777 - mae: 0.2393\n",
            "Epoch 209/1200\n",
            "1/1 [==============================] - 0s 7ms/step - loss: 0.0772 - mae: 0.2385\n",
            "Epoch 210/1200\n",
            "1/1 [==============================] - 0s 7ms/step - loss: 0.0767 - mae: 0.2377\n",
            "Epoch 211/1200\n",
            "1/1 [==============================] - 0s 7ms/step - loss: 0.0762 - mae: 0.2369\n",
            "Epoch 212/1200\n",
            "1/1 [==============================] - 0s 7ms/step - loss: 0.0756 - mae: 0.2361\n",
            "Epoch 213/1200\n",
            "1/1 [==============================] - 0s 7ms/step - loss: 0.0751 - mae: 0.2353\n",
            "Epoch 214/1200\n",
            "1/1 [==============================] - 0s 7ms/step - loss: 0.0746 - mae: 0.2345\n",
            "Epoch 215/1200\n",
            "1/1 [==============================] - 0s 7ms/step - loss: 0.0741 - mae: 0.2337\n",
            "Epoch 216/1200\n",
            "1/1 [==============================] - 0s 12ms/step - loss: 0.0736 - mae: 0.2329\n",
            "Epoch 217/1200\n",
            "1/1 [==============================] - 0s 8ms/step - loss: 0.0731 - mae: 0.2321\n",
            "Epoch 218/1200\n",
            "1/1 [==============================] - 0s 7ms/step - loss: 0.0726 - mae: 0.2313\n",
            "Epoch 219/1200\n",
            "1/1 [==============================] - 0s 8ms/step - loss: 0.0721 - mae: 0.2305\n",
            "Epoch 220/1200\n",
            "1/1 [==============================] - 0s 6ms/step - loss: 0.0717 - mae: 0.2298\n",
            "Epoch 221/1200\n",
            "1/1 [==============================] - 0s 6ms/step - loss: 0.0712 - mae: 0.2290\n",
            "Epoch 222/1200\n",
            "1/1 [==============================] - 0s 6ms/step - loss: 0.0707 - mae: 0.2282\n",
            "Epoch 223/1200\n",
            "1/1 [==============================] - 0s 10ms/step - loss: 0.0702 - mae: 0.2274\n",
            "Epoch 224/1200\n",
            "1/1 [==============================] - 0s 7ms/step - loss: 0.0697 - mae: 0.2267\n",
            "Epoch 225/1200\n",
            "1/1 [==============================] - 0s 6ms/step - loss: 0.0693 - mae: 0.2259\n",
            "Epoch 226/1200\n",
            "1/1 [==============================] - 0s 6ms/step - loss: 0.0688 - mae: 0.2251\n",
            "Epoch 227/1200\n",
            "1/1 [==============================] - 0s 12ms/step - loss: 0.0683 - mae: 0.2244\n",
            "Epoch 228/1200\n",
            "1/1 [==============================] - 0s 7ms/step - loss: 0.0679 - mae: 0.2236\n",
            "Epoch 229/1200\n",
            "1/1 [==============================] - 0s 9ms/step - loss: 0.0674 - mae: 0.2229\n",
            "Epoch 230/1200\n",
            "1/1 [==============================] - 0s 12ms/step - loss: 0.0670 - mae: 0.2221\n",
            "Epoch 231/1200\n",
            "1/1 [==============================] - 0s 7ms/step - loss: 0.0665 - mae: 0.2213\n",
            "Epoch 232/1200\n",
            "1/1 [==============================] - 0s 7ms/step - loss: 0.0661 - mae: 0.2206\n",
            "Epoch 233/1200\n",
            "1/1 [==============================] - 0s 9ms/step - loss: 0.0656 - mae: 0.2199\n",
            "Epoch 234/1200\n",
            "1/1 [==============================] - 0s 7ms/step - loss: 0.0652 - mae: 0.2191\n",
            "Epoch 235/1200\n",
            "1/1 [==============================] - 0s 7ms/step - loss: 0.0647 - mae: 0.2184\n",
            "Epoch 236/1200\n",
            "1/1 [==============================] - 0s 6ms/step - loss: 0.0643 - mae: 0.2176\n",
            "Epoch 237/1200\n",
            "1/1 [==============================] - 0s 6ms/step - loss: 0.0639 - mae: 0.2169\n",
            "Epoch 238/1200\n",
            "1/1 [==============================] - 0s 5ms/step - loss: 0.0634 - mae: 0.2162\n",
            "Epoch 239/1200\n",
            "1/1 [==============================] - 0s 6ms/step - loss: 0.0630 - mae: 0.2154\n",
            "Epoch 240/1200\n",
            "1/1 [==============================] - 0s 9ms/step - loss: 0.0626 - mae: 0.2147\n",
            "Epoch 241/1200\n",
            "1/1 [==============================] - 0s 9ms/step - loss: 0.0621 - mae: 0.2140\n",
            "Epoch 242/1200\n",
            "1/1 [==============================] - 0s 7ms/step - loss: 0.0617 - mae: 0.2133\n",
            "Epoch 243/1200\n",
            "1/1 [==============================] - 0s 6ms/step - loss: 0.0613 - mae: 0.2125\n",
            "Epoch 244/1200\n",
            "1/1 [==============================] - 0s 6ms/step - loss: 0.0609 - mae: 0.2118\n",
            "Epoch 245/1200\n",
            "1/1 [==============================] - 0s 6ms/step - loss: 0.0605 - mae: 0.2111\n",
            "Epoch 246/1200\n",
            "1/1 [==============================] - 0s 7ms/step - loss: 0.0601 - mae: 0.2104\n",
            "Epoch 247/1200\n",
            "1/1 [==============================] - 0s 6ms/step - loss: 0.0597 - mae: 0.2097\n",
            "Epoch 248/1200\n",
            "1/1 [==============================] - 0s 6ms/step - loss: 0.0593 - mae: 0.2090\n",
            "Epoch 249/1200\n",
            "1/1 [==============================] - 0s 6ms/step - loss: 0.0589 - mae: 0.2083\n",
            "Epoch 250/1200\n",
            "1/1 [==============================] - 0s 7ms/step - loss: 0.0585 - mae: 0.2076\n",
            "Epoch 251/1200\n",
            "1/1 [==============================] - 0s 9ms/step - loss: 0.0581 - mae: 0.2069\n",
            "Epoch 252/1200\n",
            "1/1 [==============================] - 0s 7ms/step - loss: 0.0577 - mae: 0.2062\n",
            "Epoch 253/1200\n",
            "1/1 [==============================] - 0s 8ms/step - loss: 0.0573 - mae: 0.2055\n",
            "Epoch 254/1200\n",
            "1/1 [==============================] - 0s 8ms/step - loss: 0.0569 - mae: 0.2048\n",
            "Epoch 255/1200\n",
            "1/1 [==============================] - 0s 9ms/step - loss: 0.0565 - mae: 0.2041\n",
            "Epoch 256/1200\n",
            "1/1 [==============================] - 0s 6ms/step - loss: 0.0561 - mae: 0.2034\n",
            "Epoch 257/1200\n",
            "1/1 [==============================] - 0s 6ms/step - loss: 0.0558 - mae: 0.2027\n",
            "Epoch 258/1200\n",
            "1/1 [==============================] - 0s 6ms/step - loss: 0.0554 - mae: 0.2020\n",
            "Epoch 259/1200\n",
            "1/1 [==============================] - 0s 8ms/step - loss: 0.0550 - mae: 0.2013\n",
            "Epoch 260/1200\n",
            "1/1 [==============================] - 0s 7ms/step - loss: 0.0546 - mae: 0.2006\n",
            "Epoch 261/1200\n",
            "1/1 [==============================] - 0s 8ms/step - loss: 0.0543 - mae: 0.2000\n",
            "Epoch 262/1200\n",
            "1/1 [==============================] - 0s 8ms/step - loss: 0.0539 - mae: 0.1993\n",
            "Epoch 263/1200\n",
            "1/1 [==============================] - 0s 7ms/step - loss: 0.0535 - mae: 0.1986\n",
            "Epoch 264/1200\n",
            "1/1 [==============================] - 0s 7ms/step - loss: 0.0532 - mae: 0.1979\n",
            "Epoch 265/1200\n",
            "1/1 [==============================] - 0s 8ms/step - loss: 0.0528 - mae: 0.1973\n",
            "Epoch 266/1200\n",
            "1/1 [==============================] - 0s 9ms/step - loss: 0.0525 - mae: 0.1966\n",
            "Epoch 267/1200\n",
            "1/1 [==============================] - 0s 7ms/step - loss: 0.0521 - mae: 0.1959\n",
            "Epoch 268/1200\n",
            "1/1 [==============================] - 0s 7ms/step - loss: 0.0518 - mae: 0.1953\n",
            "Epoch 269/1200\n",
            "1/1 [==============================] - 0s 7ms/step - loss: 0.0514 - mae: 0.1946\n",
            "Epoch 270/1200\n",
            "1/1 [==============================] - 0s 9ms/step - loss: 0.0511 - mae: 0.1940\n",
            "Epoch 271/1200\n",
            "1/1 [==============================] - 0s 7ms/step - loss: 0.0507 - mae: 0.1933\n",
            "Epoch 272/1200\n",
            "1/1 [==============================] - 0s 7ms/step - loss: 0.0504 - mae: 0.1927\n",
            "Epoch 273/1200\n",
            "1/1 [==============================] - 0s 7ms/step - loss: 0.0500 - mae: 0.1920\n",
            "Epoch 274/1200\n",
            "1/1 [==============================] - 0s 7ms/step - loss: 0.0497 - mae: 0.1914\n",
            "Epoch 275/1200\n",
            "1/1 [==============================] - 0s 6ms/step - loss: 0.0494 - mae: 0.1907\n",
            "Epoch 276/1200\n",
            "1/1 [==============================] - 0s 6ms/step - loss: 0.0490 - mae: 0.1901\n",
            "Epoch 277/1200\n",
            "1/1 [==============================] - 0s 6ms/step - loss: 0.0487 - mae: 0.1894\n",
            "Epoch 278/1200\n",
            "1/1 [==============================] - 0s 6ms/step - loss: 0.0484 - mae: 0.1888\n",
            "Epoch 279/1200\n",
            "1/1 [==============================] - 0s 7ms/step - loss: 0.0480 - mae: 0.1881\n",
            "Epoch 280/1200\n",
            "1/1 [==============================] - 0s 6ms/step - loss: 0.0477 - mae: 0.1875\n",
            "Epoch 281/1200\n",
            "1/1 [==============================] - 0s 6ms/step - loss: 0.0474 - mae: 0.1869\n",
            "Epoch 282/1200\n",
            "1/1 [==============================] - 0s 9ms/step - loss: 0.0471 - mae: 0.1862\n",
            "Epoch 283/1200\n",
            "1/1 [==============================] - 0s 6ms/step - loss: 0.0468 - mae: 0.1856\n",
            "Epoch 284/1200\n",
            "1/1 [==============================] - 0s 6ms/step - loss: 0.0464 - mae: 0.1850\n",
            "Epoch 285/1200\n",
            "1/1 [==============================] - 0s 6ms/step - loss: 0.0461 - mae: 0.1844\n",
            "Epoch 286/1200\n",
            "1/1 [==============================] - 0s 6ms/step - loss: 0.0458 - mae: 0.1837\n",
            "Epoch 287/1200\n",
            "1/1 [==============================] - 0s 8ms/step - loss: 0.0455 - mae: 0.1831\n",
            "Epoch 288/1200\n",
            "1/1 [==============================] - 0s 6ms/step - loss: 0.0452 - mae: 0.1825\n",
            "Epoch 289/1200\n",
            "1/1 [==============================] - 0s 6ms/step - loss: 0.0449 - mae: 0.1819\n",
            "Epoch 290/1200\n",
            "1/1 [==============================] - 0s 6ms/step - loss: 0.0446 - mae: 0.1813\n",
            "Epoch 291/1200\n",
            "1/1 [==============================] - 0s 7ms/step - loss: 0.0443 - mae: 0.1806\n",
            "Epoch 292/1200\n",
            "1/1 [==============================] - 0s 7ms/step - loss: 0.0440 - mae: 0.1800\n",
            "Epoch 293/1200\n",
            "1/1 [==============================] - 0s 7ms/step - loss: 0.0437 - mae: 0.1794\n",
            "Epoch 294/1200\n",
            "1/1 [==============================] - 0s 7ms/step - loss: 0.0434 - mae: 0.1788\n",
            "Epoch 295/1200\n",
            "1/1 [==============================] - 0s 6ms/step - loss: 0.0431 - mae: 0.1782\n",
            "Epoch 296/1200\n",
            "1/1 [==============================] - 0s 7ms/step - loss: 0.0428 - mae: 0.1776\n",
            "Epoch 297/1200\n",
            "1/1 [==============================] - 0s 6ms/step - loss: 0.0425 - mae: 0.1770\n",
            "Epoch 298/1200\n",
            "1/1 [==============================] - 0s 6ms/step - loss: 0.0422 - mae: 0.1764\n",
            "Epoch 299/1200\n",
            "1/1 [==============================] - 0s 6ms/step - loss: 0.0420 - mae: 0.1758\n",
            "Epoch 300/1200\n",
            "1/1 [==============================] - 0s 6ms/step - loss: 0.0417 - mae: 0.1752\n",
            "Epoch 301/1200\n",
            "1/1 [==============================] - 0s 6ms/step - loss: 0.0414 - mae: 0.1746\n",
            "Epoch 302/1200\n",
            "1/1 [==============================] - 0s 6ms/step - loss: 0.0411 - mae: 0.1740\n",
            "Epoch 303/1200\n",
            "1/1 [==============================] - 0s 7ms/step - loss: 0.0408 - mae: 0.1735\n",
            "Epoch 304/1200\n",
            "1/1 [==============================] - 0s 7ms/step - loss: 0.0406 - mae: 0.1729\n",
            "Epoch 305/1200\n",
            "1/1 [==============================] - 0s 8ms/step - loss: 0.0403 - mae: 0.1723\n",
            "Epoch 306/1200\n",
            "1/1 [==============================] - 0s 7ms/step - loss: 0.0400 - mae: 0.1717\n",
            "Epoch 307/1200\n",
            "1/1 [==============================] - 0s 8ms/step - loss: 0.0397 - mae: 0.1711\n",
            "Epoch 308/1200\n",
            "1/1 [==============================] - 0s 7ms/step - loss: 0.0395 - mae: 0.1705\n",
            "Epoch 309/1200\n",
            "1/1 [==============================] - 0s 7ms/step - loss: 0.0392 - mae: 0.1700\n",
            "Epoch 310/1200\n",
            "1/1 [==============================] - 0s 7ms/step - loss: 0.0389 - mae: 0.1694\n",
            "Epoch 311/1200\n",
            "1/1 [==============================] - 0s 7ms/step - loss: 0.0387 - mae: 0.1688\n",
            "Epoch 312/1200\n",
            "1/1 [==============================] - 0s 10ms/step - loss: 0.0384 - mae: 0.1682\n",
            "Epoch 313/1200\n",
            "1/1 [==============================] - 0s 9ms/step - loss: 0.0382 - mae: 0.1677\n",
            "Epoch 314/1200\n",
            "1/1 [==============================] - 0s 7ms/step - loss: 0.0379 - mae: 0.1671\n",
            "Epoch 315/1200\n",
            "1/1 [==============================] - 0s 12ms/step - loss: 0.0376 - mae: 0.1665\n",
            "Epoch 316/1200\n",
            "1/1 [==============================] - 0s 14ms/step - loss: 0.0374 - mae: 0.1660\n",
            "Epoch 317/1200\n",
            "1/1 [==============================] - 0s 18ms/step - loss: 0.0371 - mae: 0.1654\n",
            "Epoch 318/1200\n",
            "1/1 [==============================] - 0s 9ms/step - loss: 0.0369 - mae: 0.1649\n",
            "Epoch 319/1200\n",
            "1/1 [==============================] - 0s 9ms/step - loss: 0.0366 - mae: 0.1643\n",
            "Epoch 320/1200\n",
            "1/1 [==============================] - 0s 8ms/step - loss: 0.0364 - mae: 0.1637\n",
            "Epoch 321/1200\n",
            "1/1 [==============================] - 0s 6ms/step - loss: 0.0362 - mae: 0.1632\n",
            "Epoch 322/1200\n",
            "1/1 [==============================] - 0s 7ms/step - loss: 0.0359 - mae: 0.1626\n",
            "Epoch 323/1200\n",
            "1/1 [==============================] - 0s 7ms/step - loss: 0.0357 - mae: 0.1621\n",
            "Epoch 324/1200\n",
            "1/1 [==============================] - 0s 8ms/step - loss: 0.0354 - mae: 0.1615\n",
            "Epoch 325/1200\n",
            "1/1 [==============================] - 0s 8ms/step - loss: 0.0352 - mae: 0.1610\n",
            "Epoch 326/1200\n",
            "1/1 [==============================] - 0s 7ms/step - loss: 0.0349 - mae: 0.1605\n",
            "Epoch 327/1200\n",
            "1/1 [==============================] - 0s 8ms/step - loss: 0.0347 - mae: 0.1599\n",
            "Epoch 328/1200\n",
            "1/1 [==============================] - 0s 9ms/step - loss: 0.0345 - mae: 0.1594\n",
            "Epoch 329/1200\n",
            "1/1 [==============================] - 0s 11ms/step - loss: 0.0342 - mae: 0.1588\n",
            "Epoch 330/1200\n",
            "1/1 [==============================] - 0s 12ms/step - loss: 0.0340 - mae: 0.1583\n",
            "Epoch 331/1200\n",
            "1/1 [==============================] - 0s 8ms/step - loss: 0.0338 - mae: 0.1578\n",
            "Epoch 332/1200\n",
            "1/1 [==============================] - 0s 7ms/step - loss: 0.0336 - mae: 0.1572\n",
            "Epoch 333/1200\n",
            "1/1 [==============================] - 0s 7ms/step - loss: 0.0333 - mae: 0.1567\n",
            "Epoch 334/1200\n",
            "1/1 [==============================] - 0s 7ms/step - loss: 0.0331 - mae: 0.1562\n",
            "Epoch 335/1200\n",
            "1/1 [==============================] - 0s 7ms/step - loss: 0.0329 - mae: 0.1556\n",
            "Epoch 336/1200\n",
            "1/1 [==============================] - 0s 7ms/step - loss: 0.0327 - mae: 0.1551\n",
            "Epoch 337/1200\n",
            "1/1 [==============================] - 0s 7ms/step - loss: 0.0324 - mae: 0.1546\n",
            "Epoch 338/1200\n",
            "1/1 [==============================] - 0s 6ms/step - loss: 0.0322 - mae: 0.1541\n",
            "Epoch 339/1200\n",
            "1/1 [==============================] - 0s 7ms/step - loss: 0.0320 - mae: 0.1535\n",
            "Epoch 340/1200\n",
            "1/1 [==============================] - 0s 10ms/step - loss: 0.0318 - mae: 0.1530\n",
            "Epoch 341/1200\n",
            "1/1 [==============================] - 0s 10ms/step - loss: 0.0316 - mae: 0.1525\n",
            "Epoch 342/1200\n",
            "1/1 [==============================] - 0s 7ms/step - loss: 0.0314 - mae: 0.1520\n",
            "Epoch 343/1200\n",
            "1/1 [==============================] - 0s 8ms/step - loss: 0.0311 - mae: 0.1515\n",
            "Epoch 344/1200\n",
            "1/1 [==============================] - 0s 9ms/step - loss: 0.0309 - mae: 0.1510\n",
            "Epoch 345/1200\n",
            "1/1 [==============================] - 0s 8ms/step - loss: 0.0307 - mae: 0.1505\n",
            "Epoch 346/1200\n",
            "1/1 [==============================] - 0s 6ms/step - loss: 0.0305 - mae: 0.1499\n",
            "Epoch 347/1200\n",
            "1/1 [==============================] - 0s 7ms/step - loss: 0.0303 - mae: 0.1494\n",
            "Epoch 348/1200\n",
            "1/1 [==============================] - 0s 8ms/step - loss: 0.0301 - mae: 0.1489\n",
            "Epoch 349/1200\n",
            "1/1 [==============================] - 0s 9ms/step - loss: 0.0299 - mae: 0.1484\n",
            "Epoch 350/1200\n",
            "1/1 [==============================] - 0s 7ms/step - loss: 0.0297 - mae: 0.1479\n",
            "Epoch 351/1200\n",
            "1/1 [==============================] - 0s 7ms/step - loss: 0.0295 - mae: 0.1474\n",
            "Epoch 352/1200\n",
            "1/1 [==============================] - 0s 8ms/step - loss: 0.0293 - mae: 0.1469\n",
            "Epoch 353/1200\n",
            "1/1 [==============================] - 0s 8ms/step - loss: 0.0291 - mae: 0.1464\n",
            "Epoch 354/1200\n",
            "1/1 [==============================] - 0s 8ms/step - loss: 0.0289 - mae: 0.1459\n",
            "Epoch 355/1200\n",
            "1/1 [==============================] - 0s 11ms/step - loss: 0.0287 - mae: 0.1454\n",
            "Epoch 356/1200\n",
            "1/1 [==============================] - 0s 10ms/step - loss: 0.0285 - mae: 0.1450\n",
            "Epoch 357/1200\n",
            "1/1 [==============================] - 0s 9ms/step - loss: 0.0283 - mae: 0.1445\n",
            "Epoch 358/1200\n",
            "1/1 [==============================] - 0s 7ms/step - loss: 0.0281 - mae: 0.1440\n",
            "Epoch 359/1200\n",
            "1/1 [==============================] - 0s 8ms/step - loss: 0.0279 - mae: 0.1435\n",
            "Epoch 360/1200\n",
            "1/1 [==============================] - 0s 9ms/step - loss: 0.0278 - mae: 0.1430\n",
            "Epoch 361/1200\n",
            "1/1 [==============================] - 0s 7ms/step - loss: 0.0276 - mae: 0.1425\n",
            "Epoch 362/1200\n",
            "1/1 [==============================] - 0s 8ms/step - loss: 0.0274 - mae: 0.1420\n",
            "Epoch 363/1200\n",
            "1/1 [==============================] - 0s 9ms/step - loss: 0.0272 - mae: 0.1416\n",
            "Epoch 364/1200\n",
            "1/1 [==============================] - 0s 8ms/step - loss: 0.0270 - mae: 0.1411\n",
            "Epoch 365/1200\n",
            "1/1 [==============================] - 0s 7ms/step - loss: 0.0268 - mae: 0.1406\n",
            "Epoch 366/1200\n",
            "1/1 [==============================] - 0s 15ms/step - loss: 0.0267 - mae: 0.1401\n",
            "Epoch 367/1200\n",
            "1/1 [==============================] - 0s 8ms/step - loss: 0.0265 - mae: 0.1397\n",
            "Epoch 368/1200\n",
            "1/1 [==============================] - 0s 6ms/step - loss: 0.0263 - mae: 0.1392\n",
            "Epoch 369/1200\n",
            "1/1 [==============================] - 0s 6ms/step - loss: 0.0261 - mae: 0.1387\n",
            "Epoch 370/1200\n",
            "1/1 [==============================] - 0s 7ms/step - loss: 0.0259 - mae: 0.1382\n",
            "Epoch 371/1200\n",
            "1/1 [==============================] - 0s 6ms/step - loss: 0.0258 - mae: 0.1378\n",
            "Epoch 372/1200\n",
            "1/1 [==============================] - 0s 6ms/step - loss: 0.0256 - mae: 0.1373\n",
            "Epoch 373/1200\n",
            "1/1 [==============================] - 0s 6ms/step - loss: 0.0254 - mae: 0.1368\n",
            "Epoch 374/1200\n",
            "1/1 [==============================] - 0s 7ms/step - loss: 0.0252 - mae: 0.1364\n",
            "Epoch 375/1200\n",
            "1/1 [==============================] - 0s 7ms/step - loss: 0.0251 - mae: 0.1359\n",
            "Epoch 376/1200\n",
            "1/1 [==============================] - 0s 6ms/step - loss: 0.0249 - mae: 0.1355\n",
            "Epoch 377/1200\n",
            "1/1 [==============================] - 0s 7ms/step - loss: 0.0247 - mae: 0.1350\n",
            "Epoch 378/1200\n",
            "1/1 [==============================] - 0s 7ms/step - loss: 0.0246 - mae: 0.1345\n",
            "Epoch 379/1200\n",
            "1/1 [==============================] - 0s 7ms/step - loss: 0.0244 - mae: 0.1341\n",
            "Epoch 380/1200\n",
            "1/1 [==============================] - 0s 7ms/step - loss: 0.0242 - mae: 0.1336\n",
            "Epoch 381/1200\n",
            "1/1 [==============================] - 0s 7ms/step - loss: 0.0241 - mae: 0.1332\n",
            "Epoch 382/1200\n",
            "1/1 [==============================] - 0s 6ms/step - loss: 0.0239 - mae: 0.1327\n",
            "Epoch 383/1200\n",
            "1/1 [==============================] - 0s 6ms/step - loss: 0.0238 - mae: 0.1323\n",
            "Epoch 384/1200\n",
            "1/1 [==============================] - 0s 7ms/step - loss: 0.0236 - mae: 0.1318\n",
            "Epoch 385/1200\n",
            "1/1 [==============================] - 0s 7ms/step - loss: 0.0234 - mae: 0.1314\n",
            "Epoch 386/1200\n",
            "1/1 [==============================] - 0s 6ms/step - loss: 0.0233 - mae: 0.1309\n",
            "Epoch 387/1200\n",
            "1/1 [==============================] - 0s 7ms/step - loss: 0.0231 - mae: 0.1305\n",
            "Epoch 388/1200\n",
            "1/1 [==============================] - 0s 7ms/step - loss: 0.0230 - mae: 0.1301\n",
            "Epoch 389/1200\n",
            "1/1 [==============================] - 0s 7ms/step - loss: 0.0228 - mae: 0.1296\n",
            "Epoch 390/1200\n",
            "1/1 [==============================] - 0s 7ms/step - loss: 0.0227 - mae: 0.1292\n",
            "Epoch 391/1200\n",
            "1/1 [==============================] - 0s 6ms/step - loss: 0.0225 - mae: 0.1287\n",
            "Epoch 392/1200\n",
            "1/1 [==============================] - 0s 7ms/step - loss: 0.0223 - mae: 0.1283\n",
            "Epoch 393/1200\n",
            "1/1 [==============================] - 0s 8ms/step - loss: 0.0222 - mae: 0.1279\n",
            "Epoch 394/1200\n",
            "1/1 [==============================] - 0s 7ms/step - loss: 0.0220 - mae: 0.1274\n",
            "Epoch 395/1200\n",
            "1/1 [==============================] - 0s 7ms/step - loss: 0.0219 - mae: 0.1270\n",
            "Epoch 396/1200\n",
            "1/1 [==============================] - 0s 8ms/step - loss: 0.0218 - mae: 0.1266\n",
            "Epoch 397/1200\n",
            "1/1 [==============================] - 0s 7ms/step - loss: 0.0216 - mae: 0.1262\n",
            "Epoch 398/1200\n",
            "1/1 [==============================] - 0s 6ms/step - loss: 0.0215 - mae: 0.1257\n",
            "Epoch 399/1200\n",
            "1/1 [==============================] - 0s 8ms/step - loss: 0.0213 - mae: 0.1253\n",
            "Epoch 400/1200\n",
            "1/1 [==============================] - 0s 8ms/step - loss: 0.0212 - mae: 0.1249\n",
            "Epoch 401/1200\n",
            "1/1 [==============================] - 0s 6ms/step - loss: 0.0210 - mae: 0.1245\n",
            "Epoch 402/1200\n",
            "1/1 [==============================] - 0s 7ms/step - loss: 0.0209 - mae: 0.1240\n",
            "Epoch 403/1200\n",
            "1/1 [==============================] - 0s 7ms/step - loss: 0.0207 - mae: 0.1236\n",
            "Epoch 404/1200\n",
            "1/1 [==============================] - 0s 12ms/step - loss: 0.0206 - mae: 0.1232\n",
            "Epoch 405/1200\n",
            "1/1 [==============================] - 0s 12ms/step - loss: 0.0205 - mae: 0.1228\n",
            "Epoch 406/1200\n",
            "1/1 [==============================] - 0s 12ms/step - loss: 0.0203 - mae: 0.1224\n",
            "Epoch 407/1200\n",
            "1/1 [==============================] - 0s 8ms/step - loss: 0.0202 - mae: 0.1220\n",
            "Epoch 408/1200\n",
            "1/1 [==============================] - 0s 7ms/step - loss: 0.0201 - mae: 0.1215\n",
            "Epoch 409/1200\n",
            "1/1 [==============================] - 0s 7ms/step - loss: 0.0199 - mae: 0.1211\n",
            "Epoch 410/1200\n",
            "1/1 [==============================] - 0s 6ms/step - loss: 0.0198 - mae: 0.1207\n",
            "Epoch 411/1200\n",
            "1/1 [==============================] - 0s 6ms/step - loss: 0.0196 - mae: 0.1203\n",
            "Epoch 412/1200\n",
            "1/1 [==============================] - 0s 6ms/step - loss: 0.0195 - mae: 0.1199\n",
            "Epoch 413/1200\n",
            "1/1 [==============================] - 0s 7ms/step - loss: 0.0194 - mae: 0.1195\n",
            "Epoch 414/1200\n",
            "1/1 [==============================] - 0s 6ms/step - loss: 0.0193 - mae: 0.1191\n",
            "Epoch 415/1200\n",
            "1/1 [==============================] - 0s 7ms/step - loss: 0.0191 - mae: 0.1187\n",
            "Epoch 416/1200\n",
            "1/1 [==============================] - 0s 7ms/step - loss: 0.0190 - mae: 0.1183\n",
            "Epoch 417/1200\n",
            "1/1 [==============================] - 0s 6ms/step - loss: 0.0189 - mae: 0.1179\n",
            "Epoch 418/1200\n",
            "1/1 [==============================] - 0s 6ms/step - loss: 0.0187 - mae: 0.1175\n",
            "Epoch 419/1200\n",
            "1/1 [==============================] - 0s 6ms/step - loss: 0.0186 - mae: 0.1171\n",
            "Epoch 420/1200\n",
            "1/1 [==============================] - 0s 7ms/step - loss: 0.0185 - mae: 0.1167\n",
            "Epoch 421/1200\n",
            "1/1 [==============================] - 0s 6ms/step - loss: 0.0184 - mae: 0.1163\n",
            "Epoch 422/1200\n",
            "1/1 [==============================] - 0s 7ms/step - loss: 0.0182 - mae: 0.1159\n",
            "Epoch 423/1200\n",
            "1/1 [==============================] - 0s 7ms/step - loss: 0.0181 - mae: 0.1155\n",
            "Epoch 424/1200\n",
            "1/1 [==============================] - 0s 7ms/step - loss: 0.0180 - mae: 0.1151\n",
            "Epoch 425/1200\n",
            "1/1 [==============================] - 0s 7ms/step - loss: 0.0179 - mae: 0.1147\n",
            "Epoch 426/1200\n",
            "1/1 [==============================] - 0s 7ms/step - loss: 0.0178 - mae: 0.1144\n",
            "Epoch 427/1200\n",
            "1/1 [==============================] - 0s 9ms/step - loss: 0.0176 - mae: 0.1140\n",
            "Epoch 428/1200\n",
            "1/1 [==============================] - 0s 9ms/step - loss: 0.0175 - mae: 0.1136\n",
            "Epoch 429/1200\n",
            "1/1 [==============================] - 0s 10ms/step - loss: 0.0174 - mae: 0.1132\n",
            "Epoch 430/1200\n",
            "1/1 [==============================] - 0s 6ms/step - loss: 0.0173 - mae: 0.1128\n",
            "Epoch 431/1200\n",
            "1/1 [==============================] - 0s 6ms/step - loss: 0.0172 - mae: 0.1124\n",
            "Epoch 432/1200\n",
            "1/1 [==============================] - 0s 7ms/step - loss: 0.0170 - mae: 0.1121\n",
            "Epoch 433/1200\n",
            "1/1 [==============================] - 0s 7ms/step - loss: 0.0169 - mae: 0.1117\n",
            "Epoch 434/1200\n",
            "1/1 [==============================] - 0s 7ms/step - loss: 0.0168 - mae: 0.1113\n",
            "Epoch 435/1200\n",
            "1/1 [==============================] - 0s 8ms/step - loss: 0.0167 - mae: 0.1109\n",
            "Epoch 436/1200\n",
            "1/1 [==============================] - 0s 7ms/step - loss: 0.0166 - mae: 0.1106\n",
            "Epoch 437/1200\n",
            "1/1 [==============================] - 0s 8ms/step - loss: 0.0165 - mae: 0.1102\n",
            "Epoch 438/1200\n",
            "1/1 [==============================] - 0s 8ms/step - loss: 0.0164 - mae: 0.1098\n",
            "Epoch 439/1200\n",
            "1/1 [==============================] - 0s 7ms/step - loss: 0.0163 - mae: 0.1094\n",
            "Epoch 440/1200\n",
            "1/1 [==============================] - 0s 7ms/step - loss: 0.0161 - mae: 0.1091\n",
            "Epoch 441/1200\n",
            "1/1 [==============================] - 0s 7ms/step - loss: 0.0160 - mae: 0.1087\n",
            "Epoch 442/1200\n",
            "1/1 [==============================] - 0s 7ms/step - loss: 0.0159 - mae: 0.1083\n",
            "Epoch 443/1200\n",
            "1/1 [==============================] - 0s 8ms/step - loss: 0.0158 - mae: 0.1080\n",
            "Epoch 444/1200\n",
            "1/1 [==============================] - 0s 6ms/step - loss: 0.0157 - mae: 0.1076\n",
            "Epoch 445/1200\n",
            "1/1 [==============================] - 0s 7ms/step - loss: 0.0156 - mae: 0.1072\n",
            "Epoch 446/1200\n",
            "1/1 [==============================] - 0s 7ms/step - loss: 0.0155 - mae: 0.1069\n",
            "Epoch 447/1200\n",
            "1/1 [==============================] - 0s 8ms/step - loss: 0.0154 - mae: 0.1065\n",
            "Epoch 448/1200\n",
            "1/1 [==============================] - 0s 8ms/step - loss: 0.0153 - mae: 0.1061\n",
            "Epoch 449/1200\n",
            "1/1 [==============================] - 0s 8ms/step - loss: 0.0152 - mae: 0.1058\n",
            "Epoch 450/1200\n",
            "1/1 [==============================] - 0s 7ms/step - loss: 0.0151 - mae: 0.1054\n",
            "Epoch 451/1200\n",
            "1/1 [==============================] - 0s 7ms/step - loss: 0.0150 - mae: 0.1051\n",
            "Epoch 452/1200\n",
            "1/1 [==============================] - 0s 14ms/step - loss: 0.0149 - mae: 0.1047\n",
            "Epoch 453/1200\n",
            "1/1 [==============================] - 0s 7ms/step - loss: 0.0148 - mae: 0.1044\n",
            "Epoch 454/1200\n",
            "1/1 [==============================] - 0s 8ms/step - loss: 0.0147 - mae: 0.1040\n",
            "Epoch 455/1200\n",
            "1/1 [==============================] - 0s 14ms/step - loss: 0.0146 - mae: 0.1037\n",
            "Epoch 456/1200\n",
            "1/1 [==============================] - 0s 7ms/step - loss: 0.0145 - mae: 0.1033\n",
            "Epoch 457/1200\n",
            "1/1 [==============================] - 0s 7ms/step - loss: 0.0144 - mae: 0.1030\n",
            "Epoch 458/1200\n",
            "1/1 [==============================] - 0s 7ms/step - loss: 0.0143 - mae: 0.1026\n",
            "Epoch 459/1200\n",
            "1/1 [==============================] - 0s 7ms/step - loss: 0.0142 - mae: 0.1023\n",
            "Epoch 460/1200\n",
            "1/1 [==============================] - 0s 7ms/step - loss: 0.0141 - mae: 0.1019\n",
            "Epoch 461/1200\n",
            "1/1 [==============================] - 0s 7ms/step - loss: 0.0140 - mae: 0.1016\n",
            "Epoch 462/1200\n",
            "1/1 [==============================] - 0s 7ms/step - loss: 0.0139 - mae: 0.1012\n",
            "Epoch 463/1200\n",
            "1/1 [==============================] - 0s 6ms/step - loss: 0.0138 - mae: 0.1009\n",
            "Epoch 464/1200\n",
            "1/1 [==============================] - 0s 6ms/step - loss: 0.0137 - mae: 0.1005\n",
            "Epoch 465/1200\n",
            "1/1 [==============================] - 0s 7ms/step - loss: 0.0136 - mae: 0.1002\n",
            "Epoch 466/1200\n",
            "1/1 [==============================] - 0s 6ms/step - loss: 0.0135 - mae: 0.0999\n",
            "Epoch 467/1200\n",
            "1/1 [==============================] - 0s 7ms/step - loss: 0.0134 - mae: 0.0995\n",
            "Epoch 468/1200\n",
            "1/1 [==============================] - 0s 7ms/step - loss: 0.0134 - mae: 0.0992\n",
            "Epoch 469/1200\n",
            "1/1 [==============================] - 0s 8ms/step - loss: 0.0133 - mae: 0.0989\n",
            "Epoch 470/1200\n",
            "1/1 [==============================] - 0s 8ms/step - loss: 0.0132 - mae: 0.0985\n",
            "Epoch 471/1200\n",
            "1/1 [==============================] - 0s 6ms/step - loss: 0.0131 - mae: 0.0982\n",
            "Epoch 472/1200\n",
            "1/1 [==============================] - 0s 8ms/step - loss: 0.0130 - mae: 0.0979\n",
            "Epoch 473/1200\n",
            "1/1 [==============================] - 0s 7ms/step - loss: 0.0129 - mae: 0.0975\n",
            "Epoch 474/1200\n",
            "1/1 [==============================] - 0s 7ms/step - loss: 0.0128 - mae: 0.0972\n",
            "Epoch 475/1200\n",
            "1/1 [==============================] - 0s 7ms/step - loss: 0.0127 - mae: 0.0969\n",
            "Epoch 476/1200\n",
            "1/1 [==============================] - 0s 6ms/step - loss: 0.0127 - mae: 0.0965\n",
            "Epoch 477/1200\n",
            "1/1 [==============================] - 0s 7ms/step - loss: 0.0126 - mae: 0.0962\n",
            "Epoch 478/1200\n",
            "1/1 [==============================] - 0s 6ms/step - loss: 0.0125 - mae: 0.0959\n",
            "Epoch 479/1200\n",
            "1/1 [==============================] - 0s 7ms/step - loss: 0.0124 - mae: 0.0956\n",
            "Epoch 480/1200\n",
            "1/1 [==============================] - 0s 6ms/step - loss: 0.0123 - mae: 0.0952\n",
            "Epoch 481/1200\n",
            "1/1 [==============================] - 0s 6ms/step - loss: 0.0122 - mae: 0.0949\n",
            "Epoch 482/1200\n",
            "1/1 [==============================] - 0s 6ms/step - loss: 0.0121 - mae: 0.0946\n",
            "Epoch 483/1200\n",
            "1/1 [==============================] - 0s 6ms/step - loss: 0.0121 - mae: 0.0943\n",
            "Epoch 484/1200\n",
            "1/1 [==============================] - 0s 6ms/step - loss: 0.0120 - mae: 0.0940\n",
            "Epoch 485/1200\n",
            "1/1 [==============================] - 0s 6ms/step - loss: 0.0119 - mae: 0.0936\n",
            "Epoch 486/1200\n",
            "1/1 [==============================] - 0s 7ms/step - loss: 0.0118 - mae: 0.0933\n",
            "Epoch 487/1200\n",
            "1/1 [==============================] - 0s 8ms/step - loss: 0.0117 - mae: 0.0930\n",
            "Epoch 488/1200\n",
            "1/1 [==============================] - 0s 9ms/step - loss: 0.0117 - mae: 0.0927\n",
            "Epoch 489/1200\n",
            "1/1 [==============================] - 0s 14ms/step - loss: 0.0116 - mae: 0.0924\n",
            "Epoch 490/1200\n",
            "1/1 [==============================] - 0s 8ms/step - loss: 0.0115 - mae: 0.0921\n",
            "Epoch 491/1200\n",
            "1/1 [==============================] - 0s 7ms/step - loss: 0.0114 - mae: 0.0918\n",
            "Epoch 492/1200\n",
            "1/1 [==============================] - 0s 7ms/step - loss: 0.0114 - mae: 0.0915\n",
            "Epoch 493/1200\n",
            "1/1 [==============================] - 0s 7ms/step - loss: 0.0113 - mae: 0.0911\n",
            "Epoch 494/1200\n",
            "1/1 [==============================] - 0s 7ms/step - loss: 0.0112 - mae: 0.0908\n",
            "Epoch 495/1200\n",
            "1/1 [==============================] - 0s 6ms/step - loss: 0.0111 - mae: 0.0905\n",
            "Epoch 496/1200\n",
            "1/1 [==============================] - 0s 8ms/step - loss: 0.0110 - mae: 0.0902\n",
            "Epoch 497/1200\n",
            "1/1 [==============================] - 0s 7ms/step - loss: 0.0110 - mae: 0.0899\n",
            "Epoch 498/1200\n",
            "1/1 [==============================] - 0s 9ms/step - loss: 0.0109 - mae: 0.0896\n",
            "Epoch 499/1200\n",
            "1/1 [==============================] - 0s 6ms/step - loss: 0.0108 - mae: 0.0893\n",
            "Epoch 500/1200\n",
            "1/1 [==============================] - 0s 7ms/step - loss: 0.0108 - mae: 0.0890\n",
            "Epoch 501/1200\n",
            "1/1 [==============================] - 0s 6ms/step - loss: 0.0107 - mae: 0.0887\n",
            "Epoch 502/1200\n",
            "1/1 [==============================] - 0s 7ms/step - loss: 0.0106 - mae: 0.0884\n",
            "Epoch 503/1200\n",
            "1/1 [==============================] - 0s 6ms/step - loss: 0.0105 - mae: 0.0881\n",
            "Epoch 504/1200\n",
            "1/1 [==============================] - 0s 8ms/step - loss: 0.0105 - mae: 0.0878\n",
            "Epoch 505/1200\n",
            "1/1 [==============================] - 0s 9ms/step - loss: 0.0104 - mae: 0.0875\n",
            "Epoch 506/1200\n",
            "1/1 [==============================] - 0s 6ms/step - loss: 0.0103 - mae: 0.0872\n",
            "Epoch 507/1200\n",
            "1/1 [==============================] - 0s 7ms/step - loss: 0.0103 - mae: 0.0869\n",
            "Epoch 508/1200\n",
            "1/1 [==============================] - 0s 6ms/step - loss: 0.0102 - mae: 0.0866\n",
            "Epoch 509/1200\n",
            "1/1 [==============================] - 0s 6ms/step - loss: 0.0101 - mae: 0.0863\n",
            "Epoch 510/1200\n",
            "1/1 [==============================] - 0s 5ms/step - loss: 0.0100 - mae: 0.0860\n",
            "Epoch 511/1200\n",
            "1/1 [==============================] - 0s 6ms/step - loss: 0.0100 - mae: 0.0858\n",
            "Epoch 512/1200\n",
            "1/1 [==============================] - 0s 6ms/step - loss: 0.0099 - mae: 0.0855\n",
            "Epoch 513/1200\n",
            "1/1 [==============================] - 0s 6ms/step - loss: 0.0098 - mae: 0.0852\n",
            "Epoch 514/1200\n",
            "1/1 [==============================] - 0s 6ms/step - loss: 0.0098 - mae: 0.0849\n",
            "Epoch 515/1200\n",
            "1/1 [==============================] - 0s 5ms/step - loss: 0.0097 - mae: 0.0846\n",
            "Epoch 516/1200\n",
            "1/1 [==============================] - 0s 6ms/step - loss: 0.0096 - mae: 0.0843\n",
            "Epoch 517/1200\n",
            "1/1 [==============================] - 0s 11ms/step - loss: 0.0096 - mae: 0.0840\n",
            "Epoch 518/1200\n",
            "1/1 [==============================] - 0s 7ms/step - loss: 0.0095 - mae: 0.0837\n",
            "Epoch 519/1200\n",
            "1/1 [==============================] - 0s 6ms/step - loss: 0.0095 - mae: 0.0835\n",
            "Epoch 520/1200\n",
            "1/1 [==============================] - 0s 6ms/step - loss: 0.0094 - mae: 0.0832\n",
            "Epoch 521/1200\n",
            "1/1 [==============================] - 0s 7ms/step - loss: 0.0093 - mae: 0.0829\n",
            "Epoch 522/1200\n",
            "1/1 [==============================] - 0s 7ms/step - loss: 0.0093 - mae: 0.0826\n",
            "Epoch 523/1200\n",
            "1/1 [==============================] - 0s 7ms/step - loss: 0.0092 - mae: 0.0823\n",
            "Epoch 524/1200\n",
            "1/1 [==============================] - 0s 7ms/step - loss: 0.0091 - mae: 0.0821\n",
            "Epoch 525/1200\n",
            "1/1 [==============================] - 0s 7ms/step - loss: 0.0091 - mae: 0.0818\n",
            "Epoch 526/1200\n",
            "1/1 [==============================] - 0s 7ms/step - loss: 0.0090 - mae: 0.0815\n",
            "Epoch 527/1200\n",
            "1/1 [==============================] - 0s 7ms/step - loss: 0.0090 - mae: 0.0812\n",
            "Epoch 528/1200\n",
            "1/1 [==============================] - 0s 7ms/step - loss: 0.0089 - mae: 0.0810\n",
            "Epoch 529/1200\n",
            "1/1 [==============================] - 0s 11ms/step - loss: 0.0088 - mae: 0.0807\n",
            "Epoch 530/1200\n",
            "1/1 [==============================] - 0s 6ms/step - loss: 0.0088 - mae: 0.0804\n",
            "Epoch 531/1200\n",
            "1/1 [==============================] - 0s 10ms/step - loss: 0.0087 - mae: 0.0801\n",
            "Epoch 532/1200\n",
            "1/1 [==============================] - 0s 6ms/step - loss: 0.0087 - mae: 0.0799\n",
            "Epoch 533/1200\n",
            "1/1 [==============================] - 0s 6ms/step - loss: 0.0086 - mae: 0.0796\n",
            "Epoch 534/1200\n",
            "1/1 [==============================] - 0s 8ms/step - loss: 0.0085 - mae: 0.0793\n",
            "Epoch 535/1200\n",
            "1/1 [==============================] - 0s 7ms/step - loss: 0.0085 - mae: 0.0791\n",
            "Epoch 536/1200\n",
            "1/1 [==============================] - 0s 8ms/step - loss: 0.0084 - mae: 0.0788\n",
            "Epoch 537/1200\n",
            "1/1 [==============================] - 0s 8ms/step - loss: 0.0084 - mae: 0.0785\n",
            "Epoch 538/1200\n",
            "1/1 [==============================] - 0s 7ms/step - loss: 0.0083 - mae: 0.0783\n",
            "Epoch 539/1200\n",
            "1/1 [==============================] - 0s 7ms/step - loss: 0.0083 - mae: 0.0780\n",
            "Epoch 540/1200\n",
            "1/1 [==============================] - 0s 7ms/step - loss: 0.0082 - mae: 0.0777\n",
            "Epoch 541/1200\n",
            "1/1 [==============================] - 0s 6ms/step - loss: 0.0081 - mae: 0.0775\n",
            "Epoch 542/1200\n",
            "1/1 [==============================] - 0s 8ms/step - loss: 0.0081 - mae: 0.0772\n",
            "Epoch 543/1200\n",
            "1/1 [==============================] - 0s 8ms/step - loss: 0.0080 - mae: 0.0769\n",
            "Epoch 544/1200\n",
            "1/1 [==============================] - 0s 7ms/step - loss: 0.0080 - mae: 0.0767\n",
            "Epoch 545/1200\n",
            "1/1 [==============================] - 0s 10ms/step - loss: 0.0079 - mae: 0.0764\n",
            "Epoch 546/1200\n",
            "1/1 [==============================] - 0s 10ms/step - loss: 0.0079 - mae: 0.0762\n",
            "Epoch 547/1200\n",
            "1/1 [==============================] - 0s 7ms/step - loss: 0.0078 - mae: 0.0759\n",
            "Epoch 548/1200\n",
            "1/1 [==============================] - 0s 7ms/step - loss: 0.0078 - mae: 0.0757\n",
            "Epoch 549/1200\n",
            "1/1 [==============================] - 0s 6ms/step - loss: 0.0077 - mae: 0.0754\n",
            "Epoch 550/1200\n",
            "1/1 [==============================] - 0s 6ms/step - loss: 0.0077 - mae: 0.0751\n",
            "Epoch 551/1200\n",
            "1/1 [==============================] - 0s 7ms/step - loss: 0.0076 - mae: 0.0749\n",
            "Epoch 552/1200\n",
            "1/1 [==============================] - 0s 7ms/step - loss: 0.0076 - mae: 0.0746\n",
            "Epoch 553/1200\n",
            "1/1 [==============================] - 0s 7ms/step - loss: 0.0075 - mae: 0.0744\n",
            "Epoch 554/1200\n",
            "1/1 [==============================] - 0s 6ms/step - loss: 0.0075 - mae: 0.0741\n",
            "Epoch 555/1200\n",
            "1/1 [==============================] - 0s 6ms/step - loss: 0.0074 - mae: 0.0739\n",
            "Epoch 556/1200\n",
            "1/1 [==============================] - 0s 6ms/step - loss: 0.0074 - mae: 0.0736\n",
            "Epoch 557/1200\n",
            "1/1 [==============================] - 0s 7ms/step - loss: 0.0073 - mae: 0.0734\n",
            "Epoch 558/1200\n",
            "1/1 [==============================] - 0s 7ms/step - loss: 0.0073 - mae: 0.0731\n",
            "Epoch 559/1200\n",
            "1/1 [==============================] - 0s 7ms/step - loss: 0.0072 - mae: 0.0729\n",
            "Epoch 560/1200\n",
            "1/1 [==============================] - 0s 6ms/step - loss: 0.0072 - mae: 0.0726\n",
            "Epoch 561/1200\n",
            "1/1 [==============================] - 0s 7ms/step - loss: 0.0071 - mae: 0.0724\n",
            "Epoch 562/1200\n",
            "1/1 [==============================] - 0s 6ms/step - loss: 0.0071 - mae: 0.0722\n",
            "Epoch 563/1200\n",
            "1/1 [==============================] - 0s 6ms/step - loss: 0.0070 - mae: 0.0719\n",
            "Epoch 564/1200\n",
            "1/1 [==============================] - 0s 6ms/step - loss: 0.0070 - mae: 0.0717\n",
            "Epoch 565/1200\n",
            "1/1 [==============================] - 0s 6ms/step - loss: 0.0069 - mae: 0.0714\n",
            "Epoch 566/1200\n",
            "1/1 [==============================] - 0s 6ms/step - loss: 0.0069 - mae: 0.0712\n",
            "Epoch 567/1200\n",
            "1/1 [==============================] - 0s 7ms/step - loss: 0.0068 - mae: 0.0709\n",
            "Epoch 568/1200\n",
            "1/1 [==============================] - 0s 7ms/step - loss: 0.0068 - mae: 0.0707\n",
            "Epoch 569/1200\n",
            "1/1 [==============================] - 0s 6ms/step - loss: 0.0067 - mae: 0.0705\n",
            "Epoch 570/1200\n",
            "1/1 [==============================] - 0s 6ms/step - loss: 0.0067 - mae: 0.0702\n",
            "Epoch 571/1200\n",
            "1/1 [==============================] - 0s 6ms/step - loss: 0.0066 - mae: 0.0700\n",
            "Epoch 572/1200\n",
            "1/1 [==============================] - 0s 6ms/step - loss: 0.0066 - mae: 0.0697\n",
            "Epoch 573/1200\n",
            "1/1 [==============================] - 0s 6ms/step - loss: 0.0066 - mae: 0.0695\n",
            "Epoch 574/1200\n",
            "1/1 [==============================] - 0s 6ms/step - loss: 0.0065 - mae: 0.0693\n",
            "Epoch 575/1200\n",
            "1/1 [==============================] - 0s 5ms/step - loss: 0.0065 - mae: 0.0690\n",
            "Epoch 576/1200\n",
            "1/1 [==============================] - 0s 6ms/step - loss: 0.0064 - mae: 0.0688\n",
            "Epoch 577/1200\n",
            "1/1 [==============================] - 0s 6ms/step - loss: 0.0064 - mae: 0.0686\n",
            "Epoch 578/1200\n",
            "1/1 [==============================] - 0s 5ms/step - loss: 0.0063 - mae: 0.0683\n",
            "Epoch 579/1200\n",
            "1/1 [==============================] - 0s 10ms/step - loss: 0.0063 - mae: 0.0681\n",
            "Epoch 580/1200\n",
            "1/1 [==============================] - 0s 8ms/step - loss: 0.0063 - mae: 0.0679\n",
            "Epoch 581/1200\n",
            "1/1 [==============================] - 0s 6ms/step - loss: 0.0062 - mae: 0.0677\n",
            "Epoch 582/1200\n",
            "1/1 [==============================] - 0s 6ms/step - loss: 0.0062 - mae: 0.0674\n",
            "Epoch 583/1200\n",
            "1/1 [==============================] - 0s 6ms/step - loss: 0.0061 - mae: 0.0672\n",
            "Epoch 584/1200\n",
            "1/1 [==============================] - 0s 6ms/step - loss: 0.0061 - mae: 0.0670\n",
            "Epoch 585/1200\n",
            "1/1 [==============================] - 0s 5ms/step - loss: 0.0060 - mae: 0.0667\n",
            "Epoch 586/1200\n",
            "1/1 [==============================] - 0s 6ms/step - loss: 0.0060 - mae: 0.0665\n",
            "Epoch 587/1200\n",
            "1/1 [==============================] - 0s 6ms/step - loss: 0.0060 - mae: 0.0663\n",
            "Epoch 588/1200\n",
            "1/1 [==============================] - 0s 6ms/step - loss: 0.0059 - mae: 0.0661\n",
            "Epoch 589/1200\n",
            "1/1 [==============================] - 0s 6ms/step - loss: 0.0059 - mae: 0.0658\n",
            "Epoch 590/1200\n",
            "1/1 [==============================] - 0s 6ms/step - loss: 0.0058 - mae: 0.0656\n",
            "Epoch 591/1200\n",
            "1/1 [==============================] - 0s 6ms/step - loss: 0.0058 - mae: 0.0654\n",
            "Epoch 592/1200\n",
            "1/1 [==============================] - 0s 6ms/step - loss: 0.0058 - mae: 0.0652\n",
            "Epoch 593/1200\n",
            "1/1 [==============================] - 0s 6ms/step - loss: 0.0057 - mae: 0.0650\n",
            "Epoch 594/1200\n",
            "1/1 [==============================] - 0s 6ms/step - loss: 0.0057 - mae: 0.0647\n",
            "Epoch 595/1200\n",
            "1/1 [==============================] - 0s 6ms/step - loss: 0.0057 - mae: 0.0645\n",
            "Epoch 596/1200\n",
            "1/1 [==============================] - 0s 6ms/step - loss: 0.0056 - mae: 0.0643\n",
            "Epoch 597/1200\n",
            "1/1 [==============================] - 0s 7ms/step - loss: 0.0056 - mae: 0.0641\n",
            "Epoch 598/1200\n",
            "1/1 [==============================] - 0s 6ms/step - loss: 0.0055 - mae: 0.0639\n",
            "Epoch 599/1200\n",
            "1/1 [==============================] - 0s 6ms/step - loss: 0.0055 - mae: 0.0637\n",
            "Epoch 600/1200\n",
            "1/1 [==============================] - 0s 6ms/step - loss: 0.0055 - mae: 0.0634\n",
            "Epoch 601/1200\n",
            "1/1 [==============================] - 0s 6ms/step - loss: 0.0054 - mae: 0.0632\n",
            "Epoch 602/1200\n",
            "1/1 [==============================] - 0s 5ms/step - loss: 0.0054 - mae: 0.0630\n",
            "Epoch 603/1200\n",
            "1/1 [==============================] - 0s 5ms/step - loss: 0.0054 - mae: 0.0628\n",
            "Epoch 604/1200\n",
            "1/1 [==============================] - 0s 5ms/step - loss: 0.0053 - mae: 0.0626\n",
            "Epoch 605/1200\n",
            "1/1 [==============================] - 0s 6ms/step - loss: 0.0053 - mae: 0.0624\n",
            "Epoch 606/1200\n",
            "1/1 [==============================] - 0s 6ms/step - loss: 0.0052 - mae: 0.0622\n",
            "Epoch 607/1200\n",
            "1/1 [==============================] - 0s 6ms/step - loss: 0.0052 - mae: 0.0620\n",
            "Epoch 608/1200\n",
            "1/1 [==============================] - 0s 7ms/step - loss: 0.0052 - mae: 0.0617\n",
            "Epoch 609/1200\n",
            "1/1 [==============================] - 0s 6ms/step - loss: 0.0051 - mae: 0.0615\n",
            "Epoch 610/1200\n",
            "1/1 [==============================] - 0s 8ms/step - loss: 0.0051 - mae: 0.0613\n",
            "Epoch 611/1200\n",
            "1/1 [==============================] - 0s 7ms/step - loss: 0.0051 - mae: 0.0611\n",
            "Epoch 612/1200\n",
            "1/1 [==============================] - 0s 7ms/step - loss: 0.0050 - mae: 0.0609\n",
            "Epoch 613/1200\n",
            "1/1 [==============================] - 0s 5ms/step - loss: 0.0050 - mae: 0.0607\n",
            "Epoch 614/1200\n",
            "1/1 [==============================] - 0s 6ms/step - loss: 0.0050 - mae: 0.0605\n",
            "Epoch 615/1200\n",
            "1/1 [==============================] - 0s 6ms/step - loss: 0.0049 - mae: 0.0603\n",
            "Epoch 616/1200\n",
            "1/1 [==============================] - 0s 6ms/step - loss: 0.0049 - mae: 0.0601\n",
            "Epoch 617/1200\n",
            "1/1 [==============================] - 0s 7ms/step - loss: 0.0049 - mae: 0.0599\n",
            "Epoch 618/1200\n",
            "1/1 [==============================] - 0s 7ms/step - loss: 0.0048 - mae: 0.0597\n",
            "Epoch 619/1200\n",
            "1/1 [==============================] - 0s 6ms/step - loss: 0.0048 - mae: 0.0595\n",
            "Epoch 620/1200\n",
            "1/1 [==============================] - 0s 9ms/step - loss: 0.0048 - mae: 0.0593\n",
            "Epoch 621/1200\n",
            "1/1 [==============================] - 0s 9ms/step - loss: 0.0047 - mae: 0.0591\n",
            "Epoch 622/1200\n",
            "1/1 [==============================] - 0s 9ms/step - loss: 0.0047 - mae: 0.0589\n",
            "Epoch 623/1200\n",
            "1/1 [==============================] - 0s 10ms/step - loss: 0.0047 - mae: 0.0587\n",
            "Epoch 624/1200\n",
            "1/1 [==============================] - 0s 10ms/step - loss: 0.0046 - mae: 0.0585\n",
            "Epoch 625/1200\n",
            "1/1 [==============================] - 0s 6ms/step - loss: 0.0046 - mae: 0.0583\n",
            "Epoch 626/1200\n",
            "1/1 [==============================] - 0s 6ms/step - loss: 0.0046 - mae: 0.0581\n",
            "Epoch 627/1200\n",
            "1/1 [==============================] - 0s 6ms/step - loss: 0.0045 - mae: 0.0579\n",
            "Epoch 628/1200\n",
            "1/1 [==============================] - 0s 7ms/step - loss: 0.0045 - mae: 0.0577\n",
            "Epoch 629/1200\n",
            "1/1 [==============================] - 0s 6ms/step - loss: 0.0045 - mae: 0.0575\n",
            "Epoch 630/1200\n",
            "1/1 [==============================] - 0s 5ms/step - loss: 0.0045 - mae: 0.0573\n",
            "Epoch 631/1200\n",
            "1/1 [==============================] - 0s 6ms/step - loss: 0.0044 - mae: 0.0571\n",
            "Epoch 632/1200\n",
            "1/1 [==============================] - 0s 7ms/step - loss: 0.0044 - mae: 0.0569\n",
            "Epoch 633/1200\n",
            "1/1 [==============================] - 0s 7ms/step - loss: 0.0044 - mae: 0.0567\n",
            "Epoch 634/1200\n",
            "1/1 [==============================] - 0s 10ms/step - loss: 0.0043 - mae: 0.0565\n",
            "Epoch 635/1200\n",
            "1/1 [==============================] - 0s 6ms/step - loss: 0.0043 - mae: 0.0563\n",
            "Epoch 636/1200\n",
            "1/1 [==============================] - 0s 6ms/step - loss: 0.0043 - mae: 0.0562\n",
            "Epoch 637/1200\n",
            "1/1 [==============================] - 0s 7ms/step - loss: 0.0043 - mae: 0.0560\n",
            "Epoch 638/1200\n",
            "1/1 [==============================] - 0s 6ms/step - loss: 0.0042 - mae: 0.0558\n",
            "Epoch 639/1200\n",
            "1/1 [==============================] - 0s 6ms/step - loss: 0.0042 - mae: 0.0556\n",
            "Epoch 640/1200\n",
            "1/1 [==============================] - 0s 11ms/step - loss: 0.0042 - mae: 0.0554\n",
            "Epoch 641/1200\n",
            "1/1 [==============================] - 0s 9ms/step - loss: 0.0041 - mae: 0.0552\n",
            "Epoch 642/1200\n",
            "1/1 [==============================] - 0s 8ms/step - loss: 0.0041 - mae: 0.0550\n",
            "Epoch 643/1200\n",
            "1/1 [==============================] - 0s 5ms/step - loss: 0.0041 - mae: 0.0548\n",
            "Epoch 644/1200\n",
            "1/1 [==============================] - 0s 6ms/step - loss: 0.0041 - mae: 0.0547\n",
            "Epoch 645/1200\n",
            "1/1 [==============================] - 0s 7ms/step - loss: 0.0040 - mae: 0.0545\n",
            "Epoch 646/1200\n",
            "1/1 [==============================] - 0s 6ms/step - loss: 0.0040 - mae: 0.0543\n",
            "Epoch 647/1200\n",
            "1/1 [==============================] - 0s 5ms/step - loss: 0.0040 - mae: 0.0541\n",
            "Epoch 648/1200\n",
            "1/1 [==============================] - 0s 6ms/step - loss: 0.0039 - mae: 0.0539\n",
            "Epoch 649/1200\n",
            "1/1 [==============================] - 0s 6ms/step - loss: 0.0039 - mae: 0.0537\n",
            "Epoch 650/1200\n",
            "1/1 [==============================] - 0s 5ms/step - loss: 0.0039 - mae: 0.0536\n",
            "Epoch 651/1200\n",
            "1/1 [==============================] - 0s 7ms/step - loss: 0.0039 - mae: 0.0534\n",
            "Epoch 652/1200\n",
            "1/1 [==============================] - 0s 6ms/step - loss: 0.0038 - mae: 0.0532\n",
            "Epoch 653/1200\n",
            "1/1 [==============================] - 0s 7ms/step - loss: 0.0038 - mae: 0.0530\n",
            "Epoch 654/1200\n",
            "1/1 [==============================] - 0s 6ms/step - loss: 0.0038 - mae: 0.0528\n",
            "Epoch 655/1200\n",
            "1/1 [==============================] - 0s 6ms/step - loss: 0.0038 - mae: 0.0527\n",
            "Epoch 656/1200\n",
            "1/1 [==============================] - 0s 6ms/step - loss: 0.0037 - mae: 0.0525\n",
            "Epoch 657/1200\n",
            "1/1 [==============================] - 0s 7ms/step - loss: 0.0037 - mae: 0.0523\n",
            "Epoch 658/1200\n",
            "1/1 [==============================] - 0s 9ms/step - loss: 0.0037 - mae: 0.0521\n",
            "Epoch 659/1200\n",
            "1/1 [==============================] - 0s 8ms/step - loss: 0.0037 - mae: 0.0519\n",
            "Epoch 660/1200\n",
            "1/1 [==============================] - 0s 11ms/step - loss: 0.0036 - mae: 0.0518\n",
            "Epoch 661/1200\n",
            "1/1 [==============================] - 0s 9ms/step - loss: 0.0036 - mae: 0.0516\n",
            "Epoch 662/1200\n",
            "1/1 [==============================] - 0s 8ms/step - loss: 0.0036 - mae: 0.0514\n",
            "Epoch 663/1200\n",
            "1/1 [==============================] - 0s 7ms/step - loss: 0.0036 - mae: 0.0512\n",
            "Epoch 664/1200\n",
            "1/1 [==============================] - 0s 7ms/step - loss: 0.0035 - mae: 0.0511\n",
            "Epoch 665/1200\n",
            "1/1 [==============================] - 0s 7ms/step - loss: 0.0035 - mae: 0.0509\n",
            "Epoch 666/1200\n",
            "1/1 [==============================] - 0s 9ms/step - loss: 0.0035 - mae: 0.0507\n",
            "Epoch 667/1200\n",
            "1/1 [==============================] - 0s 10ms/step - loss: 0.0035 - mae: 0.0506\n",
            "Epoch 668/1200\n",
            "1/1 [==============================] - 0s 10ms/step - loss: 0.0034 - mae: 0.0504\n",
            "Epoch 669/1200\n",
            "1/1 [==============================] - 0s 10ms/step - loss: 0.0034 - mae: 0.0502\n",
            "Epoch 670/1200\n",
            "1/1 [==============================] - 0s 12ms/step - loss: 0.0034 - mae: 0.0500\n",
            "Epoch 671/1200\n",
            "1/1 [==============================] - 0s 10ms/step - loss: 0.0034 - mae: 0.0499\n",
            "Epoch 672/1200\n",
            "1/1 [==============================] - 0s 8ms/step - loss: 0.0034 - mae: 0.0497\n",
            "Epoch 673/1200\n",
            "1/1 [==============================] - 0s 8ms/step - loss: 0.0033 - mae: 0.0495\n",
            "Epoch 674/1200\n",
            "1/1 [==============================] - 0s 6ms/step - loss: 0.0033 - mae: 0.0494\n",
            "Epoch 675/1200\n",
            "1/1 [==============================] - 0s 9ms/step - loss: 0.0033 - mae: 0.0492\n",
            "Epoch 676/1200\n",
            "1/1 [==============================] - 0s 9ms/step - loss: 0.0033 - mae: 0.0490\n",
            "Epoch 677/1200\n",
            "1/1 [==============================] - 0s 8ms/step - loss: 0.0032 - mae: 0.0489\n",
            "Epoch 678/1200\n",
            "1/1 [==============================] - 0s 8ms/step - loss: 0.0032 - mae: 0.0487\n",
            "Epoch 679/1200\n",
            "1/1 [==============================] - 0s 9ms/step - loss: 0.0032 - mae: 0.0485\n",
            "Epoch 680/1200\n",
            "1/1 [==============================] - 0s 9ms/step - loss: 0.0032 - mae: 0.0484\n",
            "Epoch 681/1200\n",
            "1/1 [==============================] - 0s 6ms/step - loss: 0.0032 - mae: 0.0482\n",
            "Epoch 682/1200\n",
            "1/1 [==============================] - 0s 6ms/step - loss: 0.0031 - mae: 0.0481\n",
            "Epoch 683/1200\n",
            "1/1 [==============================] - 0s 9ms/step - loss: 0.0031 - mae: 0.0479\n",
            "Epoch 684/1200\n",
            "1/1 [==============================] - 0s 9ms/step - loss: 0.0031 - mae: 0.0477\n",
            "Epoch 685/1200\n",
            "1/1 [==============================] - 0s 6ms/step - loss: 0.0031 - mae: 0.0476\n",
            "Epoch 686/1200\n",
            "1/1 [==============================] - 0s 6ms/step - loss: 0.0031 - mae: 0.0474\n",
            "Epoch 687/1200\n",
            "1/1 [==============================] - 0s 6ms/step - loss: 0.0030 - mae: 0.0472\n",
            "Epoch 688/1200\n",
            "1/1 [==============================] - 0s 6ms/step - loss: 0.0030 - mae: 0.0471\n",
            "Epoch 689/1200\n",
            "1/1 [==============================] - 0s 6ms/step - loss: 0.0030 - mae: 0.0469\n",
            "Epoch 690/1200\n",
            "1/1 [==============================] - 0s 6ms/step - loss: 0.0030 - mae: 0.0468\n",
            "Epoch 691/1200\n",
            "1/1 [==============================] - 0s 6ms/step - loss: 0.0029 - mae: 0.0466\n",
            "Epoch 692/1200\n",
            "1/1 [==============================] - 0s 6ms/step - loss: 0.0029 - mae: 0.0465\n",
            "Epoch 693/1200\n",
            "1/1 [==============================] - 0s 6ms/step - loss: 0.0029 - mae: 0.0463\n",
            "Epoch 694/1200\n",
            "1/1 [==============================] - 0s 6ms/step - loss: 0.0029 - mae: 0.0461\n",
            "Epoch 695/1200\n",
            "1/1 [==============================] - 0s 7ms/step - loss: 0.0029 - mae: 0.0460\n",
            "Epoch 696/1200\n",
            "1/1 [==============================] - 0s 7ms/step - loss: 0.0029 - mae: 0.0458\n",
            "Epoch 697/1200\n",
            "1/1 [==============================] - 0s 7ms/step - loss: 0.0028 - mae: 0.0457\n",
            "Epoch 698/1200\n",
            "1/1 [==============================] - 0s 6ms/step - loss: 0.0028 - mae: 0.0455\n",
            "Epoch 699/1200\n",
            "1/1 [==============================] - 0s 7ms/step - loss: 0.0028 - mae: 0.0454\n",
            "Epoch 700/1200\n",
            "1/1 [==============================] - 0s 6ms/step - loss: 0.0028 - mae: 0.0452\n",
            "Epoch 701/1200\n",
            "1/1 [==============================] - 0s 6ms/step - loss: 0.0028 - mae: 0.0451\n",
            "Epoch 702/1200\n",
            "1/1 [==============================] - 0s 6ms/step - loss: 0.0027 - mae: 0.0449\n",
            "Epoch 703/1200\n",
            "1/1 [==============================] - 0s 6ms/step - loss: 0.0027 - mae: 0.0448\n",
            "Epoch 704/1200\n",
            "1/1 [==============================] - 0s 6ms/step - loss: 0.0027 - mae: 0.0446\n",
            "Epoch 705/1200\n",
            "1/1 [==============================] - 0s 6ms/step - loss: 0.0027 - mae: 0.0445\n",
            "Epoch 706/1200\n",
            "1/1 [==============================] - 0s 5ms/step - loss: 0.0027 - mae: 0.0443\n",
            "Epoch 707/1200\n",
            "1/1 [==============================] - 0s 6ms/step - loss: 0.0026 - mae: 0.0442\n",
            "Epoch 708/1200\n",
            "1/1 [==============================] - 0s 7ms/step - loss: 0.0026 - mae: 0.0440\n",
            "Epoch 709/1200\n",
            "1/1 [==============================] - 0s 10ms/step - loss: 0.0026 - mae: 0.0439\n",
            "Epoch 710/1200\n",
            "1/1 [==============================] - 0s 7ms/step - loss: 0.0026 - mae: 0.0437\n",
            "Epoch 711/1200\n",
            "1/1 [==============================] - 0s 7ms/step - loss: 0.0026 - mae: 0.0436\n",
            "Epoch 712/1200\n",
            "1/1 [==============================] - 0s 9ms/step - loss: 0.0026 - mae: 0.0434\n",
            "Epoch 713/1200\n",
            "1/1 [==============================] - 0s 9ms/step - loss: 0.0025 - mae: 0.0433\n",
            "Epoch 714/1200\n",
            "1/1 [==============================] - 0s 8ms/step - loss: 0.0025 - mae: 0.0431\n",
            "Epoch 715/1200\n",
            "1/1 [==============================] - 0s 6ms/step - loss: 0.0025 - mae: 0.0430\n",
            "Epoch 716/1200\n",
            "1/1 [==============================] - 0s 7ms/step - loss: 0.0025 - mae: 0.0428\n",
            "Epoch 717/1200\n",
            "1/1 [==============================] - 0s 6ms/step - loss: 0.0025 - mae: 0.0427\n",
            "Epoch 718/1200\n",
            "1/1 [==============================] - 0s 6ms/step - loss: 0.0025 - mae: 0.0425\n",
            "Epoch 719/1200\n",
            "1/1 [==============================] - 0s 6ms/step - loss: 0.0024 - mae: 0.0424\n",
            "Epoch 720/1200\n",
            "1/1 [==============================] - 0s 6ms/step - loss: 0.0024 - mae: 0.0423\n",
            "Epoch 721/1200\n",
            "1/1 [==============================] - 0s 7ms/step - loss: 0.0024 - mae: 0.0421\n",
            "Epoch 722/1200\n",
            "1/1 [==============================] - 0s 6ms/step - loss: 0.0024 - mae: 0.0420\n",
            "Epoch 723/1200\n",
            "1/1 [==============================] - 0s 6ms/step - loss: 0.0024 - mae: 0.0418\n",
            "Epoch 724/1200\n",
            "1/1 [==============================] - 0s 8ms/step - loss: 0.0024 - mae: 0.0417\n",
            "Epoch 725/1200\n",
            "1/1 [==============================] - 0s 6ms/step - loss: 0.0023 - mae: 0.0415\n",
            "Epoch 726/1200\n",
            "1/1 [==============================] - 0s 6ms/step - loss: 0.0023 - mae: 0.0414\n",
            "Epoch 727/1200\n",
            "1/1 [==============================] - 0s 6ms/step - loss: 0.0023 - mae: 0.0413\n",
            "Epoch 728/1200\n",
            "1/1 [==============================] - 0s 6ms/step - loss: 0.0023 - mae: 0.0411\n",
            "Epoch 729/1200\n",
            "1/1 [==============================] - 0s 6ms/step - loss: 0.0023 - mae: 0.0410\n",
            "Epoch 730/1200\n",
            "1/1 [==============================] - 0s 7ms/step - loss: 0.0023 - mae: 0.0408\n",
            "Epoch 731/1200\n",
            "1/1 [==============================] - 0s 6ms/step - loss: 0.0022 - mae: 0.0407\n",
            "Epoch 732/1200\n",
            "1/1 [==============================] - 0s 7ms/step - loss: 0.0022 - mae: 0.0406\n",
            "Epoch 733/1200\n",
            "1/1 [==============================] - 0s 6ms/step - loss: 0.0022 - mae: 0.0404\n",
            "Epoch 734/1200\n",
            "1/1 [==============================] - 0s 7ms/step - loss: 0.0022 - mae: 0.0403\n",
            "Epoch 735/1200\n",
            "1/1 [==============================] - 0s 7ms/step - loss: 0.0022 - mae: 0.0402\n",
            "Epoch 736/1200\n",
            "1/1 [==============================] - 0s 6ms/step - loss: 0.0022 - mae: 0.0400\n",
            "Epoch 737/1200\n",
            "1/1 [==============================] - 0s 6ms/step - loss: 0.0022 - mae: 0.0399\n",
            "Epoch 738/1200\n",
            "1/1 [==============================] - 0s 6ms/step - loss: 0.0021 - mae: 0.0398\n",
            "Epoch 739/1200\n",
            "1/1 [==============================] - 0s 6ms/step - loss: 0.0021 - mae: 0.0396\n",
            "Epoch 740/1200\n",
            "1/1 [==============================] - 0s 6ms/step - loss: 0.0021 - mae: 0.0395\n",
            "Epoch 741/1200\n",
            "1/1 [==============================] - 0s 6ms/step - loss: 0.0021 - mae: 0.0394\n",
            "Epoch 742/1200\n",
            "1/1 [==============================] - 0s 6ms/step - loss: 0.0021 - mae: 0.0392\n",
            "Epoch 743/1200\n",
            "1/1 [==============================] - 0s 6ms/step - loss: 0.0021 - mae: 0.0391\n",
            "Epoch 744/1200\n",
            "1/1 [==============================] - 0s 6ms/step - loss: 0.0021 - mae: 0.0390\n",
            "Epoch 745/1200\n",
            "1/1 [==============================] - 0s 6ms/step - loss: 0.0020 - mae: 0.0388\n",
            "Epoch 746/1200\n",
            "1/1 [==============================] - 0s 6ms/step - loss: 0.0020 - mae: 0.0387\n",
            "Epoch 747/1200\n",
            "1/1 [==============================] - 0s 6ms/step - loss: 0.0020 - mae: 0.0386\n",
            "Epoch 748/1200\n",
            "1/1 [==============================] - 0s 6ms/step - loss: 0.0020 - mae: 0.0384\n",
            "Epoch 749/1200\n",
            "1/1 [==============================] - 0s 7ms/step - loss: 0.0020 - mae: 0.0383\n",
            "Epoch 750/1200\n",
            "1/1 [==============================] - 0s 9ms/step - loss: 0.0020 - mae: 0.0382\n",
            "Epoch 751/1200\n",
            "1/1 [==============================] - 0s 7ms/step - loss: 0.0020 - mae: 0.0380\n",
            "Epoch 752/1200\n",
            "1/1 [==============================] - 0s 7ms/step - loss: 0.0020 - mae: 0.0379\n",
            "Epoch 753/1200\n",
            "1/1 [==============================] - 0s 10ms/step - loss: 0.0019 - mae: 0.0378\n",
            "Epoch 754/1200\n",
            "1/1 [==============================] - 0s 10ms/step - loss: 0.0019 - mae: 0.0377\n",
            "Epoch 755/1200\n",
            "1/1 [==============================] - 0s 7ms/step - loss: 0.0019 - mae: 0.0375\n",
            "Epoch 756/1200\n",
            "1/1 [==============================] - 0s 7ms/step - loss: 0.0019 - mae: 0.0374\n",
            "Epoch 757/1200\n",
            "1/1 [==============================] - 0s 6ms/step - loss: 0.0019 - mae: 0.0373\n",
            "Epoch 758/1200\n",
            "1/1 [==============================] - 0s 7ms/step - loss: 0.0019 - mae: 0.0372\n",
            "Epoch 759/1200\n",
            "1/1 [==============================] - 0s 8ms/step - loss: 0.0019 - mae: 0.0370\n",
            "Epoch 760/1200\n",
            "1/1 [==============================] - 0s 6ms/step - loss: 0.0018 - mae: 0.0369\n",
            "Epoch 761/1200\n",
            "1/1 [==============================] - 0s 7ms/step - loss: 0.0018 - mae: 0.0368\n",
            "Epoch 762/1200\n",
            "1/1 [==============================] - 0s 9ms/step - loss: 0.0018 - mae: 0.0366\n",
            "Epoch 763/1200\n",
            "1/1 [==============================] - 0s 7ms/step - loss: 0.0018 - mae: 0.0365\n",
            "Epoch 764/1200\n",
            "1/1 [==============================] - 0s 10ms/step - loss: 0.0018 - mae: 0.0364\n",
            "Epoch 765/1200\n",
            "1/1 [==============================] - 0s 7ms/step - loss: 0.0018 - mae: 0.0363\n",
            "Epoch 766/1200\n",
            "1/1 [==============================] - 0s 9ms/step - loss: 0.0018 - mae: 0.0362\n",
            "Epoch 767/1200\n",
            "1/1 [==============================] - 0s 9ms/step - loss: 0.0018 - mae: 0.0360\n",
            "Epoch 768/1200\n",
            "1/1 [==============================] - 0s 10ms/step - loss: 0.0018 - mae: 0.0359\n",
            "Epoch 769/1200\n",
            "1/1 [==============================] - 0s 7ms/step - loss: 0.0017 - mae: 0.0358\n",
            "Epoch 770/1200\n",
            "1/1 [==============================] - 0s 7ms/step - loss: 0.0017 - mae: 0.0357\n",
            "Epoch 771/1200\n",
            "1/1 [==============================] - 0s 7ms/step - loss: 0.0017 - mae: 0.0355\n",
            "Epoch 772/1200\n",
            "1/1 [==============================] - 0s 8ms/step - loss: 0.0017 - mae: 0.0354\n",
            "Epoch 773/1200\n",
            "1/1 [==============================] - 0s 10ms/step - loss: 0.0017 - mae: 0.0353\n",
            "Epoch 774/1200\n",
            "1/1 [==============================] - 0s 7ms/step - loss: 0.0017 - mae: 0.0352\n",
            "Epoch 775/1200\n",
            "1/1 [==============================] - 0s 10ms/step - loss: 0.0017 - mae: 0.0351\n",
            "Epoch 776/1200\n",
            "1/1 [==============================] - 0s 10ms/step - loss: 0.0017 - mae: 0.0350\n",
            "Epoch 777/1200\n",
            "1/1 [==============================] - 0s 7ms/step - loss: 0.0016 - mae: 0.0348\n",
            "Epoch 778/1200\n",
            "1/1 [==============================] - 0s 5ms/step - loss: 0.0016 - mae: 0.0347\n",
            "Epoch 779/1200\n",
            "1/1 [==============================] - 0s 6ms/step - loss: 0.0016 - mae: 0.0346\n",
            "Epoch 780/1200\n",
            "1/1 [==============================] - 0s 6ms/step - loss: 0.0016 - mae: 0.0345\n",
            "Epoch 781/1200\n",
            "1/1 [==============================] - 0s 6ms/step - loss: 0.0016 - mae: 0.0344\n",
            "Epoch 782/1200\n",
            "1/1 [==============================] - 0s 6ms/step - loss: 0.0016 - mae: 0.0342\n",
            "Epoch 783/1200\n",
            "1/1 [==============================] - 0s 6ms/step - loss: 0.0016 - mae: 0.0341\n",
            "Epoch 784/1200\n",
            "1/1 [==============================] - 0s 5ms/step - loss: 0.0016 - mae: 0.0340\n",
            "Epoch 785/1200\n",
            "1/1 [==============================] - 0s 5ms/step - loss: 0.0016 - mae: 0.0339\n",
            "Epoch 786/1200\n",
            "1/1 [==============================] - 0s 6ms/step - loss: 0.0015 - mae: 0.0338\n",
            "Epoch 787/1200\n",
            "1/1 [==============================] - 0s 5ms/step - loss: 0.0015 - mae: 0.0337\n",
            "Epoch 788/1200\n",
            "1/1 [==============================] - 0s 5ms/step - loss: 0.0015 - mae: 0.0336\n",
            "Epoch 789/1200\n",
            "1/1 [==============================] - 0s 8ms/step - loss: 0.0015 - mae: 0.0334\n",
            "Epoch 790/1200\n",
            "1/1 [==============================] - 0s 7ms/step - loss: 0.0015 - mae: 0.0333\n",
            "Epoch 791/1200\n",
            "1/1 [==============================] - 0s 7ms/step - loss: 0.0015 - mae: 0.0332\n",
            "Epoch 792/1200\n",
            "1/1 [==============================] - 0s 7ms/step - loss: 0.0015 - mae: 0.0331\n",
            "Epoch 793/1200\n",
            "1/1 [==============================] - 0s 7ms/step - loss: 0.0015 - mae: 0.0330\n",
            "Epoch 794/1200\n",
            "1/1 [==============================] - 0s 9ms/step - loss: 0.0015 - mae: 0.0329\n",
            "Epoch 795/1200\n",
            "1/1 [==============================] - 0s 7ms/step - loss: 0.0015 - mae: 0.0328\n",
            "Epoch 796/1200\n",
            "1/1 [==============================] - 0s 10ms/step - loss: 0.0014 - mae: 0.0327\n",
            "Epoch 797/1200\n",
            "1/1 [==============================] - 0s 9ms/step - loss: 0.0014 - mae: 0.0326\n",
            "Epoch 798/1200\n",
            "1/1 [==============================] - 0s 9ms/step - loss: 0.0014 - mae: 0.0324\n",
            "Epoch 799/1200\n",
            "1/1 [==============================] - 0s 9ms/step - loss: 0.0014 - mae: 0.0323\n",
            "Epoch 800/1200\n",
            "1/1 [==============================] - 0s 8ms/step - loss: 0.0014 - mae: 0.0322\n",
            "Epoch 801/1200\n",
            "1/1 [==============================] - 0s 8ms/step - loss: 0.0014 - mae: 0.0321\n",
            "Epoch 802/1200\n",
            "1/1 [==============================] - 0s 11ms/step - loss: 0.0014 - mae: 0.0320\n",
            "Epoch 803/1200\n",
            "1/1 [==============================] - 0s 6ms/step - loss: 0.0014 - mae: 0.0319\n",
            "Epoch 804/1200\n",
            "1/1 [==============================] - 0s 7ms/step - loss: 0.0014 - mae: 0.0318\n",
            "Epoch 805/1200\n",
            "1/1 [==============================] - 0s 11ms/step - loss: 0.0014 - mae: 0.0317\n",
            "Epoch 806/1200\n",
            "1/1 [==============================] - 0s 9ms/step - loss: 0.0014 - mae: 0.0316\n",
            "Epoch 807/1200\n",
            "1/1 [==============================] - 0s 14ms/step - loss: 0.0013 - mae: 0.0315\n",
            "Epoch 808/1200\n",
            "1/1 [==============================] - 0s 12ms/step - loss: 0.0013 - mae: 0.0314\n",
            "Epoch 809/1200\n",
            "1/1 [==============================] - 0s 6ms/step - loss: 0.0013 - mae: 0.0313\n",
            "Epoch 810/1200\n",
            "1/1 [==============================] - 0s 12ms/step - loss: 0.0013 - mae: 0.0312\n",
            "Epoch 811/1200\n",
            "1/1 [==============================] - 0s 7ms/step - loss: 0.0013 - mae: 0.0310\n",
            "Epoch 812/1200\n",
            "1/1 [==============================] - 0s 8ms/step - loss: 0.0013 - mae: 0.0309\n",
            "Epoch 813/1200\n",
            "1/1 [==============================] - 0s 9ms/step - loss: 0.0013 - mae: 0.0308\n",
            "Epoch 814/1200\n",
            "1/1 [==============================] - 0s 7ms/step - loss: 0.0013 - mae: 0.0307\n",
            "Epoch 815/1200\n",
            "1/1 [==============================] - 0s 7ms/step - loss: 0.0013 - mae: 0.0306\n",
            "Epoch 816/1200\n",
            "1/1 [==============================] - 0s 8ms/step - loss: 0.0013 - mae: 0.0305\n",
            "Epoch 817/1200\n",
            "1/1 [==============================] - 0s 7ms/step - loss: 0.0013 - mae: 0.0304\n",
            "Epoch 818/1200\n",
            "1/1 [==============================] - 0s 6ms/step - loss: 0.0012 - mae: 0.0303\n",
            "Epoch 819/1200\n",
            "1/1 [==============================] - 0s 6ms/step - loss: 0.0012 - mae: 0.0302\n",
            "Epoch 820/1200\n",
            "1/1 [==============================] - 0s 7ms/step - loss: 0.0012 - mae: 0.0301\n",
            "Epoch 821/1200\n",
            "1/1 [==============================] - 0s 10ms/step - loss: 0.0012 - mae: 0.0300\n",
            "Epoch 822/1200\n",
            "1/1 [==============================] - 0s 10ms/step - loss: 0.0012 - mae: 0.0299\n",
            "Epoch 823/1200\n",
            "1/1 [==============================] - 0s 7ms/step - loss: 0.0012 - mae: 0.0298\n",
            "Epoch 824/1200\n",
            "1/1 [==============================] - 0s 7ms/step - loss: 0.0012 - mae: 0.0297\n",
            "Epoch 825/1200\n",
            "1/1 [==============================] - 0s 7ms/step - loss: 0.0012 - mae: 0.0296\n",
            "Epoch 826/1200\n",
            "1/1 [==============================] - 0s 9ms/step - loss: 0.0012 - mae: 0.0295\n",
            "Epoch 827/1200\n",
            "1/1 [==============================] - 0s 8ms/step - loss: 0.0012 - mae: 0.0294\n",
            "Epoch 828/1200\n",
            "1/1 [==============================] - 0s 8ms/step - loss: 0.0012 - mae: 0.0293\n",
            "Epoch 829/1200\n",
            "1/1 [==============================] - 0s 7ms/step - loss: 0.0012 - mae: 0.0292\n",
            "Epoch 830/1200\n",
            "1/1 [==============================] - 0s 8ms/step - loss: 0.0012 - mae: 0.0291\n",
            "Epoch 831/1200\n",
            "1/1 [==============================] - 0s 8ms/step - loss: 0.0011 - mae: 0.0290\n",
            "Epoch 832/1200\n",
            "1/1 [==============================] - 0s 8ms/step - loss: 0.0011 - mae: 0.0289\n",
            "Epoch 833/1200\n",
            "1/1 [==============================] - 0s 8ms/step - loss: 0.0011 - mae: 0.0288\n",
            "Epoch 834/1200\n",
            "1/1 [==============================] - 0s 7ms/step - loss: 0.0011 - mae: 0.0287\n",
            "Epoch 835/1200\n",
            "1/1 [==============================] - 0s 8ms/step - loss: 0.0011 - mae: 0.0286\n",
            "Epoch 836/1200\n",
            "1/1 [==============================] - 0s 7ms/step - loss: 0.0011 - mae: 0.0285\n",
            "Epoch 837/1200\n",
            "1/1 [==============================] - 0s 8ms/step - loss: 0.0011 - mae: 0.0284\n",
            "Epoch 838/1200\n",
            "1/1 [==============================] - 0s 9ms/step - loss: 0.0011 - mae: 0.0283\n",
            "Epoch 839/1200\n",
            "1/1 [==============================] - 0s 8ms/step - loss: 0.0011 - mae: 0.0282\n",
            "Epoch 840/1200\n",
            "1/1 [==============================] - 0s 8ms/step - loss: 0.0011 - mae: 0.0281\n",
            "Epoch 841/1200\n",
            "1/1 [==============================] - 0s 7ms/step - loss: 0.0011 - mae: 0.0280\n",
            "Epoch 842/1200\n",
            "1/1 [==============================] - 0s 7ms/step - loss: 0.0011 - mae: 0.0280\n",
            "Epoch 843/1200\n",
            "1/1 [==============================] - 0s 8ms/step - loss: 0.0011 - mae: 0.0279\n",
            "Epoch 844/1200\n",
            "1/1 [==============================] - 0s 7ms/step - loss: 0.0010 - mae: 0.0278\n",
            "Epoch 845/1200\n",
            "1/1 [==============================] - 0s 9ms/step - loss: 0.0010 - mae: 0.0277\n",
            "Epoch 846/1200\n",
            "1/1 [==============================] - 0s 8ms/step - loss: 0.0010 - mae: 0.0276\n",
            "Epoch 847/1200\n",
            "1/1 [==============================] - 0s 8ms/step - loss: 0.0010 - mae: 0.0275\n",
            "Epoch 848/1200\n",
            "1/1 [==============================] - 0s 7ms/step - loss: 0.0010 - mae: 0.0274\n",
            "Epoch 849/1200\n",
            "1/1 [==============================] - 0s 8ms/step - loss: 0.0010 - mae: 0.0273\n",
            "Epoch 850/1200\n",
            "1/1 [==============================] - 0s 11ms/step - loss: 0.0010 - mae: 0.0272\n",
            "Epoch 851/1200\n",
            "1/1 [==============================] - 0s 7ms/step - loss: 9.9779e-04 - mae: 0.0271\n",
            "Epoch 852/1200\n",
            "1/1 [==============================] - 0s 10ms/step - loss: 9.9108e-04 - mae: 0.0270\n",
            "Epoch 853/1200\n",
            "1/1 [==============================] - 0s 11ms/step - loss: 9.8437e-04 - mae: 0.0269\n",
            "Epoch 854/1200\n",
            "1/1 [==============================] - 0s 11ms/step - loss: 9.7772e-04 - mae: 0.0268\n",
            "Epoch 855/1200\n",
            "1/1 [==============================] - 0s 7ms/step - loss: 9.7113e-04 - mae: 0.0267\n",
            "Epoch 856/1200\n",
            "1/1 [==============================] - 0s 12ms/step - loss: 9.6456e-04 - mae: 0.0267\n",
            "Epoch 857/1200\n",
            "1/1 [==============================] - 0s 10ms/step - loss: 9.5805e-04 - mae: 0.0266\n",
            "Epoch 858/1200\n",
            "1/1 [==============================] - 0s 7ms/step - loss: 9.5160e-04 - mae: 0.0265\n",
            "Epoch 859/1200\n",
            "1/1 [==============================] - 0s 10ms/step - loss: 9.4517e-04 - mae: 0.0264\n",
            "Epoch 860/1200\n",
            "1/1 [==============================] - 0s 6ms/step - loss: 9.3878e-04 - mae: 0.0263\n",
            "Epoch 861/1200\n",
            "1/1 [==============================] - 0s 6ms/step - loss: 9.3246e-04 - mae: 0.0262\n",
            "Epoch 862/1200\n",
            "1/1 [==============================] - 0s 7ms/step - loss: 9.2614e-04 - mae: 0.0261\n",
            "Epoch 863/1200\n",
            "1/1 [==============================] - 0s 6ms/step - loss: 9.1990e-04 - mae: 0.0260\n",
            "Epoch 864/1200\n",
            "1/1 [==============================] - 0s 10ms/step - loss: 9.1369e-04 - mae: 0.0259\n",
            "Epoch 865/1200\n",
            "1/1 [==============================] - 0s 9ms/step - loss: 9.0753e-04 - mae: 0.0259\n",
            "Epoch 866/1200\n",
            "1/1 [==============================] - 0s 7ms/step - loss: 9.0140e-04 - mae: 0.0258\n",
            "Epoch 867/1200\n",
            "1/1 [==============================] - 0s 7ms/step - loss: 8.9531e-04 - mae: 0.0257\n",
            "Epoch 868/1200\n",
            "1/1 [==============================] - 0s 6ms/step - loss: 8.8927e-04 - mae: 0.0256\n",
            "Epoch 869/1200\n",
            "1/1 [==============================] - 0s 6ms/step - loss: 8.8326e-04 - mae: 0.0255\n",
            "Epoch 870/1200\n",
            "1/1 [==============================] - 0s 6ms/step - loss: 8.7731e-04 - mae: 0.0254\n",
            "Epoch 871/1200\n",
            "1/1 [==============================] - 0s 6ms/step - loss: 8.7138e-04 - mae: 0.0253\n",
            "Epoch 872/1200\n",
            "1/1 [==============================] - 0s 6ms/step - loss: 8.6551e-04 - mae: 0.0253\n",
            "Epoch 873/1200\n",
            "1/1 [==============================] - 0s 6ms/step - loss: 8.5966e-04 - mae: 0.0252\n",
            "Epoch 874/1200\n",
            "1/1 [==============================] - 0s 6ms/step - loss: 8.5384e-04 - mae: 0.0251\n",
            "Epoch 875/1200\n",
            "1/1 [==============================] - 0s 14ms/step - loss: 8.4808e-04 - mae: 0.0250\n",
            "Epoch 876/1200\n",
            "1/1 [==============================] - 0s 13ms/step - loss: 8.4234e-04 - mae: 0.0249\n",
            "Epoch 877/1200\n",
            "1/1 [==============================] - 0s 10ms/step - loss: 8.3667e-04 - mae: 0.0248\n",
            "Epoch 878/1200\n",
            "1/1 [==============================] - 0s 10ms/step - loss: 8.3102e-04 - mae: 0.0247\n",
            "Epoch 879/1200\n",
            "1/1 [==============================] - 0s 12ms/step - loss: 8.2541e-04 - mae: 0.0247\n",
            "Epoch 880/1200\n",
            "1/1 [==============================] - 0s 9ms/step - loss: 8.1984e-04 - mae: 0.0246\n",
            "Epoch 881/1200\n",
            "1/1 [==============================] - 0s 10ms/step - loss: 8.1431e-04 - mae: 0.0245\n",
            "Epoch 882/1200\n",
            "1/1 [==============================] - 0s 10ms/step - loss: 8.0881e-04 - mae: 0.0244\n",
            "Epoch 883/1200\n",
            "1/1 [==============================] - 0s 10ms/step - loss: 8.0334e-04 - mae: 0.0243\n",
            "Epoch 884/1200\n",
            "1/1 [==============================] - 0s 10ms/step - loss: 7.9793e-04 - mae: 0.0242\n",
            "Epoch 885/1200\n",
            "1/1 [==============================] - 0s 12ms/step - loss: 7.9254e-04 - mae: 0.0242\n",
            "Epoch 886/1200\n",
            "1/1 [==============================] - 0s 7ms/step - loss: 7.8719e-04 - mae: 0.0241\n",
            "Epoch 887/1200\n",
            "1/1 [==============================] - 0s 6ms/step - loss: 7.8189e-04 - mae: 0.0240\n",
            "Epoch 888/1200\n",
            "1/1 [==============================] - 0s 6ms/step - loss: 7.7660e-04 - mae: 0.0239\n",
            "Epoch 889/1200\n",
            "1/1 [==============================] - 0s 5ms/step - loss: 7.7136e-04 - mae: 0.0238\n",
            "Epoch 890/1200\n",
            "1/1 [==============================] - 0s 6ms/step - loss: 7.6614e-04 - mae: 0.0238\n",
            "Epoch 891/1200\n",
            "1/1 [==============================] - 0s 6ms/step - loss: 7.6098e-04 - mae: 0.0237\n",
            "Epoch 892/1200\n",
            "1/1 [==============================] - 0s 6ms/step - loss: 7.5584e-04 - mae: 0.0236\n",
            "Epoch 893/1200\n",
            "1/1 [==============================] - 0s 7ms/step - loss: 7.5073e-04 - mae: 0.0235\n",
            "Epoch 894/1200\n",
            "1/1 [==============================] - 0s 8ms/step - loss: 7.4568e-04 - mae: 0.0234\n",
            "Epoch 895/1200\n",
            "1/1 [==============================] - 0s 8ms/step - loss: 7.4064e-04 - mae: 0.0234\n",
            "Epoch 896/1200\n",
            "1/1 [==============================] - 0s 6ms/step - loss: 7.3563e-04 - mae: 0.0233\n",
            "Epoch 897/1200\n",
            "1/1 [==============================] - 0s 5ms/step - loss: 7.3067e-04 - mae: 0.0232\n",
            "Epoch 898/1200\n",
            "1/1 [==============================] - 0s 5ms/step - loss: 7.2574e-04 - mae: 0.0231\n",
            "Epoch 899/1200\n",
            "1/1 [==============================] - 0s 5ms/step - loss: 7.2084e-04 - mae: 0.0230\n",
            "Epoch 900/1200\n",
            "1/1 [==============================] - 0s 5ms/step - loss: 7.1598e-04 - mae: 0.0230\n",
            "Epoch 901/1200\n",
            "1/1 [==============================] - 0s 6ms/step - loss: 7.1113e-04 - mae: 0.0229\n",
            "Epoch 902/1200\n",
            "1/1 [==============================] - 0s 6ms/step - loss: 7.0635e-04 - mae: 0.0228\n",
            "Epoch 903/1200\n",
            "1/1 [==============================] - 0s 6ms/step - loss: 7.0157e-04 - mae: 0.0227\n",
            "Epoch 904/1200\n",
            "1/1 [==============================] - 0s 5ms/step - loss: 6.9682e-04 - mae: 0.0227\n",
            "Epoch 905/1200\n",
            "1/1 [==============================] - 0s 5ms/step - loss: 6.9212e-04 - mae: 0.0226\n",
            "Epoch 906/1200\n",
            "1/1 [==============================] - 0s 9ms/step - loss: 6.8745e-04 - mae: 0.0225\n",
            "Epoch 907/1200\n",
            "1/1 [==============================] - 0s 6ms/step - loss: 6.8282e-04 - mae: 0.0224\n",
            "Epoch 908/1200\n",
            "1/1 [==============================] - 0s 6ms/step - loss: 6.7821e-04 - mae: 0.0224\n",
            "Epoch 909/1200\n",
            "1/1 [==============================] - 0s 6ms/step - loss: 6.7363e-04 - mae: 0.0223\n",
            "Epoch 910/1200\n",
            "1/1 [==============================] - 0s 6ms/step - loss: 6.6908e-04 - mae: 0.0222\n",
            "Epoch 911/1200\n",
            "1/1 [==============================] - 0s 6ms/step - loss: 6.6457e-04 - mae: 0.0221\n",
            "Epoch 912/1200\n",
            "1/1 [==============================] - 0s 5ms/step - loss: 6.6008e-04 - mae: 0.0221\n",
            "Epoch 913/1200\n",
            "1/1 [==============================] - 0s 6ms/step - loss: 6.5563e-04 - mae: 0.0220\n",
            "Epoch 914/1200\n",
            "1/1 [==============================] - 0s 6ms/step - loss: 6.5119e-04 - mae: 0.0219\n",
            "Epoch 915/1200\n",
            "1/1 [==============================] - 0s 6ms/step - loss: 6.4680e-04 - mae: 0.0218\n",
            "Epoch 916/1200\n",
            "1/1 [==============================] - 0s 6ms/step - loss: 6.4244e-04 - mae: 0.0218\n",
            "Epoch 917/1200\n",
            "1/1 [==============================] - 0s 8ms/step - loss: 6.3810e-04 - mae: 0.0217\n",
            "Epoch 918/1200\n",
            "1/1 [==============================] - 0s 7ms/step - loss: 6.3379e-04 - mae: 0.0216\n",
            "Epoch 919/1200\n",
            "1/1 [==============================] - 0s 8ms/step - loss: 6.2951e-04 - mae: 0.0215\n",
            "Epoch 920/1200\n",
            "1/1 [==============================] - 0s 7ms/step - loss: 6.2525e-04 - mae: 0.0215\n",
            "Epoch 921/1200\n",
            "1/1 [==============================] - 0s 11ms/step - loss: 6.2104e-04 - mae: 0.0214\n",
            "Epoch 922/1200\n",
            "1/1 [==============================] - 0s 8ms/step - loss: 6.1684e-04 - mae: 0.0213\n",
            "Epoch 923/1200\n",
            "1/1 [==============================] - 0s 8ms/step - loss: 6.1267e-04 - mae: 0.0212\n",
            "Epoch 924/1200\n",
            "1/1 [==============================] - 0s 6ms/step - loss: 6.0855e-04 - mae: 0.0212\n",
            "Epoch 925/1200\n",
            "1/1 [==============================] - 0s 7ms/step - loss: 6.0443e-04 - mae: 0.0211\n",
            "Epoch 926/1200\n",
            "1/1 [==============================] - 0s 7ms/step - loss: 6.0036e-04 - mae: 0.0210\n",
            "Epoch 927/1200\n",
            "1/1 [==============================] - 0s 6ms/step - loss: 5.9631e-04 - mae: 0.0210\n",
            "Epoch 928/1200\n",
            "1/1 [==============================] - 0s 7ms/step - loss: 5.9229e-04 - mae: 0.0209\n",
            "Epoch 929/1200\n",
            "1/1 [==============================] - 0s 7ms/step - loss: 5.8829e-04 - mae: 0.0208\n",
            "Epoch 930/1200\n",
            "1/1 [==============================] - 0s 6ms/step - loss: 5.8431e-04 - mae: 0.0207\n",
            "Epoch 931/1200\n",
            "1/1 [==============================] - 0s 6ms/step - loss: 5.8037e-04 - mae: 0.0207\n",
            "Epoch 932/1200\n",
            "1/1 [==============================] - 0s 9ms/step - loss: 5.7645e-04 - mae: 0.0206\n",
            "Epoch 933/1200\n",
            "1/1 [==============================] - 0s 8ms/step - loss: 5.7257e-04 - mae: 0.0205\n",
            "Epoch 934/1200\n",
            "1/1 [==============================] - 0s 6ms/step - loss: 5.6868e-04 - mae: 0.0205\n",
            "Epoch 935/1200\n",
            "1/1 [==============================] - 0s 6ms/step - loss: 5.6485e-04 - mae: 0.0204\n",
            "Epoch 936/1200\n",
            "1/1 [==============================] - 0s 6ms/step - loss: 5.6104e-04 - mae: 0.0203\n",
            "Epoch 937/1200\n",
            "1/1 [==============================] - 0s 6ms/step - loss: 5.5725e-04 - mae: 0.0203\n",
            "Epoch 938/1200\n",
            "1/1 [==============================] - 0s 5ms/step - loss: 5.5350e-04 - mae: 0.0202\n",
            "Epoch 939/1200\n",
            "1/1 [==============================] - 0s 5ms/step - loss: 5.4976e-04 - mae: 0.0201\n",
            "Epoch 940/1200\n",
            "1/1 [==============================] - 0s 5ms/step - loss: 5.4604e-04 - mae: 0.0201\n",
            "Epoch 941/1200\n",
            "1/1 [==============================] - 0s 5ms/step - loss: 5.4235e-04 - mae: 0.0200\n",
            "Epoch 942/1200\n",
            "1/1 [==============================] - 0s 5ms/step - loss: 5.3870e-04 - mae: 0.0199\n",
            "Epoch 943/1200\n",
            "1/1 [==============================] - 0s 6ms/step - loss: 5.3507e-04 - mae: 0.0199\n",
            "Epoch 944/1200\n",
            "1/1 [==============================] - 0s 6ms/step - loss: 5.3146e-04 - mae: 0.0198\n",
            "Epoch 945/1200\n",
            "1/1 [==============================] - 0s 5ms/step - loss: 5.2786e-04 - mae: 0.0197\n",
            "Epoch 946/1200\n",
            "1/1 [==============================] - 0s 6ms/step - loss: 5.2430e-04 - mae: 0.0197\n",
            "Epoch 947/1200\n",
            "1/1 [==============================] - 0s 5ms/step - loss: 5.2076e-04 - mae: 0.0196\n",
            "Epoch 948/1200\n",
            "1/1 [==============================] - 0s 6ms/step - loss: 5.1723e-04 - mae: 0.0195\n",
            "Epoch 949/1200\n",
            "1/1 [==============================] - 0s 5ms/step - loss: 5.1374e-04 - mae: 0.0195\n",
            "Epoch 950/1200\n",
            "1/1 [==============================] - 0s 6ms/step - loss: 5.1028e-04 - mae: 0.0194\n",
            "Epoch 951/1200\n",
            "1/1 [==============================] - 0s 7ms/step - loss: 5.0683e-04 - mae: 0.0193\n",
            "Epoch 952/1200\n",
            "1/1 [==============================] - 0s 6ms/step - loss: 5.0342e-04 - mae: 0.0193\n",
            "Epoch 953/1200\n",
            "1/1 [==============================] - 0s 7ms/step - loss: 5.0001e-04 - mae: 0.0192\n",
            "Epoch 954/1200\n",
            "1/1 [==============================] - 0s 9ms/step - loss: 4.9663e-04 - mae: 0.0191\n",
            "Epoch 955/1200\n",
            "1/1 [==============================] - 0s 6ms/step - loss: 4.9329e-04 - mae: 0.0191\n",
            "Epoch 956/1200\n",
            "1/1 [==============================] - 0s 17ms/step - loss: 4.8996e-04 - mae: 0.0190\n",
            "Epoch 957/1200\n",
            "1/1 [==============================] - 0s 7ms/step - loss: 4.8665e-04 - mae: 0.0189\n",
            "Epoch 958/1200\n",
            "1/1 [==============================] - 0s 8ms/step - loss: 4.8337e-04 - mae: 0.0189\n",
            "Epoch 959/1200\n",
            "1/1 [==============================] - 0s 5ms/step - loss: 4.8010e-04 - mae: 0.0188\n",
            "Epoch 960/1200\n",
            "1/1 [==============================] - 0s 5ms/step - loss: 4.7687e-04 - mae: 0.0187\n",
            "Epoch 961/1200\n",
            "1/1 [==============================] - 0s 5ms/step - loss: 4.7364e-04 - mae: 0.0187\n",
            "Epoch 962/1200\n",
            "1/1 [==============================] - 0s 5ms/step - loss: 4.7044e-04 - mae: 0.0186\n",
            "Epoch 963/1200\n",
            "1/1 [==============================] - 0s 5ms/step - loss: 4.6726e-04 - mae: 0.0186\n",
            "Epoch 964/1200\n",
            "1/1 [==============================] - 0s 5ms/step - loss: 4.6411e-04 - mae: 0.0185\n",
            "Epoch 965/1200\n",
            "1/1 [==============================] - 0s 6ms/step - loss: 4.6097e-04 - mae: 0.0184\n",
            "Epoch 966/1200\n",
            "1/1 [==============================] - 0s 7ms/step - loss: 4.5786e-04 - mae: 0.0184\n",
            "Epoch 967/1200\n",
            "1/1 [==============================] - 0s 6ms/step - loss: 4.5477e-04 - mae: 0.0183\n",
            "Epoch 968/1200\n",
            "1/1 [==============================] - 0s 6ms/step - loss: 4.5170e-04 - mae: 0.0182\n",
            "Epoch 969/1200\n",
            "1/1 [==============================] - 0s 5ms/step - loss: 4.4866e-04 - mae: 0.0182\n",
            "Epoch 970/1200\n",
            "1/1 [==============================] - 0s 11ms/step - loss: 4.4562e-04 - mae: 0.0181\n",
            "Epoch 971/1200\n",
            "1/1 [==============================] - 0s 11ms/step - loss: 4.4263e-04 - mae: 0.0181\n",
            "Epoch 972/1200\n",
            "1/1 [==============================] - 0s 6ms/step - loss: 4.3963e-04 - mae: 0.0180\n",
            "Epoch 973/1200\n",
            "1/1 [==============================] - 0s 7ms/step - loss: 4.3667e-04 - mae: 0.0179\n",
            "Epoch 974/1200\n",
            "1/1 [==============================] - 0s 7ms/step - loss: 4.3371e-04 - mae: 0.0179\n",
            "Epoch 975/1200\n",
            "1/1 [==============================] - 0s 7ms/step - loss: 4.3079e-04 - mae: 0.0178\n",
            "Epoch 976/1200\n",
            "1/1 [==============================] - 0s 9ms/step - loss: 4.2788e-04 - mae: 0.0178\n",
            "Epoch 977/1200\n",
            "1/1 [==============================] - 0s 7ms/step - loss: 4.2499e-04 - mae: 0.0177\n",
            "Epoch 978/1200\n",
            "1/1 [==============================] - 0s 7ms/step - loss: 4.2213e-04 - mae: 0.0176\n",
            "Epoch 979/1200\n",
            "1/1 [==============================] - 0s 8ms/step - loss: 4.1928e-04 - mae: 0.0176\n",
            "Epoch 980/1200\n",
            "1/1 [==============================] - 0s 8ms/step - loss: 4.1644e-04 - mae: 0.0175\n",
            "Epoch 981/1200\n",
            "1/1 [==============================] - 0s 7ms/step - loss: 4.1363e-04 - mae: 0.0175\n",
            "Epoch 982/1200\n",
            "1/1 [==============================] - 0s 6ms/step - loss: 4.1082e-04 - mae: 0.0174\n",
            "Epoch 983/1200\n",
            "1/1 [==============================] - 0s 6ms/step - loss: 4.0806e-04 - mae: 0.0173\n",
            "Epoch 984/1200\n",
            "1/1 [==============================] - 0s 6ms/step - loss: 4.0531e-04 - mae: 0.0173\n",
            "Epoch 985/1200\n",
            "1/1 [==============================] - 0s 5ms/step - loss: 4.0258e-04 - mae: 0.0172\n",
            "Epoch 986/1200\n",
            "1/1 [==============================] - 0s 6ms/step - loss: 3.9986e-04 - mae: 0.0172\n",
            "Epoch 987/1200\n",
            "1/1 [==============================] - 0s 7ms/step - loss: 3.9716e-04 - mae: 0.0171\n",
            "Epoch 988/1200\n",
            "1/1 [==============================] - 0s 8ms/step - loss: 3.9448e-04 - mae: 0.0170\n",
            "Epoch 989/1200\n",
            "1/1 [==============================] - 0s 12ms/step - loss: 3.9181e-04 - mae: 0.0170\n",
            "Epoch 990/1200\n",
            "1/1 [==============================] - 0s 12ms/step - loss: 3.8918e-04 - mae: 0.0169\n",
            "Epoch 991/1200\n",
            "1/1 [==============================] - 0s 9ms/step - loss: 3.8654e-04 - mae: 0.0169\n",
            "Epoch 992/1200\n",
            "1/1 [==============================] - 0s 9ms/step - loss: 3.8393e-04 - mae: 0.0168\n",
            "Epoch 993/1200\n",
            "1/1 [==============================] - 0s 9ms/step - loss: 3.8134e-04 - mae: 0.0168\n",
            "Epoch 994/1200\n",
            "1/1 [==============================] - 0s 9ms/step - loss: 3.7876e-04 - mae: 0.0167\n",
            "Epoch 995/1200\n",
            "1/1 [==============================] - 0s 8ms/step - loss: 3.7621e-04 - mae: 0.0166\n",
            "Epoch 996/1200\n",
            "1/1 [==============================] - 0s 10ms/step - loss: 3.7368e-04 - mae: 0.0166\n",
            "Epoch 997/1200\n",
            "1/1 [==============================] - 0s 8ms/step - loss: 3.7116e-04 - mae: 0.0165\n",
            "Epoch 998/1200\n",
            "1/1 [==============================] - 0s 7ms/step - loss: 3.6864e-04 - mae: 0.0165\n",
            "Epoch 999/1200\n",
            "1/1 [==============================] - 0s 8ms/step - loss: 3.6615e-04 - mae: 0.0164\n",
            "Epoch 1000/1200\n",
            "1/1 [==============================] - 0s 11ms/step - loss: 3.6367e-04 - mae: 0.0164\n",
            "Epoch 1001/1200\n",
            "1/1 [==============================] - 0s 13ms/step - loss: 3.6124e-04 - mae: 0.0163\n",
            "Epoch 1002/1200\n",
            "1/1 [==============================] - 0s 11ms/step - loss: 3.5879e-04 - mae: 0.0163\n",
            "Epoch 1003/1200\n",
            "1/1 [==============================] - 0s 7ms/step - loss: 3.5637e-04 - mae: 0.0162\n",
            "Epoch 1004/1200\n",
            "1/1 [==============================] - 0s 6ms/step - loss: 3.5397e-04 - mae: 0.0161\n",
            "Epoch 1005/1200\n",
            "1/1 [==============================] - 0s 12ms/step - loss: 3.5158e-04 - mae: 0.0161\n",
            "Epoch 1006/1200\n",
            "1/1 [==============================] - 0s 6ms/step - loss: 3.4921e-04 - mae: 0.0160\n",
            "Epoch 1007/1200\n",
            "1/1 [==============================] - 0s 7ms/step - loss: 3.4683e-04 - mae: 0.0160\n",
            "Epoch 1008/1200\n",
            "1/1 [==============================] - 0s 7ms/step - loss: 3.4450e-04 - mae: 0.0159\n",
            "Epoch 1009/1200\n",
            "1/1 [==============================] - 0s 11ms/step - loss: 3.4217e-04 - mae: 0.0159\n",
            "Epoch 1010/1200\n",
            "1/1 [==============================] - 0s 7ms/step - loss: 3.3987e-04 - mae: 0.0158\n",
            "Epoch 1011/1200\n",
            "1/1 [==============================] - 0s 8ms/step - loss: 3.3756e-04 - mae: 0.0158\n",
            "Epoch 1012/1200\n",
            "1/1 [==============================] - 0s 10ms/step - loss: 3.3530e-04 - mae: 0.0157\n",
            "Epoch 1013/1200\n",
            "1/1 [==============================] - 0s 10ms/step - loss: 3.3304e-04 - mae: 0.0157\n",
            "Epoch 1014/1200\n",
            "1/1 [==============================] - 0s 8ms/step - loss: 3.3080e-04 - mae: 0.0156\n",
            "Epoch 1015/1200\n",
            "1/1 [==============================] - 0s 8ms/step - loss: 3.2855e-04 - mae: 0.0156\n",
            "Epoch 1016/1200\n",
            "1/1 [==============================] - 0s 8ms/step - loss: 3.2634e-04 - mae: 0.0155\n",
            "Epoch 1017/1200\n",
            "1/1 [==============================] - 0s 9ms/step - loss: 3.2413e-04 - mae: 0.0155\n",
            "Epoch 1018/1200\n",
            "1/1 [==============================] - 0s 10ms/step - loss: 3.2194e-04 - mae: 0.0154\n",
            "Epoch 1019/1200\n",
            "1/1 [==============================] - 0s 7ms/step - loss: 3.1978e-04 - mae: 0.0153\n",
            "Epoch 1020/1200\n",
            "1/1 [==============================] - 0s 8ms/step - loss: 3.1761e-04 - mae: 0.0153\n",
            "Epoch 1021/1200\n",
            "1/1 [==============================] - 0s 6ms/step - loss: 3.1546e-04 - mae: 0.0152\n",
            "Epoch 1022/1200\n",
            "1/1 [==============================] - 0s 8ms/step - loss: 3.1333e-04 - mae: 0.0152\n",
            "Epoch 1023/1200\n",
            "1/1 [==============================] - 0s 6ms/step - loss: 3.1122e-04 - mae: 0.0151\n",
            "Epoch 1024/1200\n",
            "1/1 [==============================] - 0s 6ms/step - loss: 3.0912e-04 - mae: 0.0151\n",
            "Epoch 1025/1200\n",
            "1/1 [==============================] - 0s 6ms/step - loss: 3.0703e-04 - mae: 0.0150\n",
            "Epoch 1026/1200\n",
            "1/1 [==============================] - 0s 7ms/step - loss: 3.0496e-04 - mae: 0.0150\n",
            "Epoch 1027/1200\n",
            "1/1 [==============================] - 0s 5ms/step - loss: 3.0290e-04 - mae: 0.0149\n",
            "Epoch 1028/1200\n",
            "1/1 [==============================] - 0s 8ms/step - loss: 3.0085e-04 - mae: 0.0149\n",
            "Epoch 1029/1200\n",
            "1/1 [==============================] - 0s 5ms/step - loss: 2.9882e-04 - mae: 0.0148\n",
            "Epoch 1030/1200\n",
            "1/1 [==============================] - 0s 8ms/step - loss: 2.9681e-04 - mae: 0.0148\n",
            "Epoch 1031/1200\n",
            "1/1 [==============================] - 0s 7ms/step - loss: 2.9480e-04 - mae: 0.0147\n",
            "Epoch 1032/1200\n",
            "1/1 [==============================] - 0s 7ms/step - loss: 2.9281e-04 - mae: 0.0147\n",
            "Epoch 1033/1200\n",
            "1/1 [==============================] - 0s 7ms/step - loss: 2.9084e-04 - mae: 0.0146\n",
            "Epoch 1034/1200\n",
            "1/1 [==============================] - 0s 8ms/step - loss: 2.8886e-04 - mae: 0.0146\n",
            "Epoch 1035/1200\n",
            "1/1 [==============================] - 0s 8ms/step - loss: 2.8693e-04 - mae: 0.0145\n",
            "Epoch 1036/1200\n",
            "1/1 [==============================] - 0s 10ms/step - loss: 2.8497e-04 - mae: 0.0145\n",
            "Epoch 1037/1200\n",
            "1/1 [==============================] - 0s 11ms/step - loss: 2.8306e-04 - mae: 0.0144\n",
            "Epoch 1038/1200\n",
            "1/1 [==============================] - 0s 7ms/step - loss: 2.8115e-04 - mae: 0.0144\n",
            "Epoch 1039/1200\n",
            "1/1 [==============================] - 0s 8ms/step - loss: 2.7926e-04 - mae: 0.0143\n",
            "Epoch 1040/1200\n",
            "1/1 [==============================] - 0s 9ms/step - loss: 2.7737e-04 - mae: 0.0143\n",
            "Epoch 1041/1200\n",
            "1/1 [==============================] - 0s 6ms/step - loss: 2.7550e-04 - mae: 0.0142\n",
            "Epoch 1042/1200\n",
            "1/1 [==============================] - 0s 8ms/step - loss: 2.7364e-04 - mae: 0.0142\n",
            "Epoch 1043/1200\n",
            "1/1 [==============================] - 0s 15ms/step - loss: 2.7178e-04 - mae: 0.0142\n",
            "Epoch 1044/1200\n",
            "1/1 [==============================] - 0s 10ms/step - loss: 2.6995e-04 - mae: 0.0141\n",
            "Epoch 1045/1200\n",
            "1/1 [==============================] - 0s 11ms/step - loss: 2.6813e-04 - mae: 0.0141\n",
            "Epoch 1046/1200\n",
            "1/1 [==============================] - 0s 7ms/step - loss: 2.6633e-04 - mae: 0.0140\n",
            "Epoch 1047/1200\n",
            "1/1 [==============================] - 0s 7ms/step - loss: 2.6453e-04 - mae: 0.0140\n",
            "Epoch 1048/1200\n",
            "1/1 [==============================] - 0s 9ms/step - loss: 2.6274e-04 - mae: 0.0139\n",
            "Epoch 1049/1200\n",
            "1/1 [==============================] - 0s 10ms/step - loss: 2.6097e-04 - mae: 0.0139\n",
            "Epoch 1050/1200\n",
            "1/1 [==============================] - 0s 9ms/step - loss: 2.5920e-04 - mae: 0.0138\n",
            "Epoch 1051/1200\n",
            "1/1 [==============================] - 0s 9ms/step - loss: 2.5745e-04 - mae: 0.0138\n",
            "Epoch 1052/1200\n",
            "1/1 [==============================] - 0s 8ms/step - loss: 2.5571e-04 - mae: 0.0137\n",
            "Epoch 1053/1200\n",
            "1/1 [==============================] - 0s 7ms/step - loss: 2.5399e-04 - mae: 0.0137\n",
            "Epoch 1054/1200\n",
            "1/1 [==============================] - 0s 9ms/step - loss: 2.5227e-04 - mae: 0.0136\n",
            "Epoch 1055/1200\n",
            "1/1 [==============================] - 0s 7ms/step - loss: 2.5057e-04 - mae: 0.0136\n",
            "Epoch 1056/1200\n",
            "1/1 [==============================] - 0s 7ms/step - loss: 2.4889e-04 - mae: 0.0135\n",
            "Epoch 1057/1200\n",
            "1/1 [==============================] - 0s 7ms/step - loss: 2.4721e-04 - mae: 0.0135\n",
            "Epoch 1058/1200\n",
            "1/1 [==============================] - 0s 7ms/step - loss: 2.4553e-04 - mae: 0.0134\n",
            "Epoch 1059/1200\n",
            "1/1 [==============================] - 0s 7ms/step - loss: 2.4387e-04 - mae: 0.0134\n",
            "Epoch 1060/1200\n",
            "1/1 [==============================] - 0s 7ms/step - loss: 2.4223e-04 - mae: 0.0134\n",
            "Epoch 1061/1200\n",
            "1/1 [==============================] - 0s 7ms/step - loss: 2.4060e-04 - mae: 0.0133\n",
            "Epoch 1062/1200\n",
            "1/1 [==============================] - 0s 7ms/step - loss: 2.3897e-04 - mae: 0.0133\n",
            "Epoch 1063/1200\n",
            "1/1 [==============================] - 0s 7ms/step - loss: 2.3735e-04 - mae: 0.0132\n",
            "Epoch 1064/1200\n",
            "1/1 [==============================] - 0s 7ms/step - loss: 2.3575e-04 - mae: 0.0132\n",
            "Epoch 1065/1200\n",
            "1/1 [==============================] - 0s 7ms/step - loss: 2.3416e-04 - mae: 0.0131\n",
            "Epoch 1066/1200\n",
            "1/1 [==============================] - 0s 8ms/step - loss: 2.3258e-04 - mae: 0.0131\n",
            "Epoch 1067/1200\n",
            "1/1 [==============================] - 0s 7ms/step - loss: 2.3101e-04 - mae: 0.0130\n",
            "Epoch 1068/1200\n",
            "1/1 [==============================] - 0s 7ms/step - loss: 2.2945e-04 - mae: 0.0130\n",
            "Epoch 1069/1200\n",
            "1/1 [==============================] - 0s 7ms/step - loss: 2.2790e-04 - mae: 0.0130\n",
            "Epoch 1070/1200\n",
            "1/1 [==============================] - 0s 7ms/step - loss: 2.2636e-04 - mae: 0.0129\n",
            "Epoch 1071/1200\n",
            "1/1 [==============================] - 0s 7ms/step - loss: 2.2484e-04 - mae: 0.0129\n",
            "Epoch 1072/1200\n",
            "1/1 [==============================] - 0s 9ms/step - loss: 2.2332e-04 - mae: 0.0128\n",
            "Epoch 1073/1200\n",
            "1/1 [==============================] - 0s 9ms/step - loss: 2.2182e-04 - mae: 0.0128\n",
            "Epoch 1074/1200\n",
            "1/1 [==============================] - 0s 6ms/step - loss: 2.2031e-04 - mae: 0.0127\n",
            "Epoch 1075/1200\n",
            "1/1 [==============================] - 0s 8ms/step - loss: 2.1882e-04 - mae: 0.0127\n",
            "Epoch 1076/1200\n",
            "1/1 [==============================] - 0s 8ms/step - loss: 2.1734e-04 - mae: 0.0127\n",
            "Epoch 1077/1200\n",
            "1/1 [==============================] - 0s 10ms/step - loss: 2.1589e-04 - mae: 0.0126\n",
            "Epoch 1078/1200\n",
            "1/1 [==============================] - 0s 8ms/step - loss: 2.1442e-04 - mae: 0.0126\n",
            "Epoch 1079/1200\n",
            "1/1 [==============================] - 0s 8ms/step - loss: 2.1298e-04 - mae: 0.0125\n",
            "Epoch 1080/1200\n",
            "1/1 [==============================] - 0s 8ms/step - loss: 2.1154e-04 - mae: 0.0125\n",
            "Epoch 1081/1200\n",
            "1/1 [==============================] - 0s 9ms/step - loss: 2.1010e-04 - mae: 0.0124\n",
            "Epoch 1082/1200\n",
            "1/1 [==============================] - 0s 9ms/step - loss: 2.0869e-04 - mae: 0.0124\n",
            "Epoch 1083/1200\n",
            "1/1 [==============================] - 0s 9ms/step - loss: 2.0728e-04 - mae: 0.0124\n",
            "Epoch 1084/1200\n",
            "1/1 [==============================] - 0s 11ms/step - loss: 2.0589e-04 - mae: 0.0123\n",
            "Epoch 1085/1200\n",
            "1/1 [==============================] - 0s 8ms/step - loss: 2.0449e-04 - mae: 0.0123\n",
            "Epoch 1086/1200\n",
            "1/1 [==============================] - 0s 8ms/step - loss: 2.0312e-04 - mae: 0.0122\n",
            "Epoch 1087/1200\n",
            "1/1 [==============================] - 0s 10ms/step - loss: 2.0174e-04 - mae: 0.0122\n",
            "Epoch 1088/1200\n",
            "1/1 [==============================] - 0s 7ms/step - loss: 2.0037e-04 - mae: 0.0121\n",
            "Epoch 1089/1200\n",
            "1/1 [==============================] - 0s 7ms/step - loss: 1.9902e-04 - mae: 0.0121\n",
            "Epoch 1090/1200\n",
            "1/1 [==============================] - 0s 11ms/step - loss: 1.9769e-04 - mae: 0.0121\n",
            "Epoch 1091/1200\n",
            "1/1 [==============================] - 0s 9ms/step - loss: 1.9634e-04 - mae: 0.0120\n",
            "Epoch 1092/1200\n",
            "1/1 [==============================] - 0s 7ms/step - loss: 1.9502e-04 - mae: 0.0120\n",
            "Epoch 1093/1200\n",
            "1/1 [==============================] - 0s 8ms/step - loss: 1.9371e-04 - mae: 0.0119\n",
            "Epoch 1094/1200\n",
            "1/1 [==============================] - 0s 7ms/step - loss: 1.9240e-04 - mae: 0.0119\n",
            "Epoch 1095/1200\n",
            "1/1 [==============================] - 0s 7ms/step - loss: 1.9111e-04 - mae: 0.0119\n",
            "Epoch 1096/1200\n",
            "1/1 [==============================] - 0s 7ms/step - loss: 1.8981e-04 - mae: 0.0118\n",
            "Epoch 1097/1200\n",
            "1/1 [==============================] - 0s 7ms/step - loss: 1.8853e-04 - mae: 0.0118\n",
            "Epoch 1098/1200\n",
            "1/1 [==============================] - 0s 8ms/step - loss: 1.8726e-04 - mae: 0.0117\n",
            "Epoch 1099/1200\n",
            "1/1 [==============================] - 0s 7ms/step - loss: 1.8599e-04 - mae: 0.0117\n",
            "Epoch 1100/1200\n",
            "1/1 [==============================] - 0s 7ms/step - loss: 1.8474e-04 - mae: 0.0117\n",
            "Epoch 1101/1200\n",
            "1/1 [==============================] - 0s 6ms/step - loss: 1.8349e-04 - mae: 0.0116\n",
            "Epoch 1102/1200\n",
            "1/1 [==============================] - 0s 7ms/step - loss: 1.8225e-04 - mae: 0.0116\n",
            "Epoch 1103/1200\n",
            "1/1 [==============================] - 0s 9ms/step - loss: 1.8102e-04 - mae: 0.0115\n",
            "Epoch 1104/1200\n",
            "1/1 [==============================] - 0s 7ms/step - loss: 1.7979e-04 - mae: 0.0115\n",
            "Epoch 1105/1200\n",
            "1/1 [==============================] - 0s 7ms/step - loss: 1.7859e-04 - mae: 0.0115\n",
            "Epoch 1106/1200\n",
            "1/1 [==============================] - 0s 12ms/step - loss: 1.7738e-04 - mae: 0.0114\n",
            "Epoch 1107/1200\n",
            "1/1 [==============================] - 0s 9ms/step - loss: 1.7618e-04 - mae: 0.0114\n",
            "Epoch 1108/1200\n",
            "1/1 [==============================] - 0s 11ms/step - loss: 1.7500e-04 - mae: 0.0114\n",
            "Epoch 1109/1200\n",
            "1/1 [==============================] - 0s 14ms/step - loss: 1.7381e-04 - mae: 0.0113\n",
            "Epoch 1110/1200\n",
            "1/1 [==============================] - 0s 7ms/step - loss: 1.7264e-04 - mae: 0.0113\n",
            "Epoch 1111/1200\n",
            "1/1 [==============================] - 0s 6ms/step - loss: 1.7147e-04 - mae: 0.0112\n",
            "Epoch 1112/1200\n",
            "1/1 [==============================] - 0s 6ms/step - loss: 1.7032e-04 - mae: 0.0112\n",
            "Epoch 1113/1200\n",
            "1/1 [==============================] - 0s 6ms/step - loss: 1.6917e-04 - mae: 0.0112\n",
            "Epoch 1114/1200\n",
            "1/1 [==============================] - 0s 7ms/step - loss: 1.6802e-04 - mae: 0.0111\n",
            "Epoch 1115/1200\n",
            "1/1 [==============================] - 0s 9ms/step - loss: 1.6688e-04 - mae: 0.0111\n",
            "Epoch 1116/1200\n",
            "1/1 [==============================] - 0s 10ms/step - loss: 1.6576e-04 - mae: 0.0111\n",
            "Epoch 1117/1200\n",
            "1/1 [==============================] - 0s 10ms/step - loss: 1.6465e-04 - mae: 0.0110\n",
            "Epoch 1118/1200\n",
            "1/1 [==============================] - 0s 8ms/step - loss: 1.6353e-04 - mae: 0.0110\n",
            "Epoch 1119/1200\n",
            "1/1 [==============================] - 0s 8ms/step - loss: 1.6243e-04 - mae: 0.0109\n",
            "Epoch 1120/1200\n",
            "1/1 [==============================] - 0s 7ms/step - loss: 1.6133e-04 - mae: 0.0109\n",
            "Epoch 1121/1200\n",
            "1/1 [==============================] - 0s 10ms/step - loss: 1.6025e-04 - mae: 0.0109\n",
            "Epoch 1122/1200\n",
            "1/1 [==============================] - 0s 9ms/step - loss: 1.5916e-04 - mae: 0.0108\n",
            "Epoch 1123/1200\n",
            "1/1 [==============================] - 0s 7ms/step - loss: 1.5809e-04 - mae: 0.0108\n",
            "Epoch 1124/1200\n",
            "1/1 [==============================] - 0s 8ms/step - loss: 1.5702e-04 - mae: 0.0108\n",
            "Epoch 1125/1200\n",
            "1/1 [==============================] - 0s 7ms/step - loss: 1.5596e-04 - mae: 0.0107\n",
            "Epoch 1126/1200\n",
            "1/1 [==============================] - 0s 7ms/step - loss: 1.5491e-04 - mae: 0.0107\n",
            "Epoch 1127/1200\n",
            "1/1 [==============================] - 0s 7ms/step - loss: 1.5386e-04 - mae: 0.0106\n",
            "Epoch 1128/1200\n",
            "1/1 [==============================] - 0s 8ms/step - loss: 1.5283e-04 - mae: 0.0106\n",
            "Epoch 1129/1200\n",
            "1/1 [==============================] - 0s 7ms/step - loss: 1.5179e-04 - mae: 0.0106\n",
            "Epoch 1130/1200\n",
            "1/1 [==============================] - 0s 7ms/step - loss: 1.5077e-04 - mae: 0.0105\n",
            "Epoch 1131/1200\n",
            "1/1 [==============================] - 0s 9ms/step - loss: 1.4975e-04 - mae: 0.0105\n",
            "Epoch 1132/1200\n",
            "1/1 [==============================] - 0s 8ms/step - loss: 1.4874e-04 - mae: 0.0105\n",
            "Epoch 1133/1200\n",
            "1/1 [==============================] - 0s 7ms/step - loss: 1.4773e-04 - mae: 0.0104\n",
            "Epoch 1134/1200\n",
            "1/1 [==============================] - 0s 6ms/step - loss: 1.4674e-04 - mae: 0.0104\n",
            "Epoch 1135/1200\n",
            "1/1 [==============================] - 0s 9ms/step - loss: 1.4574e-04 - mae: 0.0104\n",
            "Epoch 1136/1200\n",
            "1/1 [==============================] - 0s 10ms/step - loss: 1.4476e-04 - mae: 0.0103\n",
            "Epoch 1137/1200\n",
            "1/1 [==============================] - 0s 7ms/step - loss: 1.4379e-04 - mae: 0.0103\n",
            "Epoch 1138/1200\n",
            "1/1 [==============================] - 0s 7ms/step - loss: 1.4282e-04 - mae: 0.0103\n",
            "Epoch 1139/1200\n",
            "1/1 [==============================] - 0s 7ms/step - loss: 1.4185e-04 - mae: 0.0102\n",
            "Epoch 1140/1200\n",
            "1/1 [==============================] - 0s 6ms/step - loss: 1.4089e-04 - mae: 0.0102\n",
            "Epoch 1141/1200\n",
            "1/1 [==============================] - 0s 10ms/step - loss: 1.3994e-04 - mae: 0.0102\n",
            "Epoch 1142/1200\n",
            "1/1 [==============================] - 0s 9ms/step - loss: 1.3900e-04 - mae: 0.0101\n",
            "Epoch 1143/1200\n",
            "1/1 [==============================] - 0s 7ms/step - loss: 1.3806e-04 - mae: 0.0101\n",
            "Epoch 1144/1200\n",
            "1/1 [==============================] - 0s 12ms/step - loss: 1.3713e-04 - mae: 0.0101\n",
            "Epoch 1145/1200\n",
            "1/1 [==============================] - 0s 8ms/step - loss: 1.3620e-04 - mae: 0.0100\n",
            "Epoch 1146/1200\n",
            "1/1 [==============================] - 0s 5ms/step - loss: 1.3528e-04 - mae: 0.0100\n",
            "Epoch 1147/1200\n",
            "1/1 [==============================] - 0s 6ms/step - loss: 1.3437e-04 - mae: 0.0099\n",
            "Epoch 1148/1200\n",
            "1/1 [==============================] - 0s 6ms/step - loss: 1.3346e-04 - mae: 0.0099\n",
            "Epoch 1149/1200\n",
            "1/1 [==============================] - 0s 5ms/step - loss: 1.3256e-04 - mae: 0.0099\n",
            "Epoch 1150/1200\n",
            "1/1 [==============================] - 0s 6ms/step - loss: 1.3167e-04 - mae: 0.0098\n",
            "Epoch 1151/1200\n",
            "1/1 [==============================] - 0s 6ms/step - loss: 1.3077e-04 - mae: 0.0098\n",
            "Epoch 1152/1200\n",
            "1/1 [==============================] - 0s 10ms/step - loss: 1.2989e-04 - mae: 0.0098\n",
            "Epoch 1153/1200\n",
            "1/1 [==============================] - 0s 7ms/step - loss: 1.2902e-04 - mae: 0.0097\n",
            "Epoch 1154/1200\n",
            "1/1 [==============================] - 0s 6ms/step - loss: 1.2814e-04 - mae: 0.0097\n",
            "Epoch 1155/1200\n",
            "1/1 [==============================] - 0s 7ms/step - loss: 1.2728e-04 - mae: 0.0097\n",
            "Epoch 1156/1200\n",
            "1/1 [==============================] - 0s 7ms/step - loss: 1.2642e-04 - mae: 0.0097\n",
            "Epoch 1157/1200\n",
            "1/1 [==============================] - 0s 7ms/step - loss: 1.2556e-04 - mae: 0.0096\n",
            "Epoch 1158/1200\n",
            "1/1 [==============================] - 0s 6ms/step - loss: 1.2472e-04 - mae: 0.0096\n",
            "Epoch 1159/1200\n",
            "1/1 [==============================] - 0s 6ms/step - loss: 1.2388e-04 - mae: 0.0096\n",
            "Epoch 1160/1200\n",
            "1/1 [==============================] - 0s 6ms/step - loss: 1.2304e-04 - mae: 0.0095\n",
            "Epoch 1161/1200\n",
            "1/1 [==============================] - 0s 5ms/step - loss: 1.2221e-04 - mae: 0.0095\n",
            "Epoch 1162/1200\n",
            "1/1 [==============================] - 0s 7ms/step - loss: 1.2138e-04 - mae: 0.0095\n",
            "Epoch 1163/1200\n",
            "1/1 [==============================] - 0s 6ms/step - loss: 1.2057e-04 - mae: 0.0094\n",
            "Epoch 1164/1200\n",
            "1/1 [==============================] - 0s 8ms/step - loss: 1.1975e-04 - mae: 0.0094\n",
            "Epoch 1165/1200\n",
            "1/1 [==============================] - 0s 7ms/step - loss: 1.1894e-04 - mae: 0.0094\n",
            "Epoch 1166/1200\n",
            "1/1 [==============================] - 0s 7ms/step - loss: 1.1815e-04 - mae: 0.0093\n",
            "Epoch 1167/1200\n",
            "1/1 [==============================] - 0s 5ms/step - loss: 1.1734e-04 - mae: 0.0093\n",
            "Epoch 1168/1200\n",
            "1/1 [==============================] - 0s 6ms/step - loss: 1.1655e-04 - mae: 0.0093\n",
            "Epoch 1169/1200\n",
            "1/1 [==============================] - 0s 9ms/step - loss: 1.1577e-04 - mae: 0.0092\n",
            "Epoch 1170/1200\n",
            "1/1 [==============================] - 0s 9ms/step - loss: 1.1499e-04 - mae: 0.0092\n",
            "Epoch 1171/1200\n",
            "1/1 [==============================] - 0s 10ms/step - loss: 1.1420e-04 - mae: 0.0092\n",
            "Epoch 1172/1200\n",
            "1/1 [==============================] - 0s 10ms/step - loss: 1.1343e-04 - mae: 0.0091\n",
            "Epoch 1173/1200\n",
            "1/1 [==============================] - 0s 5ms/step - loss: 1.1267e-04 - mae: 0.0091\n",
            "Epoch 1174/1200\n",
            "1/1 [==============================] - 0s 7ms/step - loss: 1.1191e-04 - mae: 0.0091\n",
            "Epoch 1175/1200\n",
            "1/1 [==============================] - 0s 12ms/step - loss: 1.1116e-04 - mae: 0.0090\n",
            "Epoch 1176/1200\n",
            "1/1 [==============================] - 0s 7ms/step - loss: 1.1041e-04 - mae: 0.0090\n",
            "Epoch 1177/1200\n",
            "1/1 [==============================] - 0s 6ms/step - loss: 1.0966e-04 - mae: 0.0090\n",
            "Epoch 1178/1200\n",
            "1/1 [==============================] - 0s 6ms/step - loss: 1.0892e-04 - mae: 0.0090\n",
            "Epoch 1179/1200\n",
            "1/1 [==============================] - 0s 6ms/step - loss: 1.0818e-04 - mae: 0.0089\n",
            "Epoch 1180/1200\n",
            "1/1 [==============================] - 0s 7ms/step - loss: 1.0745e-04 - mae: 0.0089\n",
            "Epoch 1181/1200\n",
            "1/1 [==============================] - 0s 6ms/step - loss: 1.0673e-04 - mae: 0.0089\n",
            "Epoch 1182/1200\n",
            "1/1 [==============================] - 0s 6ms/step - loss: 1.0600e-04 - mae: 0.0088\n",
            "Epoch 1183/1200\n",
            "1/1 [==============================] - 0s 10ms/step - loss: 1.0530e-04 - mae: 0.0088\n",
            "Epoch 1184/1200\n",
            "1/1 [==============================] - 0s 11ms/step - loss: 1.0458e-04 - mae: 0.0088\n",
            "Epoch 1185/1200\n",
            "1/1 [==============================] - 0s 11ms/step - loss: 1.0387e-04 - mae: 0.0087\n",
            "Epoch 1186/1200\n",
            "1/1 [==============================] - 0s 7ms/step - loss: 1.0318e-04 - mae: 0.0087\n",
            "Epoch 1187/1200\n",
            "1/1 [==============================] - 0s 8ms/step - loss: 1.0248e-04 - mae: 0.0087\n",
            "Epoch 1188/1200\n",
            "1/1 [==============================] - 0s 8ms/step - loss: 1.0178e-04 - mae: 0.0087\n",
            "Epoch 1189/1200\n",
            "1/1 [==============================] - 0s 8ms/step - loss: 1.0110e-04 - mae: 0.0086\n",
            "Epoch 1190/1200\n",
            "1/1 [==============================] - 0s 8ms/step - loss: 1.0042e-04 - mae: 0.0086\n",
            "Epoch 1191/1200\n",
            "1/1 [==============================] - 0s 8ms/step - loss: 9.9741e-05 - mae: 0.0086\n",
            "Epoch 1192/1200\n",
            "1/1 [==============================] - 0s 8ms/step - loss: 9.9067e-05 - mae: 0.0085\n",
            "Epoch 1193/1200\n",
            "1/1 [==============================] - 0s 7ms/step - loss: 9.8399e-05 - mae: 0.0085\n",
            "Epoch 1194/1200\n",
            "1/1 [==============================] - 0s 8ms/step - loss: 9.7736e-05 - mae: 0.0085\n",
            "Epoch 1195/1200\n",
            "1/1 [==============================] - 0s 8ms/step - loss: 9.7072e-05 - mae: 0.0085\n",
            "Epoch 1196/1200\n",
            "1/1 [==============================] - 0s 6ms/step - loss: 9.6415e-05 - mae: 0.0084\n",
            "Epoch 1197/1200\n",
            "1/1 [==============================] - 0s 7ms/step - loss: 9.5767e-05 - mae: 0.0084\n",
            "Epoch 1198/1200\n",
            "1/1 [==============================] - 0s 7ms/step - loss: 9.5125e-05 - mae: 0.0084\n",
            "Epoch 1199/1200\n",
            "1/1 [==============================] - 0s 7ms/step - loss: 9.4484e-05 - mae: 0.0083\n",
            "Epoch 1200/1200\n",
            "1/1 [==============================] - 0s 8ms/step - loss: 9.3838e-05 - mae: 0.0083\n"
          ]
        }
      ]
    },
    {
      "cell_type": "code",
      "source": [
        "## epoch별 훈련 손실 및 평가지표 시각화\n",
        "import matplotlib.pyplot as plt\n",
        "\n",
        "# 20 epoch까지 Loss 수렴에 대한 시각화\n",
        "plt.plot(history.history['loss'],label='loss')\n",
        "plt.plot(history.history['mae'],label='mae')\n",
        "plt.xlim(-1,20)\n",
        "plt.title('Loss')\n",
        "plt.legend()\n",
        "plt.show()"
      ],
      "metadata": {
        "colab": {
          "base_uri": "https://localhost:8080/",
          "height": 452
        },
        "id": "RQtOqCPGGNtH",
        "outputId": "005d5769-4a04-48dd-f3ac-8ab3e49f8464"
      },
      "execution_count": 23,
      "outputs": [
        {
          "output_type": "display_data",
          "data": {
            "text/plain": [
              "<Figure size 640x480 with 1 Axes>"
            ],
            "image/png": "[encoded data removed]"
          },
          "metadata": {}
        }
      ]
    },
    {
      "cell_type": "markdown",
      "source": [
        "## 2-9 검증"
      ],
      "metadata": {
        "id": "yDN4UlOCuPyJ"
      }
    },
    {
      "cell_type": "code",
      "source": [
        "model.evaluate(x,y)"
      ],
      "metadata": {
        "colab": {
          "base_uri": "https://localhost:8080/"
        },
        "id": "SGJNzQogGrJg",
        "outputId": "b5cf06f1-35c8-4ab2-e2d7-6294bbf2cdab"
      },
      "execution_count": 24,
      "outputs": [
        {
          "output_type": "stream",
          "name": "stdout",
          "text": [
            "1/1 [==============================] - 0s 111ms/step - loss: 9.3207e-05 - mae: 0.0083\n"
          ]
        },
        {
          "output_type": "execute_result",
          "data": {
            "text/plain": [
              "[9.320732351625338e-05, 0.008286571130156517]"
            ]
          },
          "metadata": {},
          "execution_count": 24
        }
      ]
    },
    {
      "cell_type": "markdown",
      "source": [
        "> 사전에 별도의 검증 데이터셋을 준비하여 모델의 성능을 평가하는 것이 일반적인 방법. 즉, **교차 검증**(cross-validation). (예: 홀드 아웃, K-Fold 교차 검증 등)"
      ],
      "metadata": {
        "id": "bMVad1KAG2Gu"
      }
    },
    {
      "cell_type": "markdown",
      "source": [
        "## 2-10 예측"
      ],
      "metadata": {
        "id": "sEOmQY6juQxS"
      }
    },
    {
      "cell_type": "code",
      "source": [
        "model.predict([10])"
      ],
      "metadata": {
        "colab": {
          "base_uri": "https://localhost:8080/"
        },
        "id": "Ud4CmUhJHLc1",
        "outputId": "d01d3422-1ac0-4c0e-f4a7-d97c349bb911"
      },
      "execution_count": 25,
      "outputs": [
        {
          "output_type": "stream",
          "name": "stdout",
          "text": [
            "1/1 [==============================] - 0s 136ms/step\n"
          ]
        },
        {
          "output_type": "execute_result",
          "data": {
            "text/plain": [
              "array([[32.04005]], dtype=float32)"
            ]
          },
          "metadata": {},
          "execution_count": 25
        }
      ]
    },
    {
      "cell_type": "markdown",
      "source": [
        "# 03 | 심층 신경망으로 이미지 분류"
      ],
      "metadata": {
        "id": "rO4hnIz3uSPo"
      }
    },
    {
      "cell_type": "markdown",
      "source": [
        "심층 신경망으로 이미지 분류 모델을 생성해보자. 이미지 분류를 위해 단층이 아닌 더 깊은 층을 쌓아 깊이가 있는 딥러닝 모델을 생성한다(이처럼 모델에 여러 층을 구성하여 깊이가 있다는 의미에서 딥러닝이라고 부른다)."
      ],
      "metadata": {
        "id": "iVezod1ca_0-"
      }
    },
    {
      "cell_type": "markdown",
      "source": [
        "훈련에 필요한 데이터셋은 케라스 내장 데이터셋을 사용하고, 분류에 적합한 손실함수를 적용하여 결과를 확인해보자."
      ],
      "metadata": {
        "id": "PQIk6iHfbcdZ"
      }
    },
    {
      "cell_type": "markdown",
      "source": [
        "## 3-1 케라스 내장 데이터셋 로드"
      ],
      "metadata": {
        "id": "t4cO_s6auXVs"
      }
    },
    {
      "cell_type": "markdown",
      "source": [
        "케라스는 모델 훈련에 필요한 샘플 데이터셋을 제공한다. 데이터셋은 tensorflow, keras, datasets 서브패키지에 위치하며 지원하는 목록은 다음과 같다.\n",
        "- boston_housing : 보스톤 주택 가격 데이터셋(회귀)\n",
        "- cifar10 : CIFAR10 이미지 분류 데이터셋(분류)\n",
        "- cifar100 : CIFAR100 이미지 분류 데이터셋(분류)\n",
        "- mnist : mnist 손글씨 데이터셋(분류)\n",
        "- fashion_mnist : 의류 데이터셋(분류)\n",
        "- imdb : IMDb 영화 데이터셋(분류)\n",
        "- reuters : Reuters 뉴스 토픽(분류)"
      ],
      "metadata": {
        "id": "gt1byPq4bJbX"
      }
    },
    {
      "cell_type": "markdown",
      "source": [
        "케라스의 datasets 패키지에 있는 데이터를 불러오기 위해 `load_data()` 메소드를 사용한다."
      ],
      "metadata": {
        "id": "vP9kWw0Eb2ry"
      }
    },
    {
      "cell_type": "code",
      "source": [
        "import tensorflow as tf\n",
        "\n",
        "# 케라스의 내장 데이터셋에서 mnist 데이터셋 로드\n",
        "mnist = tf.keras.datasets.mnist"
      ],
      "metadata": {
        "id": "usP_ey0obZmk"
      },
      "execution_count": 27,
      "outputs": []
    },
    {
      "cell_type": "markdown",
      "source": [
        "mnist 변수에 `load_data()` 메소드를 적용하면 google의 storage로부터 넘파이 배열(numpy ndarray)로 구성된 데이터셋을 다운받는다. 이 함수는 훈련 데이터셋과 검증 데이터셋을 구분하여 제공하기 때문에 훈련 셋과 검증 셋을 투플 형태로 정의하면 된다."
      ],
      "metadata": {
        "id": "Y3RS2IzlcD9D"
      }
    },
    {
      "cell_type": "code",
      "source": [
        "# load_data()로 데이터셋 로드\n",
        "(x_train, y_train),(x_test, y_test) = mnist.load_data()"
      ],
      "metadata": {
        "id": "56iwUw9TcVLw"
      },
      "execution_count": 29,
      "outputs": []
    },
    {
      "cell_type": "code",
      "source": [
        "# 로드된 데이터셋 확인\n",
        "print('train set:', x_train.shape, y_train.shape)\n",
        "print('test set:', x_test.shape, y_test.shape)"
      ],
      "metadata": {
        "colab": {
          "base_uri": "https://localhost:8080/"
        },
        "id": "jAefXDdKclKU",
        "outputId": "c52d60aa-5c8a-48eb-ca7b-6837024a35d4"
      },
      "execution_count": 30,
      "outputs": [
        {
          "output_type": "stream",
          "name": "stdout",
          "text": [
            "train set: (60000, 28, 28) (60000,)\n",
            "test set: (10000, 28, 28) (10000,)\n"
          ]
        }
      ]
    },
    {
      "cell_type": "code",
      "source": [
        "## 데이터 시각화\n",
        "import matplotlib.pyplot as plt\n",
        "\n",
        "# canvas 생성\n",
        "fig, axes = plt.subplots(3,5)\n",
        "fig.set_size_inches(8,5)\n",
        "\n",
        "for i in range(15):\n",
        "  ax = axes[i//5, i%5]\n",
        "  # imshow로 이미지 시각화\n",
        "  ax.imshow(x_train[i], cmap='gray')\n",
        "  ax.axis('off')\n",
        "  ax.set_title(str(y_train[i]))\n",
        "\n",
        "plt.tight_layout()\n",
        "plt.show()"
      ],
      "metadata": {
        "colab": {
          "base_uri": "https://localhost:8080/",
          "height": 510
        },
        "id": "EguCzAEocwgR",
        "outputId": "25419513-2a99-4f6a-fe07-87775f67b39d"
      },
      "execution_count": 32,
      "outputs": [
        {
          "output_type": "display_data",
          "data": {
            "text/plain": [
              "<Figure size 800x500 with 15 Axes>"
            ],
            "image/png": "[encoded data removed]"
          },
          "metadata": {}
        }
      ]
    },
    {
      "cell_type": "markdown",
      "source": [
        "mnist 데이터셋은 사람의 필기체로 쓰인 0 ~ 9까지의 숫자들로 이루어진 데이터셋이다. 0 ~ 9까지 총 10개의 정답 레이블로 구성되어 있다."
      ],
      "metadata": {
        "id": "syWIvWXBdch-"
      }
    },
    {
      "cell_type": "markdown",
      "source": [
        "## 3-2 데이터 전처리"
      ],
      "metadata": {
        "id": "EoGKc0NtuUHD"
      }
    },
    {
      "cell_type": "code",
      "source": [
        "# x_train 배열의 데이터 확인\n",
        "x_train[0, 10:15, 10:15]"
      ],
      "metadata": {
        "colab": {
          "base_uri": "https://localhost:8080/"
        },
        "id": "h2OM4wjTdrhP",
        "outputId": "b4afe332-9b4c-4c24-f27d-91a0aaaa5802"
      },
      "execution_count": 33,
      "outputs": [
        {
          "output_type": "execute_result",
          "data": {
            "text/plain": [
              "array([[  1, 154, 253,  90,   0],\n",
              "       [  0, 139, 253, 190,   2],\n",
              "       [  0,  11, 190, 253,  70],\n",
              "       [  0,   0,  35, 241, 225],\n",
              "       [  0,   0,   0,  81, 240]], dtype=uint8)"
            ]
          },
          "metadata": {},
          "execution_count": 33
        }
      ]
    },
    {
      "cell_type": "markdown",
      "source": [
        "이미지 데이터에 대하여 정규화를 통해 데이터의 범위를 조절한다. 0 ~ 255 범위의 값으로 이루어진 데이터의 범위를 0 ~ 1 사이의 값을 가지도록 정규화하기 위해 데이터의 최대값인 255로 나눈다."
      ],
      "metadata": {
        "id": "ij0ovdC4d01d"
      }
    },
    {
      "cell_type": "code",
      "source": [
        "# 픽셀 값의 최소/최대값 확인\n",
        "print(f'정규화 전] 최소값: {x_train.min()}, 최대값: {x_train.max()}')\n",
        "\n",
        "# 데이터 정규화\n",
        "x_train = x_train / x_train.max()\n",
        "\n",
        "# 정규화 후 최소/최대값 확인\n",
        "print(f'정규화 후] 최소값: {x_train.min()}, 최대값: {x_train.max()}')"
      ],
      "metadata": {
        "colab": {
          "base_uri": "https://localhost:8080/"
        },
        "id": "P9_FyKtheHNX",
        "outputId": "2899eb9b-e431-4d5b-9b1e-9febf4508015"
      },
      "execution_count": 34,
      "outputs": [
        {
          "output_type": "stream",
          "name": "stdout",
          "text": [
            "정규화 전] 최소값: 0, 최대값: 255\n",
            "정규화 후] 최소값: 0.0, 최대값: 1.0\n"
          ]
        }
      ]
    },
    {
      "cell_type": "markdown",
      "source": [
        "검증 셋에도 동일한 방식으로 정규화 방법을 적용한다."
      ],
      "metadata": {
        "id": "1fecZCtReWx-"
      }
    },
    {
      "cell_type": "code",
      "source": [
        "# test 셋에도 정규화 동일 적용\n",
        "x_test = x_test / x_test.max()"
      ],
      "metadata": {
        "id": "lbvEw2S8eZ5a"
      },
      "execution_count": 35,
      "outputs": []
    },
    {
      "cell_type": "markdown",
      "source": [
        "정규화 변환이 완료된 후 데이터를 출력해보면 0 ~ 1 사이의 값이 출력되는 것을 확인할 수 있다."
      ],
      "metadata": {
        "id": "hMyxYKR1eg70"
      }
    },
    {
      "cell_type": "code",
      "source": [
        "# 변환 후 x_train 배열의 데이터 확인\n",
        "x_train[0, 10:15, 10:15]"
      ],
      "metadata": {
        "colab": {
          "base_uri": "https://localhost:8080/"
        },
        "id": "AugqtCZXec4Z",
        "outputId": "3a64a37e-c1f2-463e-9d8b-ad2598b7f6c3"
      },
      "execution_count": 36,
      "outputs": [
        {
          "output_type": "execute_result",
          "data": {
            "text/plain": [
              "array([[0.00392157, 0.60392157, 0.99215686, 0.35294118, 0.        ],\n",
              "       [0.        , 0.54509804, 0.99215686, 0.74509804, 0.00784314],\n",
              "       [0.        , 0.04313725, 0.74509804, 0.99215686, 0.2745098 ],\n",
              "       [0.        , 0.        , 0.1372549 , 0.94509804, 0.88235294],\n",
              "       [0.        , 0.        , 0.        , 0.31764706, 0.94117647]])"
            ]
          },
          "metadata": {},
          "execution_count": 36
        }
      ]
    },
    {
      "cell_type": "markdown",
      "source": [
        "> 정규화는 데이터의 전체 범위를 0 ~ 1 사이의 값을 가지도록 한다. 정규화하는 이유는 입력 데이터가 정규호되어 모델이 학습하는 경우 경사하강법 알고리즘에 의한 수렴 속도가 비정규화된 입력 데이터를 가질 때보다 더 빨리 수렴하기 때문이다. 또한 local optimum(국소 최적)에 빠지는 현상을 방지해주는 효과도 있다."
      ],
      "metadata": {
        "id": "iAyQF1dxeo15"
      }
    },
    {
      "cell_type": "markdown",
      "source": [
        "![image.png](data:image/png;base64,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)"
      ],
      "metadata": {
        "id": "oxQuyieHe92J"
      }
    },
    {
      "cell_type": "markdown",
      "source": [
        "## 3-3 Flatten 레이어"
      ],
      "metadata": {
        "id": "LTh17swBucs9"
      }
    },
    {
      "cell_type": "markdown",
      "source": [
        "정규화가 끝난 x_train의 shape은 (60000,28,28)이다. 즉, \n",
        "정규화를 하더라도 개별 데이터 값의 범위는 축소되지만, 원본 배열의 형태는 그대로 유지된다. 여기서 60000은 데이터셋의 크기를 나타내고 28,28은 이미지의 크기를 나타낸다."
      ],
      "metadata": {
        "id": "RQZFx88tfDQG"
      }
    },
    {
      "cell_type": "markdown",
      "source": [
        "샘플 이미지의 형태는 (28,28)로 이루어져 있고 2차원 입력으로 볼 수 있다. 2차원 입력은 Dense 레이어에 입력값으로 넣을 수 없기 떄문에 1차원으로 전처리하여 주입해야 한다."
      ],
      "metadata": {
        "id": "eymXCDHifRpm"
      }
    },
    {
      "cell_type": "code",
      "source": [
        "print(f'변경 전 shape:{x_train.shape}')\n",
        "print(f'ID으로 shape 변경 후: {x_train.reshape(60000,-1).shape}')"
      ],
      "metadata": {
        "colab": {
          "base_uri": "https://localhost:8080/"
        },
        "id": "bEZKwLTBfaf2",
        "outputId": "51a37daf-8606-45fc-9f1d-4e45b01a893d"
      },
      "execution_count": 37,
      "outputs": [
        {
          "output_type": "stream",
          "name": "stdout",
          "text": [
            "변경 전 shape:(60000, 28, 28)\n",
            "ID으로 shape 변경 후: (60000, 784)\n"
          ]
        }
      ]
    },
    {
      "cell_type": "markdown",
      "source": [
        "또는 Flatten 레이어를 사용하면 다차원 데이터를 1차원으로 펼쳐주는 방법도 가능하다."
      ],
      "metadata": {
        "id": "0ddPS8OKflju"
      }
    },
    {
      "cell_type": "code",
      "source": [
        "print(f'변경 전 shape:{x_train.shape}')\n",
        "\n",
        "# Flatten 레이어 적용 후 shape 확인\n",
        "print(f'Flatten 적용 후:{tf.keras.layers.Flatten()(x_train).shape}')"
      ],
      "metadata": {
        "colab": {
          "base_uri": "https://localhost:8080/"
        },
        "id": "TTs8HepZfsO1",
        "outputId": "67cf4c9c-a001-4fda-8af2-2d37b4fd749f"
      },
      "execution_count": 39,
      "outputs": [
        {
          "output_type": "stream",
          "name": "stdout",
          "text": [
            "변경 전 shape:(60000, 28, 28)\n",
            "Flatten 적용 후:(60000, 784)\n"
          ]
        }
      ]
    },
    {
      "cell_type": "markdown",
      "source": [
        "Flatten 층을 적용한 결과 shape이 (60000,784)로 출력되는 것을 확인할 수 있다. 784는 가로 세로 픽셀 수를 곱한 값이다. (28*28=784)"
      ],
      "metadata": {
        "id": "TN7opf69f-Ks"
      }
    },
    {
      "cell_type": "markdown",
      "source": [
        "## 3-4 활성화 함수"
      ],
      "metadata": {
        "id": "yxbQkCdWuei9"
      }
    },
    {
      "cell_type": "markdown",
      "source": [
        "활성화 함수(Activation Function)은 입력을 비선형 출력으로 변환해주는 함수이다. 일반적으로 선형관계를 나타내는 함수에 비선형성을 추가하는 방법으로 표현되기도 한다."
      ],
      "metadata": {
        "id": "Ci2hGSuRgTOE"
      }
    },
    {
      "cell_type": "markdown",
      "source": [
        "자주 사용되는 활성화 함수로는 시그모이드(Sigmoid), 하이퍼볼릭 탄젠트(Hyperbolic Tangent 혹은 tanh), ReLU(Rectified Unit), Leaky ReLU 등이 있다."
      ],
      "metadata": {
        "id": "6dXFLV8RgYTV"
      }
    },
    {
      "cell_type": "markdown",
      "source": [
        "텐서플로 케라스 레이어에 활성화 함수를 적용하고 싶다면 activation 매개변수에 활성화 함수명을 지정해주면 된다."
      ],
      "metadata": {
        "id": "RzJSV8G5gqTM"
      }
    },
    {
      "cell_type": "code",
      "source": [
        "# Dense 레이어에 relu 활성화 함수를 적용한 경우\n",
        "tf.keras.layers.Dense(128, activation='relu')"
      ],
      "metadata": {
        "colab": {
          "base_uri": "https://localhost:8080/"
        },
        "id": "z8j8def6g5Ya",
        "outputId": "0ab3c83d-7335-4013-f8c3-3b325a2f2a00"
      },
      "execution_count": 40,
      "outputs": [
        {
          "output_type": "execute_result",
          "data": {
            "text/plain": [
              "<keras.layers.core.dense.Dense at 0x7fcffcf60a00>"
            ]
          },
          "metadata": {},
          "execution_count": 40
        }
      ]
    },
    {
      "cell_type": "markdown",
      "source": [
        "다음과 같이 별도의 층처럼 적용할 수도 있다. 별도의 층으로 적용하는 경우는 Dense 레이어 다음에 배치 정규화(Batch Normalization)를 적용한 후 활성화 함수를 적용하고자 할 때 많이 사용된다. 즉, 레이어 구성을 조금 더 커스터마이징하고 싶을 때 구분하여 처리한다."
      ],
      "metadata": {
        "id": "BfTaPdh0hC4f"
      }
    },
    {
      "cell_type": "code",
      "source": [
        "## 다른 방법\n",
        "# Dense 레이어와 relu 활성호 함수 레이어를 별도 적용한 경우\n",
        "model = tf.keras.Sequential([\n",
        "        tf.keras.layers.Dense(128),\n",
        "        tf.keras.layers.Activation('relu')\n",
        "])"
      ],
      "metadata": {
        "id": "KeZ4Ag13hAhx"
      },
      "execution_count": 42,
      "outputs": []
    },
    {
      "cell_type": "markdown",
      "source": [
        "## 3-5 입력과 출력"
      ],
      "metadata": {
        "id": "bFErk5mIugPT"
      }
    },
    {
      "cell_type": "markdown",
      "source": [
        "딥러닝 모델을 만들 때는 첫 번째 레이어에 입력 데이터의 형태를 나타내는 input_shape 매개변수를 지정하는 것이 일반적이다."
      ],
      "metadata": {
        "id": "gLYl88gRhiZl"
      }
    },
    {
      "cell_type": "code",
      "source": [
        "model = tf.keras.Sequential([\n",
        "        tf.keras.layers.Flatten(input_shape=(28,28)),\n",
        "        tf.keras.layers.Dense(256, activation='relu'),\n",
        "        tf.keras.layers.Dense(64, activation='relu'),\n",
        "        tf.keras.layers.Dense(32, activation='relu'),\n",
        "        # 노드 = 10개(클래스 개수와 동일)\n",
        "        tf.keras.layers.Dense(10, activation='softmax'),\n",
        "])"
      ],
      "metadata": {
        "id": "VAzdnH0yhZ23"
      },
      "execution_count": 43,
      "outputs": []
    },
    {
      "cell_type": "markdown",
      "source": [
        "다중 분류 문제(출력층의 노드 개수가 2개 이상)에서는 softmax 활성화 함수를 사용한다.\n",
        "\n",
        "이진 분류 모델의 출력층 노드 개수를 1개로 설정한 경우에는 sigmoid 활성화 함수를 적용한다.(단, 이진 분류 모델이더라도 출력 레이어의 클래스를 원핫 인코딩으로 변환하여 노드 개수가 2개인 경우에는 softmax 함수를 사용한다.)"
      ],
      "metadata": {
        "id": "MJysVvFaiB7z"
      }
    },
    {
      "cell_type": "code",
      "source": [
        "# 출력층 노드 = 1인 경우, sigmoid\n",
        "tf.keras.layers.Dense(1, activation='sigmoid')\n",
        "\n",
        "# 출력층 노드 = 2개 이상인 경우, softmax\n",
        "tf.keras.layers.Dense(10, activation='softmax')"
      ],
      "metadata": {
        "colab": {
          "base_uri": "https://localhost:8080/"
        },
        "id": "arXcM_DoiXgs",
        "outputId": "d522f7bf-a667-426a-efc2-c6913ccfd075"
      },
      "execution_count": 44,
      "outputs": [
        {
          "output_type": "execute_result",
          "data": {
            "text/plain": [
              "<keras.layers.core.dense.Dense at 0x7fcffcb18b20>"
            ]
          },
          "metadata": {},
          "execution_count": 44
        }
      ]
    },
    {
      "cell_type": "markdown",
      "source": [
        "## 3-6 손실함수"
      ],
      "metadata": {
        "id": "kEJwKrcfuiyj"
      }
    },
    {
      "cell_type": "markdown",
      "source": [
        "Dense(1, activation='sigmoid')\n",
        "- loss = `binary_crossentropy`\n",
        "\n",
        "Dense(2 이상, activation='softmax')\n",
        "- loss = `categorical_crossentropy` (원핫 벡터인 레이블)\n",
        "- loss = `sparse_categorical_crossentropy`"
      ],
      "metadata": {
        "id": "EYrEE50ziqez"
      }
    },
    {
      "cell_type": "code",
      "source": [
        "# 이진 분류(출력 노드 개수 = 1, sigmoid인 경우)\n",
        "model.compile(loss='binary_crossentropy')"
      ],
      "metadata": {
        "id": "Nd2zz9iHjAyp"
      },
      "execution_count": 45,
      "outputs": []
    },
    {
      "cell_type": "code",
      "source": [
        "# y가 원핫 벡터인 경우\n",
        "# [0.,0.,0.,0.,0.,1.,0.,0.,0.,0.]\n",
        "model.compile(loss='categorical_crossentropy')\n",
        "# y가 원핫 벡터가 아닌 경우\n",
        "model.compile(loss='sparse_categorical_crossentropy')"
      ],
      "metadata": {
        "id": "04kNLF99jGcc"
      },
      "execution_count": 46,
      "outputs": []
    },
    {
      "cell_type": "markdown",
      "source": [
        "mnist 손글씨 데이터셋은 클래스의 개수가 10개이므로 마지막 출력층에 해당하는 Dense 레이어의 노드 개수를 10으로 지정한다. 출력 데이터가 0 ~ 9까지 레이블 값을 갖기 때문에 손실함수로는 `sparse_categorical_crosstropy`를 지정한다."
      ],
      "metadata": {
        "id": "nPFcyZnEjcdP"
      }
    },
    {
      "cell_type": "markdown",
      "source": [
        "## 3-7 옵티마이저"
      ],
      "metadata": {
        "id": "EpIfGMNVukcc"
      }
    },
    {
      "cell_type": "markdown",
      "source": [
        "옵티마이즈(optimizer)는 손실을 낮추기 위해서, 신경망의 가중치와 학습률과 같은 신경망의 속성을 변경하는데 사용되는 최적화 방법이다.\n",
        "\n",
        "케라스에서 지원하는 옵티마이저 목록:\n",
        "SGD, **Adam**, Adagrad, Nadam, RMSprop, Adadelta, Adamax, Ftrl"
      ],
      "metadata": {
        "id": "xDGIGjNIjqb1"
      }
    },
    {
      "cell_type": "code",
      "source": [
        "# 방법1: 클래스 인스턴스로 지정\n",
        "adam = tf.keras.optimizers.Adam(lr=0.001)\n",
        "model.compile(optimizer=adam)\n",
        "\n",
        "# 방법2: 문자열로 지정\n",
        "model.compile(optimizer='adam')"
      ],
      "metadata": {
        "colab": {
          "base_uri": "https://localhost:8080/"
        },
        "id": "t6vZ-QfSj86P",
        "outputId": "6039891d-1ca9-4346-c572-eb1c535a82d4"
      },
      "execution_count": 47,
      "outputs": [
        {
          "output_type": "stream",
          "name": "stderr",
          "text": [
            "WARNING:absl:`lr` is deprecated in Keras optimizer, please use `learning_rate` or use the legacy optimizer, e.g.,tf.keras.optimizers.legacy.Adam.\n"
          ]
        }
      ]
    },
    {
      "cell_type": "markdown",
      "source": [
        "## 3-8 평가지표"
      ],
      "metadata": {
        "id": "hYvrfu7sumkM"
      }
    },
    {
      "cell_type": "markdown",
      "source": [
        "**accuracy**, auc, precision, recall 등"
      ],
      "metadata": {
        "id": "HDtrOOlxkIvT"
      }
    },
    {
      "cell_type": "code",
      "source": [
        "# 방법1: 클래스 인스턴스로 지정\n",
        "acc = tf.keras.metrics.SparseCategoricalAccuracy()\n",
        "\n",
        "model.compile(optimizer='adam',\n",
        "              loss='sparse_categorical_crossentropy',\n",
        "              metrics=[acc])"
      ],
      "metadata": {
        "id": "6tMnCMMtkNdT"
      },
      "execution_count": 48,
      "outputs": []
    },
    {
      "cell_type": "code",
      "source": [
        "# 방법2: 문자열로 지정\n",
        "model.compile(optimizer='adam',\n",
        "              loss='sparse_categorical_crossentropy',\n",
        "              metrics=['accuracy'])"
      ],
      "metadata": {
        "id": "1lMLBtNlkX-W"
      },
      "execution_count": 49,
      "outputs": []
    },
    {
      "cell_type": "markdown",
      "source": [
        "## 3-9 훈련"
      ],
      "metadata": {
        "id": "9jgFo54uuoEQ"
      }
    },
    {
      "cell_type": "markdown",
      "source": [
        "모델을 훈련할 때 검증 셋을 추가 지정하면, 매 epoch마다 훈련 손실과 검증 손실, 그리고 각 셋에 대한 평가지표를 나란히 출력한다."
      ],
      "metadata": {
        "id": "0uqQEAe-kpyt"
      }
    },
    {
      "cell_type": "code",
      "source": [
        "model.fit(x_train, y_train,\n",
        "          # 검증 셋 지정\n",
        "          validation_data=(x_test, y_test),\n",
        "          epochs=10)"
      ],
      "metadata": {
        "colab": {
          "base_uri": "https://localhost:8080/"
        },
        "id": "VMpVoJuykjeM",
        "outputId": "3dffc5fb-837d-460d-acab-d7c2d40c5b33"
      },
      "execution_count": 50,
      "outputs": [
        {
          "output_type": "stream",
          "name": "stdout",
          "text": [
            "Epoch 1/10\n",
            "1875/1875 [==============================] - 9s 4ms/step - loss: 0.2318 - accuracy: 0.9322 - val_loss: 0.1469 - val_accuracy: 0.9522\n",
            "Epoch 2/10\n",
            "1875/1875 [==============================] - 7s 4ms/step - loss: 0.0968 - accuracy: 0.9697 - val_loss: 0.1074 - val_accuracy: 0.9659\n",
            "Epoch 3/10\n",
            "1875/1875 [==============================] - 11s 6ms/step - loss: 0.0687 - accuracy: 0.9786 - val_loss: 0.0867 - val_accuracy: 0.9725\n",
            "Epoch 4/10\n",
            "1875/1875 [==============================] - 13s 7ms/step - loss: 0.0513 - accuracy: 0.9836 - val_loss: 0.0701 - val_accuracy: 0.9801\n",
            "Epoch 5/10\n",
            "1875/1875 [==============================] - 11s 6ms/step - loss: 0.0403 - accuracy: 0.9867 - val_loss: 0.0851 - val_accuracy: 0.9781\n",
            "Epoch 6/10\n",
            "1875/1875 [==============================] - 7s 3ms/step - loss: 0.0343 - accuracy: 0.9889 - val_loss: 0.0833 - val_accuracy: 0.9789\n",
            "Epoch 7/10\n",
            "1875/1875 [==============================] - 7s 4ms/step - loss: 0.0286 - accuracy: 0.9904 - val_loss: 0.0875 - val_accuracy: 0.9766\n",
            "Epoch 8/10\n",
            "1875/1875 [==============================] - 7s 4ms/step - loss: 0.0258 - accuracy: 0.9916 - val_loss: 0.1003 - val_accuracy: 0.9772\n",
            "Epoch 9/10\n",
            "1875/1875 [==============================] - 10s 5ms/step - loss: 0.0210 - accuracy: 0.9932 - val_loss: 0.0905 - val_accuracy: 0.9784\n",
            "Epoch 10/10\n",
            "1875/1875 [==============================] - 10s 6ms/step - loss: 0.0185 - accuracy: 0.9937 - val_loss: 0.0991 - val_accuracy: 0.9780\n"
          ]
        },
        {
          "output_type": "execute_result",
          "data": {
            "text/plain": [
              "<keras.callbacks.History at 0x7fcffce670d0>"
            ]
          },
          "metadata": {},
          "execution_count": 50
        }
      ]
    },
    {
      "cell_type": "markdown",
      "source": [
        "## 3-10 평가"
      ],
      "metadata": {
        "id": "acdyFYm7upti"
      }
    },
    {
      "cell_type": "code",
      "source": [
        "test_loss, test_acc = model.evaluate(x_test, y_test)\n",
        "\n",
        "print('검증 셋 정확도:', test_acc)"
      ],
      "metadata": {
        "colab": {
          "base_uri": "https://localhost:8080/"
        },
        "id": "9e59Fzaok0ho",
        "outputId": "bd162f92-5b27-4905-8f53-b0cd19aba482"
      },
      "execution_count": 51,
      "outputs": [
        {
          "output_type": "stream",
          "name": "stdout",
          "text": [
            "313/313 [==============================] - 1s 2ms/step - loss: 0.0991 - accuracy: 0.9780\n",
            "검증 셋 정확도: 0.9779999852180481\n"
          ]
        }
      ]
    },
    {
      "cell_type": "markdown",
      "source": [
        "`evaluate()` 메소드는 컴파일 단계에서 지정한 손실과 정확도를 순서대로 반환한다."
      ],
      "metadata": {
        "id": "rcQT9_UYlBeE"
      }
    },
    {
      "cell_type": "markdown",
      "source": [
        "## 3-11 예측"
      ],
      "metadata": {
        "id": "bXr-6Qn7urE_"
      }
    },
    {
      "cell_type": "markdown",
      "source": [
        "훈련된 모델로 새로운 이미지에 대한 분류 값을 예측하는 작업을 수행할 수 있다."
      ],
      "metadata": {
        "id": "xGbuiguxlK1N"
      }
    },
    {
      "cell_type": "code",
      "source": [
        "predictions = model.predict(x_test)"
      ],
      "metadata": {
        "colab": {
          "base_uri": "https://localhost:8080/"
        },
        "id": "h9AdXc6QlNYc",
        "outputId": "969a4c72-5a01-49c2-9c45-553fba63e098"
      },
      "execution_count": 52,
      "outputs": [
        {
          "output_type": "stream",
          "name": "stdout",
          "text": [
            "313/313 [==============================] - 1s 2ms/step\n"
          ]
        }
      ]
    },
    {
      "cell_type": "code",
      "source": [
        "# 예측 결과 출력\n",
        "predictions[0]"
      ],
      "metadata": {
        "colab": {
          "base_uri": "https://localhost:8080/"
        },
        "id": "MLFaKqY3lRKu",
        "outputId": "143ba38a-cd77-4aeb-d048-80e85656fc10"
      },
      "execution_count": 53,
      "outputs": [
        {
          "output_type": "execute_result",
          "data": {
            "text/plain": [
              "array([7.7804577e-14, 1.9259325e-12, 1.9738258e-11, 3.2547194e-13,\n",
              "       1.5506339e-14, 4.3774862e-15, 4.8696517e-16, 9.9999994e-01,\n",
              "       1.5838782e-16, 8.9947876e-12], dtype=float32)"
            ]
          },
          "metadata": {},
          "execution_count": 53
        }
      ]
    },
    {
      "cell_type": "markdown",
      "source": [
        "10개의 확률값들이 출력되었다. 이는 모델의 마지막 출력층의 노드 개수가 10개로 지정되었기 때문에 10개의 값이 출력된 것이다. softmax 활성화 함수를 거친 10개의 출력 값은 순차적으로 0 ~ 9까지의 10개의 개별 클레스에 대한 분류 확률값을 나타낸다. 이 중 가장 높은 확률값을 가진 클래스가 최종 예측된 클래스이다. 넘파이 배열의 argmax를 사용하여 가장 높은 확률값을 가지는 클래스 결과를 확인할 수 있다."
      ],
      "metadata": {
        "id": "EzV1b02HlU3f"
      }
    },
    {
      "cell_type": "code",
      "source": [
        "import numpy as np\n",
        "\n",
        "# 0번 index에 대한 예측 클래스 출력\n",
        "print(np.argmax(predictions[0]))\n",
        "\n",
        "# 첫 10개 index에 대한 예측 클래스 출력\n",
        "print(np.argmax(predictions[:10], axis=1))"
      ],
      "metadata": {
        "colab": {
          "base_uri": "https://localhost:8080/"
        },
        "id": "sq6dJ3czljFx",
        "outputId": "309ec331-638c-4603-bca0-fe7a2d620dcb"
      },
      "execution_count": 55,
      "outputs": [
        {
          "output_type": "stream",
          "name": "stdout",
          "text": [
            "7\n",
            "[7 2 1 0 4 1 4 9 5 9]\n"
          ]
        }
      ]
    },
    {
      "cell_type": "code",
      "source": [
        "## 데이터 시각화\n",
        "import matplotlib.pyplot as plt\n",
        "def get_one_result(idx):\n",
        "  img, y_true, y_pred, confidence = x_test[idx], y_test[idx], np.argmax(predictions[idx]), 100*np.max(predictions[idx])\n",
        "  return img, y_true, y_pred, confidence\n",
        "\n",
        "# canvas 생성\n",
        "fig, axes = plt.subplots(3,5)\n",
        "fig.set_size_inches(12,10)\n",
        "for i in range(15):\n",
        "  ax = axes[i//5, i%5]\n",
        "  img, y_true, y_pred, confidence = get_one_result(i)\n",
        "  # imshow로 이미지 시각화\n",
        "  ax.imshow(img, cmap='gray')\n",
        "  ax.set_xticks([])\n",
        "  ax.set_yticks([])\n",
        "  ax.set_title(f'True: {y_true}')\n",
        "  ax.set_xlabel(f'Prediction: {y_pred}\\nConfidence: ({confidence:.2f} %)')\n",
        "plt.tight_layout()\n",
        "plt.show()"
      ],
      "metadata": {
        "colab": {
          "base_uri": "https://localhost:8080/",
          "height": 684
        },
        "id": "3C4CaWndlyud",
        "outputId": "58ffd748-0f1b-4208-9d59-1215ace34523"
      },
      "execution_count": 61,
      "outputs": [
        {
          "output_type": "display_data",
          "data": {
            "text/plain": [
              "<Figure size 1200x1000 with 15 Axes>"
            ],
            "image/png": "[encoded data removed]"
          },
          "metadata": {}
        }
      ]
    },
    {
      "cell_type": "code",
      "source": [],
      "metadata": {
        "id": "e1rs3rMHnQbg"
      },
      "execution_count": null,
      "outputs": []
    }
  ]
}