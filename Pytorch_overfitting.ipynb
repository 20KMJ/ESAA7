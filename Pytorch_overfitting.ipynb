{
  "nbformat": 4,
  "nbformat_minor": 5,
  "metadata": {
    "accelerator": "GPU",
    "colab": {
      "provenance": [],
      "machine_shape": "hm",
      "include_colab_link": true
    },
    "kernelspec": {
      "name": "python3",
      "display_name": "Python 3"
    },
    "language_info": {
      "name": "python"
    }
  },
  "cells": [
    {
      "cell_type": "markdown",
      "metadata": {
        "id": "view-in-github",
        "colab_type": "text"
      },
      "source": [
        "<a href=\"https://colab.research.google.com/github/20KMJ/ESAA7/blob/main/Pytorch_overfitting.ipynb\" target=\"_parent\"><img src=\"https://colab.research.google.com/assets/colab-badge.svg\" alt=\"Open In Colab\"/></a>"
      ]
    },
    {
      "cell_type": "markdown",
      "source": [
        "통계학과 2029007학번 김민정"
      ],
      "metadata": {
        "id": "CvmgS6Mr8DDs"
      },
      "id": "CvmgS6Mr8DDs"
    },
    {
      "cell_type": "code",
      "execution_count": 1,
      "metadata": {
        "id": "ABApoRoG52Bt"
      },
      "outputs": [],
      "source": [
        "from ISLP import load_data\n",
        "from ISLP.models import (ModelSpec as MS,\n",
        "                         summarize,\n",
        "                         poly)"
      ],
      "id": "ABApoRoG52Bt"
    },
    {
      "cell_type": "code",
      "source": [
        "import ISLP\n",
        "import numpy as np\n",
        "import pandas as pd\n",
        "from matplotlib.pyplot import subplots\n",
        "\n",
        "import statsmodels.api as sm\n",
        "\n"
      ],
      "metadata": {
        "id": "ZV2W77Yc54cn"
      },
      "execution_count": 2,
      "outputs": [],
      "id": "ZV2W77Yc54cn"
    },
    {
      "cell_type": "markdown",
      "source": [
        "#1 Simple Linear Regression using Boston data"
      ],
      "metadata": {
        "id": "tBTj9aGB-E3i"
      },
      "id": "tBTj9aGB-E3i"
    },
    {
      "cell_type": "code",
      "source": [
        "Boston = load_data(\"Boston\")\n",
        "Boston.columns"
      ],
      "metadata": {
        "colab": {
          "base_uri": "https://localhost:8080/"
        },
        "id": "GxyNaRxY6ZTY",
        "outputId": "df8a75c1-1f4e-4f71-e7ef-c3bb6fa05fb6"
      },
      "execution_count": null,
      "outputs": [
        {
          "output_type": "execute_result",
          "data": {
            "text/plain": [
              "Index(['crim', 'zn', 'indus', 'chas', 'nox', 'rm', 'age', 'dis', 'rad', 'tax',\n",
              "       'ptratio', 'lstat', 'medv'],\n",
              "      dtype='object')"
            ]
          },
          "metadata": {},
          "execution_count": 69
        }
      ],
      "id": "GxyNaRxY6ZTY"
    },
    {
      "cell_type": "code",
      "source": [
        "design = MS(['lstat'])\n",
        "X = design.fit_transform(Boston)\n",
        "y = Boston['medv']\n",
        "X"
      ],
      "metadata": {
        "colab": {
          "base_uri": "https://localhost:8080/",
          "height": 423
        },
        "id": "LxvKtgmvQ65P",
        "outputId": "2d55a6fc-1636-4355-e67c-08d99e86eebf"
      },
      "id": "LxvKtgmvQ65P",
      "execution_count": null,
      "outputs": [
        {
          "output_type": "execute_result",
          "data": {
            "text/plain": [
              "     intercept  lstat\n",
              "0          1.0   4.98\n",
              "1          1.0   9.14\n",
              "2          1.0   4.03\n",
              "3          1.0   2.94\n",
              "4          1.0   5.33\n",
              "..         ...    ...\n",
              "501        1.0   9.67\n",
              "502        1.0   9.08\n",
              "503        1.0   5.64\n",
              "504        1.0   6.48\n",
              "505        1.0   7.88\n",
              "\n",
              "[506 rows x 2 columns]"
            ],
            "text/html": [
              "\n",
              "  <div id=\"df-b3788383-b8a0-44fa-a2ce-34e84a5987ee\" class=\"colab-df-container\">\n",
              "    <div>\n",
              "<style scoped>\n",
              "    .dataframe tbody tr th:only-of-type {\n",
              "        vertical-align: middle;\n",
              "    }\n",
              "\n",
              "    .dataframe tbody tr th {\n",
              "        vertical-align: top;\n",
              "    }\n",
              "\n",
              "    .dataframe thead th {\n",
              "        text-align: right;\n",
              "    }\n",
              "</style>\n",
              "<table border=\"1\" class=\"dataframe\">\n",
              "  <thead>\n",
              "    <tr style=\"text-align: right;\">\n",
              "      <th></th>\n",
              "      <th>intercept</th>\n",
              "      <th>lstat</th>\n",
              "    </tr>\n",
              "  </thead>\n",
              "  <tbody>\n",
              "    <tr>\n",
              "      <th>0</th>\n",
              "      <td>1.0</td>\n",
              "      <td>4.98</td>\n",
              "    </tr>\n",
              "    <tr>\n",
              "      <th>1</th>\n",
              "      <td>1.0</td>\n",
              "      <td>9.14</td>\n",
              "    </tr>\n",
              "    <tr>\n",
              "      <th>2</th>\n",
              "      <td>1.0</td>\n",
              "      <td>4.03</td>\n",
              "    </tr>\n",
              "    <tr>\n",
              "      <th>3</th>\n",
              "      <td>1.0</td>\n",
              "      <td>2.94</td>\n",
              "    </tr>\n",
              "    <tr>\n",
              "      <th>4</th>\n",
              "      <td>1.0</td>\n",
              "      <td>5.33</td>\n",
              "    </tr>\n",
              "    <tr>\n",
              "      <th>...</th>\n",
              "      <td>...</td>\n",
              "      <td>...</td>\n",
              "    </tr>\n",
              "    <tr>\n",
              "      <th>501</th>\n",
              "      <td>1.0</td>\n",
              "      <td>9.67</td>\n",
              "    </tr>\n",
              "    <tr>\n",
              "      <th>502</th>\n",
              "      <td>1.0</td>\n",
              "      <td>9.08</td>\n",
              "    </tr>\n",
              "    <tr>\n",
              "      <th>503</th>\n",
              "      <td>1.0</td>\n",
              "      <td>5.64</td>\n",
              "    </tr>\n",
              "    <tr>\n",
              "      <th>504</th>\n",
              "      <td>1.0</td>\n",
              "      <td>6.48</td>\n",
              "    </tr>\n",
              "    <tr>\n",
              "      <th>505</th>\n",
              "      <td>1.0</td>\n",
              "      <td>7.88</td>\n",
              "    </tr>\n",
              "  </tbody>\n",
              "</table>\n",
              "<p>506 rows × 2 columns</p>\n",
              "</div>\n",
              "    <div class=\"colab-df-buttons\">\n",
              "\n",
              "  <div class=\"colab-df-container\">\n",
              "    <button class=\"colab-df-convert\" onclick=\"convertToInteractive('df-b3788383-b8a0-44fa-a2ce-34e84a5987ee')\"\n",
              "            title=\"Convert this dataframe to an interactive table.\"\n",
              "            style=\"display:none;\">\n",
              "\n",
              "  <svg xmlns=\"http://www.w3.org/2000/svg\" height=\"24px\" viewBox=\"0 -960 960 960\">\n",
              "    <path d=\"M120-120v-720h720v720H120Zm60-500h600v-160H180v160Zm220 220h160v-160H400v160Zm0 220h160v-160H400v160ZM180-400h160v-160H180v160Zm440 0h160v-160H620v160ZM180-180h160v-160H180v160Zm440 0h160v-160H620v160Z\"/>\n",
              "  </svg>\n",
              "    </button>\n",
              "\n",
              "  <style>\n",
              "    .colab-df-container {\n",
              "      display:flex;\n",
              "      gap: 12px;\n",
              "    }\n",
              "\n",
              "    .colab-df-convert {\n",
              "      background-color: #E8F0FE;\n",
              "      border: none;\n",
              "      border-radius: 50%;\n",
              "      cursor: pointer;\n",
              "      display: none;\n",
              "      fill: #1967D2;\n",
              "      height: 32px;\n",
              "      padding: 0 0 0 0;\n",
              "      width: 32px;\n",
              "    }\n",
              "\n",
              "    .colab-df-convert:hover {\n",
              "      background-color: #E2EBFA;\n",
              "      box-shadow: 0px 1px 2px rgba(60, 64, 67, 0.3), 0px 1px 3px 1px rgba(60, 64, 67, 0.15);\n",
              "      fill: #174EA6;\n",
              "    }\n",
              "\n",
              "    .colab-df-buttons div {\n",
              "      margin-bottom: 4px;\n",
              "    }\n",
              "\n",
              "    [theme=dark] .colab-df-convert {\n",
              "      background-color: #3B4455;\n",
              "      fill: #D2E3FC;\n",
              "    }\n",
              "\n",
              "    [theme=dark] .colab-df-convert:hover {\n",
              "      background-color: #434B5C;\n",
              "      box-shadow: 0px 1px 3px 1px rgba(0, 0, 0, 0.15);\n",
              "      filter: drop-shadow(0px 1px 2px rgba(0, 0, 0, 0.3));\n",
              "      fill: #FFFFFF;\n",
              "    }\n",
              "  </style>\n",
              "\n",
              "    <script>\n",
              "      const buttonEl =\n",
              "        document.querySelector('#df-b3788383-b8a0-44fa-a2ce-34e84a5987ee button.colab-df-convert');\n",
              "      buttonEl.style.display =\n",
              "        google.colab.kernel.accessAllowed ? 'block' : 'none';\n",
              "\n",
              "      async function convertToInteractive(key) {\n",
              "        const element = document.querySelector('#df-b3788383-b8a0-44fa-a2ce-34e84a5987ee');\n",
              "        const dataTable =\n",
              "          await google.colab.kernel.invokeFunction('convertToInteractive',\n",
              "                                                    [key], {});\n",
              "        if (!dataTable) return;\n",
              "\n",
              "        const docLinkHtml = 'Like what you see? Visit the ' +\n",
              "          '<a target=\"_blank\" href=https://colab.research.google.com/notebooks/data_table.ipynb>data table notebook</a>'\n",
              "          + ' to learn more about interactive tables.';\n",
              "        element.innerHTML = '';\n",
              "        dataTable['output_type'] = 'display_data';\n",
              "        await google.colab.output.renderOutput(dataTable, element);\n",
              "        const docLink = document.createElement('div');\n",
              "        docLink.innerHTML = docLinkHtml;\n",
              "        element.appendChild(docLink);\n",
              "      }\n",
              "    </script>\n",
              "  </div>\n",
              "\n",
              "\n",
              "<div id=\"df-af8866ea-1fdb-4537-8ffc-b74cfc5500a1\">\n",
              "  <button class=\"colab-df-quickchart\" onclick=\"quickchart('df-af8866ea-1fdb-4537-8ffc-b74cfc5500a1')\"\n",
              "            title=\"Suggest charts.\"\n",
              "            style=\"display:none;\">\n",
              "\n",
              "<svg xmlns=\"http://www.w3.org/2000/svg\" height=\"24px\"viewBox=\"0 0 24 24\"\n",
              "     width=\"24px\">\n",
              "    <g>\n",
              "        <path d=\"M19 3H5c-1.1 0-2 .9-2 2v14c0 1.1.9 2 2 2h14c1.1 0 2-.9 2-2V5c0-1.1-.9-2-2-2zM9 17H7v-7h2v7zm4 0h-2V7h2v10zm4 0h-2v-4h2v4z\"/>\n",
              "    </g>\n",
              "</svg>\n",
              "  </button>\n",
              "\n",
              "<style>\n",
              "  .colab-df-quickchart {\n",
              "      --bg-color: #E8F0FE;\n",
              "      --fill-color: #1967D2;\n",
              "      --hover-bg-color: #E2EBFA;\n",
              "      --hover-fill-color: #174EA6;\n",
              "      --disabled-fill-color: #AAA;\n",
              "      --disabled-bg-color: #DDD;\n",
              "  }\n",
              "\n",
              "  [theme=dark] .colab-df-quickchart {\n",
              "      --bg-color: #3B4455;\n",
              "      --fill-color: #D2E3FC;\n",
              "      --hover-bg-color: #434B5C;\n",
              "      --hover-fill-color: #FFFFFF;\n",
              "      --disabled-bg-color: #3B4455;\n",
              "      --disabled-fill-color: #666;\n",
              "  }\n",
              "\n",
              "  .colab-df-quickchart {\n",
              "    background-color: var(--bg-color);\n",
              "    border: none;\n",
              "    border-radius: 50%;\n",
              "    cursor: pointer;\n",
              "    display: none;\n",
              "    fill: var(--fill-color);\n",
              "    height: 32px;\n",
              "    padding: 0;\n",
              "    width: 32px;\n",
              "  }\n",
              "\n",
              "  .colab-df-quickchart:hover {\n",
              "    background-color: var(--hover-bg-color);\n",
              "    box-shadow: 0 1px 2px rgba(60, 64, 67, 0.3), 0 1px 3px 1px rgba(60, 64, 67, 0.15);\n",
              "    fill: var(--button-hover-fill-color);\n",
              "  }\n",
              "\n",
              "  .colab-df-quickchart-complete:disabled,\n",
              "  .colab-df-quickchart-complete:disabled:hover {\n",
              "    background-color: var(--disabled-bg-color);\n",
              "    fill: var(--disabled-fill-color);\n",
              "    box-shadow: none;\n",
              "  }\n",
              "\n",
              "  .colab-df-spinner {\n",
              "    border: 2px solid var(--fill-color);\n",
              "    border-color: transparent;\n",
              "    border-bottom-color: var(--fill-color);\n",
              "    animation:\n",
              "      spin 1s steps(1) infinite;\n",
              "  }\n",
              "\n",
              "  @keyframes spin {\n",
              "    0% {\n",
              "      border-color: transparent;\n",
              "      border-bottom-color: var(--fill-color);\n",
              "      border-left-color: var(--fill-color);\n",
              "    }\n",
              "    20% {\n",
              "      border-color: transparent;\n",
              "      border-left-color: var(--fill-color);\n",
              "      border-top-color: var(--fill-color);\n",
              "    }\n",
              "    30% {\n",
              "      border-color: transparent;\n",
              "      border-left-color: var(--fill-color);\n",
              "      border-top-color: var(--fill-color);\n",
              "      border-right-color: var(--fill-color);\n",
              "    }\n",
              "    40% {\n",
              "      border-color: transparent;\n",
              "      border-right-color: var(--fill-color);\n",
              "      border-top-color: var(--fill-color);\n",
              "    }\n",
              "    60% {\n",
              "      border-color: transparent;\n",
              "      border-right-color: var(--fill-color);\n",
              "    }\n",
              "    80% {\n",
              "      border-color: transparent;\n",
              "      border-right-color: var(--fill-color);\n",
              "      border-bottom-color: var(--fill-color);\n",
              "    }\n",
              "    90% {\n",
              "      border-color: transparent;\n",
              "      border-bottom-color: var(--fill-color);\n",
              "    }\n",
              "  }\n",
              "</style>\n",
              "\n",
              "  <script>\n",
              "    async function quickchart(key) {\n",
              "      const quickchartButtonEl =\n",
              "        document.querySelector('#' + key + ' button');\n",
              "      quickchartButtonEl.disabled = true;  // To prevent multiple clicks.\n",
              "      quickchartButtonEl.classList.add('colab-df-spinner');\n",
              "      try {\n",
              "        const charts = await google.colab.kernel.invokeFunction(\n",
              "            'suggestCharts', [key], {});\n",
              "      } catch (error) {\n",
              "        console.error('Error during call to suggestCharts:', error);\n",
              "      }\n",
              "      quickchartButtonEl.classList.remove('colab-df-spinner');\n",
              "      quickchartButtonEl.classList.add('colab-df-quickchart-complete');\n",
              "    }\n",
              "    (() => {\n",
              "      let quickchartButtonEl =\n",
              "        document.querySelector('#df-af8866ea-1fdb-4537-8ffc-b74cfc5500a1 button');\n",
              "      quickchartButtonEl.style.display =\n",
              "        google.colab.kernel.accessAllowed ? 'block' : 'none';\n",
              "    })();\n",
              "  </script>\n",
              "</div>\n",
              "    </div>\n",
              "  </div>\n"
            ]
          },
          "metadata": {},
          "execution_count": 70
        }
      ]
    },
    {
      "cell_type": "code",
      "source": [
        "y"
      ],
      "metadata": {
        "colab": {
          "base_uri": "https://localhost:8080/"
        },
        "id": "De0t37LxqgMe",
        "outputId": "71bc1586-93ca-48c5-b209-89d0ff2cc36c"
      },
      "id": "De0t37LxqgMe",
      "execution_count": null,
      "outputs": [
        {
          "output_type": "execute_result",
          "data": {
            "text/plain": [
              "0      24.0\n",
              "1      21.6\n",
              "2      34.7\n",
              "3      33.4\n",
              "4      36.2\n",
              "       ... \n",
              "501    22.4\n",
              "502    20.6\n",
              "503    23.9\n",
              "504    22.0\n",
              "505    11.9\n",
              "Name: medv, Length: 506, dtype: float64"
            ]
          },
          "metadata": {},
          "execution_count": 71
        }
      ]
    },
    {
      "cell_type": "markdown",
      "source": [
        "Now we do standardization on lstat in X matrix."
      ],
      "metadata": {
        "id": "408HDnb9RKn8"
      },
      "id": "408HDnb9RKn8"
    },
    {
      "cell_type": "code",
      "source": [
        "lstat_mean = np.mean(X[\"lstat\"])\n",
        "lstat_std = np.std(X[\"lstat\"])\n",
        "X[\"lstat\"] = ( X[\"lstat\"]- lstat_mean) / lstat_std\n",
        "X"
      ],
      "metadata": {
        "colab": {
          "base_uri": "https://localhost:8080/",
          "height": 423
        },
        "id": "bbSH95_jRWcn",
        "outputId": "f6039cfb-82e3-4456-8bab-1ca82eaa040b"
      },
      "id": "bbSH95_jRWcn",
      "execution_count": null,
      "outputs": [
        {
          "output_type": "execute_result",
          "data": {
            "text/plain": [
              "     intercept     lstat\n",
              "0          1.0 -1.075562\n",
              "1          1.0 -0.492439\n",
              "2          1.0 -1.208727\n",
              "3          1.0 -1.361517\n",
              "4          1.0 -1.026501\n",
              "..         ...       ...\n",
              "501        1.0 -0.418147\n",
              "502        1.0 -0.500850\n",
              "503        1.0 -0.983048\n",
              "504        1.0 -0.865302\n",
              "505        1.0 -0.669058\n",
              "\n",
              "[506 rows x 2 columns]"
            ],
            "text/html": [
              "\n",
              "  <div id=\"df-0204fa8f-ae2e-4982-b757-8efbf7b2c8a0\" class=\"colab-df-container\">\n",
              "    <div>\n",
              "<style scoped>\n",
              "    .dataframe tbody tr th:only-of-type {\n",
              "        vertical-align: middle;\n",
              "    }\n",
              "\n",
              "    .dataframe tbody tr th {\n",
              "        vertical-align: top;\n",
              "    }\n",
              "\n",
              "    .dataframe thead th {\n",
              "        text-align: right;\n",
              "    }\n",
              "</style>\n",
              "<table border=\"1\" class=\"dataframe\">\n",
              "  <thead>\n",
              "    <tr style=\"text-align: right;\">\n",
              "      <th></th>\n",
              "      <th>intercept</th>\n",
              "      <th>lstat</th>\n",
              "    </tr>\n",
              "  </thead>\n",
              "  <tbody>\n",
              "    <tr>\n",
              "      <th>0</th>\n",
              "      <td>1.0</td>\n",
              "      <td>-1.075562</td>\n",
              "    </tr>\n",
              "    <tr>\n",
              "      <th>1</th>\n",
              "      <td>1.0</td>\n",
              "      <td>-0.492439</td>\n",
              "    </tr>\n",
              "    <tr>\n",
              "      <th>2</th>\n",
              "      <td>1.0</td>\n",
              "      <td>-1.208727</td>\n",
              "    </tr>\n",
              "    <tr>\n",
              "      <th>3</th>\n",
              "      <td>1.0</td>\n",
              "      <td>-1.361517</td>\n",
              "    </tr>\n",
              "    <tr>\n",
              "      <th>4</th>\n",
              "      <td>1.0</td>\n",
              "      <td>-1.026501</td>\n",
              "    </tr>\n",
              "    <tr>\n",
              "      <th>...</th>\n",
              "      <td>...</td>\n",
              "      <td>...</td>\n",
              "    </tr>\n",
              "    <tr>\n",
              "      <th>501</th>\n",
              "      <td>1.0</td>\n",
              "      <td>-0.418147</td>\n",
              "    </tr>\n",
              "    <tr>\n",
              "      <th>502</th>\n",
              "      <td>1.0</td>\n",
              "      <td>-0.500850</td>\n",
              "    </tr>\n",
              "    <tr>\n",
              "      <th>503</th>\n",
              "      <td>1.0</td>\n",
              "      <td>-0.983048</td>\n",
              "    </tr>\n",
              "    <tr>\n",
              "      <th>504</th>\n",
              "      <td>1.0</td>\n",
              "      <td>-0.865302</td>\n",
              "    </tr>\n",
              "    <tr>\n",
              "      <th>505</th>\n",
              "      <td>1.0</td>\n",
              "      <td>-0.669058</td>\n",
              "    </tr>\n",
              "  </tbody>\n",
              "</table>\n",
              "<p>506 rows × 2 columns</p>\n",
              "</div>\n",
              "    <div class=\"colab-df-buttons\">\n",
              "\n",
              "  <div class=\"colab-df-container\">\n",
              "    <button class=\"colab-df-convert\" onclick=\"convertToInteractive('df-0204fa8f-ae2e-4982-b757-8efbf7b2c8a0')\"\n",
              "            title=\"Convert this dataframe to an interactive table.\"\n",
              "            style=\"display:none;\">\n",
              "\n",
              "  <svg xmlns=\"http://www.w3.org/2000/svg\" height=\"24px\" viewBox=\"0 -960 960 960\">\n",
              "    <path d=\"M120-120v-720h720v720H120Zm60-500h600v-160H180v160Zm220 220h160v-160H400v160Zm0 220h160v-160H400v160ZM180-400h160v-160H180v160Zm440 0h160v-160H620v160ZM180-180h160v-160H180v160Zm440 0h160v-160H620v160Z\"/>\n",
              "  </svg>\n",
              "    </button>\n",
              "\n",
              "  <style>\n",
              "    .colab-df-container {\n",
              "      display:flex;\n",
              "      gap: 12px;\n",
              "    }\n",
              "\n",
              "    .colab-df-convert {\n",
              "      background-color: #E8F0FE;\n",
              "      border: none;\n",
              "      border-radius: 50%;\n",
              "      cursor: pointer;\n",
              "      display: none;\n",
              "      fill: #1967D2;\n",
              "      height: 32px;\n",
              "      padding: 0 0 0 0;\n",
              "      width: 32px;\n",
              "    }\n",
              "\n",
              "    .colab-df-convert:hover {\n",
              "      background-color: #E2EBFA;\n",
              "      box-shadow: 0px 1px 2px rgba(60, 64, 67, 0.3), 0px 1px 3px 1px rgba(60, 64, 67, 0.15);\n",
              "      fill: #174EA6;\n",
              "    }\n",
              "\n",
              "    .colab-df-buttons div {\n",
              "      margin-bottom: 4px;\n",
              "    }\n",
              "\n",
              "    [theme=dark] .colab-df-convert {\n",
              "      background-color: #3B4455;\n",
              "      fill: #D2E3FC;\n",
              "    }\n",
              "\n",
              "    [theme=dark] .colab-df-convert:hover {\n",
              "      background-color: #434B5C;\n",
              "      box-shadow: 0px 1px 3px 1px rgba(0, 0, 0, 0.15);\n",
              "      filter: drop-shadow(0px 1px 2px rgba(0, 0, 0, 0.3));\n",
              "      fill: #FFFFFF;\n",
              "    }\n",
              "  </style>\n",
              "\n",
              "    <script>\n",
              "      const buttonEl =\n",
              "        document.querySelector('#df-0204fa8f-ae2e-4982-b757-8efbf7b2c8a0 button.colab-df-convert');\n",
              "      buttonEl.style.display =\n",
              "        google.colab.kernel.accessAllowed ? 'block' : 'none';\n",
              "\n",
              "      async function convertToInteractive(key) {\n",
              "        const element = document.querySelector('#df-0204fa8f-ae2e-4982-b757-8efbf7b2c8a0');\n",
              "        const dataTable =\n",
              "          await google.colab.kernel.invokeFunction('convertToInteractive',\n",
              "                                                    [key], {});\n",
              "        if (!dataTable) return;\n",
              "\n",
              "        const docLinkHtml = 'Like what you see? Visit the ' +\n",
              "          '<a target=\"_blank\" href=https://colab.research.google.com/notebooks/data_table.ipynb>data table notebook</a>'\n",
              "          + ' to learn more about interactive tables.';\n",
              "        element.innerHTML = '';\n",
              "        dataTable['output_type'] = 'display_data';\n",
              "        await google.colab.output.renderOutput(dataTable, element);\n",
              "        const docLink = document.createElement('div');\n",
              "        docLink.innerHTML = docLinkHtml;\n",
              "        element.appendChild(docLink);\n",
              "      }\n",
              "    </script>\n",
              "  </div>\n",
              "\n",
              "\n",
              "<div id=\"df-9f0e561e-64dc-43b3-a6b4-2801a4a4953d\">\n",
              "  <button class=\"colab-df-quickchart\" onclick=\"quickchart('df-9f0e561e-64dc-43b3-a6b4-2801a4a4953d')\"\n",
              "            title=\"Suggest charts.\"\n",
              "            style=\"display:none;\">\n",
              "\n",
              "<svg xmlns=\"http://www.w3.org/2000/svg\" height=\"24px\"viewBox=\"0 0 24 24\"\n",
              "     width=\"24px\">\n",
              "    <g>\n",
              "        <path d=\"M19 3H5c-1.1 0-2 .9-2 2v14c0 1.1.9 2 2 2h14c1.1 0 2-.9 2-2V5c0-1.1-.9-2-2-2zM9 17H7v-7h2v7zm4 0h-2V7h2v10zm4 0h-2v-4h2v4z\"/>\n",
              "    </g>\n",
              "</svg>\n",
              "  </button>\n",
              "\n",
              "<style>\n",
              "  .colab-df-quickchart {\n",
              "      --bg-color: #E8F0FE;\n",
              "      --fill-color: #1967D2;\n",
              "      --hover-bg-color: #E2EBFA;\n",
              "      --hover-fill-color: #174EA6;\n",
              "      --disabled-fill-color: #AAA;\n",
              "      --disabled-bg-color: #DDD;\n",
              "  }\n",
              "\n",
              "  [theme=dark] .colab-df-quickchart {\n",
              "      --bg-color: #3B4455;\n",
              "      --fill-color: #D2E3FC;\n",
              "      --hover-bg-color: #434B5C;\n",
              "      --hover-fill-color: #FFFFFF;\n",
              "      --disabled-bg-color: #3B4455;\n",
              "      --disabled-fill-color: #666;\n",
              "  }\n",
              "\n",
              "  .colab-df-quickchart {\n",
              "    background-color: var(--bg-color);\n",
              "    border: none;\n",
              "    border-radius: 50%;\n",
              "    cursor: pointer;\n",
              "    display: none;\n",
              "    fill: var(--fill-color);\n",
              "    height: 32px;\n",
              "    padding: 0;\n",
              "    width: 32px;\n",
              "  }\n",
              "\n",
              "  .colab-df-quickchart:hover {\n",
              "    background-color: var(--hover-bg-color);\n",
              "    box-shadow: 0 1px 2px rgba(60, 64, 67, 0.3), 0 1px 3px 1px rgba(60, 64, 67, 0.15);\n",
              "    fill: var(--button-hover-fill-color);\n",
              "  }\n",
              "\n",
              "  .colab-df-quickchart-complete:disabled,\n",
              "  .colab-df-quickchart-complete:disabled:hover {\n",
              "    background-color: var(--disabled-bg-color);\n",
              "    fill: var(--disabled-fill-color);\n",
              "    box-shadow: none;\n",
              "  }\n",
              "\n",
              "  .colab-df-spinner {\n",
              "    border: 2px solid var(--fill-color);\n",
              "    border-color: transparent;\n",
              "    border-bottom-color: var(--fill-color);\n",
              "    animation:\n",
              "      spin 1s steps(1) infinite;\n",
              "  }\n",
              "\n",
              "  @keyframes spin {\n",
              "    0% {\n",
              "      border-color: transparent;\n",
              "      border-bottom-color: var(--fill-color);\n",
              "      border-left-color: var(--fill-color);\n",
              "    }\n",
              "    20% {\n",
              "      border-color: transparent;\n",
              "      border-left-color: var(--fill-color);\n",
              "      border-top-color: var(--fill-color);\n",
              "    }\n",
              "    30% {\n",
              "      border-color: transparent;\n",
              "      border-left-color: var(--fill-color);\n",
              "      border-top-color: var(--fill-color);\n",
              "      border-right-color: var(--fill-color);\n",
              "    }\n",
              "    40% {\n",
              "      border-color: transparent;\n",
              "      border-right-color: var(--fill-color);\n",
              "      border-top-color: var(--fill-color);\n",
              "    }\n",
              "    60% {\n",
              "      border-color: transparent;\n",
              "      border-right-color: var(--fill-color);\n",
              "    }\n",
              "    80% {\n",
              "      border-color: transparent;\n",
              "      border-right-color: var(--fill-color);\n",
              "      border-bottom-color: var(--fill-color);\n",
              "    }\n",
              "    90% {\n",
              "      border-color: transparent;\n",
              "      border-bottom-color: var(--fill-color);\n",
              "    }\n",
              "  }\n",
              "</style>\n",
              "\n",
              "  <script>\n",
              "    async function quickchart(key) {\n",
              "      const quickchartButtonEl =\n",
              "        document.querySelector('#' + key + ' button');\n",
              "      quickchartButtonEl.disabled = true;  // To prevent multiple clicks.\n",
              "      quickchartButtonEl.classList.add('colab-df-spinner');\n",
              "      try {\n",
              "        const charts = await google.colab.kernel.invokeFunction(\n",
              "            'suggestCharts', [key], {});\n",
              "      } catch (error) {\n",
              "        console.error('Error during call to suggestCharts:', error);\n",
              "      }\n",
              "      quickchartButtonEl.classList.remove('colab-df-spinner');\n",
              "      quickchartButtonEl.classList.add('colab-df-quickchart-complete');\n",
              "    }\n",
              "    (() => {\n",
              "      let quickchartButtonEl =\n",
              "        document.querySelector('#df-9f0e561e-64dc-43b3-a6b4-2801a4a4953d button');\n",
              "      quickchartButtonEl.style.display =\n",
              "        google.colab.kernel.accessAllowed ? 'block' : 'none';\n",
              "    })();\n",
              "  </script>\n",
              "</div>\n",
              "    </div>\n",
              "  </div>\n"
            ]
          },
          "metadata": {},
          "execution_count": 72
        }
      ]
    },
    {
      "cell_type": "markdown",
      "source": [
        "Equivalently, you can use the following code to create the design matrix `X`.\n",
        "\n",
        "```\n",
        "lstat = np.array(Boston[\"lstat\"])\n",
        "lstat = (lstat-np.mean(lstat))/np.std(lstat)\n",
        "print(Boston.shape)\n",
        "n = Boston.shape[0]\n",
        "ones = np.ones([n])\n",
        "X = np.stack([ones, lstat], axis=1 )\n",
        "y = Boston['medv']\n",
        "```"
      ],
      "metadata": {
        "id": "wEaO-CCXSCTf"
      },
      "id": "wEaO-CCXSCTf"
    },
    {
      "cell_type": "code",
      "source": [
        "model = sm.OLS(y, X)\n",
        "results = model.fit()"
      ],
      "metadata": {
        "id": "0rrQ_RdA7M0B"
      },
      "execution_count": null,
      "outputs": [],
      "id": "0rrQ_RdA7M0B"
    },
    {
      "cell_type": "code",
      "source": [
        "summarize(results)"
      ],
      "metadata": {
        "colab": {
          "base_uri": "https://localhost:8080/",
          "height": 112
        },
        "id": "Ob4e3B8D8Ovp",
        "outputId": "c2e17aec-9235-4e59-d769-c97ef892a8e1"
      },
      "execution_count": null,
      "outputs": [
        {
          "output_type": "execute_result",
          "data": {
            "text/plain": [
              "              coef  std err       t  P>|t|\n",
              "intercept  22.5328    0.276  81.545    0.0\n",
              "lstat      -6.7777    0.276 -24.528    0.0"
            ],
            "text/html": [
              "\n",
              "  <div id=\"df-63a45b9f-709b-4588-a42b-d7bb71899731\" class=\"colab-df-container\">\n",
              "    <div>\n",
              "<style scoped>\n",
              "    .dataframe tbody tr th:only-of-type {\n",
              "        vertical-align: middle;\n",
              "    }\n",
              "\n",
              "    .dataframe tbody tr th {\n",
              "        vertical-align: top;\n",
              "    }\n",
              "\n",
              "    .dataframe thead th {\n",
              "        text-align: right;\n",
              "    }\n",
              "</style>\n",
              "<table border=\"1\" class=\"dataframe\">\n",
              "  <thead>\n",
              "    <tr style=\"text-align: right;\">\n",
              "      <th></th>\n",
              "      <th>coef</th>\n",
              "      <th>std err</th>\n",
              "      <th>t</th>\n",
              "      <th>P&gt;|t|</th>\n",
              "    </tr>\n",
              "  </thead>\n",
              "  <tbody>\n",
              "    <tr>\n",
              "      <th>intercept</th>\n",
              "      <td>22.5328</td>\n",
              "      <td>0.276</td>\n",
              "      <td>81.545</td>\n",
              "      <td>0.0</td>\n",
              "    </tr>\n",
              "    <tr>\n",
              "      <th>lstat</th>\n",
              "      <td>-6.7777</td>\n",
              "      <td>0.276</td>\n",
              "      <td>-24.528</td>\n",
              "      <td>0.0</td>\n",
              "    </tr>\n",
              "  </tbody>\n",
              "</table>\n",
              "</div>\n",
              "    <div class=\"colab-df-buttons\">\n",
              "\n",
              "  <div class=\"colab-df-container\">\n",
              "    <button class=\"colab-df-convert\" onclick=\"convertToInteractive('df-63a45b9f-709b-4588-a42b-d7bb71899731')\"\n",
              "            title=\"Convert this dataframe to an interactive table.\"\n",
              "            style=\"display:none;\">\n",
              "\n",
              "  <svg xmlns=\"http://www.w3.org/2000/svg\" height=\"24px\" viewBox=\"0 -960 960 960\">\n",
              "    <path d=\"M120-120v-720h720v720H120Zm60-500h600v-160H180v160Zm220 220h160v-160H400v160Zm0 220h160v-160H400v160ZM180-400h160v-160H180v160Zm440 0h160v-160H620v160ZM180-180h160v-160H180v160Zm440 0h160v-160H620v160Z\"/>\n",
              "  </svg>\n",
              "    </button>\n",
              "\n",
              "  <style>\n",
              "    .colab-df-container {\n",
              "      display:flex;\n",
              "      gap: 12px;\n",
              "    }\n",
              "\n",
              "    .colab-df-convert {\n",
              "      background-color: #E8F0FE;\n",
              "      border: none;\n",
              "      border-radius: 50%;\n",
              "      cursor: pointer;\n",
              "      display: none;\n",
              "      fill: #1967D2;\n",
              "      height: 32px;\n",
              "      padding: 0 0 0 0;\n",
              "      width: 32px;\n",
              "    }\n",
              "\n",
              "    .colab-df-convert:hover {\n",
              "      background-color: #E2EBFA;\n",
              "      box-shadow: 0px 1px 2px rgba(60, 64, 67, 0.3), 0px 1px 3px 1px rgba(60, 64, 67, 0.15);\n",
              "      fill: #174EA6;\n",
              "    }\n",
              "\n",
              "    .colab-df-buttons div {\n",
              "      margin-bottom: 4px;\n",
              "    }\n",
              "\n",
              "    [theme=dark] .colab-df-convert {\n",
              "      background-color: #3B4455;\n",
              "      fill: #D2E3FC;\n",
              "    }\n",
              "\n",
              "    [theme=dark] .colab-df-convert:hover {\n",
              "      background-color: #434B5C;\n",
              "      box-shadow: 0px 1px 3px 1px rgba(0, 0, 0, 0.15);\n",
              "      filter: drop-shadow(0px 1px 2px rgba(0, 0, 0, 0.3));\n",
              "      fill: #FFFFFF;\n",
              "    }\n",
              "  </style>\n",
              "\n",
              "    <script>\n",
              "      const buttonEl =\n",
              "        document.querySelector('#df-63a45b9f-709b-4588-a42b-d7bb71899731 button.colab-df-convert');\n",
              "      buttonEl.style.display =\n",
              "        google.colab.kernel.accessAllowed ? 'block' : 'none';\n",
              "\n",
              "      async function convertToInteractive(key) {\n",
              "        const element = document.querySelector('#df-63a45b9f-709b-4588-a42b-d7bb71899731');\n",
              "        const dataTable =\n",
              "          await google.colab.kernel.invokeFunction('convertToInteractive',\n",
              "                                                    [key], {});\n",
              "        if (!dataTable) return;\n",
              "\n",
              "        const docLinkHtml = 'Like what you see? Visit the ' +\n",
              "          '<a target=\"_blank\" href=https://colab.research.google.com/notebooks/data_table.ipynb>data table notebook</a>'\n",
              "          + ' to learn more about interactive tables.';\n",
              "        element.innerHTML = '';\n",
              "        dataTable['output_type'] = 'display_data';\n",
              "        await google.colab.output.renderOutput(dataTable, element);\n",
              "        const docLink = document.createElement('div');\n",
              "        docLink.innerHTML = docLinkHtml;\n",
              "        element.appendChild(docLink);\n",
              "      }\n",
              "    </script>\n",
              "  </div>\n",
              "\n",
              "\n",
              "<div id=\"df-5e7f1eea-6867-4444-b6b6-fea2e32dd433\">\n",
              "  <button class=\"colab-df-quickchart\" onclick=\"quickchart('df-5e7f1eea-6867-4444-b6b6-fea2e32dd433')\"\n",
              "            title=\"Suggest charts.\"\n",
              "            style=\"display:none;\">\n",
              "\n",
              "<svg xmlns=\"http://www.w3.org/2000/svg\" height=\"24px\"viewBox=\"0 0 24 24\"\n",
              "     width=\"24px\">\n",
              "    <g>\n",
              "        <path d=\"M19 3H5c-1.1 0-2 .9-2 2v14c0 1.1.9 2 2 2h14c1.1 0 2-.9 2-2V5c0-1.1-.9-2-2-2zM9 17H7v-7h2v7zm4 0h-2V7h2v10zm4 0h-2v-4h2v4z\"/>\n",
              "    </g>\n",
              "</svg>\n",
              "  </button>\n",
              "\n",
              "<style>\n",
              "  .colab-df-quickchart {\n",
              "      --bg-color: #E8F0FE;\n",
              "      --fill-color: #1967D2;\n",
              "      --hover-bg-color: #E2EBFA;\n",
              "      --hover-fill-color: #174EA6;\n",
              "      --disabled-fill-color: #AAA;\n",
              "      --disabled-bg-color: #DDD;\n",
              "  }\n",
              "\n",
              "  [theme=dark] .colab-df-quickchart {\n",
              "      --bg-color: #3B4455;\n",
              "      --fill-color: #D2E3FC;\n",
              "      --hover-bg-color: #434B5C;\n",
              "      --hover-fill-color: #FFFFFF;\n",
              "      --disabled-bg-color: #3B4455;\n",
              "      --disabled-fill-color: #666;\n",
              "  }\n",
              "\n",
              "  .colab-df-quickchart {\n",
              "    background-color: var(--bg-color);\n",
              "    border: none;\n",
              "    border-radius: 50%;\n",
              "    cursor: pointer;\n",
              "    display: none;\n",
              "    fill: var(--fill-color);\n",
              "    height: 32px;\n",
              "    padding: 0;\n",
              "    width: 32px;\n",
              "  }\n",
              "\n",
              "  .colab-df-quickchart:hover {\n",
              "    background-color: var(--hover-bg-color);\n",
              "    box-shadow: 0 1px 2px rgba(60, 64, 67, 0.3), 0 1px 3px 1px rgba(60, 64, 67, 0.15);\n",
              "    fill: var(--button-hover-fill-color);\n",
              "  }\n",
              "\n",
              "  .colab-df-quickchart-complete:disabled,\n",
              "  .colab-df-quickchart-complete:disabled:hover {\n",
              "    background-color: var(--disabled-bg-color);\n",
              "    fill: var(--disabled-fill-color);\n",
              "    box-shadow: none;\n",
              "  }\n",
              "\n",
              "  .colab-df-spinner {\n",
              "    border: 2px solid var(--fill-color);\n",
              "    border-color: transparent;\n",
              "    border-bottom-color: var(--fill-color);\n",
              "    animation:\n",
              "      spin 1s steps(1) infinite;\n",
              "  }\n",
              "\n",
              "  @keyframes spin {\n",
              "    0% {\n",
              "      border-color: transparent;\n",
              "      border-bottom-color: var(--fill-color);\n",
              "      border-left-color: var(--fill-color);\n",
              "    }\n",
              "    20% {\n",
              "      border-color: transparent;\n",
              "      border-left-color: var(--fill-color);\n",
              "      border-top-color: var(--fill-color);\n",
              "    }\n",
              "    30% {\n",
              "      border-color: transparent;\n",
              "      border-left-color: var(--fill-color);\n",
              "      border-top-color: var(--fill-color);\n",
              "      border-right-color: var(--fill-color);\n",
              "    }\n",
              "    40% {\n",
              "      border-color: transparent;\n",
              "      border-right-color: var(--fill-color);\n",
              "      border-top-color: var(--fill-color);\n",
              "    }\n",
              "    60% {\n",
              "      border-color: transparent;\n",
              "      border-right-color: var(--fill-color);\n",
              "    }\n",
              "    80% {\n",
              "      border-color: transparent;\n",
              "      border-right-color: var(--fill-color);\n",
              "      border-bottom-color: var(--fill-color);\n",
              "    }\n",
              "    90% {\n",
              "      border-color: transparent;\n",
              "      border-bottom-color: var(--fill-color);\n",
              "    }\n",
              "  }\n",
              "</style>\n",
              "\n",
              "  <script>\n",
              "    async function quickchart(key) {\n",
              "      const quickchartButtonEl =\n",
              "        document.querySelector('#' + key + ' button');\n",
              "      quickchartButtonEl.disabled = true;  // To prevent multiple clicks.\n",
              "      quickchartButtonEl.classList.add('colab-df-spinner');\n",
              "      try {\n",
              "        const charts = await google.colab.kernel.invokeFunction(\n",
              "            'suggestCharts', [key], {});\n",
              "      } catch (error) {\n",
              "        console.error('Error during call to suggestCharts:', error);\n",
              "      }\n",
              "      quickchartButtonEl.classList.remove('colab-df-spinner');\n",
              "      quickchartButtonEl.classList.add('colab-df-quickchart-complete');\n",
              "    }\n",
              "    (() => {\n",
              "      let quickchartButtonEl =\n",
              "        document.querySelector('#df-5e7f1eea-6867-4444-b6b6-fea2e32dd433 button');\n",
              "      quickchartButtonEl.style.display =\n",
              "        google.colab.kernel.accessAllowed ? 'block' : 'none';\n",
              "    })();\n",
              "  </script>\n",
              "</div>\n",
              "    </div>\n",
              "  </div>\n"
            ]
          },
          "metadata": {},
          "execution_count": 24
        }
      ],
      "id": "Ob4e3B8D8Ovp"
    },
    {
      "cell_type": "code",
      "source": [
        "new_predictions = results.get_prediction(X)"
      ],
      "metadata": {
        "id": "ko8T-AUC8XGA"
      },
      "execution_count": null,
      "outputs": [],
      "id": "ko8T-AUC8XGA"
    },
    {
      "cell_type": "code",
      "source": [
        "yhat = new_predictions.predicted_mean\n",
        "yhat.shape"
      ],
      "metadata": {
        "colab": {
          "base_uri": "https://localhost:8080/"
        },
        "id": "1Y9JIZjM9f0c",
        "outputId": "092a5f69-f2b6-4aca-e2fb-c80dcb9b65a1"
      },
      "execution_count": null,
      "outputs": [
        {
          "output_type": "execute_result",
          "data": {
            "text/plain": [
              "(506,)"
            ]
          },
          "metadata": {},
          "execution_count": 26
        }
      ],
      "id": "1Y9JIZjM9f0c"
    },
    {
      "cell_type": "code",
      "source": [
        "np.mean((y-yhat)**2)"
      ],
      "metadata": {
        "colab": {
          "base_uri": "https://localhost:8080/"
        },
        "id": "YsCLw_eR9hLP",
        "outputId": "7dcfac29-6d08-4b48-8d59-fb952daaeb4c"
      },
      "execution_count": null,
      "outputs": [
        {
          "output_type": "execute_result",
          "data": {
            "text/plain": [
              "38.48296722989415"
            ]
          },
          "metadata": {},
          "execution_count": 27
        }
      ],
      "id": "YsCLw_eR9hLP"
    },
    {
      "cell_type": "code",
      "source": [
        "np.mean((y-np.mean(y))**2)"
      ],
      "metadata": {
        "colab": {
          "base_uri": "https://localhost:8080/"
        },
        "id": "_GSeY4YB9tJ8",
        "outputId": "3ff07cf9-0eb1-42a0-a456-5accd8ed9d89"
      },
      "execution_count": null,
      "outputs": [
        {
          "output_type": "execute_result",
          "data": {
            "text/plain": [
              "84.41955615616556"
            ]
          },
          "metadata": {},
          "execution_count": 28
        }
      ],
      "id": "_GSeY4YB9tJ8"
    },
    {
      "cell_type": "code",
      "source": [],
      "metadata": {
        "id": "aaKAyHDkCqpf"
      },
      "execution_count": null,
      "outputs": [],
      "id": "aaKAyHDkCqpf"
    },
    {
      "cell_type": "markdown",
      "source": [
        "# Exercise 1.1:\n",
        "\n",
        "Do the estimatsion procedure using `torch.nn.Linear(1,1, bias=True)`. Answer the following questions.\n",
        "\n",
        "i. Calculate $\\widehat{Y}$ when `lstat`s are given by 5, 10, 15, respectively.\n",
        "\n",
        "ii. Calculate $R^2$.\n",
        "\n",
        "iii. Calculate AIC."
      ],
      "metadata": {
        "id": "gadkCqnfTAqj"
      },
      "id": "gadkCqnfTAqj"
    },
    {
      "cell_type": "markdown",
      "source": [
        "i. Calculate $\\widehat{Y}$ when `lstat`s are given by 5, 10, 15, respectively."
      ],
      "metadata": {
        "id": "UT0r-X4AoRKK"
      },
      "id": "UT0r-X4AoRKK"
    },
    {
      "cell_type": "code",
      "source": [
        "import torch\n",
        "import torch.optim\n",
        "\n",
        "from torch.utils.data import Dataset, TensorDataset, DataLoader"
      ],
      "metadata": {
        "id": "AnO8qLUro_Ed"
      },
      "id": "AnO8qLUro_Ed",
      "execution_count": 3,
      "outputs": []
    },
    {
      "cell_type": "code",
      "source": [
        "# X의 데이터 타입 확인\n",
        "X[\"lstat\"].dtype"
      ],
      "metadata": {
        "colab": {
          "base_uri": "https://localhost:8080/"
        },
        "id": "NlDkT4ErqlYh",
        "outputId": "14999fa1-9c7b-49ee-ad45-35a69604c03b"
      },
      "id": "NlDkT4ErqlYh",
      "execution_count": null,
      "outputs": [
        {
          "output_type": "execute_result",
          "data": {
            "text/plain": [
              "dtype('float64')"
            ]
          },
          "metadata": {},
          "execution_count": 73
        }
      ]
    },
    {
      "cell_type": "code",
      "source": [
        "# y의 데이터 타입 확인\n",
        "y.dtype"
      ],
      "metadata": {
        "colab": {
          "base_uri": "https://localhost:8080/"
        },
        "id": "zvTgeXO5qnrr",
        "outputId": "24fa7726-8bcc-45d4-9522-c3566f266f17"
      },
      "id": "zvTgeXO5qnrr",
      "execution_count": null,
      "outputs": [
        {
          "output_type": "execute_result",
          "data": {
            "text/plain": [
              "dtype('float64')"
            ]
          },
          "metadata": {},
          "execution_count": 18
        }
      ]
    },
    {
      "cell_type": "markdown",
      "source": [
        "- 32비트 숫자와 64비트는 곱해지지 않기 때문에 dtype을 알맞게 바꿔줘야 한다.\n",
        "- 알맞은 연산을 위해서 올바르게 broacasting을 해줘야 한다. X와 Y 모두 [n,1] shape으로 만들어주자.\n",
        "- 사용할 model의 w shape이 [1,1]이기 때문에 X의 shape은 [n,1]이어야 한다."
      ],
      "metadata": {
        "id": "mUAZWm0Fr4Fv"
      },
      "id": "mUAZWm0Fr4Fv"
    },
    {
      "cell_type": "code",
      "source": [
        "# X(표준화됨),Y 데이터 정의 (X: myX, Y: myY)\n",
        "myX = torch.tensor(X[\"lstat\"], dtype=torch.float32).reshape(-1,1)\n",
        "myY = torch.tensor(y, dtype=torch.float32).reshape(-1,1)"
      ],
      "metadata": {
        "id": "Qw8SRE_5qp6o"
      },
      "id": "Qw8SRE_5qp6o",
      "execution_count": null,
      "outputs": []
    },
    {
      "cell_type": "code",
      "source": [
        "# X가 올바르게 정의되었는지 확인을 위해 5개만 확인\n",
        "myX[:5,]"
      ],
      "metadata": {
        "colab": {
          "base_uri": "https://localhost:8080/"
        },
        "id": "TUNcxzk1s8Nw",
        "outputId": "253de147-1d4c-4860-ff5f-cdab9b863905"
      },
      "id": "TUNcxzk1s8Nw",
      "execution_count": null,
      "outputs": [
        {
          "output_type": "execute_result",
          "data": {
            "text/plain": [
              "tensor([[-1.0756],\n",
              "        [-0.4924],\n",
              "        [-1.2087],\n",
              "        [-1.3615],\n",
              "        [-1.0265]])"
            ]
          },
          "metadata": {},
          "execution_count": 75
        }
      ]
    },
    {
      "cell_type": "code",
      "source": [
        "# Y가 올바르게 정의되었는지 확인을 위해 5개만 확인\n",
        "myY[:5,]"
      ],
      "metadata": {
        "colab": {
          "base_uri": "https://localhost:8080/"
        },
        "id": "UYz3-pDFs80H",
        "outputId": "af59f512-26ee-42f1-f219-4d651bc09281"
      },
      "id": "UYz3-pDFs80H",
      "execution_count": null,
      "outputs": [
        {
          "output_type": "execute_result",
          "data": {
            "text/plain": [
              "tensor([[24.0000],\n",
              "        [21.6000],\n",
              "        [34.7000],\n",
              "        [33.4000],\n",
              "        [36.2000]])"
            ]
          },
          "metadata": {},
          "execution_count": 76
        }
      ]
    },
    {
      "cell_type": "markdown",
      "source": [
        "- 배치 사이즈는 5로 해주었다."
      ],
      "metadata": {
        "id": "UmaJpkeRtqeY"
      },
      "id": "UmaJpkeRtqeY"
    },
    {
      "cell_type": "code",
      "source": [
        "# SGD를 위한 데이터 정의\n",
        "dataset = TensorDataset(myX, myY)\n",
        "trainloader = DataLoader(dataset=dataset, batch_size=5, shuffle=True)"
      ],
      "metadata": {
        "id": "BfmsQ-PIp2R9"
      },
      "id": "BfmsQ-PIp2R9",
      "execution_count": null,
      "outputs": []
    },
    {
      "cell_type": "code",
      "source": [
        "# 모델 정의\n",
        "model = torch.nn.Linear(1,1,bias=True)\n",
        "\n",
        "# loss function 정의\n",
        "def loss_ftn(yhat,y):\n",
        "  return torch.mean((yhat-y)**2)\n",
        "\n",
        "epochs = 100\n",
        "history = []\n",
        "\n",
        "# optimizer 정의 (weight, bias)\n",
        "my_optimizer = torch.optim.SGD(model.parameters(), lr = 0.01)\n",
        "\n",
        "# SGD\n",
        "for epoch in range(epochs):\n",
        "  LOSS_sum = 0\n",
        "  for xx, yy in trainloader:\n",
        "    yhat = model(xx)\n",
        "    loss = loss_ftn(yhat, yy)\n",
        "    LOSS_sum += loss * len(yy)\n",
        "    loss.backward()\n",
        "    my_optimizer.step()\n",
        "    my_optimizer.zero_grad()\n",
        "  history.append(LOSS_sum.data/len(myY))"
      ],
      "metadata": {
        "id": "6WjTbRmHoOW9"
      },
      "id": "6WjTbRmHoOW9",
      "execution_count": null,
      "outputs": []
    },
    {
      "cell_type": "code",
      "source": [
        "# loss\n",
        "import matplotlib.pyplot as plt\n",
        "plt.plot(history)"
      ],
      "metadata": {
        "colab": {
          "base_uri": "https://localhost:8080/",
          "height": 448
        },
        "id": "Je9PnYcYzaua",
        "outputId": "03023a8c-d007-4e21-8a1f-97bbd75ae4c2"
      },
      "id": "Je9PnYcYzaua",
      "execution_count": null,
      "outputs": [
        {
          "output_type": "execute_result",
          "data": {
            "text/plain": [
              "[<matplotlib.lines.Line2D at 0x7fbf618027d0>]"
            ]
          },
          "metadata": {},
          "execution_count": 79
        },
        {
          "output_type": "display_data",
          "data": {
            "text/plain": [
              "<Figure size 640x480 with 1 Axes>"
            ],
            "image/png": "[encoded data removed]"
          },
          "metadata": {}
        }
      ]
    },
    {
      "cell_type": "markdown",
      "source": [
        "- 정규화된 x를 사용하여 모델을 만들었기 때문에, yhat을 구할 때 x 역시 정규화 해주어야 한다.\n",
        "- 모델을 사용하여 yhat을 구하기 위해선 데이터 타입을 float32로 바꾸어야 한다."
      ],
      "metadata": {
        "id": "1x23vqAhEbSf"
      },
      "id": "1x23vqAhEbSf"
    },
    {
      "cell_type": "code",
      "source": [
        "# x 정규화\n",
        "x5 = torch.tensor([[(5-lstat_mean)/lstat_std]], dtype=torch.float32)\n",
        "x10 = torch.tensor([[(10-lstat_mean)/lstat_std]], dtype=torch.float32)\n",
        "x15 = torch.tensor([[(15-lstat_mean)/lstat_std]], dtype=torch.float32)\n",
        "\n",
        "# yhat\n",
        "print(model(x5).data) # x = 5일때\n",
        "print(model(x10).data) # x = 10일때\n",
        "print(model(x15).data) # x = 15일때"
      ],
      "metadata": {
        "colab": {
          "base_uri": "https://localhost:8080/"
        },
        "id": "P1ATiqxUD5-X",
        "outputId": "75b679dc-4c32-4b49-ae00-7f91a4f9f9c6"
      },
      "id": "P1ATiqxUD5-X",
      "execution_count": null,
      "outputs": [
        {
          "output_type": "stream",
          "name": "stdout",
          "text": [
            "tensor([[29.4326]])\n",
            "tensor([[24.8256]])\n",
            "tensor([[20.2185]])\n"
          ]
        }
      ]
    },
    {
      "cell_type": "markdown",
      "source": [
        "ii. Calculate $R^2$."
      ],
      "metadata": {
        "id": "0s5gxsIMzVES"
      },
      "id": "0s5gxsIMzVES"
    },
    {
      "cell_type": "code",
      "source": [
        "# R-squared 계산 함수 정의\n",
        "def R2(y, yhat):\n",
        "  SSE = torch.sum((y-yhat)**2)\n",
        "  SST = torch.sum((y-torch.mean(y))**2)\n",
        "  return 1 - SSE/SST"
      ],
      "metadata": {
        "id": "OEzN3JVCz8G0"
      },
      "id": "OEzN3JVCz8G0",
      "execution_count": null,
      "outputs": []
    },
    {
      "cell_type": "code",
      "source": [
        "# y: myY, yhat: model(myX)\n",
        "R2(myY, model(myX))"
      ],
      "metadata": {
        "colab": {
          "base_uri": "https://localhost:8080/"
        },
        "id": "Tn6ykI6J1O83",
        "outputId": "f2e64e8b-0406-400e-d120-bc5e13b26104"
      },
      "id": "Tn6ykI6J1O83",
      "execution_count": null,
      "outputs": [
        {
          "output_type": "execute_result",
          "data": {
            "text/plain": [
              "tensor(0.5436, grad_fn=<RsubBackward1>)"
            ]
          },
          "metadata": {},
          "execution_count": 33
        }
      ]
    },
    {
      "cell_type": "markdown",
      "source": [
        "iii. Calculate AIC."
      ],
      "metadata": {
        "id": "Ac80fXjH1zb1"
      },
      "id": "Ac80fXjH1zb1"
    },
    {
      "cell_type": "code",
      "source": [],
      "metadata": {
        "id": "jGKutsqG2WDe"
      },
      "id": "jGKutsqG2WDe",
      "execution_count": null,
      "outputs": []
    },
    {
      "cell_type": "markdown",
      "source": [
        "# Exercise 1.2:\n",
        "\n",
        "Do the estimatsion procedure using `torch.nn.Linear(2,1, bias=False)`.Answer the following questions.\n",
        "\n",
        "i. Calculate $\\widehat{Y}$ when `lstat`s are given by 5, 10, 15, respectively.\n",
        "\n",
        "ii. Calculate $R^2$.\n",
        "\n",
        "iii. Calculate AIC."
      ],
      "metadata": {
        "id": "g8c0bdHGTIej"
      },
      "id": "g8c0bdHGTIej"
    },
    {
      "cell_type": "markdown",
      "source": [
        "i. Calculate $\\widehat{Y}$ when `lstat`s are given by 5, 10, 15, respectively."
      ],
      "metadata": {
        "id": "hgtZe2_Y2vJq"
      },
      "id": "hgtZe2_Y2vJq"
    },
    {
      "cell_type": "markdown",
      "source": [
        "- model weight의 shape이 [2,1]이고 bias=False이므로 X의 shape은 [n,2]이어야 한다.\n",
        "- X의 구조는 1열은 전부 1로 구성되고, 2열에 데이터가 위치한다."
      ],
      "metadata": {
        "id": "mvCtM_As_7ba"
      },
      "id": "mvCtM_As_7ba"
    },
    {
      "cell_type": "code",
      "source": [
        "# 표준화된 X\n",
        "X"
      ],
      "metadata": {
        "colab": {
          "base_uri": "https://localhost:8080/",
          "height": 423
        },
        "id": "A067mUgQBEPL",
        "outputId": "ba9aafe3-bf08-4864-9ab3-12107d8bdeb3"
      },
      "id": "A067mUgQBEPL",
      "execution_count": null,
      "outputs": [
        {
          "output_type": "execute_result",
          "data": {
            "text/plain": [
              "     intercept     lstat\n",
              "0          1.0 -1.075562\n",
              "1          1.0 -0.492439\n",
              "2          1.0 -1.208727\n",
              "3          1.0 -1.361517\n",
              "4          1.0 -1.026501\n",
              "..         ...       ...\n",
              "501        1.0 -0.418147\n",
              "502        1.0 -0.500850\n",
              "503        1.0 -0.983048\n",
              "504        1.0 -0.865302\n",
              "505        1.0 -0.669058\n",
              "\n",
              "[506 rows x 2 columns]"
            ],
            "text/html": [
              "\n",
              "  <div id=\"df-a90ae106-6fce-416f-821b-d2fc85b65fd8\" class=\"colab-df-container\">\n",
              "    <div>\n",
              "<style scoped>\n",
              "    .dataframe tbody tr th:only-of-type {\n",
              "        vertical-align: middle;\n",
              "    }\n",
              "\n",
              "    .dataframe tbody tr th {\n",
              "        vertical-align: top;\n",
              "    }\n",
              "\n",
              "    .dataframe thead th {\n",
              "        text-align: right;\n",
              "    }\n",
              "</style>\n",
              "<table border=\"1\" class=\"dataframe\">\n",
              "  <thead>\n",
              "    <tr style=\"text-align: right;\">\n",
              "      <th></th>\n",
              "      <th>intercept</th>\n",
              "      <th>lstat</th>\n",
              "    </tr>\n",
              "  </thead>\n",
              "  <tbody>\n",
              "    <tr>\n",
              "      <th>0</th>\n",
              "      <td>1.0</td>\n",
              "      <td>-1.075562</td>\n",
              "    </tr>\n",
              "    <tr>\n",
              "      <th>1</th>\n",
              "      <td>1.0</td>\n",
              "      <td>-0.492439</td>\n",
              "    </tr>\n",
              "    <tr>\n",
              "      <th>2</th>\n",
              "      <td>1.0</td>\n",
              "      <td>-1.208727</td>\n",
              "    </tr>\n",
              "    <tr>\n",
              "      <th>3</th>\n",
              "      <td>1.0</td>\n",
              "      <td>-1.361517</td>\n",
              "    </tr>\n",
              "    <tr>\n",
              "      <th>4</th>\n",
              "      <td>1.0</td>\n",
              "      <td>-1.026501</td>\n",
              "    </tr>\n",
              "    <tr>\n",
              "      <th>...</th>\n",
              "      <td>...</td>\n",
              "      <td>...</td>\n",
              "    </tr>\n",
              "    <tr>\n",
              "      <th>501</th>\n",
              "      <td>1.0</td>\n",
              "      <td>-0.418147</td>\n",
              "    </tr>\n",
              "    <tr>\n",
              "      <th>502</th>\n",
              "      <td>1.0</td>\n",
              "      <td>-0.500850</td>\n",
              "    </tr>\n",
              "    <tr>\n",
              "      <th>503</th>\n",
              "      <td>1.0</td>\n",
              "      <td>-0.983048</td>\n",
              "    </tr>\n",
              "    <tr>\n",
              "      <th>504</th>\n",
              "      <td>1.0</td>\n",
              "      <td>-0.865302</td>\n",
              "    </tr>\n",
              "    <tr>\n",
              "      <th>505</th>\n",
              "      <td>1.0</td>\n",
              "      <td>-0.669058</td>\n",
              "    </tr>\n",
              "  </tbody>\n",
              "</table>\n",
              "<p>506 rows × 2 columns</p>\n",
              "</div>\n",
              "    <div class=\"colab-df-buttons\">\n",
              "\n",
              "  <div class=\"colab-df-container\">\n",
              "    <button class=\"colab-df-convert\" onclick=\"convertToInteractive('df-a90ae106-6fce-416f-821b-d2fc85b65fd8')\"\n",
              "            title=\"Convert this dataframe to an interactive table.\"\n",
              "            style=\"display:none;\">\n",
              "\n",
              "  <svg xmlns=\"http://www.w3.org/2000/svg\" height=\"24px\" viewBox=\"0 -960 960 960\">\n",
              "    <path d=\"M120-120v-720h720v720H120Zm60-500h600v-160H180v160Zm220 220h160v-160H400v160Zm0 220h160v-160H400v160ZM180-400h160v-160H180v160Zm440 0h160v-160H620v160ZM180-180h160v-160H180v160Zm440 0h160v-160H620v160Z\"/>\n",
              "  </svg>\n",
              "    </button>\n",
              "\n",
              "  <style>\n",
              "    .colab-df-container {\n",
              "      display:flex;\n",
              "      gap: 12px;\n",
              "    }\n",
              "\n",
              "    .colab-df-convert {\n",
              "      background-color: #E8F0FE;\n",
              "      border: none;\n",
              "      border-radius: 50%;\n",
              "      cursor: pointer;\n",
              "      display: none;\n",
              "      fill: #1967D2;\n",
              "      height: 32px;\n",
              "      padding: 0 0 0 0;\n",
              "      width: 32px;\n",
              "    }\n",
              "\n",
              "    .colab-df-convert:hover {\n",
              "      background-color: #E2EBFA;\n",
              "      box-shadow: 0px 1px 2px rgba(60, 64, 67, 0.3), 0px 1px 3px 1px rgba(60, 64, 67, 0.15);\n",
              "      fill: #174EA6;\n",
              "    }\n",
              "\n",
              "    .colab-df-buttons div {\n",
              "      margin-bottom: 4px;\n",
              "    }\n",
              "\n",
              "    [theme=dark] .colab-df-convert {\n",
              "      background-color: #3B4455;\n",
              "      fill: #D2E3FC;\n",
              "    }\n",
              "\n",
              "    [theme=dark] .colab-df-convert:hover {\n",
              "      background-color: #434B5C;\n",
              "      box-shadow: 0px 1px 3px 1px rgba(0, 0, 0, 0.15);\n",
              "      filter: drop-shadow(0px 1px 2px rgba(0, 0, 0, 0.3));\n",
              "      fill: #FFFFFF;\n",
              "    }\n",
              "  </style>\n",
              "\n",
              "    <script>\n",
              "      const buttonEl =\n",
              "        document.querySelector('#df-a90ae106-6fce-416f-821b-d2fc85b65fd8 button.colab-df-convert');\n",
              "      buttonEl.style.display =\n",
              "        google.colab.kernel.accessAllowed ? 'block' : 'none';\n",
              "\n",
              "      async function convertToInteractive(key) {\n",
              "        const element = document.querySelector('#df-a90ae106-6fce-416f-821b-d2fc85b65fd8');\n",
              "        const dataTable =\n",
              "          await google.colab.kernel.invokeFunction('convertToInteractive',\n",
              "                                                    [key], {});\n",
              "        if (!dataTable) return;\n",
              "\n",
              "        const docLinkHtml = 'Like what you see? Visit the ' +\n",
              "          '<a target=\"_blank\" href=https://colab.research.google.com/notebooks/data_table.ipynb>data table notebook</a>'\n",
              "          + ' to learn more about interactive tables.';\n",
              "        element.innerHTML = '';\n",
              "        dataTable['output_type'] = 'display_data';\n",
              "        await google.colab.output.renderOutput(dataTable, element);\n",
              "        const docLink = document.createElement('div');\n",
              "        docLink.innerHTML = docLinkHtml;\n",
              "        element.appendChild(docLink);\n",
              "      }\n",
              "    </script>\n",
              "  </div>\n",
              "\n",
              "\n",
              "<div id=\"df-27b40360-6a21-4ca0-a094-d1fdb32d9e75\">\n",
              "  <button class=\"colab-df-quickchart\" onclick=\"quickchart('df-27b40360-6a21-4ca0-a094-d1fdb32d9e75')\"\n",
              "            title=\"Suggest charts.\"\n",
              "            style=\"display:none;\">\n",
              "\n",
              "<svg xmlns=\"http://www.w3.org/2000/svg\" height=\"24px\"viewBox=\"0 0 24 24\"\n",
              "     width=\"24px\">\n",
              "    <g>\n",
              "        <path d=\"M19 3H5c-1.1 0-2 .9-2 2v14c0 1.1.9 2 2 2h14c1.1 0 2-.9 2-2V5c0-1.1-.9-2-2-2zM9 17H7v-7h2v7zm4 0h-2V7h2v10zm4 0h-2v-4h2v4z\"/>\n",
              "    </g>\n",
              "</svg>\n",
              "  </button>\n",
              "\n",
              "<style>\n",
              "  .colab-df-quickchart {\n",
              "      --bg-color: #E8F0FE;\n",
              "      --fill-color: #1967D2;\n",
              "      --hover-bg-color: #E2EBFA;\n",
              "      --hover-fill-color: #174EA6;\n",
              "      --disabled-fill-color: #AAA;\n",
              "      --disabled-bg-color: #DDD;\n",
              "  }\n",
              "\n",
              "  [theme=dark] .colab-df-quickchart {\n",
              "      --bg-color: #3B4455;\n",
              "      --fill-color: #D2E3FC;\n",
              "      --hover-bg-color: #434B5C;\n",
              "      --hover-fill-color: #FFFFFF;\n",
              "      --disabled-bg-color: #3B4455;\n",
              "      --disabled-fill-color: #666;\n",
              "  }\n",
              "\n",
              "  .colab-df-quickchart {\n",
              "    background-color: var(--bg-color);\n",
              "    border: none;\n",
              "    border-radius: 50%;\n",
              "    cursor: pointer;\n",
              "    display: none;\n",
              "    fill: var(--fill-color);\n",
              "    height: 32px;\n",
              "    padding: 0;\n",
              "    width: 32px;\n",
              "  }\n",
              "\n",
              "  .colab-df-quickchart:hover {\n",
              "    background-color: var(--hover-bg-color);\n",
              "    box-shadow: 0 1px 2px rgba(60, 64, 67, 0.3), 0 1px 3px 1px rgba(60, 64, 67, 0.15);\n",
              "    fill: var(--button-hover-fill-color);\n",
              "  }\n",
              "\n",
              "  .colab-df-quickchart-complete:disabled,\n",
              "  .colab-df-quickchart-complete:disabled:hover {\n",
              "    background-color: var(--disabled-bg-color);\n",
              "    fill: var(--disabled-fill-color);\n",
              "    box-shadow: none;\n",
              "  }\n",
              "\n",
              "  .colab-df-spinner {\n",
              "    border: 2px solid var(--fill-color);\n",
              "    border-color: transparent;\n",
              "    border-bottom-color: var(--fill-color);\n",
              "    animation:\n",
              "      spin 1s steps(1) infinite;\n",
              "  }\n",
              "\n",
              "  @keyframes spin {\n",
              "    0% {\n",
              "      border-color: transparent;\n",
              "      border-bottom-color: var(--fill-color);\n",
              "      border-left-color: var(--fill-color);\n",
              "    }\n",
              "    20% {\n",
              "      border-color: transparent;\n",
              "      border-left-color: var(--fill-color);\n",
              "      border-top-color: var(--fill-color);\n",
              "    }\n",
              "    30% {\n",
              "      border-color: transparent;\n",
              "      border-left-color: var(--fill-color);\n",
              "      border-top-color: var(--fill-color);\n",
              "      border-right-color: var(--fill-color);\n",
              "    }\n",
              "    40% {\n",
              "      border-color: transparent;\n",
              "      border-right-color: var(--fill-color);\n",
              "      border-top-color: var(--fill-color);\n",
              "    }\n",
              "    60% {\n",
              "      border-color: transparent;\n",
              "      border-right-color: var(--fill-color);\n",
              "    }\n",
              "    80% {\n",
              "      border-color: transparent;\n",
              "      border-right-color: var(--fill-color);\n",
              "      border-bottom-color: var(--fill-color);\n",
              "    }\n",
              "    90% {\n",
              "      border-color: transparent;\n",
              "      border-bottom-color: var(--fill-color);\n",
              "    }\n",
              "  }\n",
              "</style>\n",
              "\n",
              "  <script>\n",
              "    async function quickchart(key) {\n",
              "      const quickchartButtonEl =\n",
              "        document.querySelector('#' + key + ' button');\n",
              "      quickchartButtonEl.disabled = true;  // To prevent multiple clicks.\n",
              "      quickchartButtonEl.classList.add('colab-df-spinner');\n",
              "      try {\n",
              "        const charts = await google.colab.kernel.invokeFunction(\n",
              "            'suggestCharts', [key], {});\n",
              "      } catch (error) {\n",
              "        console.error('Error during call to suggestCharts:', error);\n",
              "      }\n",
              "      quickchartButtonEl.classList.remove('colab-df-spinner');\n",
              "      quickchartButtonEl.classList.add('colab-df-quickchart-complete');\n",
              "    }\n",
              "    (() => {\n",
              "      let quickchartButtonEl =\n",
              "        document.querySelector('#df-27b40360-6a21-4ca0-a094-d1fdb32d9e75 button');\n",
              "      quickchartButtonEl.style.display =\n",
              "        google.colab.kernel.accessAllowed ? 'block' : 'none';\n",
              "    })();\n",
              "  </script>\n",
              "</div>\n",
              "    </div>\n",
              "  </div>\n"
            ]
          },
          "metadata": {},
          "execution_count": 80
        }
      ]
    },
    {
      "cell_type": "code",
      "source": [
        "# 데이터 타입 변경 (float32로)\n",
        "myX = torch.tensor(X.values, dtype=torch.float32)\n",
        "myY = torch.tensor(y, dtype=torch.float32).reshape(-1,1) # Y shape [n,1]로"
      ],
      "metadata": {
        "id": "tylkefXtBpwY"
      },
      "id": "tylkefXtBpwY",
      "execution_count": null,
      "outputs": []
    },
    {
      "cell_type": "code",
      "source": [
        "# 데이터 일부분 확인\n",
        "myX[:5,]"
      ],
      "metadata": {
        "colab": {
          "base_uri": "https://localhost:8080/"
        },
        "id": "GMKfVgViCGXL",
        "outputId": "e129ce70-ce3b-401d-aa38-642eee8f7ca6"
      },
      "id": "GMKfVgViCGXL",
      "execution_count": null,
      "outputs": [
        {
          "output_type": "execute_result",
          "data": {
            "text/plain": [
              "tensor([[ 1.0000, -1.0756],\n",
              "        [ 1.0000, -0.4924],\n",
              "        [ 1.0000, -1.2087],\n",
              "        [ 1.0000, -1.3615],\n",
              "        [ 1.0000, -1.0265]])"
            ]
          },
          "metadata": {},
          "execution_count": 82
        }
      ]
    },
    {
      "cell_type": "code",
      "source": [
        "# 데이터 일부분 확인\n",
        "myY[:5,]"
      ],
      "metadata": {
        "colab": {
          "base_uri": "https://localhost:8080/"
        },
        "id": "B5nWzD4uCS38",
        "outputId": "17f4853e-e9e8-4ad0-f6f4-a00575e7b8f9"
      },
      "id": "B5nWzD4uCS38",
      "execution_count": null,
      "outputs": [
        {
          "output_type": "execute_result",
          "data": {
            "text/plain": [
              "tensor([[24.0000],\n",
              "        [21.6000],\n",
              "        [34.7000],\n",
              "        [33.4000],\n",
              "        [36.2000]])"
            ]
          },
          "metadata": {},
          "execution_count": 57
        }
      ]
    },
    {
      "cell_type": "code",
      "source": [
        "# SGD를 위한 데이터 정의\n",
        "dataset = TensorDataset(myX,myY)\n",
        "trainloader = DataLoader(dataset=dataset, batch_size=5, shuffle=True)"
      ],
      "metadata": {
        "id": "CQNWRcqLBRjE"
      },
      "id": "CQNWRcqLBRjE",
      "execution_count": null,
      "outputs": []
    },
    {
      "cell_type": "code",
      "source": [
        "# SGD\n",
        "model = torch.nn.Linear(2,1, bias=False)\n",
        "\n",
        "def loss_ftn(yhat,y):\n",
        "  return torch.mean((yhat-y)**2)\n",
        "\n",
        "epochs = 100\n",
        "history = []\n",
        "\n",
        "my_optimizer = torch.optim.SGD(model.parameters(), lr = 0.01)\n",
        "\n",
        "for epoch in range(epochs):\n",
        "  LOSS_sum = 0\n",
        "  for xx, yy in trainloader:\n",
        "    yhat = model(xx)\n",
        "    loss = loss_ftn(yhat,yy)\n",
        "    LOSS_sum += loss * len(yy)\n",
        "    loss.backward()\n",
        "    my_optimizer.step()\n",
        "    my_optimizer.zero_grad()\n",
        "  history.append(LOSS_sum.data/len(myY))"
      ],
      "metadata": {
        "id": "26q_AQgMoO0N"
      },
      "id": "26q_AQgMoO0N",
      "execution_count": null,
      "outputs": []
    },
    {
      "cell_type": "code",
      "source": [
        "import matplotlib.pyplot as plt\n",
        "plt.plot(history)"
      ],
      "metadata": {
        "colab": {
          "base_uri": "https://localhost:8080/",
          "height": 448
        },
        "id": "37BOqyKHDj01",
        "outputId": "7e1d5f07-1c90-434b-e55c-a56215e68b88"
      },
      "id": "37BOqyKHDj01",
      "execution_count": null,
      "outputs": [
        {
          "output_type": "execute_result",
          "data": {
            "text/plain": [
              "[<matplotlib.lines.Line2D at 0x794f38fef640>]"
            ]
          },
          "metadata": {},
          "execution_count": 60
        },
        {
          "output_type": "display_data",
          "data": {
            "text/plain": [
              "<Figure size 640x480 with 1 Axes>"
            ],
            "image/png": "[encoded data removed]"
          },
          "metadata": {}
        }
      ]
    },
    {
      "cell_type": "markdown",
      "source": [
        "- x의 shape은 [1,2] 이어야 한다. 1열에는 1이 위치한다."
      ],
      "metadata": {
        "id": "yzlfPv0PF1jj"
      },
      "id": "yzlfPv0PF1jj"
    },
    {
      "cell_type": "code",
      "source": [
        "# x 정규화\n",
        "x5 = torch.tensor([[1, (5-lstat_mean)/lstat_std]], dtype=torch.float32)\n",
        "x10 = torch.tensor([[1, (10-lstat_mean)/lstat_std]], dtype=torch.float32)\n",
        "x15 = torch.tensor([[1, (15-lstat_mean)/lstat_std]], dtype=torch.float32)\n",
        "\n",
        "# yhat\n",
        "print(model(x5).data) # x = 5일때\n",
        "print(model(x10).data) # x = 10일때\n",
        "print(model(x15).data) # x = 15일때"
      ],
      "metadata": {
        "colab": {
          "base_uri": "https://localhost:8080/"
        },
        "id": "fA6ucfeCFoAw",
        "outputId": "657ae16f-6a98-496b-c5cf-ee0e61cc85be"
      },
      "id": "fA6ucfeCFoAw",
      "execution_count": null,
      "outputs": [
        {
          "output_type": "stream",
          "name": "stdout",
          "text": [
            "tensor([[29.0230]])\n",
            "tensor([[24.8830]])\n",
            "tensor([[20.7431]])\n"
          ]
        }
      ]
    },
    {
      "cell_type": "markdown",
      "source": [
        "ii. Calculate $R^2$."
      ],
      "metadata": {
        "id": "50N9fMaxGJuv"
      },
      "id": "50N9fMaxGJuv"
    },
    {
      "cell_type": "code",
      "source": [
        "# R-squared 계산 함수 정의\n",
        "def R2(y, yhat):\n",
        "  SSE = torch.sum((y-yhat)**2)\n",
        "  SST = torch.sum((y-torch.mean(y))**2)\n",
        "  return 1 - SSE/SST"
      ],
      "metadata": {
        "id": "bQSr3iOOGTMi"
      },
      "execution_count": null,
      "outputs": [],
      "id": "bQSr3iOOGTMi"
    },
    {
      "cell_type": "code",
      "source": [
        "# y: myY, yhat: model(myX)\n",
        "R2(myY, model(myX))"
      ],
      "metadata": {
        "colab": {
          "base_uri": "https://localhost:8080/"
        },
        "outputId": "eda35e21-116a-4630-eac5-6a687f9c7343",
        "id": "YzF1M4r4GTMi"
      },
      "execution_count": null,
      "outputs": [
        {
          "output_type": "execute_result",
          "data": {
            "text/plain": [
              "tensor(0.5349, grad_fn=<RsubBackward1>)"
            ]
          },
          "metadata": {},
          "execution_count": 65
        }
      ],
      "id": "YzF1M4r4GTMi"
    },
    {
      "cell_type": "markdown",
      "source": [
        "iii. Calculate AIC."
      ],
      "metadata": {
        "id": "lZ_aNyGUGa_j"
      },
      "id": "lZ_aNyGUGa_j"
    },
    {
      "cell_type": "code",
      "source": [],
      "metadata": {
        "id": "-XW-roLyGbge"
      },
      "id": "-XW-roLyGbge",
      "execution_count": null,
      "outputs": []
    },
    {
      "cell_type": "markdown",
      "source": [
        "# Exercise 1.3:\n",
        "\n",
        "Do the estimatsion procedure using `torch.nn.Linear(1,1, bias=False)` and an additional bias parameter defined by `torch.tensor`. Model itself should be the same as in Exercise 1.1 and 1.2. (Caution: However, the estimated parameter(s) should not be the exactly the same due to the randomness in the parameter initialization and batch learning.)\n",
        "\n",
        "Answer the following questions.\n",
        "\n",
        "i. Calculate $\\widehat{Y}$ when `lstat`s are given by 5, 10, 15, respectively.\n",
        "\n",
        "ii. Calculate $R^2$.\n",
        "\n",
        "iii. Calculate AIC."
      ],
      "metadata": {
        "id": "O7IoEY3noECh"
      },
      "id": "O7IoEY3noECh"
    },
    {
      "cell_type": "markdown",
      "source": [
        "i. Calculate $\\widehat{Y}$ when `lstat`s are given by 5, 10, 15, respectively."
      ],
      "metadata": {
        "id": "Q4VF1DsJGd9O"
      },
      "id": "Q4VF1DsJGd9O"
    },
    {
      "cell_type": "markdown",
      "source": [
        "- X의 shape은 [n,1]이어야 한다."
      ],
      "metadata": {
        "id": "4kjz3EAUHDTZ"
      },
      "id": "4kjz3EAUHDTZ"
    },
    {
      "cell_type": "code",
      "source": [
        "# 데이터 타입 변경 (float32로)\n",
        "myX = torch.tensor(X[\"lstat\"], dtype=torch.float32).reshape(-1,1) # X shape [n,1]\n",
        "myY = torch.tensor(y, dtype=torch.float32).reshape(-1,1) # Y shape [n,1]"
      ],
      "metadata": {
        "id": "MFHJHSwhG_4v"
      },
      "id": "MFHJHSwhG_4v",
      "execution_count": null,
      "outputs": []
    },
    {
      "cell_type": "code",
      "source": [
        "# X 데이터 일부분 확인\n",
        "myX[:5,]"
      ],
      "metadata": {
        "colab": {
          "base_uri": "https://localhost:8080/"
        },
        "id": "1C3JBVEkHaCk",
        "outputId": "09641cb4-fc8a-4916-e46a-476b372840c7"
      },
      "id": "1C3JBVEkHaCk",
      "execution_count": null,
      "outputs": [
        {
          "output_type": "execute_result",
          "data": {
            "text/plain": [
              "tensor([[-1.0756],\n",
              "        [-0.4924],\n",
              "        [-1.2087],\n",
              "        [-1.3615],\n",
              "        [-1.0265]])"
            ]
          },
          "metadata": {},
          "execution_count": 68
        }
      ]
    },
    {
      "cell_type": "code",
      "source": [
        "# Y 데이터 일부분 확인\n",
        "myY[:5,]"
      ],
      "metadata": {
        "colab": {
          "base_uri": "https://localhost:8080/"
        },
        "id": "qs912ZUTHbwp",
        "outputId": "d7961c39-32e8-49bb-d5af-c149a5fe3aef"
      },
      "id": "qs912ZUTHbwp",
      "execution_count": null,
      "outputs": [
        {
          "output_type": "execute_result",
          "data": {
            "text/plain": [
              "tensor([[24.0000],\n",
              "        [21.6000],\n",
              "        [34.7000],\n",
              "        [33.4000],\n",
              "        [36.2000]])"
            ]
          },
          "metadata": {},
          "execution_count": 70
        }
      ]
    },
    {
      "cell_type": "code",
      "source": [
        "# SGD를 위한 데이터 정의\n",
        "dataset = TensorDataset(myX,myY)\n",
        "trainloader = DataLoader(dataset=dataset, batch_size=5, shuffle=True)"
      ],
      "metadata": {
        "id": "JWwFbz7JG9uD"
      },
      "id": "JWwFbz7JG9uD",
      "execution_count": null,
      "outputs": []
    },
    {
      "cell_type": "code",
      "source": [
        "# SGD\n",
        "model = torch.nn.Linear(1,1, bias=False)\n",
        "bias = torch.tensor([torch.randn([1])], requires_grad=True)\n",
        "\n",
        "def loss_ftn(yhat,y):\n",
        "  return torch.mean((yhat-y)**2)\n",
        "\n",
        "epochs = 100\n",
        "history = []\n",
        "\n",
        "# 리스트 + 리스트를 하면 두 개의 리스트가 붙여진다.\n",
        "my_optimizer = torch.optim.SGD(list(model.parameters()) + [bias], lr = 0.01)\n",
        "\n",
        "for epoch in range(epochs):\n",
        "  LOSS_sum = 0\n",
        "  for xx, yy in trainloader:\n",
        "    yhat = model(xx) + bias # bias를 더해주어야 한다.\n",
        "    loss = loss_ftn(yhat,yy)\n",
        "    LOSS_sum += loss * len(yy)\n",
        "    loss.backward()\n",
        "    my_optimizer.step()\n",
        "    my_optimizer.zero_grad()\n",
        "  history.append(LOSS_sum.data/len(myY))"
      ],
      "metadata": {
        "id": "9znZ4wM-oPQL"
      },
      "id": "9znZ4wM-oPQL",
      "execution_count": null,
      "outputs": []
    },
    {
      "cell_type": "code",
      "source": [
        "# loss graph\n",
        "plt.plot(history)"
      ],
      "metadata": {
        "colab": {
          "base_uri": "https://localhost:8080/",
          "height": 448
        },
        "id": "VX__kAciH0_Q",
        "outputId": "6d0c2bed-e638-4279-c985-00005fa68133"
      },
      "id": "VX__kAciH0_Q",
      "execution_count": null,
      "outputs": [
        {
          "output_type": "execute_result",
          "data": {
            "text/plain": [
              "[<matplotlib.lines.Line2D at 0x794f38fd18a0>]"
            ]
          },
          "metadata": {},
          "execution_count": 73
        },
        {
          "output_type": "display_data",
          "data": {
            "text/plain": [
              "<Figure size 640x480 with 1 Axes>"
            ],
            "image/png": "[encoded data removed]"
          },
          "metadata": {}
        }
      ]
    },
    {
      "cell_type": "code",
      "source": [
        "# x 정규화\n",
        "x5 = torch.tensor([[(5-lstat_mean)/lstat_std]], dtype=torch.float32)\n",
        "x10 = torch.tensor([[(10-lstat_mean)/lstat_std]], dtype=torch.float32)\n",
        "x15 = torch.tensor([[(15-lstat_mean)/lstat_std]], dtype=torch.float32)\n",
        "\n",
        "# yhat\n",
        "print(model(x5).data + bias.data) # x = 5일때\n",
        "print(model(x10).data + bias.data) # x = 10일때\n",
        "print(model(x15).data+ bias.data) # x = 15일때"
      ],
      "metadata": {
        "colab": {
          "base_uri": "https://localhost:8080/"
        },
        "id": "lNIlEmVaH8a-",
        "outputId": "0735c752-a9ac-4d4a-f266-7d0d375a731a"
      },
      "id": "lNIlEmVaH8a-",
      "execution_count": null,
      "outputs": [
        {
          "output_type": "stream",
          "name": "stdout",
          "text": [
            "tensor([[29.8865]])\n",
            "tensor([[25.0798]])\n",
            "tensor([[20.2731]])\n"
          ]
        }
      ]
    },
    {
      "cell_type": "markdown",
      "source": [
        "ii. Calculate $R^2$."
      ],
      "metadata": {
        "id": "MG8NKXTSIPpB"
      },
      "id": "MG8NKXTSIPpB"
    },
    {
      "cell_type": "code",
      "source": [
        "# R-squared 계산 함수 정의\n",
        "def R2(y, yhat):\n",
        "  SSE = torch.sum((y-yhat)**2)\n",
        "  SST = torch.sum((y-torch.mean(y))**2)\n",
        "  return 1 - SSE/SST"
      ],
      "metadata": {
        "id": "j9mVKuJwIXtK"
      },
      "execution_count": null,
      "outputs": [],
      "id": "j9mVKuJwIXtK"
    },
    {
      "cell_type": "code",
      "source": [
        "# y: myY, yhat: model(myX) + bias\n",
        "R2(myY, model(myX) + bias)"
      ],
      "metadata": {
        "colab": {
          "base_uri": "https://localhost:8080/"
        },
        "outputId": "13d4f75d-2059-4e51-a012-be91e4d87394",
        "id": "7oivBPINIXtL"
      },
      "execution_count": null,
      "outputs": [
        {
          "output_type": "execute_result",
          "data": {
            "text/plain": [
              "tensor(0.5441, grad_fn=<RsubBackward1>)"
            ]
          },
          "metadata": {},
          "execution_count": 78
        }
      ],
      "id": "7oivBPINIXtL"
    },
    {
      "cell_type": "markdown",
      "source": [
        "iii. Calculate AIC."
      ],
      "metadata": {
        "id": "47uxcWnbIkZ4"
      },
      "id": "47uxcWnbIkZ4"
    },
    {
      "cell_type": "code",
      "source": [],
      "metadata": {
        "id": "jDZZgvyeIkta"
      },
      "id": "jDZZgvyeIkta",
      "execution_count": null,
      "outputs": []
    },
    {
      "cell_type": "markdown",
      "source": [
        "#2. Multiple regression"
      ],
      "metadata": {
        "id": "9z_bAJHu-cqF"
      },
      "id": "9z_bAJHu-cqF"
    },
    {
      "cell_type": "code",
      "source": [],
      "metadata": {
        "id": "KAzhUYeGSmwx"
      },
      "id": "KAzhUYeGSmwx",
      "execution_count": null,
      "outputs": []
    },
    {
      "cell_type": "code",
      "source": [
        "Boston = load_data(\"Boston\")\n",
        "Boston.columns"
      ],
      "metadata": {
        "colab": {
          "base_uri": "https://localhost:8080/"
        },
        "outputId": "aebcee1f-c4f4-455c-c487-763c73f49991",
        "id": "3UMSfTwDSm5h"
      },
      "execution_count": null,
      "outputs": [
        {
          "output_type": "execute_result",
          "data": {
            "text/plain": [
              "Index(['crim', 'zn', 'indus', 'chas', 'nox', 'rm', 'age', 'dis', 'rad', 'tax',\n",
              "       'ptratio', 'lstat', 'medv'],\n",
              "      dtype='object')"
            ]
          },
          "metadata": {},
          "execution_count": 127
        }
      ],
      "id": "3UMSfTwDSm5h"
    },
    {
      "cell_type": "code",
      "source": [
        "design = MS(['lstat', \"age\"])\n",
        "X = design.fit_transform(Boston)\n",
        "y = Boston['medv']\n",
        "X"
      ],
      "metadata": {
        "colab": {
          "base_uri": "https://localhost:8080/",
          "height": 423
        },
        "outputId": "80ad14ef-da95-44ed-91e9-e44ad19d4579",
        "id": "trKcps8tSm5i"
      },
      "execution_count": null,
      "outputs": [
        {
          "output_type": "execute_result",
          "data": {
            "text/plain": [
              "     intercept  lstat   age\n",
              "0          1.0   4.98  65.2\n",
              "1          1.0   9.14  78.9\n",
              "2          1.0   4.03  61.1\n",
              "3          1.0   2.94  45.8\n",
              "4          1.0   5.33  54.2\n",
              "..         ...    ...   ...\n",
              "501        1.0   9.67  69.1\n",
              "502        1.0   9.08  76.7\n",
              "503        1.0   5.64  91.0\n",
              "504        1.0   6.48  89.3\n",
              "505        1.0   7.88  80.8\n",
              "\n",
              "[506 rows x 3 columns]"
            ],
            "text/html": [
              "\n",
              "  <div id=\"df-6ce413a0-eccb-4dc1-a955-1de824d5f573\" class=\"colab-df-container\">\n",
              "    <div>\n",
              "<style scoped>\n",
              "    .dataframe tbody tr th:only-of-type {\n",
              "        vertical-align: middle;\n",
              "    }\n",
              "\n",
              "    .dataframe tbody tr th {\n",
              "        vertical-align: top;\n",
              "    }\n",
              "\n",
              "    .dataframe thead th {\n",
              "        text-align: right;\n",
              "    }\n",
              "</style>\n",
              "<table border=\"1\" class=\"dataframe\">\n",
              "  <thead>\n",
              "    <tr style=\"text-align: right;\">\n",
              "      <th></th>\n",
              "      <th>intercept</th>\n",
              "      <th>lstat</th>\n",
              "      <th>age</th>\n",
              "    </tr>\n",
              "  </thead>\n",
              "  <tbody>\n",
              "    <tr>\n",
              "      <th>0</th>\n",
              "      <td>1.0</td>\n",
              "      <td>4.98</td>\n",
              "      <td>65.2</td>\n",
              "    </tr>\n",
              "    <tr>\n",
              "      <th>1</th>\n",
              "      <td>1.0</td>\n",
              "      <td>9.14</td>\n",
              "      <td>78.9</td>\n",
              "    </tr>\n",
              "    <tr>\n",
              "      <th>2</th>\n",
              "      <td>1.0</td>\n",
              "      <td>4.03</td>\n",
              "      <td>61.1</td>\n",
              "    </tr>\n",
              "    <tr>\n",
              "      <th>3</th>\n",
              "      <td>1.0</td>\n",
              "      <td>2.94</td>\n",
              "      <td>45.8</td>\n",
              "    </tr>\n",
              "    <tr>\n",
              "      <th>4</th>\n",
              "      <td>1.0</td>\n",
              "      <td>5.33</td>\n",
              "      <td>54.2</td>\n",
              "    </tr>\n",
              "    <tr>\n",
              "      <th>...</th>\n",
              "      <td>...</td>\n",
              "      <td>...</td>\n",
              "      <td>...</td>\n",
              "    </tr>\n",
              "    <tr>\n",
              "      <th>501</th>\n",
              "      <td>1.0</td>\n",
              "      <td>9.67</td>\n",
              "      <td>69.1</td>\n",
              "    </tr>\n",
              "    <tr>\n",
              "      <th>502</th>\n",
              "      <td>1.0</td>\n",
              "      <td>9.08</td>\n",
              "      <td>76.7</td>\n",
              "    </tr>\n",
              "    <tr>\n",
              "      <th>503</th>\n",
              "      <td>1.0</td>\n",
              "      <td>5.64</td>\n",
              "      <td>91.0</td>\n",
              "    </tr>\n",
              "    <tr>\n",
              "      <th>504</th>\n",
              "      <td>1.0</td>\n",
              "      <td>6.48</td>\n",
              "      <td>89.3</td>\n",
              "    </tr>\n",
              "    <tr>\n",
              "      <th>505</th>\n",
              "      <td>1.0</td>\n",
              "      <td>7.88</td>\n",
              "      <td>80.8</td>\n",
              "    </tr>\n",
              "  </tbody>\n",
              "</table>\n",
              "<p>506 rows × 3 columns</p>\n",
              "</div>\n",
              "    <div class=\"colab-df-buttons\">\n",
              "\n",
              "  <div class=\"colab-df-container\">\n",
              "    <button class=\"colab-df-convert\" onclick=\"convertToInteractive('df-6ce413a0-eccb-4dc1-a955-1de824d5f573')\"\n",
              "            title=\"Convert this dataframe to an interactive table.\"\n",
              "            style=\"display:none;\">\n",
              "\n",
              "  <svg xmlns=\"http://www.w3.org/2000/svg\" height=\"24px\" viewBox=\"0 -960 960 960\">\n",
              "    <path d=\"M120-120v-720h720v720H120Zm60-500h600v-160H180v160Zm220 220h160v-160H400v160Zm0 220h160v-160H400v160ZM180-400h160v-160H180v160Zm440 0h160v-160H620v160ZM180-180h160v-160H180v160Zm440 0h160v-160H620v160Z\"/>\n",
              "  </svg>\n",
              "    </button>\n",
              "\n",
              "  <style>\n",
              "    .colab-df-container {\n",
              "      display:flex;\n",
              "      gap: 12px;\n",
              "    }\n",
              "\n",
              "    .colab-df-convert {\n",
              "      background-color: #E8F0FE;\n",
              "      border: none;\n",
              "      border-radius: 50%;\n",
              "      cursor: pointer;\n",
              "      display: none;\n",
              "      fill: #1967D2;\n",
              "      height: 32px;\n",
              "      padding: 0 0 0 0;\n",
              "      width: 32px;\n",
              "    }\n",
              "\n",
              "    .colab-df-convert:hover {\n",
              "      background-color: #E2EBFA;\n",
              "      box-shadow: 0px 1px 2px rgba(60, 64, 67, 0.3), 0px 1px 3px 1px rgba(60, 64, 67, 0.15);\n",
              "      fill: #174EA6;\n",
              "    }\n",
              "\n",
              "    .colab-df-buttons div {\n",
              "      margin-bottom: 4px;\n",
              "    }\n",
              "\n",
              "    [theme=dark] .colab-df-convert {\n",
              "      background-color: #3B4455;\n",
              "      fill: #D2E3FC;\n",
              "    }\n",
              "\n",
              "    [theme=dark] .colab-df-convert:hover {\n",
              "      background-color: #434B5C;\n",
              "      box-shadow: 0px 1px 3px 1px rgba(0, 0, 0, 0.15);\n",
              "      filter: drop-shadow(0px 1px 2px rgba(0, 0, 0, 0.3));\n",
              "      fill: #FFFFFF;\n",
              "    }\n",
              "  </style>\n",
              "\n",
              "    <script>\n",
              "      const buttonEl =\n",
              "        document.querySelector('#df-6ce413a0-eccb-4dc1-a955-1de824d5f573 button.colab-df-convert');\n",
              "      buttonEl.style.display =\n",
              "        google.colab.kernel.accessAllowed ? 'block' : 'none';\n",
              "\n",
              "      async function convertToInteractive(key) {\n",
              "        const element = document.querySelector('#df-6ce413a0-eccb-4dc1-a955-1de824d5f573');\n",
              "        const dataTable =\n",
              "          await google.colab.kernel.invokeFunction('convertToInteractive',\n",
              "                                                    [key], {});\n",
              "        if (!dataTable) return;\n",
              "\n",
              "        const docLinkHtml = 'Like what you see? Visit the ' +\n",
              "          '<a target=\"_blank\" href=https://colab.research.google.com/notebooks/data_table.ipynb>data table notebook</a>'\n",
              "          + ' to learn more about interactive tables.';\n",
              "        element.innerHTML = '';\n",
              "        dataTable['output_type'] = 'display_data';\n",
              "        await google.colab.output.renderOutput(dataTable, element);\n",
              "        const docLink = document.createElement('div');\n",
              "        docLink.innerHTML = docLinkHtml;\n",
              "        element.appendChild(docLink);\n",
              "      }\n",
              "    </script>\n",
              "  </div>\n",
              "\n",
              "\n",
              "<div id=\"df-b32a6ace-da95-4ec0-ad7d-c58c29e2d8aa\">\n",
              "  <button class=\"colab-df-quickchart\" onclick=\"quickchart('df-b32a6ace-da95-4ec0-ad7d-c58c29e2d8aa')\"\n",
              "            title=\"Suggest charts.\"\n",
              "            style=\"display:none;\">\n",
              "\n",
              "<svg xmlns=\"http://www.w3.org/2000/svg\" height=\"24px\"viewBox=\"0 0 24 24\"\n",
              "     width=\"24px\">\n",
              "    <g>\n",
              "        <path d=\"M19 3H5c-1.1 0-2 .9-2 2v14c0 1.1.9 2 2 2h14c1.1 0 2-.9 2-2V5c0-1.1-.9-2-2-2zM9 17H7v-7h2v7zm4 0h-2V7h2v10zm4 0h-2v-4h2v4z\"/>\n",
              "    </g>\n",
              "</svg>\n",
              "  </button>\n",
              "\n",
              "<style>\n",
              "  .colab-df-quickchart {\n",
              "      --bg-color: #E8F0FE;\n",
              "      --fill-color: #1967D2;\n",
              "      --hover-bg-color: #E2EBFA;\n",
              "      --hover-fill-color: #174EA6;\n",
              "      --disabled-fill-color: #AAA;\n",
              "      --disabled-bg-color: #DDD;\n",
              "  }\n",
              "\n",
              "  [theme=dark] .colab-df-quickchart {\n",
              "      --bg-color: #3B4455;\n",
              "      --fill-color: #D2E3FC;\n",
              "      --hover-bg-color: #434B5C;\n",
              "      --hover-fill-color: #FFFFFF;\n",
              "      --disabled-bg-color: #3B4455;\n",
              "      --disabled-fill-color: #666;\n",
              "  }\n",
              "\n",
              "  .colab-df-quickchart {\n",
              "    background-color: var(--bg-color);\n",
              "    border: none;\n",
              "    border-radius: 50%;\n",
              "    cursor: pointer;\n",
              "    display: none;\n",
              "    fill: var(--fill-color);\n",
              "    height: 32px;\n",
              "    padding: 0;\n",
              "    width: 32px;\n",
              "  }\n",
              "\n",
              "  .colab-df-quickchart:hover {\n",
              "    background-color: var(--hover-bg-color);\n",
              "    box-shadow: 0 1px 2px rgba(60, 64, 67, 0.3), 0 1px 3px 1px rgba(60, 64, 67, 0.15);\n",
              "    fill: var(--button-hover-fill-color);\n",
              "  }\n",
              "\n",
              "  .colab-df-quickchart-complete:disabled,\n",
              "  .colab-df-quickchart-complete:disabled:hover {\n",
              "    background-color: var(--disabled-bg-color);\n",
              "    fill: var(--disabled-fill-color);\n",
              "    box-shadow: none;\n",
              "  }\n",
              "\n",
              "  .colab-df-spinner {\n",
              "    border: 2px solid var(--fill-color);\n",
              "    border-color: transparent;\n",
              "    border-bottom-color: var(--fill-color);\n",
              "    animation:\n",
              "      spin 1s steps(1) infinite;\n",
              "  }\n",
              "\n",
              "  @keyframes spin {\n",
              "    0% {\n",
              "      border-color: transparent;\n",
              "      border-bottom-color: var(--fill-color);\n",
              "      border-left-color: var(--fill-color);\n",
              "    }\n",
              "    20% {\n",
              "      border-color: transparent;\n",
              "      border-left-color: var(--fill-color);\n",
              "      border-top-color: var(--fill-color);\n",
              "    }\n",
              "    30% {\n",
              "      border-color: transparent;\n",
              "      border-left-color: var(--fill-color);\n",
              "      border-top-color: var(--fill-color);\n",
              "      border-right-color: var(--fill-color);\n",
              "    }\n",
              "    40% {\n",
              "      border-color: transparent;\n",
              "      border-right-color: var(--fill-color);\n",
              "      border-top-color: var(--fill-color);\n",
              "    }\n",
              "    60% {\n",
              "      border-color: transparent;\n",
              "      border-right-color: var(--fill-color);\n",
              "    }\n",
              "    80% {\n",
              "      border-color: transparent;\n",
              "      border-right-color: var(--fill-color);\n",
              "      border-bottom-color: var(--fill-color);\n",
              "    }\n",
              "    90% {\n",
              "      border-color: transparent;\n",
              "      border-bottom-color: var(--fill-color);\n",
              "    }\n",
              "  }\n",
              "</style>\n",
              "\n",
              "  <script>\n",
              "    async function quickchart(key) {\n",
              "      const quickchartButtonEl =\n",
              "        document.querySelector('#' + key + ' button');\n",
              "      quickchartButtonEl.disabled = true;  // To prevent multiple clicks.\n",
              "      quickchartButtonEl.classList.add('colab-df-spinner');\n",
              "      try {\n",
              "        const charts = await google.colab.kernel.invokeFunction(\n",
              "            'suggestCharts', [key], {});\n",
              "      } catch (error) {\n",
              "        console.error('Error during call to suggestCharts:', error);\n",
              "      }\n",
              "      quickchartButtonEl.classList.remove('colab-df-spinner');\n",
              "      quickchartButtonEl.classList.add('colab-df-quickchart-complete');\n",
              "    }\n",
              "    (() => {\n",
              "      let quickchartButtonEl =\n",
              "        document.querySelector('#df-b32a6ace-da95-4ec0-ad7d-c58c29e2d8aa button');\n",
              "      quickchartButtonEl.style.display =\n",
              "        google.colab.kernel.accessAllowed ? 'block' : 'none';\n",
              "    })();\n",
              "  </script>\n",
              "</div>\n",
              "    </div>\n",
              "  </div>\n"
            ]
          },
          "metadata": {},
          "execution_count": 128
        }
      ],
      "id": "trKcps8tSm5i"
    },
    {
      "cell_type": "markdown",
      "source": [
        "Now we do standardization on lstat in X matrix."
      ],
      "metadata": {
        "id": "se6ngZF8Sm5j"
      },
      "id": "se6ngZF8Sm5j"
    },
    {
      "cell_type": "code",
      "source": [
        "lstat_mean = np.mean(X[\"lstat\"])\n",
        "lstat_std = np.std(X[\"lstat\"])\n",
        "age_mean = np.mean(X[\"age\"])\n",
        "age_std = np.std(X[\"age\"])\n",
        "\n",
        "X[\"lstat\"] = ( X[\"lstat\"]- lstat_mean) / lstat_std\n",
        "X[\"age\"] = ( X[\"age\"]- age_mean) / age_std"
      ],
      "metadata": {
        "id": "OqybbyqqTPvk"
      },
      "id": "OqybbyqqTPvk",
      "execution_count": null,
      "outputs": []
    },
    {
      "cell_type": "code",
      "source": [
        "X"
      ],
      "metadata": {
        "colab": {
          "base_uri": "https://localhost:8080/",
          "height": 423
        },
        "id": "vB5HosfMTdpl",
        "outputId": "d8ace47f-dddd-449b-da9f-c5796ca3f5c3"
      },
      "id": "vB5HosfMTdpl",
      "execution_count": null,
      "outputs": [
        {
          "output_type": "execute_result",
          "data": {
            "text/plain": [
              "     intercept     lstat       age\n",
              "0          1.0 -1.075562 -0.120013\n",
              "1          1.0 -0.492439  0.367166\n",
              "2          1.0 -1.208727 -0.265812\n",
              "3          1.0 -1.361517 -0.809889\n",
              "4          1.0 -1.026501 -0.511180\n",
              "..         ...       ...       ...\n",
              "501        1.0 -0.418147  0.018673\n",
              "502        1.0 -0.500850  0.288933\n",
              "503        1.0 -0.983048  0.797449\n",
              "504        1.0 -0.865302  0.736996\n",
              "505        1.0 -0.669058  0.434732\n",
              "\n",
              "[506 rows x 3 columns]"
            ],
            "text/html": [
              "\n",
              "  <div id=\"df-8aa860a0-0e1b-44a8-9990-299a5be15876\" class=\"colab-df-container\">\n",
              "    <div>\n",
              "<style scoped>\n",
              "    .dataframe tbody tr th:only-of-type {\n",
              "        vertical-align: middle;\n",
              "    }\n",
              "\n",
              "    .dataframe tbody tr th {\n",
              "        vertical-align: top;\n",
              "    }\n",
              "\n",
              "    .dataframe thead th {\n",
              "        text-align: right;\n",
              "    }\n",
              "</style>\n",
              "<table border=\"1\" class=\"dataframe\">\n",
              "  <thead>\n",
              "    <tr style=\"text-align: right;\">\n",
              "      <th></th>\n",
              "      <th>intercept</th>\n",
              "      <th>lstat</th>\n",
              "      <th>age</th>\n",
              "    </tr>\n",
              "  </thead>\n",
              "  <tbody>\n",
              "    <tr>\n",
              "      <th>0</th>\n",
              "      <td>1.0</td>\n",
              "      <td>-1.075562</td>\n",
              "      <td>-0.120013</td>\n",
              "    </tr>\n",
              "    <tr>\n",
              "      <th>1</th>\n",
              "      <td>1.0</td>\n",
              "      <td>-0.492439</td>\n",
              "      <td>0.367166</td>\n",
              "    </tr>\n",
              "    <tr>\n",
              "      <th>2</th>\n",
              "      <td>1.0</td>\n",
              "      <td>-1.208727</td>\n",
              "      <td>-0.265812</td>\n",
              "    </tr>\n",
              "    <tr>\n",
              "      <th>3</th>\n",
              "      <td>1.0</td>\n",
              "      <td>-1.361517</td>\n",
              "      <td>-0.809889</td>\n",
              "    </tr>\n",
              "    <tr>\n",
              "      <th>4</th>\n",
              "      <td>1.0</td>\n",
              "      <td>-1.026501</td>\n",
              "      <td>-0.511180</td>\n",
              "    </tr>\n",
              "    <tr>\n",
              "      <th>...</th>\n",
              "      <td>...</td>\n",
              "      <td>...</td>\n",
              "      <td>...</td>\n",
              "    </tr>\n",
              "    <tr>\n",
              "      <th>501</th>\n",
              "      <td>1.0</td>\n",
              "      <td>-0.418147</td>\n",
              "      <td>0.018673</td>\n",
              "    </tr>\n",
              "    <tr>\n",
              "      <th>502</th>\n",
              "      <td>1.0</td>\n",
              "      <td>-0.500850</td>\n",
              "      <td>0.288933</td>\n",
              "    </tr>\n",
              "    <tr>\n",
              "      <th>503</th>\n",
              "      <td>1.0</td>\n",
              "      <td>-0.983048</td>\n",
              "      <td>0.797449</td>\n",
              "    </tr>\n",
              "    <tr>\n",
              "      <th>504</th>\n",
              "      <td>1.0</td>\n",
              "      <td>-0.865302</td>\n",
              "      <td>0.736996</td>\n",
              "    </tr>\n",
              "    <tr>\n",
              "      <th>505</th>\n",
              "      <td>1.0</td>\n",
              "      <td>-0.669058</td>\n",
              "      <td>0.434732</td>\n",
              "    </tr>\n",
              "  </tbody>\n",
              "</table>\n",
              "<p>506 rows × 3 columns</p>\n",
              "</div>\n",
              "    <div class=\"colab-df-buttons\">\n",
              "\n",
              "  <div class=\"colab-df-container\">\n",
              "    <button class=\"colab-df-convert\" onclick=\"convertToInteractive('df-8aa860a0-0e1b-44a8-9990-299a5be15876')\"\n",
              "            title=\"Convert this dataframe to an interactive table.\"\n",
              "            style=\"display:none;\">\n",
              "\n",
              "  <svg xmlns=\"http://www.w3.org/2000/svg\" height=\"24px\" viewBox=\"0 -960 960 960\">\n",
              "    <path d=\"M120-120v-720h720v720H120Zm60-500h600v-160H180v160Zm220 220h160v-160H400v160Zm0 220h160v-160H400v160ZM180-400h160v-160H180v160Zm440 0h160v-160H620v160ZM180-180h160v-160H180v160Zm440 0h160v-160H620v160Z\"/>\n",
              "  </svg>\n",
              "    </button>\n",
              "\n",
              "  <style>\n",
              "    .colab-df-container {\n",
              "      display:flex;\n",
              "      gap: 12px;\n",
              "    }\n",
              "\n",
              "    .colab-df-convert {\n",
              "      background-color: #E8F0FE;\n",
              "      border: none;\n",
              "      border-radius: 50%;\n",
              "      cursor: pointer;\n",
              "      display: none;\n",
              "      fill: #1967D2;\n",
              "      height: 32px;\n",
              "      padding: 0 0 0 0;\n",
              "      width: 32px;\n",
              "    }\n",
              "\n",
              "    .colab-df-convert:hover {\n",
              "      background-color: #E2EBFA;\n",
              "      box-shadow: 0px 1px 2px rgba(60, 64, 67, 0.3), 0px 1px 3px 1px rgba(60, 64, 67, 0.15);\n",
              "      fill: #174EA6;\n",
              "    }\n",
              "\n",
              "    .colab-df-buttons div {\n",
              "      margin-bottom: 4px;\n",
              "    }\n",
              "\n",
              "    [theme=dark] .colab-df-convert {\n",
              "      background-color: #3B4455;\n",
              "      fill: #D2E3FC;\n",
              "    }\n",
              "\n",
              "    [theme=dark] .colab-df-convert:hover {\n",
              "      background-color: #434B5C;\n",
              "      box-shadow: 0px 1px 3px 1px rgba(0, 0, 0, 0.15);\n",
              "      filter: drop-shadow(0px 1px 2px rgba(0, 0, 0, 0.3));\n",
              "      fill: #FFFFFF;\n",
              "    }\n",
              "  </style>\n",
              "\n",
              "    <script>\n",
              "      const buttonEl =\n",
              "        document.querySelector('#df-8aa860a0-0e1b-44a8-9990-299a5be15876 button.colab-df-convert');\n",
              "      buttonEl.style.display =\n",
              "        google.colab.kernel.accessAllowed ? 'block' : 'none';\n",
              "\n",
              "      async function convertToInteractive(key) {\n",
              "        const element = document.querySelector('#df-8aa860a0-0e1b-44a8-9990-299a5be15876');\n",
              "        const dataTable =\n",
              "          await google.colab.kernel.invokeFunction('convertToInteractive',\n",
              "                                                    [key], {});\n",
              "        if (!dataTable) return;\n",
              "\n",
              "        const docLinkHtml = 'Like what you see? Visit the ' +\n",
              "          '<a target=\"_blank\" href=https://colab.research.google.com/notebooks/data_table.ipynb>data table notebook</a>'\n",
              "          + ' to learn more about interactive tables.';\n",
              "        element.innerHTML = '';\n",
              "        dataTable['output_type'] = 'display_data';\n",
              "        await google.colab.output.renderOutput(dataTable, element);\n",
              "        const docLink = document.createElement('div');\n",
              "        docLink.innerHTML = docLinkHtml;\n",
              "        element.appendChild(docLink);\n",
              "      }\n",
              "    </script>\n",
              "  </div>\n",
              "\n",
              "\n",
              "<div id=\"df-fe506c96-e44e-43a5-9b58-e2d2f4bb7fa0\">\n",
              "  <button class=\"colab-df-quickchart\" onclick=\"quickchart('df-fe506c96-e44e-43a5-9b58-e2d2f4bb7fa0')\"\n",
              "            title=\"Suggest charts.\"\n",
              "            style=\"display:none;\">\n",
              "\n",
              "<svg xmlns=\"http://www.w3.org/2000/svg\" height=\"24px\"viewBox=\"0 0 24 24\"\n",
              "     width=\"24px\">\n",
              "    <g>\n",
              "        <path d=\"M19 3H5c-1.1 0-2 .9-2 2v14c0 1.1.9 2 2 2h14c1.1 0 2-.9 2-2V5c0-1.1-.9-2-2-2zM9 17H7v-7h2v7zm4 0h-2V7h2v10zm4 0h-2v-4h2v4z\"/>\n",
              "    </g>\n",
              "</svg>\n",
              "  </button>\n",
              "\n",
              "<style>\n",
              "  .colab-df-quickchart {\n",
              "      --bg-color: #E8F0FE;\n",
              "      --fill-color: #1967D2;\n",
              "      --hover-bg-color: #E2EBFA;\n",
              "      --hover-fill-color: #174EA6;\n",
              "      --disabled-fill-color: #AAA;\n",
              "      --disabled-bg-color: #DDD;\n",
              "  }\n",
              "\n",
              "  [theme=dark] .colab-df-quickchart {\n",
              "      --bg-color: #3B4455;\n",
              "      --fill-color: #D2E3FC;\n",
              "      --hover-bg-color: #434B5C;\n",
              "      --hover-fill-color: #FFFFFF;\n",
              "      --disabled-bg-color: #3B4455;\n",
              "      --disabled-fill-color: #666;\n",
              "  }\n",
              "\n",
              "  .colab-df-quickchart {\n",
              "    background-color: var(--bg-color);\n",
              "    border: none;\n",
              "    border-radius: 50%;\n",
              "    cursor: pointer;\n",
              "    display: none;\n",
              "    fill: var(--fill-color);\n",
              "    height: 32px;\n",
              "    padding: 0;\n",
              "    width: 32px;\n",
              "  }\n",
              "\n",
              "  .colab-df-quickchart:hover {\n",
              "    background-color: var(--hover-bg-color);\n",
              "    box-shadow: 0 1px 2px rgba(60, 64, 67, 0.3), 0 1px 3px 1px rgba(60, 64, 67, 0.15);\n",
              "    fill: var(--button-hover-fill-color);\n",
              "  }\n",
              "\n",
              "  .colab-df-quickchart-complete:disabled,\n",
              "  .colab-df-quickchart-complete:disabled:hover {\n",
              "    background-color: var(--disabled-bg-color);\n",
              "    fill: var(--disabled-fill-color);\n",
              "    box-shadow: none;\n",
              "  }\n",
              "\n",
              "  .colab-df-spinner {\n",
              "    border: 2px solid var(--fill-color);\n",
              "    border-color: transparent;\n",
              "    border-bottom-color: var(--fill-color);\n",
              "    animation:\n",
              "      spin 1s steps(1) infinite;\n",
              "  }\n",
              "\n",
              "  @keyframes spin {\n",
              "    0% {\n",
              "      border-color: transparent;\n",
              "      border-bottom-color: var(--fill-color);\n",
              "      border-left-color: var(--fill-color);\n",
              "    }\n",
              "    20% {\n",
              "      border-color: transparent;\n",
              "      border-left-color: var(--fill-color);\n",
              "      border-top-color: var(--fill-color);\n",
              "    }\n",
              "    30% {\n",
              "      border-color: transparent;\n",
              "      border-left-color: var(--fill-color);\n",
              "      border-top-color: var(--fill-color);\n",
              "      border-right-color: var(--fill-color);\n",
              "    }\n",
              "    40% {\n",
              "      border-color: transparent;\n",
              "      border-right-color: var(--fill-color);\n",
              "      border-top-color: var(--fill-color);\n",
              "    }\n",
              "    60% {\n",
              "      border-color: transparent;\n",
              "      border-right-color: var(--fill-color);\n",
              "    }\n",
              "    80% {\n",
              "      border-color: transparent;\n",
              "      border-right-color: var(--fill-color);\n",
              "      border-bottom-color: var(--fill-color);\n",
              "    }\n",
              "    90% {\n",
              "      border-color: transparent;\n",
              "      border-bottom-color: var(--fill-color);\n",
              "    }\n",
              "  }\n",
              "</style>\n",
              "\n",
              "  <script>\n",
              "    async function quickchart(key) {\n",
              "      const quickchartButtonEl =\n",
              "        document.querySelector('#' + key + ' button');\n",
              "      quickchartButtonEl.disabled = true;  // To prevent multiple clicks.\n",
              "      quickchartButtonEl.classList.add('colab-df-spinner');\n",
              "      try {\n",
              "        const charts = await google.colab.kernel.invokeFunction(\n",
              "            'suggestCharts', [key], {});\n",
              "      } catch (error) {\n",
              "        console.error('Error during call to suggestCharts:', error);\n",
              "      }\n",
              "      quickchartButtonEl.classList.remove('colab-df-spinner');\n",
              "      quickchartButtonEl.classList.add('colab-df-quickchart-complete');\n",
              "    }\n",
              "    (() => {\n",
              "      let quickchartButtonEl =\n",
              "        document.querySelector('#df-fe506c96-e44e-43a5-9b58-e2d2f4bb7fa0 button');\n",
              "      quickchartButtonEl.style.display =\n",
              "        google.colab.kernel.accessAllowed ? 'block' : 'none';\n",
              "    })();\n",
              "  </script>\n",
              "</div>\n",
              "    </div>\n",
              "  </div>\n"
            ]
          },
          "metadata": {},
          "execution_count": 130
        }
      ]
    },
    {
      "cell_type": "code",
      "source": [
        "y"
      ],
      "metadata": {
        "colab": {
          "base_uri": "https://localhost:8080/"
        },
        "id": "o-JiREd2fl9p",
        "outputId": "61d05cec-accb-4978-ffed-c8da7050b83d"
      },
      "id": "o-JiREd2fl9p",
      "execution_count": null,
      "outputs": [
        {
          "output_type": "execute_result",
          "data": {
            "text/plain": [
              "0      24.0\n",
              "1      21.6\n",
              "2      34.7\n",
              "3      33.4\n",
              "4      36.2\n",
              "       ... \n",
              "501    22.4\n",
              "502    20.6\n",
              "503    23.9\n",
              "504    22.0\n",
              "505    11.9\n",
              "Name: medv, Length: 506, dtype: float64"
            ]
          },
          "metadata": {},
          "execution_count": 7
        }
      ]
    },
    {
      "cell_type": "markdown",
      "source": [
        "The same design matrix `X` can be obtained from the following code.\n",
        "\n",
        "```\n",
        "lstat = np.array(Boston[\"lstat\"])\n",
        "lstat = (lstat-np.mean(lstat))/np.std(lstat)\n",
        "\n",
        "age = np.array(Boston[\"age\"])\n",
        "age = (lstat-np.mean(age))/np.std(age)\n",
        "\n",
        "X = np.stack([ones, lstat, age], axis=1)\n",
        "X.shape\n",
        "X\n",
        "```"
      ],
      "metadata": {
        "id": "ZrCaqsmaTnZv"
      },
      "id": "ZrCaqsmaTnZv"
    },
    {
      "cell_type": "code",
      "source": [
        "model = sm.OLS(y, X)\n",
        "results = model.fit()\n",
        "summarize(results)"
      ],
      "metadata": {
        "colab": {
          "base_uri": "https://localhost:8080/",
          "height": 143
        },
        "id": "KCzbhmYR-iL3",
        "outputId": "4f82cad1-cbe6-46c8-f7a4-8390420f1a06"
      },
      "execution_count": null,
      "outputs": [
        {
          "output_type": "execute_result",
          "data": {
            "text/plain": [
              "              coef  std err       t  P>|t|\n",
              "intercept  22.5328    0.274  82.108  0.000\n",
              "lstat      -7.3628    0.344 -21.416  0.000\n",
              "age         0.9714    0.344   2.826  0.005"
            ],
            "text/html": [
              "\n",
              "  <div id=\"df-b0a676da-ba69-4424-8dab-4ef0059d9682\" class=\"colab-df-container\">\n",
              "    <div>\n",
              "<style scoped>\n",
              "    .dataframe tbody tr th:only-of-type {\n",
              "        vertical-align: middle;\n",
              "    }\n",
              "\n",
              "    .dataframe tbody tr th {\n",
              "        vertical-align: top;\n",
              "    }\n",
              "\n",
              "    .dataframe thead th {\n",
              "        text-align: right;\n",
              "    }\n",
              "</style>\n",
              "<table border=\"1\" class=\"dataframe\">\n",
              "  <thead>\n",
              "    <tr style=\"text-align: right;\">\n",
              "      <th></th>\n",
              "      <th>coef</th>\n",
              "      <th>std err</th>\n",
              "      <th>t</th>\n",
              "      <th>P&gt;|t|</th>\n",
              "    </tr>\n",
              "  </thead>\n",
              "  <tbody>\n",
              "    <tr>\n",
              "      <th>intercept</th>\n",
              "      <td>22.5328</td>\n",
              "      <td>0.274</td>\n",
              "      <td>82.108</td>\n",
              "      <td>0.000</td>\n",
              "    </tr>\n",
              "    <tr>\n",
              "      <th>lstat</th>\n",
              "      <td>-7.3628</td>\n",
              "      <td>0.344</td>\n",
              "      <td>-21.416</td>\n",
              "      <td>0.000</td>\n",
              "    </tr>\n",
              "    <tr>\n",
              "      <th>age</th>\n",
              "      <td>0.9714</td>\n",
              "      <td>0.344</td>\n",
              "      <td>2.826</td>\n",
              "      <td>0.005</td>\n",
              "    </tr>\n",
              "  </tbody>\n",
              "</table>\n",
              "</div>\n",
              "    <div class=\"colab-df-buttons\">\n",
              "\n",
              "  <div class=\"colab-df-container\">\n",
              "    <button class=\"colab-df-convert\" onclick=\"convertToInteractive('df-b0a676da-ba69-4424-8dab-4ef0059d9682')\"\n",
              "            title=\"Convert this dataframe to an interactive table.\"\n",
              "            style=\"display:none;\">\n",
              "\n",
              "  <svg xmlns=\"http://www.w3.org/2000/svg\" height=\"24px\" viewBox=\"0 -960 960 960\">\n",
              "    <path d=\"M120-120v-720h720v720H120Zm60-500h600v-160H180v160Zm220 220h160v-160H400v160Zm0 220h160v-160H400v160ZM180-400h160v-160H180v160Zm440 0h160v-160H620v160ZM180-180h160v-160H180v160Zm440 0h160v-160H620v160Z\"/>\n",
              "  </svg>\n",
              "    </button>\n",
              "\n",
              "  <style>\n",
              "    .colab-df-container {\n",
              "      display:flex;\n",
              "      gap: 12px;\n",
              "    }\n",
              "\n",
              "    .colab-df-convert {\n",
              "      background-color: #E8F0FE;\n",
              "      border: none;\n",
              "      border-radius: 50%;\n",
              "      cursor: pointer;\n",
              "      display: none;\n",
              "      fill: #1967D2;\n",
              "      height: 32px;\n",
              "      padding: 0 0 0 0;\n",
              "      width: 32px;\n",
              "    }\n",
              "\n",
              "    .colab-df-convert:hover {\n",
              "      background-color: #E2EBFA;\n",
              "      box-shadow: 0px 1px 2px rgba(60, 64, 67, 0.3), 0px 1px 3px 1px rgba(60, 64, 67, 0.15);\n",
              "      fill: #174EA6;\n",
              "    }\n",
              "\n",
              "    .colab-df-buttons div {\n",
              "      margin-bottom: 4px;\n",
              "    }\n",
              "\n",
              "    [theme=dark] .colab-df-convert {\n",
              "      background-color: #3B4455;\n",
              "      fill: #D2E3FC;\n",
              "    }\n",
              "\n",
              "    [theme=dark] .colab-df-convert:hover {\n",
              "      background-color: #434B5C;\n",
              "      box-shadow: 0px 1px 3px 1px rgba(0, 0, 0, 0.15);\n",
              "      filter: drop-shadow(0px 1px 2px rgba(0, 0, 0, 0.3));\n",
              "      fill: #FFFFFF;\n",
              "    }\n",
              "  </style>\n",
              "\n",
              "    <script>\n",
              "      const buttonEl =\n",
              "        document.querySelector('#df-b0a676da-ba69-4424-8dab-4ef0059d9682 button.colab-df-convert');\n",
              "      buttonEl.style.display =\n",
              "        google.colab.kernel.accessAllowed ? 'block' : 'none';\n",
              "\n",
              "      async function convertToInteractive(key) {\n",
              "        const element = document.querySelector('#df-b0a676da-ba69-4424-8dab-4ef0059d9682');\n",
              "        const dataTable =\n",
              "          await google.colab.kernel.invokeFunction('convertToInteractive',\n",
              "                                                    [key], {});\n",
              "        if (!dataTable) return;\n",
              "\n",
              "        const docLinkHtml = 'Like what you see? Visit the ' +\n",
              "          '<a target=\"_blank\" href=https://colab.research.google.com/notebooks/data_table.ipynb>data table notebook</a>'\n",
              "          + ' to learn more about interactive tables.';\n",
              "        element.innerHTML = '';\n",
              "        dataTable['output_type'] = 'display_data';\n",
              "        await google.colab.output.renderOutput(dataTable, element);\n",
              "        const docLink = document.createElement('div');\n",
              "        docLink.innerHTML = docLinkHtml;\n",
              "        element.appendChild(docLink);\n",
              "      }\n",
              "    </script>\n",
              "  </div>\n",
              "\n",
              "\n",
              "<div id=\"df-e4fcb00c-58b7-4c61-9943-109cd9b335de\">\n",
              "  <button class=\"colab-df-quickchart\" onclick=\"quickchart('df-e4fcb00c-58b7-4c61-9943-109cd9b335de')\"\n",
              "            title=\"Suggest charts.\"\n",
              "            style=\"display:none;\">\n",
              "\n",
              "<svg xmlns=\"http://www.w3.org/2000/svg\" height=\"24px\"viewBox=\"0 0 24 24\"\n",
              "     width=\"24px\">\n",
              "    <g>\n",
              "        <path d=\"M19 3H5c-1.1 0-2 .9-2 2v14c0 1.1.9 2 2 2h14c1.1 0 2-.9 2-2V5c0-1.1-.9-2-2-2zM9 17H7v-7h2v7zm4 0h-2V7h2v10zm4 0h-2v-4h2v4z\"/>\n",
              "    </g>\n",
              "</svg>\n",
              "  </button>\n",
              "\n",
              "<style>\n",
              "  .colab-df-quickchart {\n",
              "      --bg-color: #E8F0FE;\n",
              "      --fill-color: #1967D2;\n",
              "      --hover-bg-color: #E2EBFA;\n",
              "      --hover-fill-color: #174EA6;\n",
              "      --disabled-fill-color: #AAA;\n",
              "      --disabled-bg-color: #DDD;\n",
              "  }\n",
              "\n",
              "  [theme=dark] .colab-df-quickchart {\n",
              "      --bg-color: #3B4455;\n",
              "      --fill-color: #D2E3FC;\n",
              "      --hover-bg-color: #434B5C;\n",
              "      --hover-fill-color: #FFFFFF;\n",
              "      --disabled-bg-color: #3B4455;\n",
              "      --disabled-fill-color: #666;\n",
              "  }\n",
              "\n",
              "  .colab-df-quickchart {\n",
              "    background-color: var(--bg-color);\n",
              "    border: none;\n",
              "    border-radius: 50%;\n",
              "    cursor: pointer;\n",
              "    display: none;\n",
              "    fill: var(--fill-color);\n",
              "    height: 32px;\n",
              "    padding: 0;\n",
              "    width: 32px;\n",
              "  }\n",
              "\n",
              "  .colab-df-quickchart:hover {\n",
              "    background-color: var(--hover-bg-color);\n",
              "    box-shadow: 0 1px 2px rgba(60, 64, 67, 0.3), 0 1px 3px 1px rgba(60, 64, 67, 0.15);\n",
              "    fill: var(--button-hover-fill-color);\n",
              "  }\n",
              "\n",
              "  .colab-df-quickchart-complete:disabled,\n",
              "  .colab-df-quickchart-complete:disabled:hover {\n",
              "    background-color: var(--disabled-bg-color);\n",
              "    fill: var(--disabled-fill-color);\n",
              "    box-shadow: none;\n",
              "  }\n",
              "\n",
              "  .colab-df-spinner {\n",
              "    border: 2px solid var(--fill-color);\n",
              "    border-color: transparent;\n",
              "    border-bottom-color: var(--fill-color);\n",
              "    animation:\n",
              "      spin 1s steps(1) infinite;\n",
              "  }\n",
              "\n",
              "  @keyframes spin {\n",
              "    0% {\n",
              "      border-color: transparent;\n",
              "      border-bottom-color: var(--fill-color);\n",
              "      border-left-color: var(--fill-color);\n",
              "    }\n",
              "    20% {\n",
              "      border-color: transparent;\n",
              "      border-left-color: var(--fill-color);\n",
              "      border-top-color: var(--fill-color);\n",
              "    }\n",
              "    30% {\n",
              "      border-color: transparent;\n",
              "      border-left-color: var(--fill-color);\n",
              "      border-top-color: var(--fill-color);\n",
              "      border-right-color: var(--fill-color);\n",
              "    }\n",
              "    40% {\n",
              "      border-color: transparent;\n",
              "      border-right-color: var(--fill-color);\n",
              "      border-top-color: var(--fill-color);\n",
              "    }\n",
              "    60% {\n",
              "      border-color: transparent;\n",
              "      border-right-color: var(--fill-color);\n",
              "    }\n",
              "    80% {\n",
              "      border-color: transparent;\n",
              "      border-right-color: var(--fill-color);\n",
              "      border-bottom-color: var(--fill-color);\n",
              "    }\n",
              "    90% {\n",
              "      border-color: transparent;\n",
              "      border-bottom-color: var(--fill-color);\n",
              "    }\n",
              "  }\n",
              "</style>\n",
              "\n",
              "  <script>\n",
              "    async function quickchart(key) {\n",
              "      const quickchartButtonEl =\n",
              "        document.querySelector('#' + key + ' button');\n",
              "      quickchartButtonEl.disabled = true;  // To prevent multiple clicks.\n",
              "      quickchartButtonEl.classList.add('colab-df-spinner');\n",
              "      try {\n",
              "        const charts = await google.colab.kernel.invokeFunction(\n",
              "            'suggestCharts', [key], {});\n",
              "      } catch (error) {\n",
              "        console.error('Error during call to suggestCharts:', error);\n",
              "      }\n",
              "      quickchartButtonEl.classList.remove('colab-df-spinner');\n",
              "      quickchartButtonEl.classList.add('colab-df-quickchart-complete');\n",
              "    }\n",
              "    (() => {\n",
              "      let quickchartButtonEl =\n",
              "        document.querySelector('#df-e4fcb00c-58b7-4c61-9943-109cd9b335de button');\n",
              "      quickchartButtonEl.style.display =\n",
              "        google.colab.kernel.accessAllowed ? 'block' : 'none';\n",
              "    })();\n",
              "  </script>\n",
              "</div>\n",
              "    </div>\n",
              "  </div>\n"
            ]
          },
          "metadata": {},
          "execution_count": 37
        }
      ],
      "id": "KCzbhmYR-iL3"
    },
    {
      "cell_type": "markdown",
      "source": [
        "## 2.1 Exercise:\n",
        "\n",
        "Using the standardizied `Boston` data answer the following questions.\n",
        "\n",
        "(a) Using pytorch and customized layer, calculate the train MSE of the following model:\n",
        "\n",
        "`medv ~ age + lstat`\n",
        "\n",
        "(b) Using pytorch and customized layer, calculate the train MSE of the following model:\n",
        "\n",
        "`medv ~ age + lstat + lstat**2`\n",
        "\n",
        "(c) Using pytorch and customized layer, calculate $R^2$ of each model in (a) and (b).\n",
        "\n",
        "(d) Repeat (a) and (b) by making use of 70% of data as train set and the remaining 30% as test set.\n"
      ],
      "metadata": {
        "id": "hBCsIilXD9ka"
      },
      "id": "hBCsIilXD9ka"
    },
    {
      "cell_type": "code",
      "source": [
        "import torch\n",
        "import torch.optim\n",
        "from torch.utils.data import Dataset, DataLoader, TensorDataset"
      ],
      "metadata": {
        "id": "ocFIfGVl6FKr"
      },
      "id": "ocFIfGVl6FKr",
      "execution_count": 4,
      "outputs": []
    },
    {
      "cell_type": "markdown",
      "source": [
        "데이터 정의 : (myX, myY)"
      ],
      "metadata": {
        "id": "AJOItR6F6sBh"
      },
      "id": "AJOItR6F6sBh"
    },
    {
      "cell_type": "code",
      "source": [
        "myX_a = torch.tensor(X.values, dtype=torch.float32) # dtype을 32비트로\n",
        "myY = torch.tensor(y, dtype=torch.float32).reshape(-1,1) # Y shape은 [n,1]"
      ],
      "metadata": {
        "id": "LfWUBGNI6PIW"
      },
      "id": "LfWUBGNI6PIW",
      "execution_count": null,
      "outputs": []
    },
    {
      "cell_type": "code",
      "source": [
        "myX_a"
      ],
      "metadata": {
        "colab": {
          "base_uri": "https://localhost:8080/"
        },
        "id": "LqB92dKJ6hpe",
        "outputId": "2fadd669-ea6b-42b5-d568-aed1c5e232bf"
      },
      "id": "LqB92dKJ6hpe",
      "execution_count": null,
      "outputs": [
        {
          "output_type": "execute_result",
          "data": {
            "text/plain": [
              "tensor([[ 1.0000, -1.0756, -0.1200],\n",
              "        [ 1.0000, -0.4924,  0.3672],\n",
              "        [ 1.0000, -1.2087, -0.2658],\n",
              "        ...,\n",
              "        [ 1.0000, -0.9830,  0.7974],\n",
              "        [ 1.0000, -0.8653,  0.7370],\n",
              "        [ 1.0000, -0.6691,  0.4347]])"
            ]
          },
          "metadata": {},
          "execution_count": 132
        }
      ]
    },
    {
      "cell_type": "code",
      "source": [
        "myY"
      ],
      "metadata": {
        "colab": {
          "base_uri": "https://localhost:8080/"
        },
        "id": "YbISMlj_6peQ",
        "outputId": "3c42b4c9-97d5-413f-8292-d2154d648de5"
      },
      "id": "YbISMlj_6peQ",
      "execution_count": null,
      "outputs": [
        {
          "output_type": "execute_result",
          "data": {
            "text/plain": [
              "tensor([[24.0000],\n",
              "        [21.6000],\n",
              "        [34.7000],\n",
              "        [33.4000],\n",
              "        [36.2000],\n",
              "        [28.7000],\n",
              "        [22.9000],\n",
              "        [27.1000],\n",
              "        [16.5000],\n",
              "        [18.9000],\n",
              "        [15.0000],\n",
              "        [18.9000],\n",
              "        [21.7000],\n",
              "        [20.4000],\n",
              "        [18.2000],\n",
              "        [19.9000],\n",
              "        [23.1000],\n",
              "        [17.5000],\n",
              "        [20.2000],\n",
              "        [18.2000],\n",
              "        [13.6000],\n",
              "        [19.6000],\n",
              "        [15.2000],\n",
              "        [14.5000],\n",
              "        [15.6000],\n",
              "        [13.9000],\n",
              "        [16.6000],\n",
              "        [14.8000],\n",
              "        [18.4000],\n",
              "        [21.0000],\n",
              "        [12.7000],\n",
              "        [14.5000],\n",
              "        [13.2000],\n",
              "        [13.1000],\n",
              "        [13.5000],\n",
              "        [18.9000],\n",
              "        [20.0000],\n",
              "        [21.0000],\n",
              "        [24.7000],\n",
              "        [30.8000],\n",
              "        [34.9000],\n",
              "        [26.6000],\n",
              "        [25.3000],\n",
              "        [24.7000],\n",
              "        [21.2000],\n",
              "        [19.3000],\n",
              "        [20.0000],\n",
              "        [16.6000],\n",
              "        [14.4000],\n",
              "        [19.4000],\n",
              "        [19.7000],\n",
              "        [20.5000],\n",
              "        [25.0000],\n",
              "        [23.4000],\n",
              "        [18.9000],\n",
              "        [35.4000],\n",
              "        [24.7000],\n",
              "        [31.6000],\n",
              "        [23.3000],\n",
              "        [19.6000],\n",
              "        [18.7000],\n",
              "        [16.0000],\n",
              "        [22.2000],\n",
              "        [25.0000],\n",
              "        [33.0000],\n",
              "        [23.5000],\n",
              "        [19.4000],\n",
              "        [22.0000],\n",
              "        [17.4000],\n",
              "        [20.9000],\n",
              "        [24.2000],\n",
              "        [21.7000],\n",
              "        [22.8000],\n",
              "        [23.4000],\n",
              "        [24.1000],\n",
              "        [21.4000],\n",
              "        [20.0000],\n",
              "        [20.8000],\n",
              "        [21.2000],\n",
              "        [20.3000],\n",
              "        [28.0000],\n",
              "        [23.9000],\n",
              "        [24.8000],\n",
              "        [22.9000],\n",
              "        [23.9000],\n",
              "        [26.6000],\n",
              "        [22.5000],\n",
              "        [22.2000],\n",
              "        [23.6000],\n",
              "        [28.7000],\n",
              "        [22.6000],\n",
              "        [22.0000],\n",
              "        [22.9000],\n",
              "        [25.0000],\n",
              "        [20.6000],\n",
              "        [28.4000],\n",
              "        [21.4000],\n",
              "        [38.7000],\n",
              "        [43.8000],\n",
              "        [33.2000],\n",
              "        [27.5000],\n",
              "        [26.5000],\n",
              "        [18.6000],\n",
              "        [19.3000],\n",
              "        [20.1000],\n",
              "        [19.5000],\n",
              "        [19.5000],\n",
              "        [20.4000],\n",
              "        [19.8000],\n",
              "        [19.4000],\n",
              "        [21.7000],\n",
              "        [22.8000],\n",
              "        [18.8000],\n",
              "        [18.7000],\n",
              "        [18.5000],\n",
              "        [18.3000],\n",
              "        [21.2000],\n",
              "        [19.2000],\n",
              "        [20.4000],\n",
              "        [19.3000],\n",
              "        [22.0000],\n",
              "        [20.3000],\n",
              "        [20.5000],\n",
              "        [17.3000],\n",
              "        [18.8000],\n",
              "        [21.4000],\n",
              "        [15.7000],\n",
              "        [16.2000],\n",
              "        [18.0000],\n",
              "        [14.3000],\n",
              "        [19.2000],\n",
              "        [19.6000],\n",
              "        [23.0000],\n",
              "        [18.4000],\n",
              "        [15.6000],\n",
              "        [18.1000],\n",
              "        [17.4000],\n",
              "        [17.1000],\n",
              "        [13.3000],\n",
              "        [17.8000],\n",
              "        [14.0000],\n",
              "        [14.4000],\n",
              "        [13.4000],\n",
              "        [15.6000],\n",
              "        [11.8000],\n",
              "        [13.8000],\n",
              "        [15.6000],\n",
              "        [14.6000],\n",
              "        [17.8000],\n",
              "        [15.4000],\n",
              "        [21.5000],\n",
              "        [19.6000],\n",
              "        [15.3000],\n",
              "        [19.4000],\n",
              "        [17.0000],\n",
              "        [15.6000],\n",
              "        [13.1000],\n",
              "        [41.3000],\n",
              "        [24.3000],\n",
              "        [23.3000],\n",
              "        [27.0000],\n",
              "        [50.0000],\n",
              "        [50.0000],\n",
              "        [50.0000],\n",
              "        [22.7000],\n",
              "        [25.0000],\n",
              "        [50.0000],\n",
              "        [23.8000],\n",
              "        [23.8000],\n",
              "        [22.3000],\n",
              "        [17.4000],\n",
              "        [19.1000],\n",
              "        [23.1000],\n",
              "        [23.6000],\n",
              "        [22.6000],\n",
              "        [29.4000],\n",
              "        [23.2000],\n",
              "        [24.6000],\n",
              "        [29.9000],\n",
              "        [37.2000],\n",
              "        [39.8000],\n",
              "        [36.2000],\n",
              "        [37.9000],\n",
              "        [32.5000],\n",
              "        [26.4000],\n",
              "        [29.6000],\n",
              "        [50.0000],\n",
              "        [32.0000],\n",
              "        [29.8000],\n",
              "        [34.9000],\n",
              "        [37.0000],\n",
              "        [30.5000],\n",
              "        [36.4000],\n",
              "        [31.1000],\n",
              "        [29.1000],\n",
              "        [50.0000],\n",
              "        [33.3000],\n",
              "        [30.3000],\n",
              "        [34.6000],\n",
              "        [34.9000],\n",
              "        [32.9000],\n",
              "        [24.1000],\n",
              "        [42.3000],\n",
              "        [48.5000],\n",
              "        [50.0000],\n",
              "        [22.6000],\n",
              "        [24.4000],\n",
              "        [22.5000],\n",
              "        [24.4000],\n",
              "        [20.0000],\n",
              "        [21.7000],\n",
              "        [19.3000],\n",
              "        [22.4000],\n",
              "        [28.1000],\n",
              "        [23.7000],\n",
              "        [25.0000],\n",
              "        [23.3000],\n",
              "        [28.7000],\n",
              "        [21.5000],\n",
              "        [23.0000],\n",
              "        [26.7000],\n",
              "        [21.7000],\n",
              "        [27.5000],\n",
              "        [30.1000],\n",
              "        [44.8000],\n",
              "        [50.0000],\n",
              "        [37.6000],\n",
              "        [31.6000],\n",
              "        [46.7000],\n",
              "        [31.5000],\n",
              "        [24.3000],\n",
              "        [31.7000],\n",
              "        [41.7000],\n",
              "        [48.3000],\n",
              "        [29.0000],\n",
              "        [24.0000],\n",
              "        [25.1000],\n",
              "        [31.5000],\n",
              "        [23.7000],\n",
              "        [23.3000],\n",
              "        [22.0000],\n",
              "        [20.1000],\n",
              "        [22.2000],\n",
              "        [23.7000],\n",
              "        [17.6000],\n",
              "        [18.5000],\n",
              "        [24.3000],\n",
              "        [20.5000],\n",
              "        [24.5000],\n",
              "        [26.2000],\n",
              "        [24.4000],\n",
              "        [24.8000],\n",
              "        [29.6000],\n",
              "        [42.8000],\n",
              "        [21.9000],\n",
              "        [20.9000],\n",
              "        [44.0000],\n",
              "        [50.0000],\n",
              "        [36.0000],\n",
              "        [30.1000],\n",
              "        [33.8000],\n",
              "        [43.1000],\n",
              "        [48.8000],\n",
              "        [31.0000],\n",
              "        [36.5000],\n",
              "        [22.8000],\n",
              "        [30.7000],\n",
              "        [50.0000],\n",
              "        [43.5000],\n",
              "        [20.7000],\n",
              "        [21.1000],\n",
              "        [25.2000],\n",
              "        [24.4000],\n",
              "        [35.2000],\n",
              "        [32.4000],\n",
              "        [32.0000],\n",
              "        [33.2000],\n",
              "        [33.1000],\n",
              "        [29.1000],\n",
              "        [35.1000],\n",
              "        [45.4000],\n",
              "        [35.4000],\n",
              "        [46.0000],\n",
              "        [50.0000],\n",
              "        [32.2000],\n",
              "        [22.0000],\n",
              "        [20.1000],\n",
              "        [23.2000],\n",
              "        [22.3000],\n",
              "        [24.8000],\n",
              "        [28.5000],\n",
              "        [37.3000],\n",
              "        [27.9000],\n",
              "        [23.9000],\n",
              "        [21.7000],\n",
              "        [28.6000],\n",
              "        [27.1000],\n",
              "        [20.3000],\n",
              "        [22.5000],\n",
              "        [29.0000],\n",
              "        [24.8000],\n",
              "        [22.0000],\n",
              "        [26.4000],\n",
              "        [33.1000],\n",
              "        [36.1000],\n",
              "        [28.4000],\n",
              "        [33.4000],\n",
              "        [28.2000],\n",
              "        [22.8000],\n",
              "        [20.3000],\n",
              "        [16.1000],\n",
              "        [22.1000],\n",
              "        [19.4000],\n",
              "        [21.6000],\n",
              "        [23.8000],\n",
              "        [16.2000],\n",
              "        [17.8000],\n",
              "        [19.8000],\n",
              "        [23.1000],\n",
              "        [21.0000],\n",
              "        [23.8000],\n",
              "        [23.1000],\n",
              "        [20.4000],\n",
              "        [18.5000],\n",
              "        [25.0000],\n",
              "        [24.6000],\n",
              "        [23.0000],\n",
              "        [22.2000],\n",
              "        [19.3000],\n",
              "        [22.6000],\n",
              "        [19.8000],\n",
              "        [17.1000],\n",
              "        [19.4000],\n",
              "        [22.2000],\n",
              "        [20.7000],\n",
              "        [21.1000],\n",
              "        [19.5000],\n",
              "        [18.5000],\n",
              "        [20.6000],\n",
              "        [19.0000],\n",
              "        [18.7000],\n",
              "        [32.7000],\n",
              "        [16.5000],\n",
              "        [23.9000],\n",
              "        [31.2000],\n",
              "        [17.5000],\n",
              "        [17.2000],\n",
              "        [23.1000],\n",
              "        [24.5000],\n",
              "        [26.6000],\n",
              "        [22.9000],\n",
              "        [24.1000],\n",
              "        [18.6000],\n",
              "        [30.1000],\n",
              "        [18.2000],\n",
              "        [20.6000],\n",
              "        [17.8000],\n",
              "        [21.7000],\n",
              "        [22.7000],\n",
              "        [22.6000],\n",
              "        [25.0000],\n",
              "        [19.9000],\n",
              "        [20.8000],\n",
              "        [16.8000],\n",
              "        [21.9000],\n",
              "        [27.5000],\n",
              "        [21.9000],\n",
              "        [23.1000],\n",
              "        [50.0000],\n",
              "        [50.0000],\n",
              "        [50.0000],\n",
              "        [50.0000],\n",
              "        [50.0000],\n",
              "        [13.8000],\n",
              "        [13.8000],\n",
              "        [15.0000],\n",
              "        [13.9000],\n",
              "        [13.3000],\n",
              "        [13.1000],\n",
              "        [10.2000],\n",
              "        [10.4000],\n",
              "        [10.9000],\n",
              "        [11.3000],\n",
              "        [12.3000],\n",
              "        [ 8.8000],\n",
              "        [ 7.2000],\n",
              "        [10.5000],\n",
              "        [ 7.4000],\n",
              "        [10.2000],\n",
              "        [11.5000],\n",
              "        [15.1000],\n",
              "        [23.2000],\n",
              "        [ 9.7000],\n",
              "        [13.8000],\n",
              "        [12.7000],\n",
              "        [13.1000],\n",
              "        [12.5000],\n",
              "        [ 8.5000],\n",
              "        [ 5.0000],\n",
              "        [ 6.3000],\n",
              "        [ 5.6000],\n",
              "        [ 7.2000],\n",
              "        [12.1000],\n",
              "        [ 8.3000],\n",
              "        [ 8.5000],\n",
              "        [ 5.0000],\n",
              "        [11.9000],\n",
              "        [27.9000],\n",
              "        [17.2000],\n",
              "        [27.5000],\n",
              "        [15.0000],\n",
              "        [17.2000],\n",
              "        [17.9000],\n",
              "        [16.3000],\n",
              "        [ 7.0000],\n",
              "        [ 7.2000],\n",
              "        [ 7.5000],\n",
              "        [10.4000],\n",
              "        [ 8.8000],\n",
              "        [ 8.4000],\n",
              "        [16.7000],\n",
              "        [14.2000],\n",
              "        [20.8000],\n",
              "        [13.4000],\n",
              "        [11.7000],\n",
              "        [ 8.3000],\n",
              "        [10.2000],\n",
              "        [10.9000],\n",
              "        [11.0000],\n",
              "        [ 9.5000],\n",
              "        [14.5000],\n",
              "        [14.1000],\n",
              "        [16.1000],\n",
              "        [14.3000],\n",
              "        [11.7000],\n",
              "        [13.4000],\n",
              "        [ 9.6000],\n",
              "        [ 8.7000],\n",
              "        [ 8.4000],\n",
              "        [12.8000],\n",
              "        [10.5000],\n",
              "        [17.1000],\n",
              "        [18.4000],\n",
              "        [15.4000],\n",
              "        [10.8000],\n",
              "        [11.8000],\n",
              "        [14.9000],\n",
              "        [12.6000],\n",
              "        [14.1000],\n",
              "        [13.0000],\n",
              "        [13.4000],\n",
              "        [15.2000],\n",
              "        [16.1000],\n",
              "        [17.8000],\n",
              "        [14.9000],\n",
              "        [14.1000],\n",
              "        [12.7000],\n",
              "        [13.5000],\n",
              "        [14.9000],\n",
              "        [20.0000],\n",
              "        [16.4000],\n",
              "        [17.7000],\n",
              "        [19.5000],\n",
              "        [20.2000],\n",
              "        [21.4000],\n",
              "        [19.9000],\n",
              "        [19.0000],\n",
              "        [19.1000],\n",
              "        [19.1000],\n",
              "        [20.1000],\n",
              "        [19.9000],\n",
              "        [19.6000],\n",
              "        [23.2000],\n",
              "        [29.8000],\n",
              "        [13.8000],\n",
              "        [13.3000],\n",
              "        [16.7000],\n",
              "        [12.0000],\n",
              "        [14.6000],\n",
              "        [21.4000],\n",
              "        [23.0000],\n",
              "        [23.7000],\n",
              "        [25.0000],\n",
              "        [21.8000],\n",
              "        [20.6000],\n",
              "        [21.2000],\n",
              "        [19.1000],\n",
              "        [20.6000],\n",
              "        [15.2000],\n",
              "        [ 7.0000],\n",
              "        [ 8.1000],\n",
              "        [13.6000],\n",
              "        [20.1000],\n",
              "        [21.8000],\n",
              "        [24.5000],\n",
              "        [23.1000],\n",
              "        [19.7000],\n",
              "        [18.3000],\n",
              "        [21.2000],\n",
              "        [17.5000],\n",
              "        [16.8000],\n",
              "        [22.4000],\n",
              "        [20.6000],\n",
              "        [23.9000],\n",
              "        [22.0000],\n",
              "        [11.9000]])"
            ]
          },
          "metadata": {},
          "execution_count": 113
        }
      ]
    },
    {
      "cell_type": "markdown",
      "source": [
        "(a)"
      ],
      "metadata": {
        "id": "gdsaiV1R7RWW"
      },
      "id": "gdsaiV1R7RWW"
    },
    {
      "cell_type": "code",
      "source": [
        "# SGD에 사용할 데이터 정의\n",
        "dataset = TensorDataset(myX_a, myY)\n",
        "trainloader = DataLoader(dataset=dataset, batch_size=5, shuffle=True)"
      ],
      "metadata": {
        "id": "GdBc-GEZhDct"
      },
      "id": "GdBc-GEZhDct",
      "execution_count": null,
      "outputs": []
    },
    {
      "cell_type": "code",
      "source": [
        "# customed layer (model을 정의 및 yhat 계산)\n",
        "class MyLinear_a(torch.nn.Module):\n",
        "  def __init__(self, in_units, units):\n",
        "    super().__init__()\n",
        "    self.weight = torch.nn.Parameter(torch.randn(in_units, units))\n",
        "\n",
        "  def forward(self,X):\n",
        "    return X @ self.weight"
      ],
      "metadata": {
        "id": "kptDCHcU7XIl"
      },
      "id": "kptDCHcU7XIl",
      "execution_count": null,
      "outputs": []
    },
    {
      "cell_type": "code",
      "source": [
        "# model 정의\n",
        "model_a = MyLinear_a(3,1)\n",
        "\n",
        "# MSE 계산 함수 정의\n",
        "def MSE(y,yhat):\n",
        "  return torch.mean((y-yhat)**2)\n",
        "\n",
        "epochs = 100\n",
        "history = []\n",
        "\n",
        "# optimizer 정의\n",
        "my_optimizer = torch.optim.SGD(model_a.parameters(), lr=0.01)\n",
        "\n",
        "for epoch in range(epochs):\n",
        "  LOSS_sum = 0\n",
        "  for xx, yy in trainloader:\n",
        "    yhat = model_a(xx)\n",
        "    loss = MSE(yy,yhat)\n",
        "    LOSS_sum += loss * len(yy)\n",
        "    loss.backward()\n",
        "    my_optimizer.step()\n",
        "    my_optimizer.zero_grad()\n",
        "  history.append(LOSS_sum.data/len(myY))"
      ],
      "metadata": {
        "id": "GA5lZ9cz8SBg"
      },
      "id": "GA5lZ9cz8SBg",
      "execution_count": null,
      "outputs": []
    },
    {
      "cell_type": "code",
      "source": [
        "# MSE graph\n",
        "import matplotlib.pyplot as plt\n",
        "plt.plot(history)"
      ],
      "metadata": {
        "colab": {
          "base_uri": "https://localhost:8080/",
          "height": 448
        },
        "id": "ICM9KP8c-Evm",
        "outputId": "a8d88a6e-0f81-4086-9acf-003e17b9d067"
      },
      "id": "ICM9KP8c-Evm",
      "execution_count": null,
      "outputs": [
        {
          "output_type": "execute_result",
          "data": {
            "text/plain": [
              "[<matplotlib.lines.Line2D at 0x7fbf6137bbb0>]"
            ]
          },
          "metadata": {},
          "execution_count": 184
        },
        {
          "output_type": "display_data",
          "data": {
            "text/plain": [
              "<Figure size 640x480 with 1 Axes>"
            ],
            "image/png": "[encoded data removed]"
          },
          "metadata": {}
        }
      ]
    },
    {
      "cell_type": "code",
      "source": [
        "# train MSE\n",
        "Yhat_a = model_a(myX_a)\n",
        "MSE(myY, Yhat_a)"
      ],
      "metadata": {
        "colab": {
          "base_uri": "https://localhost:8080/"
        },
        "id": "vV_p7Usm262U",
        "outputId": "434ff3a6-b59c-4f36-94e1-9b2041657f2a"
      },
      "id": "vV_p7Usm262U",
      "execution_count": null,
      "outputs": [
        {
          "output_type": "execute_result",
          "data": {
            "text/plain": [
              "tensor(37.8982, grad_fn=<MeanBackward0>)"
            ]
          },
          "metadata": {},
          "execution_count": 189
        }
      ]
    },
    {
      "cell_type": "markdown",
      "source": [
        "(b)"
      ],
      "metadata": {
        "id": "ILe-Z67xAU28"
      },
      "id": "ILe-Z67xAU28"
    },
    {
      "cell_type": "code",
      "source": [
        "# X 원본 (표준화 안 됨)\n",
        "design = MS(['lstat', \"age\"])\n",
        "X = design.fit_transform(Boston)\n",
        "X"
      ],
      "metadata": {
        "colab": {
          "base_uri": "https://localhost:8080/",
          "height": 423
        },
        "id": "a-KaRi-PjsnP",
        "outputId": "d4c4e7ed-f190-480c-c502-f5ba391fffca"
      },
      "id": "a-KaRi-PjsnP",
      "execution_count": null,
      "outputs": [
        {
          "output_type": "execute_result",
          "data": {
            "text/plain": [
              "     intercept  lstat   age\n",
              "0          1.0   4.98  65.2\n",
              "1          1.0   9.14  78.9\n",
              "2          1.0   4.03  61.1\n",
              "3          1.0   2.94  45.8\n",
              "4          1.0   5.33  54.2\n",
              "..         ...    ...   ...\n",
              "501        1.0   9.67  69.1\n",
              "502        1.0   9.08  76.7\n",
              "503        1.0   5.64  91.0\n",
              "504        1.0   6.48  89.3\n",
              "505        1.0   7.88  80.8\n",
              "\n",
              "[506 rows x 3 columns]"
            ],
            "text/html": [
              "\n",
              "  <div id=\"df-49b75424-5a0f-4b4c-afb0-75d1c67139ef\" class=\"colab-df-container\">\n",
              "    <div>\n",
              "<style scoped>\n",
              "    .dataframe tbody tr th:only-of-type {\n",
              "        vertical-align: middle;\n",
              "    }\n",
              "\n",
              "    .dataframe tbody tr th {\n",
              "        vertical-align: top;\n",
              "    }\n",
              "\n",
              "    .dataframe thead th {\n",
              "        text-align: right;\n",
              "    }\n",
              "</style>\n",
              "<table border=\"1\" class=\"dataframe\">\n",
              "  <thead>\n",
              "    <tr style=\"text-align: right;\">\n",
              "      <th></th>\n",
              "      <th>intercept</th>\n",
              "      <th>lstat</th>\n",
              "      <th>age</th>\n",
              "    </tr>\n",
              "  </thead>\n",
              "  <tbody>\n",
              "    <tr>\n",
              "      <th>0</th>\n",
              "      <td>1.0</td>\n",
              "      <td>4.98</td>\n",
              "      <td>65.2</td>\n",
              "    </tr>\n",
              "    <tr>\n",
              "      <th>1</th>\n",
              "      <td>1.0</td>\n",
              "      <td>9.14</td>\n",
              "      <td>78.9</td>\n",
              "    </tr>\n",
              "    <tr>\n",
              "      <th>2</th>\n",
              "      <td>1.0</td>\n",
              "      <td>4.03</td>\n",
              "      <td>61.1</td>\n",
              "    </tr>\n",
              "    <tr>\n",
              "      <th>3</th>\n",
              "      <td>1.0</td>\n",
              "      <td>2.94</td>\n",
              "      <td>45.8</td>\n",
              "    </tr>\n",
              "    <tr>\n",
              "      <th>4</th>\n",
              "      <td>1.0</td>\n",
              "      <td>5.33</td>\n",
              "      <td>54.2</td>\n",
              "    </tr>\n",
              "    <tr>\n",
              "      <th>...</th>\n",
              "      <td>...</td>\n",
              "      <td>...</td>\n",
              "      <td>...</td>\n",
              "    </tr>\n",
              "    <tr>\n",
              "      <th>501</th>\n",
              "      <td>1.0</td>\n",
              "      <td>9.67</td>\n",
              "      <td>69.1</td>\n",
              "    </tr>\n",
              "    <tr>\n",
              "      <th>502</th>\n",
              "      <td>1.0</td>\n",
              "      <td>9.08</td>\n",
              "      <td>76.7</td>\n",
              "    </tr>\n",
              "    <tr>\n",
              "      <th>503</th>\n",
              "      <td>1.0</td>\n",
              "      <td>5.64</td>\n",
              "      <td>91.0</td>\n",
              "    </tr>\n",
              "    <tr>\n",
              "      <th>504</th>\n",
              "      <td>1.0</td>\n",
              "      <td>6.48</td>\n",
              "      <td>89.3</td>\n",
              "    </tr>\n",
              "    <tr>\n",
              "      <th>505</th>\n",
              "      <td>1.0</td>\n",
              "      <td>7.88</td>\n",
              "      <td>80.8</td>\n",
              "    </tr>\n",
              "  </tbody>\n",
              "</table>\n",
              "<p>506 rows × 3 columns</p>\n",
              "</div>\n",
              "    <div class=\"colab-df-buttons\">\n",
              "\n",
              "  <div class=\"colab-df-container\">\n",
              "    <button class=\"colab-df-convert\" onclick=\"convertToInteractive('df-49b75424-5a0f-4b4c-afb0-75d1c67139ef')\"\n",
              "            title=\"Convert this dataframe to an interactive table.\"\n",
              "            style=\"display:none;\">\n",
              "\n",
              "  <svg xmlns=\"http://www.w3.org/2000/svg\" height=\"24px\" viewBox=\"0 -960 960 960\">\n",
              "    <path d=\"M120-120v-720h720v720H120Zm60-500h600v-160H180v160Zm220 220h160v-160H400v160Zm0 220h160v-160H400v160ZM180-400h160v-160H180v160Zm440 0h160v-160H620v160ZM180-180h160v-160H180v160Zm440 0h160v-160H620v160Z\"/>\n",
              "  </svg>\n",
              "    </button>\n",
              "\n",
              "  <style>\n",
              "    .colab-df-container {\n",
              "      display:flex;\n",
              "      gap: 12px;\n",
              "    }\n",
              "\n",
              "    .colab-df-convert {\n",
              "      background-color: #E8F0FE;\n",
              "      border: none;\n",
              "      border-radius: 50%;\n",
              "      cursor: pointer;\n",
              "      display: none;\n",
              "      fill: #1967D2;\n",
              "      height: 32px;\n",
              "      padding: 0 0 0 0;\n",
              "      width: 32px;\n",
              "    }\n",
              "\n",
              "    .colab-df-convert:hover {\n",
              "      background-color: #E2EBFA;\n",
              "      box-shadow: 0px 1px 2px rgba(60, 64, 67, 0.3), 0px 1px 3px 1px rgba(60, 64, 67, 0.15);\n",
              "      fill: #174EA6;\n",
              "    }\n",
              "\n",
              "    .colab-df-buttons div {\n",
              "      margin-bottom: 4px;\n",
              "    }\n",
              "\n",
              "    [theme=dark] .colab-df-convert {\n",
              "      background-color: #3B4455;\n",
              "      fill: #D2E3FC;\n",
              "    }\n",
              "\n",
              "    [theme=dark] .colab-df-convert:hover {\n",
              "      background-color: #434B5C;\n",
              "      box-shadow: 0px 1px 3px 1px rgba(0, 0, 0, 0.15);\n",
              "      filter: drop-shadow(0px 1px 2px rgba(0, 0, 0, 0.3));\n",
              "      fill: #FFFFFF;\n",
              "    }\n",
              "  </style>\n",
              "\n",
              "    <script>\n",
              "      const buttonEl =\n",
              "        document.querySelector('#df-49b75424-5a0f-4b4c-afb0-75d1c67139ef button.colab-df-convert');\n",
              "      buttonEl.style.display =\n",
              "        google.colab.kernel.accessAllowed ? 'block' : 'none';\n",
              "\n",
              "      async function convertToInteractive(key) {\n",
              "        const element = document.querySelector('#df-49b75424-5a0f-4b4c-afb0-75d1c67139ef');\n",
              "        const dataTable =\n",
              "          await google.colab.kernel.invokeFunction('convertToInteractive',\n",
              "                                                    [key], {});\n",
              "        if (!dataTable) return;\n",
              "\n",
              "        const docLinkHtml = 'Like what you see? Visit the ' +\n",
              "          '<a target=\"_blank\" href=https://colab.research.google.com/notebooks/data_table.ipynb>data table notebook</a>'\n",
              "          + ' to learn more about interactive tables.';\n",
              "        element.innerHTML = '';\n",
              "        dataTable['output_type'] = 'display_data';\n",
              "        await google.colab.output.renderOutput(dataTable, element);\n",
              "        const docLink = document.createElement('div');\n",
              "        docLink.innerHTML = docLinkHtml;\n",
              "        element.appendChild(docLink);\n",
              "      }\n",
              "    </script>\n",
              "  </div>\n",
              "\n",
              "\n",
              "<div id=\"df-2c8bcb89-5f25-48c3-a8a6-2bf2af4d729b\">\n",
              "  <button class=\"colab-df-quickchart\" onclick=\"quickchart('df-2c8bcb89-5f25-48c3-a8a6-2bf2af4d729b')\"\n",
              "            title=\"Suggest charts.\"\n",
              "            style=\"display:none;\">\n",
              "\n",
              "<svg xmlns=\"http://www.w3.org/2000/svg\" height=\"24px\"viewBox=\"0 0 24 24\"\n",
              "     width=\"24px\">\n",
              "    <g>\n",
              "        <path d=\"M19 3H5c-1.1 0-2 .9-2 2v14c0 1.1.9 2 2 2h14c1.1 0 2-.9 2-2V5c0-1.1-.9-2-2-2zM9 17H7v-7h2v7zm4 0h-2V7h2v10zm4 0h-2v-4h2v4z\"/>\n",
              "    </g>\n",
              "</svg>\n",
              "  </button>\n",
              "\n",
              "<style>\n",
              "  .colab-df-quickchart {\n",
              "      --bg-color: #E8F0FE;\n",
              "      --fill-color: #1967D2;\n",
              "      --hover-bg-color: #E2EBFA;\n",
              "      --hover-fill-color: #174EA6;\n",
              "      --disabled-fill-color: #AAA;\n",
              "      --disabled-bg-color: #DDD;\n",
              "  }\n",
              "\n",
              "  [theme=dark] .colab-df-quickchart {\n",
              "      --bg-color: #3B4455;\n",
              "      --fill-color: #D2E3FC;\n",
              "      --hover-bg-color: #434B5C;\n",
              "      --hover-fill-color: #FFFFFF;\n",
              "      --disabled-bg-color: #3B4455;\n",
              "      --disabled-fill-color: #666;\n",
              "  }\n",
              "\n",
              "  .colab-df-quickchart {\n",
              "    background-color: var(--bg-color);\n",
              "    border: none;\n",
              "    border-radius: 50%;\n",
              "    cursor: pointer;\n",
              "    display: none;\n",
              "    fill: var(--fill-color);\n",
              "    height: 32px;\n",
              "    padding: 0;\n",
              "    width: 32px;\n",
              "  }\n",
              "\n",
              "  .colab-df-quickchart:hover {\n",
              "    background-color: var(--hover-bg-color);\n",
              "    box-shadow: 0 1px 2px rgba(60, 64, 67, 0.3), 0 1px 3px 1px rgba(60, 64, 67, 0.15);\n",
              "    fill: var(--button-hover-fill-color);\n",
              "  }\n",
              "\n",
              "  .colab-df-quickchart-complete:disabled,\n",
              "  .colab-df-quickchart-complete:disabled:hover {\n",
              "    background-color: var(--disabled-bg-color);\n",
              "    fill: var(--disabled-fill-color);\n",
              "    box-shadow: none;\n",
              "  }\n",
              "\n",
              "  .colab-df-spinner {\n",
              "    border: 2px solid var(--fill-color);\n",
              "    border-color: transparent;\n",
              "    border-bottom-color: var(--fill-color);\n",
              "    animation:\n",
              "      spin 1s steps(1) infinite;\n",
              "  }\n",
              "\n",
              "  @keyframes spin {\n",
              "    0% {\n",
              "      border-color: transparent;\n",
              "      border-bottom-color: var(--fill-color);\n",
              "      border-left-color: var(--fill-color);\n",
              "    }\n",
              "    20% {\n",
              "      border-color: transparent;\n",
              "      border-left-color: var(--fill-color);\n",
              "      border-top-color: var(--fill-color);\n",
              "    }\n",
              "    30% {\n",
              "      border-color: transparent;\n",
              "      border-left-color: var(--fill-color);\n",
              "      border-top-color: var(--fill-color);\n",
              "      border-right-color: var(--fill-color);\n",
              "    }\n",
              "    40% {\n",
              "      border-color: transparent;\n",
              "      border-right-color: var(--fill-color);\n",
              "      border-top-color: var(--fill-color);\n",
              "    }\n",
              "    60% {\n",
              "      border-color: transparent;\n",
              "      border-right-color: var(--fill-color);\n",
              "    }\n",
              "    80% {\n",
              "      border-color: transparent;\n",
              "      border-right-color: var(--fill-color);\n",
              "      border-bottom-color: var(--fill-color);\n",
              "    }\n",
              "    90% {\n",
              "      border-color: transparent;\n",
              "      border-bottom-color: var(--fill-color);\n",
              "    }\n",
              "  }\n",
              "</style>\n",
              "\n",
              "  <script>\n",
              "    async function quickchart(key) {\n",
              "      const quickchartButtonEl =\n",
              "        document.querySelector('#' + key + ' button');\n",
              "      quickchartButtonEl.disabled = true;  // To prevent multiple clicks.\n",
              "      quickchartButtonEl.classList.add('colab-df-spinner');\n",
              "      try {\n",
              "        const charts = await google.colab.kernel.invokeFunction(\n",
              "            'suggestCharts', [key], {});\n",
              "      } catch (error) {\n",
              "        console.error('Error during call to suggestCharts:', error);\n",
              "      }\n",
              "      quickchartButtonEl.classList.remove('colab-df-spinner');\n",
              "      quickchartButtonEl.classList.add('colab-df-quickchart-complete');\n",
              "    }\n",
              "    (() => {\n",
              "      let quickchartButtonEl =\n",
              "        document.querySelector('#df-2c8bcb89-5f25-48c3-a8a6-2bf2af4d729b button');\n",
              "      quickchartButtonEl.style.display =\n",
              "        google.colab.kernel.accessAllowed ? 'block' : 'none';\n",
              "    })();\n",
              "  </script>\n",
              "</div>\n",
              "    </div>\n",
              "  </div>\n"
            ]
          },
          "metadata": {},
          "execution_count": 190
        }
      ]
    },
    {
      "cell_type": "code",
      "source": [
        "import numpy as np"
      ],
      "metadata": {
        "id": "Q7l4RzyQixQo"
      },
      "id": "Q7l4RzyQixQo",
      "execution_count": null,
      "outputs": []
    },
    {
      "cell_type": "code",
      "source": [
        "Ones = torch.tensor(X.shape[0])\n",
        "X1 = X['age']\n",
        "X2 = X['lstat']\n",
        "X3 = X['lstat']**2\n",
        "\n",
        "# 표준화\n",
        "age_mean = np.mean(X1)\n",
        "age_std = np.std(X1)\n",
        "lstat_mean = np.mean(X2)\n",
        "lstat_std = np.std(X2)\n",
        "lstat2_mean = np.mean(X3)\n",
        "lstat2_std = np.std(X3)\n",
        "\n",
        "X1 = torch.tensor((X1-age_mean)/age_std, dtype=torch.float32)\n",
        "X2 = torch.tensor((X2-lstat_mean)/lstat_std, dtype=torch.float32)\n",
        "X3 = torch.tensor((X3-lstat2_mean)/lstat2_std, dtype=torch.float32)\n",
        "\n",
        "# X 데이터 정의\n",
        "Ones = torch.ones(X1.shape[0])\n",
        "myX_b = torch.stack([Ones, X1,X2,X3], axis=1)\n",
        "myX_b"
      ],
      "metadata": {
        "colab": {
          "base_uri": "https://localhost:8080/"
        },
        "id": "H5ZNG0cHjyWh",
        "outputId": "200d17a4-d4d5-4d2f-c6d2-c34e0e6ec06d"
      },
      "id": "H5ZNG0cHjyWh",
      "execution_count": null,
      "outputs": [
        {
          "output_type": "execute_result",
          "data": {
            "text/plain": [
              "tensor([[ 1.0000, -0.1200, -1.0756, -0.7895],\n",
              "        [ 1.0000,  0.3672, -0.4924, -0.5405],\n",
              "        [ 1.0000, -0.2658, -1.2087, -0.8258],\n",
              "        ...,\n",
              "        [ 1.0000,  0.7974, -0.9830, -0.7598],\n",
              "        [ 1.0000,  0.7370, -0.8653, -0.7166],\n",
              "        [ 1.0000,  0.4347, -0.6691, -0.6314]])"
            ]
          },
          "metadata": {},
          "execution_count": 191
        }
      ]
    },
    {
      "cell_type": "markdown",
      "source": [
        "- 1열: 1벡터\n",
        "- 2열: 표준화된 age\n",
        "- 3열: 표준화된 lstat\n",
        "- 4열: 표준화된 lstat**2"
      ],
      "metadata": {
        "id": "q63ucPFQlo7h"
      },
      "id": "q63ucPFQlo7h"
    },
    {
      "cell_type": "code",
      "source": [
        "# SGD에 사용할 데이터 정의\n",
        "dataset = TensorDataset(myX_b, myY)\n",
        "trainloader = DataLoader(dataset=dataset, batch_size=5, shuffle=True)"
      ],
      "metadata": {
        "id": "0VUdYiisrIp0"
      },
      "id": "0VUdYiisrIp0",
      "execution_count": null,
      "outputs": []
    },
    {
      "cell_type": "code",
      "source": [
        "# customized layer\n",
        "class MyLinear_b(torch.nn.Module):\n",
        "  def __init__(self, in_units, units):\n",
        "    super().__init__()\n",
        "    self.weight = torch.nn.Parameter(torch.randn(in_units, units))\n",
        "\n",
        "  def forward(self,X):\n",
        "    return X @ self.weight"
      ],
      "metadata": {
        "id": "lteFbRSyl0-G"
      },
      "id": "lteFbRSyl0-G",
      "execution_count": null,
      "outputs": []
    },
    {
      "cell_type": "code",
      "source": [
        "# SGD\n",
        "model_b = MyLinear_b(4,1)\n",
        "\n",
        "def MSE(y,yhat):\n",
        "  return torch.mean((y-yhat)**2)\n",
        "\n",
        "epochs = 100\n",
        "history = []\n",
        "\n",
        "my_optimizer = torch.optim.SGD(model_b.parameters(), lr = 0.01)\n",
        "\n",
        "for epoch in range(epochs):\n",
        "  LOSS_sum = 0\n",
        "  for xx, yy in trainloader:\n",
        "    yhat = model_b(xx)\n",
        "    loss = MSE(yy, yhat)\n",
        "    LOSS_sum += loss * len(yy)\n",
        "    loss.backward()\n",
        "    my_optimizer.step()\n",
        "    my_optimizer.zero_grad()\n",
        "  history.append(LOSS_sum.data/len(myY))"
      ],
      "metadata": {
        "id": "tqgJ-YoLq0a2"
      },
      "id": "tqgJ-YoLq0a2",
      "execution_count": null,
      "outputs": []
    },
    {
      "cell_type": "code",
      "source": [
        "# MSE graph\n",
        "plt.plot(history)"
      ],
      "metadata": {
        "colab": {
          "base_uri": "https://localhost:8080/",
          "height": 448
        },
        "id": "JIuYAAA8rvd0",
        "outputId": "f6f5d9d7-6159-4beb-d72c-f62a6d034854"
      },
      "id": "JIuYAAA8rvd0",
      "execution_count": null,
      "outputs": [
        {
          "output_type": "execute_result",
          "data": {
            "text/plain": [
              "[<matplotlib.lines.Line2D at 0x7fbf610f18a0>]"
            ]
          },
          "metadata": {},
          "execution_count": 195
        },
        {
          "output_type": "display_data",
          "data": {
            "text/plain": [
              "<Figure size 640x480 with 1 Axes>"
            ],
            "image/png": "[encoded data removed]"
          },
          "metadata": {}
        }
      ]
    },
    {
      "cell_type": "code",
      "source": [
        "# train MSE\n",
        "Yhat_b = model_b(myX_b)\n",
        "MSE(myY, Yhat_b)"
      ],
      "metadata": {
        "colab": {
          "base_uri": "https://localhost:8080/"
        },
        "id": "YpBvU9JN3bol",
        "outputId": "9737265d-ed59-447b-edf0-bd5b51262e66"
      },
      "id": "YpBvU9JN3bol",
      "execution_count": null,
      "outputs": [
        {
          "output_type": "execute_result",
          "data": {
            "text/plain": [
              "tensor(28.0721, grad_fn=<MeanBackward0>)"
            ]
          },
          "metadata": {},
          "execution_count": 196
        }
      ]
    },
    {
      "cell_type": "markdown",
      "source": [
        "(c)"
      ],
      "metadata": {
        "id": "HrreU7cmr7yl"
      },
      "id": "HrreU7cmr7yl"
    },
    {
      "cell_type": "code",
      "source": [
        "# R-squared 계산 함수 정의\n",
        "def R2(y,yhat):\n",
        "  SSR = torch.sum((y-yhat)**2)\n",
        "  SST = torch.sum((y-torch.mean(y))**2)\n",
        "  return 1 - SSR/SST"
      ],
      "metadata": {
        "id": "fqRlarku3pUR"
      },
      "id": "fqRlarku3pUR",
      "execution_count": null,
      "outputs": []
    },
    {
      "cell_type": "code",
      "source": [
        "# model(a)의 R2\n",
        "Yhat_a = model_a(myX_a)\n",
        "R2(myY, Yhat_a)"
      ],
      "metadata": {
        "colab": {
          "base_uri": "https://localhost:8080/"
        },
        "id": "TmXRJabf3prk",
        "outputId": "f9ccdf38-7a1e-4e08-9ebc-d23a06c472fc"
      },
      "id": "TmXRJabf3prk",
      "execution_count": null,
      "outputs": [
        {
          "output_type": "execute_result",
          "data": {
            "text/plain": [
              "tensor(0.5511, grad_fn=<RsubBackward1>)"
            ]
          },
          "metadata": {},
          "execution_count": 203
        }
      ]
    },
    {
      "cell_type": "code",
      "source": [
        "# model(b)의 R2\n",
        "Yhat_b = model_b(myX_b)\n",
        "R2(myY, Yhat_b)"
      ],
      "metadata": {
        "colab": {
          "base_uri": "https://localhost:8080/"
        },
        "id": "i0jVMFoC3zNL",
        "outputId": "5ae619ab-ff16-4412-da3f-384301eb4610"
      },
      "id": "i0jVMFoC3zNL",
      "execution_count": null,
      "outputs": [
        {
          "output_type": "execute_result",
          "data": {
            "text/plain": [
              "tensor(0.6675, grad_fn=<RsubBackward1>)"
            ]
          },
          "metadata": {},
          "execution_count": 204
        }
      ]
    },
    {
      "cell_type": "markdown",
      "source": [
        "(d)"
      ],
      "metadata": {
        "id": "orv9ZNWB4XR6"
      },
      "id": "orv9ZNWB4XR6"
    },
    {
      "cell_type": "markdown",
      "source": [
        "> model A"
      ],
      "metadata": {
        "id": "Ifxj-8oA4dzm"
      },
      "id": "Ifxj-8oA4dzm"
    },
    {
      "cell_type": "code",
      "source": [
        "# 데이터셋을 train data : test data = 7:3으로 분할\n",
        "dataset = TensorDataset(myX_a,myY)\n",
        "\n",
        "n = len(myY)\n",
        "\n",
        "train_set, val_set = torch.utils.data.random_split(dataset, [int(np.floor(n*0.7)), n-int(np.floor(n*0.7))])\n",
        "\n",
        "trainloader = DataLoader( dataset = train_set, batch_size = 5, shuffle = True)\n",
        "testloader =  DataLoader( dataset = val_set, batch_size = n-int(np.floor(n*0.7)), shuffle = True)"
      ],
      "metadata": {
        "id": "bJiLFEI-4Xu-"
      },
      "id": "bJiLFEI-4Xu-",
      "execution_count": null,
      "outputs": []
    },
    {
      "cell_type": "code",
      "source": [
        "# model 정의\n",
        "model_d1 = MyLinear_a(3,1)\n",
        "\n",
        "epochs = 100\n",
        "history = []\n",
        "\n",
        "# optimizer 정의\n",
        "my_optimizer = torch.optim.SGD(model_d1.parameters(), lr=0.01)\n",
        "\n",
        "for epoch in range(epochs):\n",
        "  LOSS_sum = 0\n",
        "  N = 0 # train data의 개수\n",
        "  for xx, yy in trainloader:\n",
        "    yhat = model_d1(xx)\n",
        "    loss = MSE(yy,yhat)\n",
        "    LOSS_sum += loss * len(yy)\n",
        "    N += len(yy) # yy 개수를 계속 더해주어 최종적으로 train data의 개수를 얻는다.\n",
        "    loss.backward()\n",
        "    my_optimizer.step()\n",
        "    my_optimizer.zero_grad()\n",
        "  history.append(LOSS_sum.data/N)"
      ],
      "metadata": {
        "id": "E5yUVu034yvE"
      },
      "id": "E5yUVu034yvE",
      "execution_count": null,
      "outputs": []
    },
    {
      "cell_type": "code",
      "source": [
        "plt.plot(history)"
      ],
      "metadata": {
        "colab": {
          "base_uri": "https://localhost:8080/",
          "height": 448
        },
        "id": "1UduuO1t5ZNT",
        "outputId": "27d38a7c-ff74-4d1d-b51e-ef2b49d1d9bc"
      },
      "id": "1UduuO1t5ZNT",
      "execution_count": null,
      "outputs": [
        {
          "output_type": "execute_result",
          "data": {
            "text/plain": [
              "[<matplotlib.lines.Line2D at 0x7fbf60ffbeb0>]"
            ]
          },
          "metadata": {},
          "execution_count": 217
        },
        {
          "output_type": "display_data",
          "data": {
            "text/plain": [
              "<Figure size 640x480 with 1 Axes>"
            ],
            "image/png": "[encoded data removed]"
          },
          "metadata": {}
        }
      ]
    },
    {
      "cell_type": "markdown",
      "source": [
        "MSE 구하기"
      ],
      "metadata": {
        "id": "PhrY6Gr1BjFt"
      },
      "id": "PhrY6Gr1BjFt"
    },
    {
      "cell_type": "code",
      "source": [
        "# X_train (train set의 X)\n",
        "temp2 = []\n",
        "for xx, yy in train_set: # train_set에 들어있는 x와 y 추출\n",
        "  temp = xx.tolist() # tensor인 x를 list로 바꾼 후\n",
        "  temp2 += temp # 더하여 list를 합쳐준다. (temp2는 train X들이 들어있는 list가 된다.)\n",
        "X_train = torch.tensor(temp2).reshape(-1,3) # tensor로 변경하고 [n,3] shape으로 변경한다.\n",
        "\n",
        "# y_train (train set의 y)\n",
        "temp2 = []\n",
        "for xx, yy in train_set: # train_set에 들어있는 x와 y 추출\n",
        "  temp = yy.tolist() # tensor인 y를 list로 바꾼 후\n",
        "  temp2 += temp # 더하여 list를 합쳐준다. (temp2는 train Y들이 들어있는 list가 된다.)\n",
        "y_train = torch.tensor(temp2).reshape(-1,1) # tensor로 변경하고 [n,1] shape으로 변경한다."
      ],
      "metadata": {
        "id": "Kv6-5wnc_0u3"
      },
      "id": "Kv6-5wnc_0u3",
      "execution_count": null,
      "outputs": []
    },
    {
      "cell_type": "code",
      "source": [
        "print(X_train[:5])\n",
        "print(y_train[:5])"
      ],
      "metadata": {
        "colab": {
          "base_uri": "https://localhost:8080/"
        },
        "id": "AuvpV7glBsOo",
        "outputId": "2a623cc5-ab59-42ff-f8ac-b57211a46bf3"
      },
      "id": "AuvpV7glBsOo",
      "execution_count": null,
      "outputs": [
        {
          "output_type": "stream",
          "name": "stdout",
          "text": [
            "tensor([[ 1.0000, -1.0335, -1.6882],\n",
            "        [ 1.0000, -0.1785, -0.5076],\n",
            "        [ 1.0000, -0.8541, -1.8163],\n",
            "        [ 1.0000,  1.9606,  0.7299],\n",
            "        [ 1.0000, -1.0924, -1.8091]])\n",
            "tensor([[25.0000],\n",
            "        [22.0000],\n",
            "        [26.2000],\n",
            "        [10.4000],\n",
            "        [33.1000]])\n"
          ]
        }
      ]
    },
    {
      "cell_type": "code",
      "source": [
        "# X_test (test set의 X)\n",
        "temp2 = []\n",
        "for xx, yy in val_set: # val_set에 들어있는 x와 y 추출\n",
        "  temp = xx.tolist() # tensor인 x를 list로 바꾼 후\n",
        "  temp2 += temp # 더하여 list를 합쳐준다. (temp2는 test X들이 들어있는 list가 된다.)\n",
        "X_test = torch.tensor(temp2).reshape(-1,3) # tensor로 변경하고 [n,3] shape으로 변경한다.\n",
        "\n",
        "# y_test (test set의 y)\n",
        "temp2 = []\n",
        "for xx, yy in val_set: # val_set에 들어있는 x와 y 추출\n",
        "  temp = yy.tolist() # tensor인 y를 list로 바꾼 후\n",
        "  temp2 += temp # 더하여 list를 합쳐준다. (temp2는 test Y들이 들어있는 list가 된다.)\n",
        "y_test = torch.tensor(temp2).reshape(-1,1) # tensor로 변경하고 [n,1] shape으로 변경한다."
      ],
      "metadata": {
        "id": "fcMwsbY2D5mh"
      },
      "execution_count": null,
      "outputs": [],
      "id": "fcMwsbY2D5mh"
    },
    {
      "cell_type": "code",
      "source": [
        "print(X_test[:5])\n",
        "print(y_test[:5])"
      ],
      "metadata": {
        "colab": {
          "base_uri": "https://localhost:8080/"
        },
        "id": "fLikt1IyEPZH",
        "outputId": "339be10b-0421-454d-efdf-a0481e5bb86f"
      },
      "id": "fLikt1IyEPZH",
      "execution_count": null,
      "outputs": [
        {
          "output_type": "stream",
          "name": "stdout",
          "text": [
            "tensor([[ 1.0000,  0.1650,  0.7334],\n",
            "        [ 1.0000, -0.6887,  0.2249],\n",
            "        [ 1.0000, -0.7756,  0.6872],\n",
            "        [ 1.0000,  0.2407,  0.0400],\n",
            "        [ 1.0000, -0.9354, -0.5610]])\n",
            "tensor([[19.6000],\n",
            "        [23.7000],\n",
            "        [27.5000],\n",
            "        [22.0000],\n",
            "        [22.1000]])\n"
          ]
        }
      ]
    },
    {
      "cell_type": "code",
      "source": [
        "# train MSE\n",
        "y_train_hat_a = model_a(X_train)\n",
        "MSE(y_train_hat_a, y_train)"
      ],
      "metadata": {
        "colab": {
          "base_uri": "https://localhost:8080/"
        },
        "id": "Uz5f7rQIC3ou",
        "outputId": "f211bc51-31d5-4d5a-a834-9d69ba57e96f"
      },
      "id": "Uz5f7rQIC3ou",
      "execution_count": null,
      "outputs": [
        {
          "output_type": "execute_result",
          "data": {
            "text/plain": [
              "tensor(36.8885, grad_fn=<MeanBackward0>)"
            ]
          },
          "metadata": {},
          "execution_count": 333
        }
      ]
    },
    {
      "cell_type": "code",
      "source": [
        "# test MSE\n",
        "y_test_hat_a = model_a(X_test)\n",
        "MSE(y_test_hat_a, y_test)"
      ],
      "metadata": {
        "colab": {
          "base_uri": "https://localhost:8080/"
        },
        "id": "krn8zbOYDe-s",
        "outputId": "06a2db12-aab8-4b5e-9928-30dd0b633569"
      },
      "id": "krn8zbOYDe-s",
      "execution_count": null,
      "outputs": [
        {
          "output_type": "execute_result",
          "data": {
            "text/plain": [
              "tensor(40.4127, grad_fn=<MeanBackward0>)"
            ]
          },
          "metadata": {},
          "execution_count": 345
        }
      ]
    },
    {
      "cell_type": "markdown",
      "source": [
        "> model B"
      ],
      "metadata": {
        "id": "d9xtQ0j0EwhP"
      },
      "id": "d9xtQ0j0EwhP"
    },
    {
      "cell_type": "code",
      "source": [
        "# 데이터셋을 train data : test data = 7:3으로 분할\n",
        "dataset = TensorDataset(myX_b,myY)\n",
        "\n",
        "n = len(myY)\n",
        "\n",
        "train_set, val_set = torch.utils.data.random_split(dataset, [int(np.floor(n*0.7)), n-int(np.floor(n*0.7))])\n",
        "\n",
        "trainloader = DataLoader( dataset = train_set, batch_size = 5, shuffle = True)\n",
        "testloader =  DataLoader( dataset = val_set, batch_size = n-int(np.floor(n*0.7)), shuffle = True)"
      ],
      "metadata": {
        "id": "RGemw9PWFK0M"
      },
      "id": "RGemw9PWFK0M",
      "execution_count": null,
      "outputs": []
    },
    {
      "cell_type": "code",
      "source": [
        "# model 정의\n",
        "model_d2 = MyLinear_b(4,1) # 이번엔 beta가 총 4개이다.\n",
        "\n",
        "epochs = 100\n",
        "history = []\n",
        "\n",
        "# optimizer 정의\n",
        "my_optimizer = torch.optim.SGD(model_d2.parameters(), lr=0.01)\n",
        "\n",
        "for epoch in range(epochs):\n",
        "  LOSS_sum = 0\n",
        "  N = 0 # train data의 개수\n",
        "  for xx, yy in trainloader:\n",
        "    yhat = model_d2(xx)\n",
        "    loss = MSE(yy,yhat)\n",
        "    LOSS_sum += loss * len(yy)\n",
        "    N += len(yy) # yy 개수를 계속 더해주어 최종적으로 train data의 개수를 얻는다.\n",
        "    loss.backward()\n",
        "    my_optimizer.step()\n",
        "    my_optimizer.zero_grad()\n",
        "  history.append(LOSS_sum.data/N)"
      ],
      "metadata": {
        "id": "-E9zlDqJExKb"
      },
      "id": "-E9zlDqJExKb",
      "execution_count": null,
      "outputs": []
    },
    {
      "cell_type": "code",
      "source": [
        "# MSE graph\n",
        "plt.plot(history)"
      ],
      "metadata": {
        "colab": {
          "base_uri": "https://localhost:8080/",
          "height": 448
        },
        "id": "v9F6ZodzFOvy",
        "outputId": "8ee4f1e2-f5e1-45bd-90c3-d28867feffe2"
      },
      "id": "v9F6ZodzFOvy",
      "execution_count": null,
      "outputs": [
        {
          "output_type": "execute_result",
          "data": {
            "text/plain": [
              "[<matplotlib.lines.Line2D at 0x7fbf60afd3c0>]"
            ]
          },
          "metadata": {},
          "execution_count": 371
        },
        {
          "output_type": "display_data",
          "data": {
            "text/plain": [
              "<Figure size 640x480 with 1 Axes>"
            ],
            "image/png": "[encoded data removed]"
          },
          "metadata": {}
        }
      ]
    },
    {
      "cell_type": "markdown",
      "source": [
        "MSE 구하기"
      ],
      "metadata": {
        "id": "2pHXB44fFbrw"
      },
      "id": "2pHXB44fFbrw"
    },
    {
      "cell_type": "code",
      "source": [
        "# X_train (train set의 X)\n",
        "temp2 = []\n",
        "for xx, yy in train_set: # train_set에 들어있는 x와 y 추출\n",
        "  temp = xx.tolist() # tensor인 x를 list로 바꾼 후\n",
        "  temp2 += temp # 더하여 list를 합쳐준다. (temp2는 train X들이 들어있는 list가 된다.)\n",
        "X_train = torch.tensor(temp2).reshape(-1,4) # tensor로 변경하고 [n,4] shape으로 변경한다.\n",
        "\n",
        "# y_train (train set의 y)\n",
        "temp2 = []\n",
        "for xx, yy in train_set: # train_set에 들어있는 x와 y 추출\n",
        "  temp = yy.tolist() # tensor인 y를 list로 바꾼 후\n",
        "  temp2 += temp # 더하여 list를 합쳐준다. (temp2는 train Y들이 들어있는 list가 된다.)\n",
        "y_train = torch.tensor(temp2).reshape(-1,1) # tensor로 변경하고 [n,1] shape으로 변경한다."
      ],
      "metadata": {
        "id": "sBOLYSjfFbr4"
      },
      "execution_count": null,
      "outputs": [],
      "id": "sBOLYSjfFbr4"
    },
    {
      "cell_type": "code",
      "source": [
        "print(X_train[:5])\n",
        "print(y_train[:5])"
      ],
      "metadata": {
        "colab": {
          "base_uri": "https://localhost:8080/"
        },
        "outputId": "4c179671-958b-45cc-cfbd-9bea79ef880a",
        "id": "xUSiXTEzFbr4"
      },
      "execution_count": null,
      "outputs": [
        {
          "output_type": "stream",
          "name": "stdout",
          "text": [
            "tensor([[ 1.0000,  1.1175,  2.5143,  3.0732],\n",
            "        [ 1.0000, -1.8340, -1.2241, -0.8295],\n",
            "        [ 1.0000,  0.3245, -0.1616, -0.3339],\n",
            "        [ 1.0000, -0.0560, -0.7307, -0.6600],\n",
            "        [ 1.0000, -1.2224, -1.3377, -0.8537]])\n",
            "tensor([[ 5.0000],\n",
            "        [46.7000],\n",
            "        [16.2000],\n",
            "        [50.0000],\n",
            "        [44.0000]])\n"
          ]
        }
      ],
      "id": "xUSiXTEzFbr4"
    },
    {
      "cell_type": "code",
      "source": [
        "# X_test (test set의 X)\n",
        "temp2 = []\n",
        "for xx, yy in val_set: # val_set에 들어있는 x와 y 추출\n",
        "  temp = xx.tolist() # tensor인 x를 list로 바꾼 후\n",
        "  temp2 += temp # 더하여 list를 합쳐준다. (temp2는 test X들이 들어있는 list가 된다.)\n",
        "X_test = torch.tensor(temp2).reshape(-1,4) # tensor로 변경하고 [n,4] shape으로 변경한다.\n",
        "\n",
        "# y_test (test set의 y)\n",
        "temp2 = []\n",
        "for xx, yy in val_set: # val_set에 들어있는 x와 y 추출\n",
        "  temp = yy.tolist() # tensor인 y를 list로 바꾼 후\n",
        "  temp2 += temp # 더하여 list를 합쳐준다. (temp2는 test Y들이 들어있는 list가 된다.)\n",
        "y_test = torch.tensor(temp2).reshape(-1,1) # tensor로 변경하고 [n,1] shape으로 변경한다."
      ],
      "metadata": {
        "id": "S0P_c6DPFbr4"
      },
      "execution_count": null,
      "outputs": [],
      "id": "S0P_c6DPFbr4"
    },
    {
      "cell_type": "code",
      "source": [
        "print(X_test[:5])\n",
        "print(y_test[:5])"
      ],
      "metadata": {
        "colab": {
          "base_uri": "https://localhost:8080/"
        },
        "outputId": "d2acd3a4-4897-43b0-e0df-43ce7fb07228",
        "id": "tPJlxPOjFbr4"
      },
      "execution_count": null,
      "outputs": [
        {
          "output_type": "stream",
          "name": "stdout",
          "text": [
            "tensor([[ 1.0000, -0.5681, -1.3307, -0.8523],\n",
            "        [ 1.0000,  0.8152, -0.9452, -0.7466],\n",
            "        [ 1.0000,  1.1175, -0.7377, -0.6631],\n",
            "        [ 1.0000,  0.3778, -0.3509, -0.4578],\n",
            "        [ 1.0000,  0.7121,  1.5877,  1.5437]])\n",
            "tensor([[43.5000],\n",
            "        [48.8000],\n",
            "        [23.3000],\n",
            "        [20.5000],\n",
            "        [19.3000]])\n"
          ]
        }
      ],
      "id": "tPJlxPOjFbr4"
    },
    {
      "cell_type": "code",
      "source": [
        "# train MSE\n",
        "y_train_hat_b = model_b(X_train)\n",
        "MSE(y_train_hat_b, y_train)"
      ],
      "metadata": {
        "colab": {
          "base_uri": "https://localhost:8080/"
        },
        "outputId": "79bece5a-8ab1-4d9f-b471-abacf76e00cd",
        "id": "0jVpOBtnFbr4"
      },
      "execution_count": null,
      "outputs": [
        {
          "output_type": "execute_result",
          "data": {
            "text/plain": [
              "tensor(27.6306, grad_fn=<MeanBackward0>)"
            ]
          },
          "metadata": {},
          "execution_count": 379
        }
      ],
      "id": "0jVpOBtnFbr4"
    },
    {
      "cell_type": "code",
      "source": [
        "# test MSE\n",
        "y_test_hat_b = model_b(X_test)\n",
        "MSE(y_test_hat_b, y_test)"
      ],
      "metadata": {
        "colab": {
          "base_uri": "https://localhost:8080/"
        },
        "outputId": "097b0ee8-fd15-4c01-dda4-f9a48021ebb5",
        "id": "NMFZcYgjFbr5"
      },
      "execution_count": null,
      "outputs": [
        {
          "output_type": "execute_result",
          "data": {
            "text/plain": [
              "tensor(29.1005, grad_fn=<MeanBackward0>)"
            ]
          },
          "metadata": {},
          "execution_count": 380
        }
      ],
      "id": "NMFZcYgjFbr5"
    },
    {
      "cell_type": "code",
      "source": [
        "# test MSE (testloader에 저장된 데이터를 이용하는 방법)\n",
        "for x, y in testloader:\n",
        "  yhat = model_b(x)\n",
        "\n",
        "MSE(yhat, y)"
      ],
      "metadata": {
        "colab": {
          "base_uri": "https://localhost:8080/"
        },
        "id": "o3VEUnfWIS-z",
        "outputId": "9f0f53c5-183e-452d-dc6a-4653b6a6fe7a"
      },
      "id": "o3VEUnfWIS-z",
      "execution_count": null,
      "outputs": [
        {
          "output_type": "execute_result",
          "data": {
            "text/plain": [
              "tensor(29.1005, grad_fn=<MeanBackward0>)"
            ]
          },
          "metadata": {},
          "execution_count": 400
        }
      ]
    },
    {
      "cell_type": "markdown",
      "source": [
        "#3. Qualitative predictors"
      ],
      "metadata": {
        "id": "i7OdD-uJ_i1W"
      },
      "id": "i7OdD-uJ_i1W"
    },
    {
      "cell_type": "code",
      "source": [
        "Carseats = load_data('Carseats')\n",
        "Carseats.columns"
      ],
      "metadata": {
        "colab": {
          "base_uri": "https://localhost:8080/",
          "height": 0
        },
        "id": "yh-G68qY-i-t",
        "outputId": "73d3caf4-1df2-4b53-ef7b-21f0761f8af1"
      },
      "execution_count": 5,
      "outputs": [
        {
          "output_type": "execute_result",
          "data": {
            "text/plain": [
              "Index(['Sales', 'CompPrice', 'Income', 'Advertising', 'Population', 'Price',\n",
              "       'ShelveLoc', 'Age', 'Education', 'Urban', 'US'],\n",
              "      dtype='object')"
            ]
          },
          "metadata": {},
          "execution_count": 5
        }
      ],
      "id": "yh-G68qY-i-t"
    },
    {
      "cell_type": "code",
      "source": [
        "Carseats.head(5)"
      ],
      "metadata": {
        "colab": {
          "base_uri": "https://localhost:8080/",
          "height": 226
        },
        "id": "ZnLxIlWT_m_J",
        "outputId": "b9eda620-31bd-4bbe-dba0-8af275656081"
      },
      "execution_count": 6,
      "outputs": [
        {
          "output_type": "execute_result",
          "data": {
            "text/plain": [
              "   Sales  CompPrice  Income  Advertising  Population  Price ShelveLoc  Age  \\\n",
              "0   9.50        138      73           11         276    120       Bad   42   \n",
              "1  11.22        111      48           16         260     83      Good   65   \n",
              "2  10.06        113      35           10         269     80    Medium   59   \n",
              "3   7.40        117     100            4         466     97    Medium   55   \n",
              "4   4.15        141      64            3         340    128       Bad   38   \n",
              "\n",
              "   Education Urban   US  \n",
              "0         17   Yes  Yes  \n",
              "1         10   Yes  Yes  \n",
              "2         12   Yes  Yes  \n",
              "3         14   Yes  Yes  \n",
              "4         13   Yes   No  "
            ],
            "text/html": [
              "\n",
              "  <div id=\"df-16ff8502-c0b4-4020-ba03-4bd1707295f0\" class=\"colab-df-container\">\n",
              "    <div>\n",
              "<style scoped>\n",
              "    .dataframe tbody tr th:only-of-type {\n",
              "        vertical-align: middle;\n",
              "    }\n",
              "\n",
              "    .dataframe tbody tr th {\n",
              "        vertical-align: top;\n",
              "    }\n",
              "\n",
              "    .dataframe thead th {\n",
              "        text-align: right;\n",
              "    }\n",
              "</style>\n",
              "<table border=\"1\" class=\"dataframe\">\n",
              "  <thead>\n",
              "    <tr style=\"text-align: right;\">\n",
              "      <th></th>\n",
              "      <th>Sales</th>\n",
              "      <th>CompPrice</th>\n",
              "      <th>Income</th>\n",
              "      <th>Advertising</th>\n",
              "      <th>Population</th>\n",
              "      <th>Price</th>\n",
              "      <th>ShelveLoc</th>\n",
              "      <th>Age</th>\n",
              "      <th>Education</th>\n",
              "      <th>Urban</th>\n",
              "      <th>US</th>\n",
              "    </tr>\n",
              "  </thead>\n",
              "  <tbody>\n",
              "    <tr>\n",
              "      <th>0</th>\n",
              "      <td>9.50</td>\n",
              "      <td>138</td>\n",
              "      <td>73</td>\n",
              "      <td>11</td>\n",
              "      <td>276</td>\n",
              "      <td>120</td>\n",
              "      <td>Bad</td>\n",
              "      <td>42</td>\n",
              "      <td>17</td>\n",
              "      <td>Yes</td>\n",
              "      <td>Yes</td>\n",
              "    </tr>\n",
              "    <tr>\n",
              "      <th>1</th>\n",
              "      <td>11.22</td>\n",
              "      <td>111</td>\n",
              "      <td>48</td>\n",
              "      <td>16</td>\n",
              "      <td>260</td>\n",
              "      <td>83</td>\n",
              "      <td>Good</td>\n",
              "      <td>65</td>\n",
              "      <td>10</td>\n",
              "      <td>Yes</td>\n",
              "      <td>Yes</td>\n",
              "    </tr>\n",
              "    <tr>\n",
              "      <th>2</th>\n",
              "      <td>10.06</td>\n",
              "      <td>113</td>\n",
              "      <td>35</td>\n",
              "      <td>10</td>\n",
              "      <td>269</td>\n",
              "      <td>80</td>\n",
              "      <td>Medium</td>\n",
              "      <td>59</td>\n",
              "      <td>12</td>\n",
              "      <td>Yes</td>\n",
              "      <td>Yes</td>\n",
              "    </tr>\n",
              "    <tr>\n",
              "      <th>3</th>\n",
              "      <td>7.40</td>\n",
              "      <td>117</td>\n",
              "      <td>100</td>\n",
              "      <td>4</td>\n",
              "      <td>466</td>\n",
              "      <td>97</td>\n",
              "      <td>Medium</td>\n",
              "      <td>55</td>\n",
              "      <td>14</td>\n",
              "      <td>Yes</td>\n",
              "      <td>Yes</td>\n",
              "    </tr>\n",
              "    <tr>\n",
              "      <th>4</th>\n",
              "      <td>4.15</td>\n",
              "      <td>141</td>\n",
              "      <td>64</td>\n",
              "      <td>3</td>\n",
              "      <td>340</td>\n",
              "      <td>128</td>\n",
              "      <td>Bad</td>\n",
              "      <td>38</td>\n",
              "      <td>13</td>\n",
              "      <td>Yes</td>\n",
              "      <td>No</td>\n",
              "    </tr>\n",
              "  </tbody>\n",
              "</table>\n",
              "</div>\n",
              "    <div class=\"colab-df-buttons\">\n",
              "\n",
              "  <div class=\"colab-df-container\">\n",
              "    <button class=\"colab-df-convert\" onclick=\"convertToInteractive('df-16ff8502-c0b4-4020-ba03-4bd1707295f0')\"\n",
              "            title=\"Convert this dataframe to an interactive table.\"\n",
              "            style=\"display:none;\">\n",
              "\n",
              "  <svg xmlns=\"http://www.w3.org/2000/svg\" height=\"24px\" viewBox=\"0 -960 960 960\">\n",
              "    <path d=\"M120-120v-720h720v720H120Zm60-500h600v-160H180v160Zm220 220h160v-160H400v160Zm0 220h160v-160H400v160ZM180-400h160v-160H180v160Zm440 0h160v-160H620v160ZM180-180h160v-160H180v160Zm440 0h160v-160H620v160Z\"/>\n",
              "  </svg>\n",
              "    </button>\n",
              "\n",
              "  <style>\n",
              "    .colab-df-container {\n",
              "      display:flex;\n",
              "      gap: 12px;\n",
              "    }\n",
              "\n",
              "    .colab-df-convert {\n",
              "      background-color: #E8F0FE;\n",
              "      border: none;\n",
              "      border-radius: 50%;\n",
              "      cursor: pointer;\n",
              "      display: none;\n",
              "      fill: #1967D2;\n",
              "      height: 32px;\n",
              "      padding: 0 0 0 0;\n",
              "      width: 32px;\n",
              "    }\n",
              "\n",
              "    .colab-df-convert:hover {\n",
              "      background-color: #E2EBFA;\n",
              "      box-shadow: 0px 1px 2px rgba(60, 64, 67, 0.3), 0px 1px 3px 1px rgba(60, 64, 67, 0.15);\n",
              "      fill: #174EA6;\n",
              "    }\n",
              "\n",
              "    .colab-df-buttons div {\n",
              "      margin-bottom: 4px;\n",
              "    }\n",
              "\n",
              "    [theme=dark] .colab-df-convert {\n",
              "      background-color: #3B4455;\n",
              "      fill: #D2E3FC;\n",
              "    }\n",
              "\n",
              "    [theme=dark] .colab-df-convert:hover {\n",
              "      background-color: #434B5C;\n",
              "      box-shadow: 0px 1px 3px 1px rgba(0, 0, 0, 0.15);\n",
              "      filter: drop-shadow(0px 1px 2px rgba(0, 0, 0, 0.3));\n",
              "      fill: #FFFFFF;\n",
              "    }\n",
              "  </style>\n",
              "\n",
              "    <script>\n",
              "      const buttonEl =\n",
              "        document.querySelector('#df-16ff8502-c0b4-4020-ba03-4bd1707295f0 button.colab-df-convert');\n",
              "      buttonEl.style.display =\n",
              "        google.colab.kernel.accessAllowed ? 'block' : 'none';\n",
              "\n",
              "      async function convertToInteractive(key) {\n",
              "        const element = document.querySelector('#df-16ff8502-c0b4-4020-ba03-4bd1707295f0');\n",
              "        const dataTable =\n",
              "          await google.colab.kernel.invokeFunction('convertToInteractive',\n",
              "                                                    [key], {});\n",
              "        if (!dataTable) return;\n",
              "\n",
              "        const docLinkHtml = 'Like what you see? Visit the ' +\n",
              "          '<a target=\"_blank\" href=https://colab.research.google.com/notebooks/data_table.ipynb>data table notebook</a>'\n",
              "          + ' to learn more about interactive tables.';\n",
              "        element.innerHTML = '';\n",
              "        dataTable['output_type'] = 'display_data';\n",
              "        await google.colab.output.renderOutput(dataTable, element);\n",
              "        const docLink = document.createElement('div');\n",
              "        docLink.innerHTML = docLinkHtml;\n",
              "        element.appendChild(docLink);\n",
              "      }\n",
              "    </script>\n",
              "  </div>\n",
              "\n",
              "\n",
              "<div id=\"df-aaabb0f7-f3ab-4611-9570-b92d027fc0a9\">\n",
              "  <button class=\"colab-df-quickchart\" onclick=\"quickchart('df-aaabb0f7-f3ab-4611-9570-b92d027fc0a9')\"\n",
              "            title=\"Suggest charts.\"\n",
              "            style=\"display:none;\">\n",
              "\n",
              "<svg xmlns=\"http://www.w3.org/2000/svg\" height=\"24px\"viewBox=\"0 0 24 24\"\n",
              "     width=\"24px\">\n",
              "    <g>\n",
              "        <path d=\"M19 3H5c-1.1 0-2 .9-2 2v14c0 1.1.9 2 2 2h14c1.1 0 2-.9 2-2V5c0-1.1-.9-2-2-2zM9 17H7v-7h2v7zm4 0h-2V7h2v10zm4 0h-2v-4h2v4z\"/>\n",
              "    </g>\n",
              "</svg>\n",
              "  </button>\n",
              "\n",
              "<style>\n",
              "  .colab-df-quickchart {\n",
              "      --bg-color: #E8F0FE;\n",
              "      --fill-color: #1967D2;\n",
              "      --hover-bg-color: #E2EBFA;\n",
              "      --hover-fill-color: #174EA6;\n",
              "      --disabled-fill-color: #AAA;\n",
              "      --disabled-bg-color: #DDD;\n",
              "  }\n",
              "\n",
              "  [theme=dark] .colab-df-quickchart {\n",
              "      --bg-color: #3B4455;\n",
              "      --fill-color: #D2E3FC;\n",
              "      --hover-bg-color: #434B5C;\n",
              "      --hover-fill-color: #FFFFFF;\n",
              "      --disabled-bg-color: #3B4455;\n",
              "      --disabled-fill-color: #666;\n",
              "  }\n",
              "\n",
              "  .colab-df-quickchart {\n",
              "    background-color: var(--bg-color);\n",
              "    border: none;\n",
              "    border-radius: 50%;\n",
              "    cursor: pointer;\n",
              "    display: none;\n",
              "    fill: var(--fill-color);\n",
              "    height: 32px;\n",
              "    padding: 0;\n",
              "    width: 32px;\n",
              "  }\n",
              "\n",
              "  .colab-df-quickchart:hover {\n",
              "    background-color: var(--hover-bg-color);\n",
              "    box-shadow: 0 1px 2px rgba(60, 64, 67, 0.3), 0 1px 3px 1px rgba(60, 64, 67, 0.15);\n",
              "    fill: var(--button-hover-fill-color);\n",
              "  }\n",
              "\n",
              "  .colab-df-quickchart-complete:disabled,\n",
              "  .colab-df-quickchart-complete:disabled:hover {\n",
              "    background-color: var(--disabled-bg-color);\n",
              "    fill: var(--disabled-fill-color);\n",
              "    box-shadow: none;\n",
              "  }\n",
              "\n",
              "  .colab-df-spinner {\n",
              "    border: 2px solid var(--fill-color);\n",
              "    border-color: transparent;\n",
              "    border-bottom-color: var(--fill-color);\n",
              "    animation:\n",
              "      spin 1s steps(1) infinite;\n",
              "  }\n",
              "\n",
              "  @keyframes spin {\n",
              "    0% {\n",
              "      border-color: transparent;\n",
              "      border-bottom-color: var(--fill-color);\n",
              "      border-left-color: var(--fill-color);\n",
              "    }\n",
              "    20% {\n",
              "      border-color: transparent;\n",
              "      border-left-color: var(--fill-color);\n",
              "      border-top-color: var(--fill-color);\n",
              "    }\n",
              "    30% {\n",
              "      border-color: transparent;\n",
              "      border-left-color: var(--fill-color);\n",
              "      border-top-color: var(--fill-color);\n",
              "      border-right-color: var(--fill-color);\n",
              "    }\n",
              "    40% {\n",
              "      border-color: transparent;\n",
              "      border-right-color: var(--fill-color);\n",
              "      border-top-color: var(--fill-color);\n",
              "    }\n",
              "    60% {\n",
              "      border-color: transparent;\n",
              "      border-right-color: var(--fill-color);\n",
              "    }\n",
              "    80% {\n",
              "      border-color: transparent;\n",
              "      border-right-color: var(--fill-color);\n",
              "      border-bottom-color: var(--fill-color);\n",
              "    }\n",
              "    90% {\n",
              "      border-color: transparent;\n",
              "      border-bottom-color: var(--fill-color);\n",
              "    }\n",
              "  }\n",
              "</style>\n",
              "\n",
              "  <script>\n",
              "    async function quickchart(key) {\n",
              "      const quickchartButtonEl =\n",
              "        document.querySelector('#' + key + ' button');\n",
              "      quickchartButtonEl.disabled = true;  // To prevent multiple clicks.\n",
              "      quickchartButtonEl.classList.add('colab-df-spinner');\n",
              "      try {\n",
              "        const charts = await google.colab.kernel.invokeFunction(\n",
              "            'suggestCharts', [key], {});\n",
              "      } catch (error) {\n",
              "        console.error('Error during call to suggestCharts:', error);\n",
              "      }\n",
              "      quickchartButtonEl.classList.remove('colab-df-spinner');\n",
              "      quickchartButtonEl.classList.add('colab-df-quickchart-complete');\n",
              "    }\n",
              "    (() => {\n",
              "      let quickchartButtonEl =\n",
              "        document.querySelector('#df-aaabb0f7-f3ab-4611-9570-b92d027fc0a9 button');\n",
              "      quickchartButtonEl.style.display =\n",
              "        google.colab.kernel.accessAllowed ? 'block' : 'none';\n",
              "    })();\n",
              "  </script>\n",
              "</div>\n",
              "    </div>\n",
              "  </div>\n"
            ]
          },
          "metadata": {},
          "execution_count": 6
        }
      ],
      "id": "ZnLxIlWT_m_J"
    },
    {
      "cell_type": "code",
      "source": [
        "my_vars = list(Carseats.columns.drop('Sales'))\n",
        "y = Carseats['Sales']\n",
        "X = MS([\"Advertising\", \"ShelveLoc\"]).fit_transform(Carseats)\n",
        "X"
      ],
      "metadata": {
        "colab": {
          "base_uri": "https://localhost:8080/",
          "height": 423
        },
        "id": "7G75oAh3T8Id",
        "outputId": "6e9c1537-e396-4adb-e1c8-e3ce284ab8ec"
      },
      "id": "7G75oAh3T8Id",
      "execution_count": 7,
      "outputs": [
        {
          "output_type": "execute_result",
          "data": {
            "text/plain": [
              "     intercept  Advertising  ShelveLoc[Good]  ShelveLoc[Medium]\n",
              "0          1.0           11              0.0                0.0\n",
              "1          1.0           16              1.0                0.0\n",
              "2          1.0           10              0.0                1.0\n",
              "3          1.0            4              0.0                1.0\n",
              "4          1.0            3              0.0                0.0\n",
              "..         ...          ...              ...                ...\n",
              "395        1.0           17              1.0                0.0\n",
              "396        1.0            3              0.0                1.0\n",
              "397        1.0           12              0.0                1.0\n",
              "398        1.0            7              0.0                0.0\n",
              "399        1.0            0              1.0                0.0\n",
              "\n",
              "[400 rows x 4 columns]"
            ],
            "text/html": [
              "\n",
              "  <div id=\"df-0403d683-0bf0-4a8e-8b37-3dff7198b5fe\" class=\"colab-df-container\">\n",
              "    <div>\n",
              "<style scoped>\n",
              "    .dataframe tbody tr th:only-of-type {\n",
              "        vertical-align: middle;\n",
              "    }\n",
              "\n",
              "    .dataframe tbody tr th {\n",
              "        vertical-align: top;\n",
              "    }\n",
              "\n",
              "    .dataframe thead th {\n",
              "        text-align: right;\n",
              "    }\n",
              "</style>\n",
              "<table border=\"1\" class=\"dataframe\">\n",
              "  <thead>\n",
              "    <tr style=\"text-align: right;\">\n",
              "      <th></th>\n",
              "      <th>intercept</th>\n",
              "      <th>Advertising</th>\n",
              "      <th>ShelveLoc[Good]</th>\n",
              "      <th>ShelveLoc[Medium]</th>\n",
              "    </tr>\n",
              "  </thead>\n",
              "  <tbody>\n",
              "    <tr>\n",
              "      <th>0</th>\n",
              "      <td>1.0</td>\n",
              "      <td>11</td>\n",
              "      <td>0.0</td>\n",
              "      <td>0.0</td>\n",
              "    </tr>\n",
              "    <tr>\n",
              "      <th>1</th>\n",
              "      <td>1.0</td>\n",
              "      <td>16</td>\n",
              "      <td>1.0</td>\n",
              "      <td>0.0</td>\n",
              "    </tr>\n",
              "    <tr>\n",
              "      <th>2</th>\n",
              "      <td>1.0</td>\n",
              "      <td>10</td>\n",
              "      <td>0.0</td>\n",
              "      <td>1.0</td>\n",
              "    </tr>\n",
              "    <tr>\n",
              "      <th>3</th>\n",
              "      <td>1.0</td>\n",
              "      <td>4</td>\n",
              "      <td>0.0</td>\n",
              "      <td>1.0</td>\n",
              "    </tr>\n",
              "    <tr>\n",
              "      <th>4</th>\n",
              "      <td>1.0</td>\n",
              "      <td>3</td>\n",
              "      <td>0.0</td>\n",
              "      <td>0.0</td>\n",
              "    </tr>\n",
              "    <tr>\n",
              "      <th>...</th>\n",
              "      <td>...</td>\n",
              "      <td>...</td>\n",
              "      <td>...</td>\n",
              "      <td>...</td>\n",
              "    </tr>\n",
              "    <tr>\n",
              "      <th>395</th>\n",
              "      <td>1.0</td>\n",
              "      <td>17</td>\n",
              "      <td>1.0</td>\n",
              "      <td>0.0</td>\n",
              "    </tr>\n",
              "    <tr>\n",
              "      <th>396</th>\n",
              "      <td>1.0</td>\n",
              "      <td>3</td>\n",
              "      <td>0.0</td>\n",
              "      <td>1.0</td>\n",
              "    </tr>\n",
              "    <tr>\n",
              "      <th>397</th>\n",
              "      <td>1.0</td>\n",
              "      <td>12</td>\n",
              "      <td>0.0</td>\n",
              "      <td>1.0</td>\n",
              "    </tr>\n",
              "    <tr>\n",
              "      <th>398</th>\n",
              "      <td>1.0</td>\n",
              "      <td>7</td>\n",
              "      <td>0.0</td>\n",
              "      <td>0.0</td>\n",
              "    </tr>\n",
              "    <tr>\n",
              "      <th>399</th>\n",
              "      <td>1.0</td>\n",
              "      <td>0</td>\n",
              "      <td>1.0</td>\n",
              "      <td>0.0</td>\n",
              "    </tr>\n",
              "  </tbody>\n",
              "</table>\n",
              "<p>400 rows × 4 columns</p>\n",
              "</div>\n",
              "    <div class=\"colab-df-buttons\">\n",
              "\n",
              "  <div class=\"colab-df-container\">\n",
              "    <button class=\"colab-df-convert\" onclick=\"convertToInteractive('df-0403d683-0bf0-4a8e-8b37-3dff7198b5fe')\"\n",
              "            title=\"Convert this dataframe to an interactive table.\"\n",
              "            style=\"display:none;\">\n",
              "\n",
              "  <svg xmlns=\"http://www.w3.org/2000/svg\" height=\"24px\" viewBox=\"0 -960 960 960\">\n",
              "    <path d=\"M120-120v-720h720v720H120Zm60-500h600v-160H180v160Zm220 220h160v-160H400v160Zm0 220h160v-160H400v160ZM180-400h160v-160H180v160Zm440 0h160v-160H620v160ZM180-180h160v-160H180v160Zm440 0h160v-160H620v160Z\"/>\n",
              "  </svg>\n",
              "    </button>\n",
              "\n",
              "  <style>\n",
              "    .colab-df-container {\n",
              "      display:flex;\n",
              "      gap: 12px;\n",
              "    }\n",
              "\n",
              "    .colab-df-convert {\n",
              "      background-color: #E8F0FE;\n",
              "      border: none;\n",
              "      border-radius: 50%;\n",
              "      cursor: pointer;\n",
              "      display: none;\n",
              "      fill: #1967D2;\n",
              "      height: 32px;\n",
              "      padding: 0 0 0 0;\n",
              "      width: 32px;\n",
              "    }\n",
              "\n",
              "    .colab-df-convert:hover {\n",
              "      background-color: #E2EBFA;\n",
              "      box-shadow: 0px 1px 2px rgba(60, 64, 67, 0.3), 0px 1px 3px 1px rgba(60, 64, 67, 0.15);\n",
              "      fill: #174EA6;\n",
              "    }\n",
              "\n",
              "    .colab-df-buttons div {\n",
              "      margin-bottom: 4px;\n",
              "    }\n",
              "\n",
              "    [theme=dark] .colab-df-convert {\n",
              "      background-color: #3B4455;\n",
              "      fill: #D2E3FC;\n",
              "    }\n",
              "\n",
              "    [theme=dark] .colab-df-convert:hover {\n",
              "      background-color: #434B5C;\n",
              "      box-shadow: 0px 1px 3px 1px rgba(0, 0, 0, 0.15);\n",
              "      filter: drop-shadow(0px 1px 2px rgba(0, 0, 0, 0.3));\n",
              "      fill: #FFFFFF;\n",
              "    }\n",
              "  </style>\n",
              "\n",
              "    <script>\n",
              "      const buttonEl =\n",
              "        document.querySelector('#df-0403d683-0bf0-4a8e-8b37-3dff7198b5fe button.colab-df-convert');\n",
              "      buttonEl.style.display =\n",
              "        google.colab.kernel.accessAllowed ? 'block' : 'none';\n",
              "\n",
              "      async function convertToInteractive(key) {\n",
              "        const element = document.querySelector('#df-0403d683-0bf0-4a8e-8b37-3dff7198b5fe');\n",
              "        const dataTable =\n",
              "          await google.colab.kernel.invokeFunction('convertToInteractive',\n",
              "                                                    [key], {});\n",
              "        if (!dataTable) return;\n",
              "\n",
              "        const docLinkHtml = 'Like what you see? Visit the ' +\n",
              "          '<a target=\"_blank\" href=https://colab.research.google.com/notebooks/data_table.ipynb>data table notebook</a>'\n",
              "          + ' to learn more about interactive tables.';\n",
              "        element.innerHTML = '';\n",
              "        dataTable['output_type'] = 'display_data';\n",
              "        await google.colab.output.renderOutput(dataTable, element);\n",
              "        const docLink = document.createElement('div');\n",
              "        docLink.innerHTML = docLinkHtml;\n",
              "        element.appendChild(docLink);\n",
              "      }\n",
              "    </script>\n",
              "  </div>\n",
              "\n",
              "\n",
              "<div id=\"df-4599de24-b037-4d50-b995-136830f76107\">\n",
              "  <button class=\"colab-df-quickchart\" onclick=\"quickchart('df-4599de24-b037-4d50-b995-136830f76107')\"\n",
              "            title=\"Suggest charts.\"\n",
              "            style=\"display:none;\">\n",
              "\n",
              "<svg xmlns=\"http://www.w3.org/2000/svg\" height=\"24px\"viewBox=\"0 0 24 24\"\n",
              "     width=\"24px\">\n",
              "    <g>\n",
              "        <path d=\"M19 3H5c-1.1 0-2 .9-2 2v14c0 1.1.9 2 2 2h14c1.1 0 2-.9 2-2V5c0-1.1-.9-2-2-2zM9 17H7v-7h2v7zm4 0h-2V7h2v10zm4 0h-2v-4h2v4z\"/>\n",
              "    </g>\n",
              "</svg>\n",
              "  </button>\n",
              "\n",
              "<style>\n",
              "  .colab-df-quickchart {\n",
              "      --bg-color: #E8F0FE;\n",
              "      --fill-color: #1967D2;\n",
              "      --hover-bg-color: #E2EBFA;\n",
              "      --hover-fill-color: #174EA6;\n",
              "      --disabled-fill-color: #AAA;\n",
              "      --disabled-bg-color: #DDD;\n",
              "  }\n",
              "\n",
              "  [theme=dark] .colab-df-quickchart {\n",
              "      --bg-color: #3B4455;\n",
              "      --fill-color: #D2E3FC;\n",
              "      --hover-bg-color: #434B5C;\n",
              "      --hover-fill-color: #FFFFFF;\n",
              "      --disabled-bg-color: #3B4455;\n",
              "      --disabled-fill-color: #666;\n",
              "  }\n",
              "\n",
              "  .colab-df-quickchart {\n",
              "    background-color: var(--bg-color);\n",
              "    border: none;\n",
              "    border-radius: 50%;\n",
              "    cursor: pointer;\n",
              "    display: none;\n",
              "    fill: var(--fill-color);\n",
              "    height: 32px;\n",
              "    padding: 0;\n",
              "    width: 32px;\n",
              "  }\n",
              "\n",
              "  .colab-df-quickchart:hover {\n",
              "    background-color: var(--hover-bg-color);\n",
              "    box-shadow: 0 1px 2px rgba(60, 64, 67, 0.3), 0 1px 3px 1px rgba(60, 64, 67, 0.15);\n",
              "    fill: var(--button-hover-fill-color);\n",
              "  }\n",
              "\n",
              "  .colab-df-quickchart-complete:disabled,\n",
              "  .colab-df-quickchart-complete:disabled:hover {\n",
              "    background-color: var(--disabled-bg-color);\n",
              "    fill: var(--disabled-fill-color);\n",
              "    box-shadow: none;\n",
              "  }\n",
              "\n",
              "  .colab-df-spinner {\n",
              "    border: 2px solid var(--fill-color);\n",
              "    border-color: transparent;\n",
              "    border-bottom-color: var(--fill-color);\n",
              "    animation:\n",
              "      spin 1s steps(1) infinite;\n",
              "  }\n",
              "\n",
              "  @keyframes spin {\n",
              "    0% {\n",
              "      border-color: transparent;\n",
              "      border-bottom-color: var(--fill-color);\n",
              "      border-left-color: var(--fill-color);\n",
              "    }\n",
              "    20% {\n",
              "      border-color: transparent;\n",
              "      border-left-color: var(--fill-color);\n",
              "      border-top-color: var(--fill-color);\n",
              "    }\n",
              "    30% {\n",
              "      border-color: transparent;\n",
              "      border-left-color: var(--fill-color);\n",
              "      border-top-color: var(--fill-color);\n",
              "      border-right-color: var(--fill-color);\n",
              "    }\n",
              "    40% {\n",
              "      border-color: transparent;\n",
              "      border-right-color: var(--fill-color);\n",
              "      border-top-color: var(--fill-color);\n",
              "    }\n",
              "    60% {\n",
              "      border-color: transparent;\n",
              "      border-right-color: var(--fill-color);\n",
              "    }\n",
              "    80% {\n",
              "      border-color: transparent;\n",
              "      border-right-color: var(--fill-color);\n",
              "      border-bottom-color: var(--fill-color);\n",
              "    }\n",
              "    90% {\n",
              "      border-color: transparent;\n",
              "      border-bottom-color: var(--fill-color);\n",
              "    }\n",
              "  }\n",
              "</style>\n",
              "\n",
              "  <script>\n",
              "    async function quickchart(key) {\n",
              "      const quickchartButtonEl =\n",
              "        document.querySelector('#' + key + ' button');\n",
              "      quickchartButtonEl.disabled = true;  // To prevent multiple clicks.\n",
              "      quickchartButtonEl.classList.add('colab-df-spinner');\n",
              "      try {\n",
              "        const charts = await google.colab.kernel.invokeFunction(\n",
              "            'suggestCharts', [key], {});\n",
              "      } catch (error) {\n",
              "        console.error('Error during call to suggestCharts:', error);\n",
              "      }\n",
              "      quickchartButtonEl.classList.remove('colab-df-spinner');\n",
              "      quickchartButtonEl.classList.add('colab-df-quickchart-complete');\n",
              "    }\n",
              "    (() => {\n",
              "      let quickchartButtonEl =\n",
              "        document.querySelector('#df-4599de24-b037-4d50-b995-136830f76107 button');\n",
              "      quickchartButtonEl.style.display =\n",
              "        google.colab.kernel.accessAllowed ? 'block' : 'none';\n",
              "    })();\n",
              "  </script>\n",
              "</div>\n",
              "    </div>\n",
              "  </div>\n"
            ]
          },
          "metadata": {},
          "execution_count": 7
        }
      ]
    },
    {
      "cell_type": "code",
      "source": [
        "adv_mean = np.mean(X[\"Advertising\"])\n",
        "adv_std = np.std(X[\"Advertising\"])\n",
        "\n",
        "X[\"Advertising\"] = ( X[\"Advertising\"]- adv_mean) / adv_std\n"
      ],
      "metadata": {
        "id": "gmLNDTaIWRyj"
      },
      "id": "gmLNDTaIWRyj",
      "execution_count": 8,
      "outputs": []
    },
    {
      "cell_type": "code",
      "source": [
        "X"
      ],
      "metadata": {
        "id": "9DukypgBWb23",
        "colab": {
          "base_uri": "https://localhost:8080/",
          "height": 423
        },
        "outputId": "865255de-1452-46ef-9032-2a3f680d01c1"
      },
      "id": "9DukypgBWb23",
      "execution_count": 9,
      "outputs": [
        {
          "output_type": "execute_result",
          "data": {
            "text/plain": [
              "     intercept  Advertising  ShelveLoc[Good]  ShelveLoc[Medium]\n",
              "0          1.0     0.657177              0.0                0.0\n",
              "1          1.0     1.409957              1.0                0.0\n",
              "2          1.0     0.506621              0.0                1.0\n",
              "3          1.0    -0.396715              0.0                1.0\n",
              "4          1.0    -0.547271              0.0                0.0\n",
              "..         ...          ...              ...                ...\n",
              "395        1.0     1.560513              1.0                0.0\n",
              "396        1.0    -0.547271              0.0                1.0\n",
              "397        1.0     0.807733              0.0                1.0\n",
              "398        1.0     0.054953              0.0                0.0\n",
              "399        1.0    -0.998939              1.0                0.0\n",
              "\n",
              "[400 rows x 4 columns]"
            ],
            "text/html": [
              "\n",
              "  <div id=\"df-b057664c-e034-49fd-a0f9-e2da5d3debc8\" class=\"colab-df-container\">\n",
              "    <div>\n",
              "<style scoped>\n",
              "    .dataframe tbody tr th:only-of-type {\n",
              "        vertical-align: middle;\n",
              "    }\n",
              "\n",
              "    .dataframe tbody tr th {\n",
              "        vertical-align: top;\n",
              "    }\n",
              "\n",
              "    .dataframe thead th {\n",
              "        text-align: right;\n",
              "    }\n",
              "</style>\n",
              "<table border=\"1\" class=\"dataframe\">\n",
              "  <thead>\n",
              "    <tr style=\"text-align: right;\">\n",
              "      <th></th>\n",
              "      <th>intercept</th>\n",
              "      <th>Advertising</th>\n",
              "      <th>ShelveLoc[Good]</th>\n",
              "      <th>ShelveLoc[Medium]</th>\n",
              "    </tr>\n",
              "  </thead>\n",
              "  <tbody>\n",
              "    <tr>\n",
              "      <th>0</th>\n",
              "      <td>1.0</td>\n",
              "      <td>0.657177</td>\n",
              "      <td>0.0</td>\n",
              "      <td>0.0</td>\n",
              "    </tr>\n",
              "    <tr>\n",
              "      <th>1</th>\n",
              "      <td>1.0</td>\n",
              "      <td>1.409957</td>\n",
              "      <td>1.0</td>\n",
              "      <td>0.0</td>\n",
              "    </tr>\n",
              "    <tr>\n",
              "      <th>2</th>\n",
              "      <td>1.0</td>\n",
              "      <td>0.506621</td>\n",
              "      <td>0.0</td>\n",
              "      <td>1.0</td>\n",
              "    </tr>\n",
              "    <tr>\n",
              "      <th>3</th>\n",
              "      <td>1.0</td>\n",
              "      <td>-0.396715</td>\n",
              "      <td>0.0</td>\n",
              "      <td>1.0</td>\n",
              "    </tr>\n",
              "    <tr>\n",
              "      <th>4</th>\n",
              "      <td>1.0</td>\n",
              "      <td>-0.547271</td>\n",
              "      <td>0.0</td>\n",
              "      <td>0.0</td>\n",
              "    </tr>\n",
              "    <tr>\n",
              "      <th>...</th>\n",
              "      <td>...</td>\n",
              "      <td>...</td>\n",
              "      <td>...</td>\n",
              "      <td>...</td>\n",
              "    </tr>\n",
              "    <tr>\n",
              "      <th>395</th>\n",
              "      <td>1.0</td>\n",
              "      <td>1.560513</td>\n",
              "      <td>1.0</td>\n",
              "      <td>0.0</td>\n",
              "    </tr>\n",
              "    <tr>\n",
              "      <th>396</th>\n",
              "      <td>1.0</td>\n",
              "      <td>-0.547271</td>\n",
              "      <td>0.0</td>\n",
              "      <td>1.0</td>\n",
              "    </tr>\n",
              "    <tr>\n",
              "      <th>397</th>\n",
              "      <td>1.0</td>\n",
              "      <td>0.807733</td>\n",
              "      <td>0.0</td>\n",
              "      <td>1.0</td>\n",
              "    </tr>\n",
              "    <tr>\n",
              "      <th>398</th>\n",
              "      <td>1.0</td>\n",
              "      <td>0.054953</td>\n",
              "      <td>0.0</td>\n",
              "      <td>0.0</td>\n",
              "    </tr>\n",
              "    <tr>\n",
              "      <th>399</th>\n",
              "      <td>1.0</td>\n",
              "      <td>-0.998939</td>\n",
              "      <td>1.0</td>\n",
              "      <td>0.0</td>\n",
              "    </tr>\n",
              "  </tbody>\n",
              "</table>\n",
              "<p>400 rows × 4 columns</p>\n",
              "</div>\n",
              "    <div class=\"colab-df-buttons\">\n",
              "\n",
              "  <div class=\"colab-df-container\">\n",
              "    <button class=\"colab-df-convert\" onclick=\"convertToInteractive('df-b057664c-e034-49fd-a0f9-e2da5d3debc8')\"\n",
              "            title=\"Convert this dataframe to an interactive table.\"\n",
              "            style=\"display:none;\">\n",
              "\n",
              "  <svg xmlns=\"http://www.w3.org/2000/svg\" height=\"24px\" viewBox=\"0 -960 960 960\">\n",
              "    <path d=\"M120-120v-720h720v720H120Zm60-500h600v-160H180v160Zm220 220h160v-160H400v160Zm0 220h160v-160H400v160ZM180-400h160v-160H180v160Zm440 0h160v-160H620v160ZM180-180h160v-160H180v160Zm440 0h160v-160H620v160Z\"/>\n",
              "  </svg>\n",
              "    </button>\n",
              "\n",
              "  <style>\n",
              "    .colab-df-container {\n",
              "      display:flex;\n",
              "      gap: 12px;\n",
              "    }\n",
              "\n",
              "    .colab-df-convert {\n",
              "      background-color: #E8F0FE;\n",
              "      border: none;\n",
              "      border-radius: 50%;\n",
              "      cursor: pointer;\n",
              "      display: none;\n",
              "      fill: #1967D2;\n",
              "      height: 32px;\n",
              "      padding: 0 0 0 0;\n",
              "      width: 32px;\n",
              "    }\n",
              "\n",
              "    .colab-df-convert:hover {\n",
              "      background-color: #E2EBFA;\n",
              "      box-shadow: 0px 1px 2px rgba(60, 64, 67, 0.3), 0px 1px 3px 1px rgba(60, 64, 67, 0.15);\n",
              "      fill: #174EA6;\n",
              "    }\n",
              "\n",
              "    .colab-df-buttons div {\n",
              "      margin-bottom: 4px;\n",
              "    }\n",
              "\n",
              "    [theme=dark] .colab-df-convert {\n",
              "      background-color: #3B4455;\n",
              "      fill: #D2E3FC;\n",
              "    }\n",
              "\n",
              "    [theme=dark] .colab-df-convert:hover {\n",
              "      background-color: #434B5C;\n",
              "      box-shadow: 0px 1px 3px 1px rgba(0, 0, 0, 0.15);\n",
              "      filter: drop-shadow(0px 1px 2px rgba(0, 0, 0, 0.3));\n",
              "      fill: #FFFFFF;\n",
              "    }\n",
              "  </style>\n",
              "\n",
              "    <script>\n",
              "      const buttonEl =\n",
              "        document.querySelector('#df-b057664c-e034-49fd-a0f9-e2da5d3debc8 button.colab-df-convert');\n",
              "      buttonEl.style.display =\n",
              "        google.colab.kernel.accessAllowed ? 'block' : 'none';\n",
              "\n",
              "      async function convertToInteractive(key) {\n",
              "        const element = document.querySelector('#df-b057664c-e034-49fd-a0f9-e2da5d3debc8');\n",
              "        const dataTable =\n",
              "          await google.colab.kernel.invokeFunction('convertToInteractive',\n",
              "                                                    [key], {});\n",
              "        if (!dataTable) return;\n",
              "\n",
              "        const docLinkHtml = 'Like what you see? Visit the ' +\n",
              "          '<a target=\"_blank\" href=https://colab.research.google.com/notebooks/data_table.ipynb>data table notebook</a>'\n",
              "          + ' to learn more about interactive tables.';\n",
              "        element.innerHTML = '';\n",
              "        dataTable['output_type'] = 'display_data';\n",
              "        await google.colab.output.renderOutput(dataTable, element);\n",
              "        const docLink = document.createElement('div');\n",
              "        docLink.innerHTML = docLinkHtml;\n",
              "        element.appendChild(docLink);\n",
              "      }\n",
              "    </script>\n",
              "  </div>\n",
              "\n",
              "\n",
              "<div id=\"df-df54be29-5825-4e46-8a88-e68dfadd2ad9\">\n",
              "  <button class=\"colab-df-quickchart\" onclick=\"quickchart('df-df54be29-5825-4e46-8a88-e68dfadd2ad9')\"\n",
              "            title=\"Suggest charts.\"\n",
              "            style=\"display:none;\">\n",
              "\n",
              "<svg xmlns=\"http://www.w3.org/2000/svg\" height=\"24px\"viewBox=\"0 0 24 24\"\n",
              "     width=\"24px\">\n",
              "    <g>\n",
              "        <path d=\"M19 3H5c-1.1 0-2 .9-2 2v14c0 1.1.9 2 2 2h14c1.1 0 2-.9 2-2V5c0-1.1-.9-2-2-2zM9 17H7v-7h2v7zm4 0h-2V7h2v10zm4 0h-2v-4h2v4z\"/>\n",
              "    </g>\n",
              "</svg>\n",
              "  </button>\n",
              "\n",
              "<style>\n",
              "  .colab-df-quickchart {\n",
              "      --bg-color: #E8F0FE;\n",
              "      --fill-color: #1967D2;\n",
              "      --hover-bg-color: #E2EBFA;\n",
              "      --hover-fill-color: #174EA6;\n",
              "      --disabled-fill-color: #AAA;\n",
              "      --disabled-bg-color: #DDD;\n",
              "  }\n",
              "\n",
              "  [theme=dark] .colab-df-quickchart {\n",
              "      --bg-color: #3B4455;\n",
              "      --fill-color: #D2E3FC;\n",
              "      --hover-bg-color: #434B5C;\n",
              "      --hover-fill-color: #FFFFFF;\n",
              "      --disabled-bg-color: #3B4455;\n",
              "      --disabled-fill-color: #666;\n",
              "  }\n",
              "\n",
              "  .colab-df-quickchart {\n",
              "    background-color: var(--bg-color);\n",
              "    border: none;\n",
              "    border-radius: 50%;\n",
              "    cursor: pointer;\n",
              "    display: none;\n",
              "    fill: var(--fill-color);\n",
              "    height: 32px;\n",
              "    padding: 0;\n",
              "    width: 32px;\n",
              "  }\n",
              "\n",
              "  .colab-df-quickchart:hover {\n",
              "    background-color: var(--hover-bg-color);\n",
              "    box-shadow: 0 1px 2px rgba(60, 64, 67, 0.3), 0 1px 3px 1px rgba(60, 64, 67, 0.15);\n",
              "    fill: var(--button-hover-fill-color);\n",
              "  }\n",
              "\n",
              "  .colab-df-quickchart-complete:disabled,\n",
              "  .colab-df-quickchart-complete:disabled:hover {\n",
              "    background-color: var(--disabled-bg-color);\n",
              "    fill: var(--disabled-fill-color);\n",
              "    box-shadow: none;\n",
              "  }\n",
              "\n",
              "  .colab-df-spinner {\n",
              "    border: 2px solid var(--fill-color);\n",
              "    border-color: transparent;\n",
              "    border-bottom-color: var(--fill-color);\n",
              "    animation:\n",
              "      spin 1s steps(1) infinite;\n",
              "  }\n",
              "\n",
              "  @keyframes spin {\n",
              "    0% {\n",
              "      border-color: transparent;\n",
              "      border-bottom-color: var(--fill-color);\n",
              "      border-left-color: var(--fill-color);\n",
              "    }\n",
              "    20% {\n",
              "      border-color: transparent;\n",
              "      border-left-color: var(--fill-color);\n",
              "      border-top-color: var(--fill-color);\n",
              "    }\n",
              "    30% {\n",
              "      border-color: transparent;\n",
              "      border-left-color: var(--fill-color);\n",
              "      border-top-color: var(--fill-color);\n",
              "      border-right-color: var(--fill-color);\n",
              "    }\n",
              "    40% {\n",
              "      border-color: transparent;\n",
              "      border-right-color: var(--fill-color);\n",
              "      border-top-color: var(--fill-color);\n",
              "    }\n",
              "    60% {\n",
              "      border-color: transparent;\n",
              "      border-right-color: var(--fill-color);\n",
              "    }\n",
              "    80% {\n",
              "      border-color: transparent;\n",
              "      border-right-color: var(--fill-color);\n",
              "      border-bottom-color: var(--fill-color);\n",
              "    }\n",
              "    90% {\n",
              "      border-color: transparent;\n",
              "      border-bottom-color: var(--fill-color);\n",
              "    }\n",
              "  }\n",
              "</style>\n",
              "\n",
              "  <script>\n",
              "    async function quickchart(key) {\n",
              "      const quickchartButtonEl =\n",
              "        document.querySelector('#' + key + ' button');\n",
              "      quickchartButtonEl.disabled = true;  // To prevent multiple clicks.\n",
              "      quickchartButtonEl.classList.add('colab-df-spinner');\n",
              "      try {\n",
              "        const charts = await google.colab.kernel.invokeFunction(\n",
              "            'suggestCharts', [key], {});\n",
              "      } catch (error) {\n",
              "        console.error('Error during call to suggestCharts:', error);\n",
              "      }\n",
              "      quickchartButtonEl.classList.remove('colab-df-spinner');\n",
              "      quickchartButtonEl.classList.add('colab-df-quickchart-complete');\n",
              "    }\n",
              "    (() => {\n",
              "      let quickchartButtonEl =\n",
              "        document.querySelector('#df-df54be29-5825-4e46-8a88-e68dfadd2ad9 button');\n",
              "      quickchartButtonEl.style.display =\n",
              "        google.colab.kernel.accessAllowed ? 'block' : 'none';\n",
              "    })();\n",
              "  </script>\n",
              "</div>\n",
              "    </div>\n",
              "  </div>\n"
            ]
          },
          "metadata": {},
          "execution_count": 9
        }
      ]
    },
    {
      "cell_type": "markdown",
      "source": [
        "The similar design matrix can be obtained from the following code:\n",
        "\n",
        "```\n",
        "ones = np.ones(Carseats.shape[0])\n",
        "X = np.stack([ones, Carseats[\"Advertising\"], Carseats[\"ShelveLoc\"]], axis=1)\n",
        "X.shape\n",
        "X\n",
        "\n",
        "my_dummy = pd.get_dummies(Carseats.ShelveLoc)\n",
        "my_dummy\n",
        "\n",
        "X = np.stack([ones, Carseats[\"Advertising\"], my_dummy[\"Bad\"], my_dummy[\"Good\"]], axis=1)\n",
        "X.shape\n",
        "X\n",
        "\n",
        "```"
      ],
      "metadata": {
        "id": "MpkcFYDgWcw8"
      },
      "id": "MpkcFYDgWcw8"
    },
    {
      "cell_type": "code",
      "source": [
        "\n",
        "model = sm.OLS(y, X)\n",
        "results = model.fit()\n",
        "summarize(results)"
      ],
      "metadata": {
        "colab": {
          "base_uri": "https://localhost:8080/",
          "height": 175
        },
        "id": "-JUJ10jDCCgJ",
        "outputId": "1d419477-64fd-4af9-a01a-8dfe78c150b2"
      },
      "execution_count": null,
      "outputs": [
        {
          "output_type": "execute_result",
          "data": {
            "text/plain": [
              "                     coef  std err       t  P>|t|\n",
              "intercept          5.5648    0.229  24.284    0.0\n",
              "Advertising        0.6689    0.112   5.951    0.0\n",
              "ShelveLoc[Good]    4.5769    0.335  13.671    0.0\n",
              "ShelveLoc[Medium]  1.7514    0.275   6.375    0.0"
            ],
            "text/html": [
              "\n",
              "  <div id=\"df-22af27be-9fc8-47e0-bf3a-53e35271c41f\" class=\"colab-df-container\">\n",
              "    <div>\n",
              "<style scoped>\n",
              "    .dataframe tbody tr th:only-of-type {\n",
              "        vertical-align: middle;\n",
              "    }\n",
              "\n",
              "    .dataframe tbody tr th {\n",
              "        vertical-align: top;\n",
              "    }\n",
              "\n",
              "    .dataframe thead th {\n",
              "        text-align: right;\n",
              "    }\n",
              "</style>\n",
              "<table border=\"1\" class=\"dataframe\">\n",
              "  <thead>\n",
              "    <tr style=\"text-align: right;\">\n",
              "      <th></th>\n",
              "      <th>coef</th>\n",
              "      <th>std err</th>\n",
              "      <th>t</th>\n",
              "      <th>P&gt;|t|</th>\n",
              "    </tr>\n",
              "  </thead>\n",
              "  <tbody>\n",
              "    <tr>\n",
              "      <th>intercept</th>\n",
              "      <td>5.5648</td>\n",
              "      <td>0.229</td>\n",
              "      <td>24.284</td>\n",
              "      <td>0.0</td>\n",
              "    </tr>\n",
              "    <tr>\n",
              "      <th>Advertising</th>\n",
              "      <td>0.6689</td>\n",
              "      <td>0.112</td>\n",
              "      <td>5.951</td>\n",
              "      <td>0.0</td>\n",
              "    </tr>\n",
              "    <tr>\n",
              "      <th>ShelveLoc[Good]</th>\n",
              "      <td>4.5769</td>\n",
              "      <td>0.335</td>\n",
              "      <td>13.671</td>\n",
              "      <td>0.0</td>\n",
              "    </tr>\n",
              "    <tr>\n",
              "      <th>ShelveLoc[Medium]</th>\n",
              "      <td>1.7514</td>\n",
              "      <td>0.275</td>\n",
              "      <td>6.375</td>\n",
              "      <td>0.0</td>\n",
              "    </tr>\n",
              "  </tbody>\n",
              "</table>\n",
              "</div>\n",
              "    <div class=\"colab-df-buttons\">\n",
              "\n",
              "  <div class=\"colab-df-container\">\n",
              "    <button class=\"colab-df-convert\" onclick=\"convertToInteractive('df-22af27be-9fc8-47e0-bf3a-53e35271c41f')\"\n",
              "            title=\"Convert this dataframe to an interactive table.\"\n",
              "            style=\"display:none;\">\n",
              "\n",
              "  <svg xmlns=\"http://www.w3.org/2000/svg\" height=\"24px\" viewBox=\"0 -960 960 960\">\n",
              "    <path d=\"M120-120v-720h720v720H120Zm60-500h600v-160H180v160Zm220 220h160v-160H400v160Zm0 220h160v-160H400v160ZM180-400h160v-160H180v160Zm440 0h160v-160H620v160ZM180-180h160v-160H180v160Zm440 0h160v-160H620v160Z\"/>\n",
              "  </svg>\n",
              "    </button>\n",
              "\n",
              "  <style>\n",
              "    .colab-df-container {\n",
              "      display:flex;\n",
              "      gap: 12px;\n",
              "    }\n",
              "\n",
              "    .colab-df-convert {\n",
              "      background-color: #E8F0FE;\n",
              "      border: none;\n",
              "      border-radius: 50%;\n",
              "      cursor: pointer;\n",
              "      display: none;\n",
              "      fill: #1967D2;\n",
              "      height: 32px;\n",
              "      padding: 0 0 0 0;\n",
              "      width: 32px;\n",
              "    }\n",
              "\n",
              "    .colab-df-convert:hover {\n",
              "      background-color: #E2EBFA;\n",
              "      box-shadow: 0px 1px 2px rgba(60, 64, 67, 0.3), 0px 1px 3px 1px rgba(60, 64, 67, 0.15);\n",
              "      fill: #174EA6;\n",
              "    }\n",
              "\n",
              "    .colab-df-buttons div {\n",
              "      margin-bottom: 4px;\n",
              "    }\n",
              "\n",
              "    [theme=dark] .colab-df-convert {\n",
              "      background-color: #3B4455;\n",
              "      fill: #D2E3FC;\n",
              "    }\n",
              "\n",
              "    [theme=dark] .colab-df-convert:hover {\n",
              "      background-color: #434B5C;\n",
              "      box-shadow: 0px 1px 3px 1px rgba(0, 0, 0, 0.15);\n",
              "      filter: drop-shadow(0px 1px 2px rgba(0, 0, 0, 0.3));\n",
              "      fill: #FFFFFF;\n",
              "    }\n",
              "  </style>\n",
              "\n",
              "    <script>\n",
              "      const buttonEl =\n",
              "        document.querySelector('#df-22af27be-9fc8-47e0-bf3a-53e35271c41f button.colab-df-convert');\n",
              "      buttonEl.style.display =\n",
              "        google.colab.kernel.accessAllowed ? 'block' : 'none';\n",
              "\n",
              "      async function convertToInteractive(key) {\n",
              "        const element = document.querySelector('#df-22af27be-9fc8-47e0-bf3a-53e35271c41f');\n",
              "        const dataTable =\n",
              "          await google.colab.kernel.invokeFunction('convertToInteractive',\n",
              "                                                    [key], {});\n",
              "        if (!dataTable) return;\n",
              "\n",
              "        const docLinkHtml = 'Like what you see? Visit the ' +\n",
              "          '<a target=\"_blank\" href=https://colab.research.google.com/notebooks/data_table.ipynb>data table notebook</a>'\n",
              "          + ' to learn more about interactive tables.';\n",
              "        element.innerHTML = '';\n",
              "        dataTable['output_type'] = 'display_data';\n",
              "        await google.colab.output.renderOutput(dataTable, element);\n",
              "        const docLink = document.createElement('div');\n",
              "        docLink.innerHTML = docLinkHtml;\n",
              "        element.appendChild(docLink);\n",
              "      }\n",
              "    </script>\n",
              "  </div>\n",
              "\n",
              "\n",
              "<div id=\"df-f6ad598c-c29c-4262-a802-efe5930958bd\">\n",
              "  <button class=\"colab-df-quickchart\" onclick=\"quickchart('df-f6ad598c-c29c-4262-a802-efe5930958bd')\"\n",
              "            title=\"Suggest charts.\"\n",
              "            style=\"display:none;\">\n",
              "\n",
              "<svg xmlns=\"http://www.w3.org/2000/svg\" height=\"24px\"viewBox=\"0 0 24 24\"\n",
              "     width=\"24px\">\n",
              "    <g>\n",
              "        <path d=\"M19 3H5c-1.1 0-2 .9-2 2v14c0 1.1.9 2 2 2h14c1.1 0 2-.9 2-2V5c0-1.1-.9-2-2-2zM9 17H7v-7h2v7zm4 0h-2V7h2v10zm4 0h-2v-4h2v4z\"/>\n",
              "    </g>\n",
              "</svg>\n",
              "  </button>\n",
              "\n",
              "<style>\n",
              "  .colab-df-quickchart {\n",
              "      --bg-color: #E8F0FE;\n",
              "      --fill-color: #1967D2;\n",
              "      --hover-bg-color: #E2EBFA;\n",
              "      --hover-fill-color: #174EA6;\n",
              "      --disabled-fill-color: #AAA;\n",
              "      --disabled-bg-color: #DDD;\n",
              "  }\n",
              "\n",
              "  [theme=dark] .colab-df-quickchart {\n",
              "      --bg-color: #3B4455;\n",
              "      --fill-color: #D2E3FC;\n",
              "      --hover-bg-color: #434B5C;\n",
              "      --hover-fill-color: #FFFFFF;\n",
              "      --disabled-bg-color: #3B4455;\n",
              "      --disabled-fill-color: #666;\n",
              "  }\n",
              "\n",
              "  .colab-df-quickchart {\n",
              "    background-color: var(--bg-color);\n",
              "    border: none;\n",
              "    border-radius: 50%;\n",
              "    cursor: pointer;\n",
              "    display: none;\n",
              "    fill: var(--fill-color);\n",
              "    height: 32px;\n",
              "    padding: 0;\n",
              "    width: 32px;\n",
              "  }\n",
              "\n",
              "  .colab-df-quickchart:hover {\n",
              "    background-color: var(--hover-bg-color);\n",
              "    box-shadow: 0 1px 2px rgba(60, 64, 67, 0.3), 0 1px 3px 1px rgba(60, 64, 67, 0.15);\n",
              "    fill: var(--button-hover-fill-color);\n",
              "  }\n",
              "\n",
              "  .colab-df-quickchart-complete:disabled,\n",
              "  .colab-df-quickchart-complete:disabled:hover {\n",
              "    background-color: var(--disabled-bg-color);\n",
              "    fill: var(--disabled-fill-color);\n",
              "    box-shadow: none;\n",
              "  }\n",
              "\n",
              "  .colab-df-spinner {\n",
              "    border: 2px solid var(--fill-color);\n",
              "    border-color: transparent;\n",
              "    border-bottom-color: var(--fill-color);\n",
              "    animation:\n",
              "      spin 1s steps(1) infinite;\n",
              "  }\n",
              "\n",
              "  @keyframes spin {\n",
              "    0% {\n",
              "      border-color: transparent;\n",
              "      border-bottom-color: var(--fill-color);\n",
              "      border-left-color: var(--fill-color);\n",
              "    }\n",
              "    20% {\n",
              "      border-color: transparent;\n",
              "      border-left-color: var(--fill-color);\n",
              "      border-top-color: var(--fill-color);\n",
              "    }\n",
              "    30% {\n",
              "      border-color: transparent;\n",
              "      border-left-color: var(--fill-color);\n",
              "      border-top-color: var(--fill-color);\n",
              "      border-right-color: var(--fill-color);\n",
              "    }\n",
              "    40% {\n",
              "      border-color: transparent;\n",
              "      border-right-color: var(--fill-color);\n",
              "      border-top-color: var(--fill-color);\n",
              "    }\n",
              "    60% {\n",
              "      border-color: transparent;\n",
              "      border-right-color: var(--fill-color);\n",
              "    }\n",
              "    80% {\n",
              "      border-color: transparent;\n",
              "      border-right-color: var(--fill-color);\n",
              "      border-bottom-color: var(--fill-color);\n",
              "    }\n",
              "    90% {\n",
              "      border-color: transparent;\n",
              "      border-bottom-color: var(--fill-color);\n",
              "    }\n",
              "  }\n",
              "</style>\n",
              "\n",
              "  <script>\n",
              "    async function quickchart(key) {\n",
              "      const quickchartButtonEl =\n",
              "        document.querySelector('#' + key + ' button');\n",
              "      quickchartButtonEl.disabled = true;  // To prevent multiple clicks.\n",
              "      quickchartButtonEl.classList.add('colab-df-spinner');\n",
              "      try {\n",
              "        const charts = await google.colab.kernel.invokeFunction(\n",
              "            'suggestCharts', [key], {});\n",
              "      } catch (error) {\n",
              "        console.error('Error during call to suggestCharts:', error);\n",
              "      }\n",
              "      quickchartButtonEl.classList.remove('colab-df-spinner');\n",
              "      quickchartButtonEl.classList.add('colab-df-quickchart-complete');\n",
              "    }\n",
              "    (() => {\n",
              "      let quickchartButtonEl =\n",
              "        document.querySelector('#df-f6ad598c-c29c-4262-a802-efe5930958bd button');\n",
              "      quickchartButtonEl.style.display =\n",
              "        google.colab.kernel.accessAllowed ? 'block' : 'none';\n",
              "    })();\n",
              "  </script>\n",
              "</div>\n",
              "    </div>\n",
              "  </div>\n"
            ]
          },
          "metadata": {},
          "execution_count": 42
        }
      ],
      "id": "-JUJ10jDCCgJ"
    },
    {
      "cell_type": "markdown",
      "source": [
        "## 3.1 Exercise:\n",
        "\n",
        "Using `Carseats` data answer the following questions.\n",
        "\n",
        "(a) Using pytorch, calculate the train MSE of the following model:\n",
        "\n",
        "`Sales ~ Advertising + ShelveLoc`\n",
        "\n",
        "(b) Using pytorch, calculate the train MSE of the following model:\n",
        "\n",
        "`Sales ~ Advertising`\n",
        "\n",
        "(c) Calculate $R^2$ of each model in (a) and (b).\n",
        "\n",
        "(d) Repeat (a) and (b) by making use of 70% of data as train set and the remaining 30% as test set."
      ],
      "metadata": {
        "id": "GjoCoa6lFk3-"
      },
      "id": "GjoCoa6lFk3-"
    },
    {
      "cell_type": "markdown",
      "source": [
        "(a)"
      ],
      "metadata": {
        "id": "xI5hL0ffCLTm"
      },
      "id": "xI5hL0ffCLTm"
    },
    {
      "cell_type": "code",
      "source": [
        "X"
      ],
      "metadata": {
        "colab": {
          "base_uri": "https://localhost:8080/",
          "height": 423
        },
        "id": "6tQAqk_Sw0Q_",
        "outputId": "d7c5aa07-9fdc-4a4d-87a9-cfe909a07634"
      },
      "id": "6tQAqk_Sw0Q_",
      "execution_count": 12,
      "outputs": [
        {
          "output_type": "execute_result",
          "data": {
            "text/plain": [
              "     intercept  Advertising  ShelveLoc[Good]  ShelveLoc[Medium]\n",
              "0          1.0     0.657177              0.0                0.0\n",
              "1          1.0     1.409957              1.0                0.0\n",
              "2          1.0     0.506621              0.0                1.0\n",
              "3          1.0    -0.396715              0.0                1.0\n",
              "4          1.0    -0.547271              0.0                0.0\n",
              "..         ...          ...              ...                ...\n",
              "395        1.0     1.560513              1.0                0.0\n",
              "396        1.0    -0.547271              0.0                1.0\n",
              "397        1.0     0.807733              0.0                1.0\n",
              "398        1.0     0.054953              0.0                0.0\n",
              "399        1.0    -0.998939              1.0                0.0\n",
              "\n",
              "[400 rows x 4 columns]"
            ],
            "text/html": [
              "\n",
              "  <div id=\"df-d8e878ed-02c2-4e31-9a52-cb50ad6914f4\" class=\"colab-df-container\">\n",
              "    <div>\n",
              "<style scoped>\n",
              "    .dataframe tbody tr th:only-of-type {\n",
              "        vertical-align: middle;\n",
              "    }\n",
              "\n",
              "    .dataframe tbody tr th {\n",
              "        vertical-align: top;\n",
              "    }\n",
              "\n",
              "    .dataframe thead th {\n",
              "        text-align: right;\n",
              "    }\n",
              "</style>\n",
              "<table border=\"1\" class=\"dataframe\">\n",
              "  <thead>\n",
              "    <tr style=\"text-align: right;\">\n",
              "      <th></th>\n",
              "      <th>intercept</th>\n",
              "      <th>Advertising</th>\n",
              "      <th>ShelveLoc[Good]</th>\n",
              "      <th>ShelveLoc[Medium]</th>\n",
              "    </tr>\n",
              "  </thead>\n",
              "  <tbody>\n",
              "    <tr>\n",
              "      <th>0</th>\n",
              "      <td>1.0</td>\n",
              "      <td>0.657177</td>\n",
              "      <td>0.0</td>\n",
              "      <td>0.0</td>\n",
              "    </tr>\n",
              "    <tr>\n",
              "      <th>1</th>\n",
              "      <td>1.0</td>\n",
              "      <td>1.409957</td>\n",
              "      <td>1.0</td>\n",
              "      <td>0.0</td>\n",
              "    </tr>\n",
              "    <tr>\n",
              "      <th>2</th>\n",
              "      <td>1.0</td>\n",
              "      <td>0.506621</td>\n",
              "      <td>0.0</td>\n",
              "      <td>1.0</td>\n",
              "    </tr>\n",
              "    <tr>\n",
              "      <th>3</th>\n",
              "      <td>1.0</td>\n",
              "      <td>-0.396715</td>\n",
              "      <td>0.0</td>\n",
              "      <td>1.0</td>\n",
              "    </tr>\n",
              "    <tr>\n",
              "      <th>4</th>\n",
              "      <td>1.0</td>\n",
              "      <td>-0.547271</td>\n",
              "      <td>0.0</td>\n",
              "      <td>0.0</td>\n",
              "    </tr>\n",
              "    <tr>\n",
              "      <th>...</th>\n",
              "      <td>...</td>\n",
              "      <td>...</td>\n",
              "      <td>...</td>\n",
              "      <td>...</td>\n",
              "    </tr>\n",
              "    <tr>\n",
              "      <th>395</th>\n",
              "      <td>1.0</td>\n",
              "      <td>1.560513</td>\n",
              "      <td>1.0</td>\n",
              "      <td>0.0</td>\n",
              "    </tr>\n",
              "    <tr>\n",
              "      <th>396</th>\n",
              "      <td>1.0</td>\n",
              "      <td>-0.547271</td>\n",
              "      <td>0.0</td>\n",
              "      <td>1.0</td>\n",
              "    </tr>\n",
              "    <tr>\n",
              "      <th>397</th>\n",
              "      <td>1.0</td>\n",
              "      <td>0.807733</td>\n",
              "      <td>0.0</td>\n",
              "      <td>1.0</td>\n",
              "    </tr>\n",
              "    <tr>\n",
              "      <th>398</th>\n",
              "      <td>1.0</td>\n",
              "      <td>0.054953</td>\n",
              "      <td>0.0</td>\n",
              "      <td>0.0</td>\n",
              "    </tr>\n",
              "    <tr>\n",
              "      <th>399</th>\n",
              "      <td>1.0</td>\n",
              "      <td>-0.998939</td>\n",
              "      <td>1.0</td>\n",
              "      <td>0.0</td>\n",
              "    </tr>\n",
              "  </tbody>\n",
              "</table>\n",
              "<p>400 rows × 4 columns</p>\n",
              "</div>\n",
              "    <div class=\"colab-df-buttons\">\n",
              "\n",
              "  <div class=\"colab-df-container\">\n",
              "    <button class=\"colab-df-convert\" onclick=\"convertToInteractive('df-d8e878ed-02c2-4e31-9a52-cb50ad6914f4')\"\n",
              "            title=\"Convert this dataframe to an interactive table.\"\n",
              "            style=\"display:none;\">\n",
              "\n",
              "  <svg xmlns=\"http://www.w3.org/2000/svg\" height=\"24px\" viewBox=\"0 -960 960 960\">\n",
              "    <path d=\"M120-120v-720h720v720H120Zm60-500h600v-160H180v160Zm220 220h160v-160H400v160Zm0 220h160v-160H400v160ZM180-400h160v-160H180v160Zm440 0h160v-160H620v160ZM180-180h160v-160H180v160Zm440 0h160v-160H620v160Z\"/>\n",
              "  </svg>\n",
              "    </button>\n",
              "\n",
              "  <style>\n",
              "    .colab-df-container {\n",
              "      display:flex;\n",
              "      gap: 12px;\n",
              "    }\n",
              "\n",
              "    .colab-df-convert {\n",
              "      background-color: #E8F0FE;\n",
              "      border: none;\n",
              "      border-radius: 50%;\n",
              "      cursor: pointer;\n",
              "      display: none;\n",
              "      fill: #1967D2;\n",
              "      height: 32px;\n",
              "      padding: 0 0 0 0;\n",
              "      width: 32px;\n",
              "    }\n",
              "\n",
              "    .colab-df-convert:hover {\n",
              "      background-color: #E2EBFA;\n",
              "      box-shadow: 0px 1px 2px rgba(60, 64, 67, 0.3), 0px 1px 3px 1px rgba(60, 64, 67, 0.15);\n",
              "      fill: #174EA6;\n",
              "    }\n",
              "\n",
              "    .colab-df-buttons div {\n",
              "      margin-bottom: 4px;\n",
              "    }\n",
              "\n",
              "    [theme=dark] .colab-df-convert {\n",
              "      background-color: #3B4455;\n",
              "      fill: #D2E3FC;\n",
              "    }\n",
              "\n",
              "    [theme=dark] .colab-df-convert:hover {\n",
              "      background-color: #434B5C;\n",
              "      box-shadow: 0px 1px 3px 1px rgba(0, 0, 0, 0.15);\n",
              "      filter: drop-shadow(0px 1px 2px rgba(0, 0, 0, 0.3));\n",
              "      fill: #FFFFFF;\n",
              "    }\n",
              "  </style>\n",
              "\n",
              "    <script>\n",
              "      const buttonEl =\n",
              "        document.querySelector('#df-d8e878ed-02c2-4e31-9a52-cb50ad6914f4 button.colab-df-convert');\n",
              "      buttonEl.style.display =\n",
              "        google.colab.kernel.accessAllowed ? 'block' : 'none';\n",
              "\n",
              "      async function convertToInteractive(key) {\n",
              "        const element = document.querySelector('#df-d8e878ed-02c2-4e31-9a52-cb50ad6914f4');\n",
              "        const dataTable =\n",
              "          await google.colab.kernel.invokeFunction('convertToInteractive',\n",
              "                                                    [key], {});\n",
              "        if (!dataTable) return;\n",
              "\n",
              "        const docLinkHtml = 'Like what you see? Visit the ' +\n",
              "          '<a target=\"_blank\" href=https://colab.research.google.com/notebooks/data_table.ipynb>data table notebook</a>'\n",
              "          + ' to learn more about interactive tables.';\n",
              "        element.innerHTML = '';\n",
              "        dataTable['output_type'] = 'display_data';\n",
              "        await google.colab.output.renderOutput(dataTable, element);\n",
              "        const docLink = document.createElement('div');\n",
              "        docLink.innerHTML = docLinkHtml;\n",
              "        element.appendChild(docLink);\n",
              "      }\n",
              "    </script>\n",
              "  </div>\n",
              "\n",
              "\n",
              "<div id=\"df-02bf516f-f860-4d88-aa2c-bb215ee13899\">\n",
              "  <button class=\"colab-df-quickchart\" onclick=\"quickchart('df-02bf516f-f860-4d88-aa2c-bb215ee13899')\"\n",
              "            title=\"Suggest charts.\"\n",
              "            style=\"display:none;\">\n",
              "\n",
              "<svg xmlns=\"http://www.w3.org/2000/svg\" height=\"24px\"viewBox=\"0 0 24 24\"\n",
              "     width=\"24px\">\n",
              "    <g>\n",
              "        <path d=\"M19 3H5c-1.1 0-2 .9-2 2v14c0 1.1.9 2 2 2h14c1.1 0 2-.9 2-2V5c0-1.1-.9-2-2-2zM9 17H7v-7h2v7zm4 0h-2V7h2v10zm4 0h-2v-4h2v4z\"/>\n",
              "    </g>\n",
              "</svg>\n",
              "  </button>\n",
              "\n",
              "<style>\n",
              "  .colab-df-quickchart {\n",
              "      --bg-color: #E8F0FE;\n",
              "      --fill-color: #1967D2;\n",
              "      --hover-bg-color: #E2EBFA;\n",
              "      --hover-fill-color: #174EA6;\n",
              "      --disabled-fill-color: #AAA;\n",
              "      --disabled-bg-color: #DDD;\n",
              "  }\n",
              "\n",
              "  [theme=dark] .colab-df-quickchart {\n",
              "      --bg-color: #3B4455;\n",
              "      --fill-color: #D2E3FC;\n",
              "      --hover-bg-color: #434B5C;\n",
              "      --hover-fill-color: #FFFFFF;\n",
              "      --disabled-bg-color: #3B4455;\n",
              "      --disabled-fill-color: #666;\n",
              "  }\n",
              "\n",
              "  .colab-df-quickchart {\n",
              "    background-color: var(--bg-color);\n",
              "    border: none;\n",
              "    border-radius: 50%;\n",
              "    cursor: pointer;\n",
              "    display: none;\n",
              "    fill: var(--fill-color);\n",
              "    height: 32px;\n",
              "    padding: 0;\n",
              "    width: 32px;\n",
              "  }\n",
              "\n",
              "  .colab-df-quickchart:hover {\n",
              "    background-color: var(--hover-bg-color);\n",
              "    box-shadow: 0 1px 2px rgba(60, 64, 67, 0.3), 0 1px 3px 1px rgba(60, 64, 67, 0.15);\n",
              "    fill: var(--button-hover-fill-color);\n",
              "  }\n",
              "\n",
              "  .colab-df-quickchart-complete:disabled,\n",
              "  .colab-df-quickchart-complete:disabled:hover {\n",
              "    background-color: var(--disabled-bg-color);\n",
              "    fill: var(--disabled-fill-color);\n",
              "    box-shadow: none;\n",
              "  }\n",
              "\n",
              "  .colab-df-spinner {\n",
              "    border: 2px solid var(--fill-color);\n",
              "    border-color: transparent;\n",
              "    border-bottom-color: var(--fill-color);\n",
              "    animation:\n",
              "      spin 1s steps(1) infinite;\n",
              "  }\n",
              "\n",
              "  @keyframes spin {\n",
              "    0% {\n",
              "      border-color: transparent;\n",
              "      border-bottom-color: var(--fill-color);\n",
              "      border-left-color: var(--fill-color);\n",
              "    }\n",
              "    20% {\n",
              "      border-color: transparent;\n",
              "      border-left-color: var(--fill-color);\n",
              "      border-top-color: var(--fill-color);\n",
              "    }\n",
              "    30% {\n",
              "      border-color: transparent;\n",
              "      border-left-color: var(--fill-color);\n",
              "      border-top-color: var(--fill-color);\n",
              "      border-right-color: var(--fill-color);\n",
              "    }\n",
              "    40% {\n",
              "      border-color: transparent;\n",
              "      border-right-color: var(--fill-color);\n",
              "      border-top-color: var(--fill-color);\n",
              "    }\n",
              "    60% {\n",
              "      border-color: transparent;\n",
              "      border-right-color: var(--fill-color);\n",
              "    }\n",
              "    80% {\n",
              "      border-color: transparent;\n",
              "      border-right-color: var(--fill-color);\n",
              "      border-bottom-color: var(--fill-color);\n",
              "    }\n",
              "    90% {\n",
              "      border-color: transparent;\n",
              "      border-bottom-color: var(--fill-color);\n",
              "    }\n",
              "  }\n",
              "</style>\n",
              "\n",
              "  <script>\n",
              "    async function quickchart(key) {\n",
              "      const quickchartButtonEl =\n",
              "        document.querySelector('#' + key + ' button');\n",
              "      quickchartButtonEl.disabled = true;  // To prevent multiple clicks.\n",
              "      quickchartButtonEl.classList.add('colab-df-spinner');\n",
              "      try {\n",
              "        const charts = await google.colab.kernel.invokeFunction(\n",
              "            'suggestCharts', [key], {});\n",
              "      } catch (error) {\n",
              "        console.error('Error during call to suggestCharts:', error);\n",
              "      }\n",
              "      quickchartButtonEl.classList.remove('colab-df-spinner');\n",
              "      quickchartButtonEl.classList.add('colab-df-quickchart-complete');\n",
              "    }\n",
              "    (() => {\n",
              "      let quickchartButtonEl =\n",
              "        document.querySelector('#df-02bf516f-f860-4d88-aa2c-bb215ee13899 button');\n",
              "      quickchartButtonEl.style.display =\n",
              "        google.colab.kernel.accessAllowed ? 'block' : 'none';\n",
              "    })();\n",
              "  </script>\n",
              "</div>\n",
              "    </div>\n",
              "  </div>\n"
            ]
          },
          "metadata": {},
          "execution_count": 12
        }
      ]
    },
    {
      "cell_type": "code",
      "source": [
        "y"
      ],
      "metadata": {
        "colab": {
          "base_uri": "https://localhost:8080/",
          "height": 0
        },
        "id": "GkY_EiivxB-7",
        "outputId": "30e16e0b-56a9-4d4c-fc5e-0c1a37684399"
      },
      "id": "GkY_EiivxB-7",
      "execution_count": 13,
      "outputs": [
        {
          "output_type": "execute_result",
          "data": {
            "text/plain": [
              "0       9.50\n",
              "1      11.22\n",
              "2      10.06\n",
              "3       7.40\n",
              "4       4.15\n",
              "       ...  \n",
              "395    12.57\n",
              "396     6.14\n",
              "397     7.41\n",
              "398     5.94\n",
              "399     9.71\n",
              "Name: Sales, Length: 400, dtype: float64"
            ]
          },
          "metadata": {},
          "execution_count": 13
        }
      ]
    },
    {
      "cell_type": "code",
      "source": [
        "# X 정의\n",
        "x1 = torch.tensor(X['Advertising'], dtype=torch.float32)\n",
        "x2 = torch.tensor(X['ShelveLoc[Good]'], dtype=torch.float32)\n",
        "x3 = torch.tensor(X['ShelveLoc[Medium]'], dtype=torch.float32)\n",
        "\n",
        "X_3a = torch.stack([x1,x2,x3], axis=1)\n",
        "X_3a"
      ],
      "metadata": {
        "colab": {
          "base_uri": "https://localhost:8080/",
          "height": 0
        },
        "id": "22BoALK0x3kG",
        "outputId": "df40b3ce-e7b9-4883-dc1d-d3d96f440822"
      },
      "id": "22BoALK0x3kG",
      "execution_count": 17,
      "outputs": [
        {
          "output_type": "execute_result",
          "data": {
            "text/plain": [
              "tensor([[ 0.6572,  0.0000,  0.0000],\n",
              "        [ 1.4100,  1.0000,  0.0000],\n",
              "        [ 0.5066,  0.0000,  1.0000],\n",
              "        ...,\n",
              "        [ 0.8077,  0.0000,  1.0000],\n",
              "        [ 0.0550,  0.0000,  0.0000],\n",
              "        [-0.9989,  1.0000,  0.0000]])"
            ]
          },
          "metadata": {},
          "execution_count": 17
        }
      ]
    },
    {
      "cell_type": "code",
      "source": [
        "# y 정의 ([n,1] shape)\n",
        "y = torch.tensor(y, dtype=torch.float32).reshape(-1,1)\n",
        "y"
      ],
      "metadata": {
        "colab": {
          "base_uri": "https://localhost:8080/",
          "height": 0
        },
        "id": "yYpyCZMdzIKl",
        "outputId": "2242cc63-7e58-4bdd-c90f-2716c533ba18"
      },
      "id": "yYpyCZMdzIKl",
      "execution_count": 108,
      "outputs": [
        {
          "output_type": "execute_result",
          "data": {
            "text/plain": [
              "tensor([[ 9.5000],\n",
              "        [11.2200],\n",
              "        [10.0600],\n",
              "        [ 7.4000],\n",
              "        [ 4.1500],\n",
              "        [10.8100],\n",
              "        [ 6.6300],\n",
              "        [11.8500],\n",
              "        [ 6.5400],\n",
              "        [ 4.6900],\n",
              "        [ 9.0100],\n",
              "        [11.9600],\n",
              "        [ 3.9800],\n",
              "        [10.9600],\n",
              "        [11.1700],\n",
              "        [ 8.7100],\n",
              "        [ 7.5800],\n",
              "        [12.2900],\n",
              "        [13.9100],\n",
              "        [ 8.7300],\n",
              "        [ 6.4100],\n",
              "        [12.1300],\n",
              "        [ 5.0800],\n",
              "        [ 5.8700],\n",
              "        [10.1400],\n",
              "        [14.9000],\n",
              "        [ 8.3300],\n",
              "        [ 5.2700],\n",
              "        [ 2.9900],\n",
              "        [ 7.8100],\n",
              "        [13.5500],\n",
              "        [ 8.2500],\n",
              "        [ 6.2000],\n",
              "        [ 8.7700],\n",
              "        [ 2.6700],\n",
              "        [11.0700],\n",
              "        [ 8.8900],\n",
              "        [ 4.9500],\n",
              "        [ 6.5900],\n",
              "        [ 3.2400],\n",
              "        [ 2.0700],\n",
              "        [ 7.9600],\n",
              "        [10.4300],\n",
              "        [ 4.1200],\n",
              "        [ 4.1600],\n",
              "        [ 4.5600],\n",
              "        [12.4400],\n",
              "        [ 4.3800],\n",
              "        [ 3.9100],\n",
              "        [10.6100],\n",
              "        [ 1.4200],\n",
              "        [ 4.4200],\n",
              "        [ 7.9100],\n",
              "        [ 6.9200],\n",
              "        [ 4.9000],\n",
              "        [ 6.8500],\n",
              "        [11.9100],\n",
              "        [ 0.9100],\n",
              "        [ 5.4200],\n",
              "        [ 5.2100],\n",
              "        [ 8.3200],\n",
              "        [ 7.3200],\n",
              "        [ 1.8200],\n",
              "        [ 8.4700],\n",
              "        [ 7.8000],\n",
              "        [ 4.9000],\n",
              "        [ 8.8500],\n",
              "        [ 9.0100],\n",
              "        [13.3900],\n",
              "        [ 7.9900],\n",
              "        [ 9.4600],\n",
              "        [ 6.5000],\n",
              "        [ 5.5200],\n",
              "        [12.6100],\n",
              "        [ 6.2000],\n",
              "        [ 8.5500],\n",
              "        [10.6400],\n",
              "        [ 7.7000],\n",
              "        [ 4.4300],\n",
              "        [ 9.1400],\n",
              "        [ 8.0100],\n",
              "        [ 7.5200],\n",
              "        [11.6200],\n",
              "        [ 4.4200],\n",
              "        [ 2.2300],\n",
              "        [ 8.4700],\n",
              "        [ 8.7000],\n",
              "        [11.7000],\n",
              "        [ 6.5600],\n",
              "        [ 7.9500],\n",
              "        [ 5.3300],\n",
              "        [ 4.8100],\n",
              "        [ 4.5300],\n",
              "        [ 8.8600],\n",
              "        [ 8.3900],\n",
              "        [ 5.5800],\n",
              "        [ 9.4800],\n",
              "        [ 7.4500],\n",
              "        [12.4900],\n",
              "        [ 4.8800],\n",
              "        [ 4.1100],\n",
              "        [ 6.2000],\n",
              "        [ 5.3000],\n",
              "        [ 5.0700],\n",
              "        [ 4.6200],\n",
              "        [ 5.5500],\n",
              "        [ 0.1600],\n",
              "        [ 8.5500],\n",
              "        [ 3.4700],\n",
              "        [ 8.9800],\n",
              "        [ 9.0000],\n",
              "        [ 6.6200],\n",
              "        [ 6.6700],\n",
              "        [ 6.0100],\n",
              "        [ 9.3100],\n",
              "        [ 8.5400],\n",
              "        [ 5.0800],\n",
              "        [ 8.8000],\n",
              "        [ 7.5700],\n",
              "        [ 7.3700],\n",
              "        [ 6.8700],\n",
              "        [11.6700],\n",
              "        [ 6.8800],\n",
              "        [ 8.1900],\n",
              "        [ 8.8700],\n",
              "        [ 9.3400],\n",
              "        [11.2700],\n",
              "        [ 6.5200],\n",
              "        [ 4.9600],\n",
              "        [ 4.4700],\n",
              "        [ 8.4100],\n",
              "        [ 6.5000],\n",
              "        [ 9.5400],\n",
              "        [ 7.6200],\n",
              "        [ 3.6700],\n",
              "        [ 6.4400],\n",
              "        [ 5.1700],\n",
              "        [ 6.5200],\n",
              "        [10.2700],\n",
              "        [12.3000],\n",
              "        [ 6.0300],\n",
              "        [ 6.5300],\n",
              "        [ 7.4400],\n",
              "        [ 0.5300],\n",
              "        [ 9.0900],\n",
              "        [ 8.7700],\n",
              "        [ 3.9000],\n",
              "        [10.5100],\n",
              "        [ 7.5600],\n",
              "        [11.4800],\n",
              "        [10.4900],\n",
              "        [10.7700],\n",
              "        [ 7.6400],\n",
              "        [ 5.9300],\n",
              "        [ 6.8900],\n",
              "        [ 7.7100],\n",
              "        [ 7.4900],\n",
              "        [10.2100],\n",
              "        [12.5300],\n",
              "        [ 9.3200],\n",
              "        [ 4.6700],\n",
              "        [ 2.9300],\n",
              "        [ 3.6300],\n",
              "        [ 5.6800],\n",
              "        [ 8.2200],\n",
              "        [ 0.3700],\n",
              "        [ 6.7100],\n",
              "        [ 6.7100],\n",
              "        [ 7.3000],\n",
              "        [11.4800],\n",
              "        [ 8.0100],\n",
              "        [12.4900],\n",
              "        [ 9.0300],\n",
              "        [ 6.3800],\n",
              "        [ 0.0000],\n",
              "        [ 7.5400],\n",
              "        [ 5.6100],\n",
              "        [10.4800],\n",
              "        [10.6600],\n",
              "        [ 7.7800],\n",
              "        [ 4.9400],\n",
              "        [ 7.4300],\n",
              "        [ 4.7400],\n",
              "        [ 5.3200],\n",
              "        [ 9.9500],\n",
              "        [10.0700],\n",
              "        [ 8.6800],\n",
              "        [ 6.0300],\n",
              "        [ 8.0700],\n",
              "        [12.1100],\n",
              "        [ 8.7900],\n",
              "        [ 6.6700],\n",
              "        [ 7.5600],\n",
              "        [13.2800],\n",
              "        [ 7.2300],\n",
              "        [ 4.1900],\n",
              "        [ 4.1000],\n",
              "        [ 2.5200],\n",
              "        [ 3.6200],\n",
              "        [ 6.4200],\n",
              "        [ 5.5600],\n",
              "        [ 5.9400],\n",
              "        [ 4.1000],\n",
              "        [ 2.0500],\n",
              "        [ 8.7400],\n",
              "        [ 5.6800],\n",
              "        [ 4.9700],\n",
              "        [ 8.1900],\n",
              "        [ 7.7800],\n",
              "        [ 3.0200],\n",
              "        [ 4.3600],\n",
              "        [ 9.3900],\n",
              "        [12.0400],\n",
              "        [ 8.2300],\n",
              "        [ 4.8300],\n",
              "        [ 2.3400],\n",
              "        [ 5.7300],\n",
              "        [ 4.3400],\n",
              "        [ 9.7000],\n",
              "        [10.6200],\n",
              "        [10.5900],\n",
              "        [ 6.4300],\n",
              "        [ 7.4900],\n",
              "        [ 3.4500],\n",
              "        [ 4.1000],\n",
              "        [ 6.6800],\n",
              "        [ 7.8000],\n",
              "        [ 8.6900],\n",
              "        [ 5.4000],\n",
              "        [11.1900],\n",
              "        [ 5.1600],\n",
              "        [ 8.0900],\n",
              "        [13.1400],\n",
              "        [ 8.6500],\n",
              "        [ 9.4300],\n",
              "        [ 5.5300],\n",
              "        [ 9.3200],\n",
              "        [ 9.6200],\n",
              "        [ 7.3600],\n",
              "        [ 3.8900],\n",
              "        [10.3100],\n",
              "        [12.0100],\n",
              "        [ 4.6800],\n",
              "        [ 7.8200],\n",
              "        [ 8.7800],\n",
              "        [10.0000],\n",
              "        [ 6.9000],\n",
              "        [ 5.0400],\n",
              "        [ 5.3600],\n",
              "        [ 5.0500],\n",
              "        [ 9.1600],\n",
              "        [ 3.7200],\n",
              "        [ 8.3100],\n",
              "        [ 5.6400],\n",
              "        [ 9.5800],\n",
              "        [ 7.7100],\n",
              "        [ 4.2000],\n",
              "        [ 8.6700],\n",
              "        [ 3.4700],\n",
              "        [ 5.1200],\n",
              "        [ 7.6700],\n",
              "        [ 5.7100],\n",
              "        [ 6.3700],\n",
              "        [ 7.7700],\n",
              "        [ 6.9500],\n",
              "        [ 5.3100],\n",
              "        [ 9.1000],\n",
              "        [ 5.8300],\n",
              "        [ 6.5300],\n",
              "        [ 5.0100],\n",
              "        [11.9900],\n",
              "        [ 4.5500],\n",
              "        [12.9800],\n",
              "        [10.0400],\n",
              "        [ 7.2200],\n",
              "        [ 6.6700],\n",
              "        [ 6.9300],\n",
              "        [ 7.8000],\n",
              "        [ 7.2200],\n",
              "        [ 3.4200],\n",
              "        [ 2.8600],\n",
              "        [11.1900],\n",
              "        [ 7.7400],\n",
              "        [ 5.3600],\n",
              "        [ 6.9700],\n",
              "        [ 7.6000],\n",
              "        [ 7.5300],\n",
              "        [ 6.8800],\n",
              "        [ 6.9800],\n",
              "        [ 8.7500],\n",
              "        [ 9.4900],\n",
              "        [ 6.6400],\n",
              "        [11.8200],\n",
              "        [11.2800],\n",
              "        [12.6600],\n",
              "        [ 4.2100],\n",
              "        [ 8.2100],\n",
              "        [ 3.0700],\n",
              "        [10.9800],\n",
              "        [ 9.4000],\n",
              "        [ 8.5700],\n",
              "        [ 7.4100],\n",
              "        [ 5.2800],\n",
              "        [10.0100],\n",
              "        [11.9300],\n",
              "        [ 8.0300],\n",
              "        [ 4.7800],\n",
              "        [ 5.9000],\n",
              "        [ 9.2400],\n",
              "        [11.1800],\n",
              "        [ 9.5300],\n",
              "        [ 6.1500],\n",
              "        [ 6.8000],\n",
              "        [ 9.3300],\n",
              "        [ 7.7200],\n",
              "        [ 6.3900],\n",
              "        [15.6300],\n",
              "        [ 6.4100],\n",
              "        [10.0800],\n",
              "        [ 6.9700],\n",
              "        [ 5.8600],\n",
              "        [ 7.5200],\n",
              "        [ 9.1600],\n",
              "        [10.3600],\n",
              "        [ 2.6600],\n",
              "        [11.7000],\n",
              "        [ 4.6900],\n",
              "        [ 6.2300],\n",
              "        [ 3.1500],\n",
              "        [11.2700],\n",
              "        [ 4.9900],\n",
              "        [10.1000],\n",
              "        [ 5.7400],\n",
              "        [ 5.8700],\n",
              "        [ 7.6300],\n",
              "        [ 6.1800],\n",
              "        [ 5.1700],\n",
              "        [ 8.6100],\n",
              "        [ 5.9700],\n",
              "        [11.5400],\n",
              "        [ 7.5000],\n",
              "        [ 7.3800],\n",
              "        [ 7.8100],\n",
              "        [ 5.9900],\n",
              "        [ 8.4300],\n",
              "        [ 4.8100],\n",
              "        [ 8.9700],\n",
              "        [ 6.8800],\n",
              "        [12.5700],\n",
              "        [ 9.3200],\n",
              "        [ 8.6400],\n",
              "        [10.4400],\n",
              "        [13.4400],\n",
              "        [ 9.4500],\n",
              "        [ 5.3000],\n",
              "        [ 7.0200],\n",
              "        [ 3.5800],\n",
              "        [13.3600],\n",
              "        [ 4.1700],\n",
              "        [ 3.1300],\n",
              "        [ 8.7700],\n",
              "        [ 8.6800],\n",
              "        [ 5.2500],\n",
              "        [10.2600],\n",
              "        [10.5000],\n",
              "        [ 6.5300],\n",
              "        [ 5.9800],\n",
              "        [14.3700],\n",
              "        [10.7100],\n",
              "        [10.2600],\n",
              "        [ 7.6800],\n",
              "        [ 9.0800],\n",
              "        [ 7.8000],\n",
              "        [ 5.5800],\n",
              "        [ 9.4400],\n",
              "        [ 7.9000],\n",
              "        [16.2700],\n",
              "        [ 6.8100],\n",
              "        [ 6.1100],\n",
              "        [ 5.8100],\n",
              "        [ 9.6400],\n",
              "        [ 3.9000],\n",
              "        [ 4.9500],\n",
              "        [ 9.3500],\n",
              "        [12.8500],\n",
              "        [ 5.8700],\n",
              "        [ 5.3200],\n",
              "        [ 8.6700],\n",
              "        [ 8.1400],\n",
              "        [ 8.4400],\n",
              "        [ 5.4700],\n",
              "        [ 6.1000],\n",
              "        [ 4.5300],\n",
              "        [ 5.5700],\n",
              "        [ 5.3500],\n",
              "        [12.5700],\n",
              "        [ 6.1400],\n",
              "        [ 7.4100],\n",
              "        [ 5.9400],\n",
              "        [ 9.7100]])"
            ]
          },
          "metadata": {},
          "execution_count": 108
        }
      ]
    },
    {
      "cell_type": "code",
      "source": [
        "# SGD에 사용할 데이터 정의\n",
        "dataset = TensorDataset(X_3a, y)\n",
        "trainloader = DataLoader(dataset=dataset, batch_size=5, shuffle=True)"
      ],
      "metadata": {
        "id": "WStTSHGfyw0m"
      },
      "id": "WStTSHGfyw0m",
      "execution_count": 45,
      "outputs": []
    },
    {
      "cell_type": "code",
      "source": [
        "model = torch.nn.Linear(3,1,bias=True)\n",
        "\n",
        "def loss_ftn(y,yhat):\n",
        "  return torch.mean((y-yhat)**2)\n",
        "\n",
        "epochs = 100\n",
        "history = []\n",
        "\n",
        "my_optimizer = torch.optim.SGD(model.parameters(), lr=0.01)\n",
        "\n",
        "for epoch in range(epochs):\n",
        "  LOSS_sum = 0\n",
        "  for xx, yy in trainloader:\n",
        "    yhat = model(xx)\n",
        "    loss = loss_ftn(yy, yhat)\n",
        "    LOSS_sum += loss * len(yy)\n",
        "    loss.backward()\n",
        "    my_optimizer.step()\n",
        "    my_optimizer.zero_grad()\n",
        "  history.append(LOSS_sum.data/len(y))"
      ],
      "metadata": {
        "id": "BldX_xW4xDhd"
      },
      "id": "BldX_xW4xDhd",
      "execution_count": 46,
      "outputs": []
    },
    {
      "cell_type": "code",
      "source": [
        "import matplotlib.pyplot as plt\n",
        "plt.plot(history)"
      ],
      "metadata": {
        "colab": {
          "base_uri": "https://localhost:8080/",
          "height": 448
        },
        "id": "IilRfIohzwbD",
        "outputId": "0e8bc2e5-2b66-46c3-c65d-59ec3b28f367"
      },
      "id": "IilRfIohzwbD",
      "execution_count": 47,
      "outputs": [
        {
          "output_type": "execute_result",
          "data": {
            "text/plain": [
              "[<matplotlib.lines.Line2D at 0x7f0d0eadd960>]"
            ]
          },
          "metadata": {},
          "execution_count": 47
        },
        {
          "output_type": "display_data",
          "data": {
            "text/plain": [
              "<Figure size 640x480 with 1 Axes>"
            ],
            "image/png": "[encoded data removed]"
          },
          "metadata": {}
        }
      ]
    },
    {
      "cell_type": "code",
      "source": [
        "# train MSE\n",
        "yhat_a = model(X_3a)\n",
        "MSE = torch.mean((y-yhat_a)**2)\n",
        "print(MSE)"
      ],
      "metadata": {
        "colab": {
          "base_uri": "https://localhost:8080/",
          "height": 0
        },
        "id": "o-s_jiLgzzrB",
        "outputId": "e33fc4ac-a038-4b81-8b15-dfe229066ade"
      },
      "id": "o-s_jiLgzzrB",
      "execution_count": 48,
      "outputs": [
        {
          "output_type": "stream",
          "name": "stdout",
          "text": [
            "tensor(5.0056, grad_fn=<MeanBackward0>)\n"
          ]
        }
      ]
    },
    {
      "cell_type": "markdown",
      "source": [
        "(b)"
      ],
      "metadata": {
        "id": "GSSbQiUS0N-Q"
      },
      "id": "GSSbQiUS0N-Q"
    },
    {
      "cell_type": "code",
      "source": [
        "# X(Advertising) 정의\n",
        "# 앞에서 advertising 값을 x1에 할당해주었음. 이를 사용하자\n",
        "X_3b = x1.reshape(-1,1) # [n,1] shape\n",
        "X_3b[:5]"
      ],
      "metadata": {
        "colab": {
          "base_uri": "https://localhost:8080/",
          "height": 0
        },
        "id": "MB3tIBxO0PK-",
        "outputId": "a788192a-1bc4-4dd4-d936-c5d44bfc8219"
      },
      "id": "MB3tIBxO0PK-",
      "execution_count": 35,
      "outputs": [
        {
          "output_type": "execute_result",
          "data": {
            "text/plain": [
              "tensor([[ 0.6572],\n",
              "        [ 1.4100],\n",
              "        [ 0.5066],\n",
              "        [-0.3967],\n",
              "        [-0.5473]])"
            ]
          },
          "metadata": {},
          "execution_count": 35
        }
      ]
    },
    {
      "cell_type": "code",
      "source": [
        "# SGD에 사용할 데이터 세트 정의\n",
        "dataset = TensorDataset(X_3b, y)\n",
        "trainloader = DataLoader(dataset=dataset, batch_size=5, shuffle=True)"
      ],
      "metadata": {
        "id": "vjjRAWiU01jb"
      },
      "id": "vjjRAWiU01jb",
      "execution_count": 49,
      "outputs": []
    },
    {
      "cell_type": "code",
      "source": [
        "model = torch.nn.Linear(1,1,bias=True)\n",
        "\n",
        "epochs = 100\n",
        "history = []\n",
        "\n",
        "my_optimizer = torch.optim.SGD(model.parameters(), lr=0.01)\n",
        "\n",
        "for epoch in range(epochs):\n",
        "  LOSS_sum = 0\n",
        "  for xx, yy in trainloader:\n",
        "    yhat = model(xx)\n",
        "    loss = loss_ftn(yy, yhat)\n",
        "    LOSS_sum += loss * len(yy)\n",
        "    loss.backward()\n",
        "    my_optimizer.step()\n",
        "    my_optimizer.zero_grad()\n",
        "  history.append(LOSS_sum.data/len(y))"
      ],
      "metadata": {
        "id": "SbXZofFN0m0U"
      },
      "id": "SbXZofFN0m0U",
      "execution_count": 50,
      "outputs": []
    },
    {
      "cell_type": "code",
      "source": [
        "plt.plot(history)"
      ],
      "metadata": {
        "colab": {
          "base_uri": "https://localhost:8080/",
          "height": 448
        },
        "id": "kiNXcs5v1cRE",
        "outputId": "39966954-a951-4030-fb04-98de41cbcbf6"
      },
      "id": "kiNXcs5v1cRE",
      "execution_count": 51,
      "outputs": [
        {
          "output_type": "execute_result",
          "data": {
            "text/plain": [
              "[<matplotlib.lines.Line2D at 0x7f0d0eb28100>]"
            ]
          },
          "metadata": {},
          "execution_count": 51
        },
        {
          "output_type": "display_data",
          "data": {
            "text/plain": [
              "<Figure size 640x480 with 1 Axes>"
            ],
            "image/png": "[encoded data removed]"
          },
          "metadata": {}
        }
      ]
    },
    {
      "cell_type": "code",
      "source": [
        "# train MSE\n",
        "yhat_b = model(X_3b)\n",
        "MSE = torch.mean((y-yhat_b)**2)\n",
        "print(MSE)"
      ],
      "metadata": {
        "colab": {
          "base_uri": "https://localhost:8080/",
          "height": 0
        },
        "id": "D_t71PcL1dZ7",
        "outputId": "da747d2b-958e-4ef6-bff3-82d4566298c9"
      },
      "id": "D_t71PcL1dZ7",
      "execution_count": 52,
      "outputs": [
        {
          "output_type": "stream",
          "name": "stdout",
          "text": [
            "tensor(7.3834, grad_fn=<MeanBackward0>)\n"
          ]
        }
      ]
    },
    {
      "cell_type": "markdown",
      "source": [
        "(c)"
      ],
      "metadata": {
        "id": "V3kB0IU52NFN"
      },
      "id": "V3kB0IU52NFN"
    },
    {
      "cell_type": "code",
      "source": [
        "# R-squared 계산 함수 정의\n",
        "def R2(y, yhat):\n",
        "  SSE = torch.sum((y-yhat)**2)\n",
        "  SST = torch.sum((y-torch.mean(y))**2)\n",
        "  return 1 - SSE/SST"
      ],
      "metadata": {
        "id": "DTIdwKfW2MjL"
      },
      "id": "DTIdwKfW2MjL",
      "execution_count": 55,
      "outputs": []
    },
    {
      "cell_type": "code",
      "source": [
        "# (a)의 R2\n",
        "R2(y,yhat_a)"
      ],
      "metadata": {
        "colab": {
          "base_uri": "https://localhost:8080/",
          "height": 0
        },
        "id": "I4NuNli02EuB",
        "outputId": "01250d83-7549-4cb5-b1d7-f670f87e8ef8"
      },
      "id": "I4NuNli02EuB",
      "execution_count": 56,
      "outputs": [
        {
          "output_type": "execute_result",
          "data": {
            "text/plain": [
              "tensor(0.3708, grad_fn=<RsubBackward1>)"
            ]
          },
          "metadata": {},
          "execution_count": 56
        }
      ]
    },
    {
      "cell_type": "code",
      "source": [
        "# (b)의 R2\n",
        "R2(y,yhat_b)"
      ],
      "metadata": {
        "colab": {
          "base_uri": "https://localhost:8080/",
          "height": 0
        },
        "id": "T_R7jnCD2RSy",
        "outputId": "f9c7f17c-2515-4e75-d4e0-3b162a5a9f7a"
      },
      "id": "T_R7jnCD2RSy",
      "execution_count": 57,
      "outputs": [
        {
          "output_type": "execute_result",
          "data": {
            "text/plain": [
              "tensor(0.0719, grad_fn=<RsubBackward1>)"
            ]
          },
          "metadata": {},
          "execution_count": 57
        }
      ]
    },
    {
      "cell_type": "markdown",
      "source": [
        "(d)"
      ],
      "metadata": {
        "id": "J0GMrjwH2Umq"
      },
      "id": "J0GMrjwH2Umq"
    },
    {
      "cell_type": "markdown",
      "source": [
        "> model A"
      ],
      "metadata": {
        "id": "Zsaqr6ox2esu"
      },
      "id": "Zsaqr6ox2esu"
    },
    {
      "cell_type": "code",
      "source": [
        "dataset = TensorDataset(X_3a,y)\n",
        "\n",
        "n = len(y)\n",
        "\n",
        "train_set, val_set = torch.utils.data.random_split(dataset, [int(np.floor(n*0.7)), n-int(np.floor(n*0.7))])\n",
        "\n",
        "trainloader = DataLoader( dataset = train_set, batch_size = 5, shuffle = True)\n",
        "testloader =  DataLoader( dataset = val_set, batch_size = n-int(np.floor(n*0.7)), shuffle = True)"
      ],
      "metadata": {
        "id": "2HmOh4e12Xrs"
      },
      "id": "2HmOh4e12Xrs",
      "execution_count": 109,
      "outputs": []
    },
    {
      "cell_type": "code",
      "source": [
        "model = torch.nn.Linear(3,1,bias=True)\n",
        "\n",
        "epochs = 100\n",
        "history = []\n",
        "\n",
        "my_optimizer = torch.optim.SGD(model.parameters(), lr=0.01)\n",
        "\n",
        "for epoch in range(epochs):\n",
        "  LOSS_sum = 0\n",
        "  for xx, yy in trainloader:\n",
        "    yhat = model(xx)\n",
        "    loss = loss_ftn(yy, yhat)\n",
        "    LOSS_sum += loss * len(yy)\n",
        "    loss.backward()\n",
        "    my_optimizer.step()\n",
        "    my_optimizer.zero_grad()\n",
        "  history.append(LOSS_sum.data/len(y))"
      ],
      "metadata": {
        "id": "_KPzFySY2t1l"
      },
      "id": "_KPzFySY2t1l",
      "execution_count": 110,
      "outputs": []
    },
    {
      "cell_type": "code",
      "source": [
        "plt.plot(history)"
      ],
      "metadata": {
        "colab": {
          "base_uri": "https://localhost:8080/",
          "height": 448
        },
        "id": "s5EltmS73NfE",
        "outputId": "56de23b9-1936-4a14-c488-f9bdc256bff9"
      },
      "id": "s5EltmS73NfE",
      "execution_count": 60,
      "outputs": [
        {
          "output_type": "execute_result",
          "data": {
            "text/plain": [
              "[<matplotlib.lines.Line2D at 0x7f0d0ec86aa0>]"
            ]
          },
          "metadata": {},
          "execution_count": 60
        },
        {
          "output_type": "display_data",
          "data": {
            "text/plain": [
              "<Figure size 640x480 with 1 Axes>"
            ],
            "image/png": "[encoded data removed]"
          },
          "metadata": {}
        }
      ]
    },
    {
      "cell_type": "markdown",
      "source": [
        "MSE 구하기"
      ],
      "metadata": {
        "id": "XhSCWuYN3ZFD"
      },
      "id": "XhSCWuYN3ZFD"
    },
    {
      "cell_type": "code",
      "source": [
        "# X_train (train set의 X)\n",
        "temp2 = []\n",
        "for xx, yy in train_set: # train_set에 들어있는 x와 y 추출\n",
        "  temp = xx.tolist() # tensor인 x를 list로 바꾼 후\n",
        "  temp2 += temp # 더하여 list를 합쳐준다. (temp2는 train X들이 들어있는 list가 된다.)\n",
        "X_train = torch.tensor(temp2).reshape(-1,3) # tensor로 변경하고 [n,3] shape으로 변경한다.\n",
        "\n",
        "# y_train (train set의 y)\n",
        "temp2 = []\n",
        "for xx, yy in train_set: # train_set에 들어있는 x와 y 추출\n",
        "  temp = yy.tolist() # tensor인 y를 list로 바꾼 후\n",
        "  temp2 += temp # 더하여 list를 합쳐준다. (temp2는 train Y들이 들어있는 list가 된다.)\n",
        "y_train = torch.tensor(temp2).reshape(-1,1) # tensor로 변경하고 [n,1] shape으로 변경한다."
      ],
      "metadata": {
        "id": "tGnDdSsi3X2k"
      },
      "execution_count": 65,
      "outputs": [],
      "id": "tGnDdSsi3X2k"
    },
    {
      "cell_type": "code",
      "source": [
        "X_train[:5]"
      ],
      "metadata": {
        "colab": {
          "base_uri": "https://localhost:8080/",
          "height": 0
        },
        "id": "oC7L7hGs3ePZ",
        "outputId": "e5c4198b-89ad-4496-f61f-fdd394000292"
      },
      "id": "oC7L7hGs3ePZ",
      "execution_count": 66,
      "outputs": [
        {
          "output_type": "execute_result",
          "data": {
            "text/plain": [
              "tensor([[ 1.1088,  0.0000,  1.0000],\n",
              "        [ 0.5066,  1.0000,  0.0000],\n",
              "        [ 2.7650,  0.0000,  1.0000],\n",
              "        [-0.6978,  1.0000,  0.0000],\n",
              "        [ 1.4100,  0.0000,  1.0000]])"
            ]
          },
          "metadata": {},
          "execution_count": 66
        }
      ]
    },
    {
      "cell_type": "code",
      "source": [
        "y_train[:5]"
      ],
      "metadata": {
        "colab": {
          "base_uri": "https://localhost:8080/",
          "height": 0
        },
        "id": "LjWYMMK53fi_",
        "outputId": "c6664e9f-548d-4d2e-8169-70e2cba28096"
      },
      "id": "LjWYMMK53fi_",
      "execution_count": 67,
      "outputs": [
        {
          "output_type": "execute_result",
          "data": {
            "text/plain": [
              "tensor([[ 8.6700],\n",
              "        [10.0800],\n",
              "        [ 8.7500],\n",
              "        [ 7.2200],\n",
              "        [10.0100]])"
            ]
          },
          "metadata": {},
          "execution_count": 67
        }
      ]
    },
    {
      "cell_type": "code",
      "source": [
        "# train MSE\n",
        "yhat = model(X_train)\n",
        "MSE = torch.mean((y_train-yhat)**2)\n",
        "print(MSE)"
      ],
      "metadata": {
        "colab": {
          "base_uri": "https://localhost:8080/",
          "height": 0
        },
        "id": "JQzsG6kF4Gzl",
        "outputId": "a6e7b885-6b14-45b7-f470-9cd605eb84ee"
      },
      "id": "JQzsG6kF4Gzl",
      "execution_count": 69,
      "outputs": [
        {
          "output_type": "stream",
          "name": "stdout",
          "text": [
            "tensor(5.0751, grad_fn=<MeanBackward0>)\n"
          ]
        }
      ]
    },
    {
      "cell_type": "code",
      "source": [
        "# test MSE\n",
        "for X_test, y_test in testloader:\n",
        "  yhat = model(X_test)\n",
        "  ytest = y_test\n",
        "\n",
        "MSE = torch.mean((ytest-yhat)**2)\n",
        "print(MSE)"
      ],
      "metadata": {
        "colab": {
          "base_uri": "https://localhost:8080/",
          "height": 0
        },
        "id": "NrMDvrbS4UCs",
        "outputId": "477ca83e-67bb-4df8-a8f1-e1268fe8ee97"
      },
      "id": "NrMDvrbS4UCs",
      "execution_count": 111,
      "outputs": [
        {
          "output_type": "stream",
          "name": "stdout",
          "text": [
            "tensor(4.6170, grad_fn=<MeanBackward0>)\n"
          ]
        }
      ]
    },
    {
      "cell_type": "markdown",
      "source": [
        "> model B"
      ],
      "metadata": {
        "id": "XNFTN2Wp6vBy"
      },
      "id": "XNFTN2Wp6vBy"
    },
    {
      "cell_type": "code",
      "source": [
        "dataset = TensorDataset(X_3b,y)\n",
        "\n",
        "n = len(y)\n",
        "\n",
        "train_set, val_set = torch.utils.data.random_split(dataset, [int(np.floor(n*0.7)), n-int(np.floor(n*0.7))])\n",
        "\n",
        "trainloader = DataLoader( dataset = train_set, batch_size = 5, shuffle = True)\n",
        "testloader =  DataLoader( dataset = val_set, batch_size = n-int(np.floor(n*0.7)), shuffle = True)"
      ],
      "metadata": {
        "id": "uaHisQa36vBz"
      },
      "execution_count": 112,
      "outputs": [],
      "id": "uaHisQa36vBz"
    },
    {
      "cell_type": "code",
      "source": [
        "model = torch.nn.Linear(1,1,bias=True)\n",
        "\n",
        "epochs = 100\n",
        "history = []\n",
        "\n",
        "my_optimizer = torch.optim.SGD(model.parameters(), lr=0.01)\n",
        "\n",
        "for epoch in range(epochs):\n",
        "  LOSS_sum = 0\n",
        "  for xx, yy in trainloader:\n",
        "    yhat = model(xx)\n",
        "    loss = loss_ftn(yy, yhat)\n",
        "    LOSS_sum += loss * len(yy)\n",
        "    loss.backward()\n",
        "    my_optimizer.step()\n",
        "    my_optimizer.zero_grad()\n",
        "  history.append(LOSS_sum.data/len(y))"
      ],
      "metadata": {
        "id": "nENPFwya6vB0"
      },
      "execution_count": 113,
      "outputs": [],
      "id": "nENPFwya6vB0"
    },
    {
      "cell_type": "code",
      "source": [
        "plt.plot(history)"
      ],
      "metadata": {
        "colab": {
          "base_uri": "https://localhost:8080/",
          "height": 453
        },
        "outputId": "955059d1-f7b8-42b1-958e-b38f2a1fcfe4",
        "id": "nlwSeS7F6vB0"
      },
      "execution_count": 114,
      "outputs": [
        {
          "output_type": "execute_result",
          "data": {
            "text/plain": [
              "[<matplotlib.lines.Line2D at 0x7f0d0e9ccca0>]"
            ]
          },
          "metadata": {},
          "execution_count": 114
        },
        {
          "output_type": "display_data",
          "data": {
            "text/plain": [
              "<Figure size 640x480 with 1 Axes>"
            ],
            "image/png": "[encoded data removed]"
          },
          "metadata": {}
        }
      ],
      "id": "nlwSeS7F6vB0"
    },
    {
      "cell_type": "markdown",
      "source": [
        "MSE 구하기"
      ],
      "metadata": {
        "id": "tFptrxKm6vB1"
      },
      "id": "tFptrxKm6vB1"
    },
    {
      "cell_type": "code",
      "source": [
        "# X_train (train set의 X)\n",
        "temp2 = []\n",
        "for xx, yy in train_set: # train_set에 들어있는 x와 y 추출\n",
        "  temp = xx.tolist() # tensor인 x를 list로 바꾼 후\n",
        "  temp2 += temp # 더하여 list를 합쳐준다. (temp2는 train X들이 들어있는 list가 된다.)\n",
        "X_train = torch.tensor(temp2).reshape(-1,1) # tensor로 변경하고 [n,1] shape으로 변경한다.\n",
        "\n",
        "# y_train (train set의 y)\n",
        "temp2 = []\n",
        "for xx, yy in train_set: # train_set에 들어있는 x와 y 추출\n",
        "  temp = yy.tolist() # tensor인 y를 list로 바꾼 후\n",
        "  temp2 += temp # 더하여 list를 합쳐준다. (temp2는 train Y들이 들어있는 list가 된다.)\n",
        "y_train = torch.tensor(temp2).reshape(-1,1) # tensor로 변경하고 [n,1] shape으로 변경한다."
      ],
      "metadata": {
        "id": "O5Ms_Izz6vB1"
      },
      "execution_count": 116,
      "outputs": [],
      "id": "O5Ms_Izz6vB1"
    },
    {
      "cell_type": "code",
      "source": [
        "X_train[:5]"
      ],
      "metadata": {
        "colab": {
          "base_uri": "https://localhost:8080/",
          "height": 0
        },
        "outputId": "62f3b198-bce0-4244-c4ac-05a010649e8f",
        "id": "EufqMjEQ6vB2"
      },
      "execution_count": 117,
      "outputs": [
        {
          "output_type": "execute_result",
          "data": {
            "text/plain": [
              "tensor([[ 1.1088],\n",
              "        [-0.6978],\n",
              "        [-0.9989],\n",
              "        [ 2.7650],\n",
              "        [-0.9989]])"
            ]
          },
          "metadata": {},
          "execution_count": 117
        }
      ],
      "id": "EufqMjEQ6vB2"
    },
    {
      "cell_type": "code",
      "source": [
        "y_train[:5]"
      ],
      "metadata": {
        "colab": {
          "base_uri": "https://localhost:8080/",
          "height": 0
        },
        "outputId": "a7974ee5-6e4b-447a-fbe8-238042fa95fc",
        "id": "G-cluT1W6vB2"
      },
      "execution_count": 118,
      "outputs": [
        {
          "output_type": "execute_result",
          "data": {
            "text/plain": [
              "tensor([[ 8.6700],\n",
              "        [ 7.2200],\n",
              "        [10.6100],\n",
              "        [ 8.7500],\n",
              "        [10.4800]])"
            ]
          },
          "metadata": {},
          "execution_count": 118
        }
      ],
      "id": "G-cluT1W6vB2"
    },
    {
      "cell_type": "code",
      "source": [
        "# train MSE\n",
        "yhat = model(X_train)\n",
        "MSE = torch.mean((y_train-yhat)**2)\n",
        "print(MSE)"
      ],
      "metadata": {
        "colab": {
          "base_uri": "https://localhost:8080/",
          "height": 0
        },
        "outputId": "d4d651b1-3fd8-4a6c-8738-98b528e728e6",
        "id": "VNMK0xCU6vB2"
      },
      "execution_count": 119,
      "outputs": [
        {
          "output_type": "stream",
          "name": "stdout",
          "text": [
            "tensor(7.6068, grad_fn=<MeanBackward0>)\n"
          ]
        }
      ],
      "id": "VNMK0xCU6vB2"
    },
    {
      "cell_type": "code",
      "source": [
        "# test MSE\n",
        "for X_test, y_test in testloader:\n",
        "  yhat = model(X_test)\n",
        "  ytest = y_test\n",
        "\n",
        "MSE = torch.mean((ytest-yhat)**2)\n",
        "print(MSE)"
      ],
      "metadata": {
        "colab": {
          "base_uri": "https://localhost:8080/",
          "height": 0
        },
        "outputId": "6108cb63-be7f-445a-ea2a-4955c0f652ee",
        "id": "E6mWwvW56vB2"
      },
      "execution_count": 120,
      "outputs": [
        {
          "output_type": "stream",
          "name": "stdout",
          "text": [
            "tensor(6.8654, grad_fn=<MeanBackward0>)\n"
          ]
        }
      ],
      "id": "E6mWwvW56vB2"
    }
  ]
}