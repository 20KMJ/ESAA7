{
  "nbformat": 4,
  "nbformat_minor": 0,
  "metadata": {
    "colab": {
      "provenance": [],
      "authorship_tag": "ABX9TyPLR5AyqKhV9/MD5VlXzJf1",
      "include_colab_link": true
    },
    "kernelspec": {
      "name": "python3",
      "display_name": "Python 3"
    },
    "language_info": {
      "name": "python"
    }
  },
  "cells": [
    {
      "cell_type": "markdown",
      "metadata": {
        "id": "view-in-github",
        "colab_type": "text"
      },
      "source": [
        "<a href=\"https://colab.research.google.com/github/20KMJ/ESAA7/blob/main/%EC%82%AC%EA%B3%A0%EB%8D%B0%EC%9D%B4%ED%84%B0%EB%B6%84%EC%84%9D.ipynb\" target=\"_parent\"><img src=\"https://colab.research.google.com/assets/colab-badge.svg\" alt=\"Open In Colab\"/></a>"
      ]
    },
    {
      "cell_type": "markdown",
      "source": [
        "# 데이터 업로드"
      ],
      "metadata": {
        "id": "WrLRrvH_cRsR"
      }
    },
    {
      "cell_type": "code",
      "execution_count": 2,
      "metadata": {
        "colab": {
          "base_uri": "https://localhost:8080/"
        },
        "id": "FmrWMzgUZc6j",
        "outputId": "c0eb7456-a920-4731-83ea-acbc04f3e8cf"
      },
      "outputs": [
        {
          "output_type": "stream",
          "name": "stdout",
          "text": [
            "Mounted at /content/drive\n",
            "/content/drive/MyDrive/공모전/교통사고데이터분석\n"
          ]
        }
      ],
      "source": [
        "from google.colab import drive\n",
        "drive.mount(\"/content/drive\")\n",
        "\n",
        "# 경로 이동\n",
        "%cd /content/drive/MyDrive/공모전/교통사고데이터분석"
      ]
    },
    {
      "cell_type": "code",
      "source": [
        "import pandas as pd\n",
        "import numpy as np\n",
        "import datetime as datetime\n",
        "\n",
        "import seaborn as sns\n",
        "import matplotlib.pyplot as plt"
      ],
      "metadata": {
        "id": "N4uIO8JMZpTY"
      },
      "execution_count": 3,
      "outputs": []
    },
    {
      "cell_type": "code",
      "source": [
        "traffic = pd.read_csv('data/traffic.csv')\n",
        "traffic = traffic.drop(['ADDR1','state'], axis=1)\n",
        "traffic['RECV_CPLT_DM'] = pd.to_datetime(traffic['RECV_CPLT_DM'])"
      ],
      "metadata": {
        "id": "kvy-Xu4YZp-O"
      },
      "execution_count": 39,
      "outputs": []
    },
    {
      "cell_type": "code",
      "source": [
        "traffic.info()"
      ],
      "metadata": {
        "colab": {
          "base_uri": "https://localhost:8080/"
        },
        "id": "oh2CXI7qZ0Ed",
        "outputId": "044ee168-b335-4e47-91d6-0e901afc4243"
      },
      "execution_count": 34,
      "outputs": [
        {
          "output_type": "stream",
          "name": "stdout",
          "text": [
            "<class 'pandas.core.frame.DataFrame'>\n",
            "RangeIndex: 369768 entries, 0 to 369767\n",
            "Data columns (total 9 columns):\n",
            " #   Column         Non-Null Count   Dtype         \n",
            "---  ------         --------------   -----         \n",
            " 0   RECV_CPLT_DM   369768 non-null  datetime64[ns]\n",
            " 1   NPA_CL         369768 non-null  int64         \n",
            " 2   EVT_STAT_CD    369768 non-null  int64         \n",
            " 3   EVT_CL_CD      369768 non-null  int64         \n",
            " 4   RPTER_SEX      369768 non-null  int64         \n",
            " 5   HPPN_PNU_ADDR  369768 non-null  object        \n",
            " 6   HPPN_X         369768 non-null  float64       \n",
            " 7   HPPN_Y         369768 non-null  float64       \n",
            " 8   SME_EVT_YN     369768 non-null  object        \n",
            "dtypes: datetime64[ns](1), float64(2), int64(4), object(2)\n",
            "memory usage: 25.4+ MB\n"
          ]
        }
      ]
    },
    {
      "cell_type": "code",
      "source": [
        "traffic.head(3)"
      ],
      "metadata": {
        "colab": {
          "base_uri": "https://localhost:8080/",
          "height": 143
        },
        "id": "jLhG4niRZ2ws",
        "outputId": "1bb5bd9f-1668-48a5-9c80-7e1d93685b4c"
      },
      "execution_count": 35,
      "outputs": [
        {
          "output_type": "execute_result",
          "data": {
            "text/plain": [
              "         RECV_CPLT_DM  NPA_CL  EVT_STAT_CD  EVT_CL_CD  RPTER_SEX  \\\n",
              "0 2020-01-01 00:03:11      19           10        406          1   \n",
              "1 2020-01-01 00:18:08      19           10        403          1   \n",
              "2 2020-01-01 00:20:01      19           10        406          1   \n",
              "\n",
              "                HPPN_PNU_ADDR      HPPN_X     HPPN_Y SME_EVT_YN  \n",
              "0  충청남도 공주시 정안면 어물리(정안면) 33-2  127.148714  36.605751          Y  \n",
              "1   충청남도 논산시 채운면 장화리(채운면) 533  127.030921  36.164643    unknown  \n",
              "2  세종특별자치시 세종시 소담동(소담동) 32-92  127.305511  36.479819          Y  "
            ],
            "text/html": [
              "\n",
              "  <div id=\"df-fd7faeb5-1480-4bdc-b507-3354bbb3bc7e\">\n",
              "    <div class=\"colab-df-container\">\n",
              "      <div>\n",
              "<style scoped>\n",
              "    .dataframe tbody tr th:only-of-type {\n",
              "        vertical-align: middle;\n",
              "    }\n",
              "\n",
              "    .dataframe tbody tr th {\n",
              "        vertical-align: top;\n",
              "    }\n",
              "\n",
              "    .dataframe thead th {\n",
              "        text-align: right;\n",
              "    }\n",
              "</style>\n",
              "<table border=\"1\" class=\"dataframe\">\n",
              "  <thead>\n",
              "    <tr style=\"text-align: right;\">\n",
              "      <th></th>\n",
              "      <th>RECV_CPLT_DM</th>\n",
              "      <th>NPA_CL</th>\n",
              "      <th>EVT_STAT_CD</th>\n",
              "      <th>EVT_CL_CD</th>\n",
              "      <th>RPTER_SEX</th>\n",
              "      <th>HPPN_PNU_ADDR</th>\n",
              "      <th>HPPN_X</th>\n",
              "      <th>HPPN_Y</th>\n",
              "      <th>SME_EVT_YN</th>\n",
              "    </tr>\n",
              "  </thead>\n",
              "  <tbody>\n",
              "    <tr>\n",
              "      <th>0</th>\n",
              "      <td>2020-01-01 00:03:11</td>\n",
              "      <td>19</td>\n",
              "      <td>10</td>\n",
              "      <td>406</td>\n",
              "      <td>1</td>\n",
              "      <td>충청남도 공주시 정안면 어물리(정안면) 33-2</td>\n",
              "      <td>127.148714</td>\n",
              "      <td>36.605751</td>\n",
              "      <td>Y</td>\n",
              "    </tr>\n",
              "    <tr>\n",
              "      <th>1</th>\n",
              "      <td>2020-01-01 00:18:08</td>\n",
              "      <td>19</td>\n",
              "      <td>10</td>\n",
              "      <td>403</td>\n",
              "      <td>1</td>\n",
              "      <td>충청남도 논산시 채운면 장화리(채운면) 533</td>\n",
              "      <td>127.030921</td>\n",
              "      <td>36.164643</td>\n",
              "      <td>unknown</td>\n",
              "    </tr>\n",
              "    <tr>\n",
              "      <th>2</th>\n",
              "      <td>2020-01-01 00:20:01</td>\n",
              "      <td>19</td>\n",
              "      <td>10</td>\n",
              "      <td>406</td>\n",
              "      <td>1</td>\n",
              "      <td>세종특별자치시 세종시 소담동(소담동) 32-92</td>\n",
              "      <td>127.305511</td>\n",
              "      <td>36.479819</td>\n",
              "      <td>Y</td>\n",
              "    </tr>\n",
              "  </tbody>\n",
              "</table>\n",
              "</div>\n",
              "      <button class=\"colab-df-convert\" onclick=\"convertToInteractive('df-fd7faeb5-1480-4bdc-b507-3354bbb3bc7e')\"\n",
              "              title=\"Convert this dataframe to an interactive table.\"\n",
              "              style=\"display:none;\">\n",
              "        \n",
              "  <svg xmlns=\"http://www.w3.org/2000/svg\" height=\"24px\"viewBox=\"0 0 24 24\"\n",
              "       width=\"24px\">\n",
              "    <path d=\"M0 0h24v24H0V0z\" fill=\"none\"/>\n",
              "    <path d=\"M18.56 5.44l.94 2.06.94-2.06 2.06-.94-2.06-.94-.94-2.06-.94 2.06-2.06.94zm-11 1L8.5 8.5l.94-2.06 2.06-.94-2.06-.94L8.5 2.5l-.94 2.06-2.06.94zm10 10l.94 2.06.94-2.06 2.06-.94-2.06-.94-.94-2.06-.94 2.06-2.06.94z\"/><path d=\"M17.41 7.96l-1.37-1.37c-.4-.4-.92-.59-1.43-.59-.52 0-1.04.2-1.43.59L10.3 9.45l-7.72 7.72c-.78.78-.78 2.05 0 2.83L4 21.41c.39.39.9.59 1.41.59.51 0 1.02-.2 1.41-.59l7.78-7.78 2.81-2.81c.8-.78.8-2.07 0-2.86zM5.41 20L4 18.59l7.72-7.72 1.47 1.35L5.41 20z\"/>\n",
              "  </svg>\n",
              "      </button>\n",
              "      \n",
              "  <style>\n",
              "    .colab-df-container {\n",
              "      display:flex;\n",
              "      flex-wrap:wrap;\n",
              "      gap: 12px;\n",
              "    }\n",
              "\n",
              "    .colab-df-convert {\n",
              "      background-color: #E8F0FE;\n",
              "      border: none;\n",
              "      border-radius: 50%;\n",
              "      cursor: pointer;\n",
              "      display: none;\n",
              "      fill: #1967D2;\n",
              "      height: 32px;\n",
              "      padding: 0 0 0 0;\n",
              "      width: 32px;\n",
              "    }\n",
              "\n",
              "    .colab-df-convert:hover {\n",
              "      background-color: #E2EBFA;\n",
              "      box-shadow: 0px 1px 2px rgba(60, 64, 67, 0.3), 0px 1px 3px 1px rgba(60, 64, 67, 0.15);\n",
              "      fill: #174EA6;\n",
              "    }\n",
              "\n",
              "    [theme=dark] .colab-df-convert {\n",
              "      background-color: #3B4455;\n",
              "      fill: #D2E3FC;\n",
              "    }\n",
              "\n",
              "    [theme=dark] .colab-df-convert:hover {\n",
              "      background-color: #434B5C;\n",
              "      box-shadow: 0px 1px 3px 1px rgba(0, 0, 0, 0.15);\n",
              "      filter: drop-shadow(0px 1px 2px rgba(0, 0, 0, 0.3));\n",
              "      fill: #FFFFFF;\n",
              "    }\n",
              "  </style>\n",
              "\n",
              "      <script>\n",
              "        const buttonEl =\n",
              "          document.querySelector('#df-fd7faeb5-1480-4bdc-b507-3354bbb3bc7e button.colab-df-convert');\n",
              "        buttonEl.style.display =\n",
              "          google.colab.kernel.accessAllowed ? 'block' : 'none';\n",
              "\n",
              "        async function convertToInteractive(key) {\n",
              "          const element = document.querySelector('#df-fd7faeb5-1480-4bdc-b507-3354bbb3bc7e');\n",
              "          const dataTable =\n",
              "            await google.colab.kernel.invokeFunction('convertToInteractive',\n",
              "                                                     [key], {});\n",
              "          if (!dataTable) return;\n",
              "\n",
              "          const docLinkHtml = 'Like what you see? Visit the ' +\n",
              "            '<a target=\"_blank\" href=https://colab.research.google.com/notebooks/data_table.ipynb>data table notebook</a>'\n",
              "            + ' to learn more about interactive tables.';\n",
              "          element.innerHTML = '';\n",
              "          dataTable['output_type'] = 'display_data';\n",
              "          await google.colab.output.renderOutput(dataTable, element);\n",
              "          const docLink = document.createElement('div');\n",
              "          docLink.innerHTML = docLinkHtml;\n",
              "          element.appendChild(docLink);\n",
              "        }\n",
              "      </script>\n",
              "    </div>\n",
              "  </div>\n",
              "  "
            ]
          },
          "metadata": {},
          "execution_count": 35
        }
      ]
    },
    {
      "cell_type": "markdown",
      "source": [
        "# 데이터 분석"
      ],
      "metadata": {
        "id": "O0bFDrd0cVj5"
      }
    },
    {
      "cell_type": "code",
      "source": [
        "traffic['year'] = traffic['RECV_CPLT_DM'].dt.strftime(\"%Y\")\n",
        "traffic['y-m'] = traffic['RECV_CPLT_DM'].dt.strftime(\"%Y-%m\")\n",
        "traffic.head(3)"
      ],
      "metadata": {
        "colab": {
          "base_uri": "https://localhost:8080/",
          "height": 239
        },
        "id": "tuiJC-6-cWV3",
        "outputId": "61d680e2-574e-4870-afa6-5b4358782903"
      },
      "execution_count": 40,
      "outputs": [
        {
          "output_type": "execute_result",
          "data": {
            "text/plain": [
              "         RECV_CPLT_DM  NPA_CL  EVT_STAT_CD  EVT_CL_CD  RPTER_SEX  \\\n",
              "0 2020-01-01 00:03:11      19           10        406          1   \n",
              "1 2020-01-01 00:18:08      19           10        403          1   \n",
              "2 2020-01-01 00:20:01      19           10        406          1   \n",
              "\n",
              "                HPPN_PNU_ADDR      HPPN_X     HPPN_Y SME_EVT_YN  year      y-m  \n",
              "0  충청남도 공주시 정안면 어물리(정안면) 33-2  127.148714  36.605751          Y  2020  2020-01  \n",
              "1   충청남도 논산시 채운면 장화리(채운면) 533  127.030921  36.164643    unknown  2020  2020-01  \n",
              "2  세종특별자치시 세종시 소담동(소담동) 32-92  127.305511  36.479819          Y  2020  2020-01  "
            ],
            "text/html": [
              "\n",
              "  <div id=\"df-67bdc3d6-5701-4c36-90c4-2dca52e58a0d\">\n",
              "    <div class=\"colab-df-container\">\n",
              "      <div>\n",
              "<style scoped>\n",
              "    .dataframe tbody tr th:only-of-type {\n",
              "        vertical-align: middle;\n",
              "    }\n",
              "\n",
              "    .dataframe tbody tr th {\n",
              "        vertical-align: top;\n",
              "    }\n",
              "\n",
              "    .dataframe thead th {\n",
              "        text-align: right;\n",
              "    }\n",
              "</style>\n",
              "<table border=\"1\" class=\"dataframe\">\n",
              "  <thead>\n",
              "    <tr style=\"text-align: right;\">\n",
              "      <th></th>\n",
              "      <th>RECV_CPLT_DM</th>\n",
              "      <th>NPA_CL</th>\n",
              "      <th>EVT_STAT_CD</th>\n",
              "      <th>EVT_CL_CD</th>\n",
              "      <th>RPTER_SEX</th>\n",
              "      <th>HPPN_PNU_ADDR</th>\n",
              "      <th>HPPN_X</th>\n",
              "      <th>HPPN_Y</th>\n",
              "      <th>SME_EVT_YN</th>\n",
              "      <th>year</th>\n",
              "      <th>y-m</th>\n",
              "    </tr>\n",
              "  </thead>\n",
              "  <tbody>\n",
              "    <tr>\n",
              "      <th>0</th>\n",
              "      <td>2020-01-01 00:03:11</td>\n",
              "      <td>19</td>\n",
              "      <td>10</td>\n",
              "      <td>406</td>\n",
              "      <td>1</td>\n",
              "      <td>충청남도 공주시 정안면 어물리(정안면) 33-2</td>\n",
              "      <td>127.148714</td>\n",
              "      <td>36.605751</td>\n",
              "      <td>Y</td>\n",
              "      <td>2020</td>\n",
              "      <td>2020-01</td>\n",
              "    </tr>\n",
              "    <tr>\n",
              "      <th>1</th>\n",
              "      <td>2020-01-01 00:18:08</td>\n",
              "      <td>19</td>\n",
              "      <td>10</td>\n",
              "      <td>403</td>\n",
              "      <td>1</td>\n",
              "      <td>충청남도 논산시 채운면 장화리(채운면) 533</td>\n",
              "      <td>127.030921</td>\n",
              "      <td>36.164643</td>\n",
              "      <td>unknown</td>\n",
              "      <td>2020</td>\n",
              "      <td>2020-01</td>\n",
              "    </tr>\n",
              "    <tr>\n",
              "      <th>2</th>\n",
              "      <td>2020-01-01 00:20:01</td>\n",
              "      <td>19</td>\n",
              "      <td>10</td>\n",
              "      <td>406</td>\n",
              "      <td>1</td>\n",
              "      <td>세종특별자치시 세종시 소담동(소담동) 32-92</td>\n",
              "      <td>127.305511</td>\n",
              "      <td>36.479819</td>\n",
              "      <td>Y</td>\n",
              "      <td>2020</td>\n",
              "      <td>2020-01</td>\n",
              "    </tr>\n",
              "  </tbody>\n",
              "</table>\n",
              "</div>\n",
              "      <button class=\"colab-df-convert\" onclick=\"convertToInteractive('df-67bdc3d6-5701-4c36-90c4-2dca52e58a0d')\"\n",
              "              title=\"Convert this dataframe to an interactive table.\"\n",
              "              style=\"display:none;\">\n",
              "        \n",
              "  <svg xmlns=\"http://www.w3.org/2000/svg\" height=\"24px\"viewBox=\"0 0 24 24\"\n",
              "       width=\"24px\">\n",
              "    <path d=\"M0 0h24v24H0V0z\" fill=\"none\"/>\n",
              "    <path d=\"M18.56 5.44l.94 2.06.94-2.06 2.06-.94-2.06-.94-.94-2.06-.94 2.06-2.06.94zm-11 1L8.5 8.5l.94-2.06 2.06-.94-2.06-.94L8.5 2.5l-.94 2.06-2.06.94zm10 10l.94 2.06.94-2.06 2.06-.94-2.06-.94-.94-2.06-.94 2.06-2.06.94z\"/><path d=\"M17.41 7.96l-1.37-1.37c-.4-.4-.92-.59-1.43-.59-.52 0-1.04.2-1.43.59L10.3 9.45l-7.72 7.72c-.78.78-.78 2.05 0 2.83L4 21.41c.39.39.9.59 1.41.59.51 0 1.02-.2 1.41-.59l7.78-7.78 2.81-2.81c.8-.78.8-2.07 0-2.86zM5.41 20L4 18.59l7.72-7.72 1.47 1.35L5.41 20z\"/>\n",
              "  </svg>\n",
              "      </button>\n",
              "      \n",
              "  <style>\n",
              "    .colab-df-container {\n",
              "      display:flex;\n",
              "      flex-wrap:wrap;\n",
              "      gap: 12px;\n",
              "    }\n",
              "\n",
              "    .colab-df-convert {\n",
              "      background-color: #E8F0FE;\n",
              "      border: none;\n",
              "      border-radius: 50%;\n",
              "      cursor: pointer;\n",
              "      display: none;\n",
              "      fill: #1967D2;\n",
              "      height: 32px;\n",
              "      padding: 0 0 0 0;\n",
              "      width: 32px;\n",
              "    }\n",
              "\n",
              "    .colab-df-convert:hover {\n",
              "      background-color: #E2EBFA;\n",
              "      box-shadow: 0px 1px 2px rgba(60, 64, 67, 0.3), 0px 1px 3px 1px rgba(60, 64, 67, 0.15);\n",
              "      fill: #174EA6;\n",
              "    }\n",
              "\n",
              "    [theme=dark] .colab-df-convert {\n",
              "      background-color: #3B4455;\n",
              "      fill: #D2E3FC;\n",
              "    }\n",
              "\n",
              "    [theme=dark] .colab-df-convert:hover {\n",
              "      background-color: #434B5C;\n",
              "      box-shadow: 0px 1px 3px 1px rgba(0, 0, 0, 0.15);\n",
              "      filter: drop-shadow(0px 1px 2px rgba(0, 0, 0, 0.3));\n",
              "      fill: #FFFFFF;\n",
              "    }\n",
              "  </style>\n",
              "\n",
              "      <script>\n",
              "        const buttonEl =\n",
              "          document.querySelector('#df-67bdc3d6-5701-4c36-90c4-2dca52e58a0d button.colab-df-convert');\n",
              "        buttonEl.style.display =\n",
              "          google.colab.kernel.accessAllowed ? 'block' : 'none';\n",
              "\n",
              "        async function convertToInteractive(key) {\n",
              "          const element = document.querySelector('#df-67bdc3d6-5701-4c36-90c4-2dca52e58a0d');\n",
              "          const dataTable =\n",
              "            await google.colab.kernel.invokeFunction('convertToInteractive',\n",
              "                                                     [key], {});\n",
              "          if (!dataTable) return;\n",
              "\n",
              "          const docLinkHtml = 'Like what you see? Visit the ' +\n",
              "            '<a target=\"_blank\" href=https://colab.research.google.com/notebooks/data_table.ipynb>data table notebook</a>'\n",
              "            + ' to learn more about interactive tables.';\n",
              "          element.innerHTML = '';\n",
              "          dataTable['output_type'] = 'display_data';\n",
              "          await google.colab.output.renderOutput(dataTable, element);\n",
              "          const docLink = document.createElement('div');\n",
              "          docLink.innerHTML = docLinkHtml;\n",
              "          element.appendChild(docLink);\n",
              "        }\n",
              "      </script>\n",
              "    </div>\n",
              "  </div>\n",
              "  "
            ]
          },
          "metadata": {},
          "execution_count": 40
        }
      ]
    },
    {
      "cell_type": "code",
      "source": [
        "from datetime import datetime, date\n",
        "\n",
        "def what_day_is_it(date):\n",
        "    days = ['Mon', 'Tue', 'Wed', 'Thu', 'Fri', 'Sat', 'Sun']\n",
        "    day = date.weekday()\n",
        "    return(days[day])"
      ],
      "metadata": {
        "id": "_klyvd_yrPH8"
      },
      "execution_count": 33,
      "outputs": []
    },
    {
      "cell_type": "code",
      "source": [
        "traffic['day'] = traffic.apply(lambda x: what_day_is_it(x['RECV_CPLT_DM']), axis=1)\n",
        "traffic.head(3)"
      ],
      "metadata": {
        "colab": {
          "base_uri": "https://localhost:8080/",
          "height": 239
        },
        "id": "P37547Vur7uh",
        "outputId": "5e1f8023-5175-41f1-a134-2bd8499c9606"
      },
      "execution_count": 41,
      "outputs": [
        {
          "output_type": "execute_result",
          "data": {
            "text/plain": [
              "         RECV_CPLT_DM  NPA_CL  EVT_STAT_CD  EVT_CL_CD  RPTER_SEX  \\\n",
              "0 2020-01-01 00:03:11      19           10        406          1   \n",
              "1 2020-01-01 00:18:08      19           10        403          1   \n",
              "2 2020-01-01 00:20:01      19           10        406          1   \n",
              "\n",
              "                HPPN_PNU_ADDR      HPPN_X     HPPN_Y SME_EVT_YN  year  \\\n",
              "0  충청남도 공주시 정안면 어물리(정안면) 33-2  127.148714  36.605751          Y  2020   \n",
              "1   충청남도 논산시 채운면 장화리(채운면) 533  127.030921  36.164643    unknown  2020   \n",
              "2  세종특별자치시 세종시 소담동(소담동) 32-92  127.305511  36.479819          Y  2020   \n",
              "\n",
              "       y-m  day  \n",
              "0  2020-01  Wed  \n",
              "1  2020-01  Wed  \n",
              "2  2020-01  Wed  "
            ],
            "text/html": [
              "\n",
              "  <div id=\"df-3718ee2e-17ab-4d31-ad95-b1c780614a80\">\n",
              "    <div class=\"colab-df-container\">\n",
              "      <div>\n",
              "<style scoped>\n",
              "    .dataframe tbody tr th:only-of-type {\n",
              "        vertical-align: middle;\n",
              "    }\n",
              "\n",
              "    .dataframe tbody tr th {\n",
              "        vertical-align: top;\n",
              "    }\n",
              "\n",
              "    .dataframe thead th {\n",
              "        text-align: right;\n",
              "    }\n",
              "</style>\n",
              "<table border=\"1\" class=\"dataframe\">\n",
              "  <thead>\n",
              "    <tr style=\"text-align: right;\">\n",
              "      <th></th>\n",
              "      <th>RECV_CPLT_DM</th>\n",
              "      <th>NPA_CL</th>\n",
              "      <th>EVT_STAT_CD</th>\n",
              "      <th>EVT_CL_CD</th>\n",
              "      <th>RPTER_SEX</th>\n",
              "      <th>HPPN_PNU_ADDR</th>\n",
              "      <th>HPPN_X</th>\n",
              "      <th>HPPN_Y</th>\n",
              "      <th>SME_EVT_YN</th>\n",
              "      <th>year</th>\n",
              "      <th>y-m</th>\n",
              "      <th>day</th>\n",
              "    </tr>\n",
              "  </thead>\n",
              "  <tbody>\n",
              "    <tr>\n",
              "      <th>0</th>\n",
              "      <td>2020-01-01 00:03:11</td>\n",
              "      <td>19</td>\n",
              "      <td>10</td>\n",
              "      <td>406</td>\n",
              "      <td>1</td>\n",
              "      <td>충청남도 공주시 정안면 어물리(정안면) 33-2</td>\n",
              "      <td>127.148714</td>\n",
              "      <td>36.605751</td>\n",
              "      <td>Y</td>\n",
              "      <td>2020</td>\n",
              "      <td>2020-01</td>\n",
              "      <td>Wed</td>\n",
              "    </tr>\n",
              "    <tr>\n",
              "      <th>1</th>\n",
              "      <td>2020-01-01 00:18:08</td>\n",
              "      <td>19</td>\n",
              "      <td>10</td>\n",
              "      <td>403</td>\n",
              "      <td>1</td>\n",
              "      <td>충청남도 논산시 채운면 장화리(채운면) 533</td>\n",
              "      <td>127.030921</td>\n",
              "      <td>36.164643</td>\n",
              "      <td>unknown</td>\n",
              "      <td>2020</td>\n",
              "      <td>2020-01</td>\n",
              "      <td>Wed</td>\n",
              "    </tr>\n",
              "    <tr>\n",
              "      <th>2</th>\n",
              "      <td>2020-01-01 00:20:01</td>\n",
              "      <td>19</td>\n",
              "      <td>10</td>\n",
              "      <td>406</td>\n",
              "      <td>1</td>\n",
              "      <td>세종특별자치시 세종시 소담동(소담동) 32-92</td>\n",
              "      <td>127.305511</td>\n",
              "      <td>36.479819</td>\n",
              "      <td>Y</td>\n",
              "      <td>2020</td>\n",
              "      <td>2020-01</td>\n",
              "      <td>Wed</td>\n",
              "    </tr>\n",
              "  </tbody>\n",
              "</table>\n",
              "</div>\n",
              "      <button class=\"colab-df-convert\" onclick=\"convertToInteractive('df-3718ee2e-17ab-4d31-ad95-b1c780614a80')\"\n",
              "              title=\"Convert this dataframe to an interactive table.\"\n",
              "              style=\"display:none;\">\n",
              "        \n",
              "  <svg xmlns=\"http://www.w3.org/2000/svg\" height=\"24px\"viewBox=\"0 0 24 24\"\n",
              "       width=\"24px\">\n",
              "    <path d=\"M0 0h24v24H0V0z\" fill=\"none\"/>\n",
              "    <path d=\"M18.56 5.44l.94 2.06.94-2.06 2.06-.94-2.06-.94-.94-2.06-.94 2.06-2.06.94zm-11 1L8.5 8.5l.94-2.06 2.06-.94-2.06-.94L8.5 2.5l-.94 2.06-2.06.94zm10 10l.94 2.06.94-2.06 2.06-.94-2.06-.94-.94-2.06-.94 2.06-2.06.94z\"/><path d=\"M17.41 7.96l-1.37-1.37c-.4-.4-.92-.59-1.43-.59-.52 0-1.04.2-1.43.59L10.3 9.45l-7.72 7.72c-.78.78-.78 2.05 0 2.83L4 21.41c.39.39.9.59 1.41.59.51 0 1.02-.2 1.41-.59l7.78-7.78 2.81-2.81c.8-.78.8-2.07 0-2.86zM5.41 20L4 18.59l7.72-7.72 1.47 1.35L5.41 20z\"/>\n",
              "  </svg>\n",
              "      </button>\n",
              "      \n",
              "  <style>\n",
              "    .colab-df-container {\n",
              "      display:flex;\n",
              "      flex-wrap:wrap;\n",
              "      gap: 12px;\n",
              "    }\n",
              "\n",
              "    .colab-df-convert {\n",
              "      background-color: #E8F0FE;\n",
              "      border: none;\n",
              "      border-radius: 50%;\n",
              "      cursor: pointer;\n",
              "      display: none;\n",
              "      fill: #1967D2;\n",
              "      height: 32px;\n",
              "      padding: 0 0 0 0;\n",
              "      width: 32px;\n",
              "    }\n",
              "\n",
              "    .colab-df-convert:hover {\n",
              "      background-color: #E2EBFA;\n",
              "      box-shadow: 0px 1px 2px rgba(60, 64, 67, 0.3), 0px 1px 3px 1px rgba(60, 64, 67, 0.15);\n",
              "      fill: #174EA6;\n",
              "    }\n",
              "\n",
              "    [theme=dark] .colab-df-convert {\n",
              "      background-color: #3B4455;\n",
              "      fill: #D2E3FC;\n",
              "    }\n",
              "\n",
              "    [theme=dark] .colab-df-convert:hover {\n",
              "      background-color: #434B5C;\n",
              "      box-shadow: 0px 1px 3px 1px rgba(0, 0, 0, 0.15);\n",
              "      filter: drop-shadow(0px 1px 2px rgba(0, 0, 0, 0.3));\n",
              "      fill: #FFFFFF;\n",
              "    }\n",
              "  </style>\n",
              "\n",
              "      <script>\n",
              "        const buttonEl =\n",
              "          document.querySelector('#df-3718ee2e-17ab-4d31-ad95-b1c780614a80 button.colab-df-convert');\n",
              "        buttonEl.style.display =\n",
              "          google.colab.kernel.accessAllowed ? 'block' : 'none';\n",
              "\n",
              "        async function convertToInteractive(key) {\n",
              "          const element = document.querySelector('#df-3718ee2e-17ab-4d31-ad95-b1c780614a80');\n",
              "          const dataTable =\n",
              "            await google.colab.kernel.invokeFunction('convertToInteractive',\n",
              "                                                     [key], {});\n",
              "          if (!dataTable) return;\n",
              "\n",
              "          const docLinkHtml = 'Like what you see? Visit the ' +\n",
              "            '<a target=\"_blank\" href=https://colab.research.google.com/notebooks/data_table.ipynb>data table notebook</a>'\n",
              "            + ' to learn more about interactive tables.';\n",
              "          element.innerHTML = '';\n",
              "          dataTable['output_type'] = 'display_data';\n",
              "          await google.colab.output.renderOutput(dataTable, element);\n",
              "          const docLink = document.createElement('div');\n",
              "          docLink.innerHTML = docLinkHtml;\n",
              "          element.appendChild(docLink);\n",
              "        }\n",
              "      </script>\n",
              "    </div>\n",
              "  </div>\n",
              "  "
            ]
          },
          "metadata": {},
          "execution_count": 41
        }
      ]
    },
    {
      "cell_type": "code",
      "source": [
        "traffic.info()"
      ],
      "metadata": {
        "colab": {
          "base_uri": "https://localhost:8080/"
        },
        "id": "ME-VNU9puqZB",
        "outputId": "a0e8ff50-771e-4cb9-f64e-9aaad2d6bd02"
      },
      "execution_count": 52,
      "outputs": [
        {
          "output_type": "stream",
          "name": "stdout",
          "text": [
            "<class 'pandas.core.frame.DataFrame'>\n",
            "RangeIndex: 369768 entries, 0 to 369767\n",
            "Data columns (total 12 columns):\n",
            " #   Column         Non-Null Count   Dtype         \n",
            "---  ------         --------------   -----         \n",
            " 0   RECV_CPLT_DM   369768 non-null  datetime64[ns]\n",
            " 1   NPA_CL         369768 non-null  int64         \n",
            " 2   EVT_STAT_CD    369768 non-null  int64         \n",
            " 3   EVT_CL_CD      369768 non-null  int64         \n",
            " 4   RPTER_SEX      369768 non-null  int64         \n",
            " 5   HPPN_PNU_ADDR  369768 non-null  object        \n",
            " 6   HPPN_X         369768 non-null  float64       \n",
            " 7   HPPN_Y         369768 non-null  float64       \n",
            " 8   SME_EVT_YN     369768 non-null  object        \n",
            " 9   year           369768 non-null  object        \n",
            " 10  y-m            369768 non-null  object        \n",
            " 11  day            369768 non-null  object        \n",
            "dtypes: datetime64[ns](1), float64(2), int64(4), object(5)\n",
            "memory usage: 33.9+ MB\n"
          ]
        }
      ]
    },
    {
      "cell_type": "code",
      "source": [
        "traffic['year']=traffic['year'].astype(int)"
      ],
      "metadata": {
        "id": "vkhKKDbPush4"
      },
      "execution_count": 59,
      "outputs": []
    },
    {
      "cell_type": "code",
      "source": [
        "traffic.info()"
      ],
      "metadata": {
        "colab": {
          "base_uri": "https://localhost:8080/"
        },
        "id": "gazRoSwYvCVe",
        "outputId": "e1369238-0d97-44f8-fff8-fa1d952ce97b"
      },
      "execution_count": 60,
      "outputs": [
        {
          "output_type": "stream",
          "name": "stdout",
          "text": [
            "<class 'pandas.core.frame.DataFrame'>\n",
            "RangeIndex: 369768 entries, 0 to 369767\n",
            "Data columns (total 12 columns):\n",
            " #   Column         Non-Null Count   Dtype         \n",
            "---  ------         --------------   -----         \n",
            " 0   RECV_CPLT_DM   369768 non-null  datetime64[ns]\n",
            " 1   NPA_CL         369768 non-null  int64         \n",
            " 2   EVT_STAT_CD    369768 non-null  int64         \n",
            " 3   EVT_CL_CD      369768 non-null  int64         \n",
            " 4   RPTER_SEX      369768 non-null  int64         \n",
            " 5   HPPN_PNU_ADDR  369768 non-null  object        \n",
            " 6   HPPN_X         369768 non-null  float64       \n",
            " 7   HPPN_Y         369768 non-null  float64       \n",
            " 8   SME_EVT_YN     369768 non-null  object        \n",
            " 9   year           369768 non-null  int64         \n",
            " 10  y-m            369768 non-null  object        \n",
            " 11  day            369768 non-null  object        \n",
            "dtypes: datetime64[ns](1), float64(2), int64(5), object(4)\n",
            "memory usage: 33.9+ MB\n"
          ]
        }
      ]
    },
    {
      "cell_type": "code",
      "source": [
        "# 사고데이터 = 교통사고 + 사망.대형사고 + 인피도주(뺑소니)\n",
        "traffic0 = traffic[traffic['EVT_CL_CD'].isin([401,404,405])]\n",
        "\n",
        "traffic1 = traffic[traffic['EVT_CL_CD']==401] # 교통사고\n",
        "traffic4 = traffic[traffic['EVT_CL_CD']==404] # 사망.대형사고\n",
        "traffic5 = traffic[traffic['EVT_CL_CD']==405] # 인피도주 (뺑소니)\n",
        "\n",
        "traffic2 = traffic[traffic['EVT_CL_CD']==402] # 교통불편\n",
        "traffic3 = traffic[traffic['EVT_CL_CD']==403] # 교통위반\n",
        "traffic6 = traffic[traffic['EVT_CL_CD']==406] # 음주운전"
      ],
      "metadata": {
        "id": "TDzwBcBvitrR"
      },
      "execution_count": 61,
      "outputs": []
    },
    {
      "cell_type": "markdown",
      "source": [
        "## 그래프 시각화"
      ],
      "metadata": {
        "id": "aNUPXaYRpEeg"
      }
    },
    {
      "cell_type": "markdown",
      "source": [
        "### 1. 사고 데이터(사고+사망+뺑소니)"
      ],
      "metadata": {
        "id": "Jh-6Bkb2pjzd"
      }
    },
    {
      "cell_type": "markdown",
      "source": [
        "#### 1-1. 월별"
      ],
      "metadata": {
        "id": "O9-UYS0dztNt"
      }
    },
    {
      "cell_type": "code",
      "source": [
        "# 사고 데이터\n",
        "plt.style.use('seaborn-whitegrid')\n",
        "plt.figure(figsize=(29,9))\n",
        "\n",
        "plt.plot(traffic0['y-m'].value_counts().sort_index())"
      ],
      "metadata": {
        "colab": {
          "base_uri": "https://localhost:8080/",
          "height": 397
        },
        "id": "9BfpWHAIlvmu",
        "outputId": "4bb737ca-321d-46ce-ce7f-c0513536ef70"
      },
      "execution_count": 76,
      "outputs": [
        {
          "output_type": "execute_result",
          "data": {
            "text/plain": [
              "[<matplotlib.lines.Line2D at 0x7f0a082e0310>]"
            ]
          },
          "metadata": {},
          "execution_count": 76
        },
        {
          "output_type": "display_data",
          "data": {
            "text/plain": [
              "<Figure size 2088x648 with 1 Axes>"
            ],
            "image/png": "[encoded data removed]"
          },
          "metadata": {}
        }
      ]
    },
    {
      "cell_type": "markdown",
      "source": [
        "3,4,5  봄,\n",
        "6,7,8 = 여름,\n",
        "9,10,11 = 가을, \n",
        "12,1,2 = 겨울\n",
        "1. 2020년\n",
        "  - 8,9,10월 여름~가을에 교통사고 多\n",
        "  - 11,12월 겨울에 교통사고 少\n",
        "2. 2021년\n",
        "  - 9,10,11월 가을에 교통사고 多\n",
        "  - 1,2월 겨울에 교통사고 少\n",
        "3. 2022년\n",
        "  - 9,10,11월 가을에 교통사고 多\n",
        "  - 1,2,3월 겨울~봄에 교통사고 少\n",
        "\n",
        "> 종합  \n",
        "> - 가을에 교통사고가 많은 것이 특징\n",
        "> - 겨울에 교통사고가 적은 것이 특징 (눈길이라 사고가 많을 줄 알았는데 오히려 적음. 이동량 자체가 적어서?)\n",
        "> - 2020년에 전반적으로 교통사고 많은 것이 특징. 코로나와 관련?\n",
        "\n",
        "\n",
        "*2023-01은 18일까지의 데이터 밖에 없어서 사고 수 적음. 분석에서 제외외"
      ],
      "metadata": {
        "id": "n2sRBKDnilUW"
      }
    },
    {
      "cell_type": "markdown",
      "source": [
        "#### 1-2. 요일별"
      ],
      "metadata": {
        "id": "pWvmzQ6szxoV"
      }
    },
    {
      "cell_type": "code",
      "source": [
        "# 요일별 사고빈도(2020년)\n",
        "x20 = traffic0[traffic0['year']==2020]['day'].value_counts()\n",
        "weekday_order = ['Mon', 'Tue', 'Wed', 'Thu', 'Fri', 'Sat', 'Sun']\n",
        "x20 = x20.loc[weekday_order]\n",
        "\n",
        "plt.style.use('seaborn-whitegrid')\n",
        "plt.figure(figsize=(10,7))\n",
        "\n",
        "plt.plot(x20)"
      ],
      "metadata": {
        "colab": {
          "base_uri": "https://localhost:8080/",
          "height": 447
        },
        "id": "ivvOEsFQtkgV",
        "outputId": "5101b141-dc03-4dbd-eb77-eaa10e9b02a1"
      },
      "execution_count": 78,
      "outputs": [
        {
          "output_type": "execute_result",
          "data": {
            "text/plain": [
              "[<matplotlib.lines.Line2D at 0x7f53b31e27f0>]"
            ]
          },
          "metadata": {},
          "execution_count": 78
        },
        {
          "output_type": "display_data",
          "data": {
            "text/plain": [
              "<Figure size 720x504 with 1 Axes>"
            ],
            "image/png": "[encoded data removed]"
          },
          "metadata": {}
        }
      ]
    },
    {
      "cell_type": "markdown",
      "source": [
        "- 금요일 사고 빈도 多\n",
        "- 일요일 사고 빈도 少\n",
        "- 월,화,수로 갈수록 차츰 사고가 줄어들다가 금요일에 교통사고 급증하는 특징. 다시 주말에는 감소"
      ],
      "metadata": {
        "id": "PoXieNvHxpjs"
      }
    },
    {
      "cell_type": "code",
      "source": [
        "# 요일별 사고빈도(2021년)\n",
        "x21 = traffic0[traffic0['year']==2021]['day'].value_counts()\n",
        "weekday_order = ['Mon', 'Tue', 'Wed', 'Thu', 'Fri', 'Sat', 'Sun']\n",
        "x21 = x21.loc[weekday_order]\n",
        "\n",
        "plt.style.use('seaborn-whitegrid')\n",
        "plt.figure(figsize=(10,7))\n",
        "\n",
        "plt.plot(x21)"
      ],
      "metadata": {
        "colab": {
          "base_uri": "https://localhost:8080/",
          "height": 444
        },
        "id": "Mu-wAE9Exf1F",
        "outputId": "dccdad40-9718-48a5-c14e-288a32301328"
      },
      "execution_count": 79,
      "outputs": [
        {
          "output_type": "execute_result",
          "data": {
            "text/plain": [
              "[<matplotlib.lines.Line2D at 0x7f53b3197910>]"
            ]
          },
          "metadata": {},
          "execution_count": 79
        },
        {
          "output_type": "display_data",
          "data": {
            "text/plain": [
              "<Figure size 720x504 with 1 Axes>"
            ],
            "image/png": "[encoded data removed]"
          },
          "metadata": {}
        }
      ]
    },
    {
      "cell_type": "markdown",
      "source": [
        "- 금요일 사고 빈도 多\n",
        "- 일요일 사고 빈도 少\n",
        "- 월,화,수,목으로 갈수록 차츰 사고가 줄어들다가 금요일에 교통사고 급증하는 특징. 주말에는 다시 감소"
      ],
      "metadata": {
        "id": "eGaTIRhnx3b-"
      }
    },
    {
      "cell_type": "code",
      "source": [
        "# 요일별 사고빈도(2022년)\n",
        "x22 = traffic0[traffic0['year']==2022]['day'].value_counts()\n",
        "weekday_order = ['Mon', 'Tue', 'Wed', 'Thu', 'Fri', 'Sat', 'Sun']\n",
        "x22 = x22.loc[weekday_order]\n",
        "\n",
        "plt.style.use('seaborn-whitegrid')\n",
        "plt.figure(figsize=(10,7))\n",
        "\n",
        "plt.plot(x22)"
      ],
      "metadata": {
        "colab": {
          "base_uri": "https://localhost:8080/",
          "height": 444
        },
        "id": "vhZpg4fwx5lk",
        "outputId": "dbcc6ae3-c02b-4384-dd5e-2f1696ce3754"
      },
      "execution_count": 80,
      "outputs": [
        {
          "output_type": "execute_result",
          "data": {
            "text/plain": [
              "[<matplotlib.lines.Line2D at 0x7f53b30d0ee0>]"
            ]
          },
          "metadata": {},
          "execution_count": 80
        },
        {
          "output_type": "display_data",
          "data": {
            "text/plain": [
              "<Figure size 720x504 with 1 Axes>"
            ],
            "image/png": "[encoded data removed]"
          },
          "metadata": {}
        }
      ]
    },
    {
      "cell_type": "markdown",
      "source": [
        "- 금요일 사고 빈도 多\n",
        "- 일요일 사고 빈도 少\n",
        "- 월,화,수, 목으로 갈수록 차츰 사고가 줄어들다가 금요일에 교통사고 급증하는 특징. 주말에는 다시 감소"
      ],
      "metadata": {
        "id": "h2mlp9CryCrh"
      }
    },
    {
      "cell_type": "markdown",
      "source": [
        "> 종합  \n",
        "- 2020~2022년 모두 금요일에 교통사고가 집중되는 경향\n",
        "- 일요일은 상대적으로 적은 교통사고 발생\n",
        "- 월에서 목으로 갈수록록 차츰 교통사고 줄어들다가 금요일에 급증. 주말에는 다시 감소"
      ],
      "metadata": {
        "id": "I6RGRTwVyDln"
      }
    },
    {
      "cell_type": "markdown",
      "source": [
        "### 2. 음주운전 데이터"
      ],
      "metadata": {
        "id": "lG5fll6Rpq-m"
      }
    },
    {
      "cell_type": "markdown",
      "source": [
        "#### 2-1. 월별"
      ],
      "metadata": {
        "id": "SgAMT-oiz2Z8"
      }
    },
    {
      "cell_type": "code",
      "source": [
        "# 음주운전 데이터\n",
        "plt.style.use('seaborn-whitegrid')\n",
        "plt.figure(figsize=(29,9))\n",
        "\n",
        "plt.plot(traffic6['y-m'].value_counts().sort_index())"
      ],
      "metadata": {
        "colab": {
          "base_uri": "https://localhost:8080/",
          "height": 397
        },
        "id": "3Rx_KOVckg5p",
        "outputId": "b97bc2b2-a4f6-468c-8d26-1aeea582222b"
      },
      "execution_count": 79,
      "outputs": [
        {
          "output_type": "execute_result",
          "data": {
            "text/plain": [
              "[<matplotlib.lines.Line2D at 0x7f0a069758b0>]"
            ]
          },
          "metadata": {},
          "execution_count": 79
        },
        {
          "output_type": "display_data",
          "data": {
            "text/plain": [
              "<Figure size 2088x648 with 1 Axes>"
            ],
            "image/png": "[encoded data removed]"
          },
          "metadata": {}
        }
      ]
    },
    {
      "cell_type": "markdown",
      "source": [
        "- 음주운전은 갈수록 많아지는 추이\n",
        "  - 이유1: 음주운전에 대한 경각심이 줄어서?\n",
        "  - 이유2: 코로나로 주춤했던 술자리가 점차 늘어서?\n",
        "\n",
        "- **음주운전 단속 강화 필요성 대두**"
      ],
      "metadata": {
        "id": "cwk8B4N2odEv"
      }
    },
    {
      "cell_type": "markdown",
      "source": [
        "#### 2-2. 요일별"
      ],
      "metadata": {
        "id": "QiEGE7UYz4-C"
      }
    },
    {
      "cell_type": "code",
      "source": [
        "# 2020년\n",
        "x6_20 = traffic6[traffic6['year']==2020]['day'].value_counts()\n",
        "weekday_order = ['Mon', 'Tue', 'Wed', 'Thu', 'Fri', 'Sat', 'Sun']\n",
        "x6_20 = x6_20.loc[weekday_order]\n",
        "\n",
        "plt.style.use('seaborn-whitegrid')\n",
        "plt.figure(figsize=(10,7))\n",
        "\n",
        "plt.plot(x6_20)"
      ],
      "metadata": {
        "colab": {
          "base_uri": "https://localhost:8080/",
          "height": 447
        },
        "id": "Qzf-gUCRzcSD",
        "outputId": "c52f8d37-184f-4eec-ecfb-2f50c0279e9a"
      },
      "execution_count": 85,
      "outputs": [
        {
          "output_type": "execute_result",
          "data": {
            "text/plain": [
              "[<matplotlib.lines.Line2D at 0x7f53b2d4f8e0>]"
            ]
          },
          "metadata": {},
          "execution_count": 85
        },
        {
          "output_type": "display_data",
          "data": {
            "text/plain": [
              "<Figure size 720x504 with 1 Axes>"
            ],
            "image/png": "[encoded data removed]"
          },
          "metadata": {}
        }
      ]
    },
    {
      "cell_type": "markdown",
      "source": [
        "- 월요일부터 금요일까지 증가하는 추세\n",
        "- 토요일에 폭증하는 특징\n",
        "- 일요일에는 토요일에 비해 감소하나 평일에 비해선 높음"
      ],
      "metadata": {
        "id": "VHVturL-z_MN"
      }
    },
    {
      "cell_type": "code",
      "source": [
        "# 2021년\n",
        "x6_21 = traffic6[traffic6['year']==2021]['day'].value_counts()\n",
        "weekday_order = ['Mon', 'Tue', 'Wed', 'Thu', 'Fri', 'Sat', 'Sun']\n",
        "x6_21 = x6_21.loc[weekday_order]\n",
        "\n",
        "plt.style.use('seaborn-whitegrid')\n",
        "plt.figure(figsize=(10,7))\n",
        "\n",
        "plt.plot(x6_21)"
      ],
      "metadata": {
        "colab": {
          "base_uri": "https://localhost:8080/",
          "height": 444
        },
        "id": "AYEBRdVF0LE4",
        "outputId": "31f86d1c-bf37-4214-92ab-6db51386a1eb"
      },
      "execution_count": 87,
      "outputs": [
        {
          "output_type": "execute_result",
          "data": {
            "text/plain": [
              "[<matplotlib.lines.Line2D at 0x7f53b2c78b80>]"
            ]
          },
          "metadata": {},
          "execution_count": 87
        },
        {
          "output_type": "display_data",
          "data": {
            "text/plain": [
              "<Figure size 720x504 with 1 Axes>"
            ],
            "image/png": "[encoded data removed]"
          },
          "metadata": {}
        }
      ]
    },
    {
      "cell_type": "markdown",
      "source": [
        "- 2020년도와 같은 특징"
      ],
      "metadata": {
        "id": "sF35tBSs01JC"
      }
    },
    {
      "cell_type": "code",
      "source": [
        "# 2022년\n",
        "x6_22 = traffic6[traffic6['year']==2022]['day'].value_counts()\n",
        "weekday_order = ['Mon', 'Tue', 'Wed', 'Thu', 'Fri', 'Sat', 'Sun']\n",
        "x6_22 = x6_22.loc[weekday_order]\n",
        "\n",
        "plt.style.use('seaborn-whitegrid')\n",
        "plt.figure(figsize=(10,7))\n",
        "\n",
        "plt.plot(x6_22)"
      ],
      "metadata": {
        "colab": {
          "base_uri": "https://localhost:8080/",
          "height": 444
        },
        "id": "KfAxXDFl04C8",
        "outputId": "1d98f98d-a88f-4618-fc93-634e1c9a1d3e"
      },
      "execution_count": 88,
      "outputs": [
        {
          "output_type": "execute_result",
          "data": {
            "text/plain": [
              "[<matplotlib.lines.Line2D at 0x7f53b2b8ef10>]"
            ]
          },
          "metadata": {},
          "execution_count": 88
        },
        {
          "output_type": "display_data",
          "data": {
            "text/plain": [
              "<Figure size 720x504 with 1 Axes>"
            ],
            "image/png": "[encoded data removed]"
          },
          "metadata": {}
        }
      ]
    },
    {
      "cell_type": "markdown",
      "source": [
        "- 이전 년도 데이터와 같은 특징"
      ],
      "metadata": {
        "id": "5q93yNW_0__W"
      }
    },
    {
      "cell_type": "markdown",
      "source": [
        "> 종합\n",
        "- 요일별 음주운전 적발 빈도는 매년 같은 패턴을 반복함\n",
        "- 즉, 월요일부터 금요일까지 차츰 음주운전 차량이 증가하다가 토요일에 급등하는 특징을 보임. 일요일에는 토요일에 비해선 감소하나, 평일에 비해선 높음음 "
      ],
      "metadata": {
        "id": "hwqg-8_-1CT1"
      }
    },
    {
      "cell_type": "markdown",
      "source": [
        "### 3. 강수량 & 교통사고 - 보류\n",
        "\n"
      ],
      "metadata": {
        "id": "0BIyK0fapyio"
      }
    },
    {
      "cell_type": "code",
      "source": [
        "import json\n",
        "import requests\n",
        "from bs4 import BeautifulSoup\n",
        "\n",
        "url = 'http://apis.data.go.kr/1360000/AsosDalyInfoService/getWthrDataList'\n",
        "\n",
        "queryParams = '?' + \\\n",
        "              'ServiceKey=' + ''+ \\\n",
        "              '&pageNo='+ '1' + \\\n",
        "              '&numOfRows='+ '999' + \\\n",
        "              '&dataType='+ 'JSON' + \\\n",
        "              '&dataCd='+ 'ASOS' + \\\n",
        "              '&dateCd='+ 'DAY' + \\\n",
        "              '&startDt='+ '20200101' + \\\n",
        "              '&endDt='+ '20221231' + \\\n",
        "              '&stnIds='+ '133' # \\ 뒤에 공백 금지\n",
        "\n",
        "result = requests.get(url + queryParams)\n",
        "js = json.loads(result.content)\n",
        "data_Daejeon = pd.DataFrame(js['response']['body']['items']['item'])\n",
        "\n",
        "li = ['stnId','tm','avgTa','minTa','maxTa','sumRn','maxWs','avgWs','ddMes']\n",
        "\n",
        "data_Daejeon.loc[:,li]\n",
        "\n",
        "data_Daejeon[li].to_csv(\"weather_Daejeon.csv\",index=False )"
      ],
      "metadata": {
        "id": "2srFTm3Up3nR"
      },
      "execution_count": 7,
      "outputs": []
    },
    {
      "cell_type": "code",
      "source": [
        "data_Daejeon.head(3)"
      ],
      "metadata": {
        "colab": {
          "base_uri": "https://localhost:8080/",
          "height": 618
        },
        "id": "3OcFskH9exOy",
        "outputId": "9c76af1c-e3ca-498c-8bb1-0379187978c8"
      },
      "execution_count": 8,
      "outputs": [
        {
          "output_type": "execute_result",
          "data": {
            "text/plain": [
              "  stnId stnNm          tm avgTa minTa minTaHrmt maxTa maxTaHrmt mi10MaxRn  \\\n",
              "0   133    대전  2020-01-01  -0.6  -7.7      0017   5.1      1439             \n",
              "1   133    대전  2020-01-02   1.3  -2.8      0336   5.3      1410             \n",
              "2   133    대전  2020-01-03   2.0  -1.7      2400   7.7      1511             \n",
              "\n",
              "  mi10MaxRnHrmt  ... avgM05Te avgM10Te avgM15Te avgM30Te avgM50Te sumLrgEv  \\\n",
              "0                ...      5.3      8.5     11.0     16.1     18.2      1.1   \n",
              "1                ...      4.9      8.4     11.0     16.0     18.2      0.6   \n",
              "2                ...      4.8      8.1     10.9     15.9     18.0      1.1   \n",
              "\n",
              "  sumSmlEv n99Rn                                               iscs sumFogDur  \n",
              "0      1.6        {눈}0350-{눈}{강도0}0600-0625. {박무}2355-{박무}{강도0}2...            \n",
              "1      0.8        -{박무}-{박무}{강도0}0300-{박무}{강도0}0600-{박무}{강도0}090...            \n",
              "2      1.5        -{박무}-{박무}{강도1}0300-{박무}{강도1}0600-{박무}{강도1}090...            \n",
              "\n",
              "[3 rows x 62 columns]"
            ],
            "text/html": [
              "\n",
              "  <div id=\"df-6849c10c-f702-44d5-b269-5b6fa6902280\">\n",
              "    <div class=\"colab-df-container\">\n",
              "      <div>\n",
              "<style scoped>\n",
              "    .dataframe tbody tr th:only-of-type {\n",
              "        vertical-align: middle;\n",
              "    }\n",
              "\n",
              "    .dataframe tbody tr th {\n",
              "        vertical-align: top;\n",
              "    }\n",
              "\n",
              "    .dataframe thead th {\n",
              "        text-align: right;\n",
              "    }\n",
              "</style>\n",
              "<table border=\"1\" class=\"dataframe\">\n",
              "  <thead>\n",
              "    <tr style=\"text-align: right;\">\n",
              "      <th></th>\n",
              "      <th>stnId</th>\n",
              "      <th>stnNm</th>\n",
              "      <th>tm</th>\n",
              "      <th>avgTa</th>\n",
              "      <th>minTa</th>\n",
              "      <th>minTaHrmt</th>\n",
              "      <th>maxTa</th>\n",
              "      <th>maxTaHrmt</th>\n",
              "      <th>mi10MaxRn</th>\n",
              "      <th>mi10MaxRnHrmt</th>\n",
              "      <th>...</th>\n",
              "      <th>avgM05Te</th>\n",
              "      <th>avgM10Te</th>\n",
              "      <th>avgM15Te</th>\n",
              "      <th>avgM30Te</th>\n",
              "      <th>avgM50Te</th>\n",
              "      <th>sumLrgEv</th>\n",
              "      <th>sumSmlEv</th>\n",
              "      <th>n99Rn</th>\n",
              "      <th>iscs</th>\n",
              "      <th>sumFogDur</th>\n",
              "    </tr>\n",
              "  </thead>\n",
              "  <tbody>\n",
              "    <tr>\n",
              "      <th>0</th>\n",
              "      <td>133</td>\n",
              "      <td>대전</td>\n",
              "      <td>2020-01-01</td>\n",
              "      <td>-0.6</td>\n",
              "      <td>-7.7</td>\n",
              "      <td>0017</td>\n",
              "      <td>5.1</td>\n",
              "      <td>1439</td>\n",
              "      <td></td>\n",
              "      <td></td>\n",
              "      <td>...</td>\n",
              "      <td>5.3</td>\n",
              "      <td>8.5</td>\n",
              "      <td>11.0</td>\n",
              "      <td>16.1</td>\n",
              "      <td>18.2</td>\n",
              "      <td>1.1</td>\n",
              "      <td>1.6</td>\n",
              "      <td></td>\n",
              "      <td>{눈}0350-{눈}{강도0}0600-0625. {박무}2355-{박무}{강도0}2...</td>\n",
              "      <td></td>\n",
              "    </tr>\n",
              "    <tr>\n",
              "      <th>1</th>\n",
              "      <td>133</td>\n",
              "      <td>대전</td>\n",
              "      <td>2020-01-02</td>\n",
              "      <td>1.3</td>\n",
              "      <td>-2.8</td>\n",
              "      <td>0336</td>\n",
              "      <td>5.3</td>\n",
              "      <td>1410</td>\n",
              "      <td></td>\n",
              "      <td></td>\n",
              "      <td>...</td>\n",
              "      <td>4.9</td>\n",
              "      <td>8.4</td>\n",
              "      <td>11.0</td>\n",
              "      <td>16.0</td>\n",
              "      <td>18.2</td>\n",
              "      <td>0.6</td>\n",
              "      <td>0.8</td>\n",
              "      <td></td>\n",
              "      <td>-{박무}-{박무}{강도0}0300-{박무}{강도0}0600-{박무}{강도0}090...</td>\n",
              "      <td></td>\n",
              "    </tr>\n",
              "    <tr>\n",
              "      <th>2</th>\n",
              "      <td>133</td>\n",
              "      <td>대전</td>\n",
              "      <td>2020-01-03</td>\n",
              "      <td>2.0</td>\n",
              "      <td>-1.7</td>\n",
              "      <td>2400</td>\n",
              "      <td>7.7</td>\n",
              "      <td>1511</td>\n",
              "      <td></td>\n",
              "      <td></td>\n",
              "      <td>...</td>\n",
              "      <td>4.8</td>\n",
              "      <td>8.1</td>\n",
              "      <td>10.9</td>\n",
              "      <td>15.9</td>\n",
              "      <td>18.0</td>\n",
              "      <td>1.1</td>\n",
              "      <td>1.5</td>\n",
              "      <td></td>\n",
              "      <td>-{박무}-{박무}{강도1}0300-{박무}{강도1}0600-{박무}{강도1}090...</td>\n",
              "      <td></td>\n",
              "    </tr>\n",
              "  </tbody>\n",
              "</table>\n",
              "<p>3 rows × 62 columns</p>\n",
              "</div>\n",
              "      <button class=\"colab-df-convert\" onclick=\"convertToInteractive('df-6849c10c-f702-44d5-b269-5b6fa6902280')\"\n",
              "              title=\"Convert this dataframe to an interactive table.\"\n",
              "              style=\"display:none;\">\n",
              "        \n",
              "  <svg xmlns=\"http://www.w3.org/2000/svg\" height=\"24px\"viewBox=\"0 0 24 24\"\n",
              "       width=\"24px\">\n",
              "    <path d=\"M0 0h24v24H0V0z\" fill=\"none\"/>\n",
              "    <path d=\"M18.56 5.44l.94 2.06.94-2.06 2.06-.94-2.06-.94-.94-2.06-.94 2.06-2.06.94zm-11 1L8.5 8.5l.94-2.06 2.06-.94-2.06-.94L8.5 2.5l-.94 2.06-2.06.94zm10 10l.94 2.06.94-2.06 2.06-.94-2.06-.94-.94-2.06-.94 2.06-2.06.94z\"/><path d=\"M17.41 7.96l-1.37-1.37c-.4-.4-.92-.59-1.43-.59-.52 0-1.04.2-1.43.59L10.3 9.45l-7.72 7.72c-.78.78-.78 2.05 0 2.83L4 21.41c.39.39.9.59 1.41.59.51 0 1.02-.2 1.41-.59l7.78-7.78 2.81-2.81c.8-.78.8-2.07 0-2.86zM5.41 20L4 18.59l7.72-7.72 1.47 1.35L5.41 20z\"/>\n",
              "  </svg>\n",
              "      </button>\n",
              "      \n",
              "  <style>\n",
              "    .colab-df-container {\n",
              "      display:flex;\n",
              "      flex-wrap:wrap;\n",
              "      gap: 12px;\n",
              "    }\n",
              "\n",
              "    .colab-df-convert {\n",
              "      background-color: #E8F0FE;\n",
              "      border: none;\n",
              "      border-radius: 50%;\n",
              "      cursor: pointer;\n",
              "      display: none;\n",
              "      fill: #1967D2;\n",
              "      height: 32px;\n",
              "      padding: 0 0 0 0;\n",
              "      width: 32px;\n",
              "    }\n",
              "\n",
              "    .colab-df-convert:hover {\n",
              "      background-color: #E2EBFA;\n",
              "      box-shadow: 0px 1px 2px rgba(60, 64, 67, 0.3), 0px 1px 3px 1px rgba(60, 64, 67, 0.15);\n",
              "      fill: #174EA6;\n",
              "    }\n",
              "\n",
              "    [theme=dark] .colab-df-convert {\n",
              "      background-color: #3B4455;\n",
              "      fill: #D2E3FC;\n",
              "    }\n",
              "\n",
              "    [theme=dark] .colab-df-convert:hover {\n",
              "      background-color: #434B5C;\n",
              "      box-shadow: 0px 1px 3px 1px rgba(0, 0, 0, 0.15);\n",
              "      filter: drop-shadow(0px 1px 2px rgba(0, 0, 0, 0.3));\n",
              "      fill: #FFFFFF;\n",
              "    }\n",
              "  </style>\n",
              "\n",
              "      <script>\n",
              "        const buttonEl =\n",
              "          document.querySelector('#df-6849c10c-f702-44d5-b269-5b6fa6902280 button.colab-df-convert');\n",
              "        buttonEl.style.display =\n",
              "          google.colab.kernel.accessAllowed ? 'block' : 'none';\n",
              "\n",
              "        async function convertToInteractive(key) {\n",
              "          const element = document.querySelector('#df-6849c10c-f702-44d5-b269-5b6fa6902280');\n",
              "          const dataTable =\n",
              "            await google.colab.kernel.invokeFunction('convertToInteractive',\n",
              "                                                     [key], {});\n",
              "          if (!dataTable) return;\n",
              "\n",
              "          const docLinkHtml = 'Like what you see? Visit the ' +\n",
              "            '<a target=\"_blank\" href=https://colab.research.google.com/notebooks/data_table.ipynb>data table notebook</a>'\n",
              "            + ' to learn more about interactive tables.';\n",
              "          element.innerHTML = '';\n",
              "          dataTable['output_type'] = 'display_data';\n",
              "          await google.colab.output.renderOutput(dataTable, element);\n",
              "          const docLink = document.createElement('div');\n",
              "          docLink.innerHTML = docLinkHtml;\n",
              "          element.appendChild(docLink);\n",
              "        }\n",
              "      </script>\n",
              "    </div>\n",
              "  </div>\n",
              "  "
            ]
          },
          "metadata": {},
          "execution_count": 8
        }
      ]
    },
    {
      "cell_type": "code",
      "source": [
        "data_Daejeon.tail(3)"
      ],
      "metadata": {
        "colab": {
          "base_uri": "https://localhost:8080/",
          "height": 289
        },
        "id": "NJQ3vNL5e1Cx",
        "outputId": "b00b09c9-9449-412f-bef7-7768ab3dff66"
      },
      "execution_count": 9,
      "outputs": [
        {
          "output_type": "execute_result",
          "data": {
            "text/plain": [
              "    stnId stnNm          tm avgTa minTa minTaHrmt maxTa maxTaHrmt mi10MaxRn  \\\n",
              "996   133    대전  2022-09-23  17.7  12.6      2330  24.5      1201       0.0   \n",
              "997   133    대전  2022-09-24  17.5  11.3      0614  23.8      1333             \n",
              "998   133    대전  2022-09-25  18.5  14.4      0606  24.8      1426             \n",
              "\n",
              "    mi10MaxRnHrmt  ... avgM05Te avgM10Te avgM15Te avgM30Te avgM50Te sumLrgEv  \\\n",
              "996                ...     25.0     25.3     24.9     22.8     19.2      3.5   \n",
              "997                ...     24.4     25.2     24.8     22.7     19.2      3.9   \n",
              "998                ...     24.2     24.8     24.7     22.7     19.2      2.4   \n",
              "\n",
              "    sumSmlEv n99Rn           iscs sumFogDur  \n",
              "996      4.9   0.0  {비}1324-1333.            \n",
              "997      5.5                                 \n",
              "998      3.4                                 \n",
              "\n",
              "[3 rows x 62 columns]"
            ],
            "text/html": [
              "\n",
              "  <div id=\"df-af02ffe6-bd38-4738-b701-ac1871cbbb8d\">\n",
              "    <div class=\"colab-df-container\">\n",
              "      <div>\n",
              "<style scoped>\n",
              "    .dataframe tbody tr th:only-of-type {\n",
              "        vertical-align: middle;\n",
              "    }\n",
              "\n",
              "    .dataframe tbody tr th {\n",
              "        vertical-align: top;\n",
              "    }\n",
              "\n",
              "    .dataframe thead th {\n",
              "        text-align: right;\n",
              "    }\n",
              "</style>\n",
              "<table border=\"1\" class=\"dataframe\">\n",
              "  <thead>\n",
              "    <tr style=\"text-align: right;\">\n",
              "      <th></th>\n",
              "      <th>stnId</th>\n",
              "      <th>stnNm</th>\n",
              "      <th>tm</th>\n",
              "      <th>avgTa</th>\n",
              "      <th>minTa</th>\n",
              "      <th>minTaHrmt</th>\n",
              "      <th>maxTa</th>\n",
              "      <th>maxTaHrmt</th>\n",
              "      <th>mi10MaxRn</th>\n",
              "      <th>mi10MaxRnHrmt</th>\n",
              "      <th>...</th>\n",
              "      <th>avgM05Te</th>\n",
              "      <th>avgM10Te</th>\n",
              "      <th>avgM15Te</th>\n",
              "      <th>avgM30Te</th>\n",
              "      <th>avgM50Te</th>\n",
              "      <th>sumLrgEv</th>\n",
              "      <th>sumSmlEv</th>\n",
              "      <th>n99Rn</th>\n",
              "      <th>iscs</th>\n",
              "      <th>sumFogDur</th>\n",
              "    </tr>\n",
              "  </thead>\n",
              "  <tbody>\n",
              "    <tr>\n",
              "      <th>996</th>\n",
              "      <td>133</td>\n",
              "      <td>대전</td>\n",
              "      <td>2022-09-23</td>\n",
              "      <td>17.7</td>\n",
              "      <td>12.6</td>\n",
              "      <td>2330</td>\n",
              "      <td>24.5</td>\n",
              "      <td>1201</td>\n",
              "      <td>0.0</td>\n",
              "      <td></td>\n",
              "      <td>...</td>\n",
              "      <td>25.0</td>\n",
              "      <td>25.3</td>\n",
              "      <td>24.9</td>\n",
              "      <td>22.8</td>\n",
              "      <td>19.2</td>\n",
              "      <td>3.5</td>\n",
              "      <td>4.9</td>\n",
              "      <td>0.0</td>\n",
              "      <td>{비}1324-1333.</td>\n",
              "      <td></td>\n",
              "    </tr>\n",
              "    <tr>\n",
              "      <th>997</th>\n",
              "      <td>133</td>\n",
              "      <td>대전</td>\n",
              "      <td>2022-09-24</td>\n",
              "      <td>17.5</td>\n",
              "      <td>11.3</td>\n",
              "      <td>0614</td>\n",
              "      <td>23.8</td>\n",
              "      <td>1333</td>\n",
              "      <td></td>\n",
              "      <td></td>\n",
              "      <td>...</td>\n",
              "      <td>24.4</td>\n",
              "      <td>25.2</td>\n",
              "      <td>24.8</td>\n",
              "      <td>22.7</td>\n",
              "      <td>19.2</td>\n",
              "      <td>3.9</td>\n",
              "      <td>5.5</td>\n",
              "      <td></td>\n",
              "      <td></td>\n",
              "      <td></td>\n",
              "    </tr>\n",
              "    <tr>\n",
              "      <th>998</th>\n",
              "      <td>133</td>\n",
              "      <td>대전</td>\n",
              "      <td>2022-09-25</td>\n",
              "      <td>18.5</td>\n",
              "      <td>14.4</td>\n",
              "      <td>0606</td>\n",
              "      <td>24.8</td>\n",
              "      <td>1426</td>\n",
              "      <td></td>\n",
              "      <td></td>\n",
              "      <td>...</td>\n",
              "      <td>24.2</td>\n",
              "      <td>24.8</td>\n",
              "      <td>24.7</td>\n",
              "      <td>22.7</td>\n",
              "      <td>19.2</td>\n",
              "      <td>2.4</td>\n",
              "      <td>3.4</td>\n",
              "      <td></td>\n",
              "      <td></td>\n",
              "      <td></td>\n",
              "    </tr>\n",
              "  </tbody>\n",
              "</table>\n",
              "<p>3 rows × 62 columns</p>\n",
              "</div>\n",
              "      <button class=\"colab-df-convert\" onclick=\"convertToInteractive('df-af02ffe6-bd38-4738-b701-ac1871cbbb8d')\"\n",
              "              title=\"Convert this dataframe to an interactive table.\"\n",
              "              style=\"display:none;\">\n",
              "        \n",
              "  <svg xmlns=\"http://www.w3.org/2000/svg\" height=\"24px\"viewBox=\"0 0 24 24\"\n",
              "       width=\"24px\">\n",
              "    <path d=\"M0 0h24v24H0V0z\" fill=\"none\"/>\n",
              "    <path d=\"M18.56 5.44l.94 2.06.94-2.06 2.06-.94-2.06-.94-.94-2.06-.94 2.06-2.06.94zm-11 1L8.5 8.5l.94-2.06 2.06-.94-2.06-.94L8.5 2.5l-.94 2.06-2.06.94zm10 10l.94 2.06.94-2.06 2.06-.94-2.06-.94-.94-2.06-.94 2.06-2.06.94z\"/><path d=\"M17.41 7.96l-1.37-1.37c-.4-.4-.92-.59-1.43-.59-.52 0-1.04.2-1.43.59L10.3 9.45l-7.72 7.72c-.78.78-.78 2.05 0 2.83L4 21.41c.39.39.9.59 1.41.59.51 0 1.02-.2 1.41-.59l7.78-7.78 2.81-2.81c.8-.78.8-2.07 0-2.86zM5.41 20L4 18.59l7.72-7.72 1.47 1.35L5.41 20z\"/>\n",
              "  </svg>\n",
              "      </button>\n",
              "      \n",
              "  <style>\n",
              "    .colab-df-container {\n",
              "      display:flex;\n",
              "      flex-wrap:wrap;\n",
              "      gap: 12px;\n",
              "    }\n",
              "\n",
              "    .colab-df-convert {\n",
              "      background-color: #E8F0FE;\n",
              "      border: none;\n",
              "      border-radius: 50%;\n",
              "      cursor: pointer;\n",
              "      display: none;\n",
              "      fill: #1967D2;\n",
              "      height: 32px;\n",
              "      padding: 0 0 0 0;\n",
              "      width: 32px;\n",
              "    }\n",
              "\n",
              "    .colab-df-convert:hover {\n",
              "      background-color: #E2EBFA;\n",
              "      box-shadow: 0px 1px 2px rgba(60, 64, 67, 0.3), 0px 1px 3px 1px rgba(60, 64, 67, 0.15);\n",
              "      fill: #174EA6;\n",
              "    }\n",
              "\n",
              "    [theme=dark] .colab-df-convert {\n",
              "      background-color: #3B4455;\n",
              "      fill: #D2E3FC;\n",
              "    }\n",
              "\n",
              "    [theme=dark] .colab-df-convert:hover {\n",
              "      background-color: #434B5C;\n",
              "      box-shadow: 0px 1px 3px 1px rgba(0, 0, 0, 0.15);\n",
              "      filter: drop-shadow(0px 1px 2px rgba(0, 0, 0, 0.3));\n",
              "      fill: #FFFFFF;\n",
              "    }\n",
              "  </style>\n",
              "\n",
              "      <script>\n",
              "        const buttonEl =\n",
              "          document.querySelector('#df-af02ffe6-bd38-4738-b701-ac1871cbbb8d button.colab-df-convert');\n",
              "        buttonEl.style.display =\n",
              "          google.colab.kernel.accessAllowed ? 'block' : 'none';\n",
              "\n",
              "        async function convertToInteractive(key) {\n",
              "          const element = document.querySelector('#df-af02ffe6-bd38-4738-b701-ac1871cbbb8d');\n",
              "          const dataTable =\n",
              "            await google.colab.kernel.invokeFunction('convertToInteractive',\n",
              "                                                     [key], {});\n",
              "          if (!dataTable) return;\n",
              "\n",
              "          const docLinkHtml = 'Like what you see? Visit the ' +\n",
              "            '<a target=\"_blank\" href=https://colab.research.google.com/notebooks/data_table.ipynb>data table notebook</a>'\n",
              "            + ' to learn more about interactive tables.';\n",
              "          element.innerHTML = '';\n",
              "          dataTable['output_type'] = 'display_data';\n",
              "          await google.colab.output.renderOutput(dataTable, element);\n",
              "          const docLink = document.createElement('div');\n",
              "          docLink.innerHTML = docLinkHtml;\n",
              "          element.appendChild(docLink);\n",
              "        }\n",
              "      </script>\n",
              "    </div>\n",
              "  </div>\n",
              "  "
            ]
          },
          "metadata": {},
          "execution_count": 9
        }
      ]
    },
    {
      "cell_type": "code",
      "source": [
        "weather_Daejeon = data_Daejeon[{'tm','sumRn'}]"
      ],
      "metadata": {
        "id": "_mMr2mGrfNnK"
      },
      "execution_count": 17,
      "outputs": []
    },
    {
      "cell_type": "code",
      "source": [
        "weather_Daejeon.head(3)"
      ],
      "metadata": {
        "colab": {
          "base_uri": "https://localhost:8080/",
          "height": 143
        },
        "id": "NWEWF3Blf2YG",
        "outputId": "ba7ce38c-8fc4-4acf-c3db-f49f4941a30c"
      },
      "execution_count": 19,
      "outputs": [
        {
          "output_type": "execute_result",
          "data": {
            "text/plain": [
              "  sumRn          tm\n",
              "0   0.0  2020-01-01\n",
              "1        2020-01-02\n",
              "2        2020-01-03"
            ],
            "text/html": [
              "\n",
              "  <div id=\"df-ce56dee5-b2bf-4348-9696-3129a3b9ed15\">\n",
              "    <div class=\"colab-df-container\">\n",
              "      <div>\n",
              "<style scoped>\n",
              "    .dataframe tbody tr th:only-of-type {\n",
              "        vertical-align: middle;\n",
              "    }\n",
              "\n",
              "    .dataframe tbody tr th {\n",
              "        vertical-align: top;\n",
              "    }\n",
              "\n",
              "    .dataframe thead th {\n",
              "        text-align: right;\n",
              "    }\n",
              "</style>\n",
              "<table border=\"1\" class=\"dataframe\">\n",
              "  <thead>\n",
              "    <tr style=\"text-align: right;\">\n",
              "      <th></th>\n",
              "      <th>sumRn</th>\n",
              "      <th>tm</th>\n",
              "    </tr>\n",
              "  </thead>\n",
              "  <tbody>\n",
              "    <tr>\n",
              "      <th>0</th>\n",
              "      <td>0.0</td>\n",
              "      <td>2020-01-01</td>\n",
              "    </tr>\n",
              "    <tr>\n",
              "      <th>1</th>\n",
              "      <td></td>\n",
              "      <td>2020-01-02</td>\n",
              "    </tr>\n",
              "    <tr>\n",
              "      <th>2</th>\n",
              "      <td></td>\n",
              "      <td>2020-01-03</td>\n",
              "    </tr>\n",
              "  </tbody>\n",
              "</table>\n",
              "</div>\n",
              "      <button class=\"colab-df-convert\" onclick=\"convertToInteractive('df-ce56dee5-b2bf-4348-9696-3129a3b9ed15')\"\n",
              "              title=\"Convert this dataframe to an interactive table.\"\n",
              "              style=\"display:none;\">\n",
              "        \n",
              "  <svg xmlns=\"http://www.w3.org/2000/svg\" height=\"24px\"viewBox=\"0 0 24 24\"\n",
              "       width=\"24px\">\n",
              "    <path d=\"M0 0h24v24H0V0z\" fill=\"none\"/>\n",
              "    <path d=\"M18.56 5.44l.94 2.06.94-2.06 2.06-.94-2.06-.94-.94-2.06-.94 2.06-2.06.94zm-11 1L8.5 8.5l.94-2.06 2.06-.94-2.06-.94L8.5 2.5l-.94 2.06-2.06.94zm10 10l.94 2.06.94-2.06 2.06-.94-2.06-.94-.94-2.06-.94 2.06-2.06.94z\"/><path d=\"M17.41 7.96l-1.37-1.37c-.4-.4-.92-.59-1.43-.59-.52 0-1.04.2-1.43.59L10.3 9.45l-7.72 7.72c-.78.78-.78 2.05 0 2.83L4 21.41c.39.39.9.59 1.41.59.51 0 1.02-.2 1.41-.59l7.78-7.78 2.81-2.81c.8-.78.8-2.07 0-2.86zM5.41 20L4 18.59l7.72-7.72 1.47 1.35L5.41 20z\"/>\n",
              "  </svg>\n",
              "      </button>\n",
              "      \n",
              "  <style>\n",
              "    .colab-df-container {\n",
              "      display:flex;\n",
              "      flex-wrap:wrap;\n",
              "      gap: 12px;\n",
              "    }\n",
              "\n",
              "    .colab-df-convert {\n",
              "      background-color: #E8F0FE;\n",
              "      border: none;\n",
              "      border-radius: 50%;\n",
              "      cursor: pointer;\n",
              "      display: none;\n",
              "      fill: #1967D2;\n",
              "      height: 32px;\n",
              "      padding: 0 0 0 0;\n",
              "      width: 32px;\n",
              "    }\n",
              "\n",
              "    .colab-df-convert:hover {\n",
              "      background-color: #E2EBFA;\n",
              "      box-shadow: 0px 1px 2px rgba(60, 64, 67, 0.3), 0px 1px 3px 1px rgba(60, 64, 67, 0.15);\n",
              "      fill: #174EA6;\n",
              "    }\n",
              "\n",
              "    [theme=dark] .colab-df-convert {\n",
              "      background-color: #3B4455;\n",
              "      fill: #D2E3FC;\n",
              "    }\n",
              "\n",
              "    [theme=dark] .colab-df-convert:hover {\n",
              "      background-color: #434B5C;\n",
              "      box-shadow: 0px 1px 3px 1px rgba(0, 0, 0, 0.15);\n",
              "      filter: drop-shadow(0px 1px 2px rgba(0, 0, 0, 0.3));\n",
              "      fill: #FFFFFF;\n",
              "    }\n",
              "  </style>\n",
              "\n",
              "      <script>\n",
              "        const buttonEl =\n",
              "          document.querySelector('#df-ce56dee5-b2bf-4348-9696-3129a3b9ed15 button.colab-df-convert');\n",
              "        buttonEl.style.display =\n",
              "          google.colab.kernel.accessAllowed ? 'block' : 'none';\n",
              "\n",
              "        async function convertToInteractive(key) {\n",
              "          const element = document.querySelector('#df-ce56dee5-b2bf-4348-9696-3129a3b9ed15');\n",
              "          const dataTable =\n",
              "            await google.colab.kernel.invokeFunction('convertToInteractive',\n",
              "                                                     [key], {});\n",
              "          if (!dataTable) return;\n",
              "\n",
              "          const docLinkHtml = 'Like what you see? Visit the ' +\n",
              "            '<a target=\"_blank\" href=https://colab.research.google.com/notebooks/data_table.ipynb>data table notebook</a>'\n",
              "            + ' to learn more about interactive tables.';\n",
              "          element.innerHTML = '';\n",
              "          dataTable['output_type'] = 'display_data';\n",
              "          await google.colab.output.renderOutput(dataTable, element);\n",
              "          const docLink = document.createElement('div');\n",
              "          docLink.innerHTML = docLinkHtml;\n",
              "          element.appendChild(docLink);\n",
              "        }\n",
              "      </script>\n",
              "    </div>\n",
              "  </div>\n",
              "  "
            ]
          },
          "metadata": {},
          "execution_count": 19
        }
      ]
    },
    {
      "cell_type": "code",
      "source": [
        "weather_Daejeon.tail(3)"
      ],
      "metadata": {
        "colab": {
          "base_uri": "https://localhost:8080/",
          "height": 143
        },
        "id": "CFQSbwREf4to",
        "outputId": "64d2a21e-83dd-4808-8437-d3a4449c014e"
      },
      "execution_count": 22,
      "outputs": [
        {
          "output_type": "execute_result",
          "data": {
            "text/plain": [
              "    sumRn          tm\n",
              "996   0.0  2022-09-23\n",
              "997        2022-09-24\n",
              "998        2022-09-25"
            ],
            "text/html": [
              "\n",
              "  <div id=\"df-d19d7947-7c35-4602-8b32-7e9dc02d4dec\">\n",
              "    <div class=\"colab-df-container\">\n",
              "      <div>\n",
              "<style scoped>\n",
              "    .dataframe tbody tr th:only-of-type {\n",
              "        vertical-align: middle;\n",
              "    }\n",
              "\n",
              "    .dataframe tbody tr th {\n",
              "        vertical-align: top;\n",
              "    }\n",
              "\n",
              "    .dataframe thead th {\n",
              "        text-align: right;\n",
              "    }\n",
              "</style>\n",
              "<table border=\"1\" class=\"dataframe\">\n",
              "  <thead>\n",
              "    <tr style=\"text-align: right;\">\n",
              "      <th></th>\n",
              "      <th>sumRn</th>\n",
              "      <th>tm</th>\n",
              "    </tr>\n",
              "  </thead>\n",
              "  <tbody>\n",
              "    <tr>\n",
              "      <th>996</th>\n",
              "      <td>0.0</td>\n",
              "      <td>2022-09-23</td>\n",
              "    </tr>\n",
              "    <tr>\n",
              "      <th>997</th>\n",
              "      <td></td>\n",
              "      <td>2022-09-24</td>\n",
              "    </tr>\n",
              "    <tr>\n",
              "      <th>998</th>\n",
              "      <td></td>\n",
              "      <td>2022-09-25</td>\n",
              "    </tr>\n",
              "  </tbody>\n",
              "</table>\n",
              "</div>\n",
              "      <button class=\"colab-df-convert\" onclick=\"convertToInteractive('df-d19d7947-7c35-4602-8b32-7e9dc02d4dec')\"\n",
              "              title=\"Convert this dataframe to an interactive table.\"\n",
              "              style=\"display:none;\">\n",
              "        \n",
              "  <svg xmlns=\"http://www.w3.org/2000/svg\" height=\"24px\"viewBox=\"0 0 24 24\"\n",
              "       width=\"24px\">\n",
              "    <path d=\"M0 0h24v24H0V0z\" fill=\"none\"/>\n",
              "    <path d=\"M18.56 5.44l.94 2.06.94-2.06 2.06-.94-2.06-.94-.94-2.06-.94 2.06-2.06.94zm-11 1L8.5 8.5l.94-2.06 2.06-.94-2.06-.94L8.5 2.5l-.94 2.06-2.06.94zm10 10l.94 2.06.94-2.06 2.06-.94-2.06-.94-.94-2.06-.94 2.06-2.06.94z\"/><path d=\"M17.41 7.96l-1.37-1.37c-.4-.4-.92-.59-1.43-.59-.52 0-1.04.2-1.43.59L10.3 9.45l-7.72 7.72c-.78.78-.78 2.05 0 2.83L4 21.41c.39.39.9.59 1.41.59.51 0 1.02-.2 1.41-.59l7.78-7.78 2.81-2.81c.8-.78.8-2.07 0-2.86zM5.41 20L4 18.59l7.72-7.72 1.47 1.35L5.41 20z\"/>\n",
              "  </svg>\n",
              "      </button>\n",
              "      \n",
              "  <style>\n",
              "    .colab-df-container {\n",
              "      display:flex;\n",
              "      flex-wrap:wrap;\n",
              "      gap: 12px;\n",
              "    }\n",
              "\n",
              "    .colab-df-convert {\n",
              "      background-color: #E8F0FE;\n",
              "      border: none;\n",
              "      border-radius: 50%;\n",
              "      cursor: pointer;\n",
              "      display: none;\n",
              "      fill: #1967D2;\n",
              "      height: 32px;\n",
              "      padding: 0 0 0 0;\n",
              "      width: 32px;\n",
              "    }\n",
              "\n",
              "    .colab-df-convert:hover {\n",
              "      background-color: #E2EBFA;\n",
              "      box-shadow: 0px 1px 2px rgba(60, 64, 67, 0.3), 0px 1px 3px 1px rgba(60, 64, 67, 0.15);\n",
              "      fill: #174EA6;\n",
              "    }\n",
              "\n",
              "    [theme=dark] .colab-df-convert {\n",
              "      background-color: #3B4455;\n",
              "      fill: #D2E3FC;\n",
              "    }\n",
              "\n",
              "    [theme=dark] .colab-df-convert:hover {\n",
              "      background-color: #434B5C;\n",
              "      box-shadow: 0px 1px 3px 1px rgba(0, 0, 0, 0.15);\n",
              "      filter: drop-shadow(0px 1px 2px rgba(0, 0, 0, 0.3));\n",
              "      fill: #FFFFFF;\n",
              "    }\n",
              "  </style>\n",
              "\n",
              "      <script>\n",
              "        const buttonEl =\n",
              "          document.querySelector('#df-d19d7947-7c35-4602-8b32-7e9dc02d4dec button.colab-df-convert');\n",
              "        buttonEl.style.display =\n",
              "          google.colab.kernel.accessAllowed ? 'block' : 'none';\n",
              "\n",
              "        async function convertToInteractive(key) {\n",
              "          const element = document.querySelector('#df-d19d7947-7c35-4602-8b32-7e9dc02d4dec');\n",
              "          const dataTable =\n",
              "            await google.colab.kernel.invokeFunction('convertToInteractive',\n",
              "                                                     [key], {});\n",
              "          if (!dataTable) return;\n",
              "\n",
              "          const docLinkHtml = 'Like what you see? Visit the ' +\n",
              "            '<a target=\"_blank\" href=https://colab.research.google.com/notebooks/data_table.ipynb>data table notebook</a>'\n",
              "            + ' to learn more about interactive tables.';\n",
              "          element.innerHTML = '';\n",
              "          dataTable['output_type'] = 'display_data';\n",
              "          await google.colab.output.renderOutput(dataTable, element);\n",
              "          const docLink = document.createElement('div');\n",
              "          docLink.innerHTML = docLinkHtml;\n",
              "          element.appendChild(docLink);\n",
              "        }\n",
              "      </script>\n",
              "    </div>\n",
              "  </div>\n",
              "  "
            ]
          },
          "metadata": {},
          "execution_count": 22
        }
      ]
    },
    {
      "cell_type": "code",
      "source": [
        "weather_Daejeon.isnull().sum()"
      ],
      "metadata": {
        "colab": {
          "base_uri": "https://localhost:8080/"
        },
        "id": "7KTKYSu6fq6h",
        "outputId": "86e61fec-f478-40b8-b103-505f6a7e9dda"
      },
      "execution_count": 18,
      "outputs": [
        {
          "output_type": "execute_result",
          "data": {
            "text/plain": [
              "sumRn    0\n",
              "tm       0\n",
              "dtype: int64"
            ]
          },
          "metadata": {},
          "execution_count": 18
        }
      ]
    }
  ]
}