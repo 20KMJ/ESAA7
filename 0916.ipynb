{
  "nbformat": 4,
  "nbformat_minor": 0,
  "metadata": {
    "colab": {
      "provenance": [],
      "authorship_tag": "ABX9TyM5mqb2U/AplyTrAZxP3+/U",
      "include_colab_link": true
    },
    "kernelspec": {
      "name": "python3",
      "display_name": "Python 3"
    },
    "language_info": {
      "name": "python"
    }
  },
  "cells": [
    {
      "cell_type": "markdown",
      "metadata": {
        "id": "view-in-github",
        "colab_type": "text"
      },
      "source": [
        "<a href=\"https://colab.research.google.com/github/20KMJ/ESAA7/blob/main/0916.ipynb\" target=\"_parent\"><img src=\"https://colab.research.google.com/assets/colab-badge.svg\" alt=\"Open In Colab\"/></a>"
      ]
    },
    {
      "cell_type": "markdown",
      "source": [
        "# **CHAPTER 01** | 파이썬 기반의 머신러닝과 생태계 이해"
      ],
      "metadata": {
        "id": "6QYBjvUY2VYV"
      }
    },
    {
      "cell_type": "markdown",
      "source": [
        "# **01.** 머신러닝의 개념\n",
        "***\n",
        "* **머신러닝(Machine Learning)**은 애플리케이션을 수정하지 않고도 데이터를 기반으로 패턴을 학습하고 결과를 예측하는 알고리즘 기법\n",
        "* **머신러닝**은 데이터를 관통하는 패턴을 학습하고, 이에 기반한 예측을 수행함"
      ],
      "metadata": {
        "id": "jVE4hzes2ffb"
      }
    },
    {
      "cell_type": "markdown",
      "source": [
        "## 머신러닝의 분류\n",
        "* **지도학습**(Supervised Learning), **비지도학습**(Un-supervised Learning), **강화학습**(Reinforcement Learning)\n",
        "\n",
        "> **지도학습**\n",
        "* **분류**\n",
        "* **회귀**\n",
        "* 추천 시스템\n",
        "* 시각/음성 감지/인지\n",
        "* 텍스트 분석, NLP\n",
        "\n",
        "> **비지도학습**\n",
        "* 클러스터링\n",
        "* 차원 축소\n",
        "* 강화학습"
      ],
      "metadata": {
        "id": "lZ1UzuFB2fj5"
      }
    },
    {
      "cell_type": "markdown",
      "source": [
        "## 데이터 전쟁\n",
        "* 머신러닝의 가장큰 단점은 **데이터에 매우 의존적**이라는 것\n",
        "* 앞으로 많은 회사의 경쟁력은 어떠한 품질의 데이터로 만든 머신러닝 모델이냐에 따라 결정될 수 있음"
      ],
      "metadata": {
        "id": "p_qTlcta2fn8"
      }
    },
    {
      "cell_type": "markdown",
      "source": [
        "## 파이썬과 R 기반의 머신러닝 비교\n",
        "* **R**은 통계 전용 프로그램 언어\n",
        "* **파이썬**은 다양한 영억에서 사용되는 개발 전문 프로그램 언어\n",
        "* 관심도는 **파이썬** > R\n",
        "> * **쉽고 뛰어난 개발 생산성**으로 전 세계 개발들이 파이썬을 선호함. 특히 구글, 페이스북 등 유수의 IT 업계에서도 파이썬의 높은 생산성으로 인해 활용도가 매우 높음.\n",
        " * 오픈 소스 계열의 전폭적인 지원, 많은 라이브러리\n",
        " * 뛰어난 확장성, 유연성, 호환성\n",
        " * 머신러닝 애플리케이션과 결합한 다양한 **애플리케이션 개발** 가능\n",
        " * 엔터프라이즈 아키텍처로의 확장 및 마이크로서비스 기반의 실시간 연계 등 **다양한 기업 환경으로의 확산 가능**\n",
        " * 앞으로도 **딥러닝 프레임워크**는 파이썬을 중심으로 발전될 가능성이 큼"
      ],
      "metadata": {
        "id": "T6bkT-bE2fqF"
      }
    },
    {
      "cell_type": "markdown",
      "source": [
        "# **02.** 파이썬 머신러닝 생태계를 구성하는 주요 패키지\n",
        "***\n",
        "* **머신러닝 패키지**: 사이킷런(Scikit-Learn)\n",
        "* **행렬/선형대수/통계 패키지**: 넘파이(Numpy), 사이파이(SciPy)\n",
        "* **데이터 핸들링**: 판다스\n",
        "* **시각화**: 맷플롯립(Matplotlib), 시본(Seaborn)"
      ],
      "metadata": {
        "id": "08TK1O9L2fuR"
      }
    },
    {
      "cell_type": "markdown",
      "source": [
        "# **03.** 넘파이\n",
        "***\n",
        "* **넘파이(NumPy)**는 파이썬에서 선형대수 기반의 프로그램을 쉽게 만들 수 있도록 지원하는 대표적인 패키지\n",
        "* 빠른 배열 연산 속도\n",
        "* 다양한 데이터 핸들링 기능 제공\n",
        "* 통계 지원용 패키지를 직접 만드는 개발자가 아니라면 넘파이를 상세하게 알 필요는 없으나, 넘파이를 이해하는 것은 파이썬 기반의 머신러닝에서 매우 중요함"
      ],
      "metadata": {
        "id": "JCsHLhBU2fwY"
      }
    },
    {
      "cell_type": "markdown",
      "source": [
        "## 넘파이 ndarray 개요"
      ],
      "metadata": {
        "id": "WF5CPW9N2fyi"
      }
    },
    {
      "cell_type": "code",
      "source": [
        "# 넘파이 모듈 임포트하기\n",
        "import numpy as np"
      ],
      "metadata": {
        "id": "X0_U4YT-FMiU"
      },
      "execution_count": null,
      "outputs": []
    },
    {
      "cell_type": "markdown",
      "source": [
        "* `as np`를 추가해 약어로 모듈을 표현해주는 게 관례\n",
        "* 넘파이 기반 데이터 타입은 ndarray임. **ndarray**를 이용해 넘파이에서 다차원(Multi-dimension) 배열을 쉽게 생성하고 다양한 연산을 수행할 수 있음."
      ],
      "metadata": {
        "id": "ZfY9NPEMFf1W"
      }
    },
    {
      "cell_type": "code",
      "source": [
        "array1 = np.array([1, 2, 3])           # 리스트 [ ]는 1차원\n",
        "print('array1 type:', type(array1))\n",
        "print('array1 array 형태:', array1.shape)"
      ],
      "metadata": {
        "colab": {
          "base_uri": "https://localhost:8080/"
        },
        "id": "UTUNZsw1GTDW",
        "outputId": "8b3bac5d-e960-4d33-8b14-316f4b4dbddd"
      },
      "execution_count": null,
      "outputs": [
        {
          "output_type": "stream",
          "name": "stdout",
          "text": [
            "array1 type: <class 'numpy.ndarray'>\n",
            "array1 array 형태: (3,)\n"
          ]
        }
      ]
    },
    {
      "cell_type": "code",
      "source": [
        "array2 = np.array([[1, 2, 3],\n",
        "                  [2, 3, 4]])\n",
        "print('array2 type:', type(array2))\n",
        "print('array2 array 형태:', array2.shape)"
      ],
      "metadata": {
        "colab": {
          "base_uri": "https://localhost:8080/"
        },
        "id": "4n3f2sMmGq8I",
        "outputId": "365f2530-347f-4857-9203-0ad3ebd71d1a"
      },
      "execution_count": null,
      "outputs": [
        {
          "output_type": "stream",
          "name": "stdout",
          "text": [
            "array2 type: <class 'numpy.ndarray'>\n",
            "array2 array 형태: (2, 3)\n"
          ]
        }
      ]
    },
    {
      "cell_type": "code",
      "source": [
        "array3 = np.array([[1, 2, 3]])         # 리스트의 리스트 [[ ]]는 2차원\n",
        "print('array3 type:', type(array3))\n",
        "print('array3 array 형태:', array3.shape)"
      ],
      "metadata": {
        "colab": {
          "base_uri": "https://localhost:8080/"
        },
        "id": "EqmvyQkSHOHd",
        "outputId": "8926e177-1ca9-4b9f-af5d-0b28fae5b311"
      },
      "execution_count": null,
      "outputs": [
        {
          "output_type": "stream",
          "name": "stdout",
          "text": [
            "array3 type: <class 'numpy.ndarray'>\n",
            "array3 array 형태: (1, 3)\n"
          ]
        }
      ]
    },
    {
      "cell_type": "code",
      "source": [
        "# 각 array의 차원을 ndarray.ndim 이용해 확인하기\n",
        "print('array1: {:0}차원, array2: {:1}차원, array3: {:2}차원'.format(array1.ndim, array2.ndim, array3.ndim))"
      ],
      "metadata": {
        "colab": {
          "base_uri": "https://localhost:8080/"
        },
        "id": "ZyMy_OTFbu5Y",
        "outputId": "d8bb19b3-6522-40af-c49f-446b436e36d6"
      },
      "execution_count": null,
      "outputs": [
        {
          "output_type": "stream",
          "name": "stdout",
          "text": [
            "array1: 1차원, array2: 2차원, array3:  2차원\n"
          ]
        }
      ]
    },
    {
      "cell_type": "markdown",
      "source": [
        "## ndarray의 데이터 타입"
      ],
      "metadata": {
        "id": "ht_PouYPbVWi"
      }
    },
    {
      "cell_type": "markdown",
      "source": [
        "> **list** vs **array**\n",
        "* list는 서로 다른 데이터 타입을 가질 수 있으나, array는 같은 데이터 타입만 가능\n",
        "* list는 내부 배열에서 원소 개소가 달라도 되나, array는 내부 배열 내 원소 개수가 모두 같아야 함\n",
        "* 연산 차이 ex) array는 [1, 2] + [3, 4] = [4, 6] 이고 list는 [1, 2, 3, 4] 임\n",
        "* 수치 계산이 많고 복잡할 때나 행렬같은 다차원 배열을 쓸 때는 **array**를 사용함"
      ],
      "metadata": {
        "id": "6aZ5dxVbeYmL"
      }
    },
    {
      "cell_type": "code",
      "source": [
        "list1 = [1, 2, 3]\n",
        "print(type(list1))"
      ],
      "metadata": {
        "colab": {
          "base_uri": "https://localhost:8080/"
        },
        "id": "vhhTMXnRdrSh",
        "outputId": "05a053b7-fbac-4de2-cb29-a3d328c43809"
      },
      "execution_count": null,
      "outputs": [
        {
          "output_type": "stream",
          "name": "stdout",
          "text": [
            "<class 'list'>\n"
          ]
        }
      ]
    },
    {
      "cell_type": "code",
      "source": [
        "array1 = np.array(list1)\n",
        "print(type(array1))"
      ],
      "metadata": {
        "colab": {
          "base_uri": "https://localhost:8080/"
        },
        "id": "d6xmqI7Rdy4o",
        "outputId": "6d1a882f-7e37-4311-fb76-10208c631d87"
      },
      "execution_count": null,
      "outputs": [
        {
          "output_type": "stream",
          "name": "stdout",
          "text": [
            "<class 'numpy.ndarray'>\n"
          ]
        }
      ]
    },
    {
      "cell_type": "code",
      "source": [
        "# ndarray내의 데이터 타입은 dtype 속성으로 확인 가능\n",
        "print(array1, array1.dtype)"
      ],
      "metadata": {
        "colab": {
          "base_uri": "https://localhost:8080/"
        },
        "id": "ZB_4iPxWd6xa",
        "outputId": "9e5b0968-c016-4726-9ded-e2b23279e7c5"
      },
      "execution_count": null,
      "outputs": [
        {
          "output_type": "stream",
          "name": "stdout",
          "text": [
            "[1 2 3] int64\n"
          ]
        }
      ]
    },
    {
      "cell_type": "code",
      "source": [
        "# 다른 데이터 유형이 섞여 있는 리스트를 ndarray로 변경하는 경우의 형 변환\n",
        "list2 = [1, 2, 'test']\n",
        "array2 = np.array(list2)\n",
        "print(array2, array2.dtype)"
      ],
      "metadata": {
        "colab": {
          "base_uri": "https://localhost:8080/"
        },
        "id": "TF3MsaLegaQX",
        "outputId": "95e2f6a8-0861-43c3-de20-e5a0e536ddaa"
      },
      "execution_count": null,
      "outputs": [
        {
          "output_type": "stream",
          "name": "stdout",
          "text": [
            "['1' '2' 'test'] <U21\n"
          ]
        }
      ]
    },
    {
      "cell_type": "code",
      "source": [
        "list3 = [1, 2, 3.0]\n",
        "array3 = np.array(list3)\n",
        "print(array3, array3.dtype)"
      ],
      "metadata": {
        "colab": {
          "base_uri": "https://localhost:8080/"
        },
        "id": "-f8hfWZYgs3a",
        "outputId": "952886e8-a583-4335-e820-0d3d86b3a793"
      },
      "execution_count": null,
      "outputs": [
        {
          "output_type": "stream",
          "name": "stdout",
          "text": [
            "[1. 2. 3.] float64\n"
          ]
        }
      ]
    },
    {
      "cell_type": "code",
      "source": [
        "# ndarray 내 데이터값의 타입 변경은 astype( ) 메서드 이용\n",
        "# int32 -> float64 -> int32\n",
        "array_int = np.array([1, 2, 3])\n",
        "array_float = array_int.astype('float64')\n",
        "print(array_float, array_float.dtype)\n",
        "\n",
        "array_int1 = array_float.astype('int32')\n",
        "print(array_int1, array_int1.dtype)"
      ],
      "metadata": {
        "colab": {
          "base_uri": "https://localhost:8080/"
        },
        "id": "QxVlgCgxg9do",
        "outputId": "ba401c46-8179-4214-fea6-7b52bf51ad3d"
      },
      "execution_count": null,
      "outputs": [
        {
          "output_type": "stream",
          "name": "stdout",
          "text": [
            "[1. 2. 3.] float64\n",
            "[1 2 3] int32\n"
          ]
        }
      ]
    },
    {
      "cell_type": "code",
      "source": [
        "array_float1 = np.array([1.1, 2.1, 3.1])\n",
        "array_int2 = array_float1.astype('int32')\n",
        "print(array_int2, array_int2.dtype)"
      ],
      "metadata": {
        "colab": {
          "base_uri": "https://localhost:8080/"
        },
        "id": "yuVig-7khlVD",
        "outputId": "15522174-682b-4832-92c1-f571dde05add"
      },
      "execution_count": null,
      "outputs": [
        {
          "output_type": "stream",
          "name": "stdout",
          "text": [
            "[1 2 3] int32\n"
          ]
        }
      ]
    },
    {
      "cell_type": "markdown",
      "source": [
        "## ndarray를 편리하게 생성하기 - `arrange`, `zeros`, `ones`\n",
        "* **테스트용**으로 데이터를 만들거나 대규모의 데이터를 일괄적으로 **초기화**해야 할 경우에 사용"
      ],
      "metadata": {
        "id": "h-athy062f0z"
      }
    },
    {
      "cell_type": "code",
      "source": [
        "# arrage()\n",
        "sequence_array = np.arange(10)\n",
        "print(sequence_array)\n",
        "print(sequence_array.dtype, sequence_array.shape)"
      ],
      "metadata": {
        "colab": {
          "base_uri": "https://localhost:8080/"
        },
        "id": "YidNuKKDF7EY",
        "outputId": "e979563e-4a8b-4cf1-d33e-d128f0971c34"
      },
      "execution_count": null,
      "outputs": [
        {
          "output_type": "stream",
          "name": "stdout",
          "text": [
            "[0 1 2 3 4 5 6 7 8 9]\n",
            "int64 (10,)\n"
          ]
        }
      ]
    },
    {
      "cell_type": "code",
      "source": [
        "# zeros()\n",
        "zero_array = np.zeros((3, 2), dtype='int32')\n",
        "print(zero_array)\n",
        "print(zero_array.dtype, zero_array.shape)"
      ],
      "metadata": {
        "colab": {
          "base_uri": "https://localhost:8080/"
        },
        "id": "2WoYuzmyGcE-",
        "outputId": "7d973eb3-4906-4281-b53d-d6491dc3d02d"
      },
      "execution_count": null,
      "outputs": [
        {
          "output_type": "stream",
          "name": "stdout",
          "text": [
            "[[0 0]\n",
            " [0 0]\n",
            " [0 0]]\n",
            "int32 (3, 2)\n"
          ]
        }
      ]
    },
    {
      "cell_type": "code",
      "source": [
        "# ones()\n",
        "one_array = np.ones((3, 2))\n",
        "print(one_array)\n",
        "print(one_array.dtype, one_array.shape)"
      ],
      "metadata": {
        "colab": {
          "base_uri": "https://localhost:8080/"
        },
        "id": "JJRhREohGsd0",
        "outputId": "d0aa3571-e047-4844-d743-14f584c255e1"
      },
      "execution_count": null,
      "outputs": [
        {
          "output_type": "stream",
          "name": "stdout",
          "text": [
            "[[1. 1.]\n",
            " [1. 1.]\n",
            " [1. 1.]]\n",
            "float64 (3, 2)\n"
          ]
        }
      ]
    },
    {
      "cell_type": "markdown",
      "source": [
        "## ndarray의 차원과 크기를 변경하는 `reshape( )`"
      ],
      "metadata": {
        "id": "XW7CPqkhG6aG"
      }
    },
    {
      "cell_type": "code",
      "source": [
        "array1 = np.arange(10)\n",
        "print('array1:\\n', array1)\n",
        "\n",
        "array2 = array1.reshape(2, 5)\n",
        "print('array2:\\n', array2)\n",
        "\n",
        "array3 = array1.reshape(5, 2)\n",
        "print('array3:\\n', array3)"
      ],
      "metadata": {
        "colab": {
          "base_uri": "https://localhost:8080/"
        },
        "id": "oC6B0RweHZN_",
        "outputId": "0885217b-4240-4f57-9ef2-b8bc4d1709b2"
      },
      "execution_count": null,
      "outputs": [
        {
          "output_type": "stream",
          "name": "stdout",
          "text": [
            "array1:\n",
            " [0 1 2 3 4 5 6 7 8 9]\n",
            "array2:\n",
            " [[0 1 2 3 4]\n",
            " [5 6 7 8 9]]\n",
            "array3:\n",
            " [[0 1]\n",
            " [2 3]\n",
            " [4 5]\n",
            " [6 7]\n",
            " [8 9]]\n"
          ]
        }
      ]
    },
    {
      "cell_type": "code",
      "source": [
        "# -1 인자는 알맞는 shape으로 자동 변환\n",
        "\n",
        "array1 = np.arange(10)\n",
        "print(array1)\n",
        "\n",
        "array2 = array1.reshape(-1, 5)\n",
        "print('array2 shape:', array2.shape)\n",
        "\n",
        "array3 = array1.reshape(5, -1)\n",
        "print('array3 shape:', array3.shape)"
      ],
      "metadata": {
        "colab": {
          "base_uri": "https://localhost:8080/"
        },
        "id": "BZK5XtSIIHeH",
        "outputId": "9f5ba4b5-b9f6-419a-ff43-e67c1120403f"
      },
      "execution_count": null,
      "outputs": [
        {
          "output_type": "stream",
          "name": "stdout",
          "text": [
            "[0 1 2 3 4 5 6 7 8 9]\n",
            "array2 shape: (2, 5)\n",
            "array3 shape: (5, 2)\n"
          ]
        }
      ]
    },
    {
      "cell_type": "markdown",
      "source": [
        "> **reshape(-1,1)**  \n",
        "> 원본 ndarray가 어떤 형태라도 2차원이고, 여러 개의 로우를 가지되 반드시 1개의 칼럼을 가진 ndarray로 변환됨을 보장함"
      ],
      "metadata": {
        "id": "2GCbZurmJKXt"
      }
    },
    {
      "cell_type": "code",
      "source": [
        "array1 = np.arange(8)\n",
        "array3d = array1.reshape((2, 2, 2))\n",
        "print('array3d:\\n', array3d.tolist())   # tolist() 메서드를 이용해 리스트 자료형으로 변환"
      ],
      "metadata": {
        "colab": {
          "base_uri": "https://localhost:8080/"
        },
        "id": "dzBrdLnQJf9S",
        "outputId": "c13c695c-25cb-43d8-c01a-e61bbbded737"
      },
      "execution_count": null,
      "outputs": [
        {
          "output_type": "stream",
          "name": "stdout",
          "text": [
            "array3d:\n",
            " [[[0, 1], [2, 3]], [[4, 5], [6, 7]]]\n"
          ]
        }
      ]
    },
    {
      "cell_type": "code",
      "source": [
        "# 3차원 ndarray를 2차원 ndarray로 변환\n",
        "array5 = array3d.reshape(-1, 1)\n",
        "print('array5:\\n', array5.tolist())\n",
        "print('array5 shape:', array5.shape)"
      ],
      "metadata": {
        "colab": {
          "base_uri": "https://localhost:8080/"
        },
        "id": "Cb-UvJ9WKYZP",
        "outputId": "cc5a53b5-6bb7-4a77-d1aa-4dd80ad8845f"
      },
      "execution_count": null,
      "outputs": [
        {
          "output_type": "stream",
          "name": "stdout",
          "text": [
            "array5:\n",
            " [[0], [1], [2], [3], [4], [5], [6], [7]]\n",
            "array5 shape: (8, 1)\n"
          ]
        }
      ]
    },
    {
      "cell_type": "code",
      "source": [
        "# 1차원 ndarray를 2차원 ndarray로 변환\n",
        "array6 = array1.reshape(-1, 1)\n",
        "print('array6:\\n', array6.tolist())\n",
        "print('array6 shape:', array6.shape)"
      ],
      "metadata": {
        "colab": {
          "base_uri": "https://localhost:8080/"
        },
        "id": "dyqvFfduKb59",
        "outputId": "92b11fe4-f89d-47b9-dcc0-a01daa402a73"
      },
      "execution_count": null,
      "outputs": [
        {
          "output_type": "stream",
          "name": "stdout",
          "text": [
            "array6:\n",
            " [[0], [1], [2], [3], [4], [5], [6], [7]]\n",
            "array6 shape: (8, 1)\n"
          ]
        }
      ]
    },
    {
      "cell_type": "markdown",
      "source": [
        "## 넘파이의 ndarray의 데이터 세트 선택하기 - 인덱싱(Indexing)\n",
        "1. 특정한 데이터만 추출\n",
        "2. 슬라이싱(Slicing): 연속된 인덱스상의 ndarray 추출\n",
        "3. 팬시 인덱싱(Fancy Indexing)\n",
        "4. 불린 인덱싱(Boolean Indexing): True에 해당하는 데이터의 ndarray 반환"
      ],
      "metadata": {
        "id": "vGzX4KWZ2f4M"
      }
    },
    {
      "cell_type": "markdown",
      "source": [
        "> **단일 값 추출**"
      ],
      "metadata": {
        "id": "Ya16y9wTLtof"
      }
    },
    {
      "cell_type": "code",
      "source": [
        "# 1부터 9까지의 1차원 ndarray 생성\n",
        "array1 = np.arange(start=1, stop=10)\n",
        "print('array1:', array1)\n",
        "\n",
        "# index는 0부터 시작하므로 array1[2]는 3번째 index 위치의 데이터값을 의미\n",
        "value = array1[2]\n",
        "print('value:', value)\n",
        "print(type(value))"
      ],
      "metadata": {
        "colab": {
          "base_uri": "https://localhost:8080/"
        },
        "id": "UkQM00v7LwXe",
        "outputId": "6132ea6b-43d0-48ae-f545-6101baf72c04"
      },
      "execution_count": null,
      "outputs": [
        {
          "output_type": "stream",
          "name": "stdout",
          "text": [
            "array1: [1 2 3 4 5 6 7 8 9]\n",
            "value: 3\n",
            "<class 'numpy.int64'>\n"
          ]
        }
      ]
    },
    {
      "cell_type": "markdown",
      "source": [
        "* `array1[2]`의 타입은 더 이상 ndarray 타입이 아니고 ndarray 내의 데이터값을 의미"
      ],
      "metadata": {
        "id": "DC6MIB2VM1WK"
      }
    },
    {
      "cell_type": "code",
      "source": [
        "print('맨 뒤의 값:', array1[-1], '맨 뒤에서 두 번째 값:', array1[-2])"
      ],
      "metadata": {
        "colab": {
          "base_uri": "https://localhost:8080/"
        },
        "id": "rN90OYLkMsdm",
        "outputId": "ea70097c-37e6-4918-e265-fb44dd5e234d"
      },
      "execution_count": null,
      "outputs": [
        {
          "output_type": "stream",
          "name": "stdout",
          "text": [
            "맨 뒤의 값: 9 맨 뒤에서 두 번째 값: 8\n"
          ]
        }
      ]
    },
    {
      "cell_type": "code",
      "source": [
        "# 데이터 수정\n",
        "array1[0] = 9\n",
        "array1[8] = 0\n",
        "print('array1:', array1)"
      ],
      "metadata": {
        "colab": {
          "base_uri": "https://localhost:8080/"
        },
        "id": "b8L3t7dqNMT6",
        "outputId": "9299e869-aa24-4687-f9a1-b9c9c46699a5"
      },
      "execution_count": null,
      "outputs": [
        {
          "output_type": "stream",
          "name": "stdout",
          "text": [
            "array1: [9 2 3 4 5 6 7 8 0]\n"
          ]
        }
      ]
    },
    {
      "cell_type": "code",
      "source": [
        "# 다차원 ndarray에서 단일 값 추출하기\n",
        "array1d = np.arange(start=1, stop=10)\n",
        "array2d = array1d.reshape(3, 3)\n",
        "print(array2d)\n",
        "\n",
        "print('(row=0, col=0) index 가리키는 값:', array2d[0, 0])\n",
        "print('(row=0, col=1) index 가리키는 값:', array2d[0, 1])\n",
        "print('(row=1, col=0) index 가리키는 값:', array2d[1, 0])\n",
        "print('(row=2, col=2) index 가리키는 값:', array2d[2, 2])"
      ],
      "metadata": {
        "colab": {
          "base_uri": "https://localhost:8080/"
        },
        "id": "aI5WWEIwNbvv",
        "outputId": "04b72a23-2c25-4151-d4eb-5bdbb5c4f2aa"
      },
      "execution_count": null,
      "outputs": [
        {
          "output_type": "stream",
          "name": "stdout",
          "text": [
            "[[1 2 3]\n",
            " [4 5 6]\n",
            " [7 8 9]]\n",
            "(row=0, col=0) index 가리키는 값: 1\n",
            "(row=0, col=1) index 가리키는 값: 2\n",
            "(row=1, col=0) index 가리키는 값: 4\n",
            "(row=2, col=2) index 가리키는 값: 9\n"
          ]
        }
      ]
    },
    {
      "cell_type": "markdown",
      "source": [
        "> **슬라이싱**"
      ],
      "metadata": {
        "id": "tMaaw-M0ZmLU"
      }
    },
    {
      "cell_type": "code",
      "source": [
        "array1 = np.arange(start=1, stop=10)\n",
        "array3 = array1[0:3]\n",
        "print(array3)\n",
        "print(type(array3))"
      ],
      "metadata": {
        "colab": {
          "base_uri": "https://localhost:8080/"
        },
        "id": "PBdc7YwgZn2A",
        "outputId": "373e24ea-bc52-45f2-845b-06a84d579c4a"
      },
      "execution_count": null,
      "outputs": [
        {
          "output_type": "stream",
          "name": "stdout",
          "text": [
            "[1 2 3]\n",
            "<class 'numpy.ndarray'>\n"
          ]
        }
      ]
    },
    {
      "cell_type": "code",
      "source": [
        "array1 = np.arange(start=1, stop=10)\n",
        "array4 = array1[:3]\n",
        "print(array4)\n",
        "\n",
        "array5 = array1[3:]\n",
        "print(array5)\n",
        "\n",
        "array6 = array1[:]\n",
        "print(array6)"
      ],
      "metadata": {
        "colab": {
          "base_uri": "https://localhost:8080/"
        },
        "id": "ym9surqZZ5s2",
        "outputId": "9145c5dc-5007-4937-ded2-ec0b1d7c4d50"
      },
      "execution_count": null,
      "outputs": [
        {
          "output_type": "stream",
          "name": "stdout",
          "text": [
            "[1 2 3]\n",
            "[4 5 6 7 8 9]\n",
            "[1 2 3 4 5 6 7 8 9]\n"
          ]
        }
      ]
    },
    {
      "cell_type": "code",
      "source": [
        "# 2차원 ndarray 슬라이싱\n",
        "array1d = np.arange(start=1, stop=10)\n",
        "array2d = array1d.reshape(3, 3)\n",
        "print('array2d:\\n', array2d)\n",
        "\n",
        "print('array2d[0:2, 0:2] \\n', array2d[0:2, 0:2])\n",
        "print('array2d[1:3, 0:3] \\n', array2d[1:3, 0:3])\n",
        "print('array2d[1:3, :] \\n', array2d[1:3, :])\n",
        "print('array2d[:, :] \\n', array2d[:, :])\n",
        "print('array2d[:2, 1:] \\n', array2d[:2, 1:])\n",
        "print('array2d[:2, 0] \\n', array2d[0:2, 0])"
      ],
      "metadata": {
        "colab": {
          "base_uri": "https://localhost:8080/"
        },
        "id": "3XnRHwh3bPZ-",
        "outputId": "8e65ae32-970b-41de-ec4c-d9da83db5565"
      },
      "execution_count": null,
      "outputs": [
        {
          "output_type": "stream",
          "name": "stdout",
          "text": [
            "array2d:\n",
            " [[1 2 3]\n",
            " [4 5 6]\n",
            " [7 8 9]]\n",
            "array2d[0:2, 0:2] \n",
            " [[1 2]\n",
            " [4 5]]\n",
            "array2d[1:3, 0:3] \n",
            " [[4 5 6]\n",
            " [7 8 9]]\n",
            "array2d[1:3, :] \n",
            " [[4 5 6]\n",
            " [7 8 9]]\n",
            "array2d[:, :] \n",
            " [[1 2 3]\n",
            " [4 5 6]\n",
            " [7 8 9]]\n",
            "array2d[:2, 1:] \n",
            " [[2 3]\n",
            " [5 6]]\n",
            "array2d[:2, 0] \n",
            " [1 4]\n"
          ]
        }
      ]
    },
    {
      "cell_type": "code",
      "source": [
        "print('array2d:\\n',array2d)\n",
        "print('array2d[0]:\\n',array2d[0])\n",
        "print('array2d[1]:\\n',array2d[1])\n",
        "print('array2d[0] shape:', array2d[0].shape, 'array2d[1] shape:', array2d[1].shape)"
      ],
      "metadata": {
        "colab": {
          "base_uri": "https://localhost:8080/"
        },
        "id": "avCRD0J_cWhV",
        "outputId": "c21c046a-c8c1-4b77-c165-edfc713816bd"
      },
      "execution_count": null,
      "outputs": [
        {
          "output_type": "stream",
          "name": "stdout",
          "text": [
            "array2d:\n",
            " [[1 2 3]\n",
            " [4 5 6]\n",
            " [7 8 9]]\n",
            "array2d[0]:\n",
            " [1 2 3]\n",
            "array2d[1]:\n",
            " [4 5 6]\n",
            "array2d[0] shape: (3,) array2d[1] shape: (3,)\n"
          ]
        }
      ]
    },
    {
      "cell_type": "markdown",
      "source": [
        "* 2차원 ndarray에서 뒤에 오는 인덱스를 없애면 1차원 ndarray를 반환함"
      ],
      "metadata": {
        "id": "pHlBo7_Yc_7f"
      }
    },
    {
      "cell_type": "markdown",
      "source": [
        "> **팬시 인덱싱**"
      ],
      "metadata": {
        "id": "T5iiH6v8dMNw"
      }
    },
    {
      "cell_type": "code",
      "source": [
        "array1d = np.arange(start=1, stop=10)\n",
        "array2d = array1d.reshape(3, 3)\n",
        "print('array2d:\\n', array2d)\n",
        "\n",
        "array3 = array2d[[0, 1], 2]     # (0,2), (1,2)\n",
        "print('array3:\\n', array3)\n",
        "\n",
        "array4 = array2d[[0, 1], 0:2]   # ((0,0),(0,1)), ((1,0),(1,1))\n",
        "print('array4:\\n', array4)\n",
        "\n",
        "array5 = array2d[[0, 1]]        # ((0,:),(1,:))\n",
        "print('array5:\\n', array5)"
      ],
      "metadata": {
        "colab": {
          "base_uri": "https://localhost:8080/"
        },
        "id": "wx2K11Q7dXD8",
        "outputId": "bc08d2d9-052b-45aa-c56c-42575fd417eb"
      },
      "execution_count": null,
      "outputs": [
        {
          "output_type": "stream",
          "name": "stdout",
          "text": [
            "array2d:\n",
            " [[1 2 3]\n",
            " [4 5 6]\n",
            " [7 8 9]]\n",
            "array3:\n",
            " [3 6]\n",
            "array4:\n",
            " [[1 2]\n",
            " [4 5]]\n",
            "array5:\n",
            " [[1 2 3]\n",
            " [4 5 6]]\n"
          ]
        }
      ]
    },
    {
      "cell_type": "markdown",
      "source": [
        "> **불린 인덱싱**\n",
        "* **조건 필터링** & **검색** 동시 가능"
      ],
      "metadata": {
        "id": "lFMkEKpSdOom"
      }
    },
    {
      "cell_type": "code",
      "source": [
        "array1d = np.arange(start=1, stop=10)\n",
        "# [ ] 안에 array1d > 5 Boolean indexing을 적용\n",
        "array3 = array1d[array1d > 5]\n",
        "print(array3)"
      ],
      "metadata": {
        "colab": {
          "base_uri": "https://localhost:8080/"
        },
        "id": "bDaiWpCce4Ki",
        "outputId": "46504f6f-4d9c-47e7-bfc8-2691eab6bdc1"
      },
      "execution_count": null,
      "outputs": [
        {
          "output_type": "stream",
          "name": "stdout",
          "text": [
            "[6 7 8 9]\n"
          ]
        }
      ]
    },
    {
      "cell_type": "code",
      "source": [
        "# 불린 인덱싱 과정 이해하기\n",
        "array1d > 5"
      ],
      "metadata": {
        "colab": {
          "base_uri": "https://localhost:8080/"
        },
        "id": "28m59_s9fsEx",
        "outputId": "429f9d1e-ec47-4e47-cd34-b91e4332cdb8"
      },
      "execution_count": null,
      "outputs": [
        {
          "output_type": "execute_result",
          "data": {
            "text/plain": [
              "array([False, False, False, False, False,  True,  True,  True,  True])"
            ]
          },
          "metadata": {},
          "execution_count": 91
        }
      ]
    },
    {
      "cell_type": "code",
      "source": [
        "boolean_indexes = np.array([False, False, False, False, False, True, True, True, True])\n",
        "array3 = array1d[boolean_indexes]\n",
        "print(array3)"
      ],
      "metadata": {
        "colab": {
          "base_uri": "https://localhost:8080/"
        },
        "id": "OwA1Mdg3fwwY",
        "outputId": "1ce5f889-5a47-4b63-d59d-27a6fe208890"
      },
      "execution_count": null,
      "outputs": [
        {
          "output_type": "stream",
          "name": "stdout",
          "text": [
            "[6 7 8 9]\n"
          ]
        }
      ]
    },
    {
      "cell_type": "code",
      "source": [
        "# 직접 인덱스 집합을 만들어 대입한 것과 동일\n",
        "indexes = np.array([5, 6, 7, 8])\n",
        "array4 = array1d[indexes]\n",
        "print(array4)"
      ],
      "metadata": {
        "colab": {
          "base_uri": "https://localhost:8080/"
        },
        "id": "D3MpJczAf8d1",
        "outputId": "46bc4d57-e639-4f11-d046-85c84bc63e3d"
      },
      "execution_count": null,
      "outputs": [
        {
          "output_type": "stream",
          "name": "stdout",
          "text": [
            "[6 7 8 9]\n"
          ]
        }
      ]
    },
    {
      "cell_type": "markdown",
      "source": [
        "## 행렬의 정렬 - `sort()`와 `argsort()`"
      ],
      "metadata": {
        "id": "SwwROSmzgdYU"
      }
    },
    {
      "cell_type": "markdown",
      "source": [
        "> **행렬 정렬**"
      ],
      "metadata": {
        "id": "Rxd2hJpSgkZb"
      }
    },
    {
      "cell_type": "code",
      "source": [
        "org_array = np.array([ 3, 1, 9, 5])\n",
        "print(org_array)\n",
        "\n",
        "# np.sort()로 정렬\n",
        "# 원 행렬 유지\n",
        "sort_array1 = np.sort(org_array)\n",
        "print(sort_array1)\n",
        "print(org_array)"
      ],
      "metadata": {
        "colab": {
          "base_uri": "https://localhost:8080/"
        },
        "id": "48HJPWwSgjja",
        "outputId": "aab82db4-afea-4e22-abff-757b0e07cabd"
      },
      "execution_count": null,
      "outputs": [
        {
          "output_type": "stream",
          "name": "stdout",
          "text": [
            "[3 1 9 5]\n",
            "[1 3 5 9]\n",
            "[3 1 9 5]\n"
          ]
        }
      ]
    },
    {
      "cell_type": "code",
      "source": [
        "# ndarray.sort()로 정렬\n",
        "# 원 행렬 변환\n",
        "sort_array2 = org_array.sort()\n",
        "print(sort_array2)\n",
        "print(org_array)"
      ],
      "metadata": {
        "colab": {
          "base_uri": "https://localhost:8080/"
        },
        "id": "wEGUA6cthM1B",
        "outputId": "a003e905-5d6c-4628-e938-920929b6a545"
      },
      "execution_count": null,
      "outputs": [
        {
          "output_type": "stream",
          "name": "stdout",
          "text": [
            "None\n",
            "[1 3 5 9]\n"
          ]
        }
      ]
    },
    {
      "cell_type": "code",
      "source": [
        "# 내림차순 정렬\n",
        "sort_array1_desc = np.sort(org_array)[::-1]\n",
        "print(sort_array1_desc)"
      ],
      "metadata": {
        "colab": {
          "base_uri": "https://localhost:8080/"
        },
        "id": "bJUMgzwthqfr",
        "outputId": "47b1ce9c-25de-4040-f86f-4dae2ed19448"
      },
      "execution_count": null,
      "outputs": [
        {
          "output_type": "stream",
          "name": "stdout",
          "text": [
            "[9 5 3 1]\n"
          ]
        }
      ]
    },
    {
      "cell_type": "code",
      "source": [
        "# 행렬이 2차원 이상일 경우\n",
        "# axis 축 값 설정하기\n",
        "array2d = np.array([[8, 12],\n",
        "                    [7, 1 ]])\n",
        "print('원 행렬:\\n', array2d)\n",
        "\n",
        "sort_array2d_axis0 = np.sort(array2d, axis=0)\n",
        "print('로우 방향으로 정렬:\\n', sort_array2d_axis0)\n",
        "\n",
        "sort_array2d_axis1 = np.sort(array2d, axis=1)\n",
        "print('칼럼 방향으로 정렬:\\n', sort_array2d_axis1)"
      ],
      "metadata": {
        "colab": {
          "base_uri": "https://localhost:8080/"
        },
        "id": "AV7xc_nMh4te",
        "outputId": "ecd3b8b7-4f3d-44df-a234-94d773baa984"
      },
      "execution_count": null,
      "outputs": [
        {
          "output_type": "stream",
          "name": "stdout",
          "text": [
            "원 행렬:\n",
            " [[ 8 12]\n",
            " [ 7  1]]\n",
            "로우 방향으로 정렬:\n",
            " [[ 7  1]\n",
            " [ 8 12]]\n",
            "칼럼 방향으로 정렬:\n",
            " [[ 8 12]\n",
            " [ 1  7]]\n"
          ]
        }
      ]
    },
    {
      "cell_type": "markdown",
      "source": [
        "> **정렬된 행렬의 인덱스를 반환하기**: `np.argsort()`\n",
        "\n",
        "* 넘파이의 데이터 추출에서 많이 사용됨"
      ],
      "metadata": {
        "id": "7o1wFjZsiuMK"
      }
    },
    {
      "cell_type": "code",
      "source": [
        "org_array = np.array([ 3, 1, 9, 5])\n",
        "print(org_array)\n",
        "\n",
        "sort_indices = np.argsort(org_array)\n",
        "print(sort_indices)\n",
        "print(org_array[sort_indices])\n",
        "print(type(sort_indices))"
      ],
      "metadata": {
        "colab": {
          "base_uri": "https://localhost:8080/"
        },
        "id": "YtZn6FIXjFlq",
        "outputId": "94eaf0c9-0c54-475c-a8a3-819acaf636c5"
      },
      "execution_count": null,
      "outputs": [
        {
          "output_type": "stream",
          "name": "stdout",
          "text": [
            "[3 1 9 5]\n",
            "[1 0 3 2]\n",
            "[1 3 5 9]\n",
            "<class 'numpy.ndarray'>\n"
          ]
        }
      ]
    },
    {
      "cell_type": "code",
      "source": [
        "# 내림차순\n",
        "org_array = np.array([ 3, 1, 9, 5])\n",
        "sort_indices_desc = np.argsort(org_array)[::-1]\n",
        "print(org_array)\n",
        "print(sort_indices_desc)\n",
        "print(org_array[sort_indices_desc])"
      ],
      "metadata": {
        "colab": {
          "base_uri": "https://localhost:8080/"
        },
        "id": "Jqvho_kdjf_A",
        "outputId": "92fef259-9af8-467f-847e-c1ceadd38abe"
      },
      "execution_count": null,
      "outputs": [
        {
          "output_type": "stream",
          "name": "stdout",
          "text": [
            "[3 1 9 5]\n",
            "[2 3 0 1]\n",
            "[9 5 3 1]\n"
          ]
        }
      ]
    },
    {
      "cell_type": "code",
      "source": [
        "# 사용 예시\n",
        "import numpy as np\n",
        "\n",
        "name_array = np.array(['John', 'Mike', 'Sarah', 'Kate', 'Samuel'])\n",
        "score_array = np.array([78, 95, 84, 98, 88])\n",
        "\n",
        "sort_indices_asc = np.argsort(score_array)\n",
        "print(np.sort(score_array))\n",
        "print(name_array[sort_indices_asc])"
      ],
      "metadata": {
        "colab": {
          "base_uri": "https://localhost:8080/"
        },
        "id": "OtaMpg8nkFDA",
        "outputId": "7bae7607-88cd-48a5-c06f-6be4c5086280"
      },
      "execution_count": null,
      "outputs": [
        {
          "output_type": "stream",
          "name": "stdout",
          "text": [
            "[78 84 88 95 98]\n",
            "['John' 'Sarah' 'Samuel' 'Mike' 'Kate']\n"
          ]
        }
      ]
    },
    {
      "cell_type": "markdown",
      "source": [
        "## 선형대수 연산 - 행렬 내적과 전치 행렬 구하기\n",
        "> **행렬 내적(행렬 곱)** : `np.dot()`"
      ],
      "metadata": {
        "id": "ZdyBbSw3l3Cw"
      }
    },
    {
      "cell_type": "code",
      "source": [
        "A = np.array( [[1, 2, 3],\n",
        "               [4, 5, 6]])\n",
        "\n",
        "B = np.array( [[7, 8],\n",
        "               [9, 10],\n",
        "               [11, 12]])\n",
        "\n",
        "dot_product = np.dot(A, B)\n",
        "print(dot_product)"
      ],
      "metadata": {
        "colab": {
          "base_uri": "https://localhost:8080/"
        },
        "id": "WIMIMBqumL39",
        "outputId": "cd72f11e-b6dd-410b-958b-a96ac0873a25"
      },
      "execution_count": null,
      "outputs": [
        {
          "output_type": "stream",
          "name": "stdout",
          "text": [
            "[[ 58  64]\n",
            " [139 154]]\n"
          ]
        }
      ]
    },
    {
      "cell_type": "markdown",
      "source": [
        "> **전치 행렬**: `np.transpose()`"
      ],
      "metadata": {
        "id": "RanzkjUMm-gh"
      }
    },
    {
      "cell_type": "code",
      "source": [
        "A = np.array([[1, 2],\n",
        "             [3, 4]])\n",
        "transpose_mat = np.transpose(A)\n",
        "print('A trnaspose:\\n', transpose_mat)\n",
        "\n",
        "B = np.array([[1, 2],\n",
        "              [3, 4],\n",
        "              [5, 6]])\n",
        "print('B transpose:\\n', np.transpose(B))"
      ],
      "metadata": {
        "colab": {
          "base_uri": "https://localhost:8080/"
        },
        "id": "lIQZXDQTnAMn",
        "outputId": "034b9a62-ab33-4b8d-dba2-a50c4c8b4b77"
      },
      "execution_count": null,
      "outputs": [
        {
          "output_type": "stream",
          "name": "stdout",
          "text": [
            "A trnaspose:\n",
            " [[1 3]\n",
            " [2 4]]\n",
            "B transpose:\n",
            " [[1 3 5]\n",
            " [2 4 6]]\n"
          ]
        }
      ]
    }
  ]
}