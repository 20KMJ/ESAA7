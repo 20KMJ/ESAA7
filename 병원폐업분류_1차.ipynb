{
  "nbformat": 4,
  "nbformat_minor": 0,
  "metadata": {
    "colab": {
      "provenance": [],
      "authorship_tag": "ABX9TyN9l/xzqanjSaMjmDMljxsP",
      "include_colab_link": true
    },
    "kernelspec": {
      "name": "python3",
      "display_name": "Python 3"
    },
    "language_info": {
      "name": "python"
    }
  },
  "cells": [
    {
      "cell_type": "markdown",
      "metadata": {
        "id": "view-in-github",
        "colab_type": "text"
      },
      "source": [
        "<a href=\"https://colab.research.google.com/github/20KMJ/ESAA7/blob/main/%EB%B3%91%EC%9B%90%ED%8F%90%EC%97%85%EB%B6%84%EB%A5%98_1%EC%B0%A8.ipynb\" target=\"_parent\"><img src=\"https://colab.research.google.com/assets/colab-badge.svg\" alt=\"Open In Colab\"/></a>"
      ]
    },
    {
      "cell_type": "markdown",
      "source": [
        "## 설명\n",
        "train.csv - 의료기관이 폐업했는지 여부를 포함하여 최근 2개년의 재무정보와 병원 기본정보 \n",
        "\n",
        "test.csv - 폐업 여부를 제외하고 train.csv와 동일 \n",
        "\n",
        "sample_submission.csv - inst_id와 open과 close를 예측하는 OC 두개의 열로 구성. OC의 값은 open 예측일 경우 1, close 예측일 경우 0.\n",
        "\n",
        "\n",
        "\n",
        "inst_id - 각 파일에서의 병원 고유 번호\n",
        "\n",
        "OC – 영업/폐업 분류, 2018년 폐업은 2017년 폐업으로 간주함\n",
        "\n",
        "sido – 병원의 광역 지역 정보\n",
        "\n",
        "sgg – 병원의 시군구 자료\n",
        "\n",
        "openDate – 병원 설립일\n",
        "\n",
        "bedCount - 병원이 갖추고 있는 병상의 수\n",
        "\n",
        "instkind – 병원, 의원, 요양병원, 한의원, 종합병원 등 병원의 종류\n",
        "\n",
        "·        종합병원 : 입원환자 100명 이상 수용 가능\n",
        "\n",
        "·        병원 : 입원 환자 30명 이상 100명 미만 수용 가능\n",
        "\n",
        "·        의원 : 입원 환자 30명 이하 수용 가능\n",
        "\n",
        "·        한방 병원(한의원) : 침술과 한약으로 치료하는 의료 기관.  \n",
        "\n",
        " \n",
        "\n",
        "revenue1 – 매출액, 2017(회계년도)년 데이터를 의미함\n",
        "\n",
        "salescost1 – 매출원가, 2017(회계년도)년 데이터를 의미함\n",
        "\n",
        "sga1 - 판매비와 관리비, 2017(회계년도)년 데이터를 의미함\n",
        "\n",
        "salary1 – 급여, 2017(회계년도)년 데이터를 의미함\n",
        "\n",
        "noi1 – 영업외수익, 2017(회계년도)년 데이터를 의미함\n",
        "\n",
        "noe1 – 영업외비용, 2017(회계년도)년 데이터를 의미함\n",
        "\n",
        "Interest1 – 이자비용, 2017(회계년도)년 데이터를 의미함\n",
        "\n",
        "ctax1 – 법인세비용, 2017(회계년도)년 데이터를 의미함\n",
        "\n",
        "Profit1 – 당기순이익, 2017(회계년도)년 데이터를 의미함\n",
        "\n",
        "liquidAsset1 – 유동자산, 2017(회계년도)년 데이터를 의미함\n",
        "\n",
        "quickAsset1 – 당좌자산, 2017(회계년도)년 데이터를 의미함\n",
        "\n",
        "receivableS1 - 미수금(단기), 2017(회계년도)년 데이터를 의미함\n",
        "\n",
        "inventoryAsset1 – 재고자산, 2017(회계년도)년 데이터를 의미함\n",
        "\n",
        "nonCAsset1 – 비유동자산, 2017(회계년도)년 데이터를 의미함\n",
        "\n",
        "tanAsset1 – 유형자산, 2017(회계년도)년 데이터를 의미함\n",
        "\n",
        "OnonCAsset1 - 기타 비유동자산, 2017(회계년도)년 데이터를 의미함\n",
        "\n",
        "receivableL1 – 장기미수금, 2017(회계년도)년 데이터를 의미함\n",
        "\n",
        "debt1 – 부채총계, 2017(회계년도)년 데이터를 의미함\n",
        "\n",
        "liquidLiabilities1 – 유동부채, 2017(회계년도)년 데이터를 의미함\n",
        "\n",
        "shortLoan1 – 단기차입금, 2017(회계년도)년 데이터를 의미함\n",
        "\n",
        "NCLiabilities1 – 비유동부채, 2017(회계년도)년 데이터를 의미함\n",
        "\n",
        "longLoan1 – 장기차입금, 2017(회계년도)년 데이터를 의미함\n",
        "\n",
        "netAsset1 – 순자산총계, 2017(회계년도)년 데이터를 의미함\n",
        "\n",
        "surplus1 – 이익잉여금, 2017(회계년도)년 데이터를 의미함\n",
        "\n",
        " \n",
        "\n",
        "revenue2 – 매출액, 2016(회계년도)년 데이터를 의미함\n",
        "\n",
        "salescost2 – 매출원가, 2016(회계년도)년 데이터를 의미함\n",
        "\n",
        "sga2 - 판매비와 관리비, 2016(회계년도)년 데이터를 의미함\n",
        "\n",
        "salary2 – 급여, 2016(회계년도)년 데이터를 의미함\n",
        "\n",
        "noi2 – 영업외수익, 2016(회계년도)년 데이터를 의미함\n",
        "\n",
        "noe2 – 영업외비용, 2016(회계년도)년 데이터를 의미함\n",
        "\n",
        "interest2 – 이자비용, 2016(회계년도)년 데이터를 의미함\n",
        "\n",
        "ctax2 – 법인세비용, 2016(회계년도)년 데이터를 의미함\n",
        "\n",
        "profit2 – 당기순이익, 2016(회계년도)년 데이터를 의미함\n",
        "\n",
        "liquidAsset2 – 유동자산, 2016(회계년도)년 데이터를 의미함\n",
        "\n",
        "quickAsset2 – 당좌자산, 2016(회계년도)년 데이터를 의미함\n",
        "\n",
        "receivableS2 - 미수금(단기), 2016(회계년도)년 데이터를 의미함\n",
        "\n",
        "inventoryAsset2 – 재고자산, 2016(회계년도)년 데이터를 의미함\n",
        "\n",
        "nonCAsset2 – 비유동자산, 2016(회계년도)년 데이터를 의미함\n",
        "\n",
        "tanAsset2 – 유형자산, 2016(회계년도)년 데이터를 의미함\n",
        "\n",
        "OnonCAsset2 - 기타 비유동자산, 2016(회계년도)년 데이터를 의미함\n",
        "\n",
        "receivableL2 – 장기미수금, 2016(회계년도)년 데이터를 의미함\n",
        "\n",
        "Debt2 – 부채총계, 2016(회계년도)년 데이터를 의미함\n",
        "\n",
        "liquidLiabilities2 – 유동부채, 2016(회계년도)년 데이터를 의미함\n",
        "\n",
        "shortLoan2 – 단기차입금, 2016(회계년도)년 데이터를 의미함\n",
        "\n",
        "NCLiabilities2 – 비유동부채, 2016(회계년도)년 데이터를 의미함\n",
        "\n",
        "longLoan2 – 장기차입금, 2016(회계년도)년 데이터를 의미함\n",
        "\n",
        "netAsset2 – 순자산총계, 2016(회계년도)년 데이터를 의미함\n",
        "\n",
        "surplus2 – 이익잉여금, 2016(회계년도)년 데이터를 의미함\n",
        "\n",
        "employee1 – 고용한 총 직원의 수, 2017(회계년도)년 데이터를 의미함\n",
        "\n",
        "employee2 – 고용한 총 직원의 수, 2016(회계년도)년 데이터를 의미함\n",
        "\n",
        "ownerChange – 대표자의 변동 \n",
        "\n",
        "\n"
      ],
      "metadata": {
        "id": "by90lfwZa7Qq"
      }
    },
    {
      "cell_type": "code",
      "source": [
        "# 라이브러리\n",
        "import pandas as pd\n",
        "import seaborn as sns\n",
        "import matplotlib.pyplot as plt\n",
        "%matplotlib inline"
      ],
      "metadata": {
        "id": "5PEOyW2kbvIY"
      },
      "execution_count": null,
      "outputs": []
    },
    {
      "cell_type": "code",
      "execution_count": null,
      "metadata": {
        "id": "1lMb28R6TYbs",
        "colab": {
          "base_uri": "https://localhost:8080/"
        },
        "outputId": "73c807d3-3e86-4568-ee8a-e97168c83efe"
      },
      "outputs": [
        {
          "output_type": "stream",
          "name": "stdout",
          "text": [
            "Mounted at /content/drive\n",
            "/content/drive/MyDrive/ESAA/프로젝트/dataset\n"
          ]
        }
      ],
      "source": [
        "from google.colab import drive\n",
        "drive.mount(\"/content/drive\")\n",
        "\n",
        "# 경로 이동\n",
        "%cd /content/drive/MyDrive/ESAA/프로젝트/dataset"
      ]
    },
    {
      "cell_type": "code",
      "source": [
        "# 데이터 업로드\n",
        "train = pd.read_csv(\"hospital/train.csv\")\n",
        "test = pd.read_csv(\"hospital/test.csv\")"
      ],
      "metadata": {
        "id": "uncG1tEBT3dA"
      },
      "execution_count": null,
      "outputs": []
    },
    {
      "cell_type": "code",
      "source": [
        "train.shape, test.shape"
      ],
      "metadata": {
        "colab": {
          "base_uri": "https://localhost:8080/"
        },
        "id": "P6Wx8FZm3qrg",
        "outputId": "bf993c8f-25e0-4360-c773-c8834365c458"
      },
      "execution_count": null,
      "outputs": [
        {
          "output_type": "execute_result",
          "data": {
            "text/plain": [
              "((301, 58), (127, 58))"
            ]
          },
          "metadata": {},
          "execution_count": 3
        }
      ]
    },
    {
      "cell_type": "code",
      "source": [
        "train.head()"
      ],
      "metadata": {
        "colab": {
          "base_uri": "https://localhost:8080/",
          "height": 300
        },
        "id": "BhSdM3kN3PFx",
        "outputId": "0cd98301-3034-402d-f3cb-70c597b2831d"
      },
      "execution_count": null,
      "outputs": [
        {
          "output_type": "execute_result",
          "data": {
            "text/plain": [
              "   inst_id    OC       sido  sgg  openDate  bedCount          instkind  \\\n",
              "0        1  open  choongnam   73  20071228     175.0  nursing_hospital   \n",
              "1        3  open  gyeongnam   32  19970401     410.0  general_hospital   \n",
              "2        4  open   gyeonggi   89  20161228     468.0  nursing_hospital   \n",
              "3        7  open    incheon  141  20000814     353.0  general_hospital   \n",
              "4        9  open  gyeongnam   32  20050901     196.0  general_hospital   \n",
              "\n",
              "       revenue1   salescost1          sga1  ...         debt2  \\\n",
              "0  4.217530e+09          0.0  3.961135e+09  ...  7.589937e+08   \n",
              "1           NaN          NaN           NaN  ...           NaN   \n",
              "2  1.004522e+09  515483669.0  4.472197e+08  ...  0.000000e+00   \n",
              "3  7.250734e+10          0.0  7.067740e+10  ...  3.775501e+10   \n",
              "4  4.904354e+10          0.0  4.765605e+10  ...  5.143259e+10   \n",
              "\n",
              "   liquidLiabilities2    shortLoan2  NCLiabilities2     longLoan2  \\\n",
              "0        2.228769e+08  0.000000e+00    5.361169e+08  3.900000e+08   \n",
              "1                 NaN           NaN             NaN           NaN   \n",
              "2        0.000000e+00  0.000000e+00    0.000000e+00  0.000000e+00   \n",
              "3        1.701860e+10  9.219427e+09    2.073641e+10  1.510000e+10   \n",
              "4        3.007259e+10  1.759375e+10    2.136001e+10  1.410803e+10   \n",
              "\n",
              "      netAsset2      surplus2  employee1  employee2  ownerChange  \n",
              "0  2.619290e+09  1.271224e+09       62.0       64.0         same  \n",
              "1           NaN           NaN      801.0      813.0         same  \n",
              "2  0.000000e+00  0.000000e+00      234.0        1.0         same  \n",
              "3  1.295427e+10  7.740829e+09      663.0      663.0         same  \n",
              "4  5.561941e+06  9.025550e+09      206.0      197.0         same  \n",
              "\n",
              "[5 rows x 58 columns]"
            ],
            "text/html": [
              "\n",
              "  <div id=\"df-1fccb5d5-f01d-402e-8fe9-2f2c7d94c581\">\n",
              "    <div class=\"colab-df-container\">\n",
              "      <div>\n",
              "<style scoped>\n",
              "    .dataframe tbody tr th:only-of-type {\n",
              "        vertical-align: middle;\n",
              "    }\n",
              "\n",
              "    .dataframe tbody tr th {\n",
              "        vertical-align: top;\n",
              "    }\n",
              "\n",
              "    .dataframe thead th {\n",
              "        text-align: right;\n",
              "    }\n",
              "</style>\n",
              "<table border=\"1\" class=\"dataframe\">\n",
              "  <thead>\n",
              "    <tr style=\"text-align: right;\">\n",
              "      <th></th>\n",
              "      <th>inst_id</th>\n",
              "      <th>OC</th>\n",
              "      <th>sido</th>\n",
              "      <th>sgg</th>\n",
              "      <th>openDate</th>\n",
              "      <th>bedCount</th>\n",
              "      <th>instkind</th>\n",
              "      <th>revenue1</th>\n",
              "      <th>salescost1</th>\n",
              "      <th>sga1</th>\n",
              "      <th>...</th>\n",
              "      <th>debt2</th>\n",
              "      <th>liquidLiabilities2</th>\n",
              "      <th>shortLoan2</th>\n",
              "      <th>NCLiabilities2</th>\n",
              "      <th>longLoan2</th>\n",
              "      <th>netAsset2</th>\n",
              "      <th>surplus2</th>\n",
              "      <th>employee1</th>\n",
              "      <th>employee2</th>\n",
              "      <th>ownerChange</th>\n",
              "    </tr>\n",
              "  </thead>\n",
              "  <tbody>\n",
              "    <tr>\n",
              "      <th>0</th>\n",
              "      <td>1</td>\n",
              "      <td>open</td>\n",
              "      <td>choongnam</td>\n",
              "      <td>73</td>\n",
              "      <td>20071228</td>\n",
              "      <td>175.0</td>\n",
              "      <td>nursing_hospital</td>\n",
              "      <td>4.217530e+09</td>\n",
              "      <td>0.0</td>\n",
              "      <td>3.961135e+09</td>\n",
              "      <td>...</td>\n",
              "      <td>7.589937e+08</td>\n",
              "      <td>2.228769e+08</td>\n",
              "      <td>0.000000e+00</td>\n",
              "      <td>5.361169e+08</td>\n",
              "      <td>3.900000e+08</td>\n",
              "      <td>2.619290e+09</td>\n",
              "      <td>1.271224e+09</td>\n",
              "      <td>62.0</td>\n",
              "      <td>64.0</td>\n",
              "      <td>same</td>\n",
              "    </tr>\n",
              "    <tr>\n",
              "      <th>1</th>\n",
              "      <td>3</td>\n",
              "      <td>open</td>\n",
              "      <td>gyeongnam</td>\n",
              "      <td>32</td>\n",
              "      <td>19970401</td>\n",
              "      <td>410.0</td>\n",
              "      <td>general_hospital</td>\n",
              "      <td>NaN</td>\n",
              "      <td>NaN</td>\n",
              "      <td>NaN</td>\n",
              "      <td>...</td>\n",
              "      <td>NaN</td>\n",
              "      <td>NaN</td>\n",
              "      <td>NaN</td>\n",
              "      <td>NaN</td>\n",
              "      <td>NaN</td>\n",
              "      <td>NaN</td>\n",
              "      <td>NaN</td>\n",
              "      <td>801.0</td>\n",
              "      <td>813.0</td>\n",
              "      <td>same</td>\n",
              "    </tr>\n",
              "    <tr>\n",
              "      <th>2</th>\n",
              "      <td>4</td>\n",
              "      <td>open</td>\n",
              "      <td>gyeonggi</td>\n",
              "      <td>89</td>\n",
              "      <td>20161228</td>\n",
              "      <td>468.0</td>\n",
              "      <td>nursing_hospital</td>\n",
              "      <td>1.004522e+09</td>\n",
              "      <td>515483669.0</td>\n",
              "      <td>4.472197e+08</td>\n",
              "      <td>...</td>\n",
              "      <td>0.000000e+00</td>\n",
              "      <td>0.000000e+00</td>\n",
              "      <td>0.000000e+00</td>\n",
              "      <td>0.000000e+00</td>\n",
              "      <td>0.000000e+00</td>\n",
              "      <td>0.000000e+00</td>\n",
              "      <td>0.000000e+00</td>\n",
              "      <td>234.0</td>\n",
              "      <td>1.0</td>\n",
              "      <td>same</td>\n",
              "    </tr>\n",
              "    <tr>\n",
              "      <th>3</th>\n",
              "      <td>7</td>\n",
              "      <td>open</td>\n",
              "      <td>incheon</td>\n",
              "      <td>141</td>\n",
              "      <td>20000814</td>\n",
              "      <td>353.0</td>\n",
              "      <td>general_hospital</td>\n",
              "      <td>7.250734e+10</td>\n",
              "      <td>0.0</td>\n",
              "      <td>7.067740e+10</td>\n",
              "      <td>...</td>\n",
              "      <td>3.775501e+10</td>\n",
              "      <td>1.701860e+10</td>\n",
              "      <td>9.219427e+09</td>\n",
              "      <td>2.073641e+10</td>\n",
              "      <td>1.510000e+10</td>\n",
              "      <td>1.295427e+10</td>\n",
              "      <td>7.740829e+09</td>\n",
              "      <td>663.0</td>\n",
              "      <td>663.0</td>\n",
              "      <td>same</td>\n",
              "    </tr>\n",
              "    <tr>\n",
              "      <th>4</th>\n",
              "      <td>9</td>\n",
              "      <td>open</td>\n",
              "      <td>gyeongnam</td>\n",
              "      <td>32</td>\n",
              "      <td>20050901</td>\n",
              "      <td>196.0</td>\n",
              "      <td>general_hospital</td>\n",
              "      <td>4.904354e+10</td>\n",
              "      <td>0.0</td>\n",
              "      <td>4.765605e+10</td>\n",
              "      <td>...</td>\n",
              "      <td>5.143259e+10</td>\n",
              "      <td>3.007259e+10</td>\n",
              "      <td>1.759375e+10</td>\n",
              "      <td>2.136001e+10</td>\n",
              "      <td>1.410803e+10</td>\n",
              "      <td>5.561941e+06</td>\n",
              "      <td>9.025550e+09</td>\n",
              "      <td>206.0</td>\n",
              "      <td>197.0</td>\n",
              "      <td>same</td>\n",
              "    </tr>\n",
              "  </tbody>\n",
              "</table>\n",
              "<p>5 rows × 58 columns</p>\n",
              "</div>\n",
              "      <button class=\"colab-df-convert\" onclick=\"convertToInteractive('df-1fccb5d5-f01d-402e-8fe9-2f2c7d94c581')\"\n",
              "              title=\"Convert this dataframe to an interactive table.\"\n",
              "              style=\"display:none;\">\n",
              "        \n",
              "  <svg xmlns=\"http://www.w3.org/2000/svg\" height=\"24px\"viewBox=\"0 0 24 24\"\n",
              "       width=\"24px\">\n",
              "    <path d=\"M0 0h24v24H0V0z\" fill=\"none\"/>\n",
              "    <path d=\"M18.56 5.44l.94 2.06.94-2.06 2.06-.94-2.06-.94-.94-2.06-.94 2.06-2.06.94zm-11 1L8.5 8.5l.94-2.06 2.06-.94-2.06-.94L8.5 2.5l-.94 2.06-2.06.94zm10 10l.94 2.06.94-2.06 2.06-.94-2.06-.94-.94-2.06-.94 2.06-2.06.94z\"/><path d=\"M17.41 7.96l-1.37-1.37c-.4-.4-.92-.59-1.43-.59-.52 0-1.04.2-1.43.59L10.3 9.45l-7.72 7.72c-.78.78-.78 2.05 0 2.83L4 21.41c.39.39.9.59 1.41.59.51 0 1.02-.2 1.41-.59l7.78-7.78 2.81-2.81c.8-.78.8-2.07 0-2.86zM5.41 20L4 18.59l7.72-7.72 1.47 1.35L5.41 20z\"/>\n",
              "  </svg>\n",
              "      </button>\n",
              "      \n",
              "  <style>\n",
              "    .colab-df-container {\n",
              "      display:flex;\n",
              "      flex-wrap:wrap;\n",
              "      gap: 12px;\n",
              "    }\n",
              "\n",
              "    .colab-df-convert {\n",
              "      background-color: #E8F0FE;\n",
              "      border: none;\n",
              "      border-radius: 50%;\n",
              "      cursor: pointer;\n",
              "      display: none;\n",
              "      fill: #1967D2;\n",
              "      height: 32px;\n",
              "      padding: 0 0 0 0;\n",
              "      width: 32px;\n",
              "    }\n",
              "\n",
              "    .colab-df-convert:hover {\n",
              "      background-color: #E2EBFA;\n",
              "      box-shadow: 0px 1px 2px rgba(60, 64, 67, 0.3), 0px 1px 3px 1px rgba(60, 64, 67, 0.15);\n",
              "      fill: #174EA6;\n",
              "    }\n",
              "\n",
              "    [theme=dark] .colab-df-convert {\n",
              "      background-color: #3B4455;\n",
              "      fill: #D2E3FC;\n",
              "    }\n",
              "\n",
              "    [theme=dark] .colab-df-convert:hover {\n",
              "      background-color: #434B5C;\n",
              "      box-shadow: 0px 1px 3px 1px rgba(0, 0, 0, 0.15);\n",
              "      filter: drop-shadow(0px 1px 2px rgba(0, 0, 0, 0.3));\n",
              "      fill: #FFFFFF;\n",
              "    }\n",
              "  </style>\n",
              "\n",
              "      <script>\n",
              "        const buttonEl =\n",
              "          document.querySelector('#df-1fccb5d5-f01d-402e-8fe9-2f2c7d94c581 button.colab-df-convert');\n",
              "        buttonEl.style.display =\n",
              "          google.colab.kernel.accessAllowed ? 'block' : 'none';\n",
              "\n",
              "        async function convertToInteractive(key) {\n",
              "          const element = document.querySelector('#df-1fccb5d5-f01d-402e-8fe9-2f2c7d94c581');\n",
              "          const dataTable =\n",
              "            await google.colab.kernel.invokeFunction('convertToInteractive',\n",
              "                                                     [key], {});\n",
              "          if (!dataTable) return;\n",
              "\n",
              "          const docLinkHtml = 'Like what you see? Visit the ' +\n",
              "            '<a target=\"_blank\" href=https://colab.research.google.com/notebooks/data_table.ipynb>data table notebook</a>'\n",
              "            + ' to learn more about interactive tables.';\n",
              "          element.innerHTML = '';\n",
              "          dataTable['output_type'] = 'display_data';\n",
              "          await google.colab.output.renderOutput(dataTable, element);\n",
              "          const docLink = document.createElement('div');\n",
              "          docLink.innerHTML = docLinkHtml;\n",
              "          element.appendChild(docLink);\n",
              "        }\n",
              "      </script>\n",
              "    </div>\n",
              "  </div>\n",
              "  "
            ]
          },
          "metadata": {},
          "execution_count": 4
        }
      ]
    },
    {
      "cell_type": "code",
      "source": [
        "train.info()"
      ],
      "metadata": {
        "colab": {
          "base_uri": "https://localhost:8080/"
        },
        "id": "k3NKsIuKWx-8",
        "outputId": "95a85c52-49bb-436a-ad46-153d4341e2c7"
      },
      "execution_count": null,
      "outputs": [
        {
          "output_type": "stream",
          "name": "stdout",
          "text": [
            "<class 'pandas.core.frame.DataFrame'>\n",
            "RangeIndex: 301 entries, 0 to 300\n",
            "Data columns (total 58 columns):\n",
            " #   Column              Non-Null Count  Dtype  \n",
            "---  ------              --------------  -----  \n",
            " 0   inst_id             301 non-null    int64  \n",
            " 1   OC                  301 non-null    object \n",
            " 2   sido                301 non-null    object \n",
            " 3   sgg                 301 non-null    int64  \n",
            " 4   openDate            301 non-null    int64  \n",
            " 5   bedCount            296 non-null    float64\n",
            " 6   instkind            300 non-null    object \n",
            " 7   revenue1            293 non-null    float64\n",
            " 8   salescost1          293 non-null    float64\n",
            " 9   sga1                293 non-null    float64\n",
            " 10  salary1             293 non-null    float64\n",
            " 11  noi1                293 non-null    float64\n",
            " 12  noe1                293 non-null    float64\n",
            " 13  interest1           293 non-null    float64\n",
            " 14  ctax1               293 non-null    float64\n",
            " 15  profit1             293 non-null    float64\n",
            " 16  liquidAsset1        293 non-null    float64\n",
            " 17  quickAsset1         293 non-null    float64\n",
            " 18  receivableS1        293 non-null    float64\n",
            " 19  inventoryAsset1     293 non-null    float64\n",
            " 20  nonCAsset1          293 non-null    float64\n",
            " 21  tanAsset1           293 non-null    float64\n",
            " 22  OnonCAsset1         293 non-null    float64\n",
            " 23  receivableL1        293 non-null    float64\n",
            " 24  debt1               293 non-null    float64\n",
            " 25  liquidLiabilities1  293 non-null    float64\n",
            " 26  shortLoan1          293 non-null    float64\n",
            " 27  NCLiabilities1      293 non-null    float64\n",
            " 28  longLoan1           293 non-null    float64\n",
            " 29  netAsset1           293 non-null    float64\n",
            " 30  surplus1            293 non-null    float64\n",
            " 31  revenue2            293 non-null    float64\n",
            " 32  salescost2          293 non-null    float64\n",
            " 33  sga2                293 non-null    float64\n",
            " 34  salary2             293 non-null    float64\n",
            " 35  noi2                293 non-null    float64\n",
            " 36  noe2                293 non-null    float64\n",
            " 37  interest2           293 non-null    float64\n",
            " 38  ctax2               293 non-null    float64\n",
            " 39  profit2             293 non-null    float64\n",
            " 40  liquidAsset2        293 non-null    float64\n",
            " 41  quickAsset2         293 non-null    float64\n",
            " 42  receivableS2        293 non-null    float64\n",
            " 43  inventoryAsset2     293 non-null    float64\n",
            " 44  nonCAsset2          293 non-null    float64\n",
            " 45  tanAsset2           293 non-null    float64\n",
            " 46  OnonCAsset2         293 non-null    float64\n",
            " 47  receivableL2        293 non-null    float64\n",
            " 48  debt2               293 non-null    float64\n",
            " 49  liquidLiabilities2  293 non-null    float64\n",
            " 50  shortLoan2          293 non-null    float64\n",
            " 51  NCLiabilities2      293 non-null    float64\n",
            " 52  longLoan2           293 non-null    float64\n",
            " 53  netAsset2           293 non-null    float64\n",
            " 54  surplus2            293 non-null    float64\n",
            " 55  employee1           291 non-null    float64\n",
            " 56  employee2           288 non-null    float64\n",
            " 57  ownerChange         289 non-null    object \n",
            "dtypes: float64(51), int64(3), object(4)\n",
            "memory usage: 136.5+ KB\n"
          ]
        }
      ]
    },
    {
      "cell_type": "code",
      "source": [
        "test.head(15)"
      ],
      "metadata": {
        "colab": {
          "base_uri": "https://localhost:8080/",
          "height": 613
        },
        "id": "7c-q7azv3MEc",
        "outputId": "978fedf6-1bd0-46d0-e96f-0fe1d134b3d0"
      },
      "execution_count": null,
      "outputs": [
        {
          "output_type": "execute_result",
          "data": {
            "text/plain": [
              "    inst_id  OC       sido  sgg    openDate  bedCount            instkind  \\\n",
              "0         2 NaN    incheon  139  19981125.0     300.0    general_hospital   \n",
              "1         5 NaN       jeju  149  20160309.0      44.0            hospital   \n",
              "2         6 NaN    jeonnam  103  19890427.0     276.0    general_hospital   \n",
              "3         8 NaN      busan   71  20100226.0     363.0    general_hospital   \n",
              "4        10 NaN    jeonbuk   26  20040604.0     213.0    general_hospital   \n",
              "5        12 NaN   gyeonggi  122  20081224.0     220.0    general_hospital   \n",
              "6        13 NaN   gyeonggi   31  20020513.0     370.0    general_hospital   \n",
              "7        20 NaN    jeonbuk  147  20070110.0     246.0    general_hospital   \n",
              "8        21 NaN  gyeongbuk   95  20151209.0     148.0    nursing_hospital   \n",
              "9        23 NaN   gyeonggi  169  19851223.0      27.0            hospital   \n",
              "10       24 NaN   gyeonggi  169  20071109.0       NaN  traditional_clinic   \n",
              "11       28 NaN    jeonnam   91  20080404.0     183.0            hospital   \n",
              "12       29 NaN    daejeon   50  19820630.0     363.0    general_hospital   \n",
              "13       30 NaN      seoul   36  20080801.0     173.0            hospital   \n",
              "14       31 NaN      busan   63  20030102.0     363.0    general_hospital   \n",
              "\n",
              "        revenue1    salescost1          sga1  ...         debt2  \\\n",
              "0   6.682486e+10  0.000000e+00  6.565709e+10  ...  5.540643e+10   \n",
              "1   3.495758e+10  0.000000e+00  3.259270e+10  ...  6.730838e+10   \n",
              "2   2.326031e+10  2.542571e+09  2.308749e+10  ...  0.000000e+00   \n",
              "3   0.000000e+00  0.000000e+00  0.000000e+00  ...  1.211517e+10   \n",
              "4   5.037025e+10  0.000000e+00  4.855803e+10  ...  4.395973e+10   \n",
              "5   4.381654e+10  1.005131e+10  2.926493e+10  ...  4.545911e+10   \n",
              "6   8.622773e+10  2.196138e+10  6.151972e+10  ...  4.236725e+10   \n",
              "7   3.570973e+10  4.188687e+09  3.000179e+10  ...  2.275405e+10   \n",
              "8   2.719142e+09  0.000000e+00  2.067186e+09  ...  0.000000e+00   \n",
              "9   7.034041e+10  1.570361e+10  5.177418e+10  ...  6.241929e+10   \n",
              "10  7.034041e+10  1.570361e+10  5.177418e+10  ...  6.241929e+10   \n",
              "11  9.030642e+09  1.925933e+09  7.538563e+09  ...  1.412543e+10   \n",
              "12  1.810000e+11  4.923568e+10  1.270000e+11  ...  8.630558e+10   \n",
              "13  6.637116e+09  0.000000e+00  7.465698e+09  ...  0.000000e+00   \n",
              "14  1.700000e+11  4.206461e+10  1.090000e+11  ...  4.188773e+10   \n",
              "\n",
              "    liquidLiabilities2    shortLoan2  NCLiabilities2     longLoan2  \\\n",
              "0         5.068443e+10  3.714334e+10    4.720000e+09  4.690000e+09   \n",
              "1         4.209828e+10  2.420000e+10    2.521009e+10  1.830000e+10   \n",
              "2         2.777589e+10  2.182278e+10    0.000000e+00  0.000000e+00   \n",
              "3         9.556237e+09  4.251867e+09    2.558931e+09  0.000000e+00   \n",
              "4         7.535567e+09  3.298427e+09    3.642417e+10  2.134712e+10   \n",
              "5         2.475716e+10  1.755790e+10    2.070195e+10  1.716934e+10   \n",
              "6         2.587879e+10  1.197931e+10    1.648845e+10  1.381123e+10   \n",
              "7         8.100283e+09  3.139853e+09    1.465377e+10  1.226653e+10   \n",
              "8         0.000000e+00  0.000000e+00    0.000000e+00  0.000000e+00   \n",
              "9         1.514333e+10  7.749623e+09    4.727596e+10  3.331840e+10   \n",
              "10        1.514333e+10  7.749623e+09    4.727596e+10  3.331840e+10   \n",
              "11        1.148598e+10  7.929080e+09    2.639454e+09  2.227082e+09   \n",
              "12        3.526551e+10  0.000000e+00    5.104007e+10  2.500000e+10   \n",
              "13        0.000000e+00  0.000000e+00    0.000000e+00  0.000000e+00   \n",
              "14        2.747658e+10  3.856642e+09    1.441115e+10  6.216570e+09   \n",
              "\n",
              "       netAsset2      surplus2  employee1  employee2  ownerChange  \n",
              "0   1.608540e+10  8.944587e+09        693        693         same  \n",
              "1   3.789135e+09  0.000000e+00        379        371         same  \n",
              "2   0.000000e+00  1.638540e+10        NaN        NaN          NaN  \n",
              "3   3.914284e+10  0.000000e+00        760        760         same  \n",
              "4   2.574488e+10  1.507269e+10        437        385         same  \n",
              "5   2.480949e+10  0.000000e+00        386        397         same  \n",
              "6   3.447421e+10  0.000000e+00        727        580         same  \n",
              "7   6.194693e+09  1.577122e+09        377        346         same  \n",
              "8   0.000000e+00  0.000000e+00         17         17         same  \n",
              "9   9.818765e+09  8.483183e+09        532        409         same  \n",
              "10  9.818765e+09  8.483183e+09        532        409         same  \n",
              "11 -2.955957e+09 -7.771085e+09        128        127       change  \n",
              "12  3.534836e+10  0.000000e+00      1,637      1,547         same  \n",
              "13  0.000000e+00  0.000000e+00        NaN        NaN         same  \n",
              "14  1.568473e+10  8.462801e+09      1,816      1,104         same  \n",
              "\n",
              "[15 rows x 58 columns]"
            ],
            "text/html": [
              "\n",
              "  <div id=\"df-fb79d2bf-a40e-413f-8793-770db34163d3\">\n",
              "    <div class=\"colab-df-container\">\n",
              "      <div>\n",
              "<style scoped>\n",
              "    .dataframe tbody tr th:only-of-type {\n",
              "        vertical-align: middle;\n",
              "    }\n",
              "\n",
              "    .dataframe tbody tr th {\n",
              "        vertical-align: top;\n",
              "    }\n",
              "\n",
              "    .dataframe thead th {\n",
              "        text-align: right;\n",
              "    }\n",
              "</style>\n",
              "<table border=\"1\" class=\"dataframe\">\n",
              "  <thead>\n",
              "    <tr style=\"text-align: right;\">\n",
              "      <th></th>\n",
              "      <th>inst_id</th>\n",
              "      <th>OC</th>\n",
              "      <th>sido</th>\n",
              "      <th>sgg</th>\n",
              "      <th>openDate</th>\n",
              "      <th>bedCount</th>\n",
              "      <th>instkind</th>\n",
              "      <th>revenue1</th>\n",
              "      <th>salescost1</th>\n",
              "      <th>sga1</th>\n",
              "      <th>...</th>\n",
              "      <th>debt2</th>\n",
              "      <th>liquidLiabilities2</th>\n",
              "      <th>shortLoan2</th>\n",
              "      <th>NCLiabilities2</th>\n",
              "      <th>longLoan2</th>\n",
              "      <th>netAsset2</th>\n",
              "      <th>surplus2</th>\n",
              "      <th>employee1</th>\n",
              "      <th>employee2</th>\n",
              "      <th>ownerChange</th>\n",
              "    </tr>\n",
              "  </thead>\n",
              "  <tbody>\n",
              "    <tr>\n",
              "      <th>0</th>\n",
              "      <td>2</td>\n",
              "      <td>NaN</td>\n",
              "      <td>incheon</td>\n",
              "      <td>139</td>\n",
              "      <td>19981125.0</td>\n",
              "      <td>300.0</td>\n",
              "      <td>general_hospital</td>\n",
              "      <td>6.682486e+10</td>\n",
              "      <td>0.000000e+00</td>\n",
              "      <td>6.565709e+10</td>\n",
              "      <td>...</td>\n",
              "      <td>5.540643e+10</td>\n",
              "      <td>5.068443e+10</td>\n",
              "      <td>3.714334e+10</td>\n",
              "      <td>4.720000e+09</td>\n",
              "      <td>4.690000e+09</td>\n",
              "      <td>1.608540e+10</td>\n",
              "      <td>8.944587e+09</td>\n",
              "      <td>693</td>\n",
              "      <td>693</td>\n",
              "      <td>same</td>\n",
              "    </tr>\n",
              "    <tr>\n",
              "      <th>1</th>\n",
              "      <td>5</td>\n",
              "      <td>NaN</td>\n",
              "      <td>jeju</td>\n",
              "      <td>149</td>\n",
              "      <td>20160309.0</td>\n",
              "      <td>44.0</td>\n",
              "      <td>hospital</td>\n",
              "      <td>3.495758e+10</td>\n",
              "      <td>0.000000e+00</td>\n",
              "      <td>3.259270e+10</td>\n",
              "      <td>...</td>\n",
              "      <td>6.730838e+10</td>\n",
              "      <td>4.209828e+10</td>\n",
              "      <td>2.420000e+10</td>\n",
              "      <td>2.521009e+10</td>\n",
              "      <td>1.830000e+10</td>\n",
              "      <td>3.789135e+09</td>\n",
              "      <td>0.000000e+00</td>\n",
              "      <td>379</td>\n",
              "      <td>371</td>\n",
              "      <td>same</td>\n",
              "    </tr>\n",
              "    <tr>\n",
              "      <th>2</th>\n",
              "      <td>6</td>\n",
              "      <td>NaN</td>\n",
              "      <td>jeonnam</td>\n",
              "      <td>103</td>\n",
              "      <td>19890427.0</td>\n",
              "      <td>276.0</td>\n",
              "      <td>general_hospital</td>\n",
              "      <td>2.326031e+10</td>\n",
              "      <td>2.542571e+09</td>\n",
              "      <td>2.308749e+10</td>\n",
              "      <td>...</td>\n",
              "      <td>0.000000e+00</td>\n",
              "      <td>2.777589e+10</td>\n",
              "      <td>2.182278e+10</td>\n",
              "      <td>0.000000e+00</td>\n",
              "      <td>0.000000e+00</td>\n",
              "      <td>0.000000e+00</td>\n",
              "      <td>1.638540e+10</td>\n",
              "      <td>NaN</td>\n",
              "      <td>NaN</td>\n",
              "      <td>NaN</td>\n",
              "    </tr>\n",
              "    <tr>\n",
              "      <th>3</th>\n",
              "      <td>8</td>\n",
              "      <td>NaN</td>\n",
              "      <td>busan</td>\n",
              "      <td>71</td>\n",
              "      <td>20100226.0</td>\n",
              "      <td>363.0</td>\n",
              "      <td>general_hospital</td>\n",
              "      <td>0.000000e+00</td>\n",
              "      <td>0.000000e+00</td>\n",
              "      <td>0.000000e+00</td>\n",
              "      <td>...</td>\n",
              "      <td>1.211517e+10</td>\n",
              "      <td>9.556237e+09</td>\n",
              "      <td>4.251867e+09</td>\n",
              "      <td>2.558931e+09</td>\n",
              "      <td>0.000000e+00</td>\n",
              "      <td>3.914284e+10</td>\n",
              "      <td>0.000000e+00</td>\n",
              "      <td>760</td>\n",
              "      <td>760</td>\n",
              "      <td>same</td>\n",
              "    </tr>\n",
              "    <tr>\n",
              "      <th>4</th>\n",
              "      <td>10</td>\n",
              "      <td>NaN</td>\n",
              "      <td>jeonbuk</td>\n",
              "      <td>26</td>\n",
              "      <td>20040604.0</td>\n",
              "      <td>213.0</td>\n",
              "      <td>general_hospital</td>\n",
              "      <td>5.037025e+10</td>\n",
              "      <td>0.000000e+00</td>\n",
              "      <td>4.855803e+10</td>\n",
              "      <td>...</td>\n",
              "      <td>4.395973e+10</td>\n",
              "      <td>7.535567e+09</td>\n",
              "      <td>3.298427e+09</td>\n",
              "      <td>3.642417e+10</td>\n",
              "      <td>2.134712e+10</td>\n",
              "      <td>2.574488e+10</td>\n",
              "      <td>1.507269e+10</td>\n",
              "      <td>437</td>\n",
              "      <td>385</td>\n",
              "      <td>same</td>\n",
              "    </tr>\n",
              "    <tr>\n",
              "      <th>5</th>\n",
              "      <td>12</td>\n",
              "      <td>NaN</td>\n",
              "      <td>gyeonggi</td>\n",
              "      <td>122</td>\n",
              "      <td>20081224.0</td>\n",
              "      <td>220.0</td>\n",
              "      <td>general_hospital</td>\n",
              "      <td>4.381654e+10</td>\n",
              "      <td>1.005131e+10</td>\n",
              "      <td>2.926493e+10</td>\n",
              "      <td>...</td>\n",
              "      <td>4.545911e+10</td>\n",
              "      <td>2.475716e+10</td>\n",
              "      <td>1.755790e+10</td>\n",
              "      <td>2.070195e+10</td>\n",
              "      <td>1.716934e+10</td>\n",
              "      <td>2.480949e+10</td>\n",
              "      <td>0.000000e+00</td>\n",
              "      <td>386</td>\n",
              "      <td>397</td>\n",
              "      <td>same</td>\n",
              "    </tr>\n",
              "    <tr>\n",
              "      <th>6</th>\n",
              "      <td>13</td>\n",
              "      <td>NaN</td>\n",
              "      <td>gyeonggi</td>\n",
              "      <td>31</td>\n",
              "      <td>20020513.0</td>\n",
              "      <td>370.0</td>\n",
              "      <td>general_hospital</td>\n",
              "      <td>8.622773e+10</td>\n",
              "      <td>2.196138e+10</td>\n",
              "      <td>6.151972e+10</td>\n",
              "      <td>...</td>\n",
              "      <td>4.236725e+10</td>\n",
              "      <td>2.587879e+10</td>\n",
              "      <td>1.197931e+10</td>\n",
              "      <td>1.648845e+10</td>\n",
              "      <td>1.381123e+10</td>\n",
              "      <td>3.447421e+10</td>\n",
              "      <td>0.000000e+00</td>\n",
              "      <td>727</td>\n",
              "      <td>580</td>\n",
              "      <td>same</td>\n",
              "    </tr>\n",
              "    <tr>\n",
              "      <th>7</th>\n",
              "      <td>20</td>\n",
              "      <td>NaN</td>\n",
              "      <td>jeonbuk</td>\n",
              "      <td>147</td>\n",
              "      <td>20070110.0</td>\n",
              "      <td>246.0</td>\n",
              "      <td>general_hospital</td>\n",
              "      <td>3.570973e+10</td>\n",
              "      <td>4.188687e+09</td>\n",
              "      <td>3.000179e+10</td>\n",
              "      <td>...</td>\n",
              "      <td>2.275405e+10</td>\n",
              "      <td>8.100283e+09</td>\n",
              "      <td>3.139853e+09</td>\n",
              "      <td>1.465377e+10</td>\n",
              "      <td>1.226653e+10</td>\n",
              "      <td>6.194693e+09</td>\n",
              "      <td>1.577122e+09</td>\n",
              "      <td>377</td>\n",
              "      <td>346</td>\n",
              "      <td>same</td>\n",
              "    </tr>\n",
              "    <tr>\n",
              "      <th>8</th>\n",
              "      <td>21</td>\n",
              "      <td>NaN</td>\n",
              "      <td>gyeongbuk</td>\n",
              "      <td>95</td>\n",
              "      <td>20151209.0</td>\n",
              "      <td>148.0</td>\n",
              "      <td>nursing_hospital</td>\n",
              "      <td>2.719142e+09</td>\n",
              "      <td>0.000000e+00</td>\n",
              "      <td>2.067186e+09</td>\n",
              "      <td>...</td>\n",
              "      <td>0.000000e+00</td>\n",
              "      <td>0.000000e+00</td>\n",
              "      <td>0.000000e+00</td>\n",
              "      <td>0.000000e+00</td>\n",
              "      <td>0.000000e+00</td>\n",
              "      <td>0.000000e+00</td>\n",
              "      <td>0.000000e+00</td>\n",
              "      <td>17</td>\n",
              "      <td>17</td>\n",
              "      <td>same</td>\n",
              "    </tr>\n",
              "    <tr>\n",
              "      <th>9</th>\n",
              "      <td>23</td>\n",
              "      <td>NaN</td>\n",
              "      <td>gyeonggi</td>\n",
              "      <td>169</td>\n",
              "      <td>19851223.0</td>\n",
              "      <td>27.0</td>\n",
              "      <td>hospital</td>\n",
              "      <td>7.034041e+10</td>\n",
              "      <td>1.570361e+10</td>\n",
              "      <td>5.177418e+10</td>\n",
              "      <td>...</td>\n",
              "      <td>6.241929e+10</td>\n",
              "      <td>1.514333e+10</td>\n",
              "      <td>7.749623e+09</td>\n",
              "      <td>4.727596e+10</td>\n",
              "      <td>3.331840e+10</td>\n",
              "      <td>9.818765e+09</td>\n",
              "      <td>8.483183e+09</td>\n",
              "      <td>532</td>\n",
              "      <td>409</td>\n",
              "      <td>same</td>\n",
              "    </tr>\n",
              "    <tr>\n",
              "      <th>10</th>\n",
              "      <td>24</td>\n",
              "      <td>NaN</td>\n",
              "      <td>gyeonggi</td>\n",
              "      <td>169</td>\n",
              "      <td>20071109.0</td>\n",
              "      <td>NaN</td>\n",
              "      <td>traditional_clinic</td>\n",
              "      <td>7.034041e+10</td>\n",
              "      <td>1.570361e+10</td>\n",
              "      <td>5.177418e+10</td>\n",
              "      <td>...</td>\n",
              "      <td>6.241929e+10</td>\n",
              "      <td>1.514333e+10</td>\n",
              "      <td>7.749623e+09</td>\n",
              "      <td>4.727596e+10</td>\n",
              "      <td>3.331840e+10</td>\n",
              "      <td>9.818765e+09</td>\n",
              "      <td>8.483183e+09</td>\n",
              "      <td>532</td>\n",
              "      <td>409</td>\n",
              "      <td>same</td>\n",
              "    </tr>\n",
              "    <tr>\n",
              "      <th>11</th>\n",
              "      <td>28</td>\n",
              "      <td>NaN</td>\n",
              "      <td>jeonnam</td>\n",
              "      <td>91</td>\n",
              "      <td>20080404.0</td>\n",
              "      <td>183.0</td>\n",
              "      <td>hospital</td>\n",
              "      <td>9.030642e+09</td>\n",
              "      <td>1.925933e+09</td>\n",
              "      <td>7.538563e+09</td>\n",
              "      <td>...</td>\n",
              "      <td>1.412543e+10</td>\n",
              "      <td>1.148598e+10</td>\n",
              "      <td>7.929080e+09</td>\n",
              "      <td>2.639454e+09</td>\n",
              "      <td>2.227082e+09</td>\n",
              "      <td>-2.955957e+09</td>\n",
              "      <td>-7.771085e+09</td>\n",
              "      <td>128</td>\n",
              "      <td>127</td>\n",
              "      <td>change</td>\n",
              "    </tr>\n",
              "    <tr>\n",
              "      <th>12</th>\n",
              "      <td>29</td>\n",
              "      <td>NaN</td>\n",
              "      <td>daejeon</td>\n",
              "      <td>50</td>\n",
              "      <td>19820630.0</td>\n",
              "      <td>363.0</td>\n",
              "      <td>general_hospital</td>\n",
              "      <td>1.810000e+11</td>\n",
              "      <td>4.923568e+10</td>\n",
              "      <td>1.270000e+11</td>\n",
              "      <td>...</td>\n",
              "      <td>8.630558e+10</td>\n",
              "      <td>3.526551e+10</td>\n",
              "      <td>0.000000e+00</td>\n",
              "      <td>5.104007e+10</td>\n",
              "      <td>2.500000e+10</td>\n",
              "      <td>3.534836e+10</td>\n",
              "      <td>0.000000e+00</td>\n",
              "      <td>1,637</td>\n",
              "      <td>1,547</td>\n",
              "      <td>same</td>\n",
              "    </tr>\n",
              "    <tr>\n",
              "      <th>13</th>\n",
              "      <td>30</td>\n",
              "      <td>NaN</td>\n",
              "      <td>seoul</td>\n",
              "      <td>36</td>\n",
              "      <td>20080801.0</td>\n",
              "      <td>173.0</td>\n",
              "      <td>hospital</td>\n",
              "      <td>6.637116e+09</td>\n",
              "      <td>0.000000e+00</td>\n",
              "      <td>7.465698e+09</td>\n",
              "      <td>...</td>\n",
              "      <td>0.000000e+00</td>\n",
              "      <td>0.000000e+00</td>\n",
              "      <td>0.000000e+00</td>\n",
              "      <td>0.000000e+00</td>\n",
              "      <td>0.000000e+00</td>\n",
              "      <td>0.000000e+00</td>\n",
              "      <td>0.000000e+00</td>\n",
              "      <td>NaN</td>\n",
              "      <td>NaN</td>\n",
              "      <td>same</td>\n",
              "    </tr>\n",
              "    <tr>\n",
              "      <th>14</th>\n",
              "      <td>31</td>\n",
              "      <td>NaN</td>\n",
              "      <td>busan</td>\n",
              "      <td>63</td>\n",
              "      <td>20030102.0</td>\n",
              "      <td>363.0</td>\n",
              "      <td>general_hospital</td>\n",
              "      <td>1.700000e+11</td>\n",
              "      <td>4.206461e+10</td>\n",
              "      <td>1.090000e+11</td>\n",
              "      <td>...</td>\n",
              "      <td>4.188773e+10</td>\n",
              "      <td>2.747658e+10</td>\n",
              "      <td>3.856642e+09</td>\n",
              "      <td>1.441115e+10</td>\n",
              "      <td>6.216570e+09</td>\n",
              "      <td>1.568473e+10</td>\n",
              "      <td>8.462801e+09</td>\n",
              "      <td>1,816</td>\n",
              "      <td>1,104</td>\n",
              "      <td>same</td>\n",
              "    </tr>\n",
              "  </tbody>\n",
              "</table>\n",
              "<p>15 rows × 58 columns</p>\n",
              "</div>\n",
              "      <button class=\"colab-df-convert\" onclick=\"convertToInteractive('df-fb79d2bf-a40e-413f-8793-770db34163d3')\"\n",
              "              title=\"Convert this dataframe to an interactive table.\"\n",
              "              style=\"display:none;\">\n",
              "        \n",
              "  <svg xmlns=\"http://www.w3.org/2000/svg\" height=\"24px\"viewBox=\"0 0 24 24\"\n",
              "       width=\"24px\">\n",
              "    <path d=\"M0 0h24v24H0V0z\" fill=\"none\"/>\n",
              "    <path d=\"M18.56 5.44l.94 2.06.94-2.06 2.06-.94-2.06-.94-.94-2.06-.94 2.06-2.06.94zm-11 1L8.5 8.5l.94-2.06 2.06-.94-2.06-.94L8.5 2.5l-.94 2.06-2.06.94zm10 10l.94 2.06.94-2.06 2.06-.94-2.06-.94-.94-2.06-.94 2.06-2.06.94z\"/><path d=\"M17.41 7.96l-1.37-1.37c-.4-.4-.92-.59-1.43-.59-.52 0-1.04.2-1.43.59L10.3 9.45l-7.72 7.72c-.78.78-.78 2.05 0 2.83L4 21.41c.39.39.9.59 1.41.59.51 0 1.02-.2 1.41-.59l7.78-7.78 2.81-2.81c.8-.78.8-2.07 0-2.86zM5.41 20L4 18.59l7.72-7.72 1.47 1.35L5.41 20z\"/>\n",
              "  </svg>\n",
              "      </button>\n",
              "      \n",
              "  <style>\n",
              "    .colab-df-container {\n",
              "      display:flex;\n",
              "      flex-wrap:wrap;\n",
              "      gap: 12px;\n",
              "    }\n",
              "\n",
              "    .colab-df-convert {\n",
              "      background-color: #E8F0FE;\n",
              "      border: none;\n",
              "      border-radius: 50%;\n",
              "      cursor: pointer;\n",
              "      display: none;\n",
              "      fill: #1967D2;\n",
              "      height: 32px;\n",
              "      padding: 0 0 0 0;\n",
              "      width: 32px;\n",
              "    }\n",
              "\n",
              "    .colab-df-convert:hover {\n",
              "      background-color: #E2EBFA;\n",
              "      box-shadow: 0px 1px 2px rgba(60, 64, 67, 0.3), 0px 1px 3px 1px rgba(60, 64, 67, 0.15);\n",
              "      fill: #174EA6;\n",
              "    }\n",
              "\n",
              "    [theme=dark] .colab-df-convert {\n",
              "      background-color: #3B4455;\n",
              "      fill: #D2E3FC;\n",
              "    }\n",
              "\n",
              "    [theme=dark] .colab-df-convert:hover {\n",
              "      background-color: #434B5C;\n",
              "      box-shadow: 0px 1px 3px 1px rgba(0, 0, 0, 0.15);\n",
              "      filter: drop-shadow(0px 1px 2px rgba(0, 0, 0, 0.3));\n",
              "      fill: #FFFFFF;\n",
              "    }\n",
              "  </style>\n",
              "\n",
              "      <script>\n",
              "        const buttonEl =\n",
              "          document.querySelector('#df-fb79d2bf-a40e-413f-8793-770db34163d3 button.colab-df-convert');\n",
              "        buttonEl.style.display =\n",
              "          google.colab.kernel.accessAllowed ? 'block' : 'none';\n",
              "\n",
              "        async function convertToInteractive(key) {\n",
              "          const element = document.querySelector('#df-fb79d2bf-a40e-413f-8793-770db34163d3');\n",
              "          const dataTable =\n",
              "            await google.colab.kernel.invokeFunction('convertToInteractive',\n",
              "                                                     [key], {});\n",
              "          if (!dataTable) return;\n",
              "\n",
              "          const docLinkHtml = 'Like what you see? Visit the ' +\n",
              "            '<a target=\"_blank\" href=https://colab.research.google.com/notebooks/data_table.ipynb>data table notebook</a>'\n",
              "            + ' to learn more about interactive tables.';\n",
              "          element.innerHTML = '';\n",
              "          dataTable['output_type'] = 'display_data';\n",
              "          await google.colab.output.renderOutput(dataTable, element);\n",
              "          const docLink = document.createElement('div');\n",
              "          docLink.innerHTML = docLinkHtml;\n",
              "          element.appendChild(docLink);\n",
              "        }\n",
              "      </script>\n",
              "    </div>\n",
              "  </div>\n",
              "  "
            ]
          },
          "metadata": {},
          "execution_count": 6
        }
      ]
    },
    {
      "cell_type": "code",
      "source": [
        "test.info()"
      ],
      "metadata": {
        "colab": {
          "base_uri": "https://localhost:8080/"
        },
        "id": "YXgj7KXd20kI",
        "outputId": "ec8d56d6-4739-4a63-fe2f-3d7206244c25"
      },
      "execution_count": null,
      "outputs": [
        {
          "output_type": "stream",
          "name": "stdout",
          "text": [
            "<class 'pandas.core.frame.DataFrame'>\n",
            "RangeIndex: 127 entries, 0 to 126\n",
            "Data columns (total 58 columns):\n",
            " #   Column              Non-Null Count  Dtype  \n",
            "---  ------              --------------  -----  \n",
            " 0   inst_id             127 non-null    int64  \n",
            " 1   OC                  0 non-null      float64\n",
            " 2   sido                127 non-null    object \n",
            " 3   sgg                 127 non-null    int64  \n",
            " 4   openDate            126 non-null    float64\n",
            " 5   bedCount            119 non-null    float64\n",
            " 6   instkind            125 non-null    object \n",
            " 7   revenue1            125 non-null    float64\n",
            " 8   salescost1          125 non-null    float64\n",
            " 9   sga1                125 non-null    float64\n",
            " 10  salary1             125 non-null    float64\n",
            " 11  noi1                125 non-null    float64\n",
            " 12  noe1                125 non-null    float64\n",
            " 13  interest1           125 non-null    float64\n",
            " 14  ctax1               125 non-null    float64\n",
            " 15  profit1             125 non-null    float64\n",
            " 16  liquidAsset1        125 non-null    float64\n",
            " 17  quickAsset1         125 non-null    float64\n",
            " 18  receivableS1        125 non-null    float64\n",
            " 19  inventoryAsset1     125 non-null    float64\n",
            " 20  nonCAsset1          125 non-null    float64\n",
            " 21  tanAsset1           125 non-null    float64\n",
            " 22  OnonCAsset1         125 non-null    float64\n",
            " 23  receivableL1        125 non-null    float64\n",
            " 24  debt1               125 non-null    float64\n",
            " 25  liquidLiabilities1  125 non-null    float64\n",
            " 26  shortLoan1          125 non-null    float64\n",
            " 27  NCLiabilities1      125 non-null    float64\n",
            " 28  longLoan1           125 non-null    float64\n",
            " 29  netAsset1           125 non-null    float64\n",
            " 30  surplus1            125 non-null    float64\n",
            " 31  revenue2            125 non-null    float64\n",
            " 32  salescost2          125 non-null    float64\n",
            " 33  sga2                125 non-null    float64\n",
            " 34  salary2             125 non-null    float64\n",
            " 35  noi2                125 non-null    float64\n",
            " 36  noe2                125 non-null    float64\n",
            " 37  interest2           125 non-null    float64\n",
            " 38  ctax2               125 non-null    float64\n",
            " 39  profit2             125 non-null    float64\n",
            " 40  liquidAsset2        125 non-null    float64\n",
            " 41  quickAsset2         125 non-null    float64\n",
            " 42  receivableS2        125 non-null    float64\n",
            " 43  inventoryAsset2     125 non-null    float64\n",
            " 44  nonCAsset2          125 non-null    float64\n",
            " 45  tanAsset2           125 non-null    float64\n",
            " 46  OnonCAsset2         125 non-null    float64\n",
            " 47  receivableL2        125 non-null    float64\n",
            " 48  debt2               125 non-null    float64\n",
            " 49  liquidLiabilities2  125 non-null    float64\n",
            " 50  shortLoan2          125 non-null    float64\n",
            " 51  NCLiabilities2      125 non-null    float64\n",
            " 52  longLoan2           125 non-null    float64\n",
            " 53  netAsset2           125 non-null    float64\n",
            " 54  surplus2            125 non-null    float64\n",
            " 55  employee1           119 non-null    object \n",
            " 56  employee2           112 non-null    object \n",
            " 57  ownerChange         112 non-null    object \n",
            "dtypes: float64(51), int64(2), object(5)\n",
            "memory usage: 57.7+ KB\n"
          ]
        }
      ]
    },
    {
      "cell_type": "code",
      "source": [
        "# 레이블 분포 확인\n",
        "sns.countplot(x=train['OC']).set_title(\"train['OC']\")\n",
        "\n",
        "print(train['OC'].value_counts())"
      ],
      "metadata": {
        "colab": {
          "base_uri": "https://localhost:8080/",
          "height": 350
        },
        "id": "SeV3OO8mSPC9",
        "outputId": "d50427b0-5c55-4292-e55d-17b3af67b8ed"
      },
      "execution_count": null,
      "outputs": [
        {
          "output_type": "stream",
          "name": "stdout",
          "text": [
            "open      286\n",
            " close     15\n",
            "Name: OC, dtype: int64\n"
          ]
        },
        {
          "output_type": "display_data",
          "data": {
            "text/plain": [
              "<Figure size 432x288 with 1 Axes>"
            ],
            "image/png": "[encoded data removed]"
          },
          "metadata": {
            "needs_background": "light"
          }
        }
      ]
    },
    {
      "cell_type": "code",
      "source": [
        "print('학습 세트 레이블 값 분포 비율')\n",
        "print(train['OC'].value_counts()/train['OC'].count())"
      ],
      "metadata": {
        "colab": {
          "base_uri": "https://localhost:8080/"
        },
        "id": "BzmqUm5xdkLw",
        "outputId": "379ff8ed-a19a-445a-d313-436d53221b74"
      },
      "execution_count": null,
      "outputs": [
        {
          "output_type": "stream",
          "name": "stdout",
          "text": [
            "학습 세트 레이블 값 분포 비율\n",
            "open      0.950166\n",
            " close    0.049834\n",
            "Name: OC, dtype: float64\n"
          ]
        }
      ]
    },
    {
      "cell_type": "markdown",
      "source": [
        "- 레이블이 불균형한 분포를 가졌기 때문에 예측 성능의 문제 발생 가능\n",
        " - **오버 샘플링**(레이블 적은 데이터 세트 증식) 적용 고려\n",
        "   - SMOTE 방법"
      ],
      "metadata": {
        "id": "xnZobV5WVbyH"
      }
    },
    {
      "cell_type": "code",
      "source": [
        "# 결측치 시각화\n",
        "fig, ax = plt.subplots(nrows=1, ncols=2, figsize=(20, 7))\n",
        "sns.heatmap(train.isnull(), ax=ax[0]).set_title(\"Train Missing\")\n",
        "sns.heatmap(test.isnull(), ax=ax[1]).set_title(\"Test Missing\")\n",
        "plt.show()"
      ],
      "metadata": {
        "colab": {
          "base_uri": "https://localhost:8080/",
          "height": 379
        },
        "id": "J7JHL_cEbecY",
        "outputId": "6d0fb132-bb49-44c2-c7f9-011a47d4f4ad"
      },
      "execution_count": null,
      "outputs": [
        {
          "output_type": "display_data",
          "data": {
            "text/plain": [
              "<Figure size 1440x504 with 4 Axes>"
            ],
            "image/png": "[encoded data removed]"
          },
          "metadata": {
            "needs_background": "light"
          }
        }
      ]
    },
    {
      "cell_type": "code",
      "source": [
        "# test의 56번째 데이터 확인\n",
        "test.iloc[56,:]"
      ],
      "metadata": {
        "colab": {
          "base_uri": "https://localhost:8080/"
        },
        "id": "WCt0ZvmjdKgA",
        "outputId": "8b8b289e-af5b-4917-e912-64c8cf21c042"
      },
      "execution_count": null,
      "outputs": [
        {
          "output_type": "execute_result",
          "data": {
            "text/plain": [
              "inst_id                            181\n",
              "OC                                 NaN\n",
              "sido                           jeonbuk\n",
              "sgg                                 26\n",
              "openDate                    20121218.0\n",
              "bedCount                         539.0\n",
              "instkind              nursing_hospital\n",
              "revenue1                           NaN\n",
              "salescost1                         NaN\n",
              "sga1                               NaN\n",
              "salary1                            NaN\n",
              "noi1                               NaN\n",
              "noe1                               NaN\n",
              "interest1                          NaN\n",
              "ctax1                              NaN\n",
              "profit1                            NaN\n",
              "liquidAsset1                       NaN\n",
              "quickAsset1                        NaN\n",
              "receivableS1                       NaN\n",
              "inventoryAsset1                    NaN\n",
              "nonCAsset1                         NaN\n",
              "tanAsset1                          NaN\n",
              "OnonCAsset1                        NaN\n",
              "receivableL1                       NaN\n",
              "debt1                              NaN\n",
              "liquidLiabilities1                 NaN\n",
              "shortLoan1                         NaN\n",
              "NCLiabilities1                     NaN\n",
              "longLoan1                          NaN\n",
              "netAsset1                          NaN\n",
              "surplus1                           NaN\n",
              "revenue2                           NaN\n",
              "salescost2                         NaN\n",
              "sga2                               NaN\n",
              "salary2                            NaN\n",
              "noi2                               NaN\n",
              "noe2                               NaN\n",
              "interest2                          NaN\n",
              "ctax2                              NaN\n",
              "profit2                            NaN\n",
              "liquidAsset2                       NaN\n",
              "quickAsset2                        NaN\n",
              "receivableS2                       NaN\n",
              "inventoryAsset2                    NaN\n",
              "nonCAsset2                         NaN\n",
              "tanAsset2                          NaN\n",
              "OnonCAsset2                        NaN\n",
              "receivableL2                       NaN\n",
              "debt2                              NaN\n",
              "liquidLiabilities2                 NaN\n",
              "shortLoan2                         NaN\n",
              "NCLiabilities2                     NaN\n",
              "longLoan2                          NaN\n",
              "netAsset2                          NaN\n",
              "surplus2                           NaN\n",
              "employee1                          250\n",
              "employee2                          200\n",
              "ownerChange                       same\n",
              "Name: 56, dtype: object"
            ]
          },
          "metadata": {},
          "execution_count": 18
        }
      ]
    },
    {
      "cell_type": "markdown",
      "source": [
        "## OC : open or close"
      ],
      "metadata": {
        "id": "IABzcUr9ljut"
      }
    },
    {
      "cell_type": "code",
      "source": [
        "# open->1, close->0 으로 변경\n",
        "train['OC'].replace({'open':1, ' close':0}, inplace=True)"
      ],
      "metadata": {
        "id": "FZAkggbRmA0q"
      },
      "execution_count": null,
      "outputs": []
    },
    {
      "cell_type": "markdown",
      "source": [
        "## sido : 병원의 광역 지역 정보"
      ],
      "metadata": {
        "id": "Z06F5bQFhDP6"
      }
    },
    {
      "cell_type": "code",
      "source": [
        "# 결측치 개수 확인\n",
        "train['sido'].isnull().sum(), test['sido'].isnull().sum()"
      ],
      "metadata": {
        "colab": {
          "base_uri": "https://localhost:8080/"
        },
        "id": "4lTI0HGYfEHh",
        "outputId": "5c9fd335-18a5-4695-e144-320ea7d128d5"
      },
      "execution_count": null,
      "outputs": [
        {
          "output_type": "execute_result",
          "data": {
            "text/plain": [
              "(0, 0)"
            ]
          },
          "metadata": {},
          "execution_count": 24
        }
      ]
    },
    {
      "cell_type": "code",
      "source": [
        "fig, ax = plt.subplots(1, 2, figsize=(28, 8))\n",
        "sns.countplot(data=train, x=\"sido\", ax=ax[0]).set_title(\"Train['sido']\")\n",
        "sns.countplot(data=test, x=\"sido\", ax=ax[1]).set_title(\"Test['sido']\")\n",
        "plt.show()"
      ],
      "metadata": {
        "colab": {
          "base_uri": "https://localhost:8080/",
          "height": 275
        },
        "id": "r7ziudIrfZpj",
        "outputId": "ebf69ebe-e80d-4a3c-8fa3-bf972e97ef87"
      },
      "execution_count": null,
      "outputs": [
        {
          "output_type": "display_data",
          "data": {
            "text/plain": [
              "<Figure size 2016x576 with 2 Axes>"
            ],
            "image/png": "[encoded data removed]"
          },
          "metadata": {
            "needs_background": "light"
          }
        }
      ]
    },
    {
      "cell_type": "markdown",
      "source": [
        "- 광역 지역 분포 불균형 -> 일반화 고려"
      ],
      "metadata": {
        "id": "WbKkK4Dbfstm"
      }
    },
    {
      "cell_type": "code",
      "source": [
        "print(\"train에만 존재\")\n",
        "print(set(train[\"sido\"].value_counts().index) - set(test[\"sido\"].value_counts().index))\n",
        "print(\"\\ntest에만 존재\")\n",
        "print(set(test[\"sido\"].value_counts().index) - set(train[\"sido\"].value_counts().index))"
      ],
      "metadata": {
        "colab": {
          "base_uri": "https://localhost:8080/"
        },
        "id": "OS-OiqeNgb_Y",
        "outputId": "9e7a056d-fbd9-41fd-e311-e5f517244424"
      },
      "execution_count": null,
      "outputs": [
        {
          "output_type": "stream",
          "name": "stdout",
          "text": [
            "train에만 존재\n",
            "{'gwangju', 'gangwon'}\n",
            "\n",
            "test에만 존재\n",
            "{'jeju'}\n"
          ]
        }
      ]
    },
    {
      "cell_type": "markdown",
      "source": [
        "# openDate : 병원 설립일"
      ],
      "metadata": {
        "id": "VVEfJ2pfhPZQ"
      }
    },
    {
      "cell_type": "code",
      "source": [
        "# 결측치 개수\n",
        "train['openDate'].isnull().sum(), test['openDate'].isnull().sum()"
      ],
      "metadata": {
        "colab": {
          "base_uri": "https://localhost:8080/"
        },
        "id": "VHeZKN-MhRdr",
        "outputId": "cf000077-80c0-4580-b01e-64d75208466e"
      },
      "execution_count": null,
      "outputs": [
        {
          "output_type": "execute_result",
          "data": {
            "text/plain": [
              "(0, 1)"
            ]
          },
          "metadata": {},
          "execution_count": 32
        }
      ]
    },
    {
      "cell_type": "code",
      "source": [
        "# 데이터 타입\n",
        "print(train['openDate'].dtype)\n",
        "# 데이터 타입 변경\n",
        "train[\"openDate\"] = pd.to_datetime(train[\"openDate\"].astype(\"str\"), format=\"%Y/%m/%d\")\n",
        "test[\"openDate\"] = pd.to_datetime(test[\"openDate\"].astype(\"str\"), format=\"%Y/%m/%d\", errors=\"coerce\")"
      ],
      "metadata": {
        "colab": {
          "base_uri": "https://localhost:8080/"
        },
        "id": "XqOOCiqah6dE",
        "outputId": "adf42a81-b473-47a8-b42f-ad13efd958f5"
      },
      "execution_count": null,
      "outputs": [
        {
          "output_type": "stream",
          "name": "stdout",
          "text": [
            "int64\n"
          ]
        }
      ]
    },
    {
      "cell_type": "code",
      "source": [
        "print(train['openDate'].dtype)"
      ],
      "metadata": {
        "colab": {
          "base_uri": "https://localhost:8080/"
        },
        "id": "dYMjKSWricb1",
        "outputId": "d8663449-3617-47e2-bb65-7b1b391c09cc"
      },
      "execution_count": null,
      "outputs": [
        {
          "output_type": "stream",
          "name": "stdout",
          "text": [
            "datetime64[ns]\n"
          ]
        }
      ]
    },
    {
      "cell_type": "markdown",
      "source": [
        "## bedCount - 병원이 갖추고 있는 병상의 수"
      ],
      "metadata": {
        "id": "vdWCs-dUi3cD"
      }
    },
    {
      "cell_type": "code",
      "source": [
        "# 결측치 개수 확인\n",
        "train[\"bedCount\"].isnull().sum(), test[\"bedCount\"].isnull().sum()"
      ],
      "metadata": {
        "colab": {
          "base_uri": "https://localhost:8080/"
        },
        "id": "aCrBlTyyi7jN",
        "outputId": "38a14de5-41ad-4e73-fe1d-90dd9589256f"
      },
      "execution_count": null,
      "outputs": [
        {
          "output_type": "execute_result",
          "data": {
            "text/plain": [
              "(5, 8)"
            ]
          },
          "metadata": {},
          "execution_count": 35
        }
      ]
    },
    {
      "cell_type": "markdown",
      "source": [
        "- 병상의 수는 병원의 종류(instkind)와 관련 있을 것으로 추측. 이를 활용하여 결측값 Imputation 고려"
      ],
      "metadata": {
        "id": "uKpiSbsTjKPK"
      }
    },
    {
      "cell_type": "markdown",
      "source": [
        "## instkind - 병원의 종류"
      ],
      "metadata": {
        "id": "jNSb7ePpjZEO"
      }
    },
    {
      "cell_type": "code",
      "source": [
        "# 결측치 개수 확인\n",
        "train[\"instkind\"].isnull().sum(), test[\"instkind\"].isnull().sum()"
      ],
      "metadata": {
        "colab": {
          "base_uri": "https://localhost:8080/"
        },
        "id": "mq3X1Qwdjbqp",
        "outputId": "2a2eedd0-1d75-405d-9b3c-dd4fe233cb10"
      },
      "execution_count": null,
      "outputs": [
        {
          "output_type": "execute_result",
          "data": {
            "text/plain": [
              "(1, 2)"
            ]
          },
          "metadata": {},
          "execution_count": 36
        }
      ]
    },
    {
      "cell_type": "code",
      "source": [
        "# 병원 종류 확인\n",
        "train[\"instkind\"].unique()"
      ],
      "metadata": {
        "colab": {
          "base_uri": "https://localhost:8080/"
        },
        "id": "ns64pzCgjwR4",
        "outputId": "240731d9-087a-496e-e15e-af6ac86a8976"
      },
      "execution_count": null,
      "outputs": [
        {
          "output_type": "execute_result",
          "data": {
            "text/plain": [
              "array(['nursing_hospital', 'general_hospital', 'hospital',\n",
              "       'traditional_clinic', 'clinic', 'traditional_hospital',\n",
              "       'dental_clinic', nan], dtype=object)"
            ]
          },
          "metadata": {},
          "execution_count": 37
        }
      ]
    },
    {
      "cell_type": "markdown",
      "source": [
        "## employee : 고용한 총 직원의 수\n",
        "- object로 되어 있음\n",
        "- 쉼표 존재\n",
        "- 쉼표 삭제 후 float형으로 변경 필요"
      ],
      "metadata": {
        "id": "tgR8go6lmEva"
      }
    },
    {
      "cell_type": "code",
      "source": [
        "test['employee1']=test['employee1'].astype('str').str.replace(\",\",\"\").astype('float')\n",
        "test['employee2']=test['employee2'].astype('str').str.replace(\",\",\"\").astype('float')"
      ],
      "metadata": {
        "id": "GaqsGvrP-QPg"
      },
      "execution_count": null,
      "outputs": []
    },
    {
      "cell_type": "markdown",
      "source": [
        "## float형 변수 결측치 처리"
      ],
      "metadata": {
        "id": "9sXioZhJjyUg"
      }
    },
    {
      "cell_type": "markdown",
      "source": [
        "- -999로 대체 고려"
      ],
      "metadata": {
        "id": "Xit_uxXMj1S9"
      }
    },
    {
      "cell_type": "markdown",
      "source": [
        "## 범주형 변수처리"
      ],
      "metadata": {
        "id": "_MjN4xsokBOE"
      }
    },
    {
      "cell_type": "markdown",
      "source": [
        "- sido(광역 지역 정보), bedCount(병상 수), instkind(병원 종류), ownerChange(대표자의 변동)\n",
        "- 수치형 변수로 변경 필요"
      ],
      "metadata": {
        "id": "SXXhq2eKkF0z"
      }
    },
    {
      "cell_type": "code",
      "source": [
        "## 구글링한 코드 참고\n",
        "\n",
        "# train\n",
        "temp_arr = []\n",
        "for col in obj2num:\n",
        "    temp_arr.append(pd.get_dummies(train[col], drop_first=True))\n",
        "\n",
        "temp = pd.concat(temp_arr, axis=1)\n",
        "df_train = pd.concat([temp, train.drop(columns=obj2num, axis=1)], axis=1) \n",
        "\n",
        "# test\n",
        "temp_arr = []\n",
        "for col in obj2num:\n",
        "    temp_arr.append(pd.get_dummies(test[col], drop_first=True))\n",
        "\n",
        "temp = pd.concat(temp_arr, axis=1)\n",
        "df_test = pd.concat([temp, test.drop(columns=obj2num, axis=1)], axis=1)"
      ],
      "metadata": {
        "id": "g1ezco7pkmfG"
      },
      "execution_count": null,
      "outputs": []
    },
    {
      "cell_type": "markdown",
      "source": [
        "## Train data split\n",
        "- 학습/테스트 데이터로 분할하기\n",
        "- dataset에 있는 train data와 혼돈을 방지하기 위해 valid 명칭 사용"
      ],
      "metadata": {
        "id": "TiK0EyM4kvJs"
      }
    },
    {
      "cell_type": "code",
      "source": [
        "X_train, X_valid, y_train, y_valid = train_test_split(df_train[feature_names], df_train[label], test_size=0.15, stratify=df_train[label])\n",
        "\n",
        "print(f\"X_train: {X_train.shape}\\ny_train: {y_train.shape}\\nX_valid: {X_valid.shape}\\ny_valid: {y_valid.shape}\")"
      ],
      "metadata": {
        "id": "8ucKJQfYk-9u"
      },
      "execution_count": null,
      "outputs": []
    },
    {
      "cell_type": "markdown",
      "source": [
        "> dtype 변경\n",
        "- test 데이터의 employee1과 employee2 값은 숫자인데 object로 되어 있음 -> float형으로 변경\n",
        "- 변경 하기 전에 ,(쉼표)를 제거해야함 ex)1,000 -> 1000"
      ],
      "metadata": {
        "id": "p8oAa6sy6VIg"
      }
    },
    {
      "cell_type": "markdown",
      "source": [
        "## 모델 학습\n",
        "- XGBoost\n",
        "- GBM\n",
        "- RandomForest\n",
        "- Regression\n",
        "- Ensemble"
      ],
      "metadata": {
        "id": "qYaynL0JlO8t"
      }
    }
  ]
}