{
  "cells": [
    {
      "cell_type": "markdown",
      "metadata": {
        "id": "view-in-github",
        "colab_type": "text"
      },
      "source": [
        "<a href=\"https://colab.research.google.com/github/20KMJ/ESAA7/blob/main/1010.ipynb\" target=\"_parent\"><img src=\"https://colab.research.google.com/assets/colab-badge.svg\" alt=\"Open In Colab\"/></a>"
      ]
    },
    {
      "cell_type": "markdown",
      "metadata": {
        "id": "JvpnAOqddodu"
      },
      "source": [
        "# 12-2. datetime 오브젝트"
      ]
    },
    {
      "cell_type": "markdown",
      "metadata": {
        "id": "70oh4DoLdodw"
      },
      "source": [
        "> **datetime 라이브러리**\n",
        "> - date 오브젝트: 날짜 처리\n",
        "> - time 오브젝트: 시간 처리\n",
        "> - **datetime** 오브젝트: 날짜 & 시간 처리"
      ]
    },
    {
      "cell_type": "markdown",
      "metadata": {
        "id": "xoG1yhRsdody"
      },
      "source": [
        "## datetime 오브젝트 사용하기"
      ]
    },
    {
      "cell_type": "code",
      "execution_count": null,
      "metadata": {
        "id": "2vWRGoWxdody"
      },
      "outputs": [],
      "source": [
        "# datetime 라이브러리 불러오기\n",
        "from datetime import datetime"
      ]
    },
    {
      "cell_type": "code",
      "execution_count": null,
      "metadata": {
        "id": "q70l_mtydodz",
        "outputId": "f782b8e4-1bf5-406b-e772-90ef2ff98c51"
      },
      "outputs": [
        {
          "name": "stdout",
          "output_type": "stream",
          "text": [
            "2022-10-08 19:51:30.165078\n",
            "2022-10-08 19:51:30.165812\n"
          ]
        }
      ],
      "source": [
        "# 현재 시간 출력 (now, today 메서드)\n",
        "now1 = datetime.now()\n",
        "print(now1)\n",
        "\n",
        "now2 = datetime.today()\n",
        "print(now2)"
      ]
    },
    {
      "cell_type": "code",
      "execution_count": null,
      "metadata": {
        "id": "xpT4W9v4dod0",
        "outputId": "b9c28856-543e-45fa-d85d-11c8927384f8"
      },
      "outputs": [
        {
          "name": "stdout",
          "output_type": "stream",
          "text": [
            "2022-10-08 17:32:01.990890\n",
            "1970-01-01 00:00:00\n",
            "1970-12-12 13:24:34\n"
          ]
        }
      ],
      "source": [
        "# 시간을 직접 입력하여 인자로 전달\n",
        "t1 = datetime.now()\n",
        "t2 = datetime(1970, 1, 1)\n",
        "t3 = datetime(1970, 12, 12, 13, 24, 34)\n",
        "\n",
        "print(t1)\n",
        "print(t2)\n",
        "print(t3)"
      ]
    },
    {
      "cell_type": "code",
      "execution_count": null,
      "metadata": {
        "id": "Skk37NLNdod0",
        "outputId": "0d14c578-9f4f-47e1-ab8c-ad2bd19b7e63"
      },
      "outputs": [
        {
          "name": "stdout",
          "output_type": "stream",
          "text": [
            "19273 days, 17:32:01.990890\n",
            "<class 'datetime.timedelta'>\n",
            "-19274 days, 6:27:58.009110\n",
            "<class 'datetime.timedelta'>\n"
          ]
        }
      ],
      "source": [
        "# 시간 계산 (datetie 오브젝트의 차이 구하기)\n",
        "diff1 = t1 - t2\n",
        "print(diff1)\n",
        "print(type(diff1))\n",
        "\n",
        "diff2 = t2 - t1\n",
        "print(diff2)\n",
        "print(type(diff2))"
      ]
    },
    {
      "cell_type": "markdown",
      "metadata": {
        "id": "U-h9JG7Wdod1"
      },
      "source": [
        "## 테슬라 주식 데이터로 시간 계산하기"
      ]
    },
    {
      "cell_type": "code",
      "execution_count": null,
      "metadata": {
        "id": "NFGNK5B9dod3",
        "outputId": "de57da69-c712-4926-a76f-6a64cff478c9"
      },
      "outputs": [
        {
          "name": "stdout",
          "output_type": "stream",
          "text": [
            "Collecting pandas-datareader\n",
            "  Downloading pandas_datareader-0.10.0-py3-none-any.whl (109 kB)\n",
            "Requirement already satisfied: requests>=2.19.0 in c:\\python\\anaconda3\\lib\\site-packages (from pandas-datareader) (2.24.0)\n",
            "Requirement already satisfied: pandas>=0.23 in c:\\python\\anaconda3\\lib\\site-packages (from pandas-datareader) (1.1.3)\n",
            "Requirement already satisfied: lxml in c:\\python\\anaconda3\\lib\\site-packages (from pandas-datareader) (4.6.1)\n",
            "Requirement already satisfied: chardet<4,>=3.0.2 in c:\\python\\anaconda3\\lib\\site-packages (from requests>=2.19.0->pandas-datareader) (3.0.4)\n",
            "Requirement already satisfied: urllib3!=1.25.0,!=1.25.1,<1.26,>=1.21.1 in c:\\python\\anaconda3\\lib\\site-packages (from requests>=2.19.0->pandas-datareader) (1.25.11)\n",
            "Requirement already satisfied: idna<3,>=2.5 in c:\\python\\anaconda3\\lib\\site-packages (from requests>=2.19.0->pandas-datareader) (2.10)\n",
            "Requirement already satisfied: certifi>=2017.4.17 in c:\\python\\anaconda3\\lib\\site-packages (from requests>=2.19.0->pandas-datareader) (2020.6.20)\n",
            "Requirement already satisfied: numpy>=1.15.4 in c:\\python\\anaconda3\\lib\\site-packages (from pandas>=0.23->pandas-datareader) (1.19.2)\n",
            "Requirement already satisfied: pytz>=2017.2 in c:\\python\\anaconda3\\lib\\site-packages (from pandas>=0.23->pandas-datareader) (2020.1)\n",
            "Requirement already satisfied: python-dateutil>=2.7.3 in c:\\python\\anaconda3\\lib\\site-packages (from pandas>=0.23->pandas-datareader) (2.8.1)\n",
            "Requirement already satisfied: six>=1.5 in c:\\python\\anaconda3\\lib\\site-packages (from python-dateutil>=2.7.3->pandas>=0.23->pandas-datareader) (1.15.0)\n",
            "Installing collected packages: pandas-datareader\n",
            "Successfully installed pandas-datareader-0.10.0\n"
          ]
        }
      ],
      "source": [
        "# pandas_datareader 라이브러리 설치\n",
        "! pip install pandas-datareader"
      ]
    },
    {
      "cell_type": "markdown",
      "metadata": {
        "id": "ceOWFwf-dod4"
      },
      "source": [
        "테슬라의 주식 데이터 내려받기"
      ]
    },
    {
      "cell_type": "code",
      "execution_count": null,
      "metadata": {
        "id": "Ug4VZot6dod5"
      },
      "outputs": [],
      "source": [
        "pd.core.common.is_list_like=pd.api.types.is_list_like\n",
        "import pandas_datareader as pdr\n",
        "\n",
        "# tesla에는 데이터 프레임이 저장됨\n",
        "tesla = pdr.get_data_quandl('TSLA', api_key = '#')\n",
        "\n",
        "# tesla에 저장된 데이터프레임을 파일로 저장하기\n",
        "tesla.to_csv('C:/Temp/tesla_stock_quandl.csv')"
      ]
    },
    {
      "cell_type": "code",
      "execution_count": null,
      "metadata": {
        "id": "AMI6av8Ydod5",
        "outputId": "edcd1064-ecae-4565-e880-6e5b5be9f6a8"
      },
      "outputs": [
        {
          "name": "stdout",
          "output_type": "stream",
          "text": [
            "              Open    High     Low   Close      Volume  ExDividend  \\\n",
            "Date                                                                 \n",
            "2018-03-27  304.00  304.27  277.18  279.18  13696168.0         0.0   \n",
            "2018-03-26  307.34  307.59  291.36  304.18   8324639.0         0.0   \n",
            "2018-03-23  311.25  311.61  300.45  301.54   6600538.0         0.0   \n",
            "2018-03-22  313.89  318.82  308.18  309.10   4914307.0         0.0   \n",
            "2018-03-21  310.25  322.44  310.19  316.53   5927881.0         0.0   \n",
            "\n",
            "            SplitRatio  AdjOpen  AdjHigh  AdjLow  AdjClose   AdjVolume  \n",
            "Date                                                                    \n",
            "2018-03-27         1.0   304.00   304.27  277.18    279.18  13696168.0  \n",
            "2018-03-26         1.0   307.34   307.59  291.36    304.18   8324639.0  \n",
            "2018-03-23         1.0   311.25   311.61  300.45    301.54   6600538.0  \n",
            "2018-03-22         1.0   313.89   318.82  308.18    309.10   4914307.0  \n",
            "2018-03-21         1.0   310.25   322.44  310.19    316.53   5927881.0  \n"
          ]
        }
      ],
      "source": [
        "# 데이터 살펴보기\n",
        "print(tesla.head())"
      ]
    },
    {
      "cell_type": "code",
      "execution_count": null,
      "metadata": {
        "id": "WQLbgge-dod6",
        "outputId": "16bed220-f59c-4f60-bf52-62bd32f6dddb"
      },
      "outputs": [
        {
          "name": "stdout",
          "output_type": "stream",
          "text": [
            "<class 'pandas.core.frame.DataFrame'>\n",
            "RangeIndex: 116 entries, 0 to 115\n",
            "Data columns (total 13 columns):\n",
            " #   Column      Non-Null Count  Dtype         \n",
            "---  ------      --------------  -----         \n",
            " 0   Date        116 non-null    datetime64[ns]\n",
            " 1   Open        116 non-null    float64       \n",
            " 2   High        116 non-null    float64       \n",
            " 3   Low         116 non-null    float64       \n",
            " 4   Close       116 non-null    float64       \n",
            " 5   Volume      116 non-null    float64       \n",
            " 6   ExDividend  116 non-null    float64       \n",
            " 7   SplitRatio  116 non-null    float64       \n",
            " 8   AdjOpen     116 non-null    float64       \n",
            " 9   AdjHigh     116 non-null    float64       \n",
            " 10  AdjLow      116 non-null    float64       \n",
            " 11  AdjClose    116 non-null    float64       \n",
            " 12  AdjVolume   116 non-null    float64       \n",
            "dtypes: datetime64[ns](1), float64(12)\n",
            "memory usage: 11.9 KB\n",
            "None\n"
          ]
        }
      ],
      "source": [
        "# Date 열을 Datetime 형으로 변환\n",
        "# parse_dates 인자에 Date열 전달하면 됨\n",
        "import pandas as pd\n",
        "tesla = pd.read_csv('C:/Temp/tesla_stock_quandl.csv', parse_dates=[0])\n",
        "print(tesla.info())"
      ]
    },
    {
      "cell_type": "code",
      "execution_count": null,
      "metadata": {
        "id": "hZYXH0DUdod6",
        "outputId": "f046ef32-f98c-4651-8d65-cd892044a0c2"
      },
      "outputs": [
        {
          "name": "stdout",
          "output_type": "stream",
          "text": [
            "         Date    Open    High       Low   Close      Volume  ExDividend  \\\n",
            "0  2018-03-27  304.00  304.27  277.1800  279.18  13696168.0         0.0   \n",
            "1  2018-03-26  307.34  307.59  291.3600  304.18   8324639.0         0.0   \n",
            "2  2018-03-23  311.25  311.61  300.4500  301.54   6600538.0         0.0   \n",
            "3  2018-03-22  313.89  318.82  308.1800  309.10   4914307.0         0.0   \n",
            "4  2018-03-21  310.25  322.44  310.1900  316.53   5927881.0         0.0   \n",
            "5  2018-03-20  314.87  316.25  308.7600  310.55   4726182.0         0.0   \n",
            "6  2018-03-19  316.50  320.75  309.6700  313.56   7440766.0         0.0   \n",
            "7  2018-03-16  325.96  327.40  319.0700  321.35   6058612.0         0.0   \n",
            "8  2018-03-15  329.38  332.85  321.1000  325.60   6366922.0         0.0   \n",
            "9  2018-03-14  336.76  339.81  323.9300  326.63   7932511.0         0.0   \n",
            "10 2018-03-13  344.92  345.12  336.2635  341.84   5932110.0         0.0   \n",
            "11 2018-03-12  328.61  347.21  326.5000  345.51   8212156.0         0.0   \n",
            "12 2018-03-09  324.10  328.49  322.3700  327.17   5479716.0         0.0   \n",
            "13 2018-03-08  332.86  333.30  326.2740  329.10   3476944.0         0.0   \n",
            "14 2018-03-07  325.44  332.50  321.7400  332.30   5007297.0         0.0   \n",
            "15 2018-03-06  333.75  336.37  327.0300  328.20   4285744.0         0.0   \n",
            "16 2018-03-05  332.39  337.75  329.2929  333.35   3823769.0         0.0   \n",
            "17 2018-03-02  326.98  335.22  322.9700  335.12   5092829.0         0.0   \n",
            "18 2018-03-01  345.01  348.67  330.0700  330.93   6885601.0         0.0   \n",
            "\n",
            "    SplitRatio  AdjOpen  AdjHigh    AdjLow  AdjClose   AdjVolume  \n",
            "0          1.0   304.00   304.27  277.1800    279.18  13696168.0  \n",
            "1          1.0   307.34   307.59  291.3600    304.18   8324639.0  \n",
            "2          1.0   311.25   311.61  300.4500    301.54   6600538.0  \n",
            "3          1.0   313.89   318.82  308.1800    309.10   4914307.0  \n",
            "4          1.0   310.25   322.44  310.1900    316.53   5927881.0  \n",
            "5          1.0   314.87   316.25  308.7600    310.55   4726182.0  \n",
            "6          1.0   316.50   320.75  309.6700    313.56   7440766.0  \n",
            "7          1.0   325.96   327.40  319.0700    321.35   6058612.0  \n",
            "8          1.0   329.38   332.85  321.1000    325.60   6366922.0  \n",
            "9          1.0   336.76   339.81  323.9300    326.63   7932511.0  \n",
            "10         1.0   344.92   345.12  336.2635    341.84   5932110.0  \n",
            "11         1.0   328.61   347.21  326.5000    345.51   8212156.0  \n",
            "12         1.0   324.10   328.49  322.3700    327.17   5479716.0  \n",
            "13         1.0   332.86   333.30  326.2740    329.10   3476944.0  \n",
            "14         1.0   325.44   332.50  321.7400    332.30   5007297.0  \n",
            "15         1.0   333.75   336.37  327.0300    328.20   4285744.0  \n",
            "16         1.0   332.39   337.75  329.2929    333.35   3823769.0  \n",
            "17         1.0   326.98   335.22  322.9700    335.12   5092829.0  \n",
            "18         1.0   345.01   348.67  330.0700    330.93   6885601.0  \n"
          ]
        }
      ],
      "source": [
        "# 2018년 3월 데이터만 추출\n",
        "print(tesla.loc[(tesla.Date.dt.year == 2018) & (tesla.Date.dt.month == 3)])"
      ]
    },
    {
      "cell_type": "markdown",
      "metadata": {
        "id": "8JxCLRGndod6"
      },
      "source": [
        "## datetime 오브젝트를 인덱스로 설정해 데이터 추출하기"
      ]
    },
    {
      "cell_type": "markdown",
      "metadata": {
        "id": "Z24nvXwydod6"
      },
      "source": [
        "- `DatetimeIndex`\n",
        "- datetime 오브젝트를 데이터프레임의 인덱스로 설정하면 원하는 시간의 데이터를 바로 추출할 수 있음."
      ]
    },
    {
      "cell_type": "code",
      "execution_count": null,
      "metadata": {
        "id": "ui1SjDKzdod7",
        "outputId": "a7578ed2-383b-412c-9155-4e47e87a74a4"
      },
      "outputs": [
        {
          "name": "stdout",
          "output_type": "stream",
          "text": [
            "DatetimeIndex(['2018-03-27', '2018-03-26', '2018-03-23', '2018-03-22',\n",
            "               '2018-03-21', '2018-03-20', '2018-03-19', '2018-03-16',\n",
            "               '2018-03-15', '2018-03-14',\n",
            "               ...\n",
            "               '2017-10-20', '2017-10-19', '2017-10-18', '2017-10-17',\n",
            "               '2017-10-16', '2017-10-13', '2017-10-12', '2017-10-11',\n",
            "               '2017-10-10', '2017-10-09'],\n",
            "              dtype='datetime64[ns]', name='Date', length=116, freq=None)\n"
          ]
        }
      ],
      "source": [
        "# Date 열을 tesla 데이터프레임의 인덱스로 지정\n",
        "tesla.index = tesla['Date']\n",
        "print(tesla.index)"
      ]
    },
    {
      "cell_type": "code",
      "execution_count": null,
      "metadata": {
        "id": "V6aUrTAadod7",
        "outputId": "1fe04d6c-a062-4726-fb75-5e0aeadc979e"
      },
      "outputs": [
        {
          "ename": "AssertionError",
          "evalue": "<class 'numpy.ndarray'>",
          "output_type": "error",
          "traceback": [
            "\u001b[1;31m---------------------------------------------------------------------------\u001b[0m",
            "\u001b[1;31mAssertionError\u001b[0m                            Traceback (most recent call last)",
            "\u001b[1;32m<ipython-input-6-e08e2eebd8a8>\u001b[0m in \u001b[0;36m<module>\u001b[1;34m\u001b[0m\n\u001b[0;32m      1\u001b[0m \u001b[1;31m# Error 원인 못 찾음..\u001b[0m\u001b[1;33m\u001b[0m\u001b[1;33m\u001b[0m\u001b[1;33m\u001b[0m\u001b[0m\n\u001b[1;32m----> 2\u001b[1;33m \u001b[0mprint\u001b[0m\u001b[1;33m(\u001b[0m\u001b[0mtesla\u001b[0m\u001b[1;33m[\u001b[0m\u001b[1;34m'2015'\u001b[0m\u001b[1;33m]\u001b[0m\u001b[1;33m.\u001b[0m\u001b[0miloc\u001b[0m\u001b[1;33m[\u001b[0m\u001b[1;33m:\u001b[0m\u001b[1;36m5\u001b[0m\u001b[1;33m,\u001b[0m\u001b[1;33m:\u001b[0m\u001b[1;36m5\u001b[0m\u001b[1;33m]\u001b[0m\u001b[1;33m)\u001b[0m\u001b[1;33m\u001b[0m\u001b[1;33m\u001b[0m\u001b[0m\n\u001b[0m",
            "\u001b[1;32mC:\\Python\\anaconda3\\lib\\site-packages\\pandas\\core\\frame.py\u001b[0m in \u001b[0;36m__getitem__\u001b[1;34m(self, key)\u001b[0m\n\u001b[0;32m   2883\u001b[0m             \u001b[1;31m# either we have a slice or we have a string that can be converted\u001b[0m\u001b[1;33m\u001b[0m\u001b[1;33m\u001b[0m\u001b[1;33m\u001b[0m\u001b[0m\n\u001b[0;32m   2884\u001b[0m             \u001b[1;31m#  to a slice for partial-string date indexing\u001b[0m\u001b[1;33m\u001b[0m\u001b[1;33m\u001b[0m\u001b[1;33m\u001b[0m\u001b[0m\n\u001b[1;32m-> 2885\u001b[1;33m             \u001b[1;32mreturn\u001b[0m \u001b[0mself\u001b[0m\u001b[1;33m.\u001b[0m\u001b[0m_slice\u001b[0m\u001b[1;33m(\u001b[0m\u001b[0mindexer\u001b[0m\u001b[1;33m,\u001b[0m \u001b[0maxis\u001b[0m\u001b[1;33m=\u001b[0m\u001b[1;36m0\u001b[0m\u001b[1;33m)\u001b[0m\u001b[1;33m\u001b[0m\u001b[1;33m\u001b[0m\u001b[0m\n\u001b[0m\u001b[0;32m   2886\u001b[0m \u001b[1;33m\u001b[0m\u001b[0m\n\u001b[0;32m   2887\u001b[0m         \u001b[1;31m# Do we have a (boolean) DataFrame?\u001b[0m\u001b[1;33m\u001b[0m\u001b[1;33m\u001b[0m\u001b[1;33m\u001b[0m\u001b[0m\n",
            "\u001b[1;32mC:\\Python\\anaconda3\\lib\\site-packages\\pandas\\core\\generic.py\u001b[0m in \u001b[0;36m_slice\u001b[1;34m(self, slobj, axis)\u001b[0m\n\u001b[0;32m   3555\u001b[0m         \u001b[0mSlicing\u001b[0m \u001b[1;32mwith\u001b[0m \u001b[0mthis\u001b[0m \u001b[0mmethod\u001b[0m \u001b[1;32mis\u001b[0m \u001b[1;33m*\u001b[0m\u001b[0malways\u001b[0m\u001b[1;33m*\u001b[0m \u001b[0mpositional\u001b[0m\u001b[1;33m.\u001b[0m\u001b[1;33m\u001b[0m\u001b[1;33m\u001b[0m\u001b[0m\n\u001b[0;32m   3556\u001b[0m         \"\"\"\n\u001b[1;32m-> 3557\u001b[1;33m         \u001b[1;32massert\u001b[0m \u001b[0misinstance\u001b[0m\u001b[1;33m(\u001b[0m\u001b[0mslobj\u001b[0m\u001b[1;33m,\u001b[0m \u001b[0mslice\u001b[0m\u001b[1;33m)\u001b[0m\u001b[1;33m,\u001b[0m \u001b[0mtype\u001b[0m\u001b[1;33m(\u001b[0m\u001b[0mslobj\u001b[0m\u001b[1;33m)\u001b[0m\u001b[1;33m\u001b[0m\u001b[1;33m\u001b[0m\u001b[0m\n\u001b[0m\u001b[0;32m   3558\u001b[0m         \u001b[0maxis\u001b[0m \u001b[1;33m=\u001b[0m \u001b[0mself\u001b[0m\u001b[1;33m.\u001b[0m\u001b[0m_get_block_manager_axis\u001b[0m\u001b[1;33m(\u001b[0m\u001b[0maxis\u001b[0m\u001b[1;33m)\u001b[0m\u001b[1;33m\u001b[0m\u001b[1;33m\u001b[0m\u001b[0m\n\u001b[0;32m   3559\u001b[0m         \u001b[0mresult\u001b[0m \u001b[1;33m=\u001b[0m \u001b[0mself\u001b[0m\u001b[1;33m.\u001b[0m\u001b[0m_constructor\u001b[0m\u001b[1;33m(\u001b[0m\u001b[0mself\u001b[0m\u001b[1;33m.\u001b[0m\u001b[0m_mgr\u001b[0m\u001b[1;33m.\u001b[0m\u001b[0mget_slice\u001b[0m\u001b[1;33m(\u001b[0m\u001b[0mslobj\u001b[0m\u001b[1;33m,\u001b[0m \u001b[0maxis\u001b[0m\u001b[1;33m=\u001b[0m\u001b[0maxis\u001b[0m\u001b[1;33m)\u001b[0m\u001b[1;33m)\u001b[0m\u001b[1;33m\u001b[0m\u001b[1;33m\u001b[0m\u001b[0m\n",
            "\u001b[1;31mAssertionError\u001b[0m: <class 'numpy.ndarray'>"
          ]
        }
      ],
      "source": [
        "# Error 원인 못 찾음..\n",
        "print(tesla['2015'].iloc[:5,:5])"
      ]
    },
    {
      "cell_type": "code",
      "execution_count": null,
      "metadata": {
        "id": "DHz6mwCwdod7",
        "outputId": "c76640e3-42b6-4816-e5c6-2c73fd3d8e2d"
      },
      "outputs": [
        {
          "ename": "AssertionError",
          "evalue": "<class 'numpy.ndarray'>",
          "output_type": "error",
          "traceback": [
            "\u001b[1;31m---------------------------------------------------------------------------\u001b[0m",
            "\u001b[1;31mAssertionError\u001b[0m                            Traceback (most recent call last)",
            "\u001b[1;32m<ipython-input-7-0f16baba19d3>\u001b[0m in \u001b[0;36m<module>\u001b[1;34m\u001b[0m\n\u001b[0;32m      1\u001b[0m \u001b[1;31m# error 원인 못 찾음...\u001b[0m\u001b[1;33m\u001b[0m\u001b[1;33m\u001b[0m\u001b[1;33m\u001b[0m\u001b[0m\n\u001b[1;32m----> 2\u001b[1;33m \u001b[0mprint\u001b[0m\u001b[1;33m(\u001b[0m\u001b[0mtesla\u001b[0m\u001b[1;33m[\u001b[0m\u001b[1;34m'2010-06'\u001b[0m\u001b[1;33m]\u001b[0m\u001b[1;33m.\u001b[0m\u001b[0miloc\u001b[0m\u001b[1;33m[\u001b[0m\u001b[1;33m:\u001b[0m\u001b[1;33m,\u001b[0m\u001b[1;33m:\u001b[0m\u001b[1;36m5\u001b[0m\u001b[1;33m]\u001b[0m\u001b[1;33m)\u001b[0m\u001b[1;33m\u001b[0m\u001b[1;33m\u001b[0m\u001b[0m\n\u001b[0m",
            "\u001b[1;32mC:\\Python\\anaconda3\\lib\\site-packages\\pandas\\core\\frame.py\u001b[0m in \u001b[0;36m__getitem__\u001b[1;34m(self, key)\u001b[0m\n\u001b[0;32m   2883\u001b[0m             \u001b[1;31m# either we have a slice or we have a string that can be converted\u001b[0m\u001b[1;33m\u001b[0m\u001b[1;33m\u001b[0m\u001b[1;33m\u001b[0m\u001b[0m\n\u001b[0;32m   2884\u001b[0m             \u001b[1;31m#  to a slice for partial-string date indexing\u001b[0m\u001b[1;33m\u001b[0m\u001b[1;33m\u001b[0m\u001b[1;33m\u001b[0m\u001b[0m\n\u001b[1;32m-> 2885\u001b[1;33m             \u001b[1;32mreturn\u001b[0m \u001b[0mself\u001b[0m\u001b[1;33m.\u001b[0m\u001b[0m_slice\u001b[0m\u001b[1;33m(\u001b[0m\u001b[0mindexer\u001b[0m\u001b[1;33m,\u001b[0m \u001b[0maxis\u001b[0m\u001b[1;33m=\u001b[0m\u001b[1;36m0\u001b[0m\u001b[1;33m)\u001b[0m\u001b[1;33m\u001b[0m\u001b[1;33m\u001b[0m\u001b[0m\n\u001b[0m\u001b[0;32m   2886\u001b[0m \u001b[1;33m\u001b[0m\u001b[0m\n\u001b[0;32m   2887\u001b[0m         \u001b[1;31m# Do we have a (boolean) DataFrame?\u001b[0m\u001b[1;33m\u001b[0m\u001b[1;33m\u001b[0m\u001b[1;33m\u001b[0m\u001b[0m\n",
            "\u001b[1;32mC:\\Python\\anaconda3\\lib\\site-packages\\pandas\\core\\generic.py\u001b[0m in \u001b[0;36m_slice\u001b[1;34m(self, slobj, axis)\u001b[0m\n\u001b[0;32m   3555\u001b[0m         \u001b[0mSlicing\u001b[0m \u001b[1;32mwith\u001b[0m \u001b[0mthis\u001b[0m \u001b[0mmethod\u001b[0m \u001b[1;32mis\u001b[0m \u001b[1;33m*\u001b[0m\u001b[0malways\u001b[0m\u001b[1;33m*\u001b[0m \u001b[0mpositional\u001b[0m\u001b[1;33m.\u001b[0m\u001b[1;33m\u001b[0m\u001b[1;33m\u001b[0m\u001b[0m\n\u001b[0;32m   3556\u001b[0m         \"\"\"\n\u001b[1;32m-> 3557\u001b[1;33m         \u001b[1;32massert\u001b[0m \u001b[0misinstance\u001b[0m\u001b[1;33m(\u001b[0m\u001b[0mslobj\u001b[0m\u001b[1;33m,\u001b[0m \u001b[0mslice\u001b[0m\u001b[1;33m)\u001b[0m\u001b[1;33m,\u001b[0m \u001b[0mtype\u001b[0m\u001b[1;33m(\u001b[0m\u001b[0mslobj\u001b[0m\u001b[1;33m)\u001b[0m\u001b[1;33m\u001b[0m\u001b[1;33m\u001b[0m\u001b[0m\n\u001b[0m\u001b[0;32m   3558\u001b[0m         \u001b[0maxis\u001b[0m \u001b[1;33m=\u001b[0m \u001b[0mself\u001b[0m\u001b[1;33m.\u001b[0m\u001b[0m_get_block_manager_axis\u001b[0m\u001b[1;33m(\u001b[0m\u001b[0maxis\u001b[0m\u001b[1;33m)\u001b[0m\u001b[1;33m\u001b[0m\u001b[1;33m\u001b[0m\u001b[0m\n\u001b[0;32m   3559\u001b[0m         \u001b[0mresult\u001b[0m \u001b[1;33m=\u001b[0m \u001b[0mself\u001b[0m\u001b[1;33m.\u001b[0m\u001b[0m_constructor\u001b[0m\u001b[1;33m(\u001b[0m\u001b[0mself\u001b[0m\u001b[1;33m.\u001b[0m\u001b[0m_mgr\u001b[0m\u001b[1;33m.\u001b[0m\u001b[0mget_slice\u001b[0m\u001b[1;33m(\u001b[0m\u001b[0mslobj\u001b[0m\u001b[1;33m,\u001b[0m \u001b[0maxis\u001b[0m\u001b[1;33m=\u001b[0m\u001b[0maxis\u001b[0m\u001b[1;33m)\u001b[0m\u001b[1;33m)\u001b[0m\u001b[1;33m\u001b[0m\u001b[1;33m\u001b[0m\u001b[0m\n",
            "\u001b[1;31mAssertionError\u001b[0m: <class 'numpy.ndarray'>"
          ]
        }
      ],
      "source": [
        "# error 원인 못 찾음...\n",
        "print(tesla['2010-06'].iloc[:,:5])"
      ]
    },
    {
      "cell_type": "markdown",
      "metadata": {
        "id": "1_4Q5PSLdod7"
      },
      "source": [
        "## 시간 간격을 인덱스로 지정해 데이터 추출하기"
      ]
    },
    {
      "cell_type": "markdown",
      "metadata": {
        "id": "v9TY3J0Idod8"
      },
      "source": [
        "- `TimedeltaIndex`\n",
        "- 주식 데이터에서 최초 5일간 수집된 데이터만 살펴보고 싶다면 시간 간격을 인덱스로 지정하여 데이터를 추출하면 됨."
      ]
    },
    {
      "cell_type": "code",
      "execution_count": null,
      "metadata": {
        "id": "vx9i32UHdod8",
        "outputId": "382197da-100e-4c3d-8926-32839c7abfa1"
      },
      "outputs": [
        {
          "name": "stdout",
          "output_type": "stream",
          "text": [
            "                 Date    Open    High     Low   Close      Volume  ExDividend  \\\n",
            "Date                                                                            \n",
            "2018-03-27 2018-03-27  304.00  304.27  277.18  279.18  13696168.0         0.0   \n",
            "2018-03-26 2018-03-26  307.34  307.59  291.36  304.18   8324639.0         0.0   \n",
            "2018-03-23 2018-03-23  311.25  311.61  300.45  301.54   6600538.0         0.0   \n",
            "2018-03-22 2018-03-22  313.89  318.82  308.18  309.10   4914307.0         0.0   \n",
            "2018-03-21 2018-03-21  310.25  322.44  310.19  316.53   5927881.0         0.0   \n",
            "\n",
            "            SplitRatio  AdjOpen  AdjHigh  AdjLow  AdjClose   AdjVolume  \\\n",
            "Date                                                                     \n",
            "2018-03-27         1.0   304.00   304.27  277.18    279.18  13696168.0   \n",
            "2018-03-26         1.0   307.34   307.59  291.36    304.18   8324639.0   \n",
            "2018-03-23         1.0   311.25   311.61  300.45    301.54   6600538.0   \n",
            "2018-03-22         1.0   313.89   318.82  308.18    309.10   4914307.0   \n",
            "2018-03-21         1.0   310.25   322.44  310.19    316.53   5927881.0   \n",
            "\n",
            "           ref_date  \n",
            "Date                 \n",
            "2018-03-27 169 days  \n",
            "2018-03-26 168 days  \n",
            "2018-03-23 165 days  \n",
            "2018-03-22 164 days  \n",
            "2018-03-21 163 days  \n"
          ]
        }
      ],
      "source": [
        "tesla['ref_date'] = tesla['Date'] - tesla['Date'].min()\n",
        "print(tesla.head())"
      ]
    },
    {
      "cell_type": "code",
      "execution_count": null,
      "metadata": {
        "id": "X5lHviWZdod8",
        "outputId": "89d1849d-1558-44ea-b51c-984f94ac7fce"
      },
      "outputs": [
        {
          "name": "stdout",
          "output_type": "stream",
          "text": [
            "               Date    Open    High     Low   Close\n",
            "ref_date                                           \n",
            "169 days 2018-03-27  304.00  304.27  277.18  279.18\n",
            "168 days 2018-03-26  307.34  307.59  291.36  304.18\n",
            "165 days 2018-03-23  311.25  311.61  300.45  301.54\n",
            "164 days 2018-03-22  313.89  318.82  308.18  309.10\n",
            "163 days 2018-03-21  310.25  322.44  310.19  316.53\n"
          ]
        }
      ],
      "source": [
        "tesla.index = tesla['ref_date']\n",
        "print(tesla.iloc[:5, :5])"
      ]
    },
    {
      "cell_type": "code",
      "execution_count": null,
      "metadata": {
        "id": "Yl1mLi1xdod8",
        "outputId": "790a3073-189c-46cd-c0d9-b2c3b033837f"
      },
      "outputs": [
        {
          "name": "stdout",
          "output_type": "stream",
          "text": [
            "               Date    Open    High       Low   Close\n",
            "ref_date                                             \n",
            "4 days   2017-10-13  356.98  358.49  353.6800  355.57\n",
            "3 days   2017-10-12  352.95  359.78  352.6400  355.68\n",
            "2 days   2017-10-11  353.89  357.60  351.1500  354.60\n",
            "1 days   2017-10-10  346.80  355.63  345.5305  355.59\n",
            "0 days   2017-10-09  349.65  351.75  342.6700  342.94\n"
          ]
        }
      ],
      "source": [
        "# 데이터를 수집한 이후 최초 5일의 데이터 추출\n",
        "print(tesla['5 days':].iloc[:5, :5])"
      ]
    },
    {
      "cell_type": "markdown",
      "metadata": {
        "id": "9pcEfkV2dod8"
      },
      "source": [
        "## 시간 범위와 인덱스"
      ]
    },
    {
      "cell_type": "markdown",
      "metadata": {
        "id": "ner2fYQ6dod8"
      },
      "source": [
        "- 누락된 데이터도 포함시켜 데이터를 살펴보려면 임의로 시간 번위를 생성하여 인덱스로 지정해야 함"
      ]
    },
    {
      "cell_type": "code",
      "execution_count": null,
      "metadata": {
        "id": "kM5tM4wrdod8",
        "outputId": "33e5045b-9b07-4326-f931-225b9be1ee31"
      },
      "outputs": [
        {
          "name": "stdout",
          "output_type": "stream",
          "text": [
            "        Date  Day  Cases_Guinea  Cases_Liberia  Cases_SierraLeone\n",
            "0 2015-01-05  289        2776.0            NaN            10030.0\n",
            "1 2015-01-04  288        2775.0            NaN             9780.0\n",
            "2 2015-01-03  287        2769.0         8166.0             9722.0\n",
            "3 2015-01-02  286           NaN         8157.0                NaN\n",
            "4 2014-12-31  284        2730.0         8115.0             9633.0\n"
          ]
        }
      ],
      "source": [
        "# 에볼라 데이터\n",
        "import pandas as pd\n",
        "\n",
        "ebola = pd.read_csv('C:/Temp/country_timeseries.csv', parse_dates=[0])\n",
        "print(ebola.iloc[:5, :5])"
      ]
    },
    {
      "cell_type": "code",
      "execution_count": null,
      "metadata": {
        "id": "YLcbm6r1dod9",
        "outputId": "4db1fbec-4e55-4883-d5ed-e8396c2e0e36"
      },
      "outputs": [
        {
          "name": "stdout",
          "output_type": "stream",
          "text": [
            "          Date  Day  Cases_Guinea  Cases_Liberia  Cases_SierraLeone\n",
            "117 2014-03-27    5         103.0            8.0                6.0\n",
            "118 2014-03-26    4          86.0            NaN                NaN\n",
            "119 2014-03-25    3          86.0            NaN                NaN\n",
            "120 2014-03-24    2          86.0            NaN                NaN\n",
            "121 2014-03-22    0          49.0            NaN                NaN\n"
          ]
        }
      ],
      "source": [
        "# 뒤쪽 데이터 확인\n",
        "print(ebola.iloc[-5:, :5])"
      ]
    },
    {
      "cell_type": "code",
      "execution_count": null,
      "metadata": {
        "id": "ivyThANCdod9",
        "outputId": "38a6845f-d597-4249-e4e8-e696cbec4326"
      },
      "outputs": [
        {
          "name": "stdout",
          "output_type": "stream",
          "text": [
            "DatetimeIndex(['2014-12-31', '2015-01-01', '2015-01-02', '2015-01-03',\n",
            "               '2015-01-04', '2015-01-05'],\n",
            "              dtype='datetime64[ns]', freq='D')\n"
          ]
        }
      ],
      "source": [
        "head_range = pd.date_range(start='2014-12-31', end='2015-01-05')\n",
        "print(head_range)"
      ]
    },
    {
      "cell_type": "code",
      "execution_count": null,
      "metadata": {
        "id": "5FEnqczvdod9",
        "outputId": "40a0fb78-307f-4ab2-ef42-9d3ed03d82e6"
      },
      "outputs": [
        {
          "name": "stdout",
          "output_type": "stream",
          "text": [
            "                 Date  Day  Cases_Guinea  Cases_Liberia  Cases_SierraLeone\n",
            "Date                                                                      \n",
            "2015-01-05 2015-01-05  289        2776.0            NaN            10030.0\n",
            "2015-01-04 2015-01-04  288        2775.0            NaN             9780.0\n",
            "2015-01-03 2015-01-03  287        2769.0         8166.0             9722.0\n",
            "2015-01-02 2015-01-02  286           NaN         8157.0                NaN\n",
            "2014-12-31 2014-12-31  284        2730.0         8115.0             9633.0\n"
          ]
        }
      ],
      "source": [
        "ebola_5 = ebola.head()\n",
        "ebola_5.index = ebola_5['Date']\n",
        "ebola_5.reindex(head_range)\n",
        "print(ebola_5.iloc[:5,:5])"
      ]
    },
    {
      "cell_type": "markdown",
      "metadata": {
        "id": "5vCVo5g8dod9"
      },
      "source": [
        "## 시간 범위의 주기 설정하기"
      ]
    },
    {
      "cell_type": "markdown",
      "metadata": {
        "id": "5VSu8V-7dod9"
      },
      "source": [
        "- 시간 범위를 인덱스로 지정하면 DatetimeIndex 자료형이 만들어짐\n",
        "- DatetimeIndex에는 freq 속성이 포함되어 있음\n",
        "- freq 속성값을 지정하면 시간 간격을 조절하여 DatetimeIndex를 만들 수 있음"
      ]
    },
    {
      "cell_type": "markdown",
      "metadata": {
        "id": "qOsz-2iodod9"
      },
      "source": [
        "freq 속성값으로 사용할 수 있는 시간 주기"
      ]
    },
    {
      "cell_type": "markdown",
      "metadata": {
        "id": "bosBxc-Sdod9"
      },
      "source": [
        "| 시간 주기 | 설명 |\n",
        "|---|---|\n",
        "| B | 평일만 포함 |\n",
        "| C | 사용자가 정의한 평일만 포함 |\n",
        "| D | 달력 일자 단위 |\n",
        "| W | 주간 단위 |\n",
        "| M | 월 마지막 날만 포함 |\n",
        "| SM | 15일과 월 마지막 날만 포함 |\n",
        "| BM | M 주기의 값이 휴일이면 제외하고 평일만 포함 |\n",
        "| CBM | BM에 사용자 정의 평일을 적용 |\n",
        "| MS | 월 시작일만 포함 |\n",
        "| SMS | 월 시작일과 15일만 포함 |\n",
        "| BMS | MS 주기의 값이 휴일이면 제외하고 평일만 포함 |\n",
        "| CBMS | BMS에 사용자 정의 평일을 적용 |\n",
        "| Q | 3 .6 , 9, 12월 분기 마지막 날만 포함 |\n",
        "| BQ | 3. 6, 9. 12월 분기 마지막 날이 휴얼어면 제외하고 평일만 포함 |\n",
        "| QS | 3. 6, 9, 12월 분기 시작일만 포함 |\n",
        "| BQS | 3, 6, 9, 12월 분기 시작일어 휴일이면 제외하고 평일만 포함 |\n",
        "| A | 년의 마지막 날만 포함 |\n",
        "| BA | 년의 마지막 날이 휴일이면 제외하고 평일만 포함 |\n",
        "| AS | 년의 시작일만 포함 |\n",
        "| BAS | 년의 시작일이 휴일이면 제외하고 평일만 포함 |\n",
        "| BH | 평일을 시간 단위로 포함(09:00 ~ 16:00) |\n",
        "| H | 시간 단위로 포함(00:00 ~ 00:00) |\n",
        "| T | 분 단위 포함 |\n",
        "| S | 초 단위 포함 |\n",
        "| L | 밀리초 단위 포함 |\n",
        "| U | 마이크로초 단위 포함 |\n",
        "| N | 나노초 단위 포함 |"
      ]
    },
    {
      "cell_type": "code",
      "execution_count": null,
      "metadata": {
        "id": "6Jbt7huOdod-",
        "outputId": "b2c83fb3-a20d-414f-c21c-c6df267b6b62"
      },
      "outputs": [
        {
          "name": "stdout",
          "output_type": "stream",
          "text": [
            "DatetimeIndex(['2017-01-02', '2017-01-03', '2017-01-04', '2017-01-05',\n",
            "               '2017-01-06'],\n",
            "              dtype='datetime64[ns]', freq='B')\n"
          ]
        }
      ],
      "source": [
        "# 평일만 포함시키기\n",
        "print(pd.date_range('2017-01-01', '2017-01-07', freq='B'))"
      ]
    }
  ],
  "metadata": {
    "kernelspec": {
      "display_name": "Python 3",
      "language": "python",
      "name": "python3"
    },
    "language_info": {
      "codemirror_mode": {
        "name": "ipython",
        "version": 3
      },
      "file_extension": ".py",
      "mimetype": "text/x-python",
      "name": "python",
      "nbconvert_exporter": "python",
      "pygments_lexer": "ipython3",
      "version": "3.8.5"
    },
    "colab": {
      "provenance": [],
      "include_colab_link": true
    }
  },
  "nbformat": 4,
  "nbformat_minor": 0
}