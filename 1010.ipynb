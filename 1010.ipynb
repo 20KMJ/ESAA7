{
  "cells": [
    {
      "cell_type": "markdown",
      "metadata": {
        "id": "view-in-github",
        "colab_type": "text"
      },
      "source": [
        "<a href=\"https://colab.research.google.com/github/20KMJ/ESAA7/blob/main/1010.ipynb\" target=\"_parent\"><img src=\"https://colab.research.google.com/assets/colab-badge.svg\" alt=\"Open In Colab\"/></a>"
      ]
    },
    {
      "cell_type": "markdown",
      "metadata": {
        "id": "Jt3lzxvE1p4A"
      },
      "source": [
        "# 12-2. datetime 오브젝트"
      ]
    },
    {
      "cell_type": "markdown",
      "metadata": {
        "id": "xGH4CJT61p4C"
      },
      "source": [
        "> **datetime 라이브러리**\n",
        "> - date 오브젝트: 날짜 처리\n",
        "> - time 오브젝트: 시간 처리\n",
        "> - **datetime** 오브젝트: 날짜 & 시간 처리"
      ]
    },
    {
      "cell_type": "markdown",
      "metadata": {
        "id": "9t_9hqF91p4D"
      },
      "source": [
        "## datetime 오브젝트 사용하기"
      ]
    },
    {
      "cell_type": "code",
      "execution_count": null,
      "metadata": {
        "id": "Jpb3PBAs1p4E"
      },
      "outputs": [],
      "source": [
        "# datetime 라이브러리 불러오기\n",
        "from datetime import datetime"
      ]
    },
    {
      "cell_type": "code",
      "execution_count": null,
      "metadata": {
        "id": "o8OjUrbb1p4F",
        "outputId": "a3bbf135-2f72-4aed-8d7c-ef3995cc0c46"
      },
      "outputs": [
        {
          "name": "stdout",
          "output_type": "stream",
          "text": [
            "2022-10-08 19:51:30.165078\n",
            "2022-10-08 19:51:30.165812\n"
          ]
        }
      ],
      "source": [
        "# 현재 시간 출력 (now, today 메서드)\n",
        "now1 = datetime.now()\n",
        "print(now1)\n",
        "\n",
        "now2 = datetime.today()\n",
        "print(now2)"
      ]
    },
    {
      "cell_type": "code",
      "execution_count": null,
      "metadata": {
        "id": "MXhI8sJ-1p4G",
        "outputId": "f3d3078b-c84d-470d-a618-f9ac212ee29b"
      },
      "outputs": [
        {
          "name": "stdout",
          "output_type": "stream",
          "text": [
            "2022-10-08 17:32:01.990890\n",
            "1970-01-01 00:00:00\n",
            "1970-12-12 13:24:34\n"
          ]
        }
      ],
      "source": [
        "# 시간을 직접 입력하여 인자로 전달\n",
        "t1 = datetime.now()\n",
        "t2 = datetime(1970, 1, 1)\n",
        "t3 = datetime(1970, 12, 12, 13, 24, 34)\n",
        "\n",
        "print(t1)\n",
        "print(t2)\n",
        "print(t3)"
      ]
    },
    {
      "cell_type": "code",
      "execution_count": null,
      "metadata": {
        "id": "ntL63ZD31p4G",
        "outputId": "100d7fd8-acd6-4239-d024-bc02a45e1407"
      },
      "outputs": [
        {
          "name": "stdout",
          "output_type": "stream",
          "text": [
            "19273 days, 17:32:01.990890\n",
            "<class 'datetime.timedelta'>\n",
            "-19274 days, 6:27:58.009110\n",
            "<class 'datetime.timedelta'>\n"
          ]
        }
      ],
      "source": [
        "# 시간 계산 (datetie 오브젝트의 차이 구하기)\n",
        "diff1 = t1 - t2\n",
        "print(diff1)\n",
        "print(type(diff1))\n",
        "\n",
        "diff2 = t2 - t1\n",
        "print(diff2)\n",
        "print(type(diff2))"
      ]
    },
    {
      "cell_type": "markdown",
      "metadata": {
        "id": "UPdQXOo91p4H"
      },
      "source": [
        "## 테슬라 주식 데이터로 시간 계산하기"
      ]
    },
    {
      "cell_type": "code",
      "execution_count": null,
      "metadata": {
        "id": "O3ZGz1ps1p4I",
        "outputId": "a1636a76-18e7-4ea2-ed34-207722488cc6"
      },
      "outputs": [
        {
          "name": "stdout",
          "output_type": "stream",
          "text": [
            "Collecting pandas-datareader\n",
            "  Downloading pandas_datareader-0.10.0-py3-none-any.whl (109 kB)\n",
            "Requirement already satisfied: requests>=2.19.0 in c:\\python\\anaconda3\\lib\\site-packages (from pandas-datareader) (2.24.0)\n",
            "Requirement already satisfied: pandas>=0.23 in c:\\python\\anaconda3\\lib\\site-packages (from pandas-datareader) (1.1.3)\n",
            "Requirement already satisfied: lxml in c:\\python\\anaconda3\\lib\\site-packages (from pandas-datareader) (4.6.1)\n",
            "Requirement already satisfied: chardet<4,>=3.0.2 in c:\\python\\anaconda3\\lib\\site-packages (from requests>=2.19.0->pandas-datareader) (3.0.4)\n",
            "Requirement already satisfied: urllib3!=1.25.0,!=1.25.1,<1.26,>=1.21.1 in c:\\python\\anaconda3\\lib\\site-packages (from requests>=2.19.0->pandas-datareader) (1.25.11)\n",
            "Requirement already satisfied: idna<3,>=2.5 in c:\\python\\anaconda3\\lib\\site-packages (from requests>=2.19.0->pandas-datareader) (2.10)\n",
            "Requirement already satisfied: certifi>=2017.4.17 in c:\\python\\anaconda3\\lib\\site-packages (from requests>=2.19.0->pandas-datareader) (2020.6.20)\n",
            "Requirement already satisfied: numpy>=1.15.4 in c:\\python\\anaconda3\\lib\\site-packages (from pandas>=0.23->pandas-datareader) (1.19.2)\n",
            "Requirement already satisfied: pytz>=2017.2 in c:\\python\\anaconda3\\lib\\site-packages (from pandas>=0.23->pandas-datareader) (2020.1)\n",
            "Requirement already satisfied: python-dateutil>=2.7.3 in c:\\python\\anaconda3\\lib\\site-packages (from pandas>=0.23->pandas-datareader) (2.8.1)\n",
            "Requirement already satisfied: six>=1.5 in c:\\python\\anaconda3\\lib\\site-packages (from python-dateutil>=2.7.3->pandas>=0.23->pandas-datareader) (1.15.0)\n",
            "Installing collected packages: pandas-datareader\n",
            "Successfully installed pandas-datareader-0.10.0\n"
          ]
        }
      ],
      "source": [
        "# pandas_datareader 라이브러리 설치\n",
        "! pip install pandas-datareader"
      ]
    },
    {
      "cell_type": "markdown",
      "metadata": {
        "id": "OiPQsnPp1p4I"
      },
      "source": [
        "테슬라의 주식 데이터 내려받기"
      ]
    },
    {
      "cell_type": "code",
      "execution_count": null,
      "metadata": {
        "id": "KN3cEcX51p4I"
      },
      "outputs": [],
      "source": [
        "import pandas as pd\n",
        "pd.core.common.is_list_like=pd.api.types.is_list_like\n",
        "import pandas_datareader as pdr\n",
        "\n",
        "# tesla에는 데이터 프레임이 저장됨\n",
        "tesla = pdr.get_data_quandl('TSLA', api_key = '#')\n",
        "\n",
        "# tesla에 저장된 데이터프레임을 파일로 저장하기\n",
        "tesla.to_csv('C:/Temp/tesla_stock_quandl.csv')"
      ]
    },
    {
      "cell_type": "code",
      "execution_count": null,
      "metadata": {
        "id": "n7hI1w7B1p4J",
        "outputId": "3cbd587e-c0b7-49a9-d975-5fc03fc5d4c0"
      },
      "outputs": [
        {
          "name": "stdout",
          "output_type": "stream",
          "text": [
            "              Open    High     Low   Close      Volume  ExDividend  \\\n",
            "Date                                                                 \n",
            "2018-03-27  304.00  304.27  277.18  279.18  13696168.0         0.0   \n",
            "2018-03-26  307.34  307.59  291.36  304.18   8324639.0         0.0   \n",
            "2018-03-23  311.25  311.61  300.45  301.54   6600538.0         0.0   \n",
            "2018-03-22  313.89  318.82  308.18  309.10   4914307.0         0.0   \n",
            "2018-03-21  310.25  322.44  310.19  316.53   5927881.0         0.0   \n",
            "\n",
            "            SplitRatio  AdjOpen  AdjHigh  AdjLow  AdjClose   AdjVolume  \n",
            "Date                                                                    \n",
            "2018-03-27         1.0   304.00   304.27  277.18    279.18  13696168.0  \n",
            "2018-03-26         1.0   307.34   307.59  291.36    304.18   8324639.0  \n",
            "2018-03-23         1.0   311.25   311.61  300.45    301.54   6600538.0  \n",
            "2018-03-22         1.0   313.89   318.82  308.18    309.10   4914307.0  \n",
            "2018-03-21         1.0   310.25   322.44  310.19    316.53   5927881.0  \n"
          ]
        }
      ],
      "source": [
        "# 데이터 살펴보기\n",
        "print(tesla.head())"
      ]
    },
    {
      "cell_type": "code",
      "execution_count": null,
      "metadata": {
        "id": "oaXA6p6E1p4J",
        "outputId": "ce2ca434-dee5-4bce-e16a-d5442e56dcfa"
      },
      "outputs": [
        {
          "name": "stdout",
          "output_type": "stream",
          "text": [
            "<class 'pandas.core.frame.DataFrame'>\n",
            "RangeIndex: 115 entries, 0 to 114\n",
            "Data columns (total 13 columns):\n",
            " #   Column      Non-Null Count  Dtype         \n",
            "---  ------      --------------  -----         \n",
            " 0   Date        115 non-null    datetime64[ns]\n",
            " 1   Open        115 non-null    float64       \n",
            " 2   High        115 non-null    float64       \n",
            " 3   Low         115 non-null    float64       \n",
            " 4   Close       115 non-null    float64       \n",
            " 5   Volume      115 non-null    float64       \n",
            " 6   ExDividend  115 non-null    float64       \n",
            " 7   SplitRatio  115 non-null    float64       \n",
            " 8   AdjOpen     115 non-null    float64       \n",
            " 9   AdjHigh     115 non-null    float64       \n",
            " 10  AdjLow      115 non-null    float64       \n",
            " 11  AdjClose    115 non-null    float64       \n",
            " 12  AdjVolume   115 non-null    float64       \n",
            "dtypes: datetime64[ns](1), float64(12)\n",
            "memory usage: 11.8 KB\n",
            "None\n"
          ]
        }
      ],
      "source": [
        "# Date 열을 Datetime 형으로 변환\n",
        "# parse_dates 인자에 Date열 전달하면 됨\n",
        "tesla = pd.read_csv('C:/Temp/tesla_stock_quandl.csv', parse_dates=[0])\n",
        "print(tesla.info())"
      ]
    },
    {
      "cell_type": "code",
      "execution_count": null,
      "metadata": {
        "id": "ZNGLDTUS1p4K",
        "outputId": "284d707b-6fe1-4848-e824-9ecc7ca57f42"
      },
      "outputs": [
        {
          "name": "stdout",
          "output_type": "stream",
          "text": [
            "         Date    Open    High       Low   Close      Volume  ExDividend  \\\n",
            "0  2018-03-27  304.00  304.27  277.1800  279.18  13696168.0         0.0   \n",
            "1  2018-03-26  307.34  307.59  291.3600  304.18   8324639.0         0.0   \n",
            "2  2018-03-23  311.25  311.61  300.4500  301.54   6600538.0         0.0   \n",
            "3  2018-03-22  313.89  318.82  308.1800  309.10   4914307.0         0.0   \n",
            "4  2018-03-21  310.25  322.44  310.1900  316.53   5927881.0         0.0   \n",
            "5  2018-03-20  314.87  316.25  308.7600  310.55   4726182.0         0.0   \n",
            "6  2018-03-19  316.50  320.75  309.6700  313.56   7440766.0         0.0   \n",
            "7  2018-03-16  325.96  327.40  319.0700  321.35   6058612.0         0.0   \n",
            "8  2018-03-15  329.38  332.85  321.1000  325.60   6366922.0         0.0   \n",
            "9  2018-03-14  336.76  339.81  323.9300  326.63   7932511.0         0.0   \n",
            "10 2018-03-13  344.92  345.12  336.2635  341.84   5932110.0         0.0   \n",
            "11 2018-03-12  328.61  347.21  326.5000  345.51   8212156.0         0.0   \n",
            "12 2018-03-09  324.10  328.49  322.3700  327.17   5479716.0         0.0   \n",
            "13 2018-03-08  332.86  333.30  326.2740  329.10   3476944.0         0.0   \n",
            "14 2018-03-07  325.44  332.50  321.7400  332.30   5007297.0         0.0   \n",
            "15 2018-03-06  333.75  336.37  327.0300  328.20   4285744.0         0.0   \n",
            "16 2018-03-05  332.39  337.75  329.2929  333.35   3823769.0         0.0   \n",
            "17 2018-03-02  326.98  335.22  322.9700  335.12   5092829.0         0.0   \n",
            "18 2018-03-01  345.01  348.67  330.0700  330.93   6885601.0         0.0   \n",
            "\n",
            "    SplitRatio  AdjOpen  AdjHigh    AdjLow  AdjClose   AdjVolume  \n",
            "0          1.0   304.00   304.27  277.1800    279.18  13696168.0  \n",
            "1          1.0   307.34   307.59  291.3600    304.18   8324639.0  \n",
            "2          1.0   311.25   311.61  300.4500    301.54   6600538.0  \n",
            "3          1.0   313.89   318.82  308.1800    309.10   4914307.0  \n",
            "4          1.0   310.25   322.44  310.1900    316.53   5927881.0  \n",
            "5          1.0   314.87   316.25  308.7600    310.55   4726182.0  \n",
            "6          1.0   316.50   320.75  309.6700    313.56   7440766.0  \n",
            "7          1.0   325.96   327.40  319.0700    321.35   6058612.0  \n",
            "8          1.0   329.38   332.85  321.1000    325.60   6366922.0  \n",
            "9          1.0   336.76   339.81  323.9300    326.63   7932511.0  \n",
            "10         1.0   344.92   345.12  336.2635    341.84   5932110.0  \n",
            "11         1.0   328.61   347.21  326.5000    345.51   8212156.0  \n",
            "12         1.0   324.10   328.49  322.3700    327.17   5479716.0  \n",
            "13         1.0   332.86   333.30  326.2740    329.10   3476944.0  \n",
            "14         1.0   325.44   332.50  321.7400    332.30   5007297.0  \n",
            "15         1.0   333.75   336.37  327.0300    328.20   4285744.0  \n",
            "16         1.0   332.39   337.75  329.2929    333.35   3823769.0  \n",
            "17         1.0   326.98   335.22  322.9700    335.12   5092829.0  \n",
            "18         1.0   345.01   348.67  330.0700    330.93   6885601.0  \n"
          ]
        }
      ],
      "source": [
        "# 2018년 3월 데이터만 추출\n",
        "print(tesla.loc[(tesla.Date.dt.year == 2018) & (tesla.Date.dt.month == 3)])"
      ]
    },
    {
      "cell_type": "markdown",
      "metadata": {
        "id": "SBKdCI611p4K"
      },
      "source": [
        "## datetime 오브젝트를 인덱스로 설정해 데이터 추출하기"
      ]
    },
    {
      "cell_type": "markdown",
      "metadata": {
        "id": "cqYYOfuP1p4K"
      },
      "source": [
        "- `DatetimeIndex`\n",
        "- datetime 오브젝트를 데이터프레임의 인덱스로 설정하면 원하는 시간의 데이터를 바로 추출할 수 있음."
      ]
    },
    {
      "cell_type": "code",
      "execution_count": null,
      "metadata": {
        "id": "EFrpFOC91p4K",
        "outputId": "5e68afa9-d9fa-4597-e4aa-74cb8ffb59c1"
      },
      "outputs": [
        {
          "name": "stdout",
          "output_type": "stream",
          "text": [
            "DatetimeIndex(['2018-03-27', '2018-03-26', '2018-03-23', '2018-03-22',\n",
            "               '2018-03-21', '2018-03-20', '2018-03-19', '2018-03-16',\n",
            "               '2018-03-15', '2018-03-14',\n",
            "               ...\n",
            "               '2017-10-23', '2017-10-20', '2017-10-19', '2017-10-18',\n",
            "               '2017-10-17', '2017-10-16', '2017-10-13', '2017-10-12',\n",
            "               '2017-10-11', '2017-10-10'],\n",
            "              dtype='datetime64[ns]', name='Date', length=115, freq=None)\n"
          ]
        }
      ],
      "source": [
        "# Date 열을 tesla 데이터프레임의 인덱스로 지정\n",
        "tesla.index = tesla['Date']\n",
        "print(tesla.index)"
      ]
    },
    {
      "cell_type": "code",
      "execution_count": null,
      "metadata": {
        "id": "SdlsOONp1p4L",
        "outputId": "76a150bf-a4e0-4874-e0f5-69857923958a"
      },
      "outputs": [
        {
          "data": {
            "text/html": [
              "<div>\n",
              "<style scoped>\n",
              "    .dataframe tbody tr th:only-of-type {\n",
              "        vertical-align: middle;\n",
              "    }\n",
              "\n",
              "    .dataframe tbody tr th {\n",
              "        vertical-align: top;\n",
              "    }\n",
              "\n",
              "    .dataframe thead th {\n",
              "        text-align: right;\n",
              "    }\n",
              "</style>\n",
              "<table border=\"1\" class=\"dataframe\">\n",
              "  <thead>\n",
              "    <tr style=\"text-align: right;\">\n",
              "      <th></th>\n",
              "      <th>Date</th>\n",
              "      <th>Open</th>\n",
              "      <th>High</th>\n",
              "      <th>Low</th>\n",
              "      <th>Close</th>\n",
              "      <th>Volume</th>\n",
              "      <th>ExDividend</th>\n",
              "      <th>SplitRatio</th>\n",
              "      <th>AdjOpen</th>\n",
              "      <th>AdjHigh</th>\n",
              "      <th>AdjLow</th>\n",
              "      <th>AdjClose</th>\n",
              "      <th>AdjVolume</th>\n",
              "    </tr>\n",
              "    <tr>\n",
              "      <th>Date</th>\n",
              "      <th></th>\n",
              "      <th></th>\n",
              "      <th></th>\n",
              "      <th></th>\n",
              "      <th></th>\n",
              "      <th></th>\n",
              "      <th></th>\n",
              "      <th></th>\n",
              "      <th></th>\n",
              "      <th></th>\n",
              "      <th></th>\n",
              "      <th></th>\n",
              "      <th></th>\n",
              "    </tr>\n",
              "  </thead>\n",
              "  <tbody>\n",
              "    <tr>\n",
              "      <th>2017-10-16</th>\n",
              "      <td>2017-10-16</td>\n",
              "      <td>353.76</td>\n",
              "      <td>354.48</td>\n",
              "      <td>347.1600</td>\n",
              "      <td>350.60</td>\n",
              "      <td>5353262.0</td>\n",
              "      <td>0.0</td>\n",
              "      <td>1.0</td>\n",
              "      <td>353.76</td>\n",
              "      <td>354.48</td>\n",
              "      <td>347.1600</td>\n",
              "      <td>350.60</td>\n",
              "      <td>5353262.0</td>\n",
              "    </tr>\n",
              "    <tr>\n",
              "      <th>2017-10-13</th>\n",
              "      <td>2017-10-13</td>\n",
              "      <td>356.98</td>\n",
              "      <td>358.49</td>\n",
              "      <td>353.6800</td>\n",
              "      <td>355.57</td>\n",
              "      <td>3528413.0</td>\n",
              "      <td>0.0</td>\n",
              "      <td>1.0</td>\n",
              "      <td>356.98</td>\n",
              "      <td>358.49</td>\n",
              "      <td>353.6800</td>\n",
              "      <td>355.57</td>\n",
              "      <td>3528413.0</td>\n",
              "    </tr>\n",
              "    <tr>\n",
              "      <th>2017-10-12</th>\n",
              "      <td>2017-10-12</td>\n",
              "      <td>352.95</td>\n",
              "      <td>359.78</td>\n",
              "      <td>352.6400</td>\n",
              "      <td>355.68</td>\n",
              "      <td>4047318.0</td>\n",
              "      <td>0.0</td>\n",
              "      <td>1.0</td>\n",
              "      <td>352.95</td>\n",
              "      <td>359.78</td>\n",
              "      <td>352.6400</td>\n",
              "      <td>355.68</td>\n",
              "      <td>4047318.0</td>\n",
              "    </tr>\n",
              "    <tr>\n",
              "      <th>2017-10-11</th>\n",
              "      <td>2017-10-11</td>\n",
              "      <td>353.89</td>\n",
              "      <td>357.60</td>\n",
              "      <td>351.1500</td>\n",
              "      <td>354.60</td>\n",
              "      <td>4476769.0</td>\n",
              "      <td>0.0</td>\n",
              "      <td>1.0</td>\n",
              "      <td>353.89</td>\n",
              "      <td>357.60</td>\n",
              "      <td>351.1500</td>\n",
              "      <td>354.60</td>\n",
              "      <td>4476769.0</td>\n",
              "    </tr>\n",
              "    <tr>\n",
              "      <th>2017-10-10</th>\n",
              "      <td>2017-10-10</td>\n",
              "      <td>346.80</td>\n",
              "      <td>355.63</td>\n",
              "      <td>345.5305</td>\n",
              "      <td>355.59</td>\n",
              "      <td>6914972.0</td>\n",
              "      <td>0.0</td>\n",
              "      <td>1.0</td>\n",
              "      <td>346.80</td>\n",
              "      <td>355.63</td>\n",
              "      <td>345.5305</td>\n",
              "      <td>355.59</td>\n",
              "      <td>6914972.0</td>\n",
              "    </tr>\n",
              "  </tbody>\n",
              "</table>\n",
              "</div>"
            ],
            "text/plain": [
              "                 Date    Open    High       Low   Close     Volume  \\\n",
              "Date                                                                 \n",
              "2017-10-16 2017-10-16  353.76  354.48  347.1600  350.60  5353262.0   \n",
              "2017-10-13 2017-10-13  356.98  358.49  353.6800  355.57  3528413.0   \n",
              "2017-10-12 2017-10-12  352.95  359.78  352.6400  355.68  4047318.0   \n",
              "2017-10-11 2017-10-11  353.89  357.60  351.1500  354.60  4476769.0   \n",
              "2017-10-10 2017-10-10  346.80  355.63  345.5305  355.59  6914972.0   \n",
              "\n",
              "            ExDividend  SplitRatio  AdjOpen  AdjHigh    AdjLow  AdjClose  \\\n",
              "Date                                                                       \n",
              "2017-10-16         0.0         1.0   353.76   354.48  347.1600    350.60   \n",
              "2017-10-13         0.0         1.0   356.98   358.49  353.6800    355.57   \n",
              "2017-10-12         0.0         1.0   352.95   359.78  352.6400    355.68   \n",
              "2017-10-11         0.0         1.0   353.89   357.60  351.1500    354.60   \n",
              "2017-10-10         0.0         1.0   346.80   355.63  345.5305    355.59   \n",
              "\n",
              "            AdjVolume  \n",
              "Date                   \n",
              "2017-10-16  5353262.0  \n",
              "2017-10-13  3528413.0  \n",
              "2017-10-12  4047318.0  \n",
              "2017-10-11  4476769.0  \n",
              "2017-10-10  6914972.0  "
            ]
          },
          "execution_count": 42,
          "metadata": {},
          "output_type": "execute_result"
        }
      ],
      "source": [
        "tesla.tail()"
      ]
    },
    {
      "cell_type": "code",
      "execution_count": null,
      "metadata": {
        "id": "bx-PneyN1p4L",
        "outputId": "2b669153-0e07-4e51-9af2-a2cc9f60e15d"
      },
      "outputs": [
        {
          "data": {
            "text/html": [
              "<div>\n",
              "<style scoped>\n",
              "    .dataframe tbody tr th:only-of-type {\n",
              "        vertical-align: middle;\n",
              "    }\n",
              "\n",
              "    .dataframe tbody tr th {\n",
              "        vertical-align: top;\n",
              "    }\n",
              "\n",
              "    .dataframe thead th {\n",
              "        text-align: right;\n",
              "    }\n",
              "</style>\n",
              "<table border=\"1\" class=\"dataframe\">\n",
              "  <thead>\n",
              "    <tr style=\"text-align: right;\">\n",
              "      <th></th>\n",
              "      <th>Date</th>\n",
              "      <th>Open</th>\n",
              "      <th>High</th>\n",
              "      <th>Low</th>\n",
              "      <th>Close</th>\n",
              "      <th>Volume</th>\n",
              "      <th>ExDividend</th>\n",
              "      <th>SplitRatio</th>\n",
              "      <th>AdjOpen</th>\n",
              "      <th>AdjHigh</th>\n",
              "      <th>AdjLow</th>\n",
              "      <th>AdjClose</th>\n",
              "      <th>AdjVolume</th>\n",
              "    </tr>\n",
              "    <tr>\n",
              "      <th>Date</th>\n",
              "      <th></th>\n",
              "      <th></th>\n",
              "      <th></th>\n",
              "      <th></th>\n",
              "      <th></th>\n",
              "      <th></th>\n",
              "      <th></th>\n",
              "      <th></th>\n",
              "      <th></th>\n",
              "      <th></th>\n",
              "      <th></th>\n",
              "      <th></th>\n",
              "      <th></th>\n",
              "    </tr>\n",
              "  </thead>\n",
              "  <tbody>\n",
              "    <tr>\n",
              "      <th>2018-03-27</th>\n",
              "      <td>2018-03-27</td>\n",
              "      <td>304.00</td>\n",
              "      <td>304.27</td>\n",
              "      <td>277.18</td>\n",
              "      <td>279.18</td>\n",
              "      <td>13696168.0</td>\n",
              "      <td>0.0</td>\n",
              "      <td>1.0</td>\n",
              "      <td>304.00</td>\n",
              "      <td>304.27</td>\n",
              "      <td>277.18</td>\n",
              "      <td>279.18</td>\n",
              "      <td>13696168.0</td>\n",
              "    </tr>\n",
              "    <tr>\n",
              "      <th>2018-03-26</th>\n",
              "      <td>2018-03-26</td>\n",
              "      <td>307.34</td>\n",
              "      <td>307.59</td>\n",
              "      <td>291.36</td>\n",
              "      <td>304.18</td>\n",
              "      <td>8324639.0</td>\n",
              "      <td>0.0</td>\n",
              "      <td>1.0</td>\n",
              "      <td>307.34</td>\n",
              "      <td>307.59</td>\n",
              "      <td>291.36</td>\n",
              "      <td>304.18</td>\n",
              "      <td>8324639.0</td>\n",
              "    </tr>\n",
              "    <tr>\n",
              "      <th>2018-03-23</th>\n",
              "      <td>2018-03-23</td>\n",
              "      <td>311.25</td>\n",
              "      <td>311.61</td>\n",
              "      <td>300.45</td>\n",
              "      <td>301.54</td>\n",
              "      <td>6600538.0</td>\n",
              "      <td>0.0</td>\n",
              "      <td>1.0</td>\n",
              "      <td>311.25</td>\n",
              "      <td>311.61</td>\n",
              "      <td>300.45</td>\n",
              "      <td>301.54</td>\n",
              "      <td>6600538.0</td>\n",
              "    </tr>\n",
              "    <tr>\n",
              "      <th>2018-03-22</th>\n",
              "      <td>2018-03-22</td>\n",
              "      <td>313.89</td>\n",
              "      <td>318.82</td>\n",
              "      <td>308.18</td>\n",
              "      <td>309.10</td>\n",
              "      <td>4914307.0</td>\n",
              "      <td>0.0</td>\n",
              "      <td>1.0</td>\n",
              "      <td>313.89</td>\n",
              "      <td>318.82</td>\n",
              "      <td>308.18</td>\n",
              "      <td>309.10</td>\n",
              "      <td>4914307.0</td>\n",
              "    </tr>\n",
              "    <tr>\n",
              "      <th>2018-03-21</th>\n",
              "      <td>2018-03-21</td>\n",
              "      <td>310.25</td>\n",
              "      <td>322.44</td>\n",
              "      <td>310.19</td>\n",
              "      <td>316.53</td>\n",
              "      <td>5927881.0</td>\n",
              "      <td>0.0</td>\n",
              "      <td>1.0</td>\n",
              "      <td>310.25</td>\n",
              "      <td>322.44</td>\n",
              "      <td>310.19</td>\n",
              "      <td>316.53</td>\n",
              "      <td>5927881.0</td>\n",
              "    </tr>\n",
              "  </tbody>\n",
              "</table>\n",
              "</div>"
            ],
            "text/plain": [
              "                 Date    Open    High     Low   Close      Volume  ExDividend  \\\n",
              "Date                                                                            \n",
              "2018-03-27 2018-03-27  304.00  304.27  277.18  279.18  13696168.0         0.0   \n",
              "2018-03-26 2018-03-26  307.34  307.59  291.36  304.18   8324639.0         0.0   \n",
              "2018-03-23 2018-03-23  311.25  311.61  300.45  301.54   6600538.0         0.0   \n",
              "2018-03-22 2018-03-22  313.89  318.82  308.18  309.10   4914307.0         0.0   \n",
              "2018-03-21 2018-03-21  310.25  322.44  310.19  316.53   5927881.0         0.0   \n",
              "\n",
              "            SplitRatio  AdjOpen  AdjHigh  AdjLow  AdjClose   AdjVolume  \n",
              "Date                                                                    \n",
              "2018-03-27         1.0   304.00   304.27  277.18    279.18  13696168.0  \n",
              "2018-03-26         1.0   307.34   307.59  291.36    304.18   8324639.0  \n",
              "2018-03-23         1.0   311.25   311.61  300.45    301.54   6600538.0  \n",
              "2018-03-22         1.0   313.89   318.82  308.18    309.10   4914307.0  \n",
              "2018-03-21         1.0   310.25   322.44  310.19    316.53   5927881.0  "
            ]
          },
          "execution_count": 28,
          "metadata": {},
          "output_type": "execute_result"
        }
      ],
      "source": [
        "tesla.head(5)"
      ]
    },
    {
      "cell_type": "code",
      "execution_count": null,
      "metadata": {
        "id": "YYfIHyBd1p4L",
        "outputId": "9c89a29f-bd00-4c04-caa4-a6b64bd1123e"
      },
      "outputs": [
        {
          "name": "stdout",
          "output_type": "stream",
          "text": [
            "                 Date    Open    High     Low   Close\n",
            "Date                                                 \n",
            "2018-03-27 2018-03-27  304.00  304.27  277.18  279.18\n",
            "2018-03-26 2018-03-26  307.34  307.59  291.36  304.18\n",
            "2018-03-23 2018-03-23  311.25  311.61  300.45  301.54\n",
            "2018-03-22 2018-03-22  313.89  318.82  308.18  309.10\n",
            "2018-03-21 2018-03-21  310.25  322.44  310.19  316.53\n"
          ]
        }
      ],
      "source": [
        "# 2015년 데이터 추출\n",
        "print(tesla[pd.DatetimeIndex(tesla.index).year == 2018].iloc[:5,:5])"
      ]
    },
    {
      "cell_type": "code",
      "execution_count": null,
      "metadata": {
        "id": "1D7fe-hu1p4L",
        "outputId": "b0882481-3c83-4ea3-fc1c-791aa3c6bc9f"
      },
      "outputs": [
        {
          "data": {
            "text/html": [
              "<div>\n",
              "<style scoped>\n",
              "    .dataframe tbody tr th:only-of-type {\n",
              "        vertical-align: middle;\n",
              "    }\n",
              "\n",
              "    .dataframe tbody tr th {\n",
              "        vertical-align: top;\n",
              "    }\n",
              "\n",
              "    .dataframe thead th {\n",
              "        text-align: right;\n",
              "    }\n",
              "</style>\n",
              "<table border=\"1\" class=\"dataframe\">\n",
              "  <thead>\n",
              "    <tr style=\"text-align: right;\">\n",
              "      <th></th>\n",
              "      <th>Date</th>\n",
              "      <th>Open</th>\n",
              "      <th>High</th>\n",
              "      <th>Low</th>\n",
              "      <th>Close</th>\n",
              "    </tr>\n",
              "    <tr>\n",
              "      <th>Date</th>\n",
              "      <th></th>\n",
              "      <th></th>\n",
              "      <th></th>\n",
              "      <th></th>\n",
              "      <th></th>\n",
              "    </tr>\n",
              "  </thead>\n",
              "  <tbody>\n",
              "    <tr>\n",
              "      <th>2017-10-31</th>\n",
              "      <td>2017-10-31</td>\n",
              "      <td>320.23</td>\n",
              "      <td>331.9500</td>\n",
              "      <td>320.1800</td>\n",
              "      <td>331.53</td>\n",
              "    </tr>\n",
              "    <tr>\n",
              "      <th>2017-10-30</th>\n",
              "      <td>2017-10-30</td>\n",
              "      <td>319.18</td>\n",
              "      <td>323.7800</td>\n",
              "      <td>317.2500</td>\n",
              "      <td>320.08</td>\n",
              "    </tr>\n",
              "    <tr>\n",
              "      <th>2017-10-27</th>\n",
              "      <td>2017-10-27</td>\n",
              "      <td>319.75</td>\n",
              "      <td>324.5900</td>\n",
              "      <td>316.6600</td>\n",
              "      <td>320.87</td>\n",
              "    </tr>\n",
              "    <tr>\n",
              "      <th>2017-10-26</th>\n",
              "      <td>2017-10-26</td>\n",
              "      <td>327.78</td>\n",
              "      <td>330.2300</td>\n",
              "      <td>323.2000</td>\n",
              "      <td>326.17</td>\n",
              "    </tr>\n",
              "    <tr>\n",
              "      <th>2017-10-25</th>\n",
              "      <td>2017-10-25</td>\n",
              "      <td>336.70</td>\n",
              "      <td>337.5000</td>\n",
              "      <td>323.5600</td>\n",
              "      <td>325.84</td>\n",
              "    </tr>\n",
              "    <tr>\n",
              "      <th>2017-10-24</th>\n",
              "      <td>2017-10-24</td>\n",
              "      <td>338.80</td>\n",
              "      <td>342.8000</td>\n",
              "      <td>336.1600</td>\n",
              "      <td>337.34</td>\n",
              "    </tr>\n",
              "    <tr>\n",
              "      <th>2017-10-23</th>\n",
              "      <td>2017-10-23</td>\n",
              "      <td>349.88</td>\n",
              "      <td>349.9500</td>\n",
              "      <td>336.2500</td>\n",
              "      <td>337.02</td>\n",
              "    </tr>\n",
              "    <tr>\n",
              "      <th>2017-10-20</th>\n",
              "      <td>2017-10-20</td>\n",
              "      <td>352.69</td>\n",
              "      <td>354.5500</td>\n",
              "      <td>344.3400</td>\n",
              "      <td>345.10</td>\n",
              "    </tr>\n",
              "    <tr>\n",
              "      <th>2017-10-19</th>\n",
              "      <td>2017-10-19</td>\n",
              "      <td>355.56</td>\n",
              "      <td>357.1465</td>\n",
              "      <td>348.2000</td>\n",
              "      <td>351.81</td>\n",
              "    </tr>\n",
              "    <tr>\n",
              "      <th>2017-10-18</th>\n",
              "      <td>2017-10-18</td>\n",
              "      <td>355.97</td>\n",
              "      <td>363.0000</td>\n",
              "      <td>354.1300</td>\n",
              "      <td>359.65</td>\n",
              "    </tr>\n",
              "    <tr>\n",
              "      <th>2017-10-17</th>\n",
              "      <td>2017-10-17</td>\n",
              "      <td>350.91</td>\n",
              "      <td>356.2200</td>\n",
              "      <td>350.0700</td>\n",
              "      <td>355.75</td>\n",
              "    </tr>\n",
              "    <tr>\n",
              "      <th>2017-10-16</th>\n",
              "      <td>2017-10-16</td>\n",
              "      <td>353.76</td>\n",
              "      <td>354.4800</td>\n",
              "      <td>347.1600</td>\n",
              "      <td>350.60</td>\n",
              "    </tr>\n",
              "    <tr>\n",
              "      <th>2017-10-13</th>\n",
              "      <td>2017-10-13</td>\n",
              "      <td>356.98</td>\n",
              "      <td>358.4900</td>\n",
              "      <td>353.6800</td>\n",
              "      <td>355.57</td>\n",
              "    </tr>\n",
              "    <tr>\n",
              "      <th>2017-10-12</th>\n",
              "      <td>2017-10-12</td>\n",
              "      <td>352.95</td>\n",
              "      <td>359.7800</td>\n",
              "      <td>352.6400</td>\n",
              "      <td>355.68</td>\n",
              "    </tr>\n",
              "    <tr>\n",
              "      <th>2017-10-11</th>\n",
              "      <td>2017-10-11</td>\n",
              "      <td>353.89</td>\n",
              "      <td>357.6000</td>\n",
              "      <td>351.1500</td>\n",
              "      <td>354.60</td>\n",
              "    </tr>\n",
              "    <tr>\n",
              "      <th>2017-10-10</th>\n",
              "      <td>2017-10-10</td>\n",
              "      <td>346.80</td>\n",
              "      <td>355.6300</td>\n",
              "      <td>345.5305</td>\n",
              "      <td>355.59</td>\n",
              "    </tr>\n",
              "  </tbody>\n",
              "</table>\n",
              "</div>"
            ],
            "text/plain": [
              "                 Date    Open      High       Low   Close\n",
              "Date                                                     \n",
              "2017-10-31 2017-10-31  320.23  331.9500  320.1800  331.53\n",
              "2017-10-30 2017-10-30  319.18  323.7800  317.2500  320.08\n",
              "2017-10-27 2017-10-27  319.75  324.5900  316.6600  320.87\n",
              "2017-10-26 2017-10-26  327.78  330.2300  323.2000  326.17\n",
              "2017-10-25 2017-10-25  336.70  337.5000  323.5600  325.84\n",
              "2017-10-24 2017-10-24  338.80  342.8000  336.1600  337.34\n",
              "2017-10-23 2017-10-23  349.88  349.9500  336.2500  337.02\n",
              "2017-10-20 2017-10-20  352.69  354.5500  344.3400  345.10\n",
              "2017-10-19 2017-10-19  355.56  357.1465  348.2000  351.81\n",
              "2017-10-18 2017-10-18  355.97  363.0000  354.1300  359.65\n",
              "2017-10-17 2017-10-17  350.91  356.2200  350.0700  355.75\n",
              "2017-10-16 2017-10-16  353.76  354.4800  347.1600  350.60\n",
              "2017-10-13 2017-10-13  356.98  358.4900  353.6800  355.57\n",
              "2017-10-12 2017-10-12  352.95  359.7800  352.6400  355.68\n",
              "2017-10-11 2017-10-11  353.89  357.6000  351.1500  354.60\n",
              "2017-10-10 2017-10-10  346.80  355.6300  345.5305  355.59"
            ]
          },
          "execution_count": 46,
          "metadata": {},
          "output_type": "execute_result"
        }
      ],
      "source": [
        "# 2017년 10월 데이터 추출\n",
        "tesla[(pd.DatetimeIndex(tesla.index).year == 2017) & (pd.DatetimeIndex(tesla.index).month == 10)].iloc[:,:5]"
      ]
    },
    {
      "cell_type": "markdown",
      "metadata": {
        "id": "ee0Jl_Nu1p4M"
      },
      "source": [
        "## 시간 간격을 인덱스로 지정해 데이터 추출하기"
      ]
    },
    {
      "cell_type": "markdown",
      "metadata": {
        "id": "WbgvXbOk1p4M"
      },
      "source": [
        "- `TimedeltaIndex`\n",
        "- 주식 데이터에서 최초 5일간 수집된 데이터만 살펴보고 싶다면 시간 간격을 인덱스로 지정하여 데이터를 추출하면 됨."
      ]
    },
    {
      "cell_type": "code",
      "execution_count": null,
      "metadata": {
        "id": "vzPeZ_3J1p4M",
        "outputId": "548531db-29c5-4e7a-ba6a-1cd61e7ef806"
      },
      "outputs": [
        {
          "name": "stdout",
          "output_type": "stream",
          "text": [
            "                 Date    Open    High     Low   Close      Volume  ExDividend  \\\n",
            "Date                                                                            \n",
            "2018-03-27 2018-03-27  304.00  304.27  277.18  279.18  13696168.0         0.0   \n",
            "2018-03-26 2018-03-26  307.34  307.59  291.36  304.18   8324639.0         0.0   \n",
            "2018-03-23 2018-03-23  311.25  311.61  300.45  301.54   6600538.0         0.0   \n",
            "2018-03-22 2018-03-22  313.89  318.82  308.18  309.10   4914307.0         0.0   \n",
            "2018-03-21 2018-03-21  310.25  322.44  310.19  316.53   5927881.0         0.0   \n",
            "\n",
            "            SplitRatio  AdjOpen  AdjHigh  AdjLow  AdjClose   AdjVolume  \\\n",
            "Date                                                                     \n",
            "2018-03-27         1.0   304.00   304.27  277.18    279.18  13696168.0   \n",
            "2018-03-26         1.0   307.34   307.59  291.36    304.18   8324639.0   \n",
            "2018-03-23         1.0   311.25   311.61  300.45    301.54   6600538.0   \n",
            "2018-03-22         1.0   313.89   318.82  308.18    309.10   4914307.0   \n",
            "2018-03-21         1.0   310.25   322.44  310.19    316.53   5927881.0   \n",
            "\n",
            "           ref_date  \n",
            "Date                 \n",
            "2018-03-27 169 days  \n",
            "2018-03-26 168 days  \n",
            "2018-03-23 165 days  \n",
            "2018-03-22 164 days  \n",
            "2018-03-21 163 days  \n"
          ]
        }
      ],
      "source": [
        "tesla['ref_date'] = tesla['Date'] - tesla['Date'].min()\n",
        "print(tesla.head())"
      ]
    },
    {
      "cell_type": "code",
      "execution_count": null,
      "metadata": {
        "id": "QTMH5_Ja1p4M",
        "outputId": "238dbd38-4484-44d6-c394-64cdd834773c"
      },
      "outputs": [
        {
          "name": "stdout",
          "output_type": "stream",
          "text": [
            "               Date    Open    High     Low   Close\n",
            "ref_date                                           \n",
            "169 days 2018-03-27  304.00  304.27  277.18  279.18\n",
            "168 days 2018-03-26  307.34  307.59  291.36  304.18\n",
            "165 days 2018-03-23  311.25  311.61  300.45  301.54\n",
            "164 days 2018-03-22  313.89  318.82  308.18  309.10\n",
            "163 days 2018-03-21  310.25  322.44  310.19  316.53\n"
          ]
        }
      ],
      "source": [
        "tesla.index = tesla['ref_date']\n",
        "print(tesla.iloc[:5, :5])"
      ]
    },
    {
      "cell_type": "code",
      "execution_count": null,
      "metadata": {
        "id": "lAWFda4O1p4M",
        "outputId": "3ce794bf-6e48-4fd6-fa10-d40ff61dea7d"
      },
      "outputs": [
        {
          "name": "stdout",
          "output_type": "stream",
          "text": [
            "               Date    Open    High       Low   Close\n",
            "ref_date                                             \n",
            "4 days   2017-10-13  356.98  358.49  353.6800  355.57\n",
            "3 days   2017-10-12  352.95  359.78  352.6400  355.68\n",
            "2 days   2017-10-11  353.89  357.60  351.1500  354.60\n",
            "1 days   2017-10-10  346.80  355.63  345.5305  355.59\n",
            "0 days   2017-10-09  349.65  351.75  342.6700  342.94\n"
          ]
        }
      ],
      "source": [
        "# 데이터를 수집한 이후 최초 5일의 데이터 추출\n",
        "print(tesla['5 days':].iloc[:5, :5])"
      ]
    },
    {
      "cell_type": "markdown",
      "metadata": {
        "id": "svHGs_WL1p4M"
      },
      "source": [
        "## 시간 범위와 인덱스"
      ]
    },
    {
      "cell_type": "markdown",
      "metadata": {
        "id": "iorq3ace1p4N"
      },
      "source": [
        "- 누락된 데이터도 포함시켜 데이터를 살펴보려면 임의로 시간 번위를 생성하여 인덱스로 지정해야 함"
      ]
    },
    {
      "cell_type": "code",
      "execution_count": null,
      "metadata": {
        "id": "zgThGnLX1p4N",
        "outputId": "089a72df-4b69-4570-ba27-b336a6a3e37c"
      },
      "outputs": [
        {
          "name": "stdout",
          "output_type": "stream",
          "text": [
            "        Date  Day  Cases_Guinea  Cases_Liberia  Cases_SierraLeone\n",
            "0 2015-01-05  289        2776.0            NaN            10030.0\n",
            "1 2015-01-04  288        2775.0            NaN             9780.0\n",
            "2 2015-01-03  287        2769.0         8166.0             9722.0\n",
            "3 2015-01-02  286           NaN         8157.0                NaN\n",
            "4 2014-12-31  284        2730.0         8115.0             9633.0\n"
          ]
        }
      ],
      "source": [
        "# 에볼라 데이터\n",
        "ebola = pd.read_csv('C:/Temp/country_timeseries.csv', parse_dates=[0])\n",
        "print(ebola.iloc[:5, :5])"
      ]
    },
    {
      "cell_type": "code",
      "execution_count": null,
      "metadata": {
        "id": "nRY__seH1p4N",
        "outputId": "6912c2c7-71f5-490e-99fc-34b1ffeda06e"
      },
      "outputs": [
        {
          "name": "stdout",
          "output_type": "stream",
          "text": [
            "          Date  Day  Cases_Guinea  Cases_Liberia  Cases_SierraLeone\n",
            "117 2014-03-27    5         103.0            8.0                6.0\n",
            "118 2014-03-26    4          86.0            NaN                NaN\n",
            "119 2014-03-25    3          86.0            NaN                NaN\n",
            "120 2014-03-24    2          86.0            NaN                NaN\n",
            "121 2014-03-22    0          49.0            NaN                NaN\n"
          ]
        }
      ],
      "source": [
        "# 뒤쪽 데이터 확인\n",
        "print(ebola.iloc[-5:, :5])"
      ]
    },
    {
      "cell_type": "code",
      "execution_count": null,
      "metadata": {
        "id": "po-DC2IG1p4N",
        "outputId": "1896924d-fbb7-4cb6-92ec-188faea2e110"
      },
      "outputs": [
        {
          "name": "stdout",
          "output_type": "stream",
          "text": [
            "DatetimeIndex(['2014-12-31', '2015-01-01', '2015-01-02', '2015-01-03',\n",
            "               '2015-01-04', '2015-01-05'],\n",
            "              dtype='datetime64[ns]', freq='D')\n"
          ]
        }
      ],
      "source": [
        "head_range = pd.date_range(start='2014-12-31', end='2015-01-05')\n",
        "print(head_range)"
      ]
    },
    {
      "cell_type": "code",
      "execution_count": null,
      "metadata": {
        "id": "e4JSlKea1p4N",
        "outputId": "0732ce04-8ec8-468a-8fbe-399ad0bf95c9"
      },
      "outputs": [
        {
          "name": "stdout",
          "output_type": "stream",
          "text": [
            "                 Date  Day  Cases_Guinea  Cases_Liberia  Cases_SierraLeone\n",
            "Date                                                                      \n",
            "2015-01-05 2015-01-05  289        2776.0            NaN            10030.0\n",
            "2015-01-04 2015-01-04  288        2775.0            NaN             9780.0\n",
            "2015-01-03 2015-01-03  287        2769.0         8166.0             9722.0\n",
            "2015-01-02 2015-01-02  286           NaN         8157.0                NaN\n",
            "2014-12-31 2014-12-31  284        2730.0         8115.0             9633.0\n"
          ]
        }
      ],
      "source": [
        "ebola_5 = ebola.head()\n",
        "ebola_5.index = ebola_5['Date']\n",
        "ebola_5.reindex(head_range)\n",
        "print(ebola_5.iloc[:5,:5])"
      ]
    },
    {
      "cell_type": "markdown",
      "metadata": {
        "id": "5wS8-y2y1p4N"
      },
      "source": [
        "## 시간 범위의 주기 설정하기"
      ]
    },
    {
      "cell_type": "markdown",
      "metadata": {
        "id": "u83TTDwL1p4N"
      },
      "source": [
        "- 시간 범위를 인덱스로 지정하면 DatetimeIndex 자료형이 만들어짐\n",
        "- DatetimeIndex에는 freq 속성이 포함되어 있음\n",
        "- freq 속성값을 지정하면 시간 간격을 조절하여 DatetimeIndex를 만들 수 있음"
      ]
    },
    {
      "cell_type": "markdown",
      "metadata": {
        "id": "zZ4AoBUJ1p4N"
      },
      "source": [
        "freq 속성값으로 사용할 수 있는 시간 주기"
      ]
    },
    {
      "cell_type": "markdown",
      "metadata": {
        "id": "8j7o2Yp61p4O"
      },
      "source": [
        "| 시간 주기 | 설명 |\n",
        "|---|---|\n",
        "| B | 평일만 포함 |\n",
        "| C | 사용자가 정의한 평일만 포함 |\n",
        "| D | 달력 일자 단위 |\n",
        "| W | 주간 단위 |\n",
        "| M | 월 마지막 날만 포함 |\n",
        "| SM | 15일과 월 마지막 날만 포함 |\n",
        "| BM | M 주기의 값이 휴일이면 제외하고 평일만 포함 |\n",
        "| CBM | BM에 사용자 정의 평일을 적용 |\n",
        "| MS | 월 시작일만 포함 |\n",
        "| SMS | 월 시작일과 15일만 포함 |\n",
        "| BMS | MS 주기의 값이 휴일이면 제외하고 평일만 포함 |\n",
        "| CBMS | BMS에 사용자 정의 평일을 적용 |\n",
        "| Q | 3 .6 , 9, 12월 분기 마지막 날만 포함 |\n",
        "| BQ | 3. 6, 9. 12월 분기 마지막 날이 휴얼어면 제외하고 평일만 포함 |\n",
        "| QS | 3. 6, 9, 12월 분기 시작일만 포함 |\n",
        "| BQS | 3, 6, 9, 12월 분기 시작일어 휴일이면 제외하고 평일만 포함 |\n",
        "| A | 년의 마지막 날만 포함 |\n",
        "| BA | 년의 마지막 날이 휴일이면 제외하고 평일만 포함 |\n",
        "| AS | 년의 시작일만 포함 |\n",
        "| BAS | 년의 시작일이 휴일이면 제외하고 평일만 포함 |\n",
        "| BH | 평일을 시간 단위로 포함(09:00 ~ 16:00) |\n",
        "| H | 시간 단위로 포함(00:00 ~ 00:00) |\n",
        "| T | 분 단위 포함 |\n",
        "| S | 초 단위 포함 |\n",
        "| L | 밀리초 단위 포함 |\n",
        "| U | 마이크로초 단위 포함 |\n",
        "| N | 나노초 단위 포함 |"
      ]
    },
    {
      "cell_type": "code",
      "execution_count": null,
      "metadata": {
        "id": "s4AB7aNf1p4O",
        "outputId": "a303cfb9-19b3-485a-8d45-24ff5fbd4a00"
      },
      "outputs": [
        {
          "name": "stdout",
          "output_type": "stream",
          "text": [
            "DatetimeIndex(['2017-01-02', '2017-01-03', '2017-01-04', '2017-01-05',\n",
            "               '2017-01-06'],\n",
            "              dtype='datetime64[ns]', freq='B')\n"
          ]
        }
      ],
      "source": [
        "# 평일만 포함시키기\n",
        "print(pd.date_range('2017-01-01', '2017-01-07', freq='B'))"
      ]
    }
  ],
  "metadata": {
    "kernelspec": {
      "display_name": "Python 3",
      "language": "python",
      "name": "python3"
    },
    "language_info": {
      "codemirror_mode": {
        "name": "ipython",
        "version": 3
      },
      "file_extension": ".py",
      "mimetype": "text/x-python",
      "name": "python",
      "nbconvert_exporter": "python",
      "pygments_lexer": "ipython3",
      "version": "3.8.5"
    },
    "colab": {
      "provenance": [],
      "include_colab_link": true
    }
  },
  "nbformat": 4,
  "nbformat_minor": 0
}