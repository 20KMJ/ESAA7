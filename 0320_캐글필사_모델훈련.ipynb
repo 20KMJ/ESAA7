{
  "nbformat": 4,
  "nbformat_minor": 0,
  "metadata": {
    "colab": {
      "provenance": [],
      "authorship_tag": "ABX9TyOOLjESMA5zvJhw18Z+ghPL",
      "include_colab_link": true
    },
    "kernelspec": {
      "name": "python3",
      "display_name": "Python 3"
    },
    "language_info": {
      "name": "python"
    }
  },
  "cells": [
    {
      "cell_type": "markdown",
      "metadata": {
        "id": "view-in-github",
        "colab_type": "text"
      },
      "source": [
        "<a href=\"https://colab.research.google.com/github/20KMJ/ESAA7/blob/main/0320_%EC%BA%90%EA%B8%80%ED%95%84%EC%82%AC_%EB%AA%A8%EB%8D%B8%ED%9B%88%EB%A0%A8.ipynb\" target=\"_parent\"><img src=\"https://colab.research.google.com/assets/colab-badge.svg\" alt=\"Open In Colab\"/></a>"
      ]
    },
    {
      "cell_type": "markdown",
      "source": [
        "# **Stacked Regressions to predict House Prices**"
      ],
      "metadata": {
        "id": "KUcESnvsXd4w"
      }
    },
    {
      "cell_type": "code",
      "source": [
        "# import libraries\n",
        "\n",
        "import numpy as np\n",
        "import pandas as pd\n",
        "%matplotlib inline\n",
        "import matplotlib.pyplot as plt\n",
        "import seaborn as sns\n",
        "color = sns.color_palette()\n",
        "sns.set_style('darkgrid')\n",
        "import warnings\n",
        "def ignore_warn(*args, **kwargs):\n",
        "  pass\n",
        "warnings.warn = ignore_warn\n",
        "\n",
        "from scipy import stats\n",
        "from scipy.stats import norm, skew\n",
        "\n",
        "pd.set_option('display.float_format', lambda x: '{:.3f}'.format(x))"
      ],
      "metadata": {
        "id": "a3Ko1sPAXiW1"
      },
      "execution_count": 1,
      "outputs": []
    },
    {
      "cell_type": "code",
      "source": [
        "from google.colab import drive\n",
        "drive.mount(\"/content/drive\")\n",
        "\n",
        "# 경로 이동\n",
        "%cd /content/drive/MyDrive/ESAA/OB/과제"
      ],
      "metadata": {
        "colab": {
          "base_uri": "https://localhost:8080/"
        },
        "id": "oohTNA0jcec_",
        "outputId": "901760dd-8f30-44c6-b947-9a8e15921d6f"
      },
      "execution_count": 2,
      "outputs": [
        {
          "output_type": "stream",
          "name": "stdout",
          "text": [
            "Mounted at /content/drive\n",
            "/content/drive/MyDrive/ESAA/OB/과제\n"
          ]
        }
      ]
    },
    {
      "cell_type": "code",
      "source": [
        "train = pd.read_csv('data/HousePrices_train.csv')\n",
        "test = pd.read_csv('data/HousePrices_test.csv')"
      ],
      "metadata": {
        "id": "eM0A5Toycst2"
      },
      "execution_count": 3,
      "outputs": []
    },
    {
      "cell_type": "code",
      "source": [
        "train.head(5)"
      ],
      "metadata": {
        "colab": {
          "base_uri": "https://localhost:8080/",
          "height": 0
        },
        "id": "Vdmpui47c1_9",
        "outputId": "4ab949f8-c9ec-48a7-f5a3-5719cadf6097"
      },
      "execution_count": 4,
      "outputs": [
        {
          "output_type": "execute_result",
          "data": {
            "text/plain": [
              "   Id  MSSubClass MSZoning  LotFrontage  LotArea Street Alley LotShape  \\\n",
              "0   1          60       RL       65.000     8450   Pave   NaN      Reg   \n",
              "1   2          20       RL       80.000     9600   Pave   NaN      Reg   \n",
              "2   3          60       RL       68.000    11250   Pave   NaN      IR1   \n",
              "3   4          70       RL       60.000     9550   Pave   NaN      IR1   \n",
              "4   5          60       RL       84.000    14260   Pave   NaN      IR1   \n",
              "\n",
              "  LandContour Utilities  ... PoolArea PoolQC Fence MiscFeature MiscVal MoSold  \\\n",
              "0         Lvl    AllPub  ...        0    NaN   NaN         NaN       0      2   \n",
              "1         Lvl    AllPub  ...        0    NaN   NaN         NaN       0      5   \n",
              "2         Lvl    AllPub  ...        0    NaN   NaN         NaN       0      9   \n",
              "3         Lvl    AllPub  ...        0    NaN   NaN         NaN       0      2   \n",
              "4         Lvl    AllPub  ...        0    NaN   NaN         NaN       0     12   \n",
              "\n",
              "  YrSold  SaleType  SaleCondition  SalePrice  \n",
              "0   2008        WD         Normal     208500  \n",
              "1   2007        WD         Normal     181500  \n",
              "2   2008        WD         Normal     223500  \n",
              "3   2006        WD        Abnorml     140000  \n",
              "4   2008        WD         Normal     250000  \n",
              "\n",
              "[5 rows x 81 columns]"
            ],
            "text/html": [
              "\n",
              "  <div id=\"df-3162fe2b-fa1d-42ce-a14b-8a3ed3a19070\">\n",
              "    <div class=\"colab-df-container\">\n",
              "      <div>\n",
              "<style scoped>\n",
              "    .dataframe tbody tr th:only-of-type {\n",
              "        vertical-align: middle;\n",
              "    }\n",
              "\n",
              "    .dataframe tbody tr th {\n",
              "        vertical-align: top;\n",
              "    }\n",
              "\n",
              "    .dataframe thead th {\n",
              "        text-align: right;\n",
              "    }\n",
              "</style>\n",
              "<table border=\"1\" class=\"dataframe\">\n",
              "  <thead>\n",
              "    <tr style=\"text-align: right;\">\n",
              "      <th></th>\n",
              "      <th>Id</th>\n",
              "      <th>MSSubClass</th>\n",
              "      <th>MSZoning</th>\n",
              "      <th>LotFrontage</th>\n",
              "      <th>LotArea</th>\n",
              "      <th>Street</th>\n",
              "      <th>Alley</th>\n",
              "      <th>LotShape</th>\n",
              "      <th>LandContour</th>\n",
              "      <th>Utilities</th>\n",
              "      <th>...</th>\n",
              "      <th>PoolArea</th>\n",
              "      <th>PoolQC</th>\n",
              "      <th>Fence</th>\n",
              "      <th>MiscFeature</th>\n",
              "      <th>MiscVal</th>\n",
              "      <th>MoSold</th>\n",
              "      <th>YrSold</th>\n",
              "      <th>SaleType</th>\n",
              "      <th>SaleCondition</th>\n",
              "      <th>SalePrice</th>\n",
              "    </tr>\n",
              "  </thead>\n",
              "  <tbody>\n",
              "    <tr>\n",
              "      <th>0</th>\n",
              "      <td>1</td>\n",
              "      <td>60</td>\n",
              "      <td>RL</td>\n",
              "      <td>65.000</td>\n",
              "      <td>8450</td>\n",
              "      <td>Pave</td>\n",
              "      <td>NaN</td>\n",
              "      <td>Reg</td>\n",
              "      <td>Lvl</td>\n",
              "      <td>AllPub</td>\n",
              "      <td>...</td>\n",
              "      <td>0</td>\n",
              "      <td>NaN</td>\n",
              "      <td>NaN</td>\n",
              "      <td>NaN</td>\n",
              "      <td>0</td>\n",
              "      <td>2</td>\n",
              "      <td>2008</td>\n",
              "      <td>WD</td>\n",
              "      <td>Normal</td>\n",
              "      <td>208500</td>\n",
              "    </tr>\n",
              "    <tr>\n",
              "      <th>1</th>\n",
              "      <td>2</td>\n",
              "      <td>20</td>\n",
              "      <td>RL</td>\n",
              "      <td>80.000</td>\n",
              "      <td>9600</td>\n",
              "      <td>Pave</td>\n",
              "      <td>NaN</td>\n",
              "      <td>Reg</td>\n",
              "      <td>Lvl</td>\n",
              "      <td>AllPub</td>\n",
              "      <td>...</td>\n",
              "      <td>0</td>\n",
              "      <td>NaN</td>\n",
              "      <td>NaN</td>\n",
              "      <td>NaN</td>\n",
              "      <td>0</td>\n",
              "      <td>5</td>\n",
              "      <td>2007</td>\n",
              "      <td>WD</td>\n",
              "      <td>Normal</td>\n",
              "      <td>181500</td>\n",
              "    </tr>\n",
              "    <tr>\n",
              "      <th>2</th>\n",
              "      <td>3</td>\n",
              "      <td>60</td>\n",
              "      <td>RL</td>\n",
              "      <td>68.000</td>\n",
              "      <td>11250</td>\n",
              "      <td>Pave</td>\n",
              "      <td>NaN</td>\n",
              "      <td>IR1</td>\n",
              "      <td>Lvl</td>\n",
              "      <td>AllPub</td>\n",
              "      <td>...</td>\n",
              "      <td>0</td>\n",
              "      <td>NaN</td>\n",
              "      <td>NaN</td>\n",
              "      <td>NaN</td>\n",
              "      <td>0</td>\n",
              "      <td>9</td>\n",
              "      <td>2008</td>\n",
              "      <td>WD</td>\n",
              "      <td>Normal</td>\n",
              "      <td>223500</td>\n",
              "    </tr>\n",
              "    <tr>\n",
              "      <th>3</th>\n",
              "      <td>4</td>\n",
              "      <td>70</td>\n",
              "      <td>RL</td>\n",
              "      <td>60.000</td>\n",
              "      <td>9550</td>\n",
              "      <td>Pave</td>\n",
              "      <td>NaN</td>\n",
              "      <td>IR1</td>\n",
              "      <td>Lvl</td>\n",
              "      <td>AllPub</td>\n",
              "      <td>...</td>\n",
              "      <td>0</td>\n",
              "      <td>NaN</td>\n",
              "      <td>NaN</td>\n",
              "      <td>NaN</td>\n",
              "      <td>0</td>\n",
              "      <td>2</td>\n",
              "      <td>2006</td>\n",
              "      <td>WD</td>\n",
              "      <td>Abnorml</td>\n",
              "      <td>140000</td>\n",
              "    </tr>\n",
              "    <tr>\n",
              "      <th>4</th>\n",
              "      <td>5</td>\n",
              "      <td>60</td>\n",
              "      <td>RL</td>\n",
              "      <td>84.000</td>\n",
              "      <td>14260</td>\n",
              "      <td>Pave</td>\n",
              "      <td>NaN</td>\n",
              "      <td>IR1</td>\n",
              "      <td>Lvl</td>\n",
              "      <td>AllPub</td>\n",
              "      <td>...</td>\n",
              "      <td>0</td>\n",
              "      <td>NaN</td>\n",
              "      <td>NaN</td>\n",
              "      <td>NaN</td>\n",
              "      <td>0</td>\n",
              "      <td>12</td>\n",
              "      <td>2008</td>\n",
              "      <td>WD</td>\n",
              "      <td>Normal</td>\n",
              "      <td>250000</td>\n",
              "    </tr>\n",
              "  </tbody>\n",
              "</table>\n",
              "<p>5 rows × 81 columns</p>\n",
              "</div>\n",
              "      <button class=\"colab-df-convert\" onclick=\"convertToInteractive('df-3162fe2b-fa1d-42ce-a14b-8a3ed3a19070')\"\n",
              "              title=\"Convert this dataframe to an interactive table.\"\n",
              "              style=\"display:none;\">\n",
              "        \n",
              "  <svg xmlns=\"http://www.w3.org/2000/svg\" height=\"24px\"viewBox=\"0 0 24 24\"\n",
              "       width=\"24px\">\n",
              "    <path d=\"M0 0h24v24H0V0z\" fill=\"none\"/>\n",
              "    <path d=\"M18.56 5.44l.94 2.06.94-2.06 2.06-.94-2.06-.94-.94-2.06-.94 2.06-2.06.94zm-11 1L8.5 8.5l.94-2.06 2.06-.94-2.06-.94L8.5 2.5l-.94 2.06-2.06.94zm10 10l.94 2.06.94-2.06 2.06-.94-2.06-.94-.94-2.06-.94 2.06-2.06.94z\"/><path d=\"M17.41 7.96l-1.37-1.37c-.4-.4-.92-.59-1.43-.59-.52 0-1.04.2-1.43.59L10.3 9.45l-7.72 7.72c-.78.78-.78 2.05 0 2.83L4 21.41c.39.39.9.59 1.41.59.51 0 1.02-.2 1.41-.59l7.78-7.78 2.81-2.81c.8-.78.8-2.07 0-2.86zM5.41 20L4 18.59l7.72-7.72 1.47 1.35L5.41 20z\"/>\n",
              "  </svg>\n",
              "      </button>\n",
              "      \n",
              "  <style>\n",
              "    .colab-df-container {\n",
              "      display:flex;\n",
              "      flex-wrap:wrap;\n",
              "      gap: 12px;\n",
              "    }\n",
              "\n",
              "    .colab-df-convert {\n",
              "      background-color: #E8F0FE;\n",
              "      border: none;\n",
              "      border-radius: 50%;\n",
              "      cursor: pointer;\n",
              "      display: none;\n",
              "      fill: #1967D2;\n",
              "      height: 32px;\n",
              "      padding: 0 0 0 0;\n",
              "      width: 32px;\n",
              "    }\n",
              "\n",
              "    .colab-df-convert:hover {\n",
              "      background-color: #E2EBFA;\n",
              "      box-shadow: 0px 1px 2px rgba(60, 64, 67, 0.3), 0px 1px 3px 1px rgba(60, 64, 67, 0.15);\n",
              "      fill: #174EA6;\n",
              "    }\n",
              "\n",
              "    [theme=dark] .colab-df-convert {\n",
              "      background-color: #3B4455;\n",
              "      fill: #D2E3FC;\n",
              "    }\n",
              "\n",
              "    [theme=dark] .colab-df-convert:hover {\n",
              "      background-color: #434B5C;\n",
              "      box-shadow: 0px 1px 3px 1px rgba(0, 0, 0, 0.15);\n",
              "      filter: drop-shadow(0px 1px 2px rgba(0, 0, 0, 0.3));\n",
              "      fill: #FFFFFF;\n",
              "    }\n",
              "  </style>\n",
              "\n",
              "      <script>\n",
              "        const buttonEl =\n",
              "          document.querySelector('#df-3162fe2b-fa1d-42ce-a14b-8a3ed3a19070 button.colab-df-convert');\n",
              "        buttonEl.style.display =\n",
              "          google.colab.kernel.accessAllowed ? 'block' : 'none';\n",
              "\n",
              "        async function convertToInteractive(key) {\n",
              "          const element = document.querySelector('#df-3162fe2b-fa1d-42ce-a14b-8a3ed3a19070');\n",
              "          const dataTable =\n",
              "            await google.colab.kernel.invokeFunction('convertToInteractive',\n",
              "                                                     [key], {});\n",
              "          if (!dataTable) return;\n",
              "\n",
              "          const docLinkHtml = 'Like what you see? Visit the ' +\n",
              "            '<a target=\"_blank\" href=https://colab.research.google.com/notebooks/data_table.ipynb>data table notebook</a>'\n",
              "            + ' to learn more about interactive tables.';\n",
              "          element.innerHTML = '';\n",
              "          dataTable['output_type'] = 'display_data';\n",
              "          await google.colab.output.renderOutput(dataTable, element);\n",
              "          const docLink = document.createElement('div');\n",
              "          docLink.innerHTML = docLinkHtml;\n",
              "          element.appendChild(docLink);\n",
              "        }\n",
              "      </script>\n",
              "    </div>\n",
              "  </div>\n",
              "  "
            ]
          },
          "metadata": {},
          "execution_count": 4
        }
      ]
    },
    {
      "cell_type": "code",
      "source": [
        "test.head(5)"
      ],
      "metadata": {
        "colab": {
          "base_uri": "https://localhost:8080/",
          "height": 0
        },
        "id": "zTYCb0FKdEPj",
        "outputId": "9c33ecb6-f0c2-4a0e-ce21-dde8a530d51e"
      },
      "execution_count": 5,
      "outputs": [
        {
          "output_type": "execute_result",
          "data": {
            "text/plain": [
              "     Id  MSSubClass MSZoning  LotFrontage  LotArea Street Alley LotShape  \\\n",
              "0  1461          20       RH       80.000    11622   Pave   NaN      Reg   \n",
              "1  1462          20       RL       81.000    14267   Pave   NaN      IR1   \n",
              "2  1463          60       RL       74.000    13830   Pave   NaN      IR1   \n",
              "3  1464          60       RL       78.000     9978   Pave   NaN      IR1   \n",
              "4  1465         120       RL       43.000     5005   Pave   NaN      IR1   \n",
              "\n",
              "  LandContour Utilities  ... ScreenPorch PoolArea PoolQC  Fence MiscFeature  \\\n",
              "0         Lvl    AllPub  ...         120        0    NaN  MnPrv         NaN   \n",
              "1         Lvl    AllPub  ...           0        0    NaN    NaN        Gar2   \n",
              "2         Lvl    AllPub  ...           0        0    NaN  MnPrv         NaN   \n",
              "3         Lvl    AllPub  ...           0        0    NaN    NaN         NaN   \n",
              "4         HLS    AllPub  ...         144        0    NaN    NaN         NaN   \n",
              "\n",
              "  MiscVal MoSold  YrSold  SaleType  SaleCondition  \n",
              "0       0      6    2010        WD         Normal  \n",
              "1   12500      6    2010        WD         Normal  \n",
              "2       0      3    2010        WD         Normal  \n",
              "3       0      6    2010        WD         Normal  \n",
              "4       0      1    2010        WD         Normal  \n",
              "\n",
              "[5 rows x 80 columns]"
            ],
            "text/html": [
              "\n",
              "  <div id=\"df-7ea10639-208a-470c-8cc4-bbb61ec71766\">\n",
              "    <div class=\"colab-df-container\">\n",
              "      <div>\n",
              "<style scoped>\n",
              "    .dataframe tbody tr th:only-of-type {\n",
              "        vertical-align: middle;\n",
              "    }\n",
              "\n",
              "    .dataframe tbody tr th {\n",
              "        vertical-align: top;\n",
              "    }\n",
              "\n",
              "    .dataframe thead th {\n",
              "        text-align: right;\n",
              "    }\n",
              "</style>\n",
              "<table border=\"1\" class=\"dataframe\">\n",
              "  <thead>\n",
              "    <tr style=\"text-align: right;\">\n",
              "      <th></th>\n",
              "      <th>Id</th>\n",
              "      <th>MSSubClass</th>\n",
              "      <th>MSZoning</th>\n",
              "      <th>LotFrontage</th>\n",
              "      <th>LotArea</th>\n",
              "      <th>Street</th>\n",
              "      <th>Alley</th>\n",
              "      <th>LotShape</th>\n",
              "      <th>LandContour</th>\n",
              "      <th>Utilities</th>\n",
              "      <th>...</th>\n",
              "      <th>ScreenPorch</th>\n",
              "      <th>PoolArea</th>\n",
              "      <th>PoolQC</th>\n",
              "      <th>Fence</th>\n",
              "      <th>MiscFeature</th>\n",
              "      <th>MiscVal</th>\n",
              "      <th>MoSold</th>\n",
              "      <th>YrSold</th>\n",
              "      <th>SaleType</th>\n",
              "      <th>SaleCondition</th>\n",
              "    </tr>\n",
              "  </thead>\n",
              "  <tbody>\n",
              "    <tr>\n",
              "      <th>0</th>\n",
              "      <td>1461</td>\n",
              "      <td>20</td>\n",
              "      <td>RH</td>\n",
              "      <td>80.000</td>\n",
              "      <td>11622</td>\n",
              "      <td>Pave</td>\n",
              "      <td>NaN</td>\n",
              "      <td>Reg</td>\n",
              "      <td>Lvl</td>\n",
              "      <td>AllPub</td>\n",
              "      <td>...</td>\n",
              "      <td>120</td>\n",
              "      <td>0</td>\n",
              "      <td>NaN</td>\n",
              "      <td>MnPrv</td>\n",
              "      <td>NaN</td>\n",
              "      <td>0</td>\n",
              "      <td>6</td>\n",
              "      <td>2010</td>\n",
              "      <td>WD</td>\n",
              "      <td>Normal</td>\n",
              "    </tr>\n",
              "    <tr>\n",
              "      <th>1</th>\n",
              "      <td>1462</td>\n",
              "      <td>20</td>\n",
              "      <td>RL</td>\n",
              "      <td>81.000</td>\n",
              "      <td>14267</td>\n",
              "      <td>Pave</td>\n",
              "      <td>NaN</td>\n",
              "      <td>IR1</td>\n",
              "      <td>Lvl</td>\n",
              "      <td>AllPub</td>\n",
              "      <td>...</td>\n",
              "      <td>0</td>\n",
              "      <td>0</td>\n",
              "      <td>NaN</td>\n",
              "      <td>NaN</td>\n",
              "      <td>Gar2</td>\n",
              "      <td>12500</td>\n",
              "      <td>6</td>\n",
              "      <td>2010</td>\n",
              "      <td>WD</td>\n",
              "      <td>Normal</td>\n",
              "    </tr>\n",
              "    <tr>\n",
              "      <th>2</th>\n",
              "      <td>1463</td>\n",
              "      <td>60</td>\n",
              "      <td>RL</td>\n",
              "      <td>74.000</td>\n",
              "      <td>13830</td>\n",
              "      <td>Pave</td>\n",
              "      <td>NaN</td>\n",
              "      <td>IR1</td>\n",
              "      <td>Lvl</td>\n",
              "      <td>AllPub</td>\n",
              "      <td>...</td>\n",
              "      <td>0</td>\n",
              "      <td>0</td>\n",
              "      <td>NaN</td>\n",
              "      <td>MnPrv</td>\n",
              "      <td>NaN</td>\n",
              "      <td>0</td>\n",
              "      <td>3</td>\n",
              "      <td>2010</td>\n",
              "      <td>WD</td>\n",
              "      <td>Normal</td>\n",
              "    </tr>\n",
              "    <tr>\n",
              "      <th>3</th>\n",
              "      <td>1464</td>\n",
              "      <td>60</td>\n",
              "      <td>RL</td>\n",
              "      <td>78.000</td>\n",
              "      <td>9978</td>\n",
              "      <td>Pave</td>\n",
              "      <td>NaN</td>\n",
              "      <td>IR1</td>\n",
              "      <td>Lvl</td>\n",
              "      <td>AllPub</td>\n",
              "      <td>...</td>\n",
              "      <td>0</td>\n",
              "      <td>0</td>\n",
              "      <td>NaN</td>\n",
              "      <td>NaN</td>\n",
              "      <td>NaN</td>\n",
              "      <td>0</td>\n",
              "      <td>6</td>\n",
              "      <td>2010</td>\n",
              "      <td>WD</td>\n",
              "      <td>Normal</td>\n",
              "    </tr>\n",
              "    <tr>\n",
              "      <th>4</th>\n",
              "      <td>1465</td>\n",
              "      <td>120</td>\n",
              "      <td>RL</td>\n",
              "      <td>43.000</td>\n",
              "      <td>5005</td>\n",
              "      <td>Pave</td>\n",
              "      <td>NaN</td>\n",
              "      <td>IR1</td>\n",
              "      <td>HLS</td>\n",
              "      <td>AllPub</td>\n",
              "      <td>...</td>\n",
              "      <td>144</td>\n",
              "      <td>0</td>\n",
              "      <td>NaN</td>\n",
              "      <td>NaN</td>\n",
              "      <td>NaN</td>\n",
              "      <td>0</td>\n",
              "      <td>1</td>\n",
              "      <td>2010</td>\n",
              "      <td>WD</td>\n",
              "      <td>Normal</td>\n",
              "    </tr>\n",
              "  </tbody>\n",
              "</table>\n",
              "<p>5 rows × 80 columns</p>\n",
              "</div>\n",
              "      <button class=\"colab-df-convert\" onclick=\"convertToInteractive('df-7ea10639-208a-470c-8cc4-bbb61ec71766')\"\n",
              "              title=\"Convert this dataframe to an interactive table.\"\n",
              "              style=\"display:none;\">\n",
              "        \n",
              "  <svg xmlns=\"http://www.w3.org/2000/svg\" height=\"24px\"viewBox=\"0 0 24 24\"\n",
              "       width=\"24px\">\n",
              "    <path d=\"M0 0h24v24H0V0z\" fill=\"none\"/>\n",
              "    <path d=\"M18.56 5.44l.94 2.06.94-2.06 2.06-.94-2.06-.94-.94-2.06-.94 2.06-2.06.94zm-11 1L8.5 8.5l.94-2.06 2.06-.94-2.06-.94L8.5 2.5l-.94 2.06-2.06.94zm10 10l.94 2.06.94-2.06 2.06-.94-2.06-.94-.94-2.06-.94 2.06-2.06.94z\"/><path d=\"M17.41 7.96l-1.37-1.37c-.4-.4-.92-.59-1.43-.59-.52 0-1.04.2-1.43.59L10.3 9.45l-7.72 7.72c-.78.78-.78 2.05 0 2.83L4 21.41c.39.39.9.59 1.41.59.51 0 1.02-.2 1.41-.59l7.78-7.78 2.81-2.81c.8-.78.8-2.07 0-2.86zM5.41 20L4 18.59l7.72-7.72 1.47 1.35L5.41 20z\"/>\n",
              "  </svg>\n",
              "      </button>\n",
              "      \n",
              "  <style>\n",
              "    .colab-df-container {\n",
              "      display:flex;\n",
              "      flex-wrap:wrap;\n",
              "      gap: 12px;\n",
              "    }\n",
              "\n",
              "    .colab-df-convert {\n",
              "      background-color: #E8F0FE;\n",
              "      border: none;\n",
              "      border-radius: 50%;\n",
              "      cursor: pointer;\n",
              "      display: none;\n",
              "      fill: #1967D2;\n",
              "      height: 32px;\n",
              "      padding: 0 0 0 0;\n",
              "      width: 32px;\n",
              "    }\n",
              "\n",
              "    .colab-df-convert:hover {\n",
              "      background-color: #E2EBFA;\n",
              "      box-shadow: 0px 1px 2px rgba(60, 64, 67, 0.3), 0px 1px 3px 1px rgba(60, 64, 67, 0.15);\n",
              "      fill: #174EA6;\n",
              "    }\n",
              "\n",
              "    [theme=dark] .colab-df-convert {\n",
              "      background-color: #3B4455;\n",
              "      fill: #D2E3FC;\n",
              "    }\n",
              "\n",
              "    [theme=dark] .colab-df-convert:hover {\n",
              "      background-color: #434B5C;\n",
              "      box-shadow: 0px 1px 3px 1px rgba(0, 0, 0, 0.15);\n",
              "      filter: drop-shadow(0px 1px 2px rgba(0, 0, 0, 0.3));\n",
              "      fill: #FFFFFF;\n",
              "    }\n",
              "  </style>\n",
              "\n",
              "      <script>\n",
              "        const buttonEl =\n",
              "          document.querySelector('#df-7ea10639-208a-470c-8cc4-bbb61ec71766 button.colab-df-convert');\n",
              "        buttonEl.style.display =\n",
              "          google.colab.kernel.accessAllowed ? 'block' : 'none';\n",
              "\n",
              "        async function convertToInteractive(key) {\n",
              "          const element = document.querySelector('#df-7ea10639-208a-470c-8cc4-bbb61ec71766');\n",
              "          const dataTable =\n",
              "            await google.colab.kernel.invokeFunction('convertToInteractive',\n",
              "                                                     [key], {});\n",
              "          if (!dataTable) return;\n",
              "\n",
              "          const docLinkHtml = 'Like what you see? Visit the ' +\n",
              "            '<a target=\"_blank\" href=https://colab.research.google.com/notebooks/data_table.ipynb>data table notebook</a>'\n",
              "            + ' to learn more about interactive tables.';\n",
              "          element.innerHTML = '';\n",
              "          dataTable['output_type'] = 'display_data';\n",
              "          await google.colab.output.renderOutput(dataTable, element);\n",
              "          const docLink = document.createElement('div');\n",
              "          docLink.innerHTML = docLinkHtml;\n",
              "          element.appendChild(docLink);\n",
              "        }\n",
              "      </script>\n",
              "    </div>\n",
              "  </div>\n",
              "  "
            ]
          },
          "metadata": {},
          "execution_count": 5
        }
      ]
    },
    {
      "cell_type": "code",
      "source": [
        "print(\"The train data size before dropping Id feature is : {} \".format(train.shape))\n",
        "print(\"The test data size before dropping Id feature is : {} \".format(test.shape))\n",
        "\n",
        "train_ID = train['Id']\n",
        "test_ID = test['Id']\n",
        "\n",
        "train.drop(\"Id\", axis = 1, inplace = True)\n",
        "test.drop(\"Id\", axis = 1, inplace = True)\n",
        "\n",
        "print(\"\\nThe train data size after dropping Id feature is : {} \".format(train.shape)) \n",
        "print(\"The test data size after dropping Id feature is : {} \".format(test.shape))"
      ],
      "metadata": {
        "colab": {
          "base_uri": "https://localhost:8080/"
        },
        "id": "rBf3VptfdGYw",
        "outputId": "f7963c08-cc71-4536-ae96-cbbf0b9592d5"
      },
      "execution_count": 6,
      "outputs": [
        {
          "output_type": "stream",
          "name": "stdout",
          "text": [
            "The train data size before dropping Id feature is : (1460, 81) \n",
            "The test data size before dropping Id feature is : (1459, 80) \n",
            "\n",
            "The train data size after dropping Id feature is : (1460, 80) \n",
            "The test data size after dropping Id feature is : (1459, 79) \n"
          ]
        }
      ]
    },
    {
      "cell_type": "markdown",
      "source": [
        "# Data Processing"
      ],
      "metadata": {
        "id": "9-szKtqnZfUj"
      }
    },
    {
      "cell_type": "markdown",
      "source": [
        "## **Outliers**"
      ],
      "metadata": {
        "id": "3GRioDmoaYwF"
      }
    },
    {
      "cell_type": "code",
      "source": [
        "fig, ax = plt.subplots()\n",
        "ax.scatter(x = train['GrLivArea'], y = train['SalePrice'])\n",
        "plt.ylabel('SalePrice', fontsize=13)\n",
        "plt.xlabel('GrLivArea', fontsize=13)\n",
        "plt.show()"
      ],
      "metadata": {
        "colab": {
          "base_uri": "https://localhost:8080/",
          "height": 0
        },
        "id": "q5aLdttud2qP",
        "outputId": "556e5374-5b68-46b4-c002-42d125e3e7ec"
      },
      "execution_count": 7,
      "outputs": [
        {
          "output_type": "display_data",
          "data": {
            "text/plain": [
              "<Figure size 432x288 with 1 Axes>"
            ],
            "image/png": "[encoded data removed]"
          },
          "metadata": {}
        }
      ]
    },
    {
      "cell_type": "markdown",
      "source": [
        "- 오른쪽 아래에 2개의 outlier 존재 -> 삭제"
      ],
      "metadata": {
        "id": "i_pFPpAZeIKs"
      }
    },
    {
      "cell_type": "code",
      "source": [
        "# Deleting outliers\n",
        "train = train.drop(train[(train['GrLivArea']>4000) & (train['SalePrice']<300000)].index)\n",
        "\n",
        "fig, ax = plt.subplots()\n",
        "ax.scatter(train['GrLivArea'], train['SalePrice'])\n",
        "plt.ylabel('SalePrice', fontsize=13)\n",
        "plt.xlabel('GrLivArea', fontsize=13)\n",
        "plt.show()"
      ],
      "metadata": {
        "colab": {
          "base_uri": "https://localhost:8080/",
          "height": 0
        },
        "id": "cPndF7PMeaV5",
        "outputId": "98b8c6fe-170f-47f9-d56e-8474347b754f"
      },
      "execution_count": 8,
      "outputs": [
        {
          "output_type": "display_data",
          "data": {
            "text/plain": [
              "<Figure size 432x288 with 1 Axes>"
            ],
            "image/png": "[encoded data removed]"
          },
          "metadata": {}
        }
      ]
    },
    {
      "cell_type": "markdown",
      "source": [
        "## **Target Variable** - SalePrice"
      ],
      "metadata": {
        "id": "NfLcQsgaaUnJ"
      }
    },
    {
      "cell_type": "code",
      "source": [
        "sns.distplot(train['SalePrice'] , fit=norm)\n",
        "\n",
        "# fitted parameters\n",
        "(mu, sigma) = norm.fit(train['SalePrice'])\n",
        "print( '\\n mu = {:.2f} and sigma = {:.2f}\\n'.format(mu, sigma))\n",
        "\n",
        "plt.legend(['Normal dist. ($\\mu=$ {:.2f} and $\\sigma=$ {:.2f} )'.format(mu, sigma)],\n",
        "            loc='best')\n",
        "plt.ylabel('Frequency')\n",
        "plt.title('SalePrice distribution')"
      ],
      "metadata": {
        "colab": {
          "base_uri": "https://localhost:8080/",
          "height": 0
        },
        "id": "uKLGK3pvfeGZ",
        "outputId": "33f03f1e-a389-43b0-dd34-03cc5b1542f2"
      },
      "execution_count": 9,
      "outputs": [
        {
          "output_type": "stream",
          "name": "stdout",
          "text": [
            "\n",
            " mu = 180932.92 and sigma = 79467.79\n",
            "\n"
          ]
        },
        {
          "output_type": "execute_result",
          "data": {
            "text/plain": [
              "Text(0.5, 1.0, 'SalePrice distribution')"
            ]
          },
          "metadata": {},
          "execution_count": 9
        },
        {
          "output_type": "display_data",
          "data": {
            "text/plain": [
              "<Figure size 432x288 with 1 Axes>"
            ],
            "image/png": "[encoded data removed]"
          },
          "metadata": {}
        }
      ]
    },
    {
      "cell_type": "markdown",
      "source": [
        "- 오류 수정: 검정 선이 normal dist"
      ],
      "metadata": {
        "id": "68VPuk7ejzXv"
      }
    },
    {
      "cell_type": "code",
      "source": [
        "# QQ-plot\n",
        "fig = plt.figure()\n",
        "res = stats.probplot(train['SalePrice'], plot=plt)\n",
        "plt.show()"
      ],
      "metadata": {
        "colab": {
          "base_uri": "https://localhost:8080/",
          "height": 0
        },
        "id": "uzfY_2-UhvJn",
        "outputId": "44eed405-0841-4c84-a01f-10536c8a6b79"
      },
      "execution_count": 10,
      "outputs": [
        {
          "output_type": "display_data",
          "data": {
            "text/plain": [
              "<Figure size 432x288 with 1 Axes>"
            ],
            "image/png": "[encoded data removed]"
          },
          "metadata": {}
        }
      ]
    },
    {
      "cell_type": "markdown",
      "source": [
        "- target variable(SalePrice)는 skewed right\n",
        "- 정규 분포 형태로 변환 필요"
      ],
      "metadata": {
        "id": "Gt_4tbjSh8Vi"
      }
    },
    {
      "cell_type": "code",
      "source": [
        "# fitted parameters\n",
        "(mu, sigma) = norm.fit(train['SalePrice'])\n",
        "print( '\\n mu = {:.2f} and sigma = {:.2f}\\n'.format(mu, sigma))"
      ],
      "metadata": {
        "colab": {
          "base_uri": "https://localhost:8080/"
        },
        "id": "2Vom4IjUfs2r",
        "outputId": "44a01596-2ba5-4c53-aa31-2874eac358eb"
      },
      "execution_count": 11,
      "outputs": [
        {
          "output_type": "stream",
          "name": "stdout",
          "text": [
            "\n",
            " mu = 180932.92 and sigma = 79467.79\n",
            "\n"
          ]
        }
      ]
    },
    {
      "cell_type": "markdown",
      "source": [
        "#### Log-transformation of the target variable"
      ],
      "metadata": {
        "id": "BIN2u7Ixf7oV"
      }
    },
    {
      "cell_type": "code",
      "source": [
        "train[\"SalePrice\"] = np.log1p(train[\"SalePrice\"])\n",
        "\n",
        "sns.distplot(train['SalePrice'] , fit=norm)\n",
        "\n",
        "(mu, sigma) = norm.fit(train['SalePrice'])\n",
        "print( '\\n mu = {:.2f} and sigma = {:.2f}\\n'.format(mu, sigma))\n",
        "\n",
        "plt.legend(['Normal dist. ($\\mu=$ {:.2f} and $\\sigma=$ {:.2f} )'.format(mu, sigma)],\n",
        "            loc='best')\n",
        "plt.ylabel('Frequency')\n",
        "plt.title('SalePrice distribution')"
      ],
      "metadata": {
        "colab": {
          "base_uri": "https://localhost:8080/",
          "height": 0
        },
        "id": "Kzj_5p8PiipI",
        "outputId": "02dd312d-1940-4bb0-edc2-94a6deb95b24"
      },
      "execution_count": 12,
      "outputs": [
        {
          "output_type": "stream",
          "name": "stdout",
          "text": [
            "\n",
            " mu = 12.02 and sigma = 0.40\n",
            "\n"
          ]
        },
        {
          "output_type": "execute_result",
          "data": {
            "text/plain": [
              "Text(0.5, 1.0, 'SalePrice distribution')"
            ]
          },
          "metadata": {},
          "execution_count": 12
        },
        {
          "output_type": "display_data",
          "data": {
            "text/plain": [
              "<Figure size 432x288 with 1 Axes>"
            ],
            "image/png": "[encoded data removed]"
          },
          "metadata": {}
        }
      ]
    },
    {
      "cell_type": "markdown",
      "source": [
        "- 오류 수정: 검정 선이 normal dist"
      ],
      "metadata": {
        "id": "0rsA6dEKj40s"
      }
    },
    {
      "cell_type": "code",
      "source": [
        "# QQ-plot\n",
        "fig = plt.figure()\n",
        "res = stats.probplot(train['SalePrice'], plot=plt)\n",
        "plt.show()"
      ],
      "metadata": {
        "colab": {
          "base_uri": "https://localhost:8080/",
          "height": 0
        },
        "id": "w-m8Lqyxj80M",
        "outputId": "5c86528e-512a-4dba-e371-0b5fc5220e28"
      },
      "execution_count": 13,
      "outputs": [
        {
          "output_type": "display_data",
          "data": {
            "text/plain": [
              "<Figure size 432x288 with 1 Axes>"
            ],
            "image/png": "[encoded data removed]"
          },
          "metadata": {}
        }
      ]
    },
    {
      "cell_type": "markdown",
      "source": [
        "- skewed 개선되고 정규 분포의 형태를 띄게 됨"
      ],
      "metadata": {
        "id": "MRC_pCajkC7r"
      }
    },
    {
      "cell_type": "markdown",
      "source": [
        "## **Features engineering**"
      ],
      "metadata": {
        "id": "SWVbAbXUa_ql"
      }
    },
    {
      "cell_type": "code",
      "source": [
        "# train/test 합치기\n",
        "ntrain = train.shape[0]\n",
        "ntest = test.shape[0]\n",
        "y_train = train.SalePrice.values\n",
        "all_data = pd.concat((train, test)).reset_index(drop=True)\n",
        "all_data.drop(['SalePrice'], axis=1, inplace=True)\n",
        "print(\"all_data size is : {}\".format(all_data.shape))"
      ],
      "metadata": {
        "colab": {
          "base_uri": "https://localhost:8080/"
        },
        "id": "qDPJAUNYEmcp",
        "outputId": "40945a31-c7de-4178-c4f7-cf4be813a422"
      },
      "execution_count": 14,
      "outputs": [
        {
          "output_type": "stream",
          "name": "stdout",
          "text": [
            "all_data size is : (2917, 79)\n"
          ]
        }
      ]
    },
    {
      "cell_type": "markdown",
      "source": [
        "#### Missing Data"
      ],
      "metadata": {
        "id": "EoIELAeiFxSe"
      }
    },
    {
      "cell_type": "code",
      "source": [
        "all_data_na = (all_data.isnull().sum() / len(all_data)) * 100\n",
        "all_data_na = all_data_na.drop(all_data_na[all_data_na == 0].index).sort_values(ascending=False)[:30]\n",
        "missing_data = pd.DataFrame({'Missing Ratio':all_data_na})\n",
        "missing_data.head(20)"
      ],
      "metadata": {
        "colab": {
          "base_uri": "https://localhost:8080/",
          "height": 0
        },
        "id": "DkRbD6lIFyWf",
        "outputId": "9102f5d4-89ef-49c8-bd2a-5c330c410760"
      },
      "execution_count": 15,
      "outputs": [
        {
          "output_type": "execute_result",
          "data": {
            "text/plain": [
              "              Missing Ratio\n",
              "PoolQC               99.691\n",
              "MiscFeature          96.400\n",
              "Alley                93.212\n",
              "Fence                80.425\n",
              "FireplaceQu          48.680\n",
              "LotFrontage          16.661\n",
              "GarageFinish          5.451\n",
              "GarageQual            5.451\n",
              "GarageCond            5.451\n",
              "GarageYrBlt           5.451\n",
              "GarageType            5.382\n",
              "BsmtExposure          2.811\n",
              "BsmtCond              2.811\n",
              "BsmtQual              2.777\n",
              "BsmtFinType2          2.743\n",
              "BsmtFinType1          2.708\n",
              "MasVnrType            0.823\n",
              "MasVnrArea            0.788\n",
              "MSZoning              0.137\n",
              "BsmtFullBath          0.069"
            ],
            "text/html": [
              "\n",
              "  <div id=\"df-6775dcb7-7db8-4ec7-a8fc-b7a12a4dfc80\">\n",
              "    <div class=\"colab-df-container\">\n",
              "      <div>\n",
              "<style scoped>\n",
              "    .dataframe tbody tr th:only-of-type {\n",
              "        vertical-align: middle;\n",
              "    }\n",
              "\n",
              "    .dataframe tbody tr th {\n",
              "        vertical-align: top;\n",
              "    }\n",
              "\n",
              "    .dataframe thead th {\n",
              "        text-align: right;\n",
              "    }\n",
              "</style>\n",
              "<table border=\"1\" class=\"dataframe\">\n",
              "  <thead>\n",
              "    <tr style=\"text-align: right;\">\n",
              "      <th></th>\n",
              "      <th>Missing Ratio</th>\n",
              "    </tr>\n",
              "  </thead>\n",
              "  <tbody>\n",
              "    <tr>\n",
              "      <th>PoolQC</th>\n",
              "      <td>99.691</td>\n",
              "    </tr>\n",
              "    <tr>\n",
              "      <th>MiscFeature</th>\n",
              "      <td>96.400</td>\n",
              "    </tr>\n",
              "    <tr>\n",
              "      <th>Alley</th>\n",
              "      <td>93.212</td>\n",
              "    </tr>\n",
              "    <tr>\n",
              "      <th>Fence</th>\n",
              "      <td>80.425</td>\n",
              "    </tr>\n",
              "    <tr>\n",
              "      <th>FireplaceQu</th>\n",
              "      <td>48.680</td>\n",
              "    </tr>\n",
              "    <tr>\n",
              "      <th>LotFrontage</th>\n",
              "      <td>16.661</td>\n",
              "    </tr>\n",
              "    <tr>\n",
              "      <th>GarageFinish</th>\n",
              "      <td>5.451</td>\n",
              "    </tr>\n",
              "    <tr>\n",
              "      <th>GarageQual</th>\n",
              "      <td>5.451</td>\n",
              "    </tr>\n",
              "    <tr>\n",
              "      <th>GarageCond</th>\n",
              "      <td>5.451</td>\n",
              "    </tr>\n",
              "    <tr>\n",
              "      <th>GarageYrBlt</th>\n",
              "      <td>5.451</td>\n",
              "    </tr>\n",
              "    <tr>\n",
              "      <th>GarageType</th>\n",
              "      <td>5.382</td>\n",
              "    </tr>\n",
              "    <tr>\n",
              "      <th>BsmtExposure</th>\n",
              "      <td>2.811</td>\n",
              "    </tr>\n",
              "    <tr>\n",
              "      <th>BsmtCond</th>\n",
              "      <td>2.811</td>\n",
              "    </tr>\n",
              "    <tr>\n",
              "      <th>BsmtQual</th>\n",
              "      <td>2.777</td>\n",
              "    </tr>\n",
              "    <tr>\n",
              "      <th>BsmtFinType2</th>\n",
              "      <td>2.743</td>\n",
              "    </tr>\n",
              "    <tr>\n",
              "      <th>BsmtFinType1</th>\n",
              "      <td>2.708</td>\n",
              "    </tr>\n",
              "    <tr>\n",
              "      <th>MasVnrType</th>\n",
              "      <td>0.823</td>\n",
              "    </tr>\n",
              "    <tr>\n",
              "      <th>MasVnrArea</th>\n",
              "      <td>0.788</td>\n",
              "    </tr>\n",
              "    <tr>\n",
              "      <th>MSZoning</th>\n",
              "      <td>0.137</td>\n",
              "    </tr>\n",
              "    <tr>\n",
              "      <th>BsmtFullBath</th>\n",
              "      <td>0.069</td>\n",
              "    </tr>\n",
              "  </tbody>\n",
              "</table>\n",
              "</div>\n",
              "      <button class=\"colab-df-convert\" onclick=\"convertToInteractive('df-6775dcb7-7db8-4ec7-a8fc-b7a12a4dfc80')\"\n",
              "              title=\"Convert this dataframe to an interactive table.\"\n",
              "              style=\"display:none;\">\n",
              "        \n",
              "  <svg xmlns=\"http://www.w3.org/2000/svg\" height=\"24px\"viewBox=\"0 0 24 24\"\n",
              "       width=\"24px\">\n",
              "    <path d=\"M0 0h24v24H0V0z\" fill=\"none\"/>\n",
              "    <path d=\"M18.56 5.44l.94 2.06.94-2.06 2.06-.94-2.06-.94-.94-2.06-.94 2.06-2.06.94zm-11 1L8.5 8.5l.94-2.06 2.06-.94-2.06-.94L8.5 2.5l-.94 2.06-2.06.94zm10 10l.94 2.06.94-2.06 2.06-.94-2.06-.94-.94-2.06-.94 2.06-2.06.94z\"/><path d=\"M17.41 7.96l-1.37-1.37c-.4-.4-.92-.59-1.43-.59-.52 0-1.04.2-1.43.59L10.3 9.45l-7.72 7.72c-.78.78-.78 2.05 0 2.83L4 21.41c.39.39.9.59 1.41.59.51 0 1.02-.2 1.41-.59l7.78-7.78 2.81-2.81c.8-.78.8-2.07 0-2.86zM5.41 20L4 18.59l7.72-7.72 1.47 1.35L5.41 20z\"/>\n",
              "  </svg>\n",
              "      </button>\n",
              "      \n",
              "  <style>\n",
              "    .colab-df-container {\n",
              "      display:flex;\n",
              "      flex-wrap:wrap;\n",
              "      gap: 12px;\n",
              "    }\n",
              "\n",
              "    .colab-df-convert {\n",
              "      background-color: #E8F0FE;\n",
              "      border: none;\n",
              "      border-radius: 50%;\n",
              "      cursor: pointer;\n",
              "      display: none;\n",
              "      fill: #1967D2;\n",
              "      height: 32px;\n",
              "      padding: 0 0 0 0;\n",
              "      width: 32px;\n",
              "    }\n",
              "\n",
              "    .colab-df-convert:hover {\n",
              "      background-color: #E2EBFA;\n",
              "      box-shadow: 0px 1px 2px rgba(60, 64, 67, 0.3), 0px 1px 3px 1px rgba(60, 64, 67, 0.15);\n",
              "      fill: #174EA6;\n",
              "    }\n",
              "\n",
              "    [theme=dark] .colab-df-convert {\n",
              "      background-color: #3B4455;\n",
              "      fill: #D2E3FC;\n",
              "    }\n",
              "\n",
              "    [theme=dark] .colab-df-convert:hover {\n",
              "      background-color: #434B5C;\n",
              "      box-shadow: 0px 1px 3px 1px rgba(0, 0, 0, 0.15);\n",
              "      filter: drop-shadow(0px 1px 2px rgba(0, 0, 0, 0.3));\n",
              "      fill: #FFFFFF;\n",
              "    }\n",
              "  </style>\n",
              "\n",
              "      <script>\n",
              "        const buttonEl =\n",
              "          document.querySelector('#df-6775dcb7-7db8-4ec7-a8fc-b7a12a4dfc80 button.colab-df-convert');\n",
              "        buttonEl.style.display =\n",
              "          google.colab.kernel.accessAllowed ? 'block' : 'none';\n",
              "\n",
              "        async function convertToInteractive(key) {\n",
              "          const element = document.querySelector('#df-6775dcb7-7db8-4ec7-a8fc-b7a12a4dfc80');\n",
              "          const dataTable =\n",
              "            await google.colab.kernel.invokeFunction('convertToInteractive',\n",
              "                                                     [key], {});\n",
              "          if (!dataTable) return;\n",
              "\n",
              "          const docLinkHtml = 'Like what you see? Visit the ' +\n",
              "            '<a target=\"_blank\" href=https://colab.research.google.com/notebooks/data_table.ipynb>data table notebook</a>'\n",
              "            + ' to learn more about interactive tables.';\n",
              "          element.innerHTML = '';\n",
              "          dataTable['output_type'] = 'display_data';\n",
              "          await google.colab.output.renderOutput(dataTable, element);\n",
              "          const docLink = document.createElement('div');\n",
              "          docLink.innerHTML = docLinkHtml;\n",
              "          element.appendChild(docLink);\n",
              "        }\n",
              "      </script>\n",
              "    </div>\n",
              "  </div>\n",
              "  "
            ]
          },
          "metadata": {},
          "execution_count": 15
        }
      ]
    },
    {
      "cell_type": "code",
      "source": [
        "f, ax = plt.subplots(figsize=(15, 12))\n",
        "plt.xticks(rotation='vertical')\n",
        "sns.barplot(x=all_data_na.index, y=all_data_na)\n",
        "plt.xlabel('Features', fontsize=15)\n",
        "plt.ylabel('Percent of missing values', fontsize=15)\n",
        "plt.title('Percent missing data by feature', fontsize=15)"
      ],
      "metadata": {
        "colab": {
          "base_uri": "https://localhost:8080/",
          "height": 0
        },
        "id": "RSY8TktBG8sq",
        "outputId": "4a40f0ed-929e-4586-d98f-daa464b349c5"
      },
      "execution_count": 16,
      "outputs": [
        {
          "output_type": "execute_result",
          "data": {
            "text/plain": [
              "Text(0.5, 1.0, 'Percent missing data by feature')"
            ]
          },
          "metadata": {},
          "execution_count": 16
        },
        {
          "output_type": "display_data",
          "data": {
            "text/plain": [
              "<Figure size 1080x864 with 1 Axes>"
            ],
            "image/png": "[encoded data removed]"
          },
          "metadata": {}
        }
      ]
    },
    {
      "cell_type": "markdown",
      "source": [
        "#### Data Correlation"
      ],
      "metadata": {
        "id": "b22i8a3tOgQi"
      }
    },
    {
      "cell_type": "code",
      "source": [
        "corrmat = train.corr()\n",
        "plt.subplots(figsize=(12, 9))\n",
        "sns.heatmap(corrmat, vmax=0.9, square=True)"
      ],
      "metadata": {
        "colab": {
          "base_uri": "https://localhost:8080/",
          "height": 0
        },
        "id": "tt9WfTbIOiIb",
        "outputId": "8233e33b-5253-4411-d9c1-960a234c52b2"
      },
      "execution_count": 17,
      "outputs": [
        {
          "output_type": "execute_result",
          "data": {
            "text/plain": [
              "<Axes: >"
            ]
          },
          "metadata": {},
          "execution_count": 17
        },
        {
          "output_type": "display_data",
          "data": {
            "text/plain": [
              "<Figure size 864x648 with 2 Axes>"
            ],
            "image/png": "[encoded data removed]"
          },
          "metadata": {}
        }
      ]
    },
    {
      "cell_type": "markdown",
      "source": [
        "#### Imputing missing values"
      ],
      "metadata": {
        "id": "B47bWDE2PETf"
      }
    },
    {
      "cell_type": "code",
      "source": [
        "all_data[\"PoolQC\"] = all_data[\"PoolQC\"].fillna(\"None\")  # No Pool\n",
        "all_data[\"MiscFeature\"] = all_data[\"MiscFeature\"].fillna(\"None\")  # no misc feature\n",
        "all_data[\"Alley\"] = all_data[\"Alley\"].fillna(\"None\")  # no alley access\n",
        "all_data[\"Fence\"] = all_data[\"Fence\"].fillna(\"None\") # no fence\n",
        "all_data[\"FireplaceQu\"] = all_data['FireplaceQu'].fillna(\"None\")  # no fireplace"
      ],
      "metadata": {
        "id": "59bRUzwEPFhv"
      },
      "execution_count": 18,
      "outputs": []
    },
    {
      "cell_type": "code",
      "source": [
        "# LotFrontage (중앙값 group by 'neighborhood')\n",
        "all_data[\"LotFrontage\"] = all_data.groupby(\"Neighborhood\")[\"LotFrontage\"].transform(lambda x: x.fillna(x.median()))"
      ],
      "metadata": {
        "id": "votHivPCSVYg"
      },
      "execution_count": 19,
      "outputs": []
    },
    {
      "cell_type": "code",
      "source": [
        "# Garage 관련 피처1 (object)\n",
        "for col in ('GarageType', 'GarageFinish', 'GarageQual', 'GarageCond'):\n",
        "  all_data[col] = all_data[col].fillna('None')\n",
        "\n",
        "# Garage 관련 피처2 (float)\n",
        "for col in ('GarageYrBlt', 'GarageArea', 'GarageCars'):\n",
        "  all_data[col] = all_data[col].fillna(0)"
      ],
      "metadata": {
        "id": "cvJ1nnmrTEQ5"
      },
      "execution_count": 20,
      "outputs": []
    },
    {
      "cell_type": "code",
      "source": [
        "# Basement 관련 피처1 (float)\n",
        "for col in ('BsmtFinSF1', 'BsmtFinSF2', 'BsmtUnfSF','TotalBsmtSF', 'BsmtFullBath', 'BsmtHalfBath'):\n",
        "  all_data[col] = all_data[col].fillna(0)\n",
        "\n",
        "# Basement 관련 피처2 (object)\n",
        "for col in ('BsmtQual', 'BsmtCond', 'BsmtExposure', 'BsmtFinType1', 'BsmtFinType2'):\n",
        "  all_data[col] = all_data[col].fillna('None')"
      ],
      "metadata": {
        "id": "aV89LopyZoMP"
      },
      "execution_count": 21,
      "outputs": []
    },
    {
      "cell_type": "code",
      "source": [
        "# no masonry veneer\n",
        "all_data[\"MasVnrType\"] = all_data[\"MasVnrType\"].fillna(\"None\")\n",
        "all_data[\"MasVnrArea\"] = all_data[\"MasVnrArea\"].fillna(0)"
      ],
      "metadata": {
        "id": "X3qHirWmakcv"
      },
      "execution_count": 22,
      "outputs": []
    },
    {
      "cell_type": "code",
      "source": [
        "# Utiliites (변수 제거하기)\n",
        "all_data = all_data.drop(['Utilities'], axis=1)"
      ],
      "metadata": {
        "id": "bqznwO6qa1bb"
      },
      "execution_count": 23,
      "outputs": []
    },
    {
      "cell_type": "code",
      "source": [
        "all_data[\"Functional\"] = all_data[\"Functional\"].fillna(\"Typ\")  # typical"
      ],
      "metadata": {
        "id": "5UC5g12XdL9N"
      },
      "execution_count": 24,
      "outputs": []
    },
    {
      "cell_type": "code",
      "source": [
        "# NA 적은 피처들 mode로 채우기\n",
        "all_data['MSZoning'] = all_data['MSZoning'].fillna(all_data['MSZoning'].mode()[0])\n",
        "all_data['Electrical'] = all_data['Electrical'].fillna(all_data['Electrical'].mode()[0])\n",
        "all_data['KitchenQual'] = all_data['KitchenQual'].fillna(all_data['KitchenQual'].mode()[0])\n",
        "all_data['Exterior1st'] = all_data['Exterior1st'].fillna(all_data['Exterior1st'].mode()[0])\n",
        "all_data['Exterior2nd'] = all_data['Exterior2nd'].fillna(all_data['Exterior2nd'].mode()[0])\n",
        "all_data['SaleType'] = all_data['SaleType'].fillna(all_data['SaleType'].mode()[0])"
      ],
      "metadata": {
        "id": "Ahquy6GddTNS"
      },
      "execution_count": 25,
      "outputs": []
    },
    {
      "cell_type": "code",
      "source": [
        "all_data['MSSubClass'] = all_data['MSSubClass'].fillna(\"None\")  # No building class"
      ],
      "metadata": {
        "id": "N8gsOC1Telqm"
      },
      "execution_count": 26,
      "outputs": []
    },
    {
      "cell_type": "code",
      "source": [
        "# missing value 남아있는지 체크\n",
        "all_data_na = (all_data.isnull().sum() / len(all_data)) * 100\n",
        "all_data_na = all_data_na.drop(all_data_na[all_data_na == 0].index).sort_values(ascending=False)\n",
        "missing_data = pd.DataFrame({'Missing Ratio' :all_data_na})\n",
        "missing_data.head()"
      ],
      "metadata": {
        "colab": {
          "base_uri": "https://localhost:8080/",
          "height": 0
        },
        "id": "77GL1nyyer4f",
        "outputId": "5fd0efa4-8ef5-41be-fa02-7142a8aa825b"
      },
      "execution_count": 27,
      "outputs": [
        {
          "output_type": "execute_result",
          "data": {
            "text/plain": [
              "Empty DataFrame\n",
              "Columns: [Missing Ratio]\n",
              "Index: []"
            ],
            "text/html": [
              "\n",
              "  <div id=\"df-3f7a66ea-33c2-4d9d-aaef-cd3a06920865\">\n",
              "    <div class=\"colab-df-container\">\n",
              "      <div>\n",
              "<style scoped>\n",
              "    .dataframe tbody tr th:only-of-type {\n",
              "        vertical-align: middle;\n",
              "    }\n",
              "\n",
              "    .dataframe tbody tr th {\n",
              "        vertical-align: top;\n",
              "    }\n",
              "\n",
              "    .dataframe thead th {\n",
              "        text-align: right;\n",
              "    }\n",
              "</style>\n",
              "<table border=\"1\" class=\"dataframe\">\n",
              "  <thead>\n",
              "    <tr style=\"text-align: right;\">\n",
              "      <th></th>\n",
              "      <th>Missing Ratio</th>\n",
              "    </tr>\n",
              "  </thead>\n",
              "  <tbody>\n",
              "  </tbody>\n",
              "</table>\n",
              "</div>\n",
              "      <button class=\"colab-df-convert\" onclick=\"convertToInteractive('df-3f7a66ea-33c2-4d9d-aaef-cd3a06920865')\"\n",
              "              title=\"Convert this dataframe to an interactive table.\"\n",
              "              style=\"display:none;\">\n",
              "        \n",
              "  <svg xmlns=\"http://www.w3.org/2000/svg\" height=\"24px\"viewBox=\"0 0 24 24\"\n",
              "       width=\"24px\">\n",
              "    <path d=\"M0 0h24v24H0V0z\" fill=\"none\"/>\n",
              "    <path d=\"M18.56 5.44l.94 2.06.94-2.06 2.06-.94-2.06-.94-.94-2.06-.94 2.06-2.06.94zm-11 1L8.5 8.5l.94-2.06 2.06-.94-2.06-.94L8.5 2.5l-.94 2.06-2.06.94zm10 10l.94 2.06.94-2.06 2.06-.94-2.06-.94-.94-2.06-.94 2.06-2.06.94z\"/><path d=\"M17.41 7.96l-1.37-1.37c-.4-.4-.92-.59-1.43-.59-.52 0-1.04.2-1.43.59L10.3 9.45l-7.72 7.72c-.78.78-.78 2.05 0 2.83L4 21.41c.39.39.9.59 1.41.59.51 0 1.02-.2 1.41-.59l7.78-7.78 2.81-2.81c.8-.78.8-2.07 0-2.86zM5.41 20L4 18.59l7.72-7.72 1.47 1.35L5.41 20z\"/>\n",
              "  </svg>\n",
              "      </button>\n",
              "      \n",
              "  <style>\n",
              "    .colab-df-container {\n",
              "      display:flex;\n",
              "      flex-wrap:wrap;\n",
              "      gap: 12px;\n",
              "    }\n",
              "\n",
              "    .colab-df-convert {\n",
              "      background-color: #E8F0FE;\n",
              "      border: none;\n",
              "      border-radius: 50%;\n",
              "      cursor: pointer;\n",
              "      display: none;\n",
              "      fill: #1967D2;\n",
              "      height: 32px;\n",
              "      padding: 0 0 0 0;\n",
              "      width: 32px;\n",
              "    }\n",
              "\n",
              "    .colab-df-convert:hover {\n",
              "      background-color: #E2EBFA;\n",
              "      box-shadow: 0px 1px 2px rgba(60, 64, 67, 0.3), 0px 1px 3px 1px rgba(60, 64, 67, 0.15);\n",
              "      fill: #174EA6;\n",
              "    }\n",
              "\n",
              "    [theme=dark] .colab-df-convert {\n",
              "      background-color: #3B4455;\n",
              "      fill: #D2E3FC;\n",
              "    }\n",
              "\n",
              "    [theme=dark] .colab-df-convert:hover {\n",
              "      background-color: #434B5C;\n",
              "      box-shadow: 0px 1px 3px 1px rgba(0, 0, 0, 0.15);\n",
              "      filter: drop-shadow(0px 1px 2px rgba(0, 0, 0, 0.3));\n",
              "      fill: #FFFFFF;\n",
              "    }\n",
              "  </style>\n",
              "\n",
              "      <script>\n",
              "        const buttonEl =\n",
              "          document.querySelector('#df-3f7a66ea-33c2-4d9d-aaef-cd3a06920865 button.colab-df-convert');\n",
              "        buttonEl.style.display =\n",
              "          google.colab.kernel.accessAllowed ? 'block' : 'none';\n",
              "\n",
              "        async function convertToInteractive(key) {\n",
              "          const element = document.querySelector('#df-3f7a66ea-33c2-4d9d-aaef-cd3a06920865');\n",
              "          const dataTable =\n",
              "            await google.colab.kernel.invokeFunction('convertToInteractive',\n",
              "                                                     [key], {});\n",
              "          if (!dataTable) return;\n",
              "\n",
              "          const docLinkHtml = 'Like what you see? Visit the ' +\n",
              "            '<a target=\"_blank\" href=https://colab.research.google.com/notebooks/data_table.ipynb>data table notebook</a>'\n",
              "            + ' to learn more about interactive tables.';\n",
              "          element.innerHTML = '';\n",
              "          dataTable['output_type'] = 'display_data';\n",
              "          await google.colab.output.renderOutput(dataTable, element);\n",
              "          const docLink = document.createElement('div');\n",
              "          docLink.innerHTML = docLinkHtml;\n",
              "          element.appendChild(docLink);\n",
              "        }\n",
              "      </script>\n",
              "    </div>\n",
              "  </div>\n",
              "  "
            ]
          },
          "metadata": {},
          "execution_count": 27
        }
      ]
    },
    {
      "cell_type": "markdown",
      "source": [
        "#### More features engeneering"
      ],
      "metadata": {
        "id": "7up6z7QygIkB"
      }
    },
    {
      "cell_type": "markdown",
      "source": [
        "> 실제로는 categorical인데 numerical로 되어있는 변수 타입 변환하기"
      ],
      "metadata": {
        "id": "1DMePWbWgksg"
      }
    },
    {
      "cell_type": "code",
      "source": [
        "all_data['MSSubClass'] = all_data['MSSubClass'].apply(str)\n",
        "all_data['OverallCond'] = all_data['OverallCond'].astype(str)\n",
        "all_data['YrSold'] = all_data['YrSold'].astype(str)\n",
        "all_data['MoSold'] = all_data['MoSold'].astype(str)"
      ],
      "metadata": {
        "id": "mZUWnkNfgMGK"
      },
      "execution_count": 28,
      "outputs": []
    },
    {
      "cell_type": "code",
      "source": [
        "# Label Encoding\n",
        "from sklearn.preprocessing import LabelEncoder\n",
        "cols = ('FireplaceQu', 'BsmtQual', 'BsmtCond', 'GarageQual', 'GarageCond', \n",
        "        'ExterQual', 'ExterCond','HeatingQC', 'PoolQC', 'KitchenQual', 'BsmtFinType1', \n",
        "        'BsmtFinType2', 'Functional', 'Fence', 'BsmtExposure', 'GarageFinish', 'LandSlope',\n",
        "        'LotShape', 'PavedDrive', 'Street', 'Alley', 'CentralAir', 'MSSubClass', 'OverallCond', \n",
        "        'YrSold', 'MoSold')\n",
        "\n",
        "for c in cols:\n",
        "  lbl = LabelEncoder()\n",
        "  lbl.fit(list(all_data[c].values))\n",
        "  all_data[c] = lbl.transform(list(all_data[c].values))\n",
        "\n",
        "print('Shape all_data: {}'.format(all_data.shape))"
      ],
      "metadata": {
        "colab": {
          "base_uri": "https://localhost:8080/"
        },
        "id": "3I6zF6nNhOOU",
        "outputId": "b0e6a8a9-8f26-482b-a7ab-94b00193f8c6"
      },
      "execution_count": 29,
      "outputs": [
        {
          "output_type": "stream",
          "name": "stdout",
          "text": [
            "Shape all_data: (2917, 78)\n"
          ]
        }
      ]
    },
    {
      "cell_type": "code",
      "source": [
        "# 중요 변수 추가 (total sqfootage feature)\n",
        "all_data['TotalSF'] = all_data['TotalBsmtSF'] + all_data['1stFlrSF'] + all_data['2ndFlrSF']"
      ],
      "metadata": {
        "id": "8poPBMFpiAK7"
      },
      "execution_count": 30,
      "outputs": []
    },
    {
      "cell_type": "markdown",
      "source": [
        "#### Skewed features"
      ],
      "metadata": {
        "id": "716Aeou1nFyq"
      }
    },
    {
      "cell_type": "markdown",
      "source": [
        "- skew\n",
        "- 왼쪽으로 치우침 = skew > 0\n",
        "- 오른쪽으로 치우침 = skew < 0"
      ],
      "metadata": {
        "id": "3kVM_068oBbZ"
      }
    },
    {
      "cell_type": "code",
      "source": [
        "numeric_feats = all_data.dtypes[all_data.dtypes != \"object\"].index\n",
        "\n",
        "# skewed 확인\n",
        "skewed_feats = all_data[numeric_feats].apply(lambda x: skew(x.dropna())).sort_values(ascending=False)\n",
        "print(\"\\nSkew in numerical features: \\n\")\n",
        "skewness = pd.DataFrame({'Skew' :skewed_feats})\n",
        "skewness.head(10)"
      ],
      "metadata": {
        "colab": {
          "base_uri": "https://localhost:8080/",
          "height": 0
        },
        "id": "jcbLIXXvnIl8",
        "outputId": "76242871-6af0-496e-db9f-4c9181e43557"
      },
      "execution_count": 31,
      "outputs": [
        {
          "output_type": "stream",
          "name": "stdout",
          "text": [
            "\n",
            "Skew in numerical features: \n",
            "\n"
          ]
        },
        {
          "output_type": "execute_result",
          "data": {
            "text/plain": [
              "                Skew\n",
              "MiscVal       21.940\n",
              "PoolArea      17.689\n",
              "LotArea       13.109\n",
              "LowQualFinSF  12.085\n",
              "3SsnPorch     11.372\n",
              "LandSlope      4.973\n",
              "KitchenAbvGr   4.301\n",
              "BsmtFinSF2     4.145\n",
              "EnclosedPorch  4.002\n",
              "ScreenPorch    3.945"
            ],
            "text/html": [
              "\n",
              "  <div id=\"df-0f1964b5-697e-4dd9-ae79-11ba3cc7a6e3\">\n",
              "    <div class=\"colab-df-container\">\n",
              "      <div>\n",
              "<style scoped>\n",
              "    .dataframe tbody tr th:only-of-type {\n",
              "        vertical-align: middle;\n",
              "    }\n",
              "\n",
              "    .dataframe tbody tr th {\n",
              "        vertical-align: top;\n",
              "    }\n",
              "\n",
              "    .dataframe thead th {\n",
              "        text-align: right;\n",
              "    }\n",
              "</style>\n",
              "<table border=\"1\" class=\"dataframe\">\n",
              "  <thead>\n",
              "    <tr style=\"text-align: right;\">\n",
              "      <th></th>\n",
              "      <th>Skew</th>\n",
              "    </tr>\n",
              "  </thead>\n",
              "  <tbody>\n",
              "    <tr>\n",
              "      <th>MiscVal</th>\n",
              "      <td>21.940</td>\n",
              "    </tr>\n",
              "    <tr>\n",
              "      <th>PoolArea</th>\n",
              "      <td>17.689</td>\n",
              "    </tr>\n",
              "    <tr>\n",
              "      <th>LotArea</th>\n",
              "      <td>13.109</td>\n",
              "    </tr>\n",
              "    <tr>\n",
              "      <th>LowQualFinSF</th>\n",
              "      <td>12.085</td>\n",
              "    </tr>\n",
              "    <tr>\n",
              "      <th>3SsnPorch</th>\n",
              "      <td>11.372</td>\n",
              "    </tr>\n",
              "    <tr>\n",
              "      <th>LandSlope</th>\n",
              "      <td>4.973</td>\n",
              "    </tr>\n",
              "    <tr>\n",
              "      <th>KitchenAbvGr</th>\n",
              "      <td>4.301</td>\n",
              "    </tr>\n",
              "    <tr>\n",
              "      <th>BsmtFinSF2</th>\n",
              "      <td>4.145</td>\n",
              "    </tr>\n",
              "    <tr>\n",
              "      <th>EnclosedPorch</th>\n",
              "      <td>4.002</td>\n",
              "    </tr>\n",
              "    <tr>\n",
              "      <th>ScreenPorch</th>\n",
              "      <td>3.945</td>\n",
              "    </tr>\n",
              "  </tbody>\n",
              "</table>\n",
              "</div>\n",
              "      <button class=\"colab-df-convert\" onclick=\"convertToInteractive('df-0f1964b5-697e-4dd9-ae79-11ba3cc7a6e3')\"\n",
              "              title=\"Convert this dataframe to an interactive table.\"\n",
              "              style=\"display:none;\">\n",
              "        \n",
              "  <svg xmlns=\"http://www.w3.org/2000/svg\" height=\"24px\"viewBox=\"0 0 24 24\"\n",
              "       width=\"24px\">\n",
              "    <path d=\"M0 0h24v24H0V0z\" fill=\"none\"/>\n",
              "    <path d=\"M18.56 5.44l.94 2.06.94-2.06 2.06-.94-2.06-.94-.94-2.06-.94 2.06-2.06.94zm-11 1L8.5 8.5l.94-2.06 2.06-.94-2.06-.94L8.5 2.5l-.94 2.06-2.06.94zm10 10l.94 2.06.94-2.06 2.06-.94-2.06-.94-.94-2.06-.94 2.06-2.06.94z\"/><path d=\"M17.41 7.96l-1.37-1.37c-.4-.4-.92-.59-1.43-.59-.52 0-1.04.2-1.43.59L10.3 9.45l-7.72 7.72c-.78.78-.78 2.05 0 2.83L4 21.41c.39.39.9.59 1.41.59.51 0 1.02-.2 1.41-.59l7.78-7.78 2.81-2.81c.8-.78.8-2.07 0-2.86zM5.41 20L4 18.59l7.72-7.72 1.47 1.35L5.41 20z\"/>\n",
              "  </svg>\n",
              "      </button>\n",
              "      \n",
              "  <style>\n",
              "    .colab-df-container {\n",
              "      display:flex;\n",
              "      flex-wrap:wrap;\n",
              "      gap: 12px;\n",
              "    }\n",
              "\n",
              "    .colab-df-convert {\n",
              "      background-color: #E8F0FE;\n",
              "      border: none;\n",
              "      border-radius: 50%;\n",
              "      cursor: pointer;\n",
              "      display: none;\n",
              "      fill: #1967D2;\n",
              "      height: 32px;\n",
              "      padding: 0 0 0 0;\n",
              "      width: 32px;\n",
              "    }\n",
              "\n",
              "    .colab-df-convert:hover {\n",
              "      background-color: #E2EBFA;\n",
              "      box-shadow: 0px 1px 2px rgba(60, 64, 67, 0.3), 0px 1px 3px 1px rgba(60, 64, 67, 0.15);\n",
              "      fill: #174EA6;\n",
              "    }\n",
              "\n",
              "    [theme=dark] .colab-df-convert {\n",
              "      background-color: #3B4455;\n",
              "      fill: #D2E3FC;\n",
              "    }\n",
              "\n",
              "    [theme=dark] .colab-df-convert:hover {\n",
              "      background-color: #434B5C;\n",
              "      box-shadow: 0px 1px 3px 1px rgba(0, 0, 0, 0.15);\n",
              "      filter: drop-shadow(0px 1px 2px rgba(0, 0, 0, 0.3));\n",
              "      fill: #FFFFFF;\n",
              "    }\n",
              "  </style>\n",
              "\n",
              "      <script>\n",
              "        const buttonEl =\n",
              "          document.querySelector('#df-0f1964b5-697e-4dd9-ae79-11ba3cc7a6e3 button.colab-df-convert');\n",
              "        buttonEl.style.display =\n",
              "          google.colab.kernel.accessAllowed ? 'block' : 'none';\n",
              "\n",
              "        async function convertToInteractive(key) {\n",
              "          const element = document.querySelector('#df-0f1964b5-697e-4dd9-ae79-11ba3cc7a6e3');\n",
              "          const dataTable =\n",
              "            await google.colab.kernel.invokeFunction('convertToInteractive',\n",
              "                                                     [key], {});\n",
              "          if (!dataTable) return;\n",
              "\n",
              "          const docLinkHtml = 'Like what you see? Visit the ' +\n",
              "            '<a target=\"_blank\" href=https://colab.research.google.com/notebooks/data_table.ipynb>data table notebook</a>'\n",
              "            + ' to learn more about interactive tables.';\n",
              "          element.innerHTML = '';\n",
              "          dataTable['output_type'] = 'display_data';\n",
              "          await google.colab.output.renderOutput(dataTable, element);\n",
              "          const docLink = document.createElement('div');\n",
              "          docLink.innerHTML = docLinkHtml;\n",
              "          element.appendChild(docLink);\n",
              "        }\n",
              "      </script>\n",
              "    </div>\n",
              "  </div>\n",
              "  "
            ]
          },
          "metadata": {},
          "execution_count": 31
        }
      ]
    },
    {
      "cell_type": "markdown",
      "source": [
        "#### Box Cox Transformation of (highly) skewed features"
      ],
      "metadata": {
        "id": "F4GRklT8og-Y"
      }
    },
    {
      "cell_type": "code",
      "source": [
        "skewness = skewness[abs(skewness) > 0.75]\n",
        "print(\"There are {} skewed numerical features to Box Cox transform\".format(skewness.shape[0]))\n",
        "\n",
        "from scipy.special import boxcox1p\n",
        "skewed_features = skewness.index\n",
        "lam = 0.15\n",
        "for feat in skewed_features:\n",
        "  all_data[feat] = boxcox1p(all_data[feat], lam)"
      ],
      "metadata": {
        "colab": {
          "base_uri": "https://localhost:8080/"
        },
        "id": "o153J61rolsf",
        "outputId": "95b96956-ed2d-4a69-d40a-88a8bf0fe90f"
      },
      "execution_count": 32,
      "outputs": [
        {
          "output_type": "stream",
          "name": "stdout",
          "text": [
            "There are 59 skewed numerical features to Box Cox transform\n"
          ]
        }
      ]
    },
    {
      "cell_type": "markdown",
      "source": [
        "#### Getting dummy categorical features"
      ],
      "metadata": {
        "id": "eLbJCflFpXzX"
      }
    },
    {
      "cell_type": "code",
      "source": [
        "all_data = pd.get_dummies(all_data)\n",
        "print(all_data.shape)"
      ],
      "metadata": {
        "colab": {
          "base_uri": "https://localhost:8080/"
        },
        "id": "yFCUtvzYpZ5u",
        "outputId": "ef606b54-ce7c-4093-bdf6-20b173d0c2a3"
      },
      "execution_count": 33,
      "outputs": [
        {
          "output_type": "stream",
          "name": "stdout",
          "text": [
            "(2917, 220)\n"
          ]
        }
      ]
    },
    {
      "cell_type": "code",
      "source": [
        "train = all_data[:ntrain]\n",
        "test = all_data[ntrain:]"
      ],
      "metadata": {
        "id": "NQuk6z4rpmoa"
      },
      "execution_count": 34,
      "outputs": []
    },
    {
      "cell_type": "markdown",
      "source": [
        "# Modelling"
      ],
      "metadata": {
        "id": "LDh6dOdlZuCE"
      }
    },
    {
      "cell_type": "code",
      "source": [
        "# import libraries\n",
        "from sklearn.linear_model import ElasticNet, Lasso,  BayesianRidge, LassoLarsIC\n",
        "from sklearn.ensemble import RandomForestRegressor,  GradientBoostingRegressor\n",
        "from sklearn.kernel_ridge import KernelRidge\n",
        "from sklearn.pipeline import make_pipeline\n",
        "from sklearn.preprocessing import RobustScaler\n",
        "from sklearn.base import BaseEstimator, TransformerMixin, RegressorMixin, clone\n",
        "from sklearn.model_selection import KFold, cross_val_score, train_test_split\n",
        "from sklearn.metrics import mean_squared_error\n",
        "import xgboost as xgb\n",
        "import lightgbm as lgb"
      ],
      "metadata": {
        "id": "-y2nrCJVprvE"
      },
      "execution_count": 35,
      "outputs": []
    },
    {
      "cell_type": "markdown",
      "source": [
        "> Define a cross validation strategy"
      ],
      "metadata": {
        "id": "xvimUx88qCHH"
      }
    },
    {
      "cell_type": "code",
      "source": [
        "#Validation function\n",
        "n_folds = 5\n",
        "\n",
        "def rmsle_cv(model):\n",
        "  kf = KFold(n_folds, shuffle=True, random_state=42).get_n_splits(train.values)\n",
        "  rmse= np.sqrt(-cross_val_score(model, train.values, y_train, scoring=\"neg_mean_squared_error\", cv = kf))\n",
        "  return(rmse)"
      ],
      "metadata": {
        "id": "Aqwpmo0CqGRL"
      },
      "execution_count": 36,
      "outputs": []
    },
    {
      "cell_type": "markdown",
      "source": [
        "## **Base models**"
      ],
      "metadata": {
        "id": "onq4U2KsZvZw"
      }
    },
    {
      "cell_type": "code",
      "source": [
        "# LASSO Regression\n",
        "lasso = make_pipeline(RobustScaler(), Lasso(alpha = 0.0005, random_state=1))"
      ],
      "metadata": {
        "id": "XIMF7ZE4SNar"
      },
      "execution_count": 37,
      "outputs": []
    },
    {
      "cell_type": "code",
      "source": [
        "# Elastic Net Regression\n",
        "ENet = make_pipeline(RobustScaler(), ElasticNet(alpha=0.0005, l1_ratio=.9, random_state=3))"
      ],
      "metadata": {
        "id": "ZmUitCeLSXQD"
      },
      "execution_count": 38,
      "outputs": []
    },
    {
      "cell_type": "code",
      "source": [
        "# Kernel Ridge Regression\n",
        "KRR = KernelRidge(alpha=0.6, kernel='polynomial', degree=2, coef0=2.5)"
      ],
      "metadata": {
        "id": "ElDo1qa8Sfd8"
      },
      "execution_count": 39,
      "outputs": []
    },
    {
      "cell_type": "code",
      "source": [
        "# Gradient Boosting Regression\n",
        "GBoost = GradientBoostingRegressor(n_estimators=3000, learning_rate=0.05,\n",
        "                                   max_depth=4, max_features='sqrt',\n",
        "                                   min_samples_leaf=15, min_samples_split=10,\n",
        "                                   loss='huber', random_state=5)"
      ],
      "metadata": {
        "id": "LDsbQkzkSpTW"
      },
      "execution_count": 40,
      "outputs": []
    },
    {
      "cell_type": "code",
      "source": [
        "# XGBoost\n",
        "model_xgb = xgb.XGBRegressor(colsample_bytree=0.4603, gamma=0.0468, \n",
        "                             learning_rate=0.05, max_depth=3, \n",
        "                             min_child_weight=1.7817, n_estimators=2200,\n",
        "                             reg_alpha=0.4640, reg_lambda=0.8571,\n",
        "                             subsample=0.5213, silent=1,\n",
        "                             random_state =7, nthread = -1)"
      ],
      "metadata": {
        "id": "QsQF8WjyS2aS"
      },
      "execution_count": 41,
      "outputs": []
    },
    {
      "cell_type": "code",
      "source": [
        "# LightGBM\n",
        "model_lgb = lgb.LGBMRegressor(objective='regression',num_leaves=5,\n",
        "                              learning_rate=0.05, n_estimators=720,\n",
        "                              max_bin = 55, bagging_fraction = 0.8,\n",
        "                              bagging_freq = 5, feature_fraction = 0.2319,\n",
        "                              feature_fraction_seed=9, bagging_seed=9,\n",
        "                              min_data_in_leaf =6, min_sum_hessian_in_leaf = 11)"
      ],
      "metadata": {
        "id": "bWdn5aD3S-xV"
      },
      "execution_count": 42,
      "outputs": []
    },
    {
      "cell_type": "markdown",
      "source": [
        "#### Base models scores"
      ],
      "metadata": {
        "id": "AzN520_RTCYn"
      }
    },
    {
      "cell_type": "code",
      "source": [
        "score = rmsle_cv(lasso)\n",
        "print(\"\\nLasso score: {:.4f} ({:.4f})\\n\".format(score.mean(), score.std()))"
      ],
      "metadata": {
        "colab": {
          "base_uri": "https://localhost:8080/"
        },
        "id": "gs9FPBzpTD3A",
        "outputId": "97429371-ce0b-4cc3-d7ab-64b678cf06af"
      },
      "execution_count": 43,
      "outputs": [
        {
          "output_type": "stream",
          "name": "stdout",
          "text": [
            "\n",
            "Lasso score: 0.1115 (0.0074)\n",
            "\n"
          ]
        }
      ]
    },
    {
      "cell_type": "code",
      "source": [
        "score = rmsle_cv(ENet)\n",
        "print(\"ElasticNet score: {:.4f} ({:.4f})\\n\".format(score.mean(), score.std()))"
      ],
      "metadata": {
        "colab": {
          "base_uri": "https://localhost:8080/"
        },
        "id": "mtnvXyssTPJw",
        "outputId": "1039442c-9898-43c2-d673-6e3c89d91690"
      },
      "execution_count": 44,
      "outputs": [
        {
          "output_type": "stream",
          "name": "stdout",
          "text": [
            "ElasticNet score: 0.1116 (0.0074)\n",
            "\n"
          ]
        }
      ]
    },
    {
      "cell_type": "code",
      "source": [
        "score = rmsle_cv(KRR)\n",
        "print(\"Kernel Ridge score: {:.4f} ({:.4f})\\n\".format(score.mean(), score.std()))"
      ],
      "metadata": {
        "colab": {
          "base_uri": "https://localhost:8080/"
        },
        "id": "C1W76TLVTRw7",
        "outputId": "ae450135-d6bd-4be4-8ba4-e49696e6f5b7"
      },
      "execution_count": 45,
      "outputs": [
        {
          "output_type": "stream",
          "name": "stdout",
          "text": [
            "Kernel Ridge score: 0.1153 (0.0075)\n",
            "\n"
          ]
        }
      ]
    },
    {
      "cell_type": "code",
      "source": [
        "score = rmsle_cv(GBoost)\n",
        "print(\"Gradient Boosting score: {:.4f} ({:.4f})\\n\".format(score.mean(), score.std()))"
      ],
      "metadata": {
        "colab": {
          "base_uri": "https://localhost:8080/"
        },
        "id": "QeBxdmQpTR3V",
        "outputId": "3174eefe-5412-466e-8e18-ecc9815d2a71"
      },
      "execution_count": 46,
      "outputs": [
        {
          "output_type": "stream",
          "name": "stdout",
          "text": [
            "Gradient Boosting score: 0.1167 (0.0083)\n",
            "\n"
          ]
        }
      ]
    },
    {
      "cell_type": "code",
      "source": [
        "score = rmsle_cv(model_xgb)\n",
        "print(\"Xgboost score: {:.4f} ({:.4f})\\n\".format(score.mean(), score.std()))"
      ],
      "metadata": {
        "colab": {
          "base_uri": "https://localhost:8080/"
        },
        "id": "3qnt05P5TR9a",
        "outputId": "464d0579-2b94-4bf6-ccf1-50e7fba45e4e"
      },
      "execution_count": 47,
      "outputs": [
        {
          "output_type": "stream",
          "name": "stdout",
          "text": [
            "[12:38:41] WARNING: ../src/learner.cc:767: \n",
            "Parameters: { \"silent\" } are not used.\n",
            "\n",
            "[12:38:50] WARNING: ../src/learner.cc:767: \n",
            "Parameters: { \"silent\" } are not used.\n",
            "\n",
            "[12:39:01] WARNING: ../src/learner.cc:767: \n",
            "Parameters: { \"silent\" } are not used.\n",
            "\n",
            "[12:39:12] WARNING: ../src/learner.cc:767: \n",
            "Parameters: { \"silent\" } are not used.\n",
            "\n",
            "[12:39:23] WARNING: ../src/learner.cc:767: \n",
            "Parameters: { \"silent\" } are not used.\n",
            "\n",
            "Xgboost score: 0.1172 (0.0050)\n",
            "\n"
          ]
        }
      ]
    },
    {
      "cell_type": "markdown",
      "source": [
        "- It is due to an update from the xgboost side that deprecates the silent parameter, we should change to verbosity=0."
      ],
      "metadata": {
        "id": "UcQXkX0XUR6q"
      }
    },
    {
      "cell_type": "code",
      "source": [
        "model_xgb2 = xgb.XGBRegressor(colsample_bytree=0.4603, gamma=0.0468, \n",
        "                             learning_rate=0.05, max_depth=3, \n",
        "                             min_child_weight=1.7817, n_estimators=2200,\n",
        "                             reg_alpha=0.4640, reg_lambda=0.8571,\n",
        "                             subsample=0.5213, verbosity=0,\n",
        "                             random_state =7, nthread = -1)\n",
        "score2 = rmsle_cv(model_xgb2)\n",
        "print(\"Xgboost score: {:.4f} ({:.4f})\\n\".format(score2.mean(), score2.std()))"
      ],
      "metadata": {
        "colab": {
          "base_uri": "https://localhost:8080/"
        },
        "id": "MSo94wB8UT85",
        "outputId": "68ddd0fc-f02d-4cc9-d67a-bb400c21e60f"
      },
      "execution_count": 48,
      "outputs": [
        {
          "output_type": "stream",
          "name": "stdout",
          "text": [
            "Xgboost score: 0.1172 (0.0050)\n",
            "\n"
          ]
        }
      ]
    },
    {
      "cell_type": "code",
      "source": [
        "score = rmsle_cv(model_lgb)\n",
        "print(\"LGBM score: {:.4f} ({:.4f})\\n\" .format(score.mean(), score.std()))"
      ],
      "metadata": {
        "colab": {
          "base_uri": "https://localhost:8080/"
        },
        "id": "D62YB8n6TXGZ",
        "outputId": "df29e921-e90a-4c7b-9fe2-67fb356297eb"
      },
      "execution_count": 49,
      "outputs": [
        {
          "output_type": "stream",
          "name": "stdout",
          "text": [
            "[LightGBM] [Warning] feature_fraction is set=0.2319, colsample_bytree=1.0 will be ignored. Current value: feature_fraction=0.2319\n",
            "[LightGBM] [Warning] min_sum_hessian_in_leaf is set=11, min_child_weight=0.001 will be ignored. Current value: min_sum_hessian_in_leaf=11\n",
            "[LightGBM] [Warning] min_data_in_leaf is set=6, min_child_samples=20 will be ignored. Current value: min_data_in_leaf=6\n",
            "[LightGBM] [Warning] bagging_freq is set=5, subsample_freq=0 will be ignored. Current value: bagging_freq=5\n",
            "[LightGBM] [Warning] bagging_fraction is set=0.8, subsample=1.0 will be ignored. Current value: bagging_fraction=0.8\n",
            "[LightGBM] [Warning] feature_fraction is set=0.2319, colsample_bytree=1.0 will be ignored. Current value: feature_fraction=0.2319\n",
            "[LightGBM] [Warning] min_sum_hessian_in_leaf is set=11, min_child_weight=0.001 will be ignored. Current value: min_sum_hessian_in_leaf=11\n",
            "[LightGBM] [Warning] min_data_in_leaf is set=6, min_child_samples=20 will be ignored. Current value: min_data_in_leaf=6\n",
            "[LightGBM] [Warning] bagging_freq is set=5, subsample_freq=0 will be ignored. Current value: bagging_freq=5\n",
            "[LightGBM] [Warning] bagging_fraction is set=0.8, subsample=1.0 will be ignored. Current value: bagging_fraction=0.8\n",
            "[LightGBM] [Warning] feature_fraction is set=0.2319, colsample_bytree=1.0 will be ignored. Current value: feature_fraction=0.2319\n",
            "[LightGBM] [Warning] min_sum_hessian_in_leaf is set=11, min_child_weight=0.001 will be ignored. Current value: min_sum_hessian_in_leaf=11\n",
            "[LightGBM] [Warning] min_data_in_leaf is set=6, min_child_samples=20 will be ignored. Current value: min_data_in_leaf=6\n",
            "[LightGBM] [Warning] bagging_freq is set=5, subsample_freq=0 will be ignored. Current value: bagging_freq=5\n",
            "[LightGBM] [Warning] bagging_fraction is set=0.8, subsample=1.0 will be ignored. Current value: bagging_fraction=0.8\n",
            "[LightGBM] [Warning] feature_fraction is set=0.2319, colsample_bytree=1.0 will be ignored. Current value: feature_fraction=0.2319\n",
            "[LightGBM] [Warning] min_sum_hessian_in_leaf is set=11, min_child_weight=0.001 will be ignored. Current value: min_sum_hessian_in_leaf=11\n",
            "[LightGBM] [Warning] min_data_in_leaf is set=6, min_child_samples=20 will be ignored. Current value: min_data_in_leaf=6\n",
            "[LightGBM] [Warning] bagging_freq is set=5, subsample_freq=0 will be ignored. Current value: bagging_freq=5\n",
            "[LightGBM] [Warning] bagging_fraction is set=0.8, subsample=1.0 will be ignored. Current value: bagging_fraction=0.8\n",
            "[LightGBM] [Warning] feature_fraction is set=0.2319, colsample_bytree=1.0 will be ignored. Current value: feature_fraction=0.2319\n",
            "[LightGBM] [Warning] min_sum_hessian_in_leaf is set=11, min_child_weight=0.001 will be ignored. Current value: min_sum_hessian_in_leaf=11\n",
            "[LightGBM] [Warning] min_data_in_leaf is set=6, min_child_samples=20 will be ignored. Current value: min_data_in_leaf=6\n",
            "[LightGBM] [Warning] bagging_freq is set=5, subsample_freq=0 will be ignored. Current value: bagging_freq=5\n",
            "[LightGBM] [Warning] bagging_fraction is set=0.8, subsample=1.0 will be ignored. Current value: bagging_fraction=0.8\n",
            "LGBM score: 0.1167 (0.0059)\n",
            "\n"
          ]
        }
      ]
    },
    {
      "cell_type": "markdown",
      "source": [
        "## **Stacking models**"
      ],
      "metadata": {
        "id": "Gfv0yo8kZ2F5"
      }
    },
    {
      "cell_type": "markdown",
      "source": [
        "#### Averaged base models class"
      ],
      "metadata": {
        "id": "jfzuagUoEqeD"
      }
    },
    {
      "cell_type": "code",
      "source": [
        "class AveragingModels(BaseEstimator, RegressorMixin, TransformerMixin):\n",
        "    def __init__(self, models):\n",
        "        self.models = models\n",
        "        \n",
        "    # we define clones of the original models to fit the data in\n",
        "    def fit(self, X, y):\n",
        "        self.models_ = [clone(x) for x in self.models]\n",
        "        \n",
        "        # Train cloned base models\n",
        "        for model in self.models_:\n",
        "            model.fit(X, y)\n",
        "\n",
        "        return self\n",
        "    \n",
        "    #Now we do the predictions for cloned models and average them\n",
        "    def predict(self, X):\n",
        "        predictions = np.column_stack([\n",
        "            model.predict(X) for model in self.models_\n",
        "        ])\n",
        "        return np.mean(predictions, axis=1)   "
      ],
      "metadata": {
        "id": "pV_gbthepsIg"
      },
      "execution_count": 65,
      "outputs": []
    },
    {
      "cell_type": "markdown",
      "source": [
        "#### Averaged base models score"
      ],
      "metadata": {
        "id": "ii9YmlDwEs1s"
      }
    },
    {
      "cell_type": "code",
      "source": [
        "averaged_models = AveragingModels(models = (ENet, GBoost, KRR, lasso))\n",
        "\n",
        "score = rmsle_cv(averaged_models)\n",
        "print(\" Averaged base models score: {:.4f} ({:.4f})\\n\".format(score.mean(), score.std()))"
      ],
      "metadata": {
        "colab": {
          "base_uri": "https://localhost:8080/"
        },
        "id": "9ACfwmlYEvLg",
        "outputId": "7f8a4911-6cd6-4fef-fcdd-1c6aa815b339"
      },
      "execution_count": 66,
      "outputs": [
        {
          "output_type": "stream",
          "name": "stdout",
          "text": [
            " Averaged base models score: 0.1087 (0.0077)\n",
            "\n"
          ]
        }
      ]
    },
    {
      "cell_type": "markdown",
      "source": [
        "### Less simeple Stacking : Adding a Meta-model"
      ],
      "metadata": {
        "id": "cGyEJBuAExra"
      }
    },
    {
      "cell_type": "markdown",
      "source": [
        "![image.png](data:image/png;base64,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)"
      ],
      "metadata": {
        "id": "g15aMmTKE4zz"
      }
    },
    {
      "cell_type": "markdown",
      "source": [
        "#### Stacking averaged Models Class"
      ],
      "metadata": {
        "id": "llkdGA3DFABd"
      }
    },
    {
      "cell_type": "code",
      "source": [
        "class StackingAveragedModels(BaseEstimator, RegressorMixin, TransformerMixin):\n",
        "    def __init__(self, base_models, meta_model, n_folds=5):\n",
        "        self.base_models = base_models\n",
        "        self.meta_model = meta_model\n",
        "        self.n_folds = n_folds\n",
        "   \n",
        "    # We again fit the data on clones of the original models\n",
        "    def fit(self, X, y):\n",
        "        self.base_models_ = [list() for x in self.base_models]\n",
        "        self.meta_model_ = clone(self.meta_model)\n",
        "        kfold = KFold(n_splits=self.n_folds, shuffle=True, random_state=156)\n",
        "        \n",
        "        # Train cloned base models then create out-of-fold predictions\n",
        "        # that are needed to train the cloned meta-model\n",
        "        out_of_fold_predictions = np.zeros((X.shape[0], len(self.base_models)))\n",
        "        for i, model in enumerate(self.base_models):\n",
        "            for train_index, holdout_index in kfold.split(X, y):\n",
        "                instance = clone(model)\n",
        "                self.base_models_[i].append(instance)\n",
        "                instance.fit(X[train_index], y[train_index])\n",
        "                y_pred = instance.predict(X[holdout_index])\n",
        "                out_of_fold_predictions[holdout_index, i] = y_pred\n",
        "                \n",
        "        # Now train the cloned  meta-model using the out-of-fold predictions as new feature\n",
        "        self.meta_model_.fit(out_of_fold_predictions, y)\n",
        "        return self\n",
        "   \n",
        "    #Do the predictions of all base models on the test data and use the averaged predictions as \n",
        "    #meta-features for the final prediction which is done by the meta-model\n",
        "    def predict(self, X):\n",
        "        meta_features = np.column_stack([\n",
        "            np.column_stack([model.predict(X) for model in base_models]).mean(axis=1)\n",
        "            for base_models in self.base_models_ ])\n",
        "        return self.meta_model_.predict(meta_features)"
      ],
      "metadata": {
        "id": "DLGH7BVtFC4V"
      },
      "execution_count": 67,
      "outputs": []
    },
    {
      "cell_type": "markdown",
      "source": [
        "#### Stacking Averaged models Score"
      ],
      "metadata": {
        "id": "qJBdI4IiFNG-"
      }
    },
    {
      "cell_type": "code",
      "source": [
        "stacked_averaged_models = StackingAveragedModels(base_models = (ENet, GBoost, KRR),\n",
        "                                                 meta_model = lasso)\n",
        "\n",
        "score = rmsle_cv(stacked_averaged_models)\n",
        "print(\"Stacking Averaged models score: {:.4f} ({:.4f})\".format(score.mean(), score.std()))"
      ],
      "metadata": {
        "colab": {
          "base_uri": "https://localhost:8080/"
        },
        "id": "8PFulKYjFOoc",
        "outputId": "1be9fa3e-0907-41d9-d95b-a096fbcf66b3"
      },
      "execution_count": 68,
      "outputs": [
        {
          "output_type": "stream",
          "name": "stdout",
          "text": [
            "Stacking Averaged models score: 0.1081 (0.0073)\n"
          ]
        }
      ]
    },
    {
      "cell_type": "markdown",
      "source": [
        "## Ensembling StackedRegressor, XGBoost and LightGBM"
      ],
      "metadata": {
        "id": "b9aVsEILFPpI"
      }
    },
    {
      "cell_type": "code",
      "source": [
        "# rmsle evaluation function\n",
        "def rmsle(y, y_pred):\n",
        "    return np.sqrt(mean_squared_error(y, y_pred))"
      ],
      "metadata": {
        "id": "E74OPjRFFVeS"
      },
      "execution_count": 69,
      "outputs": []
    },
    {
      "cell_type": "markdown",
      "source": [
        "### Final Training and Prediction"
      ],
      "metadata": {
        "id": "smbogn2IFZed"
      }
    },
    {
      "cell_type": "code",
      "source": [
        "# StackedRegressor\n",
        "stacked_averaged_models.fit(train.values, y_train)\n",
        "stacked_train_pred = stacked_averaged_models.predict(train.values)\n",
        "stacked_pred = np.expm1(stacked_averaged_models.predict(test.values))\n",
        "print(rmsle(y_train, stacked_train_pred))"
      ],
      "metadata": {
        "colab": {
          "base_uri": "https://localhost:8080/"
        },
        "id": "UgsRDJtvFe5C",
        "outputId": "6ea881c2-da8a-4cfc-eb31-f4ee855fbab9"
      },
      "execution_count": 70,
      "outputs": [
        {
          "output_type": "stream",
          "name": "stdout",
          "text": [
            "0.07839506096665937\n"
          ]
        }
      ]
    },
    {
      "cell_type": "code",
      "source": [
        "# XGBoost\n",
        "model_xgb.fit(train, y_train)\n",
        "xgb_train_pred = model_xgb.predict(train)\n",
        "xgb_pred = np.expm1(model_xgb.predict(test))\n",
        "print(rmsle(y_train, xgb_train_pred))"
      ],
      "metadata": {
        "colab": {
          "base_uri": "https://localhost:8080/"
        },
        "id": "8ISbZ9ZhFkFe",
        "outputId": "3a17e8ec-aae5-4cc1-cbdc-0cb4c28c1024"
      },
      "execution_count": 71,
      "outputs": [
        {
          "output_type": "stream",
          "name": "stdout",
          "text": [
            "[13:43:39] WARNING: ../src/learner.cc:767: \n",
            "Parameters: { \"silent\" } are not used.\n",
            "\n",
            "0.0790460201201611\n"
          ]
        }
      ]
    },
    {
      "cell_type": "code",
      "source": [
        "# LightGBM\n",
        "model_lgb.fit(train, y_train)\n",
        "lgb_train_pred = model_lgb.predict(train)\n",
        "lgb_pred = np.expm1(model_lgb.predict(test.values))\n",
        "print(rmsle(y_train, lgb_train_pred))"
      ],
      "metadata": {
        "colab": {
          "base_uri": "https://localhost:8080/"
        },
        "id": "9ckNfTx-FmpJ",
        "outputId": "e6c3a199-30a8-48b8-8bd2-e43ff601a57d"
      },
      "execution_count": 72,
      "outputs": [
        {
          "output_type": "stream",
          "name": "stdout",
          "text": [
            "[LightGBM] [Warning] feature_fraction is set=0.2319, colsample_bytree=1.0 will be ignored. Current value: feature_fraction=0.2319\n",
            "[LightGBM] [Warning] min_sum_hessian_in_leaf is set=11, min_child_weight=0.001 will be ignored. Current value: min_sum_hessian_in_leaf=11\n",
            "[LightGBM] [Warning] min_data_in_leaf is set=6, min_child_samples=20 will be ignored. Current value: min_data_in_leaf=6\n",
            "[LightGBM] [Warning] bagging_freq is set=5, subsample_freq=0 will be ignored. Current value: bagging_freq=5\n",
            "[LightGBM] [Warning] bagging_fraction is set=0.8, subsample=1.0 will be ignored. Current value: bagging_fraction=0.8\n",
            "0.07169383068991829\n"
          ]
        }
      ]
    },
    {
      "cell_type": "code",
      "source": [
        "'''RMSE on the entire Train data when averaging'''\n",
        "\n",
        "print('RMSLE score on train data:')\n",
        "print(rmsle(y_train,stacked_train_pred*0.70 +\n",
        "               xgb_train_pred*0.15 + lgb_train_pred*0.15 ))"
      ],
      "metadata": {
        "colab": {
          "base_uri": "https://localhost:8080/"
        },
        "id": "tuTxujZfFpQ2",
        "outputId": "fc1f9f58-7358-4f1a-aa86-899992743e54"
      },
      "execution_count": 73,
      "outputs": [
        {
          "output_type": "stream",
          "name": "stdout",
          "text": [
            "RMSLE score on train data:\n",
            "0.07548697935004024\n"
          ]
        }
      ]
    },
    {
      "cell_type": "markdown",
      "source": [
        "#### Ensemble prediction"
      ],
      "metadata": {
        "id": "bPMth3Y1FrB9"
      }
    },
    {
      "cell_type": "code",
      "source": [
        "ensemble = stacked_pred*0.70 + xgb_pred*0.15 + lgb_pred*0.15"
      ],
      "metadata": {
        "id": "6paQm77uFs_W"
      },
      "execution_count": 74,
      "outputs": []
    },
    {
      "cell_type": "markdown",
      "source": [
        "#### Submission"
      ],
      "metadata": {
        "id": "lKmxowMBFy1f"
      }
    },
    {
      "cell_type": "code",
      "source": [
        "# sub = pd.DataFrame()\n",
        "# sub['Id'] = test_ID\n",
        "# sub['SalePrice'] = ensemble\n",
        "# sub.to_csv('submission.csv',index=False)"
      ],
      "metadata": {
        "id": "HUMkUiQRF0OY"
      },
      "execution_count": null,
      "outputs": []
    }
  ]
}