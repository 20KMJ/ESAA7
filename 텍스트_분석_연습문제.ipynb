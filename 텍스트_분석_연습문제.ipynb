{
  "nbformat": 4,
  "nbformat_minor": 0,
  "metadata": {
    "colab": {
      "provenance": [],
      "include_colab_link": true
    },
    "kernelspec": {
      "name": "python3",
      "display_name": "Python 3"
    },
    "language_info": {
      "name": "python"
    }
  },
  "cells": [
    {
      "cell_type": "markdown",
      "metadata": {
        "id": "view-in-github",
        "colab_type": "text"
      },
      "source": [
        "<a href=\"https://colab.research.google.com/github/20KMJ/ESAA7/blob/main/%ED%85%8D%EC%8A%A4%ED%8A%B8_%EB%B6%84%EC%84%9D_%EC%97%B0%EC%8A%B5%EB%AC%B8%EC%A0%9C.ipynb\" target=\"_parent\"><img src=\"https://colab.research.google.com/assets/colab-badge.svg\" alt=\"Open In Colab\"/></a>"
      ]
    },
    {
      "cell_type": "markdown",
      "source": [
        "## **| 텍스트 분석 연습 문제**\n",
        "\n",
        "- 출처 : 캐글"
      ],
      "metadata": {
        "id": "Yw5mfB-1YfRw"
      }
    },
    {
      "cell_type": "markdown",
      "source": [
        "### **1. Tokenization**\n",
        "\n",
        "In the field of Natural Language Processing, tokenization basically refers to splitting up a larger body of text into smaller lines or words.\n",
        "\n",
        "There are mainly two types of tokenization :\n",
        "\n",
        "- Sentence Tokenization\n",
        "- Word Tokenization"
      ],
      "metadata": {
        "id": "zZBGXubsY6lE"
      }
    },
    {
      "cell_type": "code",
      "source": [
        "# import package\n",
        "import nltk\n",
        "nltk.download('punkt')\n",
        "from nltk.tokenize import sent_tokenize, word_tokenize "
      ],
      "metadata": {
        "id": "zpux756aZRgB",
        "outputId": "cdcafc99-0101-4d0c-885b-b1d6488a8046",
        "colab": {
          "base_uri": "https://localhost:8080/"
        }
      },
      "execution_count": 1,
      "outputs": [
        {
          "output_type": "stream",
          "name": "stderr",
          "text": [
            "[nltk_data] Downloading package punkt to /root/nltk_data...\n",
            "[nltk_data]   Unzipping tokenizers/punkt.zip.\n"
          ]
        }
      ]
    },
    {
      "cell_type": "code",
      "source": [
        "# sample text to perform our operations\n",
        "text = \"Hi, My name is Amartya Nambiar. I am a Computer Science Engineer. My favourite color is black\""
      ],
      "metadata": {
        "id": "-vKDqW1WZcjr"
      },
      "execution_count": 2,
      "outputs": []
    },
    {
      "cell_type": "code",
      "source": [
        "# 문장 토큰화\n",
        "sentences = sent_tokenize(text=text)\n",
        "\n",
        "print(type(sentences), len(sentences))\n",
        "print(sentences)"
      ],
      "metadata": {
        "id": "GowligokZeEA",
        "colab": {
          "base_uri": "https://localhost:8080/"
        },
        "outputId": "4e2942f3-a56e-41d6-dff5-d345d336d7a9"
      },
      "execution_count": 3,
      "outputs": [
        {
          "output_type": "stream",
          "name": "stdout",
          "text": [
            "<class 'list'> 3\n",
            "['Hi, My name is Amartya Nambiar.', 'I am a Computer Science Engineer.', 'My favourite color is black']\n"
          ]
        }
      ]
    },
    {
      "cell_type": "code",
      "source": [
        "# 단어 토큰화, 길이 출력\n",
        "words = word_tokenize(text)\n",
        "print(type(words), len(words))\n",
        "print(words)"
      ],
      "metadata": {
        "id": "pY1VFCkVaDrQ",
        "colab": {
          "base_uri": "https://localhost:8080/"
        },
        "outputId": "981530ba-99a1-4d8a-8d4c-c8d7a6eb963f"
      },
      "execution_count": 5,
      "outputs": [
        {
          "output_type": "stream",
          "name": "stdout",
          "text": [
            "<class 'list'> 20\n",
            "['Hi', ',', 'My', 'name', 'is', 'Amartya', 'Nambiar', '.', 'I', 'am', 'a', 'Computer', 'Science', 'Engineer', '.', 'My', 'favourite', 'color', 'is', 'black']\n"
          ]
        }
      ]
    },
    {
      "cell_type": "markdown",
      "source": [
        "### **2. Stopwords & Flushing them**\n",
        "\n",
        "Stopwords are the English words which does not add much meaning to a sentence. They can safely be ignored without sacrificing the meaning of the sentence."
      ],
      "metadata": {
        "id": "unjlrUQTaiGV"
      }
    },
    {
      "cell_type": "code",
      "source": [
        "import nltk\n",
        "nltk.download('stopwords') \n",
        "from nltk.corpus import stopwords  "
      ],
      "metadata": {
        "id": "Rf5p8-7KazcD",
        "colab": {
          "base_uri": "https://localhost:8080/"
        },
        "outputId": "c63d5cba-bb71-4664-9b64-53a870806a5b"
      },
      "execution_count": 6,
      "outputs": [
        {
          "output_type": "stream",
          "name": "stderr",
          "text": [
            "[nltk_data] Downloading package stopwords to /root/nltk_data...\n",
            "[nltk_data]   Unzipping corpora/stopwords.zip.\n"
          ]
        }
      ]
    },
    {
      "cell_type": "code",
      "source": [
        "# english stopword 불러오기, 15개만 확인\n",
        "print('영어 stop words 개수:', len(nltk.corpus.stopwords.words('english')))\n",
        "print(nltk.corpus.stopwords.words('english')[:15])"
      ],
      "metadata": {
        "id": "f8kqXiktbBSc",
        "colab": {
          "base_uri": "https://localhost:8080/"
        },
        "outputId": "b9eb7c2a-f03b-4fb9-bc0c-efd51d642252"
      },
      "execution_count": 7,
      "outputs": [
        {
          "output_type": "stream",
          "name": "stdout",
          "text": [
            "영어 stop words 개수: 179\n",
            "['i', 'me', 'my', 'myself', 'we', 'our', 'ours', 'ourselves', 'you', \"you're\", \"you've\", \"you'll\", \"you'd\", 'your', 'yours']\n"
          ]
        }
      ]
    },
    {
      "cell_type": "code",
      "source": [
        "# 필터링을 통해 text에서 stopword 제거\n",
        "\n",
        "stopwords = nltk.corpus.stopwords.words('english')\n",
        "all_tokens = []\n",
        "for word in words:\n",
        "  word = word.lower()\n",
        "  if word not in stopwords:\n",
        "    all_tokens.append(word)\n",
        "\n",
        "print(all_tokens)"
      ],
      "metadata": {
        "id": "CTeQujmRbPZp",
        "colab": {
          "base_uri": "https://localhost:8080/"
        },
        "outputId": "42431779-adfd-4066-961c-5080efdeb5c4"
      },
      "execution_count": 10,
      "outputs": [
        {
          "output_type": "stream",
          "name": "stdout",
          "text": [
            "['hi', ',', 'name', 'amartya', 'nambiar', '.', 'computer', 'science', 'engineer', '.', 'favourite', 'color', 'black']\n"
          ]
        }
      ]
    },
    {
      "cell_type": "code",
      "source": [
        "# punctuation('.', ',') 제거\n",
        "punct = ['.', ',']\n",
        "all_tokens_final = []\n",
        "for word in all_tokens:\n",
        "  if word not in punct:\n",
        "    all_tokens_final.append(word)\n",
        "\n",
        "print(all_tokens_final)"
      ],
      "metadata": {
        "id": "lxAH2ytMb3TY",
        "colab": {
          "base_uri": "https://localhost:8080/"
        },
        "outputId": "3e3ac9e2-006d-48ba-c666-a3b31aecc2c6"
      },
      "execution_count": 11,
      "outputs": [
        {
          "output_type": "stream",
          "name": "stdout",
          "text": [
            "['hi', 'name', 'amartya', 'nambiar', 'computer', 'science', 'engineer', 'favourite', 'color', 'black']\n"
          ]
        }
      ]
    },
    {
      "cell_type": "markdown",
      "source": [
        "### **3. Stemming**\n",
        "\n",
        "Stemming is a technique used to extract the base form of the words by removing affixes from them. It is just like cutting down the branches of a tree to its stems. For example, the stem of the words eating, eats, eaten is eat.\n",
        "\n",
        "There are mainly two widely used Stemmer Algorithms:\n",
        "\n",
        "- Porter Stemmer (we'll work on this)\n",
        "- Lancaster Stem"
      ],
      "metadata": {
        "id": "yEAlzfMhcBcK"
      }
    },
    {
      "cell_type": "code",
      "source": [
        "from nltk.stem import PorterStemmer"
      ],
      "metadata": {
        "id": "EQQuNe0McNBg"
      },
      "execution_count": 12,
      "outputs": []
    },
    {
      "cell_type": "code",
      "source": [
        "# ps 객체 생성 후 stemming , example 최소 3개 임의 생성 후 시도해보기\n",
        "# example1= ['helps', 'helping', 'helped']\n",
        "\n",
        "ps = PorterStemmer()\n",
        "\n",
        "print(ps.stem('helps'), ps.stem('helping'), ps.stem('helped'))\n",
        "print(ps.stem('working'), ps.stem('works'), ps.stem('worked'))\n",
        "print(ps.stem('amusing'), ps.stem('amuses'), ps.stem('amused'))\n",
        "print(ps.stem('happier'), ps.stem('happiest'))\n",
        "print(ps.stem('fancier'), ps.stem('fanciest'))"
      ],
      "metadata": {
        "id": "hp_atqYwdkR2",
        "colab": {
          "base_uri": "https://localhost:8080/"
        },
        "outputId": "f218a101-d2e7-40f6-c929-11b5ebc443bb"
      },
      "execution_count": 13,
      "outputs": [
        {
          "output_type": "stream",
          "name": "stdout",
          "text": [
            "help help help\n",
            "work work work\n",
            "amus amus amus\n",
            "happier happiest\n",
            "fancier fanciest\n"
          ]
        }
      ]
    },
    {
      "cell_type": "code",
      "source": [
        "ps.stem('happiness') # but it isn't always the best choice"
      ],
      "metadata": {
        "id": "mwMDJ3ZaduyK",
        "colab": {
          "base_uri": "https://localhost:8080/",
          "height": 35
        },
        "outputId": "f5673f2e-eca2-4d67-cb4b-12a7cf8e1486"
      },
      "execution_count": 14,
      "outputs": [
        {
          "output_type": "execute_result",
          "data": {
            "text/plain": [
              "'happi'"
            ],
            "application/vnd.google.colaboratory.intrinsic+json": {
              "type": "string"
            }
          },
          "metadata": {},
          "execution_count": 14
        }
      ]
    },
    {
      "cell_type": "markdown",
      "source": [
        "### **4. Parts of Speech**\n",
        "\n",
        "To know what is the context of a particular word\n",
        "\n",
        "For example : Shyam is a Proper Noun, Desk is a Noun and Happy is an adjective."
      ],
      "metadata": {
        "id": "71eO1YE1dwBv"
      }
    },
    {
      "cell_type": "code",
      "source": [
        "from nltk import pos_tag\n",
        "from nltk.corpus import movie_reviews\n",
        "import nltk \n",
        "nltk.download('movie_reviews')\n",
        "text = movie_reviews.raw(\"neg/cv954_19932.txt\")"
      ],
      "metadata": {
        "id": "S2iVOPi4eEKC",
        "colab": {
          "base_uri": "https://localhost:8080/"
        },
        "outputId": "47d2aa1f-9a26-4b4c-9654-2cd799235edd"
      },
      "execution_count": 31,
      "outputs": [
        {
          "output_type": "stream",
          "name": "stderr",
          "text": [
            "[nltk_data] Downloading package movie_reviews to /root/nltk_data...\n",
            "[nltk_data]   Unzipping corpora/movie_reviews.zip.\n"
          ]
        }
      ]
    },
    {
      "cell_type": "code",
      "source": [
        "# apply pos_tag(), print result\n",
        "nltk.download('averaged_perceptron_tagger')\n",
        "pos_tag(word_tokenize(text))"
      ],
      "metadata": {
        "colab": {
          "base_uri": "https://localhost:8080/"
        },
        "id": "2XqPKdlWJyXW",
        "outputId": "e06e55f0-2727-4191-c4fb-2c2f0a71e5e7"
      },
      "execution_count": 33,
      "outputs": [
        {
          "output_type": "stream",
          "name": "stderr",
          "text": [
            "[nltk_data] Downloading package averaged_perceptron_tagger to\n",
            "[nltk_data]     /root/nltk_data...\n",
            "[nltk_data]   Unzipping taggers/averaged_perceptron_tagger.zip.\n"
          ]
        },
        {
          "output_type": "execute_result",
          "data": {
            "text/plain": [
              "[('a', 'DT'),\n",
              " ('new', 'JJ'),\n",
              " ('entry', 'NN'),\n",
              " ('in', 'IN'),\n",
              " ('the', 'DT'),\n",
              " ('``', '``'),\n",
              " ('revisionist', 'JJ'),\n",
              " ('history', 'NN'),\n",
              " ('``', '``'),\n",
              " ('genre', 'NN'),\n",
              " ('of', 'IN'),\n",
              " ('filmmaking', 'NN'),\n",
              " (',', ','),\n",
              " ('dick', 'JJ'),\n",
              " ('suggests', 'VBZ'),\n",
              " ('that', 'IN'),\n",
              " ('two', 'CD'),\n",
              " ('not-too-bright', 'JJ'),\n",
              " ('teenage', 'NN'),\n",
              " ('girls', 'NNS'),\n",
              " ('are', 'VBP'),\n",
              " ('the', 'DT'),\n",
              " ('cause', 'NN'),\n",
              " ('of', 'IN'),\n",
              " ('the', 'DT'),\n",
              " ('uncovering', 'NN'),\n",
              " ('of', 'IN'),\n",
              " ('the', 'DT'),\n",
              " ('nation', 'NN'),\n",
              " (\"'s\", 'POS'),\n",
              " ('biggest', 'JJS'),\n",
              " ('presidential', 'JJ'),\n",
              " ('scandal', 'NN'),\n",
              " ('.', '.'),\n",
              " ('kirsten', 'VB'),\n",
              " ('dunst', 'JJ'),\n",
              " ('and', 'CC'),\n",
              " ('michelle', 'JJ'),\n",
              " ('williams', 'NNS'),\n",
              " ('star', 'VBP'),\n",
              " ('betsy', 'NN'),\n",
              " ('and', 'CC'),\n",
              " ('arlene', 'NN'),\n",
              " (',', ','),\n",
              " ('who', 'WP'),\n",
              " ('while', 'IN'),\n",
              " ('trying', 'VBG'),\n",
              " ('to', 'TO'),\n",
              " ('deliver', 'VB'),\n",
              " ('a', 'DT'),\n",
              " ('fan', 'NN'),\n",
              " ('letter', 'NN'),\n",
              " ('from', 'IN'),\n",
              " ('arlene', 'NN'),\n",
              " (\"'s\", 'POS'),\n",
              " ('watergate', 'JJ'),\n",
              " ('hotel', 'NN'),\n",
              " ('room', 'NN'),\n",
              " (',', ','),\n",
              " ('accidentally', 'RB'),\n",
              " ('stumble', 'JJ'),\n",
              " ('across', 'IN'),\n",
              " ('g', 'NN'),\n",
              " ('.', '.'),\n",
              " ('gordon', 'NN'),\n",
              " ('liddy', 'NN'),\n",
              " ('(', '('),\n",
              " ('played', 'VBN'),\n",
              " ('dead-on', 'NN'),\n",
              " ('by', 'IN'),\n",
              " ('harry', 'JJ'),\n",
              " ('shearer', 'NN'),\n",
              " (')', ')'),\n",
              " ('and', 'CC'),\n",
              " ('the', 'DT'),\n",
              " ('infamous', 'JJ'),\n",
              " ('break-in', 'NN'),\n",
              " ('.', '.'),\n",
              " ('when', 'WRB'),\n",
              " ('they', 'PRP'),\n",
              " ('recognize', 'VBP'),\n",
              " ('liddy', 'JJ'),\n",
              " ('later', 'RB'),\n",
              " ('on', 'IN'),\n",
              " ('during', 'IN'),\n",
              " ('a', 'DT'),\n",
              " ('white', 'JJ'),\n",
              " ('house', 'NN'),\n",
              " ('field', 'NN'),\n",
              " ('trip', 'NN'),\n",
              " (',', ','),\n",
              " ('they', 'PRP'),\n",
              " ('are', 'VBP'),\n",
              " ('ushered', 'JJ'),\n",
              " ('into', 'IN'),\n",
              " ('a', 'DT'),\n",
              " ('conference', 'NN'),\n",
              " ('room', 'NN'),\n",
              " (',', ','),\n",
              " ('questioned', 'VBD'),\n",
              " ('as', 'IN'),\n",
              " ('to', 'TO'),\n",
              " ('what', 'WP'),\n",
              " ('they', 'PRP'),\n",
              " ('know', 'VBP'),\n",
              " (',', ','),\n",
              " ('and', 'CC'),\n",
              " ('leave', 'VBP'),\n",
              " ('as', 'IN'),\n",
              " ('official', 'JJ'),\n",
              " ('presidential', 'JJ'),\n",
              " ('dog', 'NN'),\n",
              " ('walkers', 'NNS'),\n",
              " ('.', '.'),\n",
              " ('the', 'DT'),\n",
              " ('girls', 'JJ'),\n",
              " ('manage', 'NN'),\n",
              " ('to', 'TO'),\n",
              " ('unwittingly', 'RB'),\n",
              " ('uncover', 'JJ'),\n",
              " ('every', 'DT'),\n",
              " ('bit', 'NN'),\n",
              " ('of', 'IN'),\n",
              " ('the', 'DT'),\n",
              " ('watergate', 'NN'),\n",
              " ('scandal', 'NN'),\n",
              " ('while', 'IN'),\n",
              " ('performing', 'VBG'),\n",
              " ('their', 'PRP$'),\n",
              " ('duties', 'NNS'),\n",
              " (',', ','),\n",
              " ('but', 'CC'),\n",
              " ('have', 'VBP'),\n",
              " ('no', 'DT'),\n",
              " ('clue', 'NN'),\n",
              " ('as', 'IN'),\n",
              " ('to', 'TO'),\n",
              " ('what', 'WP'),\n",
              " ('they', 'PRP'),\n",
              " ('are', 'VBP'),\n",
              " ('getting', 'VBG'),\n",
              " ('involved', 'VBN'),\n",
              " ('with', 'IN'),\n",
              " ('.', '.'),\n",
              " ('when', 'WRB'),\n",
              " ('they', 'PRP'),\n",
              " ('discover', 'VBP'),\n",
              " ('that', 'IN'),\n",
              " ('nixon', 'NN'),\n",
              " ('(', '('),\n",
              " ('another', 'DT'),\n",
              " ('dead-on', 'NN'),\n",
              " ('performance', 'NN'),\n",
              " ('by', 'IN'),\n",
              " ('dan', 'NN'),\n",
              " ('hedaya', 'NN'),\n",
              " (',', ','),\n",
              " ('who', 'WP'),\n",
              " ('actually', 'RB'),\n",
              " ('favors', 'VBZ'),\n",
              " ('nixon', 'JJ'),\n",
              " ('slightly', 'RB'),\n",
              " (',', ','),\n",
              " ('unlike', 'IN'),\n",
              " ('anthony', 'NN'),\n",
              " ('hopkins', 'NNS'),\n",
              " (')', ')'),\n",
              " ('has', 'VBZ'),\n",
              " ('been', 'VBN'),\n",
              " ('abusive', 'JJ'),\n",
              " ('to', 'TO'),\n",
              " ('checkers', 'NNS'),\n",
              " (',', ','),\n",
              " ('the', 'DT'),\n",
              " ('presidential', 'JJ'),\n",
              " ('dog', 'NN'),\n",
              " (',', ','),\n",
              " ('thanks', 'NNS'),\n",
              " ('to', 'TO'),\n",
              " ('the', 'DT'),\n",
              " ('conversations', 'NNS'),\n",
              " ('that', 'IN'),\n",
              " ('he', 'PRP'),\n",
              " ('always', 'RB'),\n",
              " ('recorded', 'VBD'),\n",
              " (',', ','),\n",
              " ('they', 'PRP'),\n",
              " ('quit', 'VBP'),\n",
              " ('and', 'CC'),\n",
              " ('become', 'VBP'),\n",
              " ('disillusioned', 'VBN'),\n",
              " ('.', '.'),\n",
              " ('during', 'IN'),\n",
              " ('a', 'DT'),\n",
              " ('prank', 'NN'),\n",
              " ('phone', 'NN'),\n",
              " ('call', 'NN'),\n",
              " ('the', 'DT'),\n",
              " ('girls', 'NNS'),\n",
              " ('make', 'VBP'),\n",
              " ('to', 'TO'),\n",
              " ('woodward', 'VB'),\n",
              " ('and', 'CC'),\n",
              " ('bernstein', 'VB'),\n",
              " (',', ','),\n",
              " ('events', 'NNS'),\n",
              " ('are', 'VBP'),\n",
              " ('set', 'VBN'),\n",
              " ('into', 'IN'),\n",
              " ('motion', 'NN'),\n",
              " ('that', 'WDT'),\n",
              " ('eventually', 'RB'),\n",
              " ('lead', 'VBP'),\n",
              " ('to', 'TO'),\n",
              " ('the', 'DT'),\n",
              " ('president', 'NN'),\n",
              " (\"'s\", 'POS'),\n",
              " ('resignation', 'NN'),\n",
              " ('.', '.'),\n",
              " ('this', 'DT'),\n",
              " ('film', 'NN'),\n",
              " ('starts', 'VBZ'),\n",
              " ('off', 'IN'),\n",
              " ('promisingly', 'RB'),\n",
              " ('with', 'IN'),\n",
              " ('an', 'DT'),\n",
              " ('aged', 'VBN'),\n",
              " ('woodward', 'NN'),\n",
              " ('and', 'CC'),\n",
              " ('bernstein', 'NN'),\n",
              " ('arguing', 'VBG'),\n",
              " ('with', 'IN'),\n",
              " ('each', 'DT'),\n",
              " ('other', 'JJ'),\n",
              " ('on', 'IN'),\n",
              " ('an', 'DT'),\n",
              " ('obvious', 'JJ'),\n",
              " ('larry', 'NN'),\n",
              " ('king-type', 'JJ'),\n",
              " ('talk', 'NN'),\n",
              " ('show', 'NN'),\n",
              " ('(', '('),\n",
              " ('featuring', 'VBG'),\n",
              " ('a', 'DT'),\n",
              " ('cameo', 'NN'),\n",
              " ('by', 'IN'),\n",
              " ('french', 'JJ'),\n",
              " ('stewart', 'NN'),\n",
              " (')', ')'),\n",
              " ('about', 'IN'),\n",
              " ('revealing', 'VBG'),\n",
              " ('the', 'DT'),\n",
              " ('identity', 'NN'),\n",
              " ('of', 'IN'),\n",
              " ('``', '``'),\n",
              " ('deep', 'JJ'),\n",
              " ('throat', 'NN'),\n",
              " ('``', '``'),\n",
              " ('.', '.'),\n",
              " ('from', 'IN'),\n",
              " ('there', 'RB'),\n",
              " (',', ','),\n",
              " ('we', 'PRP'),\n",
              " ('are', 'VBP'),\n",
              " ('subjected', 'VBN'),\n",
              " ('to', 'TO'),\n",
              " ('bodily', 'VB'),\n",
              " ('function', 'NN'),\n",
              " ('humor', 'NN'),\n",
              " ('and', 'CC'),\n",
              " ('just', 'RB'),\n",
              " ('about', 'IN'),\n",
              " ('every', 'DT'),\n",
              " ('bad', 'JJ'),\n",
              " ('``', '``'),\n",
              " ('dick', 'JJ'),\n",
              " ('``', '``'),\n",
              " ('joke', 'VBD'),\n",
              " ('one', 'CD'),\n",
              " ('can', 'MD'),\n",
              " ('derive', 'VB'),\n",
              " ('from', 'IN'),\n",
              " ('this', 'DT'),\n",
              " ('type', 'NN'),\n",
              " ('of', 'IN'),\n",
              " ('supposed', 'JJ'),\n",
              " ('comedy', 'NN'),\n",
              " ('.', '.'),\n",
              " ('at', 'IN'),\n",
              " ('one', 'CD'),\n",
              " ('point', 'NN'),\n",
              " (',', ','),\n",
              " ('the', 'DT'),\n",
              " ('girls', 'NNS'),\n",
              " ('are', 'VBP'),\n",
              " ('having', 'VBG'),\n",
              " ('to', 'TO'),\n",
              " ('scream', 'VB'),\n",
              " ('over', 'IN'),\n",
              " ('a', 'DT'),\n",
              " ('high', 'JJ'),\n",
              " ('school', 'NN'),\n",
              " ('band', 'VBP'),\n",
              " ('playing', 'VBG'),\n",
              " ('on', 'IN'),\n",
              " ('the', 'DT'),\n",
              " ('steps', 'NNS'),\n",
              " ('of', 'IN'),\n",
              " ('the', 'DT'),\n",
              " ('lincoln', 'NN'),\n",
              " ('memorial', 'NN'),\n",
              " ('.', '.'),\n",
              " ('the', 'DT'),\n",
              " ('band', 'NN'),\n",
              " ('manages', 'VBZ'),\n",
              " ('to', 'TO'),\n",
              " ('stop', 'VB'),\n",
              " ('right', 'NN'),\n",
              " ('as', 'IN'),\n",
              " ('dunst', 'JJ'),\n",
              " ('screams', 'VBP'),\n",
              " ('``', '``'),\n",
              " ('you', 'PRP'),\n",
              " ('have', 'VBP'),\n",
              " ('to', 'TO'),\n",
              " ('stop', 'VB'),\n",
              " ('letting', 'VBG'),\n",
              " ('dick', 'JJ'),\n",
              " ('run', 'VB'),\n",
              " ('your', 'PRP$'),\n",
              " ('life', 'NN'),\n",
              " ('!', '.'),\n",
              " ('``', '``'),\n",
              " ('much', 'JJ'),\n",
              " ('to', 'TO'),\n",
              " ('the', 'DT'),\n",
              " ('horror', 'NN'),\n",
              " ('of', 'IN'),\n",
              " ('everyone', 'NN'),\n",
              " ('standing', 'VBG'),\n",
              " ('within', 'IN'),\n",
              " ('earshot', 'JJ'),\n",
              " ('.', '.'),\n",
              " ('several', 'JJ'),\n",
              " ('other', 'JJ'),\n",
              " ('variations', 'NNS'),\n",
              " ('on', 'IN'),\n",
              " ('this', 'DT'),\n",
              " ('wordplay', 'NN'),\n",
              " ('surface', 'NN'),\n",
              " ('all', 'DT'),\n",
              " ('throughout', 'IN'),\n",
              " ('the', 'DT'),\n",
              " ('film', 'NN'),\n",
              " ('.', '.'),\n",
              " ('if', 'IN'),\n",
              " ('this', 'DT'),\n",
              " ('movie', 'NN'),\n",
              " ('had', 'VBD'),\n",
              " ('been', 'VBN'),\n",
              " ('smarter', 'JJ'),\n",
              " ('i', 'NN'),\n",
              " ('would', 'MD'),\n",
              " ('have', 'VB'),\n",
              " ('been', 'VBN'),\n",
              " ('less', 'RBR'),\n",
              " ('likely', 'JJ'),\n",
              " ('to', 'TO'),\n",
              " ('fault', 'VB'),\n",
              " ('it', 'PRP'),\n",
              " (\"'s\", 'VBZ'),\n",
              " ('juvenile', 'JJ'),\n",
              " ('bathroom', 'NN'),\n",
              " ('humor', 'NN'),\n",
              " (',', ','),\n",
              " ('but', 'CC'),\n",
              " ('it', 'PRP'),\n",
              " (\"'s\", 'VBZ'),\n",
              " ('not', 'RB'),\n",
              " ('.', '.'),\n",
              " ('the', 'DT'),\n",
              " ('film', 'NN'),\n",
              " ('was', 'VBD'),\n",
              " ('apparently', 'RB'),\n",
              " ('made', 'VBN'),\n",
              " ('for', 'IN'),\n",
              " ('relatively', 'RB'),\n",
              " ('younger', 'JJR'),\n",
              " ('people', 'NNS'),\n",
              " ('because', 'IN'),\n",
              " ('every', 'DT'),\n",
              " ('major', 'JJ'),\n",
              " ('player', 'NN'),\n",
              " ('in', 'IN'),\n",
              " ('the', 'DT'),\n",
              " ('watergate', 'NN'),\n",
              " ('scandal', 'NN'),\n",
              " ('is', 'VBZ'),\n",
              " ('introduced', 'VBN'),\n",
              " ('and', 'CC'),\n",
              " ('shoved', 'VBN'),\n",
              " ('down', 'RP'),\n",
              " ('the', 'DT'),\n",
              " ('audience', 'NN'),\n",
              " (\"'s\", 'POS'),\n",
              " ('throat', 'NN'),\n",
              " ('in', 'IN'),\n",
              " ('the', 'DT'),\n",
              " ('least', 'JJS'),\n",
              " ('subtle', 'JJ'),\n",
              " ('way', 'NN'),\n",
              " ('possible', 'JJ'),\n",
              " ('.', '.'),\n",
              " ('i', 'NN'),\n",
              " ('do', 'VBP'),\n",
              " (\"n't\", 'RB'),\n",
              " ('recall', 'VB'),\n",
              " ('oliver', 'RP'),\n",
              " ('stone', 'NN'),\n",
              " (\"'s\", 'POS'),\n",
              " ('nixon', 'JJ'),\n",
              " ('having', 'VBG'),\n",
              " ('to', 'TO'),\n",
              " ('pander', 'VB'),\n",
              " ('to', 'TO'),\n",
              " ('it', 'PRP'),\n",
              " (\"'s\", 'VBZ'),\n",
              " ('audience', 'NN'),\n",
              " (',', ','),\n",
              " ('but', 'CC'),\n",
              " ('of', 'IN'),\n",
              " ('course', 'NN'),\n",
              " ('that', 'IN'),\n",
              " ('film', 'NN'),\n",
              " ('was', 'VBD'),\n",
              " (\"n't\", 'RB'),\n",
              " ('a', 'DT'),\n",
              " ('comedy', 'NN'),\n",
              " ('aimed', 'VBN'),\n",
              " ('squarely', 'RB'),\n",
              " ('at', 'IN'),\n",
              " ('a', 'DT'),\n",
              " ('13-20', 'JJ'),\n",
              " ('year-old', 'JJ'),\n",
              " ('film', 'NN'),\n",
              " ('going', 'VBG'),\n",
              " ('audience', 'NN'),\n",
              " ('.', '.'),\n",
              " ('the', 'DT'),\n",
              " ('only', 'JJ'),\n",
              " ('redeeming', 'JJ'),\n",
              " ('thing', 'NN'),\n",
              " ('about', 'IN'),\n",
              " ('this', 'DT'),\n",
              " ('movie', 'NN'),\n",
              " ('is', 'VBZ'),\n",
              " ('it', 'PRP'),\n",
              " (\"'s\", 'VBZ'),\n",
              " ('remarkable', 'JJ'),\n",
              " ('supporting', 'VBG'),\n",
              " ('cast', 'NN'),\n",
              " ('.', '.'),\n",
              " ('i', 'NN'),\n",
              " ('wanted', 'VBD'),\n",
              " ('to', 'TO'),\n",
              " ('see', 'VB'),\n",
              " ('more', 'JJR'),\n",
              " ('of', 'IN'),\n",
              " ('ferrell', 'NN'),\n",
              " ('and', 'CC'),\n",
              " ('mcculloch', 'NN'),\n",
              " (\"'s\", 'POS'),\n",
              " ('woodward', 'NN'),\n",
              " ('and', 'CC'),\n",
              " ('bernstein', 'NN'),\n",
              " ('.', '.'),\n",
              " ('those', 'DT'),\n",
              " ('two', 'CD'),\n",
              " ('characters', 'NNS'),\n",
              " ('are', 'VBP'),\n",
              " ('the', 'DT'),\n",
              " ('sole', 'JJ'),\n",
              " ('basis', 'NN'),\n",
              " ('for', 'IN'),\n",
              " ('my', 'PRP$'),\n",
              " ('rating', 'NN'),\n",
              " ('.', '.'),\n",
              " ('i', 'JJ'),\n",
              " ('wish', 'NN'),\n",
              " ('they', 'PRP'),\n",
              " ('had', 'VBD'),\n",
              " ('been', 'VBN'),\n",
              " ('given', 'VBN'),\n",
              " ('more', 'RBR'),\n",
              " ('screen', 'JJ'),\n",
              " ('time', 'NN'),\n",
              " (',', ','),\n",
              " ('but', 'CC'),\n",
              " ('unfortunately', 'RB'),\n",
              " (',', ','),\n",
              " ('they', 'PRP'),\n",
              " ('are', 'VBP'),\n",
              " ('only', 'RB'),\n",
              " ('relegated', 'VBN'),\n",
              " ('to', 'TO'),\n",
              " ('the', 'DT'),\n",
              " ('final', 'JJ'),\n",
              " ('half-hour', 'NN'),\n",
              " ('.', '.'),\n",
              " ('their', 'PRP$'),\n",
              " ('constant', 'JJ'),\n",
              " ('bickering', 'NN'),\n",
              " ('and', 'CC'),\n",
              " ('fighting', 'NN'),\n",
              " ('over', 'IN'),\n",
              " ('trying', 'VBG'),\n",
              " ('to', 'TO'),\n",
              " ('get', 'VB'),\n",
              " ('the', 'DT'),\n",
              " ('story', 'NN'),\n",
              " ('are', 'VBP'),\n",
              " ('a', 'DT'),\n",
              " ('major', 'JJ'),\n",
              " ('highlight', 'NN'),\n",
              " (',', ','),\n",
              " ('especially', 'RB'),\n",
              " ('mcculloch', 'VBP'),\n",
              " (\"'s\", 'POS'),\n",
              " ('constant', 'JJ'),\n",
              " ('thwarting', 'NN'),\n",
              " ('of', 'IN'),\n",
              " ('ferrell', 'NN'),\n",
              " (\"'s\", 'POS'),\n",
              " ('attempts', 'NNS'),\n",
              " ('to', 'TO'),\n",
              " ('gather', 'VB'),\n",
              " ('information', 'NN'),\n",
              " ('from', 'IN'),\n",
              " ('the', 'DT'),\n",
              " ('girls', 'NNS'),\n",
              " ('(', '('),\n",
              " ('who', 'WP'),\n",
              " (',', ','),\n",
              " ('in', 'IN'),\n",
              " ('the', 'DT'),\n",
              " ('course', 'NN'),\n",
              " ('of', 'IN'),\n",
              " ('the', 'DT'),\n",
              " ('narrative', 'JJ'),\n",
              " ('are', 'VBP'),\n",
              " ('revealed', 'VBN'),\n",
              " ('as', 'IN'),\n",
              " ('deep', 'JJ'),\n",
              " ('throat', 'NN'),\n",
              " (',', ','),\n",
              " ('so', 'RB'),\n",
              " ('named', 'JJ'),\n",
              " ('thanks', 'NNS'),\n",
              " ('to', 'TO'),\n",
              " ('an', 'DT'),\n",
              " ('ill', 'NN'),\n",
              " ('planned', 'VBN'),\n",
              " ('trip', 'NN'),\n",
              " ('to', 'TO'),\n",
              " ('a', 'DT'),\n",
              " ('porno', 'NN'),\n",
              " ('theater', 'NN'),\n",
              " ('by', 'IN'),\n",
              " ('betsy', 'NN'),\n",
              " (\"'s\", 'POS'),\n",
              " ('brother', 'NN'),\n",
              " (')', ')'),\n",
              " ('.', '.'),\n",
              " ('the', 'DT'),\n",
              " ('other', 'JJ'),\n",
              " ('members', 'NNS'),\n",
              " ('of', 'IN'),\n",
              " ('the', 'DT'),\n",
              " ('cast', 'NN'),\n",
              " ('are', 'VBP'),\n",
              " ('excellent', 'VBN'),\n",
              " ('in', 'IN'),\n",
              " ('their', 'PRP$'),\n",
              " ('portrayals', 'NNS'),\n",
              " ('of', 'IN'),\n",
              " ('their', 'PRP$'),\n",
              " ('particular', 'JJ'),\n",
              " ('characters', 'NNS'),\n",
              " (',', ','),\n",
              " ('but', 'CC'),\n",
              " ('are', 'VBP'),\n",
              " ('given', 'VBN'),\n",
              " ('nothing', 'NN'),\n",
              " ('to', 'TO'),\n",
              " ('work', 'VB'),\n",
              " ('with', 'IN'),\n",
              " ('.', '.'),\n",
              " ('i', 'JJ'),\n",
              " (\"'d\", 'MD'),\n",
              " ('like', 'VB'),\n",
              " ('to', 'TO'),\n",
              " ('see', 'VB'),\n",
              " ('the', 'DT'),\n",
              " ('same', 'JJ'),\n",
              " ('cast', 'NN'),\n",
              " ('portray', 'NN'),\n",
              " ('these', 'DT'),\n",
              " ('characters', 'NNS'),\n",
              " ('in', 'IN'),\n",
              " ('a', 'DT'),\n",
              " ('script', 'NN'),\n",
              " ('more', 'RBR'),\n",
              " ('suited', 'JJ'),\n",
              " ('towards', 'NNS'),\n",
              " ('their', 'PRP$'),\n",
              " ('comedic', 'JJ'),\n",
              " ('abilities', 'NNS'),\n",
              " ('.', '.'),\n",
              " ('as', 'IN'),\n",
              " ('for', 'IN'),\n",
              " ('the', 'DT'),\n",
              " ('two', 'CD'),\n",
              " ('leads', 'NNS'),\n",
              " (',', ','),\n",
              " ('dunst', 'NN'),\n",
              " ('and', 'CC'),\n",
              " ('williams', 'NNS'),\n",
              " ('can', 'MD'),\n",
              " ('definitely', 'RB'),\n",
              " ('do', 'VB'),\n",
              " ('better', 'JJR'),\n",
              " ('.', '.'),\n",
              " ('they', 'PRP'),\n",
              " ('come', 'VBP'),\n",
              " ('off', 'RP'),\n",
              " ('as', 'IN'),\n",
              " ('what', 'WP'),\n",
              " ('could', 'MD'),\n",
              " ('best', 'RB'),\n",
              " ('be', 'VB'),\n",
              " ('described', 'VBN'),\n",
              " ('as', 'IN'),\n",
              " ('romy', 'NN'),\n",
              " ('and', 'CC'),\n",
              " ('michele', 'NN'),\n",
              " (':', ':'),\n",
              " ('the', 'DT'),\n",
              " ('early', 'JJ'),\n",
              " ('years', 'NNS'),\n",
              " ('in', 'IN'),\n",
              " ('this', 'DT'),\n",
              " ('particular', 'JJ'),\n",
              " ('film', 'NN'),\n",
              " (',', ','),\n",
              " ('a', 'DT'),\n",
              " ('highly', 'RB'),\n",
              " ('dubious', 'JJ'),\n",
              " ('distinction', 'NN'),\n",
              " ('at', 'IN'),\n",
              " ('best', 'JJS'),\n",
              " ('.', '.'),\n",
              " ('stay', 'VB'),\n",
              " ('through', 'IN'),\n",
              " ('the', 'DT'),\n",
              " ('first', 'JJ'),\n",
              " ('half', 'NN'),\n",
              " ('of', 'IN'),\n",
              " ('the', 'DT'),\n",
              " ('end', 'NN'),\n",
              " ('credits', 'VBZ'),\n",
              " ('though', 'IN'),\n",
              " (',', ','),\n",
              " ('to', 'TO'),\n",
              " ('see', 'VB'),\n",
              " ('an', 'DT'),\n",
              " ('interesting', 'JJ'),\n",
              " ('scene', 'NN'),\n",
              " ('involving', 'VBG'),\n",
              " ('dunst', 'NN'),\n",
              " ('and', 'CC'),\n",
              " ('williams', 'NNS'),\n",
              " ('suggestively', 'RB'),\n",
              " ('sucking', 'VBG'),\n",
              " ('on', 'IN'),\n",
              " ('lollipops', 'NNS'),\n",
              " ('emblazoned', 'VBN'),\n",
              " ('with', 'IN'),\n",
              " ('the', 'DT'),\n",
              " ('title', 'NN'),\n",
              " ('of', 'IN'),\n",
              " ('the', 'DT'),\n",
              " ('movie', 'NN'),\n",
              " ('.', '.'),\n",
              " ('an', 'DT'),\n",
              " ('excellent', 'JJ'),\n",
              " ('idea', 'NN'),\n",
              " ('marred', 'VBN'),\n",
              " ('by', 'IN'),\n",
              " ('poor', 'JJ'),\n",
              " ('execution', 'NN'),\n",
              " (',', ','),\n",
              " ('dick', 'NN'),\n",
              " ('could', 'MD'),\n",
              " ('have', 'VB'),\n",
              " ('been', 'VBN'),\n",
              " ('a', 'DT'),\n",
              " ('great', 'JJ'),\n",
              " ('movie', 'NN'),\n",
              " ('.', '.'),\n",
              " ('less', 'JJR'),\n",
              " ('of', 'IN'),\n",
              " ('the', 'DT'),\n",
              " ('juvenile', 'NN'),\n",
              " ('humor', 'NN'),\n",
              " ('and', 'CC'),\n",
              " ('more', 'JJR'),\n",
              " ('of', 'IN'),\n",
              " ('the', 'DT'),\n",
              " ('smarter', 'NN'),\n",
              " ('comedy', 'NN'),\n",
              " ('displayed', 'VBN'),\n",
              " ('by', 'IN'),\n",
              " ('the', 'DT'),\n",
              " ('woodward', 'NN'),\n",
              " ('and', 'CC'),\n",
              " ('bernstein', 'NN'),\n",
              " ('scenes', 'NNS'),\n",
              " (',', ','),\n",
              " ('could', 'MD'),\n",
              " ('have', 'VB'),\n",
              " ('made', 'VBN'),\n",
              " ('this', 'DT'),\n",
              " ('film', 'NN'),\n",
              " ('a', 'DT'),\n",
              " ('wonderful', 'JJ'),\n",
              " ('satire', 'NN'),\n",
              " ('of', 'IN'),\n",
              " ('the', 'DT'),\n",
              " ('nixon', 'JJ'),\n",
              " ('presidency', 'NN'),\n",
              " ('as', 'IN'),\n",
              " ('seen', 'VBN'),\n",
              " ('through', 'IN'),\n",
              " ('the', 'DT'),\n",
              " ('eyes', 'NNS'),\n",
              " ('of', 'IN'),\n",
              " ('two', 'CD'),\n",
              " ('naive', 'JJ'),\n",
              " ('fifteen', 'JJ'),\n",
              " ('year', 'NN'),\n",
              " ('olds', 'NNS'),\n",
              " ('.', '.'),\n",
              " ('as', 'IN'),\n",
              " ('it', 'PRP'),\n",
              " ('stands', 'VBZ'),\n",
              " ('though', 'IN'),\n",
              " (',', ','),\n",
              " ('dick', 'JJ'),\n",
              " ('offers', 'NNS'),\n",
              " ('nothing', 'NN'),\n",
              " ('but', 'CC'),\n",
              " ('what', 'WP'),\n",
              " ('filmmaker', 'NN'),\n",
              " ('kevin', 'NN'),\n",
              " ('smith', 'NN'),\n",
              " ('so', 'RB'),\n",
              " ('accurately', 'RB'),\n",
              " ('defines', 'VBZ'),\n",
              " ('as', 'IN'),\n",
              " ('``', '``'),\n",
              " ('dick', 'NN'),\n",
              " ('and', 'CC'),\n",
              " ('poopie', 'NN'),\n",
              " ('``', '``'),\n",
              " ('jokes', 'NNS'),\n",
              " ('.', '.'),\n",
              " ('and', 'CC'),\n",
              " ('that', 'IN'),\n",
              " (',', ','),\n",
              " ('to', 'TO'),\n",
              " ('me', 'PRP'),\n",
              " (',', ','),\n",
              " ('does', 'VBZ'),\n",
              " ('not', 'RB'),\n",
              " ('make', 'VB'),\n",
              " ('a', 'DT'),\n",
              " ('funny', 'JJ'),\n",
              " ('movie', 'NN'),\n",
              " ('.', '.'),\n",
              " ('[', 'JJ'),\n",
              " ('pg-13', 'JJ'),\n",
              " (']', 'NN')]"
            ]
          },
          "metadata": {},
          "execution_count": 33
        }
      ]
    },
    {
      "cell_type": "markdown",
      "source": [
        "### **5. Lemmatization**\n",
        "\n",
        "PorterStemmer class chops off the suffixes from the word but this isn't the best thing to apply to clean our data.\n",
        "\n",
        "Stemming technique only looks at the form of the word whereas Lemmatization technique looks at the meaning of the word. It means after applying lemmatization, we will always get a valid word."
      ],
      "metadata": {
        "id": "NrFml-IJepQ0"
      }
    },
    {
      "cell_type": "code",
      "source": [
        "#import package\n",
        "from nltk.stem import WordNetLemmatizer\n",
        "import nltk\n",
        "nltk.download('wordnet')"
      ],
      "metadata": {
        "id": "xWF0Ibznetk6",
        "colab": {
          "base_uri": "https://localhost:8080/"
        },
        "outputId": "d5a49ff3-6481-4923-d3df-81f1bbd8f62f"
      },
      "execution_count": 16,
      "outputs": [
        {
          "output_type": "stream",
          "name": "stderr",
          "text": [
            "[nltk_data] Downloading package wordnet to /root/nltk_data...\n"
          ]
        },
        {
          "output_type": "execute_result",
          "data": {
            "text/plain": [
              "True"
            ]
          },
          "metadata": {},
          "execution_count": 16
        }
      ]
    },
    {
      "cell_type": "code",
      "source": [
        "#lemmatize 'believes', 'happiness'\n",
        "lemma = WordNetLemmatizer()\n",
        "print(lemma.lemmatize('believes', 'v'))\n",
        "print(lemma.lemmatize('happiness', 'n'))"
      ],
      "metadata": {
        "id": "C-abWCqffiwP",
        "colab": {
          "base_uri": "https://localhost:8080/"
        },
        "outputId": "906e36be-93e1-46a4-d35b-b478a6c6a197"
      },
      "execution_count": 20,
      "outputs": [
        {
          "output_type": "stream",
          "name": "stdout",
          "text": [
            "believe\n",
            "happiness\n"
          ]
        }
      ]
    }
  ]
}