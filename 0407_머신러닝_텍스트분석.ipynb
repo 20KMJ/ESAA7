{
  "nbformat": 4,
  "nbformat_minor": 0,
  "metadata": {
    "colab": {
      "provenance": [],
      "collapsed_sections": [
        "lH0WA7d_UB0R",
        "vAplOGG9UFKn",
        "7OYfqibsUOBW"
      ],
      "authorship_tag": "ABX9TyN1+RPljMxlpsumYu5sA0c8",
      "include_colab_link": true
    },
    "kernelspec": {
      "name": "python3",
      "display_name": "Python 3"
    },
    "language_info": {
      "name": "python"
    }
  },
  "cells": [
    {
      "cell_type": "markdown",
      "metadata": {
        "id": "view-in-github",
        "colab_type": "text"
      },
      "source": [
        "<a href=\"https://colab.research.google.com/github/20KMJ/ESAA7/blob/main/0407_%EB%A8%B8%EC%8B%A0%EB%9F%AC%EB%8B%9D_%ED%85%8D%EC%8A%A4%ED%8A%B8%EB%B6%84%EC%84%9D.ipynb\" target=\"_parent\"><img src=\"https://colab.research.google.com/assets/colab-badge.svg\" alt=\"Open In Colab\"/></a>"
      ]
    },
    {
      "cell_type": "markdown",
      "source": [
        "# **CH8. 텍스트 분석**"
      ],
      "metadata": {
        "id": "1fiTgiM7e3gq"
      }
    },
    {
      "cell_type": "markdown",
      "source": [
        "### **NLP이냐 텍스트 분석이냐?**"
      ],
      "metadata": {
        "id": "hlSm9RFkSukV"
      }
    },
    {
      "cell_type": "markdown",
      "source": [
        "**NLP(National Language Processing)**\n",
        "- 머신<-인간의 언어 이해 및 해석에 중점\n",
        "- 텍스트 분석을 향상하게 하는 기반 기술\n",
        "\n",
        "**텍스트 분석**\n",
        "- 비정형 텍스트에서 의미 있는 정보를 추출하는 것에 중점\n",
        "- 텍스트 분류, 감성 분석, 텍스트 요약, 텍스트 군집화와 유사도 측정"
      ],
      "metadata": {
        "id": "OZ5m_vTcbofC"
      }
    },
    {
      "cell_type": "markdown",
      "source": [
        "## **01. 텍스트 분석 이해**"
      ],
      "metadata": {
        "id": "fpDPKrV1S3-t"
      }
    },
    {
      "cell_type": "markdown",
      "source": [
        "- 비정형 텍스트 데이터를 어떻게 피처 형태로 추출하고 추출된 피처에 의미 있는 값을 부여하는가가 매우 중요한 요소\n",
        "- **피처 벡터화/추출**: 텍스트를 word(또는 word의 일부분) 기반의 다수의 피처로 추출하고 이 피처에 단어 빈도수와 같은 숫자 값을 부여하여 텍스트를 단어의 조합인 벡터값으로 표현하여 텍스트를 변환하는 것 (BOW, Word2Vec 방법 등)"
      ],
      "metadata": {
        "id": "m7hKfJvleqkz"
      }
    },
    {
      "cell_type": "markdown",
      "source": [
        "### **1-1. 텍스트 분석 수행 프로세스**"
      ],
      "metadata": {
        "id": "WfJtduvKS9sD"
      }
    },
    {
      "cell_type": "markdown",
      "source": [
        "1. 텍스트 사전 준비작업(텍스트 전처리)\n",
        "2. 피처 벡터화/추출\n",
        "3. ML 모델 수립 및 학습/예측/평가"
      ],
      "metadata": {
        "id": "0yZ2sX09eXO_"
      }
    },
    {
      "cell_type": "markdown",
      "source": [
        "### **1-2. 파이썬 기반의 NLP, 텍스트 분석 패키지**"
      ],
      "metadata": {
        "id": "0JZF9sYcTFRT"
      }
    },
    {
      "cell_type": "markdown",
      "source": [
        "- NTLK, Gensim, SpaCy"
      ],
      "metadata": {
        "id": "nX6a16QjgQ9B"
      }
    },
    {
      "cell_type": "markdown",
      "source": [
        "## **02. 텍스트 사전 준비 작업(텍스트 전처리) - 텍스트 정규화**"
      ],
      "metadata": {
        "id": "-tqQitUcTIwv"
      }
    },
    {
      "cell_type": "markdown",
      "source": [
        "- **텍스트 정규화**: 클렌징, 토큰화, 필터링/스톱 워드 제거/철자 수정, Stemming, Lemmatization"
      ],
      "metadata": {
        "id": "h-TbxQcdgm6v"
      }
    },
    {
      "cell_type": "markdown",
      "source": [
        "### **2-1. 클렌징**"
      ],
      "metadata": {
        "id": "S9uexnRSTR_r"
      }
    },
    {
      "cell_type": "markdown",
      "source": [
        "- 텍스트 분석에 방해가 되는 불필요한 문자, 기호 제거\n",
        "- 예) HTML, XML 태그나 특정 기호"
      ],
      "metadata": {
        "id": "58LO_sJHg_BN"
      }
    },
    {
      "cell_type": "markdown",
      "source": [
        "### **2-2. 텍스트 토큰화**"
      ],
      "metadata": {
        "id": "d8ZFDLfHTwb_"
      }
    },
    {
      "cell_type": "markdown",
      "source": [
        "#### 2-2-1. 문장 토큰화"
      ],
      "metadata": {
        "id": "M2jj1yHnTye4"
      }
    },
    {
      "cell_type": "markdown",
      "source": [
        "- 문서에서 문장 분리"
      ],
      "metadata": {
        "id": "X0c2kcxkhMQb"
      }
    },
    {
      "cell_type": "code",
      "source": [
        "from nltk import sent_tokenize\n",
        "import nltk\n",
        "nltk.download('punkt')\n",
        "\n",
        "text_sample = 'The Matrix is everywhere its all around us, here even in this room. \\\n",
        "You can see it out your window or on your television. \\\n",
        "You feel it when you go to work, or go to church or pay tour taxes.'\n",
        "sentences = sent_tokenize(text=text_sample)\n",
        "\n",
        "print(type(sentences), len(sentences))\n",
        "print(sentences)"
      ],
      "metadata": {
        "colab": {
          "base_uri": "https://localhost:8080/"
        },
        "id": "CLGmvnr7Wezy",
        "outputId": "2bdc79e1-e47c-4503-9b92-88fd20e154a5"
      },
      "execution_count": null,
      "outputs": [
        {
          "output_type": "stream",
          "name": "stderr",
          "text": [
            "[nltk_data] Downloading package punkt to /root/nltk_data...\n",
            "[nltk_data]   Unzipping tokenizers/punkt.zip.\n"
          ]
        },
        {
          "output_type": "stream",
          "name": "stdout",
          "text": [
            "<class 'list'> 3\n",
            "['The Matrix is everywhere its all around us, here even in this room.', 'You can see it out your window or on your television.', 'You feel it when you go to work, or go to church or pay tour taxes.']\n"
          ]
        }
      ]
    },
    {
      "cell_type": "markdown",
      "source": [
        "#### 2-2-2. 단어 토큰화"
      ],
      "metadata": {
        "id": "NBP7JLEzTz1r"
      }
    },
    {
      "cell_type": "markdown",
      "source": [
        "- 문장에서 단어를 토큰으로 분리"
      ],
      "metadata": {
        "id": "dbHKmKMahObc"
      }
    },
    {
      "cell_type": "code",
      "source": [
        "from nltk import word_tokenize\n",
        "\n",
        "sentence = \"The Matrix is everywhere its all around us, here even in this room.\"\n",
        "words = word_tokenize(sentence)\n",
        "print(type(words), len(words))\n",
        "print(words)"
      ],
      "metadata": {
        "colab": {
          "base_uri": "https://localhost:8080/"
        },
        "id": "SVFhX5BGW_YA",
        "outputId": "ba236e3d-a8fd-4159-903d-5b5a2c6262ef"
      },
      "execution_count": null,
      "outputs": [
        {
          "output_type": "stream",
          "name": "stdout",
          "text": [
            "<class 'list'> 15\n",
            "['The', 'Matrix', 'is', 'everywhere', 'its', 'all', 'around', 'us', ',', 'here', 'even', 'in', 'this', 'room', '.']\n"
          ]
        }
      ]
    },
    {
      "cell_type": "code",
      "source": [
        "from nltk import word_tokenize, sent_tokenize\n",
        "\n",
        "# 여러 개의 문장으로 된 입력 데이터를 문장별로 단어 토큰화하게 만드는 함수 생성\n",
        "def tokenize_text(text):\n",
        "\n",
        "  # 문장별로 분리 토큰\n",
        "  sentences = sent_tokenize(text)\n",
        "  # 분리된 문장별 단어 토큰화\n",
        "  word_tokens = [word_tokenize(sentence) for sentence in sentences]\n",
        "  return word_tokens\n",
        "\n",
        "# 여러 문장에 대해 문장별 단어 토큰화 수행.\n",
        "word_tokens = tokenize_text(text_sample)\n",
        "print(type(word_tokens), len(word_tokens))\n",
        "print(word_tokens)"
      ],
      "metadata": {
        "colab": {
          "base_uri": "https://localhost:8080/"
        },
        "id": "GOP57WmeXN9S",
        "outputId": "60c177fa-236e-49b1-bc4d-b41186b50e3b"
      },
      "execution_count": null,
      "outputs": [
        {
          "output_type": "stream",
          "name": "stdout",
          "text": [
            "<class 'list'> 3\n",
            "[['The', 'Matrix', 'is', 'everywhere', 'its', 'all', 'around', 'us', ',', 'here', 'even', 'in', 'this', 'room', '.'], ['You', 'can', 'see', 'it', 'out', 'your', 'window', 'or', 'on', 'your', 'television', '.'], ['You', 'feel', 'it', 'when', 'you', 'go', 'to', 'work', ',', 'or', 'go', 'to', 'church', 'or', 'pay', 'tour', 'taxes', '.']]\n"
          ]
        }
      ]
    },
    {
      "cell_type": "markdown",
      "source": [
        "### **2-3. 스톱 워드 제거**"
      ],
      "metadata": {
        "id": "coeiJc-bT10I"
      }
    },
    {
      "cell_type": "markdown",
      "source": [
        "- **스톱 워드(Stop word)**: 분석에 큰 의미가 없는 단어\n",
        "- 예) is, the, a, will"
      ],
      "metadata": {
        "id": "edrnzMcGiVN4"
      }
    },
    {
      "cell_type": "code",
      "source": [
        "# stopwords 목록 다운\n",
        "import nltk\n",
        "nltk.download('stopwords')"
      ],
      "metadata": {
        "colab": {
          "base_uri": "https://localhost:8080/"
        },
        "id": "ozA56TqeXqRJ",
        "outputId": "cc7388bf-d566-4f26-f75b-87c8f6dbc59c"
      },
      "execution_count": null,
      "outputs": [
        {
          "output_type": "stream",
          "name": "stderr",
          "text": [
            "[nltk_data] Downloading package stopwords to /root/nltk_data...\n",
            "[nltk_data]   Unzipping corpora/stopwords.zip.\n"
          ]
        },
        {
          "output_type": "execute_result",
          "data": {
            "text/plain": [
              "True"
            ]
          },
          "metadata": {},
          "execution_count": 4
        }
      ]
    },
    {
      "cell_type": "code",
      "source": [
        "print('영어 stop words 개수:', len(nltk.corpus.stopwords.words('english')))\n",
        "print(nltk.corpus.stopwords.words('english')[:20])"
      ],
      "metadata": {
        "colab": {
          "base_uri": "https://localhost:8080/"
        },
        "id": "1fzXbImAXs4u",
        "outputId": "bf47287f-a427-4603-d811-c8561e5a7202"
      },
      "execution_count": null,
      "outputs": [
        {
          "output_type": "stream",
          "name": "stdout",
          "text": [
            "영어 stop words 개수: 179\n",
            "['i', 'me', 'my', 'myself', 'we', 'our', 'ours', 'ourselves', 'you', \"you're\", \"you've\", \"you'll\", \"you'd\", 'your', 'yours', 'yourself', 'yourselves', 'he', 'him', 'his']\n"
          ]
        }
      ]
    },
    {
      "cell_type": "code",
      "source": [
        "import nltk\n",
        "\n",
        "stopwords = nltk.corpus.stopwords.words('english')\n",
        "all_tokens = []\n",
        "# 위 예제에서 3개의 문장별로 얻은 word_tokens list에 대해 스톱 워드를 제거하는 반복문\n",
        "for sentence in word_tokens:\n",
        "  filtered_words=[]\n",
        "  # 개별 문장별로 토큰화된 문장 list에 대해 스톱 워드를 제거하는 반복문\n",
        "  for word in sentence:\n",
        "    # 소문자로 모두 변환합니다.\n",
        "    word = word.lower()\n",
        "    # 토큰화된 개별 단어가 스톱 워드의 단어에 포함되지 않으면 word_tokens에 추가\n",
        "    if word not in stopwords:\n",
        "      filtered_words.append(word)\n",
        "  all_tokens.append(filtered_words)\n",
        "\n",
        "print(all_tokens)"
      ],
      "metadata": {
        "colab": {
          "base_uri": "https://localhost:8080/"
        },
        "id": "V5Q18lWiX1UP",
        "outputId": "3794bcfe-37d5-4e2e-c9b3-06db676b819b"
      },
      "execution_count": null,
      "outputs": [
        {
          "output_type": "stream",
          "name": "stdout",
          "text": [
            "[['matrix', 'everywhere', 'around', 'us', ',', 'even', 'room', '.'], ['see', 'window', 'television', '.'], ['feel', 'go', 'work', ',', 'go', 'church', 'pay', 'tour', 'taxes', '.']]\n"
          ]
        }
      ]
    },
    {
      "cell_type": "markdown",
      "source": [
        "### **2-4. Stemming과 Lemmatization**"
      ],
      "metadata": {
        "id": "5MIVCS_fT5aI"
      }
    },
    {
      "cell_type": "markdown",
      "source": [
        "**Stemming**\n",
        "- 원래 단어에서 일부 철자가 훼손된 어근 단어를 추출하는 경향\n",
        "- Porter, Lancaster, Snowball Stemmer\n",
        "\n",
        "**Lemmatization**\n",
        "- 품사, 의미 등 고려하여 정확한 철자로 된 어근 단어 찾아줌\n",
        "- WordNetLemmatizer"
      ],
      "metadata": {
        "id": "dUHiTynjjPnv"
      }
    },
    {
      "cell_type": "code",
      "source": [
        "# Stemming\n",
        "from nltk.stem import LancasterStemmer\n",
        "stemmer = LancasterStemmer()\n",
        "\n",
        "print(stemmer.stem('working'), stemmer.stem('works'), stemmer.stem('worked'))\n",
        "print(stemmer.stem('amusing'), stemmer.stem('amuses'), stemmer.stem('amused'))\n",
        "print(stemmer.stem('happier'), stemmer.stem('happiest'))\n",
        "print(stemmer.stem('fancier'), stemmer.stem('fanciest'))"
      ],
      "metadata": {
        "colab": {
          "base_uri": "https://localhost:8080/"
        },
        "id": "_JfPam94YYKg",
        "outputId": "8c4f0be9-314d-43c0-dbfb-282499c282d1"
      },
      "execution_count": null,
      "outputs": [
        {
          "output_type": "stream",
          "name": "stdout",
          "text": [
            "work work work\n",
            "amus amus amus\n",
            "happy happiest\n",
            "fant fanciest\n"
          ]
        }
      ]
    },
    {
      "cell_type": "code",
      "source": [
        "# Lemmatization\n",
        "from nltk.stem import WordNetLemmatizer\n",
        "import nltk\n",
        "nltk.download('wordnet')\n",
        "\n",
        "## 동사:v, 형용사:a\n",
        "lemma = WordNetLemmatizer()\n",
        "print(lemma.lemmatize('amusing', 'v'), lemma.lemmatize('amuses', 'v'), lemma.lemmatize('amused', 'v'))\n",
        "print(lemma.lemmatize('happier', 'a'), lemma.lemmatize('happiest', 'a'))\n",
        "print(lemma.lemmatize('fancier', 'a'), lemma.lemmatize('fanciest', 'a'))"
      ],
      "metadata": {
        "colab": {
          "base_uri": "https://localhost:8080/"
        },
        "id": "axo2cnLkY38w",
        "outputId": "6ea39075-327e-4214-ef7c-eabb931f570c"
      },
      "execution_count": null,
      "outputs": [
        {
          "output_type": "stream",
          "name": "stdout",
          "text": [
            "amuse amuse amuse\n",
            "happy happy\n",
            "fancy fancy\n"
          ]
        },
        {
          "output_type": "stream",
          "name": "stderr",
          "text": [
            "[nltk_data] Downloading package wordnet to /root/nltk_data...\n",
            "[nltk_data]   Package wordnet is already up-to-date!\n"
          ]
        }
      ]
    },
    {
      "cell_type": "markdown",
      "source": [
        "## **03. Bag of Words - BOW**"
      ],
      "metadata": {
        "id": "1Gy9730vT9Vg"
      }
    },
    {
      "cell_type": "markdown",
      "source": [
        "**Bag of Words**\n",
        "- 문서가 가지는 모든 단어를 문맥이나 순서를 무시하고 일괄적으로 단어에 대해 빈도 값을 부여해 피처 값을 추출하는 모델\n",
        "- 장점: 쉽고 빠름. 문서의 특징 잘 표현\n",
        "- 단점: 문맥 의미 반영 부족, 희소 행렬 문제"
      ],
      "metadata": {
        "id": "R2sAJAx48SFm"
      }
    },
    {
      "cell_type": "markdown",
      "source": [
        "### **3-1. BOW 피처 벡터화**"
      ],
      "metadata": {
        "id": "lH0WA7d_UB0R"
      }
    },
    {
      "cell_type": "markdown",
      "source": [
        "- 모든 문서에서 모든 단어를 칼럼 형태로 나열하고 각 문서에서 해당 단어의 횟수나 정규화된 빈도를 값으로 부여하는 데이터 세트 모델로 변경하는 것\n",
        "- **카운트** 기반의 벡터화, **TF-IDF**(Term Frequency - Inverse Document Frequency) 기반의 벡터화"
      ],
      "metadata": {
        "id": "_OgZssCYHYuK"
      }
    },
    {
      "cell_type": "markdown",
      "source": [
        "### **3-2. 사이킷런의 Count 및 TF-IDF 벡터화 구현: CountVectorizer, TfidfVectorizer**"
      ],
      "metadata": {
        "id": "vAplOGG9UFKn"
      }
    },
    {
      "cell_type": "markdown",
      "source": [
        "1. 사전 데이터 가공: 소문자 변환\n",
        "2. 토큰화\n",
        "3. 텍스트 정규화: Stop Words 필터링\n",
        "4. 피처 벡터화"
      ],
      "metadata": {
        "id": "T4gKoe6vJAUg"
      }
    },
    {
      "cell_type": "markdown",
      "source": [
        "### **3-3. BOW 벡터화를 위한 희소 행렬**"
      ],
      "metadata": {
        "id": "7OYfqibsUOBW"
      }
    },
    {
      "cell_type": "markdown",
      "source": [
        "- **희소 행렬**: 대부분의 값이 0으로 채워지는 행렬\n",
        "- 희소 행렬 변환: **COO** 형식, **CSR** 형식"
      ],
      "metadata": {
        "id": "7h8m2Z0uJaEV"
      }
    },
    {
      "cell_type": "markdown",
      "source": [
        "### **3-4. 희소 행렬 - COO 형식**"
      ],
      "metadata": {
        "id": "NAkcCrCAUT4n"
      }
    },
    {
      "cell_type": "code",
      "source": [
        "import numpy as np\n",
        "\n",
        "dense = np.array([[3,0,1],[0,2,0]])"
      ],
      "metadata": {
        "id": "jLDi4e35ZfeH"
      },
      "execution_count": 1,
      "outputs": []
    },
    {
      "cell_type": "code",
      "source": [
        "from scipy import sparse\n",
        "\n",
        "# 0이 아닌 데이터 추출\n",
        "data = np.array([3,1,2])\n",
        "\n",
        "# 행 위치와 열 위치를 각각 배열로 생성\n",
        "row_pos = np.array([0,0,1])\n",
        "col_pos = np.array([0,2,1])\n",
        "\n",
        "# sparse 패키지의 coo_matrix를 이용해 COO 형식으로 희소 행렬 생성\n",
        "sparse_coo = sparse.coo_matrix((data, (row_pos, col_pos)))"
      ],
      "metadata": {
        "id": "tZbZpU0dZku5"
      },
      "execution_count": 2,
      "outputs": []
    },
    {
      "cell_type": "code",
      "source": [
        "# 밀집 행렬\n",
        "sparse_coo.toarray()"
      ],
      "metadata": {
        "id": "W2vRDKFJZ_5z",
        "colab": {
          "base_uri": "https://localhost:8080/"
        },
        "outputId": "d8ed95e0-892a-4b1d-f8c9-9475128c744f"
      },
      "execution_count": 3,
      "outputs": [
        {
          "output_type": "execute_result",
          "data": {
            "text/plain": [
              "array([[3, 0, 1],\n",
              "       [0, 2, 0]])"
            ]
          },
          "metadata": {},
          "execution_count": 3
        }
      ]
    },
    {
      "cell_type": "markdown",
      "source": [
        "### **3-5. 희소 행렬 - CSR 형식**"
      ],
      "metadata": {
        "id": "2EueLG7qUYVA"
      }
    },
    {
      "cell_type": "markdown",
      "source": [
        "- 주로 사용"
      ],
      "metadata": {
        "id": "alzif85pJpO4"
      }
    },
    {
      "cell_type": "code",
      "source": [
        "from scipy import sparse\n",
        "\n",
        "dense2 = np.array([[0,0,1,0,0,5],\n",
        "                   [1,4,0,3,2,5],\n",
        "                   [0,6,0,3,0,0],\n",
        "                   [2,0,0,0,0,0],\n",
        "                   [0,0,0,7,0,8],\n",
        "                   [1,0,0,0,0,0]])\n",
        "\n",
        "# 0이 아닌 데이터 추출\n",
        "data2 = np.array([1,5,1,4,3,2,5,6,3,2,7,8,1])\n",
        "\n",
        "# 행 위치와 열 위치를 각각 array로 생성\n",
        "row_pos = np.array([0,0,1,1,1,1,1,2,2,3,4,4,5])\n",
        "col_pos = np.array([2,5,0,1,3,4,5,1,3,0,3,5,0])\n",
        "\n",
        "# COO 형식으로 변환\n",
        "sparse_coo = sparse.coo_matrix((data2, (row_pos, col_pos)))\n",
        "\n",
        "# 행 위치 배열의 고유한 값의 시작 위치 인덱스를 배열로 생성\n",
        "row_pos_ind = np.array([0,2,7,9,10,12,13])\n",
        "\n",
        "# CSR 형식으로 변환\n",
        "sparse_csr = sparse.csr_matrix((data2, col_pos, row_pos_ind))\n",
        "\n",
        "print('COO 변환된 데이터가 제대로 되었는지 다시 Dense로 출력 확인')\n",
        "print(sparse_coo.toarray())\n",
        "print('CSR 변환된 데이터가 제대로 되었는지 다시 Dense로 출력 확인')\n",
        "print(sparse_csr.toarray())"
      ],
      "metadata": {
        "id": "cgTIjSNnaCFw",
        "colab": {
          "base_uri": "https://localhost:8080/"
        },
        "outputId": "066dce49-cdc7-4ae5-d859-78a8d5b91a97"
      },
      "execution_count": 5,
      "outputs": [
        {
          "output_type": "stream",
          "name": "stdout",
          "text": [
            "COO 변환된 데이터가 제대로 되었는지 다시 Dense로 출력 확인\n",
            "[[0 0 1 0 0 5]\n",
            " [1 4 0 3 2 5]\n",
            " [0 6 0 3 0 0]\n",
            " [2 0 0 0 0 0]\n",
            " [0 0 0 7 0 8]\n",
            " [1 0 0 0 0 0]]\n",
            "CSR 변환된 데이터가 제대로 되었는지 다시 Dense로 출력 확인\n",
            "[[0 0 1 0 0 5]\n",
            " [1 4 0 3 2 5]\n",
            " [0 6 0 3 0 0]\n",
            " [2 0 0 0 0 0]\n",
            " [0 0 0 7 0 8]\n",
            " [1 0 0 0 0 0]]\n"
          ]
        }
      ]
    },
    {
      "cell_type": "markdown",
      "source": [
        "#### **실제 사용 시에는 아래 코드처럼**"
      ],
      "metadata": {
        "id": "d5pKw7BsK-Dc"
      }
    },
    {
      "cell_type": "code",
      "source": [
        "dense3 = np.array([[0,0,1,0,0,5],\n",
        "                   [1,4,0,3,2,5],\n",
        "                   [0,6,0,3,0,0],\n",
        "                   [2,0,0,0,0,0],\n",
        "                   [0,0,0,7,0,8],\n",
        "                   [1,0,0,0,0,0]])\n",
        "\n",
        "coo = sparse.coo_matrix(dense3) # COO 형식\n",
        "csr = sparse.csr_matrix(dense3) # CSR 형식"
      ],
      "metadata": {
        "id": "tmhKbIJ8a5PA"
      },
      "execution_count": 9,
      "outputs": []
    }
  ]
}